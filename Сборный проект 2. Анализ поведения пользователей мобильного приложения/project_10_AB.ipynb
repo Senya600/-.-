{
 "cells": [
  {
   "cell_type": "markdown",
   "metadata": {},
   "source": [
    "# Проект: Анализ поведения пользователей мобильного приложения"
   ]
  },
  {
   "cell_type": "markdown",
   "metadata": {},
   "source": [
    "<b>Описание проекта:</b>\n",
    "\n",
    "Мы работаем в стартапе, который продаёт продукты питания. Нужно разобраться, как ведут себя пользователи вашего мобильного приложения.\n",
    "\n",
    "Изучите воронку продаж. Узнайте, как пользователи доходят до покупки. Сколько пользователей доходит до покупки, а сколько — «застревает» на предыдущих шагах? На каких именно?\n",
    "\n",
    "После этого исследуйте результаты A/A/B-эксперимента. Дизайнеры захотели поменять шрифты во всём приложении, а менеджеры испугались, что пользователям будет непривычно. Договорились принять решение по результатам A/A/B-теста. Пользователей разбили на 3 группы: 2 контрольные со старыми шрифтами и одну экспериментальную — с новыми. Выясните, какой шрифт лучше. Создание двух групп A вместо одной имеет определённые преимущества. Если две контрольные группы окажутся равны, вы можете быть уверены в точности проведенного тестирования. Если же между значениями A и A будут существенные различия, это поможет обнаружить факторы, которые привели к искажению результатов. Сравнение контрольных групп также помогает понять, сколько времени и данных потребуется для дальнейших тестов.\n",
    "\n",
    "В случае общей аналитики и A/A/B-эксперимента работайте с одними и теми же данными. В реальных проектах всегда идут эксперименты. Аналитики исследуют качество работы приложения по общим данным, не учитывая принадлежность пользователей к экспериментам.\n",
    "\n",
    "<b>Описание данных:</b>\n",
    "\n",
    "    EventName — название события;\n",
    "    DeviceIDHash — уникальный идентификатор пользователя;\n",
    "    EventTimestamp — время события;\n",
    "    ExpId — номер эксперимента: 246 и 247 — контрольные группы, а 248 — экспериментальная.\n",
    "\n",
    "<b>План проекта:</b>\n",
    "\n",
    "Шаг 1. Откройте файл с данными и изучите общую информацию\n",
    "\n",
    "    - Путь к файлу: /datasets/logs_exp.csv.\n",
    "\n",
    "Шаг 2. Подготовьте данные\n",
    "\n",
    "    - Замените названия столбцов на удобные для вас;\n",
    "    - Проверьте пропуски и типы данных. Откорректируйте, если нужно;\n",
    "    - Добавьте столбец даты и времени, а также отдельный столбец дат;\n",
    "\n",
    "Шаг 3. Изучите и проверьте данные\n",
    "\n",
    "    - Сколько всего событий в логе?\n",
    "    - Сколько всего пользователей в логе?\n",
    "    - Сколько в среднем событий приходится на пользователя?\n",
    "    - Данными за какой период вы располагаете? Найдите максимальную и минимальную дату. Изучите,\n",
    "    как меняется количество данных: постройте столбчатую диаграмму, которая отобразит количество событий\n",
    "    в зависимости от времени в разрезе групп. Можно ли быть уверенным, что у вас одинаково полные данные за весь период?\n",
    "    Технически в логи новых дней по некоторым пользователям могут «доезжать» события из прошлого — это может «перекашивать\n",
    "    данные». Определите, с какого момента данные полные и отбросьте более старые. Данными за какой период времени вы\n",
    "    располагаете на самом деле?\n",
    "    - Много ли событий и пользователей вы потеряли, отбросив старые данные?\n",
    "    - Проверьте, что у вас есть пользователи из всех трёх экспериментальных групп.\n",
    "\n",
    "Шаг 4. Изучите воронку событий\n",
    "\n",
    "    - Посмотрите, какие события есть в логах, как часто они встречаются. Отсортируйте события по частоте.\n",
    "    - Посчитайте, сколько пользователей совершали каждое из этих событий. Отсортируйте события по числу пользователей.\n",
    "    Посчитайте долю пользователей, которые хоть раз совершали событие.\n",
    "    - Предположите, в каком порядке происходят события. Все ли они выстраиваются в последовательную цепочку? Их не нужно \n",
    "    учитывать при расчёте воронки.\n",
    "    - По воронке событий посчитайте, какая доля пользователей проходит на следующий шаг воронки (от числа пользователей на\n",
    "    предыдущем). То есть для последовательности событий A → B → C посчитайте отношение числа пользователей с событием B к\n",
    "    количеству пользователей с событием A, а также отношение числа пользователей с событием C к количеству пользователей с\n",
    "    событием B.\n",
    "    - На каком шаге теряете больше всего пользователей?\n",
    "    - Какая доля пользователей доходит от первого события до оплаты?\n",
    "\n",
    "Шаг 5. Изучите результаты эксперимента\n",
    "\n",
    "    - Сколько пользователей в каждой экспериментальной группе?\n",
    "    - Есть 2 контрольные группы для А/А-эксперимента, чтобы проверить корректность всех механизмов и расчётов.\n",
    "    Проверьте, находят ли статистические критерии разницу между выборками 246 и 247.\n",
    "    - Выберите самое популярное событие. Посчитайте число пользователей, совершивших это событие в каждой\n",
    "    из контрольных групп. Посчитайте долю пользователей, совершивших это событие. Проверьте, будет ли отличие\n",
    "    между группами статистически достоверным. Проделайте то же самое для всех других событий (удобно обернуть проверку\n",
    "    в отдельную функцию).Можно ли сказать, что разбиение на группы работает корректно?\n",
    "    - Аналогично поступите с группой с изменённым шрифтом. Сравните результаты с каждой из контрольных групп \n",
    "    в отдельности по каждому событию. Сравните результаты с объединённой контрольной группой. Какие выводы из\n",
    "    эксперимента можно сделать?\n",
    "    - Какой уровень значимости вы выбрали при проверке статистических гипотез выше? Посчитайте, сколько проверок\n",
    "    статистических гипотез вы сделали. При уровне значимости 0.1 в 10% случаев можно ошибочно отклонить нулевую гипотезу\n",
    "    при условии, что она верна. Какой уровень значимости стоит применить? Если вы хотите изменить его, проделайте\n",
    "    предыдущие пункты и проверьте свои выводы."
   ]
  },
  {
   "cell_type": "markdown",
   "metadata": {},
   "source": [
    "## Обзор данных"
   ]
  },
  {
   "cell_type": "code",
   "execution_count": 40,
   "metadata": {},
   "outputs": [],
   "source": [
    "import pandas as pd\n",
    "import matplotlib.pyplot as plt\n",
    "from matplotlib.pyplot import figure\n",
    "import numpy as np\n",
    "from scipy import stats as st\n",
    "import datetime as dt\n",
    "import plotly.express as px\n",
    "import math as mth\n",
    "import plotly.graph_objects as go"
   ]
  },
  {
   "cell_type": "code",
   "execution_count": 41,
   "metadata": {},
   "outputs": [
    {
     "data": {
      "text/html": [
       "<div>\n",
       "<style scoped>\n",
       "    .dataframe tbody tr th:only-of-type {\n",
       "        vertical-align: middle;\n",
       "    }\n",
       "\n",
       "    .dataframe tbody tr th {\n",
       "        vertical-align: top;\n",
       "    }\n",
       "\n",
       "    .dataframe thead th {\n",
       "        text-align: right;\n",
       "    }\n",
       "</style>\n",
       "<table border=\"1\" class=\"dataframe\">\n",
       "  <thead>\n",
       "    <tr style=\"text-align: right;\">\n",
       "      <th></th>\n",
       "      <th>EventName</th>\n",
       "      <th>DeviceIDHash</th>\n",
       "      <th>EventTimestamp</th>\n",
       "      <th>ExpId</th>\n",
       "    </tr>\n",
       "  </thead>\n",
       "  <tbody>\n",
       "    <tr>\n",
       "      <th>0</th>\n",
       "      <td>MainScreenAppear</td>\n",
       "      <td>4575588528974610257</td>\n",
       "      <td>1564029816</td>\n",
       "      <td>246</td>\n",
       "    </tr>\n",
       "    <tr>\n",
       "      <th>1</th>\n",
       "      <td>MainScreenAppear</td>\n",
       "      <td>7416695313311560658</td>\n",
       "      <td>1564053102</td>\n",
       "      <td>246</td>\n",
       "    </tr>\n",
       "    <tr>\n",
       "      <th>2</th>\n",
       "      <td>PaymentScreenSuccessful</td>\n",
       "      <td>3518123091307005509</td>\n",
       "      <td>1564054127</td>\n",
       "      <td>248</td>\n",
       "    </tr>\n",
       "    <tr>\n",
       "      <th>3</th>\n",
       "      <td>CartScreenAppear</td>\n",
       "      <td>3518123091307005509</td>\n",
       "      <td>1564054127</td>\n",
       "      <td>248</td>\n",
       "    </tr>\n",
       "    <tr>\n",
       "      <th>4</th>\n",
       "      <td>PaymentScreenSuccessful</td>\n",
       "      <td>6217807653094995999</td>\n",
       "      <td>1564055322</td>\n",
       "      <td>248</td>\n",
       "    </tr>\n",
       "  </tbody>\n",
       "</table>\n",
       "</div>"
      ],
      "text/plain": [
       "                 EventName         DeviceIDHash  EventTimestamp  ExpId\n",
       "0         MainScreenAppear  4575588528974610257      1564029816    246\n",
       "1         MainScreenAppear  7416695313311560658      1564053102    246\n",
       "2  PaymentScreenSuccessful  3518123091307005509      1564054127    248\n",
       "3         CartScreenAppear  3518123091307005509      1564054127    248\n",
       "4  PaymentScreenSuccessful  6217807653094995999      1564055322    248"
      ]
     },
     "metadata": {},
     "output_type": "display_data"
    }
   ],
   "source": [
    "data = pd.read_csv('/datasets/logs_exp.csv', sep='\\t')\n",
    "\n",
    "display(data.head(5))"
   ]
  },
  {
   "cell_type": "code",
   "execution_count": 42,
   "metadata": {},
   "outputs": [
    {
     "name": "stdout",
     "output_type": "stream",
     "text": [
      "<class 'pandas.core.frame.DataFrame'>\n",
      "RangeIndex: 244126 entries, 0 to 244125\n",
      "Data columns (total 4 columns):\n",
      " #   Column          Non-Null Count   Dtype \n",
      "---  ------          --------------   ----- \n",
      " 0   EventName       244126 non-null  object\n",
      " 1   DeviceIDHash    244126 non-null  int64 \n",
      " 2   EventTimestamp  244126 non-null  int64 \n",
      " 3   ExpId           244126 non-null  int64 \n",
      "dtypes: int64(3), object(1)\n",
      "memory usage: 7.5+ MB\n"
     ]
    }
   ],
   "source": [
    "data.info()"
   ]
  },
  {
   "cell_type": "markdown",
   "metadata": {},
   "source": [
    "Вывод по разделу: Загрузили и рассмотрели данные.\n",
    "\n",
    "Выявлено нарушение стиля в наименовании столбцов. Формат данных в столбце EventTimestamp не соотвествует формату datetime."
   ]
  },
  {
   "cell_type": "markdown",
   "metadata": {},
   "source": [
    "## Предобработка данных"
   ]
  },
  {
   "cell_type": "markdown",
   "metadata": {},
   "source": [
    "### Замените названия столбцов на удобные для вас"
   ]
  },
  {
   "cell_type": "code",
   "execution_count": 43,
   "metadata": {},
   "outputs": [
    {
     "data": {
      "text/html": [
       "<div>\n",
       "<style scoped>\n",
       "    .dataframe tbody tr th:only-of-type {\n",
       "        vertical-align: middle;\n",
       "    }\n",
       "\n",
       "    .dataframe tbody tr th {\n",
       "        vertical-align: top;\n",
       "    }\n",
       "\n",
       "    .dataframe thead th {\n",
       "        text-align: right;\n",
       "    }\n",
       "</style>\n",
       "<table border=\"1\" class=\"dataframe\">\n",
       "  <thead>\n",
       "    <tr style=\"text-align: right;\">\n",
       "      <th></th>\n",
       "      <th>event_name</th>\n",
       "      <th>user_id</th>\n",
       "      <th>event_time</th>\n",
       "      <th>group</th>\n",
       "    </tr>\n",
       "  </thead>\n",
       "  <tbody>\n",
       "    <tr>\n",
       "      <th>0</th>\n",
       "      <td>MainScreenAppear</td>\n",
       "      <td>4575588528974610257</td>\n",
       "      <td>1564029816</td>\n",
       "      <td>246</td>\n",
       "    </tr>\n",
       "    <tr>\n",
       "      <th>1</th>\n",
       "      <td>MainScreenAppear</td>\n",
       "      <td>7416695313311560658</td>\n",
       "      <td>1564053102</td>\n",
       "      <td>246</td>\n",
       "    </tr>\n",
       "    <tr>\n",
       "      <th>2</th>\n",
       "      <td>PaymentScreenSuccessful</td>\n",
       "      <td>3518123091307005509</td>\n",
       "      <td>1564054127</td>\n",
       "      <td>248</td>\n",
       "    </tr>\n",
       "    <tr>\n",
       "      <th>3</th>\n",
       "      <td>CartScreenAppear</td>\n",
       "      <td>3518123091307005509</td>\n",
       "      <td>1564054127</td>\n",
       "      <td>248</td>\n",
       "    </tr>\n",
       "    <tr>\n",
       "      <th>4</th>\n",
       "      <td>PaymentScreenSuccessful</td>\n",
       "      <td>6217807653094995999</td>\n",
       "      <td>1564055322</td>\n",
       "      <td>248</td>\n",
       "    </tr>\n",
       "  </tbody>\n",
       "</table>\n",
       "</div>"
      ],
      "text/plain": [
       "                event_name              user_id  event_time  group\n",
       "0         MainScreenAppear  4575588528974610257  1564029816    246\n",
       "1         MainScreenAppear  7416695313311560658  1564053102    246\n",
       "2  PaymentScreenSuccessful  3518123091307005509  1564054127    248\n",
       "3         CartScreenAppear  3518123091307005509  1564054127    248\n",
       "4  PaymentScreenSuccessful  6217807653094995999  1564055322    248"
      ]
     },
     "execution_count": 43,
     "metadata": {},
     "output_type": "execute_result"
    }
   ],
   "source": [
    "data.columns = ['event_name', 'user_id', 'event_time', 'group']\n",
    "\n",
    "data.head()"
   ]
  },
  {
   "cell_type": "markdown",
   "metadata": {},
   "source": [
    "### Проверьте пропуски и типы данных. Откорректируйте, если нужно"
   ]
  },
  {
   "cell_type": "code",
   "execution_count": 44,
   "metadata": {},
   "outputs": [
    {
     "data": {
      "text/plain": [
       "event_name    0\n",
       "user_id       0\n",
       "event_time    0\n",
       "group         0\n",
       "dtype: int64"
      ]
     },
     "execution_count": 44,
     "metadata": {},
     "output_type": "execute_result"
    }
   ],
   "source": [
    "data.isna().sum()"
   ]
  },
  {
   "cell_type": "code",
   "execution_count": 45,
   "metadata": {},
   "outputs": [
    {
     "data": {
      "text/plain": [
       "413"
      ]
     },
     "execution_count": 45,
     "metadata": {},
     "output_type": "execute_result"
    }
   ],
   "source": [
    "data.duplicated().sum()"
   ]
  },
  {
   "cell_type": "markdown",
   "metadata": {},
   "source": [
    "Дубликаты присутствуют, избавимся от них"
   ]
  },
  {
   "cell_type": "code",
   "execution_count": 46,
   "metadata": {},
   "outputs": [],
   "source": [
    "data = data.drop_duplicates().reset_index(drop=True)"
   ]
  },
  {
   "cell_type": "code",
   "execution_count": 47,
   "metadata": {},
   "outputs": [
    {
     "data": {
      "text/plain": [
       "0"
      ]
     },
     "execution_count": 47,
     "metadata": {},
     "output_type": "execute_result"
    }
   ],
   "source": [
    "data.duplicated().sum()"
   ]
  },
  {
   "cell_type": "markdown",
   "metadata": {},
   "source": [
    "Изменим тип данных в столбце event_time на datetime"
   ]
  },
  {
   "cell_type": "code",
   "execution_count": 48,
   "metadata": {},
   "outputs": [
    {
     "name": "stdout",
     "output_type": "stream",
     "text": [
      "<class 'pandas.core.frame.DataFrame'>\n",
      "RangeIndex: 243713 entries, 0 to 243712\n",
      "Data columns (total 4 columns):\n",
      " #   Column      Non-Null Count   Dtype         \n",
      "---  ------      --------------   -----         \n",
      " 0   event_name  243713 non-null  object        \n",
      " 1   user_id     243713 non-null  int64         \n",
      " 2   event_time  243713 non-null  datetime64[ns]\n",
      " 3   group       243713 non-null  int64         \n",
      "dtypes: datetime64[ns](1), int64(2), object(1)\n",
      "memory usage: 7.4+ MB\n"
     ]
    }
   ],
   "source": [
    "data['event_time'] = pd.to_datetime(data['event_time'], unit='s')\n",
    "\n",
    "data.info()"
   ]
  },
  {
   "cell_type": "code",
   "execution_count": 49,
   "metadata": {},
   "outputs": [
    {
     "data": {
      "text/plain": [
       "0   2019-07-25 04:43:36\n",
       "1   2019-07-25 11:11:42\n",
       "2   2019-07-25 11:28:47\n",
       "3   2019-07-25 11:28:47\n",
       "4   2019-07-25 11:48:42\n",
       "Name: event_time, dtype: datetime64[ns]"
      ]
     },
     "execution_count": 49,
     "metadata": {},
     "output_type": "execute_result"
    }
   ],
   "source": [
    "data['event_time'].head(5)"
   ]
  },
  {
   "cell_type": "markdown",
   "metadata": {},
   "source": [
    "Поменяем названия групп на болле понятные:\n",
    "    246 на А,\n",
    "    247 на А1,\n",
    "    248 на В"
   ]
  },
  {
   "cell_type": "code",
   "execution_count": 50,
   "metadata": {},
   "outputs": [],
   "source": [
    "data['group'] = data['group'].apply(lambda x : 'B' if x == 248 else ('A1' if x == 247 else 'A'))"
   ]
  },
  {
   "cell_type": "code",
   "execution_count": 51,
   "metadata": {},
   "outputs": [
    {
     "data": {
      "text/html": [
       "<div>\n",
       "<style scoped>\n",
       "    .dataframe tbody tr th:only-of-type {\n",
       "        vertical-align: middle;\n",
       "    }\n",
       "\n",
       "    .dataframe tbody tr th {\n",
       "        vertical-align: top;\n",
       "    }\n",
       "\n",
       "    .dataframe thead th {\n",
       "        text-align: right;\n",
       "    }\n",
       "</style>\n",
       "<table border=\"1\" class=\"dataframe\">\n",
       "  <thead>\n",
       "    <tr style=\"text-align: right;\">\n",
       "      <th></th>\n",
       "      <th>event_name</th>\n",
       "      <th>user_id</th>\n",
       "      <th>event_time</th>\n",
       "      <th>group</th>\n",
       "    </tr>\n",
       "  </thead>\n",
       "  <tbody>\n",
       "    <tr>\n",
       "      <th>0</th>\n",
       "      <td>MainScreenAppear</td>\n",
       "      <td>4575588528974610257</td>\n",
       "      <td>2019-07-25 04:43:36</td>\n",
       "      <td>A</td>\n",
       "    </tr>\n",
       "    <tr>\n",
       "      <th>1</th>\n",
       "      <td>MainScreenAppear</td>\n",
       "      <td>7416695313311560658</td>\n",
       "      <td>2019-07-25 11:11:42</td>\n",
       "      <td>A</td>\n",
       "    </tr>\n",
       "    <tr>\n",
       "      <th>2</th>\n",
       "      <td>PaymentScreenSuccessful</td>\n",
       "      <td>3518123091307005509</td>\n",
       "      <td>2019-07-25 11:28:47</td>\n",
       "      <td>B</td>\n",
       "    </tr>\n",
       "    <tr>\n",
       "      <th>3</th>\n",
       "      <td>CartScreenAppear</td>\n",
       "      <td>3518123091307005509</td>\n",
       "      <td>2019-07-25 11:28:47</td>\n",
       "      <td>B</td>\n",
       "    </tr>\n",
       "    <tr>\n",
       "      <th>4</th>\n",
       "      <td>PaymentScreenSuccessful</td>\n",
       "      <td>6217807653094995999</td>\n",
       "      <td>2019-07-25 11:48:42</td>\n",
       "      <td>B</td>\n",
       "    </tr>\n",
       "    <tr>\n",
       "      <th>...</th>\n",
       "      <td>...</td>\n",
       "      <td>...</td>\n",
       "      <td>...</td>\n",
       "      <td>...</td>\n",
       "    </tr>\n",
       "    <tr>\n",
       "      <th>243708</th>\n",
       "      <td>MainScreenAppear</td>\n",
       "      <td>4599628364049201812</td>\n",
       "      <td>2019-08-07 21:12:25</td>\n",
       "      <td>A1</td>\n",
       "    </tr>\n",
       "    <tr>\n",
       "      <th>243709</th>\n",
       "      <td>MainScreenAppear</td>\n",
       "      <td>5849806612437486590</td>\n",
       "      <td>2019-08-07 21:13:59</td>\n",
       "      <td>A</td>\n",
       "    </tr>\n",
       "    <tr>\n",
       "      <th>243710</th>\n",
       "      <td>MainScreenAppear</td>\n",
       "      <td>5746969938801999050</td>\n",
       "      <td>2019-08-07 21:14:43</td>\n",
       "      <td>A</td>\n",
       "    </tr>\n",
       "    <tr>\n",
       "      <th>243711</th>\n",
       "      <td>MainScreenAppear</td>\n",
       "      <td>5746969938801999050</td>\n",
       "      <td>2019-08-07 21:14:58</td>\n",
       "      <td>A</td>\n",
       "    </tr>\n",
       "    <tr>\n",
       "      <th>243712</th>\n",
       "      <td>OffersScreenAppear</td>\n",
       "      <td>5746969938801999050</td>\n",
       "      <td>2019-08-07 21:15:17</td>\n",
       "      <td>A</td>\n",
       "    </tr>\n",
       "  </tbody>\n",
       "</table>\n",
       "<p>243713 rows × 4 columns</p>\n",
       "</div>"
      ],
      "text/plain": [
       "                     event_name              user_id          event_time group\n",
       "0              MainScreenAppear  4575588528974610257 2019-07-25 04:43:36     A\n",
       "1              MainScreenAppear  7416695313311560658 2019-07-25 11:11:42     A\n",
       "2       PaymentScreenSuccessful  3518123091307005509 2019-07-25 11:28:47     B\n",
       "3              CartScreenAppear  3518123091307005509 2019-07-25 11:28:47     B\n",
       "4       PaymentScreenSuccessful  6217807653094995999 2019-07-25 11:48:42     B\n",
       "...                         ...                  ...                 ...   ...\n",
       "243708         MainScreenAppear  4599628364049201812 2019-08-07 21:12:25    A1\n",
       "243709         MainScreenAppear  5849806612437486590 2019-08-07 21:13:59     A\n",
       "243710         MainScreenAppear  5746969938801999050 2019-08-07 21:14:43     A\n",
       "243711         MainScreenAppear  5746969938801999050 2019-08-07 21:14:58     A\n",
       "243712       OffersScreenAppear  5746969938801999050 2019-08-07 21:15:17     A\n",
       "\n",
       "[243713 rows x 4 columns]"
      ]
     },
     "execution_count": 51,
     "metadata": {},
     "output_type": "execute_result"
    }
   ],
   "source": [
    "data"
   ]
  },
  {
   "cell_type": "markdown",
   "metadata": {},
   "source": [
    "### Добавьте столбец даты и времени, а также отдельный столбец дат;"
   ]
  },
  {
   "cell_type": "code",
   "execution_count": 52,
   "metadata": {},
   "outputs": [
    {
     "data": {
      "text/html": [
       "<div>\n",
       "<style scoped>\n",
       "    .dataframe tbody tr th:only-of-type {\n",
       "        vertical-align: middle;\n",
       "    }\n",
       "\n",
       "    .dataframe tbody tr th {\n",
       "        vertical-align: top;\n",
       "    }\n",
       "\n",
       "    .dataframe thead th {\n",
       "        text-align: right;\n",
       "    }\n",
       "</style>\n",
       "<table border=\"1\" class=\"dataframe\">\n",
       "  <thead>\n",
       "    <tr style=\"text-align: right;\">\n",
       "      <th></th>\n",
       "      <th>event_name</th>\n",
       "      <th>user_id</th>\n",
       "      <th>event_time</th>\n",
       "      <th>group</th>\n",
       "      <th>date</th>\n",
       "    </tr>\n",
       "  </thead>\n",
       "  <tbody>\n",
       "    <tr>\n",
       "      <th>0</th>\n",
       "      <td>MainScreenAppear</td>\n",
       "      <td>4575588528974610257</td>\n",
       "      <td>2019-07-25 04:43:36</td>\n",
       "      <td>A</td>\n",
       "      <td>2019-07-25</td>\n",
       "    </tr>\n",
       "    <tr>\n",
       "      <th>1</th>\n",
       "      <td>MainScreenAppear</td>\n",
       "      <td>7416695313311560658</td>\n",
       "      <td>2019-07-25 11:11:42</td>\n",
       "      <td>A</td>\n",
       "      <td>2019-07-25</td>\n",
       "    </tr>\n",
       "    <tr>\n",
       "      <th>2</th>\n",
       "      <td>PaymentScreenSuccessful</td>\n",
       "      <td>3518123091307005509</td>\n",
       "      <td>2019-07-25 11:28:47</td>\n",
       "      <td>B</td>\n",
       "      <td>2019-07-25</td>\n",
       "    </tr>\n",
       "    <tr>\n",
       "      <th>3</th>\n",
       "      <td>CartScreenAppear</td>\n",
       "      <td>3518123091307005509</td>\n",
       "      <td>2019-07-25 11:28:47</td>\n",
       "      <td>B</td>\n",
       "      <td>2019-07-25</td>\n",
       "    </tr>\n",
       "    <tr>\n",
       "      <th>4</th>\n",
       "      <td>PaymentScreenSuccessful</td>\n",
       "      <td>6217807653094995999</td>\n",
       "      <td>2019-07-25 11:48:42</td>\n",
       "      <td>B</td>\n",
       "      <td>2019-07-25</td>\n",
       "    </tr>\n",
       "  </tbody>\n",
       "</table>\n",
       "</div>"
      ],
      "text/plain": [
       "                event_name              user_id          event_time group  \\\n",
       "0         MainScreenAppear  4575588528974610257 2019-07-25 04:43:36     A   \n",
       "1         MainScreenAppear  7416695313311560658 2019-07-25 11:11:42     A   \n",
       "2  PaymentScreenSuccessful  3518123091307005509 2019-07-25 11:28:47     B   \n",
       "3         CartScreenAppear  3518123091307005509 2019-07-25 11:28:47     B   \n",
       "4  PaymentScreenSuccessful  6217807653094995999 2019-07-25 11:48:42     B   \n",
       "\n",
       "        date  \n",
       "0 2019-07-25  \n",
       "1 2019-07-25  \n",
       "2 2019-07-25  \n",
       "3 2019-07-25  \n",
       "4 2019-07-25  "
      ]
     },
     "execution_count": 52,
     "metadata": {},
     "output_type": "execute_result"
    }
   ],
   "source": [
    "data['date'] = data['event_time'].dt.date.astype('datetime64[ns]')\n",
    "\n",
    "data.head(5)"
   ]
  },
  {
   "cell_type": "markdown",
   "metadata": {},
   "source": [
    "Вывод по разделу: Заменили названия столбцов, типы данных, проверили данные на пропуски и дубликаты, а также добавили новый столбец с датой. Теперь данные готовы к анализу"
   ]
  },
  {
   "cell_type": "markdown",
   "metadata": {},
   "source": [
    "## Изчение и проверка данных"
   ]
  },
  {
   "cell_type": "markdown",
   "metadata": {},
   "source": [
    "### Сколько всего событий в логе?"
   ]
  },
  {
   "cell_type": "code",
   "execution_count": 53,
   "metadata": {},
   "outputs": [
    {
     "name": "stdout",
     "output_type": "stream",
     "text": [
      "Всего событий в логе: 243713\n"
     ]
    }
   ],
   "source": [
    "print(f'Всего событий в логе: {data[\"event_name\"].shape[0]}')"
   ]
  },
  {
   "cell_type": "markdown",
   "metadata": {},
   "source": [
    "Всего событий оказалось более 240 тысяч"
   ]
  },
  {
   "cell_type": "markdown",
   "metadata": {},
   "source": [
    "### Сколько всего пользователей в логе?"
   ]
  },
  {
   "cell_type": "code",
   "execution_count": 54,
   "metadata": {},
   "outputs": [
    {
     "name": "stdout",
     "output_type": "stream",
     "text": [
      "Всего пользователей в логе: 7551\n"
     ]
    }
   ],
   "source": [
    "print(f'Всего пользователей в логе: {data[\"user_id\"].nunique()}')"
   ]
  },
  {
   "cell_type": "markdown",
   "metadata": {},
   "source": [
    "А вот пользователей оказалось 7.5 тысяч"
   ]
  },
  {
   "cell_type": "markdown",
   "metadata": {},
   "source": [
    "### Сколько в среднем событий приходится на пользователя?"
   ]
  },
  {
   "cell_type": "code",
   "execution_count": 55,
   "metadata": {},
   "outputs": [
    {
     "name": "stdout",
     "output_type": "stream",
     "text": [
      "Среднее число событий на одного пользователя: 32\n"
     ]
    }
   ],
   "source": [
    "print(f'Среднее число событий на одного пользователя: {round(data[\"event_name\"].shape[0] / data[\"user_id\"].nunique())}')"
   ]
  },
  {
   "cell_type": "markdown",
   "metadata": {},
   "source": [
    "В среднем один пользователь совершает 32 события - достаточно много!"
   ]
  },
  {
   "cell_type": "code",
   "execution_count": 56,
   "metadata": {},
   "outputs": [
    {
     "name": "stdout",
     "output_type": "stream",
     "text": [
      "Медианное число событий на одного пользователя: 20.0\n",
      "Минимальное число событий на одного пользователя: 1\n",
      "Максимальное число событий на одного пользователя: 2307\n"
     ]
    }
   ],
   "source": [
    "median_events = data.groupby('user_id')['event_name'].count().median()\n",
    "max_event = data.groupby('user_id')['event_name'].count().max()\n",
    "min_event = data.groupby('user_id')['event_name'].count().min()\n",
    "\n",
    "print(f'Медианное число событий на одного пользователя: {median_events}')\n",
    "print(f'Минимальное число событий на одного пользователя: {min_event}')\n",
    "print(f'Максимальное число событий на одного пользователя: {max_event}')"
   ]
  },
  {
   "cell_type": "markdown",
   "metadata": {},
   "source": [
    " Разница между значениями 32(среднее) и 20(медианное) указывает на смещенное распределение данных. Аномальные пользователи также присутствуют"
   ]
  },
  {
   "cell_type": "markdown",
   "metadata": {},
   "source": [
    "### Данными за какой период мы располагаем?"
   ]
  },
  {
   "cell_type": "code",
   "execution_count": 57,
   "metadata": {},
   "outputs": [
    {
     "name": "stdout",
     "output_type": "stream",
     "text": [
      "Минимальная дата: 2019-07-25 00:00:00 \n",
      "Максимальная дата: 2019-08-07 00:00:00\n",
      "Период анализа: 13 days 00:00:00\n"
     ]
    }
   ],
   "source": [
    "# найдем максимальную и минимальную даты\n",
    "\n",
    "max_date = data['date'].max()\n",
    "\n",
    "min_date = data['date'].min()\n",
    "\n",
    "print(f'Минимальная дата: {min_date} \\nМаксимальная дата: {max_date}')\n",
    "print(f'Период анализа: {max_date - min_date}')"
   ]
  },
  {
   "cell_type": "markdown",
   "metadata": {},
   "source": [
    "Мы обладаем данными за 13 дней в период с 25 июля 2019 года по 7 августа 2019 года"
   ]
  },
  {
   "cell_type": "code",
   "execution_count": 58,
   "metadata": {},
   "outputs": [
    {
     "data": {
      "image/png": "[encoded data removed]",
      "text/plain": [
       "<Figure size 1080x720 with 1 Axes>"
      ]
     },
     "metadata": {
      "needs_background": "light"
     },
     "output_type": "display_data"
    }
   ],
   "source": [
    "figure(figsize=(15, 10))\n",
    "\n",
    "plt.hist(data['event_time'], bins=100, color='pink', edgecolor='black')\n",
    "\n",
    "plt.xticks(rotation=45)\n",
    "plt.title('Распределение данных во временной динамике')\n",
    "plt.xlabel('Дата')\n",
    "plt.ylabel('Частота');"
   ]
  },
  {
   "cell_type": "markdown",
   "metadata": {},
   "source": [
    "Как заметно из графика, мы не можем быть уверенными, что у нас одинаково полные данные за весь период. Видно, что до 1 августа никаких событий практчески не происходило, а основная активность началась именно с 1 августа, так что было бы правильнее считать преиод данных с 1 по 7 августа, а остальные данные отбросить"
   ]
  },
  {
   "cell_type": "code",
   "execution_count": 59,
   "metadata": {},
   "outputs": [],
   "source": [
    "# отбросим \"старые\" данные\n",
    "\n",
    "new_data = data.query('date >= \"2019-08-01\"').copy()"
   ]
  },
  {
   "cell_type": "code",
   "execution_count": 60,
   "metadata": {},
   "outputs": [
    {
     "data": {
      "image/png": "[encoded data removed]",
      "text/plain": [
       "<Figure size 1080x720 with 1 Axes>"
      ]
     },
     "metadata": {
      "needs_background": "light"
     },
     "output_type": "display_data"
    }
   ],
   "source": [
    "figure(figsize=(15, 10))\n",
    "\n",
    "plt.hist(new_data['event_time'], bins=100, color='green', edgecolor='black')\n",
    "\n",
    "plt.xticks(rotation=45)\n",
    "plt.title('Распределение данных во временной динамике без учёта старых данных')\n",
    "plt.xlabel('Дата')\n",
    "plt.ylabel('Частота');"
   ]
  },
  {
   "cell_type": "markdown",
   "metadata": {},
   "source": [
    "### Много ли событий и пользователей вы потеряли, отбросив старые данные?"
   ]
  },
  {
   "cell_type": "code",
   "execution_count": 61,
   "metadata": {},
   "outputs": [
    {
     "name": "stdout",
     "output_type": "stream",
     "text": [
      "Мы потеряли: 2826 событий, что равно: 1%\n",
      "Мы потеряли: 17 пользователей, что равно: 0.23%\n"
     ]
    }
   ],
   "source": [
    "print(f'Мы потеряли: {data[\"event_name\"].shape[0] - new_data[\"event_name\"].shape[0]} событий', end=', ')\n",
    "print(f'что равно: {round(((data[\"event_name\"].shape[0] - new_data[\"event_name\"].shape[0]) / data[\"event_name\"].shape[0]) * 100)}%')\n",
    "\n",
    "print(f'Мы потеряли: {data[\"user_id\"].nunique() - new_data[\"user_id\"].nunique()} пользователей', end=', ')\n",
    "print(f'что равно: {round(((data[\"user_id\"].nunique() - new_data[\"user_id\"].nunique()) / data[\"user_id\"].nunique()) * 100, 2)}%')"
   ]
  },
  {
   "cell_type": "markdown",
   "metadata": {},
   "source": [
    "Мы потеряли 2826 событий, что равно 1% от изначального числа, а также 17 пользователей, что равно 0.23% от изначального числа"
   ]
  },
  {
   "cell_type": "markdown",
   "metadata": {},
   "source": [
    "### Проверьте, что у вас есть пользователи из всех трёх экспериментальных групп."
   ]
  },
  {
   "cell_type": "code",
   "execution_count": 62,
   "metadata": {},
   "outputs": [
    {
     "name": "stdout",
     "output_type": "stream",
     "text": [
      "group\n",
      "A     2484\n",
      "A1    2513\n",
      "B     2537\n",
      "Name: user_id, dtype: int64\n"
     ]
    }
   ],
   "source": [
    "print(new_data.groupby('group')['user_id'].nunique())"
   ]
  },
  {
   "cell_type": "markdown",
   "metadata": {},
   "source": [
    "Данные пользователей из всех трёх экспериментальных групп присутствуют."
   ]
  },
  {
   "cell_type": "markdown",
   "metadata": {},
   "source": [
    "Вывод по разделу: \n",
    "\n",
    "    Всего событий в логе - 243713, пользователей - 7551.\n",
    "    Количество событий в среднем на одного пользователя - 32.\n",
    "    Имеются данные с 2019-07-25 по 2019-08-07. Общий период составляет 13 дней.\n",
    "    На гистограмме по дате и времени видно, что данные неполные практически до 2019-07-31.\n",
    "    Следовательно берем данные с 2019-08-01 по 2019-08-07, так как они наиболее информативные.\n",
    "    В результате отброски старых данных, мы потеряли 2826 событий и 17 пользователей.\n",
    "    Данные пользователей из всех трёх экспериментальных групп присутствуют."
   ]
  },
  {
   "cell_type": "markdown",
   "metadata": {},
   "source": [
    "## Изучение воронки событий"
   ]
  },
  {
   "cell_type": "markdown",
   "metadata": {},
   "source": [
    "### Посмотрите, какие события есть в логах, как часто они встречаются. Отсортируйте события по частоте."
   ]
  },
  {
   "cell_type": "code",
   "execution_count": 63,
   "metadata": {},
   "outputs": [
    {
     "data": {
      "text/plain": [
       "MainScreenAppear           117328\n",
       "OffersScreenAppear          46333\n",
       "CartScreenAppear            42303\n",
       "PaymentScreenSuccessful     33918\n",
       "Tutorial                     1005\n",
       "Name: event_name, dtype: int64"
      ]
     },
     "execution_count": 63,
     "metadata": {},
     "output_type": "execute_result"
    }
   ],
   "source": [
    "events = new_data['event_name'].value_counts()\n",
    "\n",
    "events"
   ]
  },
  {
   "cell_type": "markdown",
   "metadata": {},
   "source": [
    "Итак, есть 5 событий: MainScreenAppear, OffersScreenAppear, CartScreenAppear, PaymentScreenSuccessful и Tutorial.\n",
    "\n",
    "Чаще всех встречается событие MainScreenAppear"
   ]
  },
  {
   "cell_type": "markdown",
   "metadata": {},
   "source": [
    "### Посчитайте, сколько пользователей совершали каждое из этих событий. Отсортируйте события по числу пользователей. Посчитайте долю пользователей, которые хоть раз совершали событие."
   ]
  },
  {
   "cell_type": "code",
   "execution_count": 64,
   "metadata": {},
   "outputs": [
    {
     "data": {
      "text/html": [
       "<div>\n",
       "<style scoped>\n",
       "    .dataframe tbody tr th:only-of-type {\n",
       "        vertical-align: middle;\n",
       "    }\n",
       "\n",
       "    .dataframe tbody tr th {\n",
       "        vertical-align: top;\n",
       "    }\n",
       "\n",
       "    .dataframe thead th {\n",
       "        text-align: right;\n",
       "    }\n",
       "</style>\n",
       "<table border=\"1\" class=\"dataframe\">\n",
       "  <thead>\n",
       "    <tr style=\"text-align: right;\">\n",
       "      <th></th>\n",
       "      <th>event_name</th>\n",
       "      <th>user_id</th>\n",
       "      <th>percent</th>\n",
       "    </tr>\n",
       "  </thead>\n",
       "  <tbody>\n",
       "    <tr>\n",
       "      <th>0</th>\n",
       "      <td>MainScreenAppear</td>\n",
       "      <td>7419</td>\n",
       "      <td>98.47</td>\n",
       "    </tr>\n",
       "    <tr>\n",
       "      <th>1</th>\n",
       "      <td>OffersScreenAppear</td>\n",
       "      <td>4593</td>\n",
       "      <td>60.96</td>\n",
       "    </tr>\n",
       "    <tr>\n",
       "      <th>2</th>\n",
       "      <td>CartScreenAppear</td>\n",
       "      <td>3734</td>\n",
       "      <td>49.56</td>\n",
       "    </tr>\n",
       "    <tr>\n",
       "      <th>3</th>\n",
       "      <td>PaymentScreenSuccessful</td>\n",
       "      <td>3539</td>\n",
       "      <td>46.97</td>\n",
       "    </tr>\n",
       "    <tr>\n",
       "      <th>4</th>\n",
       "      <td>Tutorial</td>\n",
       "      <td>840</td>\n",
       "      <td>11.15</td>\n",
       "    </tr>\n",
       "  </tbody>\n",
       "</table>\n",
       "</div>"
      ],
      "text/plain": [
       "                event_name  user_id  percent\n",
       "0         MainScreenAppear     7419    98.47\n",
       "1       OffersScreenAppear     4593    60.96\n",
       "2         CartScreenAppear     3734    49.56\n",
       "3  PaymentScreenSuccessful     3539    46.97\n",
       "4                 Tutorial      840    11.15"
      ]
     },
     "execution_count": 64,
     "metadata": {},
     "output_type": "execute_result"
    }
   ],
   "source": [
    "user_events = new_data.groupby('event_name').agg({'user_id': 'nunique'}).sort_values(by='user_id', ascending=False).reset_index()\n",
    "\n",
    "user_events['percent'] = round((user_events['user_id'] / new_data['user_id'].nunique()) * 100, 2)\n",
    "\n",
    "user_events"
   ]
  },
  {
   "cell_type": "markdown",
   "metadata": {},
   "source": [
    "Возможно, не все пользователи попадают на главный экран по нескольким причинам:\n",
    "\n",
    "    - Технические ошибки: Некоторые пользователи могут столкнуться с техническими проблемами, которые мешают\n",
    "      загрузке главного экрана, например, из-за проблем с сетью или ошибок в приложении.\n",
    "    - Сложный пользовательский интерфейс: некоторые пользователи могут закрыть его до того, как событие будет\n",
    "      зарегистрировано.\n",
    "    - Некоторые новые пользователи могут устанавливать приложение и не запускать его сразу, а возвращающиеся\n",
    "      пользователи могут быть перенаправлены на другие экраны, минуя главный экран.\n",
    "    - Аналитические пропуски: Возможно, что аналитическая система не отслеживает каждое событие из-за ограничений в отслеживании"
   ]
  },
  {
   "cell_type": "markdown",
   "metadata": {},
   "source": [
    "### Предположите, в каком порядке происходят события. Все ли они выстраиваются в последовательную цепочку? Их не нужно учитывать при расчёте воронки."
   ]
  },
  {
   "cell_type": "markdown",
   "metadata": {},
   "source": [
    "События происходят в следующем порядке:\n",
    "\n",
    "    - MainScreenAppear - Главный экран(98.47% от общего количества);\n",
    "    - OffersScreenAppear - Экран с предложением о покупке(60.96% от общего количества);\n",
    "    - CartScreenAppear - Экран с корзиной(49.56% от общего количества);\n",
    "    - PaymentScreenSuccessful - Экран успешного платежа(46.97% от общего количества);\n",
    "\n",
    "А вот событие Tutorial(Руководство пользователя) не подходит для данной цепочки событий, при расчёте воронки его учитывать не будем"
   ]
  },
  {
   "cell_type": "markdown",
   "metadata": {},
   "source": [
    "### По воронке событий посчитайте, какая доля пользователей проходит на следующий шаг воронки (от числа пользователей на предыдущем). То есть для последовательности событий A → B → C посчитайте отношение числа пользователей с событием B к количеству пользователей с событием A, а также отношение числа пользователей с событием C к количеству пользователей с событием B."
   ]
  },
  {
   "cell_type": "code",
   "execution_count": 65,
   "metadata": {},
   "outputs": [
    {
     "data": {
      "text/html": [
       "<div>\n",
       "<style scoped>\n",
       "    .dataframe tbody tr th:only-of-type {\n",
       "        vertical-align: middle;\n",
       "    }\n",
       "\n",
       "    .dataframe tbody tr th {\n",
       "        vertical-align: top;\n",
       "    }\n",
       "\n",
       "    .dataframe thead th {\n",
       "        text-align: right;\n",
       "    }\n",
       "</style>\n",
       "<table border=\"1\" class=\"dataframe\">\n",
       "  <thead>\n",
       "    <tr style=\"text-align: right;\">\n",
       "      <th></th>\n",
       "      <th>event_name</th>\n",
       "      <th>user_id</th>\n",
       "      <th>percent</th>\n",
       "    </tr>\n",
       "  </thead>\n",
       "  <tbody>\n",
       "    <tr>\n",
       "      <th>0</th>\n",
       "      <td>MainScreenAppear</td>\n",
       "      <td>7419</td>\n",
       "      <td>98.47</td>\n",
       "    </tr>\n",
       "    <tr>\n",
       "      <th>1</th>\n",
       "      <td>OffersScreenAppear</td>\n",
       "      <td>4593</td>\n",
       "      <td>60.96</td>\n",
       "    </tr>\n",
       "    <tr>\n",
       "      <th>2</th>\n",
       "      <td>CartScreenAppear</td>\n",
       "      <td>3734</td>\n",
       "      <td>49.56</td>\n",
       "    </tr>\n",
       "    <tr>\n",
       "      <th>3</th>\n",
       "      <td>PaymentScreenSuccessful</td>\n",
       "      <td>3539</td>\n",
       "      <td>46.97</td>\n",
       "    </tr>\n",
       "  </tbody>\n",
       "</table>\n",
       "</div>"
      ],
      "text/plain": [
       "                event_name  user_id  percent\n",
       "0         MainScreenAppear     7419    98.47\n",
       "1       OffersScreenAppear     4593    60.96\n",
       "2         CartScreenAppear     3734    49.56\n",
       "3  PaymentScreenSuccessful     3539    46.97"
      ]
     },
     "execution_count": 65,
     "metadata": {},
     "output_type": "execute_result"
    }
   ],
   "source": [
    "# Уберём событие Tutorial из нашей цепочки событий\n",
    "user_events = user_events.query('event_name != \"Tutorial\"')\n",
    "user_events"
   ]
  },
  {
   "cell_type": "code",
   "execution_count": 66,
   "metadata": {},
   "outputs": [
    {
     "data": {
      "application/vnd.plotly.v1+json": {
       "config": {
        "plotlyServerURL": "https://plot.ly"
       },
       "data": [
        {
         "connector": {
          "line": {
           "color": "royalblue",
           "dash": "dot",
           "width": 3
          }
         },
         "marker": {
          "color": [
           "deepskyblue",
           "lightsalmon",
           "tan",
           "teal",
           "silver"
          ],
          "line": {
           "color": [
            "wheat",
            "wheat",
            "blue",
            "wheat",
            "wheat"
           ],
           "width": [
            4,
            2,
            2,
            3,
            1,
            1
           ]
          }
         },
         "opacity": 0.65,
         "textinfo": "value+percent initial+percent previous",
         "textposition": "inside",
         "type": "funnel",
         "x": [
          7419,
          4593,
          3734,
          3539
         ],
         "y": [
          "MainScreenAppear",
          "OffersScreenAppear",
          "CartScreenAppear",
          "PaymentScreenSuccessful"
         ]
        }
       ],
       "layout": {
        "template": {
         "data": {
          "bar": [
           {
            "error_x": {
             "color": "#2a3f5f"
            },
            "error_y": {
             "color": "#2a3f5f"
            },
            "marker": {
             "line": {
              "color": "#E5ECF6",
              "width": 0.5
             },
             "pattern": {
              "fillmode": "overlay",
              "size": 10,
              "solidity": 0.2
             }
            },
            "type": "bar"
           }
          ],
          "barpolar": [
           {
            "marker": {
             "line": {
              "color": "#E5ECF6",
              "width": 0.5
             },
             "pattern": {
              "fillmode": "overlay",
              "size": 10,
              "solidity": 0.2
             }
            },
            "type": "barpolar"
           }
          ],
          "carpet": [
           {
            "aaxis": {
             "endlinecolor": "#2a3f5f",
             "gridcolor": "white",
             "linecolor": "white",
             "minorgridcolor": "white",
             "startlinecolor": "#2a3f5f"
            },
            "baxis": {
             "endlinecolor": "#2a3f5f",
             "gridcolor": "white",
             "linecolor": "white",
             "minorgridcolor": "white",
             "startlinecolor": "#2a3f5f"
            },
            "type": "carpet"
           }
          ],
          "choropleth": [
           {
            "colorbar": {
             "outlinewidth": 0,
             "ticks": ""
            },
            "type": "choropleth"
           }
          ],
          "contour": [
           {
            "colorbar": {
             "outlinewidth": 0,
             "ticks": ""
            },
            "colorscale": [
             [
              0,
              "#0d0887"
             ],
             [
              0.1111111111111111,
              "#46039f"
             ],
             [
              0.2222222222222222,
              "#7201a8"
             ],
             [
              0.3333333333333333,
              "#9c179e"
             ],
             [
              0.4444444444444444,
              "#bd3786"
             ],
             [
              0.5555555555555556,
              "#d8576b"
             ],
             [
              0.6666666666666666,
              "#ed7953"
             ],
             [
              0.7777777777777778,
              "#fb9f3a"
             ],
             [
              0.8888888888888888,
              "#fdca26"
             ],
             [
              1,
              "#f0f921"
             ]
            ],
            "type": "contour"
           }
          ],
          "contourcarpet": [
           {
            "colorbar": {
             "outlinewidth": 0,
             "ticks": ""
            },
            "type": "contourcarpet"
           }
          ],
          "heatmap": [
           {
            "colorbar": {
             "outlinewidth": 0,
             "ticks": ""
            },
            "colorscale": [
             [
              0,
              "#0d0887"
             ],
             [
              0.1111111111111111,
              "#46039f"
             ],
             [
              0.2222222222222222,
              "#7201a8"
             ],
             [
              0.3333333333333333,
              "#9c179e"
             ],
             [
              0.4444444444444444,
              "#bd3786"
             ],
             [
              0.5555555555555556,
              "#d8576b"
             ],
             [
              0.6666666666666666,
              "#ed7953"
             ],
             [
              0.7777777777777778,
              "#fb9f3a"
             ],
             [
              0.8888888888888888,
              "#fdca26"
             ],
             [
              1,
              "#f0f921"
             ]
            ],
            "type": "heatmap"
           }
          ],
          "heatmapgl": [
           {
            "colorbar": {
             "outlinewidth": 0,
             "ticks": ""
            },
            "colorscale": [
             [
              0,
              "#0d0887"
             ],
             [
              0.1111111111111111,
              "#46039f"
             ],
             [
              0.2222222222222222,
              "#7201a8"
             ],
             [
              0.3333333333333333,
              "#9c179e"
             ],
             [
              0.4444444444444444,
              "#bd3786"
             ],
             [
              0.5555555555555556,
              "#d8576b"
             ],
             [
              0.6666666666666666,
              "#ed7953"
             ],
             [
              0.7777777777777778,
              "#fb9f3a"
             ],
             [
              0.8888888888888888,
              "#fdca26"
             ],
             [
              1,
              "#f0f921"
             ]
            ],
            "type": "heatmapgl"
           }
          ],
          "histogram": [
           {
            "marker": {
             "pattern": {
              "fillmode": "overlay",
              "size": 10,
              "solidity": 0.2
             }
            },
            "type": "histogram"
           }
          ],
          "histogram2d": [
           {
            "colorbar": {
             "outlinewidth": 0,
             "ticks": ""
            },
            "colorscale": [
             [
              0,
              "#0d0887"
             ],
             [
              0.1111111111111111,
              "#46039f"
             ],
             [
              0.2222222222222222,
              "#7201a8"
             ],
             [
              0.3333333333333333,
              "#9c179e"
             ],
             [
              0.4444444444444444,
              "#bd3786"
             ],
             [
              0.5555555555555556,
              "#d8576b"
             ],
             [
              0.6666666666666666,
              "#ed7953"
             ],
             [
              0.7777777777777778,
              "#fb9f3a"
             ],
             [
              0.8888888888888888,
              "#fdca26"
             ],
             [
              1,
              "#f0f921"
             ]
            ],
            "type": "histogram2d"
           }
          ],
          "histogram2dcontour": [
           {
            "colorbar": {
             "outlinewidth": 0,
             "ticks": ""
            },
            "colorscale": [
             [
              0,
              "#0d0887"
             ],
             [
              0.1111111111111111,
              "#46039f"
             ],
             [
              0.2222222222222222,
              "#7201a8"
             ],
             [
              0.3333333333333333,
              "#9c179e"
             ],
             [
              0.4444444444444444,
              "#bd3786"
             ],
             [
              0.5555555555555556,
              "#d8576b"
             ],
             [
              0.6666666666666666,
              "#ed7953"
             ],
             [
              0.7777777777777778,
              "#fb9f3a"
             ],
             [
              0.8888888888888888,
              "#fdca26"
             ],
             [
              1,
              "#f0f921"
             ]
            ],
            "type": "histogram2dcontour"
           }
          ],
          "mesh3d": [
           {
            "colorbar": {
             "outlinewidth": 0,
             "ticks": ""
            },
            "type": "mesh3d"
           }
          ],
          "parcoords": [
           {
            "line": {
             "colorbar": {
              "outlinewidth": 0,
              "ticks": ""
             }
            },
            "type": "parcoords"
           }
          ],
          "pie": [
           {
            "automargin": true,
            "type": "pie"
           }
          ],
          "scatter": [
           {
            "marker": {
             "colorbar": {
              "outlinewidth": 0,
              "ticks": ""
             }
            },
            "type": "scatter"
           }
          ],
          "scatter3d": [
           {
            "line": {
             "colorbar": {
              "outlinewidth": 0,
              "ticks": ""
             }
            },
            "marker": {
             "colorbar": {
              "outlinewidth": 0,
              "ticks": ""
             }
            },
            "type": "scatter3d"
           }
          ],
          "scattercarpet": [
           {
            "marker": {
             "colorbar": {
              "outlinewidth": 0,
              "ticks": ""
             }
            },
            "type": "scattercarpet"
           }
          ],
          "scattergeo": [
           {
            "marker": {
             "colorbar": {
              "outlinewidth": 0,
              "ticks": ""
             }
            },
            "type": "scattergeo"
           }
          ],
          "scattergl": [
           {
            "marker": {
             "colorbar": {
              "outlinewidth": 0,
              "ticks": ""
             }
            },
            "type": "scattergl"
           }
          ],
          "scattermapbox": [
           {
            "marker": {
             "colorbar": {
              "outlinewidth": 0,
              "ticks": ""
             }
            },
            "type": "scattermapbox"
           }
          ],
          "scatterpolar": [
           {
            "marker": {
             "colorbar": {
              "outlinewidth": 0,
              "ticks": ""
             }
            },
            "type": "scatterpolar"
           }
          ],
          "scatterpolargl": [
           {
            "marker": {
             "colorbar": {
              "outlinewidth": 0,
              "ticks": ""
             }
            },
            "type": "scatterpolargl"
           }
          ],
          "scatterternary": [
           {
            "marker": {
             "colorbar": {
              "outlinewidth": 0,
              "ticks": ""
             }
            },
            "type": "scatterternary"
           }
          ],
          "surface": [
           {
            "colorbar": {
             "outlinewidth": 0,
             "ticks": ""
            },
            "colorscale": [
             [
              0,
              "#0d0887"
             ],
             [
              0.1111111111111111,
              "#46039f"
             ],
             [
              0.2222222222222222,
              "#7201a8"
             ],
             [
              0.3333333333333333,
              "#9c179e"
             ],
             [
              0.4444444444444444,
              "#bd3786"
             ],
             [
              0.5555555555555556,
              "#d8576b"
             ],
             [
              0.6666666666666666,
              "#ed7953"
             ],
             [
              0.7777777777777778,
              "#fb9f3a"
             ],
             [
              0.8888888888888888,
              "#fdca26"
             ],
             [
              1,
              "#f0f921"
             ]
            ],
            "type": "surface"
           }
          ],
          "table": [
           {
            "cells": {
             "fill": {
              "color": "#EBF0F8"
             },
             "line": {
              "color": "white"
             }
            },
            "header": {
             "fill": {
              "color": "#C8D4E3"
             },
             "line": {
              "color": "white"
             }
            },
            "type": "table"
           }
          ]
         },
         "layout": {
          "annotationdefaults": {
           "arrowcolor": "#2a3f5f",
           "arrowhead": 0,
           "arrowwidth": 1
          },
          "autotypenumbers": "strict",
          "coloraxis": {
           "colorbar": {
            "outlinewidth": 0,
            "ticks": ""
           }
          },
          "colorscale": {
           "diverging": [
            [
             0,
             "#8e0152"
            ],
            [
             0.1,
             "#c51b7d"
            ],
            [
             0.2,
             "#de77ae"
            ],
            [
             0.3,
             "#f1b6da"
            ],
            [
             0.4,
             "#fde0ef"
            ],
            [
             0.5,
             "#f7f7f7"
            ],
            [
             0.6,
             "#e6f5d0"
            ],
            [
             0.7,
             "#b8e186"
            ],
            [
             0.8,
             "#7fbc41"
            ],
            [
             0.9,
             "#4d9221"
            ],
            [
             1,
             "#276419"
            ]
           ],
           "sequential": [
            [
             0,
             "#0d0887"
            ],
            [
             0.1111111111111111,
             "#46039f"
            ],
            [
             0.2222222222222222,
             "#7201a8"
            ],
            [
             0.3333333333333333,
             "#9c179e"
            ],
            [
             0.4444444444444444,
             "#bd3786"
            ],
            [
             0.5555555555555556,
             "#d8576b"
            ],
            [
             0.6666666666666666,
             "#ed7953"
            ],
            [
             0.7777777777777778,
             "#fb9f3a"
            ],
            [
             0.8888888888888888,
             "#fdca26"
            ],
            [
             1,
             "#f0f921"
            ]
           ],
           "sequentialminus": [
            [
             0,
             "#0d0887"
            ],
            [
             0.1111111111111111,
             "#46039f"
            ],
            [
             0.2222222222222222,
             "#7201a8"
            ],
            [
             0.3333333333333333,
             "#9c179e"
            ],
            [
             0.4444444444444444,
             "#bd3786"
            ],
            [
             0.5555555555555556,
             "#d8576b"
            ],
            [
             0.6666666666666666,
             "#ed7953"
            ],
            [
             0.7777777777777778,
             "#fb9f3a"
            ],
            [
             0.8888888888888888,
             "#fdca26"
            ],
            [
             1,
             "#f0f921"
            ]
           ]
          },
          "colorway": [
           "#636efa",
           "#EF553B",
           "#00cc96",
           "#ab63fa",
           "#FFA15A",
           "#19d3f3",
           "#FF6692",
           "#B6E880",
           "#FF97FF",
           "#FECB52"
          ],
          "font": {
           "color": "#2a3f5f"
          },
          "geo": {
           "bgcolor": "white",
           "lakecolor": "white",
           "landcolor": "#E5ECF6",
           "showlakes": true,
           "showland": true,
           "subunitcolor": "white"
          },
          "hoverlabel": {
           "align": "left"
          },
          "hovermode": "closest",
          "mapbox": {
           "style": "light"
          },
          "paper_bgcolor": "white",
          "plot_bgcolor": "#E5ECF6",
          "polar": {
           "angularaxis": {
            "gridcolor": "white",
            "linecolor": "white",
            "ticks": ""
           },
           "bgcolor": "#E5ECF6",
           "radialaxis": {
            "gridcolor": "white",
            "linecolor": "white",
            "ticks": ""
           }
          },
          "scene": {
           "xaxis": {
            "backgroundcolor": "#E5ECF6",
            "gridcolor": "white",
            "gridwidth": 2,
            "linecolor": "white",
            "showbackground": true,
            "ticks": "",
            "zerolinecolor": "white"
           },
           "yaxis": {
            "backgroundcolor": "#E5ECF6",
            "gridcolor": "white",
            "gridwidth": 2,
            "linecolor": "white",
            "showbackground": true,
            "ticks": "",
            "zerolinecolor": "white"
           },
           "zaxis": {
            "backgroundcolor": "#E5ECF6",
            "gridcolor": "white",
            "gridwidth": 2,
            "linecolor": "white",
            "showbackground": true,
            "ticks": "",
            "zerolinecolor": "white"
           }
          },
          "shapedefaults": {
           "line": {
            "color": "#2a3f5f"
           }
          },
          "ternary": {
           "aaxis": {
            "gridcolor": "white",
            "linecolor": "white",
            "ticks": ""
           },
           "baxis": {
            "gridcolor": "white",
            "linecolor": "white",
            "ticks": ""
           },
           "bgcolor": "#E5ECF6",
           "caxis": {
            "gridcolor": "white",
            "linecolor": "white",
            "ticks": ""
           }
          },
          "title": {
           "x": 0.05
          },
          "xaxis": {
           "automargin": true,
           "gridcolor": "white",
           "linecolor": "white",
           "ticks": "",
           "title": {
            "standoff": 15
           },
           "zerolinecolor": "white",
           "zerolinewidth": 2
          },
          "yaxis": {
           "automargin": true,
           "gridcolor": "white",
           "linecolor": "white",
           "ticks": "",
           "title": {
            "standoff": 15
           },
           "zerolinecolor": "white",
           "zerolinewidth": 2
          }
         }
        },
        "title": {
         "text": "Воронка событий",
         "x": 0.55
        }
       }
      },
      "text/html": [
       "<div>                            <div id=\"59bd017c-99d8-4f30-ac8c-cbcb0eed8c8b\" class=\"plotly-graph-div\" style=\"height:525px; width:100%;\"></div>            <script type=\"text/javascript\">                require([\"plotly\"], function(Plotly) {                    window.PLOTLYENV=window.PLOTLYENV || {};                                    if (document.getElementById(\"59bd017c-99d8-4f30-ac8c-cbcb0eed8c8b\")) {                    Plotly.newPlot(                        \"59bd017c-99d8-4f30-ac8c-cbcb0eed8c8b\",                        [{\"connector\":{\"line\":{\"color\":\"royalblue\",\"dash\":\"dot\",\"width\":3}},\"marker\":{\"color\":[\"deepskyblue\",\"lightsalmon\",\"tan\",\"teal\",\"silver\"],\"line\":{\"color\":[\"wheat\",\"wheat\",\"blue\",\"wheat\",\"wheat\"],\"width\":[4,2,2,3,1,1]}},\"opacity\":0.65,\"textinfo\":\"value+percent initial+percent previous\",\"textposition\":\"inside\",\"x\":[7419,4593,3734,3539],\"y\":[\"MainScreenAppear\",\"OffersScreenAppear\",\"CartScreenAppear\",\"PaymentScreenSuccessful\"],\"type\":\"funnel\"}],                        {\"template\":{\"data\":{\"bar\":[{\"error_x\":{\"color\":\"#2a3f5f\"},\"error_y\":{\"color\":\"#2a3f5f\"},\"marker\":{\"line\":{\"color\":\"#E5ECF6\",\"width\":0.5},\"pattern\":{\"fillmode\":\"overlay\",\"size\":10,\"solidity\":0.2}},\"type\":\"bar\"}],\"barpolar\":[{\"marker\":{\"line\":{\"color\":\"#E5ECF6\",\"width\":0.5},\"pattern\":{\"fillmode\":\"overlay\",\"size\":10,\"solidity\":0.2}},\"type\":\"barpolar\"}],\"carpet\":[{\"aaxis\":{\"endlinecolor\":\"#2a3f5f\",\"gridcolor\":\"white\",\"linecolor\":\"white\",\"minorgridcolor\":\"white\",\"startlinecolor\":\"#2a3f5f\"},\"baxis\":{\"endlinecolor\":\"#2a3f5f\",\"gridcolor\":\"white\",\"linecolor\":\"white\",\"minorgridcolor\":\"white\",\"startlinecolor\":\"#2a3f5f\"},\"type\":\"carpet\"}],\"choropleth\":[{\"colorbar\":{\"outlinewidth\":0,\"ticks\":\"\"},\"type\":\"choropleth\"}],\"contour\":[{\"colorbar\":{\"outlinewidth\":0,\"ticks\":\"\"},\"colorscale\":[[0.0,\"#0d0887\"],[0.1111111111111111,\"#46039f\"],[0.2222222222222222,\"#7201a8\"],[0.3333333333333333,\"#9c179e\"],[0.4444444444444444,\"#bd3786\"],[0.5555555555555556,\"#d8576b\"],[0.6666666666666666,\"#ed7953\"],[0.7777777777777778,\"#fb9f3a\"],[0.8888888888888888,\"#fdca26\"],[1.0,\"#f0f921\"]],\"type\":\"contour\"}],\"contourcarpet\":[{\"colorbar\":{\"outlinewidth\":0,\"ticks\":\"\"},\"type\":\"contourcarpet\"}],\"heatmap\":[{\"colorbar\":{\"outlinewidth\":0,\"ticks\":\"\"},\"colorscale\":[[0.0,\"#0d0887\"],[0.1111111111111111,\"#46039f\"],[0.2222222222222222,\"#7201a8\"],[0.3333333333333333,\"#9c179e\"],[0.4444444444444444,\"#bd3786\"],[0.5555555555555556,\"#d8576b\"],[0.6666666666666666,\"#ed7953\"],[0.7777777777777778,\"#fb9f3a\"],[0.8888888888888888,\"#fdca26\"],[1.0,\"#f0f921\"]],\"type\":\"heatmap\"}],\"heatmapgl\":[{\"colorbar\":{\"outlinewidth\":0,\"ticks\":\"\"},\"colorscale\":[[0.0,\"#0d0887\"],[0.1111111111111111,\"#46039f\"],[0.2222222222222222,\"#7201a8\"],[0.3333333333333333,\"#9c179e\"],[0.4444444444444444,\"#bd3786\"],[0.5555555555555556,\"#d8576b\"],[0.6666666666666666,\"#ed7953\"],[0.7777777777777778,\"#fb9f3a\"],[0.8888888888888888,\"#fdca26\"],[1.0,\"#f0f921\"]],\"type\":\"heatmapgl\"}],\"histogram\":[{\"marker\":{\"pattern\":{\"fillmode\":\"overlay\",\"size\":10,\"solidity\":0.2}},\"type\":\"histogram\"}],\"histogram2d\":[{\"colorbar\":{\"outlinewidth\":0,\"ticks\":\"\"},\"colorscale\":[[0.0,\"#0d0887\"],[0.1111111111111111,\"#46039f\"],[0.2222222222222222,\"#7201a8\"],[0.3333333333333333,\"#9c179e\"],[0.4444444444444444,\"#bd3786\"],[0.5555555555555556,\"#d8576b\"],[0.6666666666666666,\"#ed7953\"],[0.7777777777777778,\"#fb9f3a\"],[0.8888888888888888,\"#fdca26\"],[1.0,\"#f0f921\"]],\"type\":\"histogram2d\"}],\"histogram2dcontour\":[{\"colorbar\":{\"outlinewidth\":0,\"ticks\":\"\"},\"colorscale\":[[0.0,\"#0d0887\"],[0.1111111111111111,\"#46039f\"],[0.2222222222222222,\"#7201a8\"],[0.3333333333333333,\"#9c179e\"],[0.4444444444444444,\"#bd3786\"],[0.5555555555555556,\"#d8576b\"],[0.6666666666666666,\"#ed7953\"],[0.7777777777777778,\"#fb9f3a\"],[0.8888888888888888,\"#fdca26\"],[1.0,\"#f0f921\"]],\"type\":\"histogram2dcontour\"}],\"mesh3d\":[{\"colorbar\":{\"outlinewidth\":0,\"ticks\":\"\"},\"type\":\"mesh3d\"}],\"parcoords\":[{\"line\":{\"colorbar\":{\"outlinewidth\":0,\"ticks\":\"\"}},\"type\":\"parcoords\"}],\"pie\":[{\"automargin\":true,\"type\":\"pie\"}],\"scatter\":[{\"marker\":{\"colorbar\":{\"outlinewidth\":0,\"ticks\":\"\"}},\"type\":\"scatter\"}],\"scatter3d\":[{\"line\":{\"colorbar\":{\"outlinewidth\":0,\"ticks\":\"\"}},\"marker\":{\"colorbar\":{\"outlinewidth\":0,\"ticks\":\"\"}},\"type\":\"scatter3d\"}],\"scattercarpet\":[{\"marker\":{\"colorbar\":{\"outlinewidth\":0,\"ticks\":\"\"}},\"type\":\"scattercarpet\"}],\"scattergeo\":[{\"marker\":{\"colorbar\":{\"outlinewidth\":0,\"ticks\":\"\"}},\"type\":\"scattergeo\"}],\"scattergl\":[{\"marker\":{\"colorbar\":{\"outlinewidth\":0,\"ticks\":\"\"}},\"type\":\"scattergl\"}],\"scattermapbox\":[{\"marker\":{\"colorbar\":{\"outlinewidth\":0,\"ticks\":\"\"}},\"type\":\"scattermapbox\"}],\"scatterpolar\":[{\"marker\":{\"colorbar\":{\"outlinewidth\":0,\"ticks\":\"\"}},\"type\":\"scatterpolar\"}],\"scatterpolargl\":[{\"marker\":{\"colorbar\":{\"outlinewidth\":0,\"ticks\":\"\"}},\"type\":\"scatterpolargl\"}],\"scatterternary\":[{\"marker\":{\"colorbar\":{\"outlinewidth\":0,\"ticks\":\"\"}},\"type\":\"scatterternary\"}],\"surface\":[{\"colorbar\":{\"outlinewidth\":0,\"ticks\":\"\"},\"colorscale\":[[0.0,\"#0d0887\"],[0.1111111111111111,\"#46039f\"],[0.2222222222222222,\"#7201a8\"],[0.3333333333333333,\"#9c179e\"],[0.4444444444444444,\"#bd3786\"],[0.5555555555555556,\"#d8576b\"],[0.6666666666666666,\"#ed7953\"],[0.7777777777777778,\"#fb9f3a\"],[0.8888888888888888,\"#fdca26\"],[1.0,\"#f0f921\"]],\"type\":\"surface\"}],\"table\":[{\"cells\":{\"fill\":{\"color\":\"#EBF0F8\"},\"line\":{\"color\":\"white\"}},\"header\":{\"fill\":{\"color\":\"#C8D4E3\"},\"line\":{\"color\":\"white\"}},\"type\":\"table\"}]},\"layout\":{\"annotationdefaults\":{\"arrowcolor\":\"#2a3f5f\",\"arrowhead\":0,\"arrowwidth\":1},\"autotypenumbers\":\"strict\",\"coloraxis\":{\"colorbar\":{\"outlinewidth\":0,\"ticks\":\"\"}},\"colorscale\":{\"diverging\":[[0,\"#8e0152\"],[0.1,\"#c51b7d\"],[0.2,\"#de77ae\"],[0.3,\"#f1b6da\"],[0.4,\"#fde0ef\"],[0.5,\"#f7f7f7\"],[0.6,\"#e6f5d0\"],[0.7,\"#b8e186\"],[0.8,\"#7fbc41\"],[0.9,\"#4d9221\"],[1,\"#276419\"]],\"sequential\":[[0.0,\"#0d0887\"],[0.1111111111111111,\"#46039f\"],[0.2222222222222222,\"#7201a8\"],[0.3333333333333333,\"#9c179e\"],[0.4444444444444444,\"#bd3786\"],[0.5555555555555556,\"#d8576b\"],[0.6666666666666666,\"#ed7953\"],[0.7777777777777778,\"#fb9f3a\"],[0.8888888888888888,\"#fdca26\"],[1.0,\"#f0f921\"]],\"sequentialminus\":[[0.0,\"#0d0887\"],[0.1111111111111111,\"#46039f\"],[0.2222222222222222,\"#7201a8\"],[0.3333333333333333,\"#9c179e\"],[0.4444444444444444,\"#bd3786\"],[0.5555555555555556,\"#d8576b\"],[0.6666666666666666,\"#ed7953\"],[0.7777777777777778,\"#fb9f3a\"],[0.8888888888888888,\"#fdca26\"],[1.0,\"#f0f921\"]]},\"colorway\":[\"#636efa\",\"#EF553B\",\"#00cc96\",\"#ab63fa\",\"#FFA15A\",\"#19d3f3\",\"#FF6692\",\"#B6E880\",\"#FF97FF\",\"#FECB52\"],\"font\":{\"color\":\"#2a3f5f\"},\"geo\":{\"bgcolor\":\"white\",\"lakecolor\":\"white\",\"landcolor\":\"#E5ECF6\",\"showlakes\":true,\"showland\":true,\"subunitcolor\":\"white\"},\"hoverlabel\":{\"align\":\"left\"},\"hovermode\":\"closest\",\"mapbox\":{\"style\":\"light\"},\"paper_bgcolor\":\"white\",\"plot_bgcolor\":\"#E5ECF6\",\"polar\":{\"angularaxis\":{\"gridcolor\":\"white\",\"linecolor\":\"white\",\"ticks\":\"\"},\"bgcolor\":\"#E5ECF6\",\"radialaxis\":{\"gridcolor\":\"white\",\"linecolor\":\"white\",\"ticks\":\"\"}},\"scene\":{\"xaxis\":{\"backgroundcolor\":\"#E5ECF6\",\"gridcolor\":\"white\",\"gridwidth\":2,\"linecolor\":\"white\",\"showbackground\":true,\"ticks\":\"\",\"zerolinecolor\":\"white\"},\"yaxis\":{\"backgroundcolor\":\"#E5ECF6\",\"gridcolor\":\"white\",\"gridwidth\":2,\"linecolor\":\"white\",\"showbackground\":true,\"ticks\":\"\",\"zerolinecolor\":\"white\"},\"zaxis\":{\"backgroundcolor\":\"#E5ECF6\",\"gridcolor\":\"white\",\"gridwidth\":2,\"linecolor\":\"white\",\"showbackground\":true,\"ticks\":\"\",\"zerolinecolor\":\"white\"}},\"shapedefaults\":{\"line\":{\"color\":\"#2a3f5f\"}},\"ternary\":{\"aaxis\":{\"gridcolor\":\"white\",\"linecolor\":\"white\",\"ticks\":\"\"},\"baxis\":{\"gridcolor\":\"white\",\"linecolor\":\"white\",\"ticks\":\"\"},\"bgcolor\":\"#E5ECF6\",\"caxis\":{\"gridcolor\":\"white\",\"linecolor\":\"white\",\"ticks\":\"\"}},\"title\":{\"x\":0.05},\"xaxis\":{\"automargin\":true,\"gridcolor\":\"white\",\"linecolor\":\"white\",\"ticks\":\"\",\"title\":{\"standoff\":15},\"zerolinecolor\":\"white\",\"zerolinewidth\":2},\"yaxis\":{\"automargin\":true,\"gridcolor\":\"white\",\"linecolor\":\"white\",\"ticks\":\"\",\"title\":{\"standoff\":15},\"zerolinecolor\":\"white\",\"zerolinewidth\":2}}},\"title\":{\"text\":\"\\u0412\\u043e\\u0440\\u043e\\u043d\\u043a\\u0430 \\u0441\\u043e\\u0431\\u044b\\u0442\\u0438\\u0439\",\"x\":0.55}},                        {\"responsive\": true}                    ).then(function(){\n",
       "                            \n",
       "var gd = document.getElementById('59bd017c-99d8-4f30-ac8c-cbcb0eed8c8b');\n",
       "var x = new MutationObserver(function (mutations, observer) {{\n",
       "        var display = window.getComputedStyle(gd).display;\n",
       "        if (!display || display === 'none') {{\n",
       "            console.log([gd, 'removed!']);\n",
       "            Plotly.purge(gd);\n",
       "            observer.disconnect();\n",
       "        }}\n",
       "}});\n",
       "\n",
       "// Listen for the removal of the full notebook cells\n",
       "var notebookContainer = gd.closest('#notebook-container');\n",
       "if (notebookContainer) {{\n",
       "    x.observe(notebookContainer, {childList: true});\n",
       "}}\n",
       "\n",
       "// Listen for the clearing of the current output cell\n",
       "var outputEl = gd.closest('.output');\n",
       "if (outputEl) {{\n",
       "    x.observe(outputEl, {childList: true});\n",
       "}}\n",
       "\n",
       "                        })                };                });            </script>        </div>"
      ]
     },
     "metadata": {},
     "output_type": "display_data"
    }
   ],
   "source": [
    "fig = go.Figure(go.Funnel(\n",
    "    y = user_events['event_name'],\n",
    "    x =  user_events['user_id'],\n",
    "    textposition = \"inside\",\n",
    "    textinfo = \"value+percent initial+percent previous\",\n",
    "    opacity = 0.65, marker = {\"color\": [\"deepskyblue\", \"lightsalmon\", \"tan\", \"teal\", \"silver\"],\n",
    "    \"line\": {\"width\": [4, 2, 2, 3, 1, 1], \"color\": [\"wheat\", \"wheat\", \"blue\", \"wheat\", \"wheat\"]}},\n",
    "    connector = {\"line\": {\"color\": \"royalblue\", \"dash\": \"dot\", \"width\": 3}})\n",
    "    )\n",
    "\n",
    "fig.update_layout(title='Воронка событий', title_x=0.55)\n",
    "fig.show()"
   ]
  },
  {
   "attachments": {
    "image.png": {
     "image/png": "[encoded data removed]"
    }
   },
   "cell_type": "markdown",
   "metadata": {},
   "source": [
    "![image.png](attachment:image.png)"
   ]
  },
  {
   "cell_type": "markdown",
   "metadata": {},
   "source": [
    "При переходе с главного экрана на экран предложения покупки, мы теряем 38.1 % пользователей.\n",
    "До появления экрана с корзиной дошли около 50.3 % пользователей, совершили успешный платеж 47.7 % от общего количества пользователей.\n",
    "При переходе с главного экрана на экран предложения покупки остается – 61.9 % пользователей, с экрана предложения покупки на экран корзины – 81.3 % пользователей, с экрана корзины на экран успешной оплаты – 94.8 % пользователей."
   ]
  },
  {
   "cell_type": "code",
   "execution_count": 67,
   "metadata": {},
   "outputs": [],
   "source": [
    "# Также можно построить воронку с учётом группы пользователя\n",
    "funnel_with_group = new_data.groupby(['event_name', 'group']).agg({'user_id': 'nunique'}).sort_values(by='user_id', ascending=False).reset_index()\n",
    "\n",
    "funnel_with_group['percent'] = round((user_events['user_id'] / new_data['user_id'].nunique()) * 100, 2)"
   ]
  },
  {
   "cell_type": "code",
   "execution_count": 68,
   "metadata": {},
   "outputs": [
    {
     "data": {
      "application/vnd.plotly.v1+json": {
       "config": {
        "plotlyServerURL": "https://plot.ly"
       },
       "data": [
        {
         "hovertemplate": "group=B<br>user_id=%{x}<br>event_name=%{y}<extra></extra>",
         "legendgroup": "B",
         "marker": {
          "color": "#636efa"
         },
         "name": "B",
         "orientation": "h",
         "showlegend": true,
         "type": "funnel",
         "x": [
          2493,
          1531,
          1230,
          1181,
          279
         ],
         "xaxis": "x",
         "y": [
          "MainScreenAppear",
          "OffersScreenAppear",
          "CartScreenAppear",
          "PaymentScreenSuccessful",
          "Tutorial"
         ],
         "yaxis": "y"
        },
        {
         "hovertemplate": "group=A1<br>user_id=%{x}<br>event_name=%{y}<extra></extra>",
         "legendgroup": "A1",
         "marker": {
          "color": "#EF553B"
         },
         "name": "A1",
         "orientation": "h",
         "showlegend": true,
         "type": "funnel",
         "x": [
          2476,
          1520,
          1238,
          1158,
          283
         ],
         "xaxis": "x",
         "y": [
          "MainScreenAppear",
          "OffersScreenAppear",
          "CartScreenAppear",
          "PaymentScreenSuccessful",
          "Tutorial"
         ],
         "yaxis": "y"
        },
        {
         "hovertemplate": "group=A<br>user_id=%{x}<br>event_name=%{y}<extra></extra>",
         "legendgroup": "A",
         "marker": {
          "color": "#00cc96"
         },
         "name": "A",
         "orientation": "h",
         "showlegend": true,
         "type": "funnel",
         "x": [
          2450,
          1542,
          1266,
          1200,
          278
         ],
         "xaxis": "x",
         "y": [
          "MainScreenAppear",
          "OffersScreenAppear",
          "CartScreenAppear",
          "PaymentScreenSuccessful",
          "Tutorial"
         ],
         "yaxis": "y"
        }
       ],
       "layout": {
        "legend": {
         "title": {
          "text": "group"
         },
         "tracegroupgap": 0
        },
        "margin": {
         "t": 60
        },
        "template": {
         "data": {
          "bar": [
           {
            "error_x": {
             "color": "#2a3f5f"
            },
            "error_y": {
             "color": "#2a3f5f"
            },
            "marker": {
             "line": {
              "color": "#E5ECF6",
              "width": 0.5
             },
             "pattern": {
              "fillmode": "overlay",
              "size": 10,
              "solidity": 0.2
             }
            },
            "type": "bar"
           }
          ],
          "barpolar": [
           {
            "marker": {
             "line": {
              "color": "#E5ECF6",
              "width": 0.5
             },
             "pattern": {
              "fillmode": "overlay",
              "size": 10,
              "solidity": 0.2
             }
            },
            "type": "barpolar"
           }
          ],
          "carpet": [
           {
            "aaxis": {
             "endlinecolor": "#2a3f5f",
             "gridcolor": "white",
             "linecolor": "white",
             "minorgridcolor": "white",
             "startlinecolor": "#2a3f5f"
            },
            "baxis": {
             "endlinecolor": "#2a3f5f",
             "gridcolor": "white",
             "linecolor": "white",
             "minorgridcolor": "white",
             "startlinecolor": "#2a3f5f"
            },
            "type": "carpet"
           }
          ],
          "choropleth": [
           {
            "colorbar": {
             "outlinewidth": 0,
             "ticks": ""
            },
            "type": "choropleth"
           }
          ],
          "contour": [
           {
            "colorbar": {
             "outlinewidth": 0,
             "ticks": ""
            },
            "colorscale": [
             [
              0,
              "#0d0887"
             ],
             [
              0.1111111111111111,
              "#46039f"
             ],
             [
              0.2222222222222222,
              "#7201a8"
             ],
             [
              0.3333333333333333,
              "#9c179e"
             ],
             [
              0.4444444444444444,
              "#bd3786"
             ],
             [
              0.5555555555555556,
              "#d8576b"
             ],
             [
              0.6666666666666666,
              "#ed7953"
             ],
             [
              0.7777777777777778,
              "#fb9f3a"
             ],
             [
              0.8888888888888888,
              "#fdca26"
             ],
             [
              1,
              "#f0f921"
             ]
            ],
            "type": "contour"
           }
          ],
          "contourcarpet": [
           {
            "colorbar": {
             "outlinewidth": 0,
             "ticks": ""
            },
            "type": "contourcarpet"
           }
          ],
          "heatmap": [
           {
            "colorbar": {
             "outlinewidth": 0,
             "ticks": ""
            },
            "colorscale": [
             [
              0,
              "#0d0887"
             ],
             [
              0.1111111111111111,
              "#46039f"
             ],
             [
              0.2222222222222222,
              "#7201a8"
             ],
             [
              0.3333333333333333,
              "#9c179e"
             ],
             [
              0.4444444444444444,
              "#bd3786"
             ],
             [
              0.5555555555555556,
              "#d8576b"
             ],
             [
              0.6666666666666666,
              "#ed7953"
             ],
             [
              0.7777777777777778,
              "#fb9f3a"
             ],
             [
              0.8888888888888888,
              "#fdca26"
             ],
             [
              1,
              "#f0f921"
             ]
            ],
            "type": "heatmap"
           }
          ],
          "heatmapgl": [
           {
            "colorbar": {
             "outlinewidth": 0,
             "ticks": ""
            },
            "colorscale": [
             [
              0,
              "#0d0887"
             ],
             [
              0.1111111111111111,
              "#46039f"
             ],
             [
              0.2222222222222222,
              "#7201a8"
             ],
             [
              0.3333333333333333,
              "#9c179e"
             ],
             [
              0.4444444444444444,
              "#bd3786"
             ],
             [
              0.5555555555555556,
              "#d8576b"
             ],
             [
              0.6666666666666666,
              "#ed7953"
             ],
             [
              0.7777777777777778,
              "#fb9f3a"
             ],
             [
              0.8888888888888888,
              "#fdca26"
             ],
             [
              1,
              "#f0f921"
             ]
            ],
            "type": "heatmapgl"
           }
          ],
          "histogram": [
           {
            "marker": {
             "pattern": {
              "fillmode": "overlay",
              "size": 10,
              "solidity": 0.2
             }
            },
            "type": "histogram"
           }
          ],
          "histogram2d": [
           {
            "colorbar": {
             "outlinewidth": 0,
             "ticks": ""
            },
            "colorscale": [
             [
              0,
              "#0d0887"
             ],
             [
              0.1111111111111111,
              "#46039f"
             ],
             [
              0.2222222222222222,
              "#7201a8"
             ],
             [
              0.3333333333333333,
              "#9c179e"
             ],
             [
              0.4444444444444444,
              "#bd3786"
             ],
             [
              0.5555555555555556,
              "#d8576b"
             ],
             [
              0.6666666666666666,
              "#ed7953"
             ],
             [
              0.7777777777777778,
              "#fb9f3a"
             ],
             [
              0.8888888888888888,
              "#fdca26"
             ],
             [
              1,
              "#f0f921"
             ]
            ],
            "type": "histogram2d"
           }
          ],
          "histogram2dcontour": [
           {
            "colorbar": {
             "outlinewidth": 0,
             "ticks": ""
            },
            "colorscale": [
             [
              0,
              "#0d0887"
             ],
             [
              0.1111111111111111,
              "#46039f"
             ],
             [
              0.2222222222222222,
              "#7201a8"
             ],
             [
              0.3333333333333333,
              "#9c179e"
             ],
             [
              0.4444444444444444,
              "#bd3786"
             ],
             [
              0.5555555555555556,
              "#d8576b"
             ],
             [
              0.6666666666666666,
              "#ed7953"
             ],
             [
              0.7777777777777778,
              "#fb9f3a"
             ],
             [
              0.8888888888888888,
              "#fdca26"
             ],
             [
              1,
              "#f0f921"
             ]
            ],
            "type": "histogram2dcontour"
           }
          ],
          "mesh3d": [
           {
            "colorbar": {
             "outlinewidth": 0,
             "ticks": ""
            },
            "type": "mesh3d"
           }
          ],
          "parcoords": [
           {
            "line": {
             "colorbar": {
              "outlinewidth": 0,
              "ticks": ""
             }
            },
            "type": "parcoords"
           }
          ],
          "pie": [
           {
            "automargin": true,
            "type": "pie"
           }
          ],
          "scatter": [
           {
            "marker": {
             "colorbar": {
              "outlinewidth": 0,
              "ticks": ""
             }
            },
            "type": "scatter"
           }
          ],
          "scatter3d": [
           {
            "line": {
             "colorbar": {
              "outlinewidth": 0,
              "ticks": ""
             }
            },
            "marker": {
             "colorbar": {
              "outlinewidth": 0,
              "ticks": ""
             }
            },
            "type": "scatter3d"
           }
          ],
          "scattercarpet": [
           {
            "marker": {
             "colorbar": {
              "outlinewidth": 0,
              "ticks": ""
             }
            },
            "type": "scattercarpet"
           }
          ],
          "scattergeo": [
           {
            "marker": {
             "colorbar": {
              "outlinewidth": 0,
              "ticks": ""
             }
            },
            "type": "scattergeo"
           }
          ],
          "scattergl": [
           {
            "marker": {
             "colorbar": {
              "outlinewidth": 0,
              "ticks": ""
             }
            },
            "type": "scattergl"
           }
          ],
          "scattermapbox": [
           {
            "marker": {
             "colorbar": {
              "outlinewidth": 0,
              "ticks": ""
             }
            },
            "type": "scattermapbox"
           }
          ],
          "scatterpolar": [
           {
            "marker": {
             "colorbar": {
              "outlinewidth": 0,
              "ticks": ""
             }
            },
            "type": "scatterpolar"
           }
          ],
          "scatterpolargl": [
           {
            "marker": {
             "colorbar": {
              "outlinewidth": 0,
              "ticks": ""
             }
            },
            "type": "scatterpolargl"
           }
          ],
          "scatterternary": [
           {
            "marker": {
             "colorbar": {
              "outlinewidth": 0,
              "ticks": ""
             }
            },
            "type": "scatterternary"
           }
          ],
          "surface": [
           {
            "colorbar": {
             "outlinewidth": 0,
             "ticks": ""
            },
            "colorscale": [
             [
              0,
              "#0d0887"
             ],
             [
              0.1111111111111111,
              "#46039f"
             ],
             [
              0.2222222222222222,
              "#7201a8"
             ],
             [
              0.3333333333333333,
              "#9c179e"
             ],
             [
              0.4444444444444444,
              "#bd3786"
             ],
             [
              0.5555555555555556,
              "#d8576b"
             ],
             [
              0.6666666666666666,
              "#ed7953"
             ],
             [
              0.7777777777777778,
              "#fb9f3a"
             ],
             [
              0.8888888888888888,
              "#fdca26"
             ],
             [
              1,
              "#f0f921"
             ]
            ],
            "type": "surface"
           }
          ],
          "table": [
           {
            "cells": {
             "fill": {
              "color": "#EBF0F8"
             },
             "line": {
              "color": "white"
             }
            },
            "header": {
             "fill": {
              "color": "#C8D4E3"
             },
             "line": {
              "color": "white"
             }
            },
            "type": "table"
           }
          ]
         },
         "layout": {
          "annotationdefaults": {
           "arrowcolor": "#2a3f5f",
           "arrowhead": 0,
           "arrowwidth": 1
          },
          "autotypenumbers": "strict",
          "coloraxis": {
           "colorbar": {
            "outlinewidth": 0,
            "ticks": ""
           }
          },
          "colorscale": {
           "diverging": [
            [
             0,
             "#8e0152"
            ],
            [
             0.1,
             "#c51b7d"
            ],
            [
             0.2,
             "#de77ae"
            ],
            [
             0.3,
             "#f1b6da"
            ],
            [
             0.4,
             "#fde0ef"
            ],
            [
             0.5,
             "#f7f7f7"
            ],
            [
             0.6,
             "#e6f5d0"
            ],
            [
             0.7,
             "#b8e186"
            ],
            [
             0.8,
             "#7fbc41"
            ],
            [
             0.9,
             "#4d9221"
            ],
            [
             1,
             "#276419"
            ]
           ],
           "sequential": [
            [
             0,
             "#0d0887"
            ],
            [
             0.1111111111111111,
             "#46039f"
            ],
            [
             0.2222222222222222,
             "#7201a8"
            ],
            [
             0.3333333333333333,
             "#9c179e"
            ],
            [
             0.4444444444444444,
             "#bd3786"
            ],
            [
             0.5555555555555556,
             "#d8576b"
            ],
            [
             0.6666666666666666,
             "#ed7953"
            ],
            [
             0.7777777777777778,
             "#fb9f3a"
            ],
            [
             0.8888888888888888,
             "#fdca26"
            ],
            [
             1,
             "#f0f921"
            ]
           ],
           "sequentialminus": [
            [
             0,
             "#0d0887"
            ],
            [
             0.1111111111111111,
             "#46039f"
            ],
            [
             0.2222222222222222,
             "#7201a8"
            ],
            [
             0.3333333333333333,
             "#9c179e"
            ],
            [
             0.4444444444444444,
             "#bd3786"
            ],
            [
             0.5555555555555556,
             "#d8576b"
            ],
            [
             0.6666666666666666,
             "#ed7953"
            ],
            [
             0.7777777777777778,
             "#fb9f3a"
            ],
            [
             0.8888888888888888,
             "#fdca26"
            ],
            [
             1,
             "#f0f921"
            ]
           ]
          },
          "colorway": [
           "#636efa",
           "#EF553B",
           "#00cc96",
           "#ab63fa",
           "#FFA15A",
           "#19d3f3",
           "#FF6692",
           "#B6E880",
           "#FF97FF",
           "#FECB52"
          ],
          "font": {
           "color": "#2a3f5f"
          },
          "geo": {
           "bgcolor": "white",
           "lakecolor": "white",
           "landcolor": "#E5ECF6",
           "showlakes": true,
           "showland": true,
           "subunitcolor": "white"
          },
          "hoverlabel": {
           "align": "left"
          },
          "hovermode": "closest",
          "mapbox": {
           "style": "light"
          },
          "paper_bgcolor": "white",
          "plot_bgcolor": "#E5ECF6",
          "polar": {
           "angularaxis": {
            "gridcolor": "white",
            "linecolor": "white",
            "ticks": ""
           },
           "bgcolor": "#E5ECF6",
           "radialaxis": {
            "gridcolor": "white",
            "linecolor": "white",
            "ticks": ""
           }
          },
          "scene": {
           "xaxis": {
            "backgroundcolor": "#E5ECF6",
            "gridcolor": "white",
            "gridwidth": 2,
            "linecolor": "white",
            "showbackground": true,
            "ticks": "",
            "zerolinecolor": "white"
           },
           "yaxis": {
            "backgroundcolor": "#E5ECF6",
            "gridcolor": "white",
            "gridwidth": 2,
            "linecolor": "white",
            "showbackground": true,
            "ticks": "",
            "zerolinecolor": "white"
           },
           "zaxis": {
            "backgroundcolor": "#E5ECF6",
            "gridcolor": "white",
            "gridwidth": 2,
            "linecolor": "white",
            "showbackground": true,
            "ticks": "",
            "zerolinecolor": "white"
           }
          },
          "shapedefaults": {
           "line": {
            "color": "#2a3f5f"
           }
          },
          "ternary": {
           "aaxis": {
            "gridcolor": "white",
            "linecolor": "white",
            "ticks": ""
           },
           "baxis": {
            "gridcolor": "white",
            "linecolor": "white",
            "ticks": ""
           },
           "bgcolor": "#E5ECF6",
           "caxis": {
            "gridcolor": "white",
            "linecolor": "white",
            "ticks": ""
           }
          },
          "title": {
           "x": 0.05
          },
          "xaxis": {
           "automargin": true,
           "gridcolor": "white",
           "linecolor": "white",
           "ticks": "",
           "title": {
            "standoff": 15
           },
           "zerolinecolor": "white",
           "zerolinewidth": 2
          },
          "yaxis": {
           "automargin": true,
           "gridcolor": "white",
           "linecolor": "white",
           "ticks": "",
           "title": {
            "standoff": 15
           },
           "zerolinecolor": "white",
           "zerolinewidth": 2
          }
         }
        },
        "title": {
         "text": "Воронка событий",
         "x": 0.6
        },
        "xaxis": {
         "anchor": "y",
         "domain": [
          0,
          1
         ],
         "title": {
          "text": "user_id"
         }
        },
        "yaxis": {
         "anchor": "x",
         "domain": [
          0,
          1
         ],
         "title": {
          "text": "event_name"
         }
        }
       }
      },
      "text/html": [
       "<div>                            <div id=\"2c589fb0-a189-44ba-a2fd-c95db830b44b\" class=\"plotly-graph-div\" style=\"height:525px; width:100%;\"></div>            <script type=\"text/javascript\">                require([\"plotly\"], function(Plotly) {                    window.PLOTLYENV=window.PLOTLYENV || {};                                    if (document.getElementById(\"2c589fb0-a189-44ba-a2fd-c95db830b44b\")) {                    Plotly.newPlot(                        \"2c589fb0-a189-44ba-a2fd-c95db830b44b\",                        [{\"hovertemplate\":\"group=B<br>user_id=%{x}<br>event_name=%{y}<extra></extra>\",\"legendgroup\":\"B\",\"marker\":{\"color\":\"#636efa\"},\"name\":\"B\",\"orientation\":\"h\",\"showlegend\":true,\"x\":[2493,1531,1230,1181,279],\"xaxis\":\"x\",\"y\":[\"MainScreenAppear\",\"OffersScreenAppear\",\"CartScreenAppear\",\"PaymentScreenSuccessful\",\"Tutorial\"],\"yaxis\":\"y\",\"type\":\"funnel\"},{\"hovertemplate\":\"group=A1<br>user_id=%{x}<br>event_name=%{y}<extra></extra>\",\"legendgroup\":\"A1\",\"marker\":{\"color\":\"#EF553B\"},\"name\":\"A1\",\"orientation\":\"h\",\"showlegend\":true,\"x\":[2476,1520,1238,1158,283],\"xaxis\":\"x\",\"y\":[\"MainScreenAppear\",\"OffersScreenAppear\",\"CartScreenAppear\",\"PaymentScreenSuccessful\",\"Tutorial\"],\"yaxis\":\"y\",\"type\":\"funnel\"},{\"hovertemplate\":\"group=A<br>user_id=%{x}<br>event_name=%{y}<extra></extra>\",\"legendgroup\":\"A\",\"marker\":{\"color\":\"#00cc96\"},\"name\":\"A\",\"orientation\":\"h\",\"showlegend\":true,\"x\":[2450,1542,1266,1200,278],\"xaxis\":\"x\",\"y\":[\"MainScreenAppear\",\"OffersScreenAppear\",\"CartScreenAppear\",\"PaymentScreenSuccessful\",\"Tutorial\"],\"yaxis\":\"y\",\"type\":\"funnel\"}],                        {\"template\":{\"data\":{\"bar\":[{\"error_x\":{\"color\":\"#2a3f5f\"},\"error_y\":{\"color\":\"#2a3f5f\"},\"marker\":{\"line\":{\"color\":\"#E5ECF6\",\"width\":0.5},\"pattern\":{\"fillmode\":\"overlay\",\"size\":10,\"solidity\":0.2}},\"type\":\"bar\"}],\"barpolar\":[{\"marker\":{\"line\":{\"color\":\"#E5ECF6\",\"width\":0.5},\"pattern\":{\"fillmode\":\"overlay\",\"size\":10,\"solidity\":0.2}},\"type\":\"barpolar\"}],\"carpet\":[{\"aaxis\":{\"endlinecolor\":\"#2a3f5f\",\"gridcolor\":\"white\",\"linecolor\":\"white\",\"minorgridcolor\":\"white\",\"startlinecolor\":\"#2a3f5f\"},\"baxis\":{\"endlinecolor\":\"#2a3f5f\",\"gridcolor\":\"white\",\"linecolor\":\"white\",\"minorgridcolor\":\"white\",\"startlinecolor\":\"#2a3f5f\"},\"type\":\"carpet\"}],\"choropleth\":[{\"colorbar\":{\"outlinewidth\":0,\"ticks\":\"\"},\"type\":\"choropleth\"}],\"contour\":[{\"colorbar\":{\"outlinewidth\":0,\"ticks\":\"\"},\"colorscale\":[[0.0,\"#0d0887\"],[0.1111111111111111,\"#46039f\"],[0.2222222222222222,\"#7201a8\"],[0.3333333333333333,\"#9c179e\"],[0.4444444444444444,\"#bd3786\"],[0.5555555555555556,\"#d8576b\"],[0.6666666666666666,\"#ed7953\"],[0.7777777777777778,\"#fb9f3a\"],[0.8888888888888888,\"#fdca26\"],[1.0,\"#f0f921\"]],\"type\":\"contour\"}],\"contourcarpet\":[{\"colorbar\":{\"outlinewidth\":0,\"ticks\":\"\"},\"type\":\"contourcarpet\"}],\"heatmap\":[{\"colorbar\":{\"outlinewidth\":0,\"ticks\":\"\"},\"colorscale\":[[0.0,\"#0d0887\"],[0.1111111111111111,\"#46039f\"],[0.2222222222222222,\"#7201a8\"],[0.3333333333333333,\"#9c179e\"],[0.4444444444444444,\"#bd3786\"],[0.5555555555555556,\"#d8576b\"],[0.6666666666666666,\"#ed7953\"],[0.7777777777777778,\"#fb9f3a\"],[0.8888888888888888,\"#fdca26\"],[1.0,\"#f0f921\"]],\"type\":\"heatmap\"}],\"heatmapgl\":[{\"colorbar\":{\"outlinewidth\":0,\"ticks\":\"\"},\"colorscale\":[[0.0,\"#0d0887\"],[0.1111111111111111,\"#46039f\"],[0.2222222222222222,\"#7201a8\"],[0.3333333333333333,\"#9c179e\"],[0.4444444444444444,\"#bd3786\"],[0.5555555555555556,\"#d8576b\"],[0.6666666666666666,\"#ed7953\"],[0.7777777777777778,\"#fb9f3a\"],[0.8888888888888888,\"#fdca26\"],[1.0,\"#f0f921\"]],\"type\":\"heatmapgl\"}],\"histogram\":[{\"marker\":{\"pattern\":{\"fillmode\":\"overlay\",\"size\":10,\"solidity\":0.2}},\"type\":\"histogram\"}],\"histogram2d\":[{\"colorbar\":{\"outlinewidth\":0,\"ticks\":\"\"},\"colorscale\":[[0.0,\"#0d0887\"],[0.1111111111111111,\"#46039f\"],[0.2222222222222222,\"#7201a8\"],[0.3333333333333333,\"#9c179e\"],[0.4444444444444444,\"#bd3786\"],[0.5555555555555556,\"#d8576b\"],[0.6666666666666666,\"#ed7953\"],[0.7777777777777778,\"#fb9f3a\"],[0.8888888888888888,\"#fdca26\"],[1.0,\"#f0f921\"]],\"type\":\"histogram2d\"}],\"histogram2dcontour\":[{\"colorbar\":{\"outlinewidth\":0,\"ticks\":\"\"},\"colorscale\":[[0.0,\"#0d0887\"],[0.1111111111111111,\"#46039f\"],[0.2222222222222222,\"#7201a8\"],[0.3333333333333333,\"#9c179e\"],[0.4444444444444444,\"#bd3786\"],[0.5555555555555556,\"#d8576b\"],[0.6666666666666666,\"#ed7953\"],[0.7777777777777778,\"#fb9f3a\"],[0.8888888888888888,\"#fdca26\"],[1.0,\"#f0f921\"]],\"type\":\"histogram2dcontour\"}],\"mesh3d\":[{\"colorbar\":{\"outlinewidth\":0,\"ticks\":\"\"},\"type\":\"mesh3d\"}],\"parcoords\":[{\"line\":{\"colorbar\":{\"outlinewidth\":0,\"ticks\":\"\"}},\"type\":\"parcoords\"}],\"pie\":[{\"automargin\":true,\"type\":\"pie\"}],\"scatter\":[{\"marker\":{\"colorbar\":{\"outlinewidth\":0,\"ticks\":\"\"}},\"type\":\"scatter\"}],\"scatter3d\":[{\"line\":{\"colorbar\":{\"outlinewidth\":0,\"ticks\":\"\"}},\"marker\":{\"colorbar\":{\"outlinewidth\":0,\"ticks\":\"\"}},\"type\":\"scatter3d\"}],\"scattercarpet\":[{\"marker\":{\"colorbar\":{\"outlinewidth\":0,\"ticks\":\"\"}},\"type\":\"scattercarpet\"}],\"scattergeo\":[{\"marker\":{\"colorbar\":{\"outlinewidth\":0,\"ticks\":\"\"}},\"type\":\"scattergeo\"}],\"scattergl\":[{\"marker\":{\"colorbar\":{\"outlinewidth\":0,\"ticks\":\"\"}},\"type\":\"scattergl\"}],\"scattermapbox\":[{\"marker\":{\"colorbar\":{\"outlinewidth\":0,\"ticks\":\"\"}},\"type\":\"scattermapbox\"}],\"scatterpolar\":[{\"marker\":{\"colorbar\":{\"outlinewidth\":0,\"ticks\":\"\"}},\"type\":\"scatterpolar\"}],\"scatterpolargl\":[{\"marker\":{\"colorbar\":{\"outlinewidth\":0,\"ticks\":\"\"}},\"type\":\"scatterpolargl\"}],\"scatterternary\":[{\"marker\":{\"colorbar\":{\"outlinewidth\":0,\"ticks\":\"\"}},\"type\":\"scatterternary\"}],\"surface\":[{\"colorbar\":{\"outlinewidth\":0,\"ticks\":\"\"},\"colorscale\":[[0.0,\"#0d0887\"],[0.1111111111111111,\"#46039f\"],[0.2222222222222222,\"#7201a8\"],[0.3333333333333333,\"#9c179e\"],[0.4444444444444444,\"#bd3786\"],[0.5555555555555556,\"#d8576b\"],[0.6666666666666666,\"#ed7953\"],[0.7777777777777778,\"#fb9f3a\"],[0.8888888888888888,\"#fdca26\"],[1.0,\"#f0f921\"]],\"type\":\"surface\"}],\"table\":[{\"cells\":{\"fill\":{\"color\":\"#EBF0F8\"},\"line\":{\"color\":\"white\"}},\"header\":{\"fill\":{\"color\":\"#C8D4E3\"},\"line\":{\"color\":\"white\"}},\"type\":\"table\"}]},\"layout\":{\"annotationdefaults\":{\"arrowcolor\":\"#2a3f5f\",\"arrowhead\":0,\"arrowwidth\":1},\"autotypenumbers\":\"strict\",\"coloraxis\":{\"colorbar\":{\"outlinewidth\":0,\"ticks\":\"\"}},\"colorscale\":{\"diverging\":[[0,\"#8e0152\"],[0.1,\"#c51b7d\"],[0.2,\"#de77ae\"],[0.3,\"#f1b6da\"],[0.4,\"#fde0ef\"],[0.5,\"#f7f7f7\"],[0.6,\"#e6f5d0\"],[0.7,\"#b8e186\"],[0.8,\"#7fbc41\"],[0.9,\"#4d9221\"],[1,\"#276419\"]],\"sequential\":[[0.0,\"#0d0887\"],[0.1111111111111111,\"#46039f\"],[0.2222222222222222,\"#7201a8\"],[0.3333333333333333,\"#9c179e\"],[0.4444444444444444,\"#bd3786\"],[0.5555555555555556,\"#d8576b\"],[0.6666666666666666,\"#ed7953\"],[0.7777777777777778,\"#fb9f3a\"],[0.8888888888888888,\"#fdca26\"],[1.0,\"#f0f921\"]],\"sequentialminus\":[[0.0,\"#0d0887\"],[0.1111111111111111,\"#46039f\"],[0.2222222222222222,\"#7201a8\"],[0.3333333333333333,\"#9c179e\"],[0.4444444444444444,\"#bd3786\"],[0.5555555555555556,\"#d8576b\"],[0.6666666666666666,\"#ed7953\"],[0.7777777777777778,\"#fb9f3a\"],[0.8888888888888888,\"#fdca26\"],[1.0,\"#f0f921\"]]},\"colorway\":[\"#636efa\",\"#EF553B\",\"#00cc96\",\"#ab63fa\",\"#FFA15A\",\"#19d3f3\",\"#FF6692\",\"#B6E880\",\"#FF97FF\",\"#FECB52\"],\"font\":{\"color\":\"#2a3f5f\"},\"geo\":{\"bgcolor\":\"white\",\"lakecolor\":\"white\",\"landcolor\":\"#E5ECF6\",\"showlakes\":true,\"showland\":true,\"subunitcolor\":\"white\"},\"hoverlabel\":{\"align\":\"left\"},\"hovermode\":\"closest\",\"mapbox\":{\"style\":\"light\"},\"paper_bgcolor\":\"white\",\"plot_bgcolor\":\"#E5ECF6\",\"polar\":{\"angularaxis\":{\"gridcolor\":\"white\",\"linecolor\":\"white\",\"ticks\":\"\"},\"bgcolor\":\"#E5ECF6\",\"radialaxis\":{\"gridcolor\":\"white\",\"linecolor\":\"white\",\"ticks\":\"\"}},\"scene\":{\"xaxis\":{\"backgroundcolor\":\"#E5ECF6\",\"gridcolor\":\"white\",\"gridwidth\":2,\"linecolor\":\"white\",\"showbackground\":true,\"ticks\":\"\",\"zerolinecolor\":\"white\"},\"yaxis\":{\"backgroundcolor\":\"#E5ECF6\",\"gridcolor\":\"white\",\"gridwidth\":2,\"linecolor\":\"white\",\"showbackground\":true,\"ticks\":\"\",\"zerolinecolor\":\"white\"},\"zaxis\":{\"backgroundcolor\":\"#E5ECF6\",\"gridcolor\":\"white\",\"gridwidth\":2,\"linecolor\":\"white\",\"showbackground\":true,\"ticks\":\"\",\"zerolinecolor\":\"white\"}},\"shapedefaults\":{\"line\":{\"color\":\"#2a3f5f\"}},\"ternary\":{\"aaxis\":{\"gridcolor\":\"white\",\"linecolor\":\"white\",\"ticks\":\"\"},\"baxis\":{\"gridcolor\":\"white\",\"linecolor\":\"white\",\"ticks\":\"\"},\"bgcolor\":\"#E5ECF6\",\"caxis\":{\"gridcolor\":\"white\",\"linecolor\":\"white\",\"ticks\":\"\"}},\"title\":{\"x\":0.05},\"xaxis\":{\"automargin\":true,\"gridcolor\":\"white\",\"linecolor\":\"white\",\"ticks\":\"\",\"title\":{\"standoff\":15},\"zerolinecolor\":\"white\",\"zerolinewidth\":2},\"yaxis\":{\"automargin\":true,\"gridcolor\":\"white\",\"linecolor\":\"white\",\"ticks\":\"\",\"title\":{\"standoff\":15},\"zerolinecolor\":\"white\",\"zerolinewidth\":2}}},\"xaxis\":{\"anchor\":\"y\",\"domain\":[0.0,1.0],\"title\":{\"text\":\"user_id\"}},\"yaxis\":{\"anchor\":\"x\",\"domain\":[0.0,1.0],\"title\":{\"text\":\"event_name\"}},\"legend\":{\"title\":{\"text\":\"group\"},\"tracegroupgap\":0},\"margin\":{\"t\":60},\"title\":{\"text\":\"\\u0412\\u043e\\u0440\\u043e\\u043d\\u043a\\u0430 \\u0441\\u043e\\u0431\\u044b\\u0442\\u0438\\u0439\",\"x\":0.6}},                        {\"responsive\": true}                    ).then(function(){\n",
       "                            \n",
       "var gd = document.getElementById('2c589fb0-a189-44ba-a2fd-c95db830b44b');\n",
       "var x = new MutationObserver(function (mutations, observer) {{\n",
       "        var display = window.getComputedStyle(gd).display;\n",
       "        if (!display || display === 'none') {{\n",
       "            console.log([gd, 'removed!']);\n",
       "            Plotly.purge(gd);\n",
       "            observer.disconnect();\n",
       "        }}\n",
       "}});\n",
       "\n",
       "// Listen for the removal of the full notebook cells\n",
       "var notebookContainer = gd.closest('#notebook-container');\n",
       "if (notebookContainer) {{\n",
       "    x.observe(notebookContainer, {childList: true});\n",
       "}}\n",
       "\n",
       "// Listen for the clearing of the current output cell\n",
       "var outputEl = gd.closest('.output');\n",
       "if (outputEl) {{\n",
       "    x.observe(outputEl, {childList: true});\n",
       "}}\n",
       "\n",
       "                        })                };                });            </script>        </div>"
      ]
     },
     "metadata": {},
     "output_type": "display_data"
    }
   ],
   "source": [
    "funnel = px.funnel(funnel_with_group, x=funnel_with_group['user_id'], y=funnel_with_group['event_name'], color='group')\n",
    "funnel.update_layout(title='Воронка событий',  title_x = 0.6)\n",
    "funnel.show()"
   ]
  },
  {
   "attachments": {
    "image.png": {
     "image/png": "[encoded data removed]"
    }
   },
   "cell_type": "markdown",
   "metadata": {},
   "source": [
    "![image.png](attachment:image.png)"
   ]
  },
  {
   "cell_type": "markdown",
   "metadata": {},
   "source": [
    "В целом, результаты у групп схожие"
   ]
  },
  {
   "cell_type": "markdown",
   "metadata": {},
   "source": [
    "### На каком шаге теряете больше всего пользователей?"
   ]
  },
  {
   "cell_type": "markdown",
   "metadata": {},
   "source": [
    "При переходе с 1 шага(Главный экран) на 2 –ой(Предложение покупки), мы теряем 38 % пользователей, что является самым высоким показателем среди остальных событий. Возможно предложение о покупке слишком навязчивое, стоит внести коррективы в данный раздел."
   ]
  },
  {
   "cell_type": "markdown",
   "metadata": {},
   "source": [
    "### Какая доля пользователей доходит от первого события до оплаты?"
   ]
  },
  {
   "cell_type": "markdown",
   "metadata": {},
   "source": [
    "От первого события до оплаты доходит 47.7% пользователей."
   ]
  },
  {
   "cell_type": "markdown",
   "metadata": {},
   "source": [
    "Вывод по разделу: Имеется 5 событий: MainScreenAppear, OffersScreenAppear, CartScreenAppear, PaymentScreenSuccessful и Tutorial.\n",
    "\n",
    "Чаще всех встречается событие MainScreenAppear\n",
    "\n",
    "\n",
    "События происходят в следующем порядке:\n",
    "\n",
    "    - MainScreenAppear - Главный экран(98.47% от общего количества);\n",
    "    - OffersScreenAppear - Экран с предложением о покупке(60.96% от общего количества);\n",
    "    - CartScreenAppear - Экран с корзиной(49.56% от общего количества);\n",
    "    - PaymentScreenSuccessful - Экран успешного платежа(46.97% от общего количества);\n",
    "\n",
    "А вот событие Tutorial(Руководство пользователя) не подходит для данной цепочки событий, при расчёте воронки его учитывать не будем\n",
    "\n",
    "При переходе с главного экрана на экран предложения покупки, мы теряем 38.1 % пользователей.\n",
    "До появления экрана с корзиной дошли около 50.3 % пользователей, совершили успешный платеж 47.7 % от общего количества пользователей.\n",
    "При переходе с главного экрана на экран предложения покупки остается – 61.9 % пользователей, с экрана предложения покупки на экран корзины – 81.3 % пользователей, с экрана корзины на экран успешной оплаты – 94.8 % пользователей.\n",
    "\n",
    "С первого до последнего шага доходит 47.7 % пользователей."
   ]
  },
  {
   "cell_type": "markdown",
   "metadata": {},
   "source": [
    "## Изучение результатов эксперимента"
   ]
  },
  {
   "cell_type": "markdown",
   "metadata": {},
   "source": [
    "### Сколько пользователей в каждой экспериментальной группе?"
   ]
  },
  {
   "cell_type": "code",
   "execution_count": 69,
   "metadata": {},
   "outputs": [
    {
     "name": "stdout",
     "output_type": "stream",
     "text": [
      "group\n",
      "A     2484\n",
      "A1    2513\n",
      "B     2537\n",
      "AA    4997\n",
      "Name: user_id, dtype: int64\n"
     ]
    }
   ],
   "source": [
    "total_users = new_data.groupby('group')['user_id'].nunique()\n",
    "total_users['AA'] = total_users['A'] + total_users['A1']\n",
    "print(total_users)"
   ]
  },
  {
   "cell_type": "markdown",
   "metadata": {},
   "source": [
    "Кол-во пользователей в группах:\n",
    "\n",
    "    A - 2484\n",
    "    A1 - 2513\n",
    "    B - 2537\n",
    "    AA- 4997"
   ]
  },
  {
   "cell_type": "code",
   "execution_count": 70,
   "metadata": {},
   "outputs": [
    {
     "data": {
      "text/html": [
       "<div>\n",
       "<style scoped>\n",
       "    .dataframe tbody tr th:only-of-type {\n",
       "        vertical-align: middle;\n",
       "    }\n",
       "\n",
       "    .dataframe tbody tr th {\n",
       "        vertical-align: top;\n",
       "    }\n",
       "\n",
       "    .dataframe thead th {\n",
       "        text-align: right;\n",
       "    }\n",
       "</style>\n",
       "<table border=\"1\" class=\"dataframe\">\n",
       "  <thead>\n",
       "    <tr style=\"text-align: right;\">\n",
       "      <th></th>\n",
       "      <th>user_id</th>\n",
       "      <th>group</th>\n",
       "    </tr>\n",
       "  </thead>\n",
       "  <tbody>\n",
       "  </tbody>\n",
       "</table>\n",
       "</div>"
      ],
      "text/plain": [
       "Empty DataFrame\n",
       "Columns: [user_id, group]\n",
       "Index: []"
      ]
     },
     "execution_count": 70,
     "metadata": {},
     "output_type": "execute_result"
    }
   ],
   "source": [
    "# также проверим, чтобы пользователь не входил сразу в  несколько групп одновременно\n",
    "\n",
    "new_data.groupby('user_id')['group'].nunique().reset_index().query('group > 1')"
   ]
  },
  {
   "cell_type": "markdown",
   "metadata": {},
   "source": [
    "Таких пользователей не оказалось, можем переходить к следующему шагу"
   ]
  },
  {
   "cell_type": "markdown",
   "metadata": {},
   "source": [
    "### Есть 2 контрольные группы для А/А-эксперимента, чтобы проверить корректность всех механизмов и расчётов. Проверьте, находят ли статистические критерии разницу между выборками 246 и 247."
   ]
  },
  {
   "cell_type": "markdown",
   "metadata": {},
   "source": [
    "Проверка критериев успешного A/A (А/В)-теста:\n",
    "\n",
    "    - Количество пользователей в различных группах различается не более, чем на 1%\n",
    "    - Для всех групп фиксируют и отправляют в системы аналитики данные об одном и том же\n",
    "    - Различие ключевых метрик по группам не превышает 1% и не имеет статистической значимости\n",
    "    - Попавший в одну из групп посетитель остаётся в этой группе до конца теста."
   ]
  },
  {
   "cell_type": "code",
   "execution_count": 71,
   "metadata": {},
   "outputs": [
    {
     "name": "stdout",
     "output_type": "stream",
     "text": [
      " Количество пользователей в группах A и A1 различается на 1.15%\n"
     ]
    }
   ],
   "source": [
    "print(f' Количество пользователей в группах A и A1 различается на {round(100 - total_users[\"A\"] / total_users[\"A1\"] * 100, 2)}%')"
   ]
  },
  {
   "cell_type": "code",
   "execution_count": 72,
   "metadata": {},
   "outputs": [
    {
     "data": {
      "text/html": [
       "<div>\n",
       "<style scoped>\n",
       "    .dataframe tbody tr th:only-of-type {\n",
       "        vertical-align: middle;\n",
       "    }\n",
       "\n",
       "    .dataframe tbody tr th {\n",
       "        vertical-align: top;\n",
       "    }\n",
       "\n",
       "    .dataframe thead th {\n",
       "        text-align: right;\n",
       "    }\n",
       "</style>\n",
       "<table border=\"1\" class=\"dataframe\">\n",
       "  <thead>\n",
       "    <tr style=\"text-align: right;\">\n",
       "      <th>group</th>\n",
       "      <th>A</th>\n",
       "      <th>A1</th>\n",
       "      <th>B</th>\n",
       "      <th>AA</th>\n",
       "    </tr>\n",
       "    <tr>\n",
       "      <th>event_name</th>\n",
       "      <th></th>\n",
       "      <th></th>\n",
       "      <th></th>\n",
       "      <th></th>\n",
       "    </tr>\n",
       "  </thead>\n",
       "  <tbody>\n",
       "    <tr>\n",
       "      <th>MainScreenAppear</th>\n",
       "      <td>2450</td>\n",
       "      <td>2476</td>\n",
       "      <td>2493</td>\n",
       "      <td>4926</td>\n",
       "    </tr>\n",
       "    <tr>\n",
       "      <th>OffersScreenAppear</th>\n",
       "      <td>1542</td>\n",
       "      <td>1520</td>\n",
       "      <td>1531</td>\n",
       "      <td>3062</td>\n",
       "    </tr>\n",
       "    <tr>\n",
       "      <th>CartScreenAppear</th>\n",
       "      <td>1266</td>\n",
       "      <td>1238</td>\n",
       "      <td>1230</td>\n",
       "      <td>2504</td>\n",
       "    </tr>\n",
       "    <tr>\n",
       "      <th>PaymentScreenSuccessful</th>\n",
       "      <td>1200</td>\n",
       "      <td>1158</td>\n",
       "      <td>1181</td>\n",
       "      <td>2358</td>\n",
       "    </tr>\n",
       "  </tbody>\n",
       "</table>\n",
       "</div>"
      ],
      "text/plain": [
       "group                       A    A1     B    AA\n",
       "event_name                                     \n",
       "MainScreenAppear         2450  2476  2493  4926\n",
       "OffersScreenAppear       1542  1520  1531  3062\n",
       "CartScreenAppear         1266  1238  1230  2504\n",
       "PaymentScreenSuccessful  1200  1158  1181  2358"
      ]
     },
     "execution_count": 72,
     "metadata": {},
     "output_type": "execute_result"
    }
   ],
   "source": [
    "all_users = new_data.query('event_name != \"Tutorial\"')\\\n",
    "            .pivot_table(index='event_name', values='user_id', columns='group', aggfunc='nunique')\\\n",
    "            .sort_values(by='A', ascending=False)\n",
    "\n",
    "all_users['AA'] = all_users['A'] + all_users['A1']\n",
    "\n",
    "\n",
    "all_users"
   ]
  },
  {
   "cell_type": "code",
   "execution_count": 73,
   "metadata": {},
   "outputs": [
    {
     "data": {
      "text/html": [
       "<div>\n",
       "<style scoped>\n",
       "    .dataframe tbody tr th:only-of-type {\n",
       "        vertical-align: middle;\n",
       "    }\n",
       "\n",
       "    .dataframe tbody tr th {\n",
       "        vertical-align: top;\n",
       "    }\n",
       "\n",
       "    .dataframe thead th {\n",
       "        text-align: right;\n",
       "    }\n",
       "</style>\n",
       "<table border=\"1\" class=\"dataframe\">\n",
       "  <thead>\n",
       "    <tr style=\"text-align: right;\">\n",
       "      <th>group</th>\n",
       "      <th>A</th>\n",
       "      <th>A1</th>\n",
       "      <th>B</th>\n",
       "      <th>AA</th>\n",
       "      <th>per_A</th>\n",
       "      <th>per_A1</th>\n",
       "      <th>per_B</th>\n",
       "    </tr>\n",
       "    <tr>\n",
       "      <th>event_name</th>\n",
       "      <th></th>\n",
       "      <th></th>\n",
       "      <th></th>\n",
       "      <th></th>\n",
       "      <th></th>\n",
       "      <th></th>\n",
       "      <th></th>\n",
       "    </tr>\n",
       "  </thead>\n",
       "  <tbody>\n",
       "    <tr>\n",
       "      <th>MainScreenAppear</th>\n",
       "      <td>2450</td>\n",
       "      <td>2476</td>\n",
       "      <td>2493</td>\n",
       "      <td>4926</td>\n",
       "      <td>98.63</td>\n",
       "      <td>98.53</td>\n",
       "      <td>98.27</td>\n",
       "    </tr>\n",
       "    <tr>\n",
       "      <th>OffersScreenAppear</th>\n",
       "      <td>1542</td>\n",
       "      <td>1520</td>\n",
       "      <td>1531</td>\n",
       "      <td>3062</td>\n",
       "      <td>62.08</td>\n",
       "      <td>60.49</td>\n",
       "      <td>60.35</td>\n",
       "    </tr>\n",
       "    <tr>\n",
       "      <th>CartScreenAppear</th>\n",
       "      <td>1266</td>\n",
       "      <td>1238</td>\n",
       "      <td>1230</td>\n",
       "      <td>2504</td>\n",
       "      <td>50.97</td>\n",
       "      <td>49.26</td>\n",
       "      <td>48.48</td>\n",
       "    </tr>\n",
       "    <tr>\n",
       "      <th>PaymentScreenSuccessful</th>\n",
       "      <td>1200</td>\n",
       "      <td>1158</td>\n",
       "      <td>1181</td>\n",
       "      <td>2358</td>\n",
       "      <td>48.31</td>\n",
       "      <td>46.08</td>\n",
       "      <td>46.55</td>\n",
       "    </tr>\n",
       "  </tbody>\n",
       "</table>\n",
       "</div>"
      ],
      "text/plain": [
       "group                       A    A1     B    AA  per_A  per_A1  per_B\n",
       "event_name                                                           \n",
       "MainScreenAppear         2450  2476  2493  4926  98.63   98.53  98.27\n",
       "OffersScreenAppear       1542  1520  1531  3062  62.08   60.49  60.35\n",
       "CartScreenAppear         1266  1238  1230  2504  50.97   49.26  48.48\n",
       "PaymentScreenSuccessful  1200  1158  1181  2358  48.31   46.08  46.55"
      ]
     },
     "execution_count": 73,
     "metadata": {},
     "output_type": "execute_result"
    }
   ],
   "source": [
    "all_users['per_A'] = round(all_users['A'] / total_users['A'] * 100, 2)\n",
    "all_users['per_A1'] = round(all_users['A1'] /total_users['A1'] * 100, 2)\n",
    "all_users['per_B'] = round(all_users['B'] / total_users['B'] * 100, 2)\n",
    "\n",
    "all_users"
   ]
  },
  {
   "cell_type": "markdown",
   "metadata": {},
   "source": [
    "Предваительно можно сказать, что результаты одинаковые, особых отличий нет, проверим наше предположение в следующих пунктах."
   ]
  },
  {
   "cell_type": "markdown",
   "metadata": {},
   "source": [
    "### Выберите самое популярное событие. Посчитайте число пользователей, совершивших это событие в каждой из контрольных групп. Посчитайте долю пользователей, совершивших это событие. Проверьте, будет ли отличие между группами статистически достоверным. Проделайте то же самое для всех других событий (удобно обернуть проверку в отдельную функцию). Можно ли сказать, что разбиение на группы работает корректно?"
   ]
  },
  {
   "cell_type": "markdown",
   "metadata": {},
   "source": [
    "Для проверки гипотез воспользуемся Z-критерием и применим поправку Бонферрони.\n",
    "\n",
    "Поправка Бонферрони — это метод, который уменьшает вероятность ложноположительных результатов, делая критерии для статистической значимости более строгими. Уровни значимости в каждом из m сравнений в m раз меньше, чем уровень значимости, требуемый при единственном сравнении. Проще говоря, делят уровень значимости α на число гипотез:\n",
    "\n",
    "Сформулируем гипотезы:\n",
    "\n",
    "    - H0: Конверсия пользователей в обеих группах равна\n",
    "    - H1: Конверсия в обеих группах не равна"
   ]
  },
  {
   "cell_type": "code",
   "execution_count": 74,
   "metadata": {},
   "outputs": [],
   "source": [
    "def z_test(group1, group2, alpha, n): \n",
    "    p1_event = all_users.loc[event_name, group1]\n",
    "    p2_event = all_users.loc[event_name, group2] \n",
    "    p1_users = total_users.loc[group1]  \n",
    "    p2_users = total_users.loc[group2]  \n",
    "    \n",
    "    p1 = p1_event / p1_users \n",
    "    p2 = p2_event / p2_users \n",
    "    p_combined = (p1_event + p2_event) / (p1_users + p2_users) \n",
    "    difference = p1 - p2\n",
    "    \n",
    "    z_value = difference / mth.sqrt(p_combined * (1 - p_combined) * (1 / p1_users + 1 / p2_users))\n",
    "    \n",
    "    distr = st.norm(0, 1)\n",
    "    p_value = (1 - distr.cdf(abs(z_value))) * 2\n",
    "    \n",
    "    # применим поправку Бонферрони\n",
    "    bonferroni_alpha = alpha / n\n",
    "    \n",
    "    print('Проверка для групп {} и {}, событие: {}, p-значение: {p_value}'.format(group1, group2, event_name, p_value=p_value))\n",
    "    if (p_value < bonferroni_alpha):\n",
    "        print(\"Отвергаем нулевую гипотезу о равенстве данных в группах\")\n",
    "    else:\n",
    "        print(\"Не получилось отвергнуть нулевую гипотезу о равенстве данных в группах\")"
   ]
  },
  {
   "cell_type": "code",
   "execution_count": 75,
   "metadata": {},
   "outputs": [
    {
     "name": "stdout",
     "output_type": "stream",
     "text": [
      "Проверка для групп A и A1, событие: MainScreenAppear, p-значение: 0.7570597232046099\n",
      "Не получилось отвергнуть нулевую гипотезу о равенстве данных в группах\n",
      "Проверка для групп A и A1, событие: OffersScreenAppear, p-значение: 0.2480954578522181\n",
      "Не получилось отвергнуть нулевую гипотезу о равенстве данных в группах\n",
      "Проверка для групп A и A1, событие: CartScreenAppear, p-значение: 0.22883372237997213\n",
      "Не получилось отвергнуть нулевую гипотезу о равенстве данных в группах\n",
      "Проверка для групп A и A1, событие: PaymentScreenSuccessful, p-значение: 0.11456679313141849\n",
      "Не получилось отвергнуть нулевую гипотезу о равенстве данных в группах\n"
     ]
    }
   ],
   "source": [
    "# сравним группу А с группой А1\n",
    "for event_name in all_users.index:\n",
    "    z_test('A', 'A1', 0.05, 16)"
   ]
  },
  {
   "cell_type": "markdown",
   "metadata": {},
   "source": [
    "Статистически значимая разница между конверсиями пользователей группы А и А1 отсуствует.\n",
    "\n",
    "Можно сказать, что разбиение на группы работает корректно."
   ]
  },
  {
   "cell_type": "markdown",
   "metadata": {},
   "source": [
    "### Аналогично поступите с группой с изменённым шрифтом. Сравните результаты с каждой из контрольных групп в отдельности по каждому событию. Сравните результаты с объединённой контрольной группой. Какие выводы из эксперимента можно сделать?"
   ]
  },
  {
   "cell_type": "code",
   "execution_count": 76,
   "metadata": {},
   "outputs": [
    {
     "name": "stdout",
     "output_type": "stream",
     "text": [
      "Проверка для групп A и B, событие: MainScreenAppear, p-значение: 0.2949721933554552\n",
      "Не получилось отвергнуть нулевую гипотезу о равенстве данных в группах\n",
      "Проверка для групп A и B, событие: OffersScreenAppear, p-значение: 0.20836205402738917\n",
      "Не получилось отвергнуть нулевую гипотезу о равенстве данных в группах\n",
      "Проверка для групп A и B, событие: CartScreenAppear, p-значение: 0.07842923237520116\n",
      "Не получилось отвергнуть нулевую гипотезу о равенстве данных в группах\n",
      "Проверка для групп A и B, событие: PaymentScreenSuccessful, p-значение: 0.2122553275697796\n",
      "Не получилось отвергнуть нулевую гипотезу о равенстве данных в группах\n"
     ]
    }
   ],
   "source": [
    "# сравним группу А с группой B\n",
    "for event_name in all_users.index:\n",
    "    z_test('A', 'B', 0.05, 16)"
   ]
  },
  {
   "cell_type": "code",
   "execution_count": 77,
   "metadata": {},
   "outputs": [
    {
     "name": "stdout",
     "output_type": "stream",
     "text": [
      "Проверка для групп A1 и B, событие: MainScreenAppear, p-значение: 0.4587053616621515\n",
      "Не получилось отвергнуть нулевую гипотезу о равенстве данных в группах\n",
      "Проверка для групп A1 и B, событие: OffersScreenAppear, p-значение: 0.9197817830592261\n",
      "Не получилось отвергнуть нулевую гипотезу о равенстве данных в группах\n",
      "Проверка для групп A1 и B, событие: CartScreenAppear, p-значение: 0.5786197879539783\n",
      "Не получилось отвергнуть нулевую гипотезу о равенстве данных в группах\n",
      "Проверка для групп A1 и B, событие: PaymentScreenSuccessful, p-значение: 0.7373415053803964\n",
      "Не получилось отвергнуть нулевую гипотезу о равенстве данных в группах\n"
     ]
    }
   ],
   "source": [
    "# сравним группу А1 с группой B\n",
    "for event_name in all_users.index:\n",
    "    z_test('A1', 'B', 0.05, 16)"
   ]
  },
  {
   "cell_type": "code",
   "execution_count": 78,
   "metadata": {},
   "outputs": [
    {
     "name": "stdout",
     "output_type": "stream",
     "text": [
      "Проверка для групп AA и B, событие: MainScreenAppear, p-значение: 0.29424526837179577\n",
      "Не получилось отвергнуть нулевую гипотезу о равенстве данных в группах\n",
      "Проверка для групп AA и B, событие: OffersScreenAppear, p-значение: 0.43425549655188256\n",
      "Не получилось отвергнуть нулевую гипотезу о равенстве данных в группах\n",
      "Проверка для групп AA и B, событие: CartScreenAppear, p-значение: 0.18175875284404386\n",
      "Не получилось отвергнуть нулевую гипотезу о равенстве данных в группах\n",
      "Проверка для групп AA и B, событие: PaymentScreenSuccessful, p-значение: 0.6004294282308704\n",
      "Не получилось отвергнуть нулевую гипотезу о равенстве данных в группах\n"
     ]
    }
   ],
   "source": [
    "# сравним группу АA с группой B\n",
    "for event_name in all_users.index:\n",
    "    z_test('AA', 'B', 0.05, 16)"
   ]
  },
  {
   "cell_type": "markdown",
   "metadata": {},
   "source": [
    "Аналогичный результат, статистически значимая разница не наблюдается для всех событий воронки продаж, в том числе и для объединенных групп А + А1. Можно сделать вывод, что изменения шрифта никак не повлияло на пользователей."
   ]
  },
  {
   "cell_type": "markdown",
   "metadata": {},
   "source": [
    "### Какой уровень значимости вы выбрали при проверке статистических гипотез выше? Посчитайте, сколько проверок статистических гипотез вы сделали. При уровне значимости 0.1 в 10% случаев можно ошибочно отклонить нулевую гипотезу при условии, что она верна. Какой уровень значимости стоит применить? Если вы хотите изменить его, проделайте предыдущие пункты и проверьте свои выводы."
   ]
  },
  {
   "cell_type": "markdown",
   "metadata": {},
   "source": [
    "Был использован уровень статистической значимости α, равный 0,05%.\n",
    "\n",
    "Проведено 16 проверок А/А/В-эксперимента (4 АА теста и 12 АB тестов).\n",
    "\n",
    "Более высокое значение альфа увеличит риск ошибки первого рода, чтобы снизить групповую вероятность\n",
    "ошибки первого рода и скорректировать требуемый уровень значимости alpha, была применена поправка Бонферрони."
   ]
  },
  {
   "cell_type": "markdown",
   "metadata": {},
   "source": [
    "<b>Общий вывод:</b>\n",
    "\n",
    "В результате предобработки:\n",
    "\n",
    "    - Наименования столбцов приведены к стилю snacke_case,\n",
    "    - Скорректирован формат данных столбца event_time на корректный,\n",
    "    - Добавлен отдельный столбец date с датой.\n",
    "    - Удалено 413 полных дубликатов.\n",
    "\n",
    "Поскольку о полноте данных можно говорить только с 01 августа, датафрейм был очищен от периода с 25.07 по 31.07.2019: в итоге \"очистки\" потеряно чуть более 1% событий и всего 0,23% пользователей. Осталось 240887 события 7534 пользователей.\n",
    "\n",
    "При выстраивании последовательной цепочки, мы сделали вывод, что события происходят в следующем порядке:\n",
    "\n",
    "    - MainScreenAppear - Появление главного экрана. Через данное событие прошли 7419 пользователей \n",
    "      (98.47 % от общего количества),\n",
    "    - OffersScreenAppear - Появление экрана с предложением о покупке. 4593 пользователя (60.96 % от\n",
    "      общего количества),\n",
    "    - CartScreenApper - Появление экрана с корзиной. 3734 пользователя (49.96 % от общего \n",
    "      количества),\n",
    "    - PaymentScreenSuccessful - Экран успешного платежа. 3539 пользователей (46.97 % от общего \n",
    "    количества),\n",
    "    - Tutorial - Руководство пользователя. 810 пользователей (11.15 % от общего количства).\n",
    "    \n",
    "При переходе с этапа главного экрана на этап предложение покупки, мы теряем около 38 % пользователей, что является самым высоким показателей, среди остальных шагов в воронке.\n",
    "\n",
    "До появления экрана с корзиной дошли около 50.3 % пользователей, совершили успешный платеж 47.7 % от общего количества пользователей.\n",
    "\n",
    "При переходе с главного экрана на экран предложения покупки остается – 61.9 % пользователей, с экрана предложения покупки на экран корзины – 81.3 % пользователей, с экрана корзины на экран успешной оплаты – 94.8 % пользователей.\n",
    "\n",
    "От первого события (главный экран) до оплаты доходит 47.7 %.\n",
    "\n",
    "Количество пользователей групп А и А1 отличается на 1.15 % (рекомендовано 0.5 – 1%).\n",
    "\n",
    "Проведено 16 проверок А/А/В-эксперимента (4 АА теста и 12 АB тестов)\n",
    "\n",
    "<b>В результате:</b>\n",
    "\n",
    "По результатам А/А/B тестов не было обнаружено каких либо различий внутри контрольных групп, между экспериментальной, двумя контрольными и объединенной контрольной. Следовательно, можно сделать вывод, что замена шрифта не повлияла ни на один шаг воронки продаж."
   ]
  }
 ],
 "metadata": {
  "ExecuteTimeLog": [
   {
    "duration": 53,
    "start_time": "2024-05-08T16:42:24.842Z"
   },
   {
    "duration": 1343,
    "start_time": "2024-05-08T16:43:14.568Z"
   },
   {
    "duration": 423,
    "start_time": "2024-05-08T16:43:15.981Z"
   },
   {
    "duration": 359,
    "start_time": "2024-05-08T16:43:24.814Z"
   },
   {
    "duration": 322,
    "start_time": "2024-05-08T16:43:38.016Z"
   },
   {
    "duration": 329,
    "start_time": "2024-05-08T16:43:43.248Z"
   },
   {
    "duration": 55,
    "start_time": "2024-05-08T16:43:54.233Z"
   },
   {
    "duration": 333,
    "start_time": "2024-05-08T16:43:58.796Z"
   },
   {
    "duration": 208,
    "start_time": "2024-05-08T16:44:18.747Z"
   },
   {
    "duration": 189,
    "start_time": "2024-05-08T16:44:46.739Z"
   },
   {
    "duration": 37,
    "start_time": "2024-05-08T16:44:56.719Z"
   },
   {
    "duration": 38,
    "start_time": "2024-05-08T16:45:37.875Z"
   },
   {
    "duration": 64,
    "start_time": "2024-05-08T16:54:41.236Z"
   },
   {
    "duration": 3,
    "start_time": "2024-05-08T16:55:04.582Z"
   },
   {
    "duration": 11,
    "start_time": "2024-05-08T16:55:10.604Z"
   },
   {
    "duration": 163,
    "start_time": "2024-05-08T16:58:37.575Z"
   },
   {
    "duration": 3,
    "start_time": "2024-05-08T16:58:45.152Z"
   },
   {
    "duration": 11,
    "start_time": "2024-05-08T16:58:52.016Z"
   },
   {
    "duration": 12,
    "start_time": "2024-05-08T16:59:28.210Z"
   },
   {
    "duration": 11,
    "start_time": "2024-05-08T16:59:40.649Z"
   },
   {
    "duration": 13,
    "start_time": "2024-05-08T17:00:11.731Z"
   },
   {
    "duration": 12,
    "start_time": "2024-05-08T17:00:36.574Z"
   },
   {
    "duration": 19,
    "start_time": "2024-05-08T17:01:16.786Z"
   },
   {
    "duration": 61,
    "start_time": "2024-05-08T17:01:37.234Z"
   },
   {
    "duration": 74,
    "start_time": "2024-05-08T17:02:00.182Z"
   },
   {
    "duration": 74,
    "start_time": "2024-05-08T17:02:17.419Z"
   },
   {
    "duration": 17,
    "start_time": "2024-05-08T17:02:32.087Z"
   },
   {
    "duration": 62,
    "start_time": "2024-05-08T17:02:32.694Z"
   },
   {
    "duration": 71,
    "start_time": "2024-05-08T17:02:33.544Z"
   },
   {
    "duration": 65,
    "start_time": "2024-05-08T17:02:34.615Z"
   },
   {
    "duration": 72,
    "start_time": "2024-05-08T17:03:31.668Z"
   },
   {
    "duration": 64,
    "start_time": "2024-05-08T17:03:32.479Z"
   },
   {
    "duration": 72,
    "start_time": "2024-05-08T17:03:56.902Z"
   },
   {
    "duration": 58,
    "start_time": "2024-05-08T17:03:57.483Z"
   },
   {
    "duration": 11,
    "start_time": "2024-05-08T17:09:16.438Z"
   },
   {
    "duration": 41,
    "start_time": "2024-05-08T17:09:29.375Z"
   },
   {
    "duration": 32,
    "start_time": "2024-05-08T17:09:39.681Z"
   },
   {
    "duration": 12,
    "start_time": "2024-05-08T17:09:59.123Z"
   },
   {
    "duration": 3,
    "start_time": "2024-05-08T17:15:17.424Z"
   },
   {
    "duration": 78,
    "start_time": "2024-05-08T17:15:26.587Z"
   },
   {
    "duration": 79,
    "start_time": "2024-05-08T17:15:31.304Z"
   },
   {
    "duration": 99,
    "start_time": "2024-05-08T17:15:34.651Z"
   },
   {
    "duration": 98,
    "start_time": "2024-05-08T17:15:43.881Z"
   },
   {
    "duration": 93,
    "start_time": "2024-05-08T17:15:47.939Z"
   },
   {
    "duration": 1181,
    "start_time": "2024-05-08T17:16:10.625Z"
   },
   {
    "duration": 203,
    "start_time": "2024-05-08T17:16:11.808Z"
   },
   {
    "duration": 30,
    "start_time": "2024-05-08T17:16:12.012Z"
   },
   {
    "duration": 15,
    "start_time": "2024-05-08T17:16:12.044Z"
   },
   {
    "duration": 21,
    "start_time": "2024-05-08T17:16:12.061Z"
   },
   {
    "duration": 85,
    "start_time": "2024-05-08T17:16:12.084Z"
   },
   {
    "duration": 90,
    "start_time": "2024-05-08T17:16:12.170Z"
   },
   {
    "duration": 73,
    "start_time": "2024-05-08T17:16:12.262Z"
   },
   {
    "duration": 59,
    "start_time": "2024-05-08T17:16:12.337Z"
   },
   {
    "duration": 100,
    "start_time": "2024-05-08T17:16:12.397Z"
   },
   {
    "duration": 14,
    "start_time": "2024-05-08T17:16:22.663Z"
   },
   {
    "duration": 1185,
    "start_time": "2024-05-08T17:16:31.924Z"
   },
   {
    "duration": 208,
    "start_time": "2024-05-08T17:16:33.112Z"
   },
   {
    "duration": 25,
    "start_time": "2024-05-08T17:16:33.322Z"
   },
   {
    "duration": 29,
    "start_time": "2024-05-08T17:16:33.349Z"
   },
   {
    "duration": 20,
    "start_time": "2024-05-08T17:16:33.381Z"
   },
   {
    "duration": 73,
    "start_time": "2024-05-08T17:16:33.403Z"
   },
   {
    "duration": 95,
    "start_time": "2024-05-08T17:16:33.478Z"
   },
   {
    "duration": 71,
    "start_time": "2024-05-08T17:16:33.575Z"
   },
   {
    "duration": 57,
    "start_time": "2024-05-08T17:16:33.648Z"
   },
   {
    "duration": 25,
    "start_time": "2024-05-08T17:16:33.707Z"
   },
   {
    "duration": 97,
    "start_time": "2024-05-08T17:16:33.734Z"
   },
   {
    "duration": 132,
    "start_time": "2024-05-08T17:17:30.272Z"
   },
   {
    "duration": 141,
    "start_time": "2024-05-08T17:17:37.225Z"
   },
   {
    "duration": 12,
    "start_time": "2024-05-08T17:18:02.941Z"
   },
   {
    "duration": 32,
    "start_time": "2024-05-08T17:18:10.085Z"
   },
   {
    "duration": 15,
    "start_time": "2024-05-08T17:18:19.048Z"
   },
   {
    "duration": 1134,
    "start_time": "2024-05-08T17:18:45.084Z"
   },
   {
    "duration": 196,
    "start_time": "2024-05-08T17:18:46.220Z"
   },
   {
    "duration": 26,
    "start_time": "2024-05-08T17:18:46.417Z"
   },
   {
    "duration": 10,
    "start_time": "2024-05-08T17:18:46.445Z"
   },
   {
    "duration": 22,
    "start_time": "2024-05-08T17:18:46.457Z"
   },
   {
    "duration": 89,
    "start_time": "2024-05-08T17:18:46.481Z"
   },
   {
    "duration": 100,
    "start_time": "2024-05-08T17:18:46.572Z"
   },
   {
    "duration": 75,
    "start_time": "2024-05-08T17:18:46.674Z"
   },
   {
    "duration": 27,
    "start_time": "2024-05-08T17:18:46.751Z"
   },
   {
    "duration": 12,
    "start_time": "2024-05-08T17:18:46.780Z"
   },
   {
    "duration": 170,
    "start_time": "2024-05-08T17:18:46.794Z"
   },
   {
    "duration": 33,
    "start_time": "2024-05-08T17:19:03.203Z"
   },
   {
    "duration": 15,
    "start_time": "2024-05-08T17:19:06.291Z"
   },
   {
    "duration": 1140,
    "start_time": "2024-05-08T17:19:11.977Z"
   },
   {
    "duration": 200,
    "start_time": "2024-05-08T17:19:13.119Z"
   },
   {
    "duration": 23,
    "start_time": "2024-05-08T17:19:13.321Z"
   },
   {
    "duration": 11,
    "start_time": "2024-05-08T17:19:13.346Z"
   },
   {
    "duration": 53,
    "start_time": "2024-05-08T17:19:13.359Z"
   },
   {
    "duration": 72,
    "start_time": "2024-05-08T17:19:13.413Z"
   },
   {
    "duration": 85,
    "start_time": "2024-05-08T17:19:13.487Z"
   },
   {
    "duration": 77,
    "start_time": "2024-05-08T17:19:13.574Z"
   },
   {
    "duration": 61,
    "start_time": "2024-05-08T17:19:13.653Z"
   },
   {
    "duration": 24,
    "start_time": "2024-05-08T17:19:13.715Z"
   },
   {
    "duration": 152,
    "start_time": "2024-05-08T17:19:13.740Z"
   },
   {
    "duration": 5,
    "start_time": "2024-05-08T17:20:10.797Z"
   },
   {
    "duration": 32,
    "start_time": "2024-05-08T17:20:24.352Z"
   },
   {
    "duration": 5,
    "start_time": "2024-05-08T17:20:26.736Z"
   },
   {
    "duration": 1142,
    "start_time": "2024-05-08T17:20:33.067Z"
   },
   {
    "duration": 196,
    "start_time": "2024-05-08T17:20:34.211Z"
   },
   {
    "duration": 27,
    "start_time": "2024-05-08T17:20:34.409Z"
   },
   {
    "duration": 17,
    "start_time": "2024-05-08T17:20:34.439Z"
   },
   {
    "duration": 19,
    "start_time": "2024-05-08T17:20:34.458Z"
   },
   {
    "duration": 89,
    "start_time": "2024-05-08T17:20:34.479Z"
   },
   {
    "duration": 86,
    "start_time": "2024-05-08T17:20:34.570Z"
   },
   {
    "duration": 72,
    "start_time": "2024-05-08T17:20:34.658Z"
   },
   {
    "duration": 26,
    "start_time": "2024-05-08T17:20:34.732Z"
   },
   {
    "duration": 5,
    "start_time": "2024-05-08T17:20:34.761Z"
   },
   {
    "duration": 184,
    "start_time": "2024-05-08T17:20:34.768Z"
   },
   {
    "duration": 87,
    "start_time": "2024-05-08T17:21:09.727Z"
   },
   {
    "duration": 152,
    "start_time": "2024-05-08T17:21:18.556Z"
   },
   {
    "duration": 104,
    "start_time": "2024-05-08T17:21:24.511Z"
   },
   {
    "duration": 142,
    "start_time": "2024-05-08T17:21:43.824Z"
   },
   {
    "duration": 154,
    "start_time": "2024-05-08T17:26:31.994Z"
   },
   {
    "duration": 132,
    "start_time": "2024-05-08T17:26:37.035Z"
   },
   {
    "duration": 6,
    "start_time": "2024-05-08T17:26:40.100Z"
   },
   {
    "duration": 130,
    "start_time": "2024-05-08T17:26:42.351Z"
   },
   {
    "duration": 178,
    "start_time": "2024-05-08T17:27:00.741Z"
   },
   {
    "duration": 134,
    "start_time": "2024-05-08T17:27:05.955Z"
   },
   {
    "duration": 46,
    "start_time": "2024-05-08T17:29:27.023Z"
   },
   {
    "duration": 41,
    "start_time": "2024-05-08T17:32:49.169Z"
   },
   {
    "duration": 42,
    "start_time": "2024-05-08T17:32:57.194Z"
   },
   {
    "duration": 44,
    "start_time": "2024-05-08T17:33:02.110Z"
   },
   {
    "duration": 48,
    "start_time": "2024-05-08T17:34:53.166Z"
   },
   {
    "duration": 50,
    "start_time": "2024-05-08T17:35:05.069Z"
   },
   {
    "duration": 57,
    "start_time": "2024-05-08T17:35:12.465Z"
   },
   {
    "duration": 53,
    "start_time": "2024-05-08T17:35:25.717Z"
   },
   {
    "duration": 77,
    "start_time": "2024-05-08T17:36:12.888Z"
   },
   {
    "duration": 55,
    "start_time": "2024-05-08T17:36:39.317Z"
   },
   {
    "duration": 43,
    "start_time": "2024-05-08T17:36:51.409Z"
   },
   {
    "duration": 44,
    "start_time": "2024-05-08T17:37:59.256Z"
   },
   {
    "duration": 40,
    "start_time": "2024-05-08T17:38:05.930Z"
   },
   {
    "duration": 55,
    "start_time": "2024-05-08T17:39:37.728Z"
   },
   {
    "duration": 60,
    "start_time": "2024-05-08T17:39:46.077Z"
   },
   {
    "duration": 58,
    "start_time": "2024-05-08T17:39:52.095Z"
   },
   {
    "duration": 54,
    "start_time": "2024-05-08T17:39:56.594Z"
   },
   {
    "duration": 174,
    "start_time": "2024-05-08T17:43:53.859Z"
   },
   {
    "duration": 4,
    "start_time": "2024-05-08T17:44:07.258Z"
   },
   {
    "duration": 210,
    "start_time": "2024-05-08T17:44:07.487Z"
   },
   {
    "duration": 21,
    "start_time": "2024-05-08T17:44:07.902Z"
   },
   {
    "duration": 10,
    "start_time": "2024-05-08T17:44:08.986Z"
   },
   {
    "duration": 17,
    "start_time": "2024-05-08T17:44:09.806Z"
   },
   {
    "duration": 60,
    "start_time": "2024-05-08T17:44:10.009Z"
   },
   {
    "duration": 67,
    "start_time": "2024-05-08T17:44:10.456Z"
   },
   {
    "duration": 76,
    "start_time": "2024-05-08T17:44:10.664Z"
   },
   {
    "duration": 28,
    "start_time": "2024-05-08T17:44:11.086Z"
   },
   {
    "duration": 5,
    "start_time": "2024-05-08T17:44:11.288Z"
   },
   {
    "duration": 130,
    "start_time": "2024-05-08T17:44:12.773Z"
   },
   {
    "duration": 47,
    "start_time": "2024-05-08T17:46:23.400Z"
   },
   {
    "duration": 22,
    "start_time": "2024-05-08T17:46:30.269Z"
   },
   {
    "duration": 46,
    "start_time": "2024-05-08T17:48:53.673Z"
   },
   {
    "duration": 15,
    "start_time": "2024-05-08T17:48:54.382Z"
   },
   {
    "duration": 3,
    "start_time": "2024-05-08T17:49:06.852Z"
   },
   {
    "duration": 187,
    "start_time": "2024-05-08T17:49:07.031Z"
   },
   {
    "duration": 28,
    "start_time": "2024-05-08T17:49:07.219Z"
   },
   {
    "duration": 11,
    "start_time": "2024-05-08T17:49:08.446Z"
   },
   {
    "duration": 19,
    "start_time": "2024-05-08T17:49:09.530Z"
   },
   {
    "duration": 65,
    "start_time": "2024-05-08T17:49:09.733Z"
   },
   {
    "duration": 64,
    "start_time": "2024-05-08T17:49:10.544Z"
   },
   {
    "duration": 63,
    "start_time": "2024-05-08T17:49:10.989Z"
   },
   {
    "duration": 27,
    "start_time": "2024-05-08T17:49:13.640Z"
   },
   {
    "duration": 5,
    "start_time": "2024-05-08T17:49:14.205Z"
   },
   {
    "duration": 51,
    "start_time": "2024-05-08T17:49:15.612Z"
   },
   {
    "duration": 13,
    "start_time": "2024-05-08T17:49:16.584Z"
   },
   {
    "duration": 131,
    "start_time": "2024-05-08T17:49:24.023Z"
   },
   {
    "duration": 46,
    "start_time": "2024-05-08T17:49:30.482Z"
   },
   {
    "duration": 17,
    "start_time": "2024-05-08T17:49:31.058Z"
   },
   {
    "duration": 3,
    "start_time": "2024-05-08T17:49:39.708Z"
   },
   {
    "duration": 187,
    "start_time": "2024-05-08T17:49:39.864Z"
   },
   {
    "duration": 22,
    "start_time": "2024-05-08T17:49:40.053Z"
   },
   {
    "duration": 11,
    "start_time": "2024-05-08T17:49:41.055Z"
   },
   {
    "duration": 18,
    "start_time": "2024-05-08T17:49:41.876Z"
   },
   {
    "duration": 60,
    "start_time": "2024-05-08T17:49:42.093Z"
   },
   {
    "duration": 72,
    "start_time": "2024-05-08T17:49:42.460Z"
   },
   {
    "duration": 73,
    "start_time": "2024-05-08T17:49:42.610Z"
   },
   {
    "duration": 26,
    "start_time": "2024-05-08T17:49:43.029Z"
   },
   {
    "duration": 4,
    "start_time": "2024-05-08T17:49:43.373Z"
   },
   {
    "duration": 52,
    "start_time": "2024-05-08T17:49:44.444Z"
   },
   {
    "duration": 14,
    "start_time": "2024-05-08T17:49:46.401Z"
   },
   {
    "duration": 129,
    "start_time": "2024-05-08T17:49:48.961Z"
   },
   {
    "duration": 3,
    "start_time": "2024-05-08T17:50:36.658Z"
   },
   {
    "duration": 40,
    "start_time": "2024-05-08T17:50:51.110Z"
   },
   {
    "duration": 3,
    "start_time": "2024-05-08T17:51:04.939Z"
   },
   {
    "duration": 47,
    "start_time": "2024-05-08T17:52:19.622Z"
   },
   {
    "duration": 14,
    "start_time": "2024-05-08T17:52:27.780Z"
   },
   {
    "duration": 12,
    "start_time": "2024-05-08T17:52:44.656Z"
   },
   {
    "duration": 11,
    "start_time": "2024-05-08T17:52:51.022Z"
   },
   {
    "duration": 6,
    "start_time": "2024-05-08T17:53:00.017Z"
   },
   {
    "duration": 8,
    "start_time": "2024-05-08T17:55:09.005Z"
   },
   {
    "duration": 9,
    "start_time": "2024-05-08T17:55:41.981Z"
   },
   {
    "duration": 8,
    "start_time": "2024-05-08T17:55:47.874Z"
   },
   {
    "duration": 7,
    "start_time": "2024-05-08T17:55:53.389Z"
   },
   {
    "duration": 36,
    "start_time": "2024-05-08T18:01:51.596Z"
   },
   {
    "duration": 5,
    "start_time": "2024-05-08T18:01:59.624Z"
   },
   {
    "duration": 6,
    "start_time": "2024-05-08T18:02:04.322Z"
   },
   {
    "duration": 6,
    "start_time": "2024-05-08T18:02:10.882Z"
   },
   {
    "duration": 6,
    "start_time": "2024-05-08T18:02:22.446Z"
   },
   {
    "duration": 5,
    "start_time": "2024-05-08T18:03:08.078Z"
   },
   {
    "duration": 4,
    "start_time": "2024-05-08T18:03:13.233Z"
   },
   {
    "duration": 6,
    "start_time": "2024-05-08T18:03:20.953Z"
   },
   {
    "duration": 6,
    "start_time": "2024-05-08T18:03:54.716Z"
   },
   {
    "duration": 5,
    "start_time": "2024-05-08T18:04:00.250Z"
   },
   {
    "duration": 6,
    "start_time": "2024-05-08T18:05:43.881Z"
   },
   {
    "duration": 385,
    "start_time": "2024-05-08T18:11:21.345Z"
   },
   {
    "duration": 298,
    "start_time": "2024-05-08T18:11:25.040Z"
   },
   {
    "duration": 11,
    "start_time": "2024-05-08T18:14:03.856Z"
   },
   {
    "duration": 3,
    "start_time": "2024-05-08T18:14:22.237Z"
   },
   {
    "duration": 322,
    "start_time": "2024-05-08T18:14:27.860Z"
   },
   {
    "duration": 397,
    "start_time": "2024-05-08T18:20:16.749Z"
   },
   {
    "duration": 504,
    "start_time": "2024-05-08T18:20:33.264Z"
   },
   {
    "duration": 356,
    "start_time": "2024-05-08T18:20:43.296Z"
   },
   {
    "duration": 332,
    "start_time": "2024-05-08T18:21:20.441Z"
   },
   {
    "duration": 357,
    "start_time": "2024-05-08T18:21:34.856Z"
   },
   {
    "duration": 362,
    "start_time": "2024-05-08T18:21:49.858Z"
   },
   {
    "duration": 350,
    "start_time": "2024-05-08T18:23:11.799Z"
   },
   {
    "duration": 446,
    "start_time": "2024-05-08T18:23:24.407Z"
   },
   {
    "duration": 326,
    "start_time": "2024-05-08T18:23:33.661Z"
   },
   {
    "duration": 349,
    "start_time": "2024-05-08T18:23:42.111Z"
   },
   {
    "duration": 27,
    "start_time": "2024-05-08T18:30:30.555Z"
   },
   {
    "duration": 362,
    "start_time": "2024-05-08T18:30:39.918Z"
   },
   {
    "duration": 383,
    "start_time": "2024-05-08T18:30:56.618Z"
   },
   {
    "duration": 482,
    "start_time": "2024-05-08T18:31:05.790Z"
   },
   {
    "duration": 347,
    "start_time": "2024-05-08T18:31:29.117Z"
   },
   {
    "duration": 18,
    "start_time": "2024-05-08T18:33:28.530Z"
   },
   {
    "duration": 359,
    "start_time": "2024-05-08T18:33:29.342Z"
   },
   {
    "duration": 1151,
    "start_time": "2024-05-08T18:33:34.467Z"
   },
   {
    "duration": 206,
    "start_time": "2024-05-08T18:33:35.620Z"
   },
   {
    "duration": 25,
    "start_time": "2024-05-08T18:33:35.827Z"
   },
   {
    "duration": 44,
    "start_time": "2024-05-08T18:33:35.854Z"
   },
   {
    "duration": 49,
    "start_time": "2024-05-08T18:33:35.901Z"
   },
   {
    "duration": 69,
    "start_time": "2024-05-08T18:33:35.952Z"
   },
   {
    "duration": 79,
    "start_time": "2024-05-08T18:33:36.022Z"
   },
   {
    "duration": 77,
    "start_time": "2024-05-08T18:33:36.103Z"
   },
   {
    "duration": 27,
    "start_time": "2024-05-08T18:33:36.182Z"
   },
   {
    "duration": 5,
    "start_time": "2024-05-08T18:33:36.229Z"
   },
   {
    "duration": 62,
    "start_time": "2024-05-08T18:33:36.236Z"
   },
   {
    "duration": 14,
    "start_time": "2024-05-08T18:33:36.299Z"
   },
   {
    "duration": 144,
    "start_time": "2024-05-08T18:33:36.314Z"
   },
   {
    "duration": 3,
    "start_time": "2024-05-08T18:33:36.461Z"
   },
   {
    "duration": 14,
    "start_time": "2024-05-08T18:33:36.466Z"
   },
   {
    "duration": 9,
    "start_time": "2024-05-08T18:33:36.482Z"
   },
   {
    "duration": 7,
    "start_time": "2024-05-08T18:33:36.493Z"
   },
   {
    "duration": 464,
    "start_time": "2024-05-08T18:33:36.503Z"
   },
   {
    "duration": 31,
    "start_time": "2024-05-08T18:33:36.969Z"
   },
   {
    "duration": 355,
    "start_time": "2024-05-08T18:33:37.002Z"
   },
   {
    "duration": 42,
    "start_time": "2024-05-08T18:33:37.359Z"
   },
   {
    "duration": 333,
    "start_time": "2024-05-08T18:34:01.871Z"
   },
   {
    "duration": 108,
    "start_time": "2024-05-08T18:35:43.335Z"
   },
   {
    "duration": 13,
    "start_time": "2024-05-08T18:36:03.971Z"
   },
   {
    "duration": 15,
    "start_time": "2024-05-08T18:36:29.843Z"
   },
   {
    "duration": 14,
    "start_time": "2024-05-08T18:39:17.854Z"
   },
   {
    "duration": 11,
    "start_time": "2024-05-08T18:39:59.362Z"
   },
   {
    "duration": 11,
    "start_time": "2024-05-08T18:40:41.172Z"
   },
   {
    "duration": 12,
    "start_time": "2024-05-08T18:41:24.564Z"
   },
   {
    "duration": 43,
    "start_time": "2024-05-08T18:42:11.261Z"
   },
   {
    "duration": 11,
    "start_time": "2024-05-08T18:42:21.236Z"
   },
   {
    "duration": 39,
    "start_time": "2024-05-08T18:42:47.148Z"
   },
   {
    "duration": 42,
    "start_time": "2024-05-08T18:42:58.339Z"
   },
   {
    "duration": 48,
    "start_time": "2024-05-08T18:43:14.328Z"
   },
   {
    "duration": 11,
    "start_time": "2024-05-08T18:43:18.617Z"
   },
   {
    "duration": 33,
    "start_time": "2024-05-08T18:44:50.634Z"
   },
   {
    "duration": 21,
    "start_time": "2024-05-08T18:45:14.222Z"
   },
   {
    "duration": 22,
    "start_time": "2024-05-08T18:45:30.465Z"
   },
   {
    "duration": 16,
    "start_time": "2024-05-08T18:46:27.503Z"
   },
   {
    "duration": 5,
    "start_time": "2024-05-08T18:46:37.553Z"
   },
   {
    "duration": 4,
    "start_time": "2024-05-08T18:46:41.273Z"
   },
   {
    "duration": 50,
    "start_time": "2024-05-08T18:46:58.084Z"
   },
   {
    "duration": 64,
    "start_time": "2024-05-08T18:47:07.339Z"
   },
   {
    "duration": 11,
    "start_time": "2024-05-08T18:47:14.149Z"
   },
   {
    "duration": 148,
    "start_time": "2024-05-08T18:47:21.061Z"
   },
   {
    "duration": 45,
    "start_time": "2024-05-08T18:47:48.232Z"
   },
   {
    "duration": 52,
    "start_time": "2024-05-08T18:47:55.380Z"
   },
   {
    "duration": 1151,
    "start_time": "2024-05-08T18:49:39.788Z"
   },
   {
    "duration": 200,
    "start_time": "2024-05-08T18:49:40.944Z"
   },
   {
    "duration": 23,
    "start_time": "2024-05-08T18:49:41.146Z"
   },
   {
    "duration": 10,
    "start_time": "2024-05-08T18:49:41.172Z"
   },
   {
    "duration": 19,
    "start_time": "2024-05-08T18:49:41.183Z"
   },
   {
    "duration": 98,
    "start_time": "2024-05-08T18:49:41.204Z"
   },
   {
    "duration": 88,
    "start_time": "2024-05-08T18:49:41.304Z"
   },
   {
    "duration": 76,
    "start_time": "2024-05-08T18:49:41.394Z"
   },
   {
    "duration": 28,
    "start_time": "2024-05-08T18:49:41.472Z"
   },
   {
    "duration": 5,
    "start_time": "2024-05-08T18:49:41.503Z"
   },
   {
    "duration": 48,
    "start_time": "2024-05-08T18:49:41.530Z"
   },
   {
    "duration": 14,
    "start_time": "2024-05-08T18:49:41.579Z"
   },
   {
    "duration": 154,
    "start_time": "2024-05-08T18:49:41.595Z"
   },
   {
    "duration": 3,
    "start_time": "2024-05-08T18:49:41.751Z"
   },
   {
    "duration": 21,
    "start_time": "2024-05-08T18:49:41.756Z"
   },
   {
    "duration": 15,
    "start_time": "2024-05-08T18:49:41.779Z"
   },
   {
    "duration": 17,
    "start_time": "2024-05-08T18:49:41.796Z"
   },
   {
    "duration": 448,
    "start_time": "2024-05-08T18:49:41.815Z"
   },
   {
    "duration": 32,
    "start_time": "2024-05-08T18:49:42.264Z"
   },
   {
    "duration": 382,
    "start_time": "2024-05-08T18:49:42.297Z"
   },
   {
    "duration": 21,
    "start_time": "2024-05-08T18:49:42.681Z"
   },
   {
    "duration": 68,
    "start_time": "2024-05-08T18:49:42.703Z"
   },
   {
    "duration": 29,
    "start_time": "2024-05-08T18:58:42.298Z"
   },
   {
    "duration": 34,
    "start_time": "2024-05-08T18:58:52.374Z"
   },
   {
    "duration": 26,
    "start_time": "2024-05-08T18:58:59.275Z"
   },
   {
    "duration": 25,
    "start_time": "2024-05-08T18:59:03.209Z"
   },
   {
    "duration": 23,
    "start_time": "2024-05-08T18:59:10.630Z"
   },
   {
    "duration": 6,
    "start_time": "2024-05-08T18:59:35.657Z"
   },
   {
    "duration": 23,
    "start_time": "2024-05-08T19:00:09.760Z"
   },
   {
    "duration": 6,
    "start_time": "2024-05-08T19:00:11.912Z"
   },
   {
    "duration": 36,
    "start_time": "2024-05-08T19:00:28.181Z"
   },
   {
    "duration": 6,
    "start_time": "2024-05-08T19:00:29.834Z"
   },
   {
    "duration": 49,
    "start_time": "2024-05-08T19:03:04.854Z"
   },
   {
    "duration": 6,
    "start_time": "2024-05-08T19:03:05.721Z"
   },
   {
    "duration": 1185,
    "start_time": "2024-05-08T19:03:29.541Z"
   },
   {
    "duration": 211,
    "start_time": "2024-05-08T19:03:30.729Z"
   },
   {
    "duration": 30,
    "start_time": "2024-05-08T19:03:30.941Z"
   },
   {
    "duration": 45,
    "start_time": "2024-05-08T19:03:30.974Z"
   },
   {
    "duration": 80,
    "start_time": "2024-05-08T19:03:31.023Z"
   },
   {
    "duration": 237,
    "start_time": "2024-05-08T19:03:31.104Z"
   },
   {
    "duration": 113,
    "start_time": "2024-05-08T19:03:31.342Z"
   },
   {
    "duration": 91,
    "start_time": "2024-05-08T19:03:31.457Z"
   },
   {
    "duration": 37,
    "start_time": "2024-05-08T19:03:31.550Z"
   },
   {
    "duration": 46,
    "start_time": "2024-05-08T19:03:31.589Z"
   },
   {
    "duration": 83,
    "start_time": "2024-05-08T19:03:31.636Z"
   },
   {
    "duration": 13,
    "start_time": "2024-05-08T19:03:31.720Z"
   },
   {
    "duration": 174,
    "start_time": "2024-05-08T19:03:31.735Z"
   },
   {
    "duration": 52,
    "start_time": "2024-05-08T19:03:31.911Z"
   },
   {
    "duration": 113,
    "start_time": "2024-05-08T19:03:31.965Z"
   },
   {
    "duration": 48,
    "start_time": "2024-05-08T19:03:32.079Z"
   },
   {
    "duration": 55,
    "start_time": "2024-05-08T19:03:32.129Z"
   },
   {
    "duration": 461,
    "start_time": "2024-05-08T19:03:32.186Z"
   },
   {
    "duration": 39,
    "start_time": "2024-05-08T19:03:32.649Z"
   },
   {
    "duration": 391,
    "start_time": "2024-05-08T19:03:32.691Z"
   },
   {
    "duration": 20,
    "start_time": "2024-05-08T19:03:33.084Z"
   },
   {
    "duration": 60,
    "start_time": "2024-05-08T19:03:33.105Z"
   },
   {
    "duration": 27,
    "start_time": "2024-05-08T19:03:33.167Z"
   },
   {
    "duration": 10,
    "start_time": "2024-05-08T19:03:33.196Z"
   },
   {
    "duration": 37,
    "start_time": "2024-05-08T19:08:02.257Z"
   },
   {
    "duration": 45,
    "start_time": "2024-05-08T19:08:07.821Z"
   },
   {
    "duration": 57,
    "start_time": "2024-05-08T19:08:28.947Z"
   },
   {
    "duration": 99,
    "start_time": "2024-05-08T19:08:40.162Z"
   },
   {
    "duration": 59,
    "start_time": "2024-05-08T19:08:50.317Z"
   },
   {
    "duration": 134,
    "start_time": "2024-05-08T19:08:56.195Z"
   },
   {
    "duration": 87,
    "start_time": "2024-05-08T19:09:04.111Z"
   },
   {
    "duration": 56,
    "start_time": "2024-05-08T19:09:13.793Z"
   },
   {
    "duration": 58,
    "start_time": "2024-05-08T19:13:39.266Z"
   },
   {
    "duration": 63,
    "start_time": "2024-05-08T19:14:01.894Z"
   },
   {
    "duration": 63,
    "start_time": "2024-05-08T19:14:54.673Z"
   },
   {
    "duration": 69,
    "start_time": "2024-05-08T19:20:02.181Z"
   },
   {
    "duration": 11,
    "start_time": "2024-05-08T19:27:06.597Z"
   },
   {
    "duration": 5,
    "start_time": "2024-05-08T19:27:35.966Z"
   },
   {
    "duration": 100,
    "start_time": "2024-05-08T19:31:06.360Z"
   },
   {
    "duration": 114,
    "start_time": "2024-05-08T19:32:16.939Z"
   },
   {
    "duration": 397,
    "start_time": "2024-05-08T19:33:41.407Z"
   },
   {
    "duration": 210,
    "start_time": "2024-05-08T19:33:46.627Z"
   },
   {
    "duration": 48,
    "start_time": "2024-05-08T19:34:31.541Z"
   },
   {
    "duration": 155,
    "start_time": "2024-05-08T19:34:48.118Z"
   },
   {
    "duration": 154,
    "start_time": "2024-05-08T19:34:56.827Z"
   },
   {
    "duration": 56,
    "start_time": "2024-05-08T19:35:02.336Z"
   },
   {
    "duration": 52,
    "start_time": "2024-05-08T19:35:38.864Z"
   },
   {
    "duration": 51,
    "start_time": "2024-05-08T19:36:13.147Z"
   },
   {
    "duration": 52,
    "start_time": "2024-05-08T19:36:38.333Z"
   },
   {
    "duration": 47,
    "start_time": "2024-05-08T19:38:42.384Z"
   },
   {
    "duration": 65,
    "start_time": "2024-05-08T19:39:03.979Z"
   },
   {
    "duration": 46,
    "start_time": "2024-05-08T19:39:22.789Z"
   },
   {
    "duration": 47,
    "start_time": "2024-05-08T19:39:37.464Z"
   },
   {
    "duration": 1221,
    "start_time": "2024-05-08T19:42:19.176Z"
   },
   {
    "duration": 209,
    "start_time": "2024-05-08T19:42:20.399Z"
   },
   {
    "duration": 30,
    "start_time": "2024-05-08T19:42:20.610Z"
   },
   {
    "duration": 20,
    "start_time": "2024-05-08T19:42:20.643Z"
   },
   {
    "duration": 45,
    "start_time": "2024-05-08T19:42:20.667Z"
   },
   {
    "duration": 120,
    "start_time": "2024-05-08T19:42:20.713Z"
   },
   {
    "duration": 96,
    "start_time": "2024-05-08T19:42:20.834Z"
   },
   {
    "duration": 65,
    "start_time": "2024-05-08T19:42:20.932Z"
   },
   {
    "duration": 43,
    "start_time": "2024-05-08T19:42:20.998Z"
   },
   {
    "duration": 12,
    "start_time": "2024-05-08T19:42:21.045Z"
   },
   {
    "duration": 72,
    "start_time": "2024-05-08T19:42:21.059Z"
   },
   {
    "duration": 13,
    "start_time": "2024-05-08T19:42:21.133Z"
   },
   {
    "duration": 147,
    "start_time": "2024-05-08T19:42:21.148Z"
   },
   {
    "duration": 4,
    "start_time": "2024-05-08T19:42:21.296Z"
   },
   {
    "duration": 29,
    "start_time": "2024-05-08T19:42:21.301Z"
   },
   {
    "duration": 7,
    "start_time": "2024-05-08T19:42:21.332Z"
   },
   {
    "duration": 12,
    "start_time": "2024-05-08T19:42:21.340Z"
   },
   {
    "duration": 478,
    "start_time": "2024-05-08T19:42:21.354Z"
   },
   {
    "duration": 30,
    "start_time": "2024-05-08T19:42:21.834Z"
   },
   {
    "duration": 383,
    "start_time": "2024-05-08T19:42:21.866Z"
   },
   {
    "duration": 24,
    "start_time": "2024-05-08T19:42:22.251Z"
   },
   {
    "duration": 56,
    "start_time": "2024-05-08T19:42:22.277Z"
   },
   {
    "duration": 27,
    "start_time": "2024-05-08T19:42:22.335Z"
   },
   {
    "duration": 136,
    "start_time": "2024-05-08T19:42:22.363Z"
   },
   {
    "duration": 6,
    "start_time": "2024-05-08T19:42:22.500Z"
   },
   {
    "duration": 452,
    "start_time": "2024-05-08T19:42:22.507Z"
   },
   {
    "duration": 12,
    "start_time": "2024-05-08T19:45:36.652Z"
   },
   {
    "duration": 1348,
    "start_time": "2024-05-08T19:46:25.764Z"
   },
   {
    "duration": 210,
    "start_time": "2024-05-08T19:46:27.114Z"
   },
   {
    "duration": 34,
    "start_time": "2024-05-08T19:46:27.326Z"
   },
   {
    "duration": 31,
    "start_time": "2024-05-08T19:46:27.362Z"
   },
   {
    "duration": 30,
    "start_time": "2024-05-08T19:46:27.396Z"
   },
   {
    "duration": 100,
    "start_time": "2024-05-08T19:46:27.428Z"
   },
   {
    "duration": 105,
    "start_time": "2024-05-08T19:46:27.535Z"
   },
   {
    "duration": 66,
    "start_time": "2024-05-08T19:46:27.643Z"
   },
   {
    "duration": 46,
    "start_time": "2024-05-08T19:46:27.711Z"
   },
   {
    "duration": 5,
    "start_time": "2024-05-08T19:46:27.759Z"
   },
   {
    "duration": 49,
    "start_time": "2024-05-08T19:46:27.765Z"
   },
   {
    "duration": 31,
    "start_time": "2024-05-08T19:46:27.816Z"
   },
   {
    "duration": 160,
    "start_time": "2024-05-08T19:46:27.850Z"
   },
   {
    "duration": 3,
    "start_time": "2024-05-08T19:46:28.013Z"
   },
   {
    "duration": 33,
    "start_time": "2024-05-08T19:46:28.018Z"
   },
   {
    "duration": 7,
    "start_time": "2024-05-08T19:46:28.052Z"
   },
   {
    "duration": 6,
    "start_time": "2024-05-08T19:46:28.061Z"
   },
   {
    "duration": 498,
    "start_time": "2024-05-08T19:46:28.069Z"
   },
   {
    "duration": 31,
    "start_time": "2024-05-08T19:46:28.568Z"
   },
   {
    "duration": 378,
    "start_time": "2024-05-08T19:46:28.601Z"
   },
   {
    "duration": 22,
    "start_time": "2024-05-08T19:46:28.980Z"
   },
   {
    "duration": 57,
    "start_time": "2024-05-08T19:46:29.004Z"
   },
   {
    "duration": 27,
    "start_time": "2024-05-08T19:46:29.062Z"
   },
   {
    "duration": 114,
    "start_time": "2024-05-08T19:46:29.090Z"
   },
   {
    "duration": 11,
    "start_time": "2024-05-08T19:46:29.206Z"
   },
   {
    "duration": 459,
    "start_time": "2024-05-08T19:46:29.219Z"
   },
   {
    "duration": 1253,
    "start_time": "2024-05-08T19:47:43.377Z"
   },
   {
    "duration": 201,
    "start_time": "2024-05-08T19:47:44.632Z"
   },
   {
    "duration": 24,
    "start_time": "2024-05-08T19:47:44.835Z"
   },
   {
    "duration": 11,
    "start_time": "2024-05-08T19:47:44.862Z"
   },
   {
    "duration": 28,
    "start_time": "2024-05-08T19:47:44.875Z"
   },
   {
    "duration": 95,
    "start_time": "2024-05-08T19:47:44.905Z"
   },
   {
    "duration": 100,
    "start_time": "2024-05-08T19:47:45.002Z"
   },
   {
    "duration": 77,
    "start_time": "2024-05-08T19:47:45.103Z"
   },
   {
    "duration": 29,
    "start_time": "2024-05-08T19:47:45.181Z"
   },
   {
    "duration": 16,
    "start_time": "2024-05-08T19:47:45.214Z"
   },
   {
    "duration": 69,
    "start_time": "2024-05-08T19:47:45.232Z"
   },
   {
    "duration": 16,
    "start_time": "2024-05-08T19:47:45.302Z"
   },
   {
    "duration": 147,
    "start_time": "2024-05-08T19:47:45.319Z"
   },
   {
    "duration": 4,
    "start_time": "2024-05-08T19:47:45.468Z"
   },
   {
    "duration": 44,
    "start_time": "2024-05-08T19:47:45.474Z"
   },
   {
    "duration": 35,
    "start_time": "2024-05-08T19:47:45.520Z"
   },
   {
    "duration": 48,
    "start_time": "2024-05-08T19:47:45.557Z"
   },
   {
    "duration": 486,
    "start_time": "2024-05-08T19:47:45.607Z"
   },
   {
    "duration": 37,
    "start_time": "2024-05-08T19:47:46.094Z"
   },
   {
    "duration": 375,
    "start_time": "2024-05-08T19:47:46.133Z"
   },
   {
    "duration": 30,
    "start_time": "2024-05-08T19:47:46.510Z"
   },
   {
    "duration": 46,
    "start_time": "2024-05-08T19:47:46.542Z"
   },
   {
    "duration": 43,
    "start_time": "2024-05-08T19:47:46.590Z"
   },
   {
    "duration": 79,
    "start_time": "2024-05-08T19:47:46.635Z"
   },
   {
    "duration": 10,
    "start_time": "2024-05-08T19:47:46.716Z"
   },
   {
    "duration": 466,
    "start_time": "2024-05-08T19:47:46.729Z"
   },
   {
    "duration": 90,
    "start_time": "2024-05-08T19:48:49.012Z"
   },
   {
    "duration": 49,
    "start_time": "2024-05-08T19:49:12.871Z"
   },
   {
    "duration": 55,
    "start_time": "2024-05-08T19:55:30.555Z"
   },
   {
    "duration": 1292,
    "start_time": "2024-05-08T19:57:34.641Z"
   },
   {
    "duration": 233,
    "start_time": "2024-05-08T19:57:35.937Z"
   },
   {
    "duration": 24,
    "start_time": "2024-05-08T19:57:36.172Z"
   },
   {
    "duration": 11,
    "start_time": "2024-05-08T19:57:36.198Z"
   },
   {
    "duration": 42,
    "start_time": "2024-05-08T19:57:36.211Z"
   },
   {
    "duration": 88,
    "start_time": "2024-05-08T19:57:36.255Z"
   },
   {
    "duration": 90,
    "start_time": "2024-05-08T19:57:36.345Z"
   },
   {
    "duration": 69,
    "start_time": "2024-05-08T19:57:36.437Z"
   },
   {
    "duration": 45,
    "start_time": "2024-05-08T19:57:36.508Z"
   },
   {
    "duration": 5,
    "start_time": "2024-05-08T19:57:36.555Z"
   },
   {
    "duration": 57,
    "start_time": "2024-05-08T19:57:36.561Z"
   },
   {
    "duration": 29,
    "start_time": "2024-05-08T19:57:36.620Z"
   },
   {
    "duration": 164,
    "start_time": "2024-05-08T19:57:36.651Z"
   },
   {
    "duration": 3,
    "start_time": "2024-05-08T19:57:36.817Z"
   },
   {
    "duration": 30,
    "start_time": "2024-05-08T19:57:36.822Z"
   },
   {
    "duration": 10,
    "start_time": "2024-05-08T19:57:36.855Z"
   },
   {
    "duration": 25,
    "start_time": "2024-05-08T19:57:36.867Z"
   },
   {
    "duration": 510,
    "start_time": "2024-05-08T19:57:36.893Z"
   },
   {
    "duration": 45,
    "start_time": "2024-05-08T19:57:37.405Z"
   },
   {
    "duration": 426,
    "start_time": "2024-05-08T19:57:37.452Z"
   },
   {
    "duration": 22,
    "start_time": "2024-05-08T19:57:37.880Z"
   },
   {
    "duration": 68,
    "start_time": "2024-05-08T19:57:37.904Z"
   },
   {
    "duration": 28,
    "start_time": "2024-05-08T19:57:37.974Z"
   },
   {
    "duration": 96,
    "start_time": "2024-05-08T19:57:38.004Z"
   },
   {
    "duration": 9,
    "start_time": "2024-05-08T19:57:38.102Z"
   },
   {
    "duration": 465,
    "start_time": "2024-05-08T19:57:38.113Z"
   },
   {
    "duration": 179,
    "start_time": "2024-05-08T19:57:38.580Z"
   },
   {
    "duration": 119,
    "start_time": "2024-05-08T19:57:38.761Z"
   },
   {
    "duration": 20,
    "start_time": "2024-05-08T20:05:28.437Z"
   },
   {
    "duration": 18,
    "start_time": "2024-05-08T20:05:35.720Z"
   },
   {
    "duration": 48,
    "start_time": "2024-05-08T20:05:55.071Z"
   },
   {
    "duration": 49,
    "start_time": "2024-05-08T20:34:14.066Z"
   },
   {
    "duration": 1372,
    "start_time": "2024-05-08T20:34:29.655Z"
   },
   {
    "duration": 248,
    "start_time": "2024-05-08T20:34:31.030Z"
   },
   {
    "duration": 32,
    "start_time": "2024-05-08T20:34:31.280Z"
   },
   {
    "duration": 21,
    "start_time": "2024-05-08T20:34:31.314Z"
   },
   {
    "duration": 53,
    "start_time": "2024-05-08T20:34:31.338Z"
   },
   {
    "duration": 81,
    "start_time": "2024-05-08T20:34:31.393Z"
   },
   {
    "duration": 105,
    "start_time": "2024-05-08T20:34:31.476Z"
   },
   {
    "duration": 94,
    "start_time": "2024-05-08T20:34:31.583Z"
   },
   {
    "duration": 29,
    "start_time": "2024-05-08T20:34:31.679Z"
   },
   {
    "duration": 58,
    "start_time": "2024-05-08T20:34:31.710Z"
   },
   {
    "duration": 84,
    "start_time": "2024-05-08T20:34:31.770Z"
   },
   {
    "duration": 43,
    "start_time": "2024-05-08T20:34:31.856Z"
   },
   {
    "duration": 215,
    "start_time": "2024-05-08T20:34:31.901Z"
   },
   {
    "duration": 4,
    "start_time": "2024-05-08T20:34:32.119Z"
   },
   {
    "duration": 26,
    "start_time": "2024-05-08T20:34:32.129Z"
   },
   {
    "duration": 20,
    "start_time": "2024-05-08T20:34:32.157Z"
   },
   {
    "duration": 43,
    "start_time": "2024-05-08T20:34:32.178Z"
   },
   {
    "duration": 527,
    "start_time": "2024-05-08T20:34:32.223Z"
   },
   {
    "duration": 39,
    "start_time": "2024-05-08T20:34:32.752Z"
   },
   {
    "duration": 455,
    "start_time": "2024-05-08T20:34:32.793Z"
   },
   {
    "duration": 34,
    "start_time": "2024-05-08T20:34:33.250Z"
   },
   {
    "duration": 81,
    "start_time": "2024-05-08T20:34:33.286Z"
   },
   {
    "duration": 27,
    "start_time": "2024-05-08T20:34:33.369Z"
   },
   {
    "duration": 79,
    "start_time": "2024-05-08T20:34:33.397Z"
   },
   {
    "duration": 10,
    "start_time": "2024-05-08T20:34:33.478Z"
   },
   {
    "duration": 460,
    "start_time": "2024-05-08T20:34:33.490Z"
   },
   {
    "duration": 225,
    "start_time": "2024-05-08T20:34:33.952Z"
   },
   {
    "duration": 68,
    "start_time": "2024-05-08T20:34:34.179Z"
   },
   {
    "duration": 56,
    "start_time": "2024-05-08T20:34:34.249Z"
   },
   {
    "duration": 230,
    "start_time": "2024-05-08T20:38:53.689Z"
   },
   {
    "duration": 111,
    "start_time": "2024-05-08T20:39:07.079Z"
   },
   {
    "duration": 63,
    "start_time": "2024-05-08T20:39:27.826Z"
   },
   {
    "duration": 95,
    "start_time": "2024-05-08T20:39:45.948Z"
   },
   {
    "duration": 19,
    "start_time": "2024-05-08T20:45:14.860Z"
   },
   {
    "duration": 47,
    "start_time": "2024-05-08T21:00:18.881Z"
   },
   {
    "duration": 5,
    "start_time": "2024-05-08T21:16:13.607Z"
   },
   {
    "duration": 4,
    "start_time": "2024-05-08T21:18:01.487Z"
   },
   {
    "duration": 49,
    "start_time": "2024-05-08T21:18:56.727Z"
   },
   {
    "duration": 4,
    "start_time": "2024-05-08T21:19:09.265Z"
   },
   {
    "duration": 4,
    "start_time": "2024-05-08T21:19:17.773Z"
   },
   {
    "duration": 4,
    "start_time": "2024-05-08T21:19:47.583Z"
   },
   {
    "duration": 38,
    "start_time": "2024-05-08T21:24:37.700Z"
   },
   {
    "duration": 48,
    "start_time": "2024-05-08T21:24:53.296Z"
   },
   {
    "duration": 116,
    "start_time": "2024-05-08T21:25:10.392Z"
   },
   {
    "duration": 119,
    "start_time": "2024-05-08T21:25:52.738Z"
   },
   {
    "duration": 131,
    "start_time": "2024-05-08T21:32:35.366Z"
   },
   {
    "duration": 130,
    "start_time": "2024-05-08T21:32:42.431Z"
   },
   {
    "duration": 110,
    "start_time": "2024-05-08T21:34:18.278Z"
   },
   {
    "duration": 20,
    "start_time": "2024-05-08T21:38:55.265Z"
   },
   {
    "duration": 24,
    "start_time": "2024-05-08T21:39:01.888Z"
   },
   {
    "duration": 6,
    "start_time": "2024-05-08T21:59:13.014Z"
   },
   {
    "duration": 70,
    "start_time": "2024-05-08T22:06:32.755Z"
   },
   {
    "duration": 13,
    "start_time": "2024-05-08T22:06:56.248Z"
   },
   {
    "duration": 6,
    "start_time": "2024-05-08T22:09:01.866Z"
   },
   {
    "duration": 13,
    "start_time": "2024-05-08T22:09:17.672Z"
   },
   {
    "duration": 16,
    "start_time": "2024-05-08T22:09:26.386Z"
   },
   {
    "duration": 6,
    "start_time": "2024-05-08T22:19:02.248Z"
   },
   {
    "duration": 22,
    "start_time": "2024-05-08T22:19:04.095Z"
   },
   {
    "duration": 4,
    "start_time": "2024-05-08T22:19:30.043Z"
   },
   {
    "duration": 10,
    "start_time": "2024-05-08T22:20:16.262Z"
   },
   {
    "duration": 1236,
    "start_time": "2024-05-08T22:20:47.836Z"
   },
   {
    "duration": 212,
    "start_time": "2024-05-08T22:20:49.073Z"
   },
   {
    "duration": 23,
    "start_time": "2024-05-08T22:20:49.287Z"
   },
   {
    "duration": 32,
    "start_time": "2024-05-08T22:20:49.312Z"
   },
   {
    "duration": 23,
    "start_time": "2024-05-08T22:20:49.349Z"
   },
   {
    "duration": 76,
    "start_time": "2024-05-08T22:20:49.373Z"
   },
   {
    "duration": 100,
    "start_time": "2024-05-08T22:20:49.450Z"
   },
   {
    "duration": 62,
    "start_time": "2024-05-08T22:20:49.551Z"
   },
   {
    "duration": 40,
    "start_time": "2024-05-08T22:20:49.614Z"
   },
   {
    "duration": 5,
    "start_time": "2024-05-08T22:20:49.656Z"
   },
   {
    "duration": 53,
    "start_time": "2024-05-08T22:20:49.663Z"
   },
   {
    "duration": 33,
    "start_time": "2024-05-08T22:20:49.717Z"
   },
   {
    "duration": 132,
    "start_time": "2024-05-08T22:20:49.752Z"
   },
   {
    "duration": 4,
    "start_time": "2024-05-08T22:20:49.887Z"
   },
   {
    "duration": 24,
    "start_time": "2024-05-08T22:20:49.892Z"
   },
   {
    "duration": 21,
    "start_time": "2024-05-08T22:20:49.918Z"
   },
   {
    "duration": 10,
    "start_time": "2024-05-08T22:20:49.941Z"
   },
   {
    "duration": 450,
    "start_time": "2024-05-08T22:20:49.952Z"
   },
   {
    "duration": 42,
    "start_time": "2024-05-08T22:20:50.405Z"
   },
   {
    "duration": 406,
    "start_time": "2024-05-08T22:20:50.449Z"
   },
   {
    "duration": 23,
    "start_time": "2024-05-08T22:20:50.857Z"
   },
   {
    "duration": 71,
    "start_time": "2024-05-08T22:20:50.881Z"
   },
   {
    "duration": 29,
    "start_time": "2024-05-08T22:20:50.953Z"
   },
   {
    "duration": 76,
    "start_time": "2024-05-08T22:20:50.983Z"
   },
   {
    "duration": 10,
    "start_time": "2024-05-08T22:20:51.061Z"
   },
   {
    "duration": 442,
    "start_time": "2024-05-08T22:20:51.073Z"
   },
   {
    "duration": 155,
    "start_time": "2024-05-08T22:20:51.517Z"
   },
   {
    "duration": 113,
    "start_time": "2024-05-08T22:20:51.674Z"
   },
   {
    "duration": 58,
    "start_time": "2024-05-08T22:20:51.788Z"
   },
   {
    "duration": 57,
    "start_time": "2024-05-08T22:20:51.848Z"
   },
   {
    "duration": 3,
    "start_time": "2024-05-08T22:20:51.907Z"
   },
   {
    "duration": 153,
    "start_time": "2024-05-08T22:20:51.911Z"
   },
   {
    "duration": 14,
    "start_time": "2024-05-08T22:20:52.065Z"
   },
   {
    "duration": 31,
    "start_time": "2024-05-08T22:20:52.080Z"
   },
   {
    "duration": 42,
    "start_time": "2024-05-08T22:20:52.113Z"
   },
   {
    "duration": 5,
    "start_time": "2024-05-08T22:21:38.123Z"
   },
   {
    "duration": 5,
    "start_time": "2024-05-08T22:21:42.026Z"
   },
   {
    "duration": 10,
    "start_time": "2024-05-08T22:21:49.156Z"
   },
   {
    "duration": 9,
    "start_time": "2024-05-08T22:24:22.904Z"
   },
   {
    "duration": 9,
    "start_time": "2024-05-08T22:24:23.679Z"
   },
   {
    "duration": 10,
    "start_time": "2024-05-08T22:24:24.267Z"
   },
   {
    "duration": 1418,
    "start_time": "2024-05-08T23:14:07.877Z"
   },
   {
    "duration": 375,
    "start_time": "2024-05-08T23:14:09.297Z"
   },
   {
    "duration": 22,
    "start_time": "2024-05-08T23:14:09.677Z"
   },
   {
    "duration": 12,
    "start_time": "2024-05-08T23:14:09.701Z"
   },
   {
    "duration": 26,
    "start_time": "2024-05-08T23:14:09.728Z"
   },
   {
    "duration": 100,
    "start_time": "2024-05-08T23:14:09.756Z"
   },
   {
    "duration": 94,
    "start_time": "2024-05-08T23:14:09.858Z"
   },
   {
    "duration": 56,
    "start_time": "2024-05-08T23:14:09.954Z"
   },
   {
    "duration": 37,
    "start_time": "2024-05-08T23:14:10.029Z"
   },
   {
    "duration": 10,
    "start_time": "2024-05-08T23:14:10.068Z"
   },
   {
    "duration": 60,
    "start_time": "2024-05-08T23:14:10.080Z"
   },
   {
    "duration": 10,
    "start_time": "2024-05-08T23:14:10.141Z"
   },
   {
    "duration": 193,
    "start_time": "2024-05-08T23:14:10.154Z"
   },
   {
    "duration": 0,
    "start_time": "2024-05-08T23:14:10.350Z"
   },
   {
    "duration": 0,
    "start_time": "2024-05-08T23:14:10.351Z"
   },
   {
    "duration": 0,
    "start_time": "2024-05-08T23:14:10.354Z"
   },
   {
    "duration": 0,
    "start_time": "2024-05-08T23:14:10.355Z"
   },
   {
    "duration": 0,
    "start_time": "2024-05-08T23:14:10.356Z"
   },
   {
    "duration": 0,
    "start_time": "2024-05-08T23:14:10.357Z"
   },
   {
    "duration": 0,
    "start_time": "2024-05-08T23:14:10.358Z"
   },
   {
    "duration": 0,
    "start_time": "2024-05-08T23:14:10.360Z"
   },
   {
    "duration": 0,
    "start_time": "2024-05-08T23:14:10.361Z"
   },
   {
    "duration": 0,
    "start_time": "2024-05-08T23:14:10.362Z"
   },
   {
    "duration": 0,
    "start_time": "2024-05-08T23:14:10.364Z"
   },
   {
    "duration": 0,
    "start_time": "2024-05-08T23:14:10.365Z"
   },
   {
    "duration": 0,
    "start_time": "2024-05-08T23:14:10.366Z"
   },
   {
    "duration": 0,
    "start_time": "2024-05-08T23:14:10.367Z"
   },
   {
    "duration": 0,
    "start_time": "2024-05-08T23:14:10.369Z"
   },
   {
    "duration": 0,
    "start_time": "2024-05-08T23:14:10.371Z"
   },
   {
    "duration": 0,
    "start_time": "2024-05-08T23:14:10.372Z"
   },
   {
    "duration": 0,
    "start_time": "2024-05-08T23:14:10.373Z"
   },
   {
    "duration": 0,
    "start_time": "2024-05-08T23:14:10.375Z"
   },
   {
    "duration": 0,
    "start_time": "2024-05-08T23:14:10.376Z"
   },
   {
    "duration": 0,
    "start_time": "2024-05-08T23:14:10.378Z"
   },
   {
    "duration": 0,
    "start_time": "2024-05-08T23:14:10.379Z"
   },
   {
    "duration": 0,
    "start_time": "2024-05-08T23:14:10.380Z"
   },
   {
    "duration": 0,
    "start_time": "2024-05-08T23:14:10.382Z"
   },
   {
    "duration": 0,
    "start_time": "2024-05-08T23:14:10.430Z"
   },
   {
    "duration": 1695,
    "start_time": "2024-05-09T08:34:22.731Z"
   },
   {
    "duration": 227,
    "start_time": "2024-05-09T08:34:24.428Z"
   },
   {
    "duration": 21,
    "start_time": "2024-05-09T08:34:24.656Z"
   },
   {
    "duration": 9,
    "start_time": "2024-05-09T08:34:24.679Z"
   },
   {
    "duration": 41,
    "start_time": "2024-05-09T08:34:24.690Z"
   },
   {
    "duration": 55,
    "start_time": "2024-05-09T08:34:24.744Z"
   },
   {
    "duration": 91,
    "start_time": "2024-05-09T08:34:24.801Z"
   },
   {
    "duration": 62,
    "start_time": "2024-05-09T08:34:24.893Z"
   },
   {
    "duration": 39,
    "start_time": "2024-05-09T08:34:24.956Z"
   },
   {
    "duration": 9,
    "start_time": "2024-05-09T08:34:24.998Z"
   },
   {
    "duration": 76,
    "start_time": "2024-05-09T08:34:25.008Z"
   },
   {
    "duration": 11,
    "start_time": "2024-05-09T08:34:25.085Z"
   },
   {
    "duration": 202,
    "start_time": "2024-05-09T08:34:25.097Z"
   },
   {
    "duration": 0,
    "start_time": "2024-05-09T08:34:25.301Z"
   },
   {
    "duration": 0,
    "start_time": "2024-05-09T08:34:25.302Z"
   },
   {
    "duration": 0,
    "start_time": "2024-05-09T08:34:25.304Z"
   },
   {
    "duration": 0,
    "start_time": "2024-05-09T08:34:25.305Z"
   },
   {
    "duration": 0,
    "start_time": "2024-05-09T08:34:25.307Z"
   },
   {
    "duration": 0,
    "start_time": "2024-05-09T08:34:25.311Z"
   },
   {
    "duration": 0,
    "start_time": "2024-05-09T08:34:25.339Z"
   },
   {
    "duration": 0,
    "start_time": "2024-05-09T08:34:25.340Z"
   },
   {
    "duration": 0,
    "start_time": "2024-05-09T08:34:25.341Z"
   },
   {
    "duration": 0,
    "start_time": "2024-05-09T08:34:25.343Z"
   },
   {
    "duration": 0,
    "start_time": "2024-05-09T08:34:25.344Z"
   },
   {
    "duration": 0,
    "start_time": "2024-05-09T08:34:25.345Z"
   },
   {
    "duration": 0,
    "start_time": "2024-05-09T08:34:25.347Z"
   },
   {
    "duration": 0,
    "start_time": "2024-05-09T08:34:25.347Z"
   },
   {
    "duration": 0,
    "start_time": "2024-05-09T08:34:25.348Z"
   },
   {
    "duration": 0,
    "start_time": "2024-05-09T08:34:25.349Z"
   },
   {
    "duration": 0,
    "start_time": "2024-05-09T08:34:25.350Z"
   },
   {
    "duration": 0,
    "start_time": "2024-05-09T08:34:25.351Z"
   },
   {
    "duration": 0,
    "start_time": "2024-05-09T08:34:25.352Z"
   },
   {
    "duration": 0,
    "start_time": "2024-05-09T08:34:25.353Z"
   },
   {
    "duration": 0,
    "start_time": "2024-05-09T08:34:25.354Z"
   },
   {
    "duration": 0,
    "start_time": "2024-05-09T08:34:25.355Z"
   },
   {
    "duration": 0,
    "start_time": "2024-05-09T08:34:25.356Z"
   },
   {
    "duration": 0,
    "start_time": "2024-05-09T08:34:25.357Z"
   },
   {
    "duration": 0,
    "start_time": "2024-05-09T08:34:25.358Z"
   },
   {
    "duration": 86,
    "start_time": "2024-05-09T08:34:47.417Z"
   },
   {
    "duration": 82,
    "start_time": "2024-05-09T08:35:15.940Z"
   },
   {
    "duration": 1582,
    "start_time": "2024-05-09T08:35:23.761Z"
   },
   {
    "duration": 226,
    "start_time": "2024-05-09T08:35:25.346Z"
   },
   {
    "duration": 22,
    "start_time": "2024-05-09T08:35:25.574Z"
   },
   {
    "duration": 28,
    "start_time": "2024-05-09T08:35:25.598Z"
   },
   {
    "duration": 31,
    "start_time": "2024-05-09T08:35:25.630Z"
   },
   {
    "duration": 56,
    "start_time": "2024-05-09T08:35:25.663Z"
   },
   {
    "duration": 85,
    "start_time": "2024-05-09T08:35:25.721Z"
   },
   {
    "duration": 67,
    "start_time": "2024-05-09T08:35:25.808Z"
   },
   {
    "duration": 39,
    "start_time": "2024-05-09T08:35:25.877Z"
   },
   {
    "duration": 26,
    "start_time": "2024-05-09T08:35:25.929Z"
   },
   {
    "duration": 48,
    "start_time": "2024-05-09T08:35:25.962Z"
   },
   {
    "duration": 10,
    "start_time": "2024-05-09T08:35:26.012Z"
   },
   {
    "duration": 97,
    "start_time": "2024-05-09T08:35:26.024Z"
   },
   {
    "duration": 3,
    "start_time": "2024-05-09T08:35:26.124Z"
   },
   {
    "duration": 12,
    "start_time": "2024-05-09T08:35:26.128Z"
   },
   {
    "duration": 6,
    "start_time": "2024-05-09T08:35:26.144Z"
   },
   {
    "duration": 7,
    "start_time": "2024-05-09T08:35:26.151Z"
   },
   {
    "duration": 605,
    "start_time": "2024-05-09T08:35:26.160Z"
   },
   {
    "duration": 23,
    "start_time": "2024-05-09T08:35:26.767Z"
   },
   {
    "duration": 615,
    "start_time": "2024-05-09T08:35:26.792Z"
   },
   {
    "duration": 36,
    "start_time": "2024-05-09T08:35:27.409Z"
   },
   {
    "duration": 36,
    "start_time": "2024-05-09T08:35:27.447Z"
   },
   {
    "duration": 25,
    "start_time": "2024-05-09T08:35:27.485Z"
   },
   {
    "duration": 56,
    "start_time": "2024-05-09T08:35:27.529Z"
   },
   {
    "duration": 11,
    "start_time": "2024-05-09T08:35:27.587Z"
   },
   {
    "duration": 847,
    "start_time": "2024-05-09T08:35:27.600Z"
   },
   {
    "duration": 115,
    "start_time": "2024-05-09T08:35:28.448Z"
   },
   {
    "duration": 116,
    "start_time": "2024-05-09T08:35:28.564Z"
   },
   {
    "duration": 51,
    "start_time": "2024-05-09T08:35:28.682Z"
   },
   {
    "duration": 45,
    "start_time": "2024-05-09T08:35:28.734Z"
   },
   {
    "duration": 5,
    "start_time": "2024-05-09T08:35:28.781Z"
   },
   {
    "duration": 157,
    "start_time": "2024-05-09T08:35:28.788Z"
   },
   {
    "duration": 17,
    "start_time": "2024-05-09T08:35:28.948Z"
   },
   {
    "duration": 6,
    "start_time": "2024-05-09T08:35:28.967Z"
   },
   {
    "duration": 27,
    "start_time": "2024-05-09T08:35:28.975Z"
   },
   {
    "duration": 10,
    "start_time": "2024-05-09T08:35:29.004Z"
   },
   {
    "duration": 36,
    "start_time": "2024-05-09T08:35:29.016Z"
   },
   {
    "duration": 12,
    "start_time": "2024-05-09T08:35:29.054Z"
   },
   {
    "duration": 44,
    "start_time": "2024-05-09T13:53:44.786Z"
   },
   {
    "duration": 1300,
    "start_time": "2024-05-09T13:53:51.810Z"
   },
   {
    "duration": 283,
    "start_time": "2024-05-09T13:53:53.112Z"
   },
   {
    "duration": 20,
    "start_time": "2024-05-09T13:53:53.397Z"
   },
   {
    "duration": 11,
    "start_time": "2024-05-09T13:53:53.419Z"
   },
   {
    "duration": 16,
    "start_time": "2024-05-09T13:53:53.431Z"
   },
   {
    "duration": 63,
    "start_time": "2024-05-09T13:53:53.448Z"
   },
   {
    "duration": 85,
    "start_time": "2024-05-09T13:53:53.513Z"
   },
   {
    "duration": 57,
    "start_time": "2024-05-09T13:53:53.600Z"
   },
   {
    "duration": 32,
    "start_time": "2024-05-09T13:53:53.659Z"
   },
   {
    "duration": 5,
    "start_time": "2024-05-09T13:53:53.693Z"
   },
   {
    "duration": 47,
    "start_time": "2024-05-09T13:53:53.699Z"
   },
   {
    "duration": 26,
    "start_time": "2024-05-09T13:53:53.747Z"
   },
   {
    "duration": 123,
    "start_time": "2024-05-09T13:53:53.774Z"
   },
   {
    "duration": 3,
    "start_time": "2024-05-09T13:53:53.898Z"
   },
   {
    "duration": 18,
    "start_time": "2024-05-09T13:53:53.903Z"
   },
   {
    "duration": 6,
    "start_time": "2024-05-09T13:53:53.923Z"
   },
   {
    "duration": 11,
    "start_time": "2024-05-09T13:53:53.931Z"
   },
   {
    "duration": 424,
    "start_time": "2024-05-09T13:53:53.944Z"
   },
   {
    "duration": 29,
    "start_time": "2024-05-09T13:53:54.369Z"
   },
   {
    "duration": 698,
    "start_time": "2024-05-09T13:53:54.400Z"
   },
   {
    "duration": 73,
    "start_time": "2024-05-09T13:53:55.100Z"
   },
   {
    "duration": 91,
    "start_time": "2024-05-09T13:53:55.174Z"
   },
   {
    "duration": 26,
    "start_time": "2024-05-09T13:53:55.267Z"
   },
   {
    "duration": 115,
    "start_time": "2024-05-09T13:53:55.295Z"
   },
   {
    "duration": 9,
    "start_time": "2024-05-09T13:53:55.464Z"
   },
   {
    "duration": 528,
    "start_time": "2024-05-09T13:53:55.474Z"
   },
   {
    "duration": 110,
    "start_time": "2024-05-09T13:53:56.004Z"
   },
   {
    "duration": 87,
    "start_time": "2024-05-09T13:53:56.117Z"
   },
   {
    "duration": 58,
    "start_time": "2024-05-09T13:53:56.207Z"
   },
   {
    "duration": 49,
    "start_time": "2024-05-09T13:53:56.266Z"
   },
   {
    "duration": 3,
    "start_time": "2024-05-09T13:53:56.316Z"
   },
   {
    "duration": 124,
    "start_time": "2024-05-09T13:53:56.321Z"
   },
   {
    "duration": 23,
    "start_time": "2024-05-09T13:53:56.447Z"
   },
   {
    "duration": 8,
    "start_time": "2024-05-09T13:53:56.472Z"
   },
   {
    "duration": 16,
    "start_time": "2024-05-09T13:53:56.482Z"
   },
   {
    "duration": 13,
    "start_time": "2024-05-09T13:53:56.499Z"
   },
   {
    "duration": 53,
    "start_time": "2024-05-09T13:53:56.514Z"
   },
   {
    "duration": 11,
    "start_time": "2024-05-09T13:53:56.569Z"
   },
   {
    "duration": 148,
    "start_time": "2024-05-09T13:56:15.671Z"
   },
   {
    "duration": 47,
    "start_time": "2024-05-09T13:57:01.900Z"
   },
   {
    "duration": 50,
    "start_time": "2024-05-09T13:57:13.528Z"
   },
   {
    "duration": 7,
    "start_time": "2024-05-09T13:57:22.876Z"
   },
   {
    "duration": 46,
    "start_time": "2024-05-09T14:01:06.636Z"
   },
   {
    "duration": 1083,
    "start_time": "2024-05-09T14:01:23.108Z"
   },
   {
    "duration": 179,
    "start_time": "2024-05-09T14:01:24.193Z"
   },
   {
    "duration": 22,
    "start_time": "2024-05-09T14:01:24.374Z"
   },
   {
    "duration": 7,
    "start_time": "2024-05-09T14:01:24.397Z"
   },
   {
    "duration": 16,
    "start_time": "2024-05-09T14:01:24.407Z"
   },
   {
    "duration": 85,
    "start_time": "2024-05-09T14:01:24.424Z"
   },
   {
    "duration": 82,
    "start_time": "2024-05-09T14:01:24.510Z"
   },
   {
    "duration": 55,
    "start_time": "2024-05-09T14:01:24.593Z"
   },
   {
    "duration": 38,
    "start_time": "2024-05-09T14:01:24.649Z"
   },
   {
    "duration": 7,
    "start_time": "2024-05-09T14:01:24.689Z"
   },
   {
    "duration": 71,
    "start_time": "2024-05-09T14:01:24.697Z"
   },
   {
    "duration": 13,
    "start_time": "2024-05-09T14:01:24.770Z"
   },
   {
    "duration": 136,
    "start_time": "2024-05-09T14:01:24.785Z"
   },
   {
    "duration": 3,
    "start_time": "2024-05-09T14:01:24.923Z"
   },
   {
    "duration": 18,
    "start_time": "2024-05-09T14:01:24.928Z"
   },
   {
    "duration": 21,
    "start_time": "2024-05-09T14:01:24.947Z"
   },
   {
    "duration": 14,
    "start_time": "2024-05-09T14:01:24.969Z"
   },
   {
    "duration": 409,
    "start_time": "2024-05-09T14:01:24.984Z"
   },
   {
    "duration": 43,
    "start_time": "2024-05-09T14:01:25.394Z"
   },
   {
    "duration": 0,
    "start_time": "2024-05-09T14:01:25.438Z"
   },
   {
    "duration": 0,
    "start_time": "2024-05-09T14:01:25.440Z"
   },
   {
    "duration": 0,
    "start_time": "2024-05-09T14:01:25.441Z"
   },
   {
    "duration": 0,
    "start_time": "2024-05-09T14:01:25.442Z"
   },
   {
    "duration": 0,
    "start_time": "2024-05-09T14:01:25.444Z"
   },
   {
    "duration": 0,
    "start_time": "2024-05-09T14:01:25.445Z"
   },
   {
    "duration": 0,
    "start_time": "2024-05-09T14:01:25.447Z"
   },
   {
    "duration": 0,
    "start_time": "2024-05-09T14:01:25.448Z"
   },
   {
    "duration": 0,
    "start_time": "2024-05-09T14:01:25.449Z"
   },
   {
    "duration": 0,
    "start_time": "2024-05-09T14:01:25.451Z"
   },
   {
    "duration": 0,
    "start_time": "2024-05-09T14:01:25.452Z"
   },
   {
    "duration": 0,
    "start_time": "2024-05-09T14:01:25.453Z"
   },
   {
    "duration": 0,
    "start_time": "2024-05-09T14:01:25.455Z"
   },
   {
    "duration": 0,
    "start_time": "2024-05-09T14:01:25.455Z"
   },
   {
    "duration": 0,
    "start_time": "2024-05-09T14:01:25.457Z"
   },
   {
    "duration": 0,
    "start_time": "2024-05-09T14:01:25.458Z"
   },
   {
    "duration": 0,
    "start_time": "2024-05-09T14:01:25.460Z"
   },
   {
    "duration": 0,
    "start_time": "2024-05-09T14:01:25.461Z"
   },
   {
    "duration": 0,
    "start_time": "2024-05-09T14:01:25.464Z"
   },
   {
    "duration": 29,
    "start_time": "2024-05-09T14:02:15.098Z"
   },
   {
    "duration": 26,
    "start_time": "2024-05-09T14:02:29.319Z"
   },
   {
    "duration": 1127,
    "start_time": "2024-05-09T14:03:36.730Z"
   },
   {
    "duration": 175,
    "start_time": "2024-05-09T14:03:37.858Z"
   },
   {
    "duration": 20,
    "start_time": "2024-05-09T14:03:38.034Z"
   },
   {
    "duration": 7,
    "start_time": "2024-05-09T14:03:38.064Z"
   },
   {
    "duration": 19,
    "start_time": "2024-05-09T14:03:38.072Z"
   },
   {
    "duration": 72,
    "start_time": "2024-05-09T14:03:38.093Z"
   },
   {
    "duration": 82,
    "start_time": "2024-05-09T14:03:38.166Z"
   },
   {
    "duration": 68,
    "start_time": "2024-05-09T14:03:38.249Z"
   },
   {
    "duration": 28,
    "start_time": "2024-05-09T14:03:38.319Z"
   },
   {
    "duration": 19,
    "start_time": "2024-05-09T14:03:38.349Z"
   },
   {
    "duration": 53,
    "start_time": "2024-05-09T14:03:38.370Z"
   },
   {
    "duration": 12,
    "start_time": "2024-05-09T14:03:38.424Z"
   },
   {
    "duration": 143,
    "start_time": "2024-05-09T14:03:38.437Z"
   },
   {
    "duration": 3,
    "start_time": "2024-05-09T14:03:38.581Z"
   },
   {
    "duration": 11,
    "start_time": "2024-05-09T14:03:38.586Z"
   },
   {
    "duration": 7,
    "start_time": "2024-05-09T14:03:38.598Z"
   },
   {
    "duration": 5,
    "start_time": "2024-05-09T14:03:38.607Z"
   },
   {
    "duration": 429,
    "start_time": "2024-05-09T14:03:38.613Z"
   },
   {
    "duration": 45,
    "start_time": "2024-05-09T14:03:39.044Z"
   },
   {
    "duration": 332,
    "start_time": "2024-05-09T14:03:39.090Z"
   },
   {
    "duration": 20,
    "start_time": "2024-05-09T14:03:39.423Z"
   },
   {
    "duration": 55,
    "start_time": "2024-05-09T14:03:39.444Z"
   },
   {
    "duration": 26,
    "start_time": "2024-05-09T14:03:39.501Z"
   },
   {
    "duration": 93,
    "start_time": "2024-05-09T14:03:39.528Z"
   },
   {
    "duration": 10,
    "start_time": "2024-05-09T14:03:39.623Z"
   },
   {
    "duration": 474,
    "start_time": "2024-05-09T14:03:39.635Z"
   },
   {
    "duration": 172,
    "start_time": "2024-05-09T14:03:40.111Z"
   },
   {
    "duration": 47,
    "start_time": "2024-05-09T14:03:40.286Z"
   },
   {
    "duration": 64,
    "start_time": "2024-05-09T14:03:40.335Z"
   },
   {
    "duration": 46,
    "start_time": "2024-05-09T14:03:40.400Z"
   },
   {
    "duration": 17,
    "start_time": "2024-05-09T14:03:40.448Z"
   },
   {
    "duration": 110,
    "start_time": "2024-05-09T14:03:40.466Z"
   },
   {
    "duration": 12,
    "start_time": "2024-05-09T14:03:40.578Z"
   },
   {
    "duration": 5,
    "start_time": "2024-05-09T14:03:40.592Z"
   },
   {
    "duration": 10,
    "start_time": "2024-05-09T14:03:40.598Z"
   },
   {
    "duration": 7,
    "start_time": "2024-05-09T14:03:40.610Z"
   },
   {
    "duration": 8,
    "start_time": "2024-05-09T14:03:40.619Z"
   },
   {
    "duration": 41,
    "start_time": "2024-05-09T14:03:40.628Z"
   },
   {
    "duration": 20,
    "start_time": "2024-05-09T14:08:27.792Z"
   },
   {
    "duration": 18,
    "start_time": "2024-05-09T14:08:32.621Z"
   },
   {
    "duration": 17,
    "start_time": "2024-05-09T14:08:55.356Z"
   },
   {
    "duration": 19,
    "start_time": "2024-05-09T14:09:07.486Z"
   },
   {
    "duration": 18,
    "start_time": "2024-05-09T14:09:26.988Z"
   },
   {
    "duration": 18,
    "start_time": "2024-05-09T14:09:52.984Z"
   },
   {
    "duration": 52,
    "start_time": "2024-05-09T14:10:47.577Z"
   },
   {
    "duration": 49,
    "start_time": "2024-05-09T14:11:14.766Z"
   },
   {
    "duration": 41,
    "start_time": "2024-05-09T14:21:56.138Z"
   },
   {
    "duration": 43,
    "start_time": "2024-05-09T14:22:10.101Z"
   },
   {
    "duration": 43,
    "start_time": "2024-05-09T14:22:20.436Z"
   },
   {
    "duration": 48,
    "start_time": "2024-05-09T14:22:51.994Z"
   },
   {
    "duration": 143,
    "start_time": "2024-05-09T14:24:38.451Z"
   },
   {
    "duration": 11,
    "start_time": "2024-05-09T14:25:00.365Z"
   },
   {
    "duration": 40,
    "start_time": "2024-05-09T14:25:17.906Z"
   },
   {
    "duration": 36,
    "start_time": "2024-05-09T14:25:22.783Z"
   },
   {
    "duration": 60,
    "start_time": "2024-05-09T14:25:34.771Z"
   },
   {
    "duration": 44,
    "start_time": "2024-05-09T14:25:43.375Z"
   },
   {
    "duration": 11,
    "start_time": "2024-05-09T14:28:00.240Z"
   },
   {
    "duration": 1149,
    "start_time": "2024-05-09T14:29:26.052Z"
   },
   {
    "duration": 185,
    "start_time": "2024-05-09T14:29:27.203Z"
   },
   {
    "duration": 20,
    "start_time": "2024-05-09T14:29:27.389Z"
   },
   {
    "duration": 9,
    "start_time": "2024-05-09T14:29:27.411Z"
   },
   {
    "duration": 22,
    "start_time": "2024-05-09T14:29:27.422Z"
   },
   {
    "duration": 73,
    "start_time": "2024-05-09T14:29:27.445Z"
   },
   {
    "duration": 81,
    "start_time": "2024-05-09T14:29:27.519Z"
   },
   {
    "duration": 70,
    "start_time": "2024-05-09T14:29:27.601Z"
   },
   {
    "duration": 29,
    "start_time": "2024-05-09T14:29:27.673Z"
   },
   {
    "duration": 4,
    "start_time": "2024-05-09T14:29:27.705Z"
   },
   {
    "duration": 63,
    "start_time": "2024-05-09T14:29:27.711Z"
   },
   {
    "duration": 12,
    "start_time": "2024-05-09T14:29:27.776Z"
   },
   {
    "duration": 132,
    "start_time": "2024-05-09T14:29:27.789Z"
   },
   {
    "duration": 3,
    "start_time": "2024-05-09T14:29:27.923Z"
   },
   {
    "duration": 13,
    "start_time": "2024-05-09T14:29:27.927Z"
   },
   {
    "duration": 6,
    "start_time": "2024-05-09T14:29:27.941Z"
   },
   {
    "duration": 58,
    "start_time": "2024-05-09T14:29:27.948Z"
   },
   {
    "duration": 5,
    "start_time": "2024-05-09T14:29:28.008Z"
   },
   {
    "duration": 392,
    "start_time": "2024-05-09T14:29:28.015Z"
   },
   {
    "duration": 36,
    "start_time": "2024-05-09T14:29:28.409Z"
   },
   {
    "duration": 339,
    "start_time": "2024-05-09T14:29:28.447Z"
   },
   {
    "duration": 22,
    "start_time": "2024-05-09T14:29:28.788Z"
   },
   {
    "duration": 60,
    "start_time": "2024-05-09T14:29:28.811Z"
   },
   {
    "duration": 25,
    "start_time": "2024-05-09T14:29:28.872Z"
   },
   {
    "duration": 79,
    "start_time": "2024-05-09T14:29:28.898Z"
   },
   {
    "duration": 9,
    "start_time": "2024-05-09T14:29:28.980Z"
   },
   {
    "duration": 104,
    "start_time": "2024-05-09T14:29:28.991Z"
   },
   {
    "duration": 0,
    "start_time": "2024-05-09T14:29:29.097Z"
   },
   {
    "duration": 0,
    "start_time": "2024-05-09T14:29:29.099Z"
   },
   {
    "duration": 0,
    "start_time": "2024-05-09T14:29:29.100Z"
   },
   {
    "duration": 0,
    "start_time": "2024-05-09T14:29:29.101Z"
   },
   {
    "duration": 0,
    "start_time": "2024-05-09T14:29:29.102Z"
   },
   {
    "duration": 0,
    "start_time": "2024-05-09T14:29:29.103Z"
   },
   {
    "duration": 0,
    "start_time": "2024-05-09T14:29:29.104Z"
   },
   {
    "duration": 0,
    "start_time": "2024-05-09T14:29:29.105Z"
   },
   {
    "duration": 0,
    "start_time": "2024-05-09T14:29:29.107Z"
   },
   {
    "duration": 0,
    "start_time": "2024-05-09T14:29:29.108Z"
   },
   {
    "duration": 0,
    "start_time": "2024-05-09T14:29:29.109Z"
   },
   {
    "duration": 0,
    "start_time": "2024-05-09T14:29:29.110Z"
   },
   {
    "duration": 50,
    "start_time": "2024-05-09T14:30:05.841Z"
   },
   {
    "duration": 54,
    "start_time": "2024-05-09T14:30:12.092Z"
   },
   {
    "duration": 9,
    "start_time": "2024-05-09T14:30:18.826Z"
   },
   {
    "duration": 10,
    "start_time": "2024-05-09T14:31:03.266Z"
   },
   {
    "duration": 8,
    "start_time": "2024-05-09T14:31:26.377Z"
   },
   {
    "duration": 38,
    "start_time": "2024-05-09T14:32:53.478Z"
   },
   {
    "duration": 504,
    "start_time": "2024-05-09T14:33:02.277Z"
   },
   {
    "duration": 12,
    "start_time": "2024-05-09T14:33:24.508Z"
   },
   {
    "duration": 16,
    "start_time": "2024-05-09T14:34:02.500Z"
   },
   {
    "duration": 11,
    "start_time": "2024-05-09T14:34:52.909Z"
   },
   {
    "duration": 11,
    "start_time": "2024-05-09T14:35:28.025Z"
   },
   {
    "duration": 12,
    "start_time": "2024-05-09T14:36:21.163Z"
   },
   {
    "duration": 12,
    "start_time": "2024-05-09T14:36:31.592Z"
   },
   {
    "duration": 12,
    "start_time": "2024-05-09T14:36:37.020Z"
   },
   {
    "duration": 11,
    "start_time": "2024-05-09T14:36:43.138Z"
   },
   {
    "duration": 75,
    "start_time": "2024-05-09T14:36:56.871Z"
   },
   {
    "duration": 49,
    "start_time": "2024-05-09T14:36:57.422Z"
   },
   {
    "duration": 1607,
    "start_time": "2024-05-10T08:17:30.659Z"
   },
   {
    "duration": 327,
    "start_time": "2024-05-10T08:17:32.268Z"
   },
   {
    "duration": 25,
    "start_time": "2024-05-10T08:17:32.597Z"
   },
   {
    "duration": 394,
    "start_time": "2024-05-10T08:17:32.625Z"
   },
   {
    "duration": 62,
    "start_time": "2024-05-10T08:17:33.021Z"
   },
   {
    "duration": 80,
    "start_time": "2024-05-10T08:17:33.085Z"
   },
   {
    "duration": 69,
    "start_time": "2024-05-10T08:17:33.166Z"
   },
   {
    "duration": 55,
    "start_time": "2024-05-10T08:17:33.237Z"
   },
   {
    "duration": 231,
    "start_time": "2024-05-10T08:17:33.294Z"
   },
   {
    "duration": 212,
    "start_time": "2024-05-10T08:17:33.529Z"
   },
   {
    "duration": 64,
    "start_time": "2024-05-10T08:17:33.743Z"
   },
   {
    "duration": 10,
    "start_time": "2024-05-10T08:17:33.809Z"
   },
   {
    "duration": 94,
    "start_time": "2024-05-10T08:17:33.821Z"
   },
   {
    "duration": 3,
    "start_time": "2024-05-10T08:17:33.917Z"
   },
   {
    "duration": 66,
    "start_time": "2024-05-10T08:17:33.922Z"
   },
   {
    "duration": 9,
    "start_time": "2024-05-10T08:17:33.990Z"
   },
   {
    "duration": 57,
    "start_time": "2024-05-10T08:17:34.001Z"
   },
   {
    "duration": 7,
    "start_time": "2024-05-10T08:17:34.060Z"
   },
   {
    "duration": 591,
    "start_time": "2024-05-10T08:17:34.069Z"
   },
   {
    "duration": 50,
    "start_time": "2024-05-10T08:17:34.662Z"
   },
   {
    "duration": 616,
    "start_time": "2024-05-10T08:17:34.714Z"
   },
   {
    "duration": 13,
    "start_time": "2024-05-10T08:17:35.332Z"
   },
   {
    "duration": 42,
    "start_time": "2024-05-10T08:17:35.347Z"
   },
   {
    "duration": 20,
    "start_time": "2024-05-10T08:17:35.392Z"
   },
   {
    "duration": 48,
    "start_time": "2024-05-10T08:17:35.430Z"
   },
   {
    "duration": 11,
    "start_time": "2024-05-10T08:17:35.480Z"
   },
   {
    "duration": 127,
    "start_time": "2024-05-10T08:17:35.494Z"
   },
   {
    "duration": 0,
    "start_time": "2024-05-10T08:17:35.629Z"
   },
   {
    "duration": 0,
    "start_time": "2024-05-10T08:17:35.631Z"
   },
   {
    "duration": 0,
    "start_time": "2024-05-10T08:17:35.632Z"
   },
   {
    "duration": 0,
    "start_time": "2024-05-10T08:17:35.632Z"
   },
   {
    "duration": 0,
    "start_time": "2024-05-10T08:17:35.634Z"
   },
   {
    "duration": 0,
    "start_time": "2024-05-10T08:17:35.635Z"
   },
   {
    "duration": 0,
    "start_time": "2024-05-10T08:17:35.636Z"
   },
   {
    "duration": 0,
    "start_time": "2024-05-10T08:17:35.637Z"
   },
   {
    "duration": 0,
    "start_time": "2024-05-10T08:17:35.639Z"
   },
   {
    "duration": 0,
    "start_time": "2024-05-10T08:17:35.640Z"
   },
   {
    "duration": 0,
    "start_time": "2024-05-10T08:17:35.641Z"
   },
   {
    "duration": 0,
    "start_time": "2024-05-10T08:17:35.643Z"
   },
   {
    "duration": 1579,
    "start_time": "2024-05-10T08:18:12.537Z"
   },
   {
    "duration": 203,
    "start_time": "2024-05-10T08:18:14.118Z"
   },
   {
    "duration": 22,
    "start_time": "2024-05-10T08:18:14.323Z"
   },
   {
    "duration": 24,
    "start_time": "2024-05-10T08:18:14.347Z"
   },
   {
    "duration": 36,
    "start_time": "2024-05-10T08:18:14.373Z"
   },
   {
    "duration": 86,
    "start_time": "2024-05-10T08:18:14.411Z"
   },
   {
    "duration": 72,
    "start_time": "2024-05-10T08:18:14.498Z"
   },
   {
    "duration": 65,
    "start_time": "2024-05-10T08:18:14.571Z"
   },
   {
    "duration": 40,
    "start_time": "2024-05-10T08:18:14.637Z"
   },
   {
    "duration": 5,
    "start_time": "2024-05-10T08:18:14.680Z"
   },
   {
    "duration": 86,
    "start_time": "2024-05-10T08:18:14.686Z"
   },
   {
    "duration": 10,
    "start_time": "2024-05-10T08:18:14.774Z"
   },
   {
    "duration": 146,
    "start_time": "2024-05-10T08:18:14.785Z"
   },
   {
    "duration": 27,
    "start_time": "2024-05-10T08:18:14.933Z"
   },
   {
    "duration": 30,
    "start_time": "2024-05-10T08:18:14.962Z"
   },
   {
    "duration": 99,
    "start_time": "2024-05-10T08:18:14.993Z"
   },
   {
    "duration": 142,
    "start_time": "2024-05-10T08:18:15.094Z"
   },
   {
    "duration": 27,
    "start_time": "2024-05-10T08:18:15.238Z"
   },
   {
    "duration": 854,
    "start_time": "2024-05-10T08:18:15.267Z"
   },
   {
    "duration": 51,
    "start_time": "2024-05-10T08:18:16.122Z"
   },
   {
    "duration": 575,
    "start_time": "2024-05-10T08:18:16.175Z"
   },
   {
    "duration": 14,
    "start_time": "2024-05-10T08:18:16.751Z"
   },
   {
    "duration": 24,
    "start_time": "2024-05-10T08:18:16.767Z"
   },
   {
    "duration": 42,
    "start_time": "2024-05-10T08:18:16.792Z"
   },
   {
    "duration": 49,
    "start_time": "2024-05-10T08:18:16.836Z"
   },
   {
    "duration": 10,
    "start_time": "2024-05-10T08:18:16.887Z"
   },
   {
    "duration": 546,
    "start_time": "2024-05-10T08:18:16.899Z"
   },
   {
    "duration": 101,
    "start_time": "2024-05-10T08:18:17.448Z"
   },
   {
    "duration": 416,
    "start_time": "2024-05-10T08:18:17.552Z"
   },
   {
    "duration": 25,
    "start_time": "2024-05-10T08:18:17.970Z"
   },
   {
    "duration": 46,
    "start_time": "2024-05-10T08:18:17.997Z"
   },
   {
    "duration": 3,
    "start_time": "2024-05-10T08:18:18.045Z"
   },
   {
    "duration": 118,
    "start_time": "2024-05-10T08:18:18.050Z"
   },
   {
    "duration": 13,
    "start_time": "2024-05-10T08:18:18.169Z"
   },
   {
    "duration": 20,
    "start_time": "2024-05-10T08:18:18.184Z"
   },
   {
    "duration": 13,
    "start_time": "2024-05-10T08:18:18.206Z"
   },
   {
    "duration": 12,
    "start_time": "2024-05-10T08:18:18.221Z"
   },
   {
    "duration": 13,
    "start_time": "2024-05-10T08:18:18.235Z"
   },
   {
    "duration": 11,
    "start_time": "2024-05-10T08:18:18.250Z"
   },
   {
    "duration": 1351,
    "start_time": "2024-08-21T21:21:35.060Z"
   },
   {
    "duration": 980,
    "start_time": "2024-08-21T21:21:36.413Z"
   },
   {
    "duration": 23,
    "start_time": "2024-08-21T21:21:37.394Z"
   },
   {
    "duration": 7,
    "start_time": "2024-08-21T21:21:37.419Z"
   },
   {
    "duration": 16,
    "start_time": "2024-08-21T21:21:37.427Z"
   },
   {
    "duration": 69,
    "start_time": "2024-08-21T21:21:37.445Z"
   },
   {
    "duration": 95,
    "start_time": "2024-08-21T21:21:37.516Z"
   },
   {
    "duration": 69,
    "start_time": "2024-08-21T21:21:37.613Z"
   },
   {
    "duration": 30,
    "start_time": "2024-08-21T21:21:37.683Z"
   },
   {
    "duration": 19,
    "start_time": "2024-08-21T21:21:37.715Z"
   },
   {
    "duration": 49,
    "start_time": "2024-08-21T21:21:37.735Z"
   },
   {
    "duration": 12,
    "start_time": "2024-08-21T21:21:37.786Z"
   },
   {
    "duration": 136,
    "start_time": "2024-08-21T21:21:37.799Z"
   },
   {
    "duration": 3,
    "start_time": "2024-08-21T21:21:37.937Z"
   },
   {
    "duration": 18,
    "start_time": "2024-08-21T21:21:37.941Z"
   },
   {
    "duration": 6,
    "start_time": "2024-08-21T21:21:37.961Z"
   },
   {
    "duration": 50,
    "start_time": "2024-08-21T21:21:37.969Z"
   },
   {
    "duration": 6,
    "start_time": "2024-08-21T21:21:38.020Z"
   },
   {
    "duration": 415,
    "start_time": "2024-08-21T21:21:38.052Z"
   },
   {
    "duration": 35,
    "start_time": "2024-08-21T21:21:38.469Z"
   },
   {
    "duration": 348,
    "start_time": "2024-08-21T21:21:38.506Z"
   },
   {
    "duration": 20,
    "start_time": "2024-08-21T21:21:38.855Z"
   },
   {
    "duration": 40,
    "start_time": "2024-08-21T21:21:38.876Z"
   },
   {
    "duration": 45,
    "start_time": "2024-08-21T21:21:38.918Z"
   },
   {
    "duration": 102,
    "start_time": "2024-08-21T21:21:38.965Z"
   },
   {
    "duration": 9,
    "start_time": "2024-08-21T21:21:39.069Z"
   },
   {
    "duration": 149,
    "start_time": "2024-08-21T21:21:39.079Z"
   },
   {
    "duration": 141,
    "start_time": "2024-08-21T21:21:39.232Z"
   },
   {
    "duration": 300,
    "start_time": "2024-08-21T21:21:39.374Z"
   },
   {
    "duration": 39,
    "start_time": "2024-08-21T21:21:39.675Z"
   },
   {
    "duration": 61,
    "start_time": "2024-08-21T21:21:39.716Z"
   },
   {
    "duration": 3,
    "start_time": "2024-08-21T21:21:39.779Z"
   },
   {
    "duration": 121,
    "start_time": "2024-08-21T21:21:39.783Z"
   },
   {
    "duration": 13,
    "start_time": "2024-08-21T21:21:39.905Z"
   },
   {
    "duration": 6,
    "start_time": "2024-08-21T21:21:39.919Z"
   },
   {
    "duration": 29,
    "start_time": "2024-08-21T21:21:39.926Z"
   },
   {
    "duration": 24,
    "start_time": "2024-08-21T21:21:39.957Z"
   },
   {
    "duration": 8,
    "start_time": "2024-08-21T21:21:39.982Z"
   },
   {
    "duration": 10,
    "start_time": "2024-08-21T21:21:39.991Z"
   },
   {
    "duration": 1242,
    "start_time": "2024-08-21T21:38:09.756Z"
   },
   {
    "duration": 191,
    "start_time": "2024-08-21T21:38:11.000Z"
   },
   {
    "duration": 22,
    "start_time": "2024-08-21T21:38:11.193Z"
   },
   {
    "duration": 11,
    "start_time": "2024-08-21T21:38:11.216Z"
   },
   {
    "duration": 34,
    "start_time": "2024-08-21T21:38:11.229Z"
   },
   {
    "duration": 88,
    "start_time": "2024-08-21T21:38:11.264Z"
   },
   {
    "duration": 79,
    "start_time": "2024-08-21T21:38:11.353Z"
   },
   {
    "duration": 70,
    "start_time": "2024-08-21T21:38:11.434Z"
   },
   {
    "duration": 47,
    "start_time": "2024-08-21T21:38:11.506Z"
   },
   {
    "duration": 5,
    "start_time": "2024-08-21T21:38:11.554Z"
   },
   {
    "duration": 56,
    "start_time": "2024-08-21T21:38:11.560Z"
   },
   {
    "duration": 12,
    "start_time": "2024-08-21T21:38:11.618Z"
   },
   {
    "duration": 150,
    "start_time": "2024-08-21T21:38:11.632Z"
   },
   {
    "duration": 3,
    "start_time": "2024-08-21T21:38:11.785Z"
   },
   {
    "duration": 32,
    "start_time": "2024-08-21T21:38:11.789Z"
   },
   {
    "duration": 6,
    "start_time": "2024-08-21T21:38:11.823Z"
   },
   {
    "duration": 64,
    "start_time": "2024-08-21T21:38:11.831Z"
   },
   {
    "duration": 6,
    "start_time": "2024-08-21T21:38:11.896Z"
   },
   {
    "duration": 453,
    "start_time": "2024-08-21T21:38:11.904Z"
   },
   {
    "duration": 38,
    "start_time": "2024-08-21T21:38:12.359Z"
   },
   {
    "duration": 356,
    "start_time": "2024-08-21T21:38:12.398Z"
   },
   {
    "duration": 22,
    "start_time": "2024-08-21T21:38:12.755Z"
   },
   {
    "duration": 46,
    "start_time": "2024-08-21T21:38:12.780Z"
   },
   {
    "duration": 28,
    "start_time": "2024-08-21T21:38:12.853Z"
   },
   {
    "duration": 81,
    "start_time": "2024-08-21T21:38:12.883Z"
   },
   {
    "duration": 11,
    "start_time": "2024-08-21T21:38:12.966Z"
   },
   {
    "duration": 161,
    "start_time": "2024-08-21T21:38:12.979Z"
   },
   {
    "duration": 155,
    "start_time": "2024-08-21T21:38:13.143Z"
   },
   {
    "duration": 310,
    "start_time": "2024-08-21T21:38:13.352Z"
   },
   {
    "duration": 46,
    "start_time": "2024-08-21T21:38:13.663Z"
   },
   {
    "duration": 73,
    "start_time": "2024-08-21T21:38:13.711Z"
   },
   {
    "duration": 3,
    "start_time": "2024-08-21T21:38:13.785Z"
   },
   {
    "duration": 273,
    "start_time": "2024-08-21T21:38:13.790Z"
   },
   {
    "duration": 14,
    "start_time": "2024-08-21T21:38:14.064Z"
   },
   {
    "duration": 10,
    "start_time": "2024-08-21T21:38:14.079Z"
   },
   {
    "duration": 10,
    "start_time": "2024-08-21T21:38:14.090Z"
   },
   {
    "duration": 8,
    "start_time": "2024-08-21T21:38:14.153Z"
   },
   {
    "duration": 11,
    "start_time": "2024-08-21T21:38:14.162Z"
   },
   {
    "duration": 9,
    "start_time": "2024-08-21T21:38:14.175Z"
   },
   {
    "duration": 4,
    "start_time": "2024-08-21T21:38:23.052Z"
   },
   {
    "duration": 188,
    "start_time": "2024-08-21T21:38:23.213Z"
   },
   {
    "duration": 21,
    "start_time": "2024-08-21T21:38:23.403Z"
   },
   {
    "duration": 12,
    "start_time": "2024-08-21T21:38:23.965Z"
   },
   {
    "duration": 16,
    "start_time": "2024-08-21T21:38:24.254Z"
   },
   {
    "duration": 59,
    "start_time": "2024-08-21T21:38:24.420Z"
   },
   {
    "duration": 68,
    "start_time": "2024-08-21T21:38:24.734Z"
   },
   {
    "duration": 57,
    "start_time": "2024-08-21T21:38:24.886Z"
   },
   {
    "duration": 26,
    "start_time": "2024-08-21T21:38:25.201Z"
   },
   {
    "duration": 5,
    "start_time": "2024-08-21T21:38:25.369Z"
   },
   {
    "duration": 47,
    "start_time": "2024-08-21T21:38:25.686Z"
   },
   {
    "duration": 13,
    "start_time": "2024-08-21T21:38:25.850Z"
   },
   {
    "duration": 133,
    "start_time": "2024-08-21T21:38:26.172Z"
   },
   {
    "duration": 3,
    "start_time": "2024-08-21T21:38:26.812Z"
   },
   {
    "duration": 9,
    "start_time": "2024-08-21T21:38:27.312Z"
   },
   {
    "duration": 7,
    "start_time": "2024-08-21T21:38:27.799Z"
   },
   {
    "duration": 51,
    "start_time": "2024-08-21T21:38:28.138Z"
   },
   {
    "duration": 5,
    "start_time": "2024-08-21T21:38:28.700Z"
   },
   {
    "duration": 327,
    "start_time": "2024-08-21T21:38:29.047Z"
   },
   {
    "duration": 38,
    "start_time": "2024-08-21T21:38:29.438Z"
   },
   {
    "duration": 333,
    "start_time": "2024-08-21T21:38:29.610Z"
   },
   {
    "duration": 26,
    "start_time": "2024-08-21T21:38:29.989Z"
   },
   {
    "duration": 43,
    "start_time": "2024-08-21T21:38:30.540Z"
   },
   {
    "duration": 26,
    "start_time": "2024-08-21T21:38:31.496Z"
   },
   {
    "duration": 61,
    "start_time": "2024-08-21T21:38:32.042Z"
   },
   {
    "duration": 9,
    "start_time": "2024-08-21T21:38:32.916Z"
   },
   {
    "duration": 12,
    "start_time": "2024-08-21T21:38:33.075Z"
   },
   {
    "duration": 75,
    "start_time": "2024-08-21T21:38:33.434Z"
   },
   {
    "duration": 51,
    "start_time": "2024-08-21T21:38:33.586Z"
   },
   {
    "duration": 43,
    "start_time": "2024-08-21T21:38:35.134Z"
   },
   {
    "duration": 54,
    "start_time": "2024-08-21T21:38:35.479Z"
   },
   {
    "duration": 4,
    "start_time": "2024-08-21T21:38:36.180Z"
   },
   {
    "duration": 109,
    "start_time": "2024-08-21T21:38:36.369Z"
   },
   {
    "duration": 13,
    "start_time": "2024-08-21T21:38:36.525Z"
   },
   {
    "duration": 5,
    "start_time": "2024-08-21T21:38:37.243Z"
   },
   {
    "duration": 8,
    "start_time": "2024-08-21T21:38:37.430Z"
   },
   {
    "duration": 9,
    "start_time": "2024-08-21T21:38:37.965Z"
   },
   {
    "duration": 10,
    "start_time": "2024-08-21T21:38:38.158Z"
   },
   {
    "duration": 9,
    "start_time": "2024-08-21T21:38:38.308Z"
   }
  ],
  "kernelspec": {
   "display_name": "Python 3 (ipykernel)",
   "language": "python",
   "name": "python3"
  },
  "language_info": {
   "codemirror_mode": {
    "name": "ipython",
    "version": 3
   },
   "file_extension": ".py",
   "mimetype": "text/x-python",
   "name": "python",
   "nbconvert_exporter": "python",
   "pygments_lexer": "ipython3",
   "version": "3.9.5"
  },
  "toc": {
   "base_numbering": 1,
   "nav_menu": {},
   "number_sections": true,
   "sideBar": true,
   "skip_h1_title": true,
   "title_cell": "Table of Contents",
   "title_sidebar": "Contents",
   "toc_cell": false,
   "toc_position": {
    "height": "calc(100% - 180px)",
    "left": "10px",
    "top": "150px",
    "width": "246.391px"
   },
   "toc_section_display": true,
   "toc_window_display": true
  }
 },
 "nbformat": 4,
 "nbformat_minor": 2
}
