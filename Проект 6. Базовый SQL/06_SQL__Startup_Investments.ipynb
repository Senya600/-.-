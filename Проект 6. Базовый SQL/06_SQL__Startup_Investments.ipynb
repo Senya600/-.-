{
  "cells": [
    {
      "cell_type": "markdown",
      "id": "751eaeff",
      "metadata": {
        "toc": true,
        "id": "751eaeff"
      },
      "source": [
        "<h1>Table of Contents<span class=\"tocSkip\"></span></h1>\n",
        "<div class=\"toc\"><ul class=\"toc-item\"><li><span><a href=\"#Данные\" data-toc-modified-id=\"Данные-1\"><span class=\"toc-item-num\">1&nbsp;&nbsp;</span>Данные</a></span></li><li><span><a href=\"#Цель\" data-toc-modified-id=\"Цель-2\"><span class=\"toc-item-num\">2&nbsp;&nbsp;</span>Цель</a></span></li><li><span><a href=\"#Задания\" data-toc-modified-id=\"Задания-3\"><span class=\"toc-item-num\">3&nbsp;&nbsp;</span>Задания</a></span><ul class=\"toc-item\"><li><span><a href=\"#Задание-1\" data-toc-modified-id=\"Задание-1-3.1\"><span class=\"toc-item-num\">3.1&nbsp;&nbsp;</span>Задание 1</a></span></li><li><span><a href=\"#Задание-2\" data-toc-modified-id=\"Задание-2-3.2\"><span class=\"toc-item-num\">3.2&nbsp;&nbsp;</span>Задание 2</a></span></li><li><span><a href=\"#Задание-3\" data-toc-modified-id=\"Задание-3-3.3\"><span class=\"toc-item-num\">3.3&nbsp;&nbsp;</span>Задание 3</a></span></li><li><span><a href=\"#Задание-4\" data-toc-modified-id=\"Задание-4-3.4\"><span class=\"toc-item-num\">3.4&nbsp;&nbsp;</span>Задание 4</a></span></li><li><span><a href=\"#Задание-5\" data-toc-modified-id=\"Задание-5-3.5\"><span class=\"toc-item-num\">3.5&nbsp;&nbsp;</span>Задание 5</a></span></li><li><span><a href=\"#Задание-6\" data-toc-modified-id=\"Задание-6-3.6\"><span class=\"toc-item-num\">3.6&nbsp;&nbsp;</span>Задание 6</a></span></li><li><span><a href=\"#Задание-7\" data-toc-modified-id=\"Задание-7-3.7\"><span class=\"toc-item-num\">3.7&nbsp;&nbsp;</span>Задание 7</a></span></li><li><span><a href=\"#Задание-8\" data-toc-modified-id=\"Задание-8-3.8\"><span class=\"toc-item-num\">3.8&nbsp;&nbsp;</span>Задание 8</a></span></li><li><span><a href=\"#Задание-9\" data-toc-modified-id=\"Задание-9-3.9\"><span class=\"toc-item-num\">3.9&nbsp;&nbsp;</span>Задание 9</a></span></li><li><span><a href=\"#Задание-10\" data-toc-modified-id=\"Задание-10-3.10\"><span class=\"toc-item-num\">3.10&nbsp;&nbsp;</span>Задание 10</a></span></li><li><span><a href=\"#Задание-11\" data-toc-modified-id=\"Задание-11-3.11\"><span class=\"toc-item-num\">3.11&nbsp;&nbsp;</span>Задание 11</a></span></li><li><span><a href=\"#Задание-12\" data-toc-modified-id=\"Задание-12-3.12\"><span class=\"toc-item-num\">3.12&nbsp;&nbsp;</span>Задание 12</a></span></li><li><span><a href=\"#Задание-13\" data-toc-modified-id=\"Задание-13-3.13\"><span class=\"toc-item-num\">3.13&nbsp;&nbsp;</span>Задание 13</a></span></li><li><span><a href=\"#Задание-14\" data-toc-modified-id=\"Задание-14-3.14\"><span class=\"toc-item-num\">3.14&nbsp;&nbsp;</span>Задание 14</a></span></li><li><span><a href=\"#Задание-15\" data-toc-modified-id=\"Задание-15-3.15\"><span class=\"toc-item-num\">3.15&nbsp;&nbsp;</span>Задание 15</a></span></li><li><span><a href=\"#Задание-16\" data-toc-modified-id=\"Задание-16-3.16\"><span class=\"toc-item-num\">3.16&nbsp;&nbsp;</span>Задание 16</a></span></li><li><span><a href=\"#Задание-17\" data-toc-modified-id=\"Задание-17-3.17\"><span class=\"toc-item-num\">3.17&nbsp;&nbsp;</span>Задание 17</a></span></li><li><span><a href=\"#Задание-18\" data-toc-modified-id=\"Задание-18-3.18\"><span class=\"toc-item-num\">3.18&nbsp;&nbsp;</span>Задание 18</a></span></li><li><span><a href=\"#Задание-19\" data-toc-modified-id=\"Задание-19-3.19\"><span class=\"toc-item-num\">3.19&nbsp;&nbsp;</span>Задание 19</a></span></li><li><span><a href=\"#Задание-20\" data-toc-modified-id=\"Задание-20-3.20\"><span class=\"toc-item-num\">3.20&nbsp;&nbsp;</span>Задание 20</a></span></li><li><span><a href=\"#Задание-21\" data-toc-modified-id=\"Задание-21-3.21\"><span class=\"toc-item-num\">3.21&nbsp;&nbsp;</span>Задание 21</a></span></li><li><span><a href=\"#Задание-22\" data-toc-modified-id=\"Задание-22-3.22\"><span class=\"toc-item-num\">3.22&nbsp;&nbsp;</span>Задание 22</a></span></li><li><span><a href=\"#Задание-23\" data-toc-modified-id=\"Задание-23-3.23\"><span class=\"toc-item-num\">3.23&nbsp;&nbsp;</span>Задание 23</a></span></li></ul></li></ul></div>"
      ]
    },
    {
      "cell_type": "markdown",
      "id": "e7dfb797",
      "metadata": {
        "id": "e7dfb797"
      },
      "source": [
        "# Исследование данных об инвестиции венчурных фондов в компании-стартапы\n",
        "\n",
        "## Данные\n",
        "\n",
        "Самостоятельная работа основана на базе данных, которая хранит информацию о венчурных фондах и инвестициях в компании-стартапы, и основана на датасете Startup Investments https://www.kaggle.com/justinas/startup-investments.\n",
        "\n",
        "## Цель\n",
        "\n",
        "Проанализировать данные о фондах и инвестициях, произвести выгрузки данных и ответить на поставленные вопросы с помощью SQL.\n",
        "\n",
        "## Задания\n",
        "\n",
        "\n",
        "### Задание 1\n",
        "\n",
        "Отобразите все записи из таблицы company по компаниям, которые закрылись\n"
      ]
    },
    {
      "cell_type": "code",
      "execution_count": null,
      "id": "b94affd3",
      "metadata": {
        "id": "b94affd3"
      },
      "outputs": [],
      "source": [
        "'''\n",
        "SELECT *\n",
        "FROM company\n",
        "WHERE status = 'closed';\n",
        "'''"
      ]
    },
    {
      "cell_type": "markdown",
      "id": "a8f6be8b",
      "metadata": {
        "id": "a8f6be8b"
      },
      "source": [
        "### Задание 2\n",
        "Отобразите количество привлечённых средств для новостных компаний США. Используйте данные из таблицы company. Отсортируйте таблицу по убыванию значений в поле funding_total\n",
        "\n"
      ]
    },
    {
      "cell_type": "code",
      "execution_count": null,
      "id": "702093b1",
      "metadata": {
        "id": "702093b1"
      },
      "outputs": [],
      "source": [
        "'''\n",
        "SELECT funding_total\n",
        "FROM company\n",
        "WHERE country_code = 'USA'\n",
        "      AND category_code = 'news'\n",
        "ORDER BY funding_total DESC;\n",
        "'''"
      ]
    },
    {
      "cell_type": "markdown",
      "id": "81e05df1",
      "metadata": {
        "id": "81e05df1"
      },
      "source": [
        "### Задание 3\n",
        "Найдите общую сумму сделок по покупке одних компаний другими в долларах. Отберите сделки, которые осуществлялись только за наличные с 2011 по 2013 год включительно\n"
      ]
    },
    {
      "cell_type": "code",
      "execution_count": null,
      "id": "0f111021",
      "metadata": {
        "id": "0f111021"
      },
      "outputs": [],
      "source": [
        "'''\n",
        "SELECT SUM(price_amount)\n",
        "FROM acquisition\n",
        "WHERE term_code = 'cash'\n",
        "      AND EXTRACT(YEAR FROM CAST(acquired_at AS date)) BETWEEN 2011 AND 2013;\n",
        "'''"
      ]
    },
    {
      "cell_type": "markdown",
      "id": "cf0bd78d",
      "metadata": {
        "id": "cf0bd78d"
      },
      "source": [
        "### Задание 4\n",
        "\n",
        "Отобразите имя, фамилию и названия аккаунтов людей в поле network_username, у которых названия аккаунтов начинаются на 'Silver'\n",
        "\n"
      ]
    },
    {
      "cell_type": "code",
      "execution_count": null,
      "id": "a16e6be9",
      "metadata": {
        "id": "a16e6be9"
      },
      "outputs": [],
      "source": [
        "'''\n",
        "SELECT first_name,\n",
        "       last_name,\n",
        "       network_username\n",
        "FROM people\n",
        "WHERE network_username LIKE 'Silver%';\n",
        "'''"
      ]
    },
    {
      "cell_type": "markdown",
      "id": "d8b64c72",
      "metadata": {
        "id": "d8b64c72"
      },
      "source": [
        "### Задание 5\n",
        "Выведите на экран всю информацию о людях, у которых названия аккаунтов в поле network_username содержат подстроку 'money', а фамилия начинается на 'K'\n",
        "\n"
      ]
    },
    {
      "cell_type": "code",
      "execution_count": null,
      "id": "7d7ab6da",
      "metadata": {
        "id": "7d7ab6da"
      },
      "outputs": [],
      "source": [
        "'''\n",
        "SELECT *\n",
        "FROM people\n",
        "WHERE network_username LIKE '%money%'\n",
        "      AND last_name LIKE 'K%';\n",
        "'''"
      ]
    },
    {
      "cell_type": "markdown",
      "id": "098bd9bc",
      "metadata": {
        "id": "098bd9bc"
      },
      "source": [
        "### Задание 6\n",
        "\n",
        "Для каждой страны отобразите общую сумму привлечённых инвестиций, которые получили компании, зарегистрированные в этой стране. Страну, в которой зарегистрирована компания, можно определить по коду страны. Отсортируйте данные по убыванию суммы\n",
        "\n"
      ]
    },
    {
      "cell_type": "code",
      "execution_count": null,
      "id": "68cc6d9d",
      "metadata": {
        "id": "68cc6d9d"
      },
      "outputs": [],
      "source": [
        "'''\n",
        "SELECT country_code,\n",
        "       SUM(funding_total)\n",
        "FROM company\n",
        "GROUP BY country_code\n",
        "ORDER BY SUM(funding_total) DESC;\n",
        "'''"
      ]
    },
    {
      "cell_type": "markdown",
      "id": "2bc03b24",
      "metadata": {
        "id": "2bc03b24"
      },
      "source": [
        "### Задание 7\n",
        "\n",
        "Составьте таблицу, в которую войдёт дата проведения раунда, а также минимальное и максимальное значения суммы инвестиций, привлечённых в эту дату.\n",
        "Оставьте в итоговой таблице только те записи, в которых минимальное значение суммы инвестиций не равно нулю и не равно максимальному значению\n"
      ]
    },
    {
      "cell_type": "code",
      "execution_count": null,
      "id": "cc9a8a1c",
      "metadata": {
        "id": "cc9a8a1c"
      },
      "outputs": [],
      "source": [
        "'''\n",
        "SELECT funded_at,\n",
        "       MIN(raised_amount),\n",
        "       MAX(raised_amount)\n",
        "FROM funding_round\n",
        "GROUP BY funded_at\n",
        "HAVING MIN(raised_amount) <> 0\n",
        "       AND MIN(raised_amount) <> MAX(raised_amount);\n",
        "'''"
      ]
    },
    {
      "cell_type": "markdown",
      "id": "3790cb78",
      "metadata": {
        "id": "3790cb78"
      },
      "source": [
        "### Задание 8\n",
        "\n",
        "Создайте поле с категориями:\n",
        "\n",
        "- Для фондов, которые инвестируют в 100 и более компаний, назначьте категорию high_activity.\n",
        "- Для фондов, которые инвестируют в 20 и более компаний до 100, назначьте категорию middle_activity.\n",
        "- Если количество инвестируемых компаний фонда не достигает 20, назначьте категорию low_activity.\n",
        "\n",
        "Отобразите все поля таблицы fund и новое поле с категориями.\n"
      ]
    },
    {
      "cell_type": "code",
      "execution_count": null,
      "id": "2e2cd852",
      "metadata": {
        "id": "2e2cd852"
      },
      "outputs": [],
      "source": [
        "'''\n",
        "SELECT *,\n",
        "       CASE\n",
        "           WHEN invested_companies >= 100 THEN 'high_activity'\n",
        "           WHEN 20 <= invested_companies AND invested_companies < 100\n",
        "           THEN 'middle_activity'\n",
        "           ELSE 'low_activity'\n",
        "       END\n",
        "FROM fund;\n",
        "'''"
      ]
    },
    {
      "cell_type": "markdown",
      "id": "b0d85ee6",
      "metadata": {
        "id": "b0d85ee6"
      },
      "source": [
        "### Задание 9\n",
        "\n",
        "Для каждой из категорий, назначенных в предыдущем задании, посчитайте округлённое до ближайшего целого числа среднее количество инвестиционных раундов, в которых фонд принимал участие. Выведите на экран категории и среднее число инвестиционных раундов. Отсортируйте таблицу по возрастанию среднего"
      ]
    },
    {
      "cell_type": "code",
      "execution_count": null,
      "id": "51df210a",
      "metadata": {
        "id": "51df210a"
      },
      "outputs": [],
      "source": [
        "'''\n",
        "SELECT CASE\n",
        "           WHEN invested_companies>=100 THEN 'high_activity'\n",
        "           WHEN invested_companies>=20 THEN 'middle_activity'\n",
        "           ELSE 'low_activity'\n",
        "       END AS activity,\n",
        "       ROUND(AVG(investment_rounds)) AS avg_rounds\n",
        "FROM fund\n",
        "GROUP BY activity\n",
        "ORDER BY avg_rounds;\n",
        "'''"
      ]
    },
    {
      "cell_type": "markdown",
      "id": "be802a48",
      "metadata": {
        "id": "be802a48"
      },
      "source": [
        "### Задание 10\n",
        "\n",
        "Проанализируйте, в каких странах находятся фонды, которые чаще всего инвестируют в стартапы.\n",
        "\n",
        "Для каждой страны посчитайте минимальное, максимальное и среднее число компаний, в которые инвестировали фонды этой страны, основанные с 2010 по 2012 год включительно. Исключите страны с фондами, у которых минимальное число компаний, получивших инвестиции, равно нулю.\n",
        "\n",
        "Выгрузите десять самых активных стран-инвесторов: отсортируйте таблицу по среднему количеству компаний от большего к меньшему. Затем добавьте сортировку по коду страны в лексикографическом порядке\n"
      ]
    },
    {
      "cell_type": "code",
      "execution_count": null,
      "id": "f18c3b97",
      "metadata": {
        "id": "f18c3b97"
      },
      "outputs": [],
      "source": [
        "'''\n",
        "SELECT MIN(invested_companies),\n",
        "       MAX(invested_companies),\n",
        "       AVG(invested_companies) AS avg_company,\n",
        "       country_code\n",
        "FROM fund\n",
        "WHERE EXTRACT(YEAR FROM CAST(founded_at AS date)) BETWEEN 2010 AND 2012\n",
        "GROUP BY country_code\n",
        "HAVING MIN(invested_companies) > 0\n",
        "ORDER BY avg_company DESC, country_code\n",
        "LIMIT 10;\n",
        "'''"
      ]
    },
    {
      "cell_type": "markdown",
      "id": "b60727c0",
      "metadata": {
        "id": "b60727c0"
      },
      "source": [
        "### Задание 11\n",
        "\n",
        "Отобразите имя и фамилию всех сотрудников стартапов. Добавьте поле с названием учебного заведения, которое окончил сотрудник, если эта информация известна\n",
        "\n"
      ]
    },
    {
      "cell_type": "code",
      "execution_count": null,
      "id": "ae6ceb83",
      "metadata": {
        "id": "ae6ceb83"
      },
      "outputs": [],
      "source": [
        "'''\n",
        "SELECT first_name,\n",
        "       last_name,\n",
        "       instituition\n",
        "FROM people\n",
        "LEFT JOIN education ON people.id = education.person_id;\n",
        "'''"
      ]
    },
    {
      "cell_type": "markdown",
      "id": "6c35823a",
      "metadata": {
        "id": "6c35823a"
      },
      "source": [
        "### Задание 12\n",
        "\n",
        "Для каждой компании найдите количество учебных заведений, которые окончили её сотрудники.\n",
        "\n",
        "Выведите название компании и число уникальных названий учебных заведений.\n",
        "\n",
        "Составьте топ-5 компаний по количеству университетов\n",
        "\n"
      ]
    },
    {
      "cell_type": "code",
      "execution_count": null,
      "id": "0393d279",
      "metadata": {
        "id": "0393d279"
      },
      "outputs": [],
      "source": [
        "'''\n",
        "SELECT c.name,\n",
        "       COUNT(DISTINCT e.instituition) AS quantity\n",
        "FROM company AS c\n",
        "JOIN people AS p ON c.id = p.company_id\n",
        "JOIN education AS e ON p.id = e.person_id\n",
        "GROUP BY c.name\n",
        "ORDER BY quantity DESC\n",
        "LIMIT 5;\n",
        "'''"
      ]
    },
    {
      "cell_type": "markdown",
      "id": "7f24772a",
      "metadata": {
        "id": "7f24772a"
      },
      "source": [
        "### Задание 13\n",
        "\n",
        "Составьте список с уникальными названиями закрытых компаний, для которых первый раунд финансирования оказался последним\n"
      ]
    },
    {
      "cell_type": "code",
      "execution_count": null,
      "id": "ffa11404",
      "metadata": {
        "id": "ffa11404"
      },
      "outputs": [],
      "source": [
        "'''\n",
        "SELECT name\n",
        "FROM company\n",
        "WHERE status = 'closed'\n",
        "      AND id IN (SELECT company_id\n",
        "                 FROM funding_round\n",
        "                 WHERE is_first_round = 1\n",
        "                 AND is_last_round = 1)\n",
        "GROUP BY name;\n",
        "'''\n",
        "\n"
      ]
    },
    {
      "cell_type": "markdown",
      "id": "4f6b6ae1",
      "metadata": {
        "id": "4f6b6ae1"
      },
      "source": [
        "### Задание 14\n",
        "\n",
        "Составьте список уникальных номеров сотрудников, которые работают в компаниях, отобранных в предыдущем задании\n"
      ]
    },
    {
      "cell_type": "code",
      "execution_count": null,
      "id": "28436dac",
      "metadata": {
        "id": "28436dac"
      },
      "outputs": [],
      "source": [
        "'''\n",
        "SELECT id\n",
        "FROM people\n",
        "WHERE company_id IN (SELECT id\n",
        "                     FROM company\n",
        "                     WHERE status = 'closed'\n",
        "                           AND id IN (SELECT company_id\n",
        "                                      FROM funding_round\n",
        "                                      WHERE is_first_round = 1\n",
        "                                            AND is_last_round = 1)\n",
        "                     );\n",
        "'''"
      ]
    },
    {
      "cell_type": "markdown",
      "id": "7e9f5525",
      "metadata": {
        "id": "7e9f5525"
      },
      "source": [
        "### Задание 15\n",
        "\n",
        "Составьте таблицу, куда войдут уникальные пары с номерами сотрудников из предыдущей задачи и учебным заведением, которое окончил сотрудник\n",
        "\n"
      ]
    },
    {
      "cell_type": "code",
      "execution_count": null,
      "id": "0e9e7d79",
      "metadata": {
        "id": "0e9e7d79"
      },
      "outputs": [],
      "source": [
        "'''\n",
        "SELECT DISTINCT p.id,\n",
        "       e.instituition\n",
        "FROM people AS p\n",
        "JOIN education AS e ON p.id = e.person_id\n",
        "WHERE p.id IN (\n",
        "             SELECT id\n",
        "             FROM people\n",
        "             WHERE company_id IN (\n",
        "                                  SELECT id\n",
        "                                  FROM company\n",
        "                                  WHERE status='closed'\n",
        "                                        AND id IN (\n",
        "                                                    SELECT company_id\n",
        "                                                     FROM funding_round\n",
        "                                                     WHERE is_first_round=1\n",
        "                                                     AND is_last_round=1)\n",
        "                                   )\n",
        "              );\n",
        "'''"
      ]
    },
    {
      "cell_type": "markdown",
      "id": "271ce2e8",
      "metadata": {
        "id": "271ce2e8"
      },
      "source": [
        "### Задание 16\n",
        "\n",
        "Посчитайте количество учебных заведений для каждого сотрудника из предыдущего задания. При подсчёте учитывайте, что некоторые сотрудники могли окончить одно и то же заведение дважды\n",
        "\n"
      ]
    },
    {
      "cell_type": "code",
      "execution_count": null,
      "id": "119fd9fc",
      "metadata": {
        "id": "119fd9fc"
      },
      "outputs": [],
      "source": [
        "'''\n",
        "SELECT p.id,\n",
        "       COUNT(e.instituition)\n",
        "FROM people AS p\n",
        "INNER JOIN education AS e\n",
        "ON p.id=e.person_id\n",
        "WHERE p.company_id IN (\n",
        "                   SELECT id\n",
        "                   FROM company\n",
        "                   WHERE status='closed'\n",
        "                   AND id IN (\n",
        "                          SELECT company_id\n",
        "                          FROM funding_round\n",
        "                          WHERE is_first_round=1 AND is_last_round=1\n",
        "                             )\n",
        "                       )\n",
        "GROUP BY p.id;\n",
        "'''"
      ]
    },
    {
      "cell_type": "markdown",
      "id": "27c99c65",
      "metadata": {
        "id": "27c99c65"
      },
      "source": [
        "### Задание 17\n",
        "\n",
        "Дополните предыдущий запрос и выведите среднее число учебных заведений (всех, не только уникальных), которые окончили сотрудники разных компаний. Нужно вывести только одну запись, группировка здесь не понадобится\n"
      ]
    },
    {
      "cell_type": "code",
      "execution_count": null,
      "id": "1a105100",
      "metadata": {
        "id": "1a105100"
      },
      "outputs": [],
      "source": [
        "'''\n",
        "WITH i AS (SELECT p.id,\n",
        "       COUNT(e.instituition)\n",
        "FROM people AS p\n",
        "INNER JOIN education AS e\n",
        "ON p.id=e.person_id\n",
        "WHERE p.company_id IN (\n",
        "                   SELECT id\n",
        "                   FROM company\n",
        "                   WHERE status='closed'\n",
        "                   AND id IN (\n",
        "                          SELECT company_id\n",
        "                          FROM funding_round\n",
        "                          WHERE is_first_round=1 AND is_last_round=1\n",
        "                             )\n",
        "                       )\n",
        "GROUP BY p.id)\n",
        "\n",
        "SELECT AVG(count)\n",
        "FROM i;\n",
        "'''"
      ]
    },
    {
      "cell_type": "markdown",
      "id": "2ec8fdb0",
      "metadata": {
        "id": "2ec8fdb0"
      },
      "source": [
        "### Задание 18\n",
        "\n",
        "Напишите похожий запрос: выведите среднее число учебных заведений (всех, не только уникальных), которые окончили сотрудники Socialnet\n",
        "\n"
      ]
    },
    {
      "cell_type": "code",
      "execution_count": null,
      "id": "37b0f227",
      "metadata": {
        "id": "37b0f227"
      },
      "outputs": [],
      "source": [
        "'''\n",
        "SELECT AVG(count)\n",
        "FROM (SELECT p.id,\n",
        "       COUNT(e.instituition)\n",
        "FROM company AS c\n",
        "JOIN people AS p ON c.id = p.company_id\n",
        "JOIN education AS e ON p.id = e.person_id\n",
        "WHERE c.name = 'Socialnet'\n",
        "GROUP BY p.id) AS avg_soc;\n",
        "'''\n",
        "\n"
      ]
    },
    {
      "cell_type": "markdown",
      "id": "10163198",
      "metadata": {
        "id": "10163198"
      },
      "source": [
        "### Задание 19\n",
        "\n",
        "Составьте таблицу из полей:\n",
        "  - name_of_fund — название фонда;\n",
        "  - name_of_company — название компании;\n",
        "  - amount — сумма инвестиций, которую привлекла компания в раунде.\n",
        "\n",
        "В таблицу войдут данные о компаниях, в истории которых было больше шести важных этапов, а раунды финансирования проходили с 2012 по 2013 год включительно\n",
        "\n"
      ]
    },
    {
      "cell_type": "code",
      "execution_count": null,
      "id": "b8048bc6",
      "metadata": {
        "id": "b8048bc6"
      },
      "outputs": [],
      "source": [
        "'''\n",
        "SELECT f.name AS name_of_fund,\n",
        "       c.name AS name_of_company,\n",
        "       fr.raised_amount AS amount\n",
        "FROM investment AS i\n",
        "LEFT JOIN company AS c ON i.company_id=c.id\n",
        "LEFT JOIN fund AS f ON i.fund_id=f.id\n",
        "LEFT JOIN funding_round AS fr ON i.funding_round_id = fr.id\n",
        "WHERE c.milestones > 6\n",
        "      AND EXTRACT(YEAR FROM CAST(funded_at AS date)) BETWEEN 2012 AND 2013;\n",
        "'''"
      ]
    },
    {
      "cell_type": "markdown",
      "id": "8e8f16e5",
      "metadata": {
        "id": "8e8f16e5"
      },
      "source": [
        "### Задание 20\n",
        "\n",
        "Выгрузите таблицу, в которой будут такие поля:\n",
        "- название компании-покупателя;\n",
        "- сумма сделки;\n",
        "- название компании, которую купили;\n",
        "- сумма инвестиций, вложенных в купленную компанию;\n",
        "- доля, которая отображает, во сколько раз сумма покупки превысила сумму вложенных в компанию инвестиций, округлённая до ближайшего целого числа.\n",
        "\n",
        "Не учитывайте те сделки, в которых сумма покупки равна нулю. Если сумма инвестиций в компанию равна нулю, исключите такую компанию из таблицы.\n",
        "\n",
        "Отсортируйте таблицу по сумме сделки от большей к меньшей, а затем по названию купленной компании в лексикографическом порядке. Ограничьте таблицу первыми десятью записями\n"
      ]
    },
    {
      "cell_type": "code",
      "execution_count": null,
      "id": "36fb1826",
      "metadata": {
        "id": "36fb1826"
      },
      "outputs": [],
      "source": [
        "'''\n",
        "SELECT cmp.name AS name_acquiring_company,\n",
        "       ac.price_amount,\n",
        "       c.name AS name_acquired_company,\n",
        "       c.funding_total,\n",
        "       ROUND(ac.price_amount/c.funding_total)\n",
        "FROM acquisition AS ac\n",
        "LEFT JOIN company AS cmp ON ac.acquiring_company_id=cmp.id\n",
        "LEFT JOIN company AS c ON ac.acquired_company_id=c.id\n",
        "WHERE ac.price_amount > 0 AND c.funding_total > 0\n",
        "ORDER BY ac.price_amount DESC, name_acquired_company\n",
        "LIMIT 10;\n",
        "'''"
      ]
    },
    {
      "cell_type": "markdown",
      "id": "89f5db99",
      "metadata": {
        "id": "89f5db99"
      },
      "source": [
        "### Задание 21\n",
        "\n",
        "Выгрузите таблицу, в которую войдут названия компаний из категории social, получившие финансирование с 2010 по 2013 год включительно.\n",
        "\n",
        "Проверьте, что сумма инвестиций не равна нулю. Выведите также номер месяца, в котором проходил раунд финансирования\n",
        "\n"
      ]
    },
    {
      "cell_type": "code",
      "execution_count": null,
      "id": "27bbd226",
      "metadata": {
        "id": "27bbd226"
      },
      "outputs": [],
      "source": [
        "'''\n",
        "SELECT c.name,\n",
        "       EXTRACT(MONTH FROM CAST(funded_at AS date))\n",
        "FROM company AS c\n",
        "LEFT JOIN funding_round AS fr ON c.id=fr.company_id\n",
        "WHERE category_code = 'social'\n",
        "      AND EXTRACT(YEAR FROM CAST(fr.funded_at AS date)) BETWEEN 2010 AND 2013\n",
        "      AND fr.raised_amount <> 0;\n",
        "'''"
      ]
    },
    {
      "cell_type": "markdown",
      "id": "7d35b679",
      "metadata": {
        "id": "7d35b679"
      },
      "source": [
        "### Задание 22\n",
        "\n",
        "Отберите данные по месяцам с 2010 по 2013 год, когда проходили инвестиционные раунды.\n",
        "\n",
        "Сгруппируйте данные по номеру месяца и получите таблицу, в которой будут поля:\n",
        "- номер месяца, в котором проходили раунды;\n",
        "- количество уникальных названий фондов из США, которые инвестировали в этом месяце;\n",
        "- количество компаний, купленных за этот месяц;\n",
        "- общая сумма сделок по покупкам в этом месяце"
      ]
    },
    {
      "cell_type": "code",
      "execution_count": null,
      "id": "1b7f79e4",
      "metadata": {
        "id": "1b7f79e4"
      },
      "outputs": [],
      "source": [
        "'''\n",
        "WITH\n",
        "fund_count AS (\n",
        "               SELECT EXTRACT(MONTH FROM CAST(fr.funded_at AS date)) AS month_number,\n",
        "                      COUNT(DISTINCT f.name) AS fund_count_USA\n",
        "               FROM funding_round AS fr\n",
        "               LEFT OUTER JOIN investment AS i\n",
        "               ON fr.id=i.funding_round_id\n",
        "               LEFT OUTER JOIN fund AS f\n",
        "               ON i.fund_id=f.id\n",
        "               WHERE f.country_code='USA'\n",
        "               AND EXTRACT(YEAR FROM CAST(fr.funded_at AS date)) BETWEEN 2010 AND 2013\n",
        "               GROUP BY  EXTRACT(MONTH FROM CAST(fr.funded_at AS date))\n",
        "               ),\n",
        "comp_count AS (\n",
        "               SELECT EXTRACT(MONTH FROM CAST(acquired_at AS date)) AS month_number,\n",
        "                      COUNT(id) AS company_count,\n",
        "                      SUM(price_amount) AS total_amount\n",
        "               FROM  acquisition\n",
        "               WHERE EXTRACT(YEAR FROM CAST(acquired_at AS date)) BETWEEN 2010 AND 2013\n",
        "               GROUP BY EXTRACT(MONTH FROM CAST(acquired_at AS date))\n",
        "               )\n",
        "\n",
        "\n",
        "SELECT fund_count.month_number,\n",
        "       fund_count_USA,\n",
        "       company_count,\n",
        "       total_amount\n",
        "FROM fund_count\n",
        "LEFT JOIN comp_count\n",
        "ON fund_count.month_number=comp_count.month_number;\n",
        "'''"
      ]
    },
    {
      "cell_type": "markdown",
      "id": "d925cd03",
      "metadata": {
        "id": "d925cd03"
      },
      "source": [
        "### Задание 23\n",
        "\n",
        "Составьте сводную таблицу и выведите среднюю сумму инвестиций для стран, в которых есть стартапы, зарегистрированные в 2011, 2012 и 2013 годах.\n",
        "\n",
        "Данные за каждый год должны быть в отдельном поле. Отсортируйте таблицу по среднему значению инвестиций за 2011 год от большего к меньшему\n"
      ]
    },
    {
      "cell_type": "code",
      "execution_count": null,
      "id": "d9dac583",
      "metadata": {
        "id": "d9dac583"
      },
      "outputs": [],
      "source": [
        "\n",
        "'''\n",
        "WITH\n",
        "y_2011 AS (\n",
        "           SELECT country_code,\n",
        "                  AVG(funding_total) AS year_2011\n",
        "           FROM company\n",
        "           WHERE EXTRACT(YEAR FROM CAST(founded_at AS date)) = 2011\n",
        "           GROUP BY country_code\n",
        "           ),\n",
        "y_2012 AS (\n",
        "           SELECT country_code,\n",
        "                  AVG(funding_total) AS  year_2012\n",
        "           FROM company\n",
        "           WHERE EXTRACT(YEAR FROM CAST(founded_at AS date)) = 2012\n",
        "           GROUP BY country_code\n",
        "           ),\n",
        "y_2013 AS (\n",
        "           SELECT country_code,\n",
        "                 AVG(funding_total) AS year_2013\n",
        "           FROM company\n",
        "           WHERE EXTRACT(YEAR FROM CAST(founded_at AS date)) = 2013\n",
        "           GROUP BY country_code\n",
        "           )\n",
        "\n",
        "SELECT y_2011.country_code,\n",
        "       year_2011,\n",
        "       year_2012,\n",
        "       year_2013\n",
        "FROM  y_2011 JOIN y_2012\n",
        "ON y_2011.country_code=y_2012.country_code\n",
        "INNER JOIN y_2013\n",
        "ON y_2011.country_code=y_2013.country_code\n",
        "ORDER BY year_2011 DESC;\n",
        "'''"
      ]
    },
    {
      "cell_type": "code",
      "execution_count": null,
      "id": "8057114f",
      "metadata": {
        "id": "8057114f"
      },
      "outputs": [],
      "source": []
    }
  ],
  "metadata": {
    "kernelspec": {
      "display_name": "Python 3 (ipykernel)",
      "language": "python",
      "name": "python3"
    },
    "language_info": {
      "codemirror_mode": {
        "name": "ipython",
        "version": 3
      },
      "file_extension": ".py",
      "mimetype": "text/x-python",
      "name": "python",
      "nbconvert_exporter": "python",
      "pygments_lexer": "ipython3",
      "version": "3.10.4"
    },
    "toc": {
      "base_numbering": 1,
      "nav_menu": {},
      "number_sections": true,
      "sideBar": true,
      "skip_h1_title": true,
      "title_cell": "Table of Contents",
      "title_sidebar": "Contents",
      "toc_cell": true,
      "toc_position": {},
      "toc_section_display": true,
      "toc_window_display": false
    },
    "colab": {
      "provenance": []
    }
  },
  "nbformat": 4,
  "nbformat_minor": 5
}