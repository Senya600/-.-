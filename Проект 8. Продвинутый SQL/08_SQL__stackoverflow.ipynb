{
  "cells": [
    {
      "cell_type": "markdown",
      "id": "751eaeff",
      "metadata": {
        "toc": true,
        "id": "751eaeff"
      },
      "source": [
        "<h1>Table of Contents<span class=\"tocSkip\"></span></h1>\n",
        "<div class=\"toc\"><ul class=\"toc-item\"><li><span><a href=\"#Данные\" data-toc-modified-id=\"Данные-1\"><span class=\"toc-item-num\">1&nbsp;&nbsp;</span>Данные</a></span></li><li><span><a href=\"#Цель\" data-toc-modified-id=\"Цель-2\"><span class=\"toc-item-num\">2&nbsp;&nbsp;</span>Цель</a></span></li><li><span><a href=\"#Задания-Часть-1\" data-toc-modified-id=\"Задания-Часть-1-3\"><span class=\"toc-item-num\">3&nbsp;&nbsp;</span>Задания Часть 1</a></span><ul class=\"toc-item\"><li><span><a href=\"#Задание-1\" data-toc-modified-id=\"Задание-1-3.1\"><span class=\"toc-item-num\">3.1&nbsp;&nbsp;</span>Задание 1</a></span></li><li><span><a href=\"#Задание-2\" data-toc-modified-id=\"Задание-2-3.2\"><span class=\"toc-item-num\">3.2&nbsp;&nbsp;</span>Задание 2</a></span></li><li><span><a href=\"#Задание-3\" data-toc-modified-id=\"Задание-3-3.3\"><span class=\"toc-item-num\">3.3&nbsp;&nbsp;</span>Задание 3</a></span></li><li><span><a href=\"#Задание-4\" data-toc-modified-id=\"Задание-4-3.4\"><span class=\"toc-item-num\">3.4&nbsp;&nbsp;</span>Задание 4</a></span></li><li><span><a href=\"#Задание-5\" data-toc-modified-id=\"Задание-5-3.5\"><span class=\"toc-item-num\">3.5&nbsp;&nbsp;</span>Задание 5</a></span></li><li><span><a href=\"#Задание-6\" data-toc-modified-id=\"Задание-6-3.6\"><span class=\"toc-item-num\">3.6&nbsp;&nbsp;</span>Задание 6</a></span></li><li><span><a href=\"#Задание-7\" data-toc-modified-id=\"Задание-7-3.7\"><span class=\"toc-item-num\">3.7&nbsp;&nbsp;</span>Задание 7</a></span></li><li><span><a href=\"#Задание-8\" data-toc-modified-id=\"Задание-8-3.8\"><span class=\"toc-item-num\">3.8&nbsp;&nbsp;</span>Задание 8</a></span></li><li><span><a href=\"#Задание-9\" data-toc-modified-id=\"Задание-9-3.9\"><span class=\"toc-item-num\">3.9&nbsp;&nbsp;</span>Задание 9</a></span></li><li><span><a href=\"#Задание-10\" data-toc-modified-id=\"Задание-10-3.10\"><span class=\"toc-item-num\">3.10&nbsp;&nbsp;</span>Задание 10</a></span></li><li><span><a href=\"#Задание-11\" data-toc-modified-id=\"Задание-11-3.11\"><span class=\"toc-item-num\">3.11&nbsp;&nbsp;</span>Задание 11</a></span></li><li><span><a href=\"#Задание-12\" data-toc-modified-id=\"Задание-12-3.12\"><span class=\"toc-item-num\">3.12&nbsp;&nbsp;</span>Задание 12</a></span></li><li><span><a href=\"#Задание-13\" data-toc-modified-id=\"Задание-13-3.13\"><span class=\"toc-item-num\">3.13&nbsp;&nbsp;</span>Задание 13</a></span></li></ul></li><li><span><a href=\"#Задания-Часть-2\" data-toc-modified-id=\"Задания-Часть-2-4\"><span class=\"toc-item-num\">4&nbsp;&nbsp;</span>Задания Часть 2</a></span><ul class=\"toc-item\"><li><span><a href=\"#Задание-1\" data-toc-modified-id=\"Задание-1-4.1\"><span class=\"toc-item-num\">4.1&nbsp;&nbsp;</span>Задание 1</a></span></li><li><span><a href=\"#Задание-2\" data-toc-modified-id=\"Задание-2-4.2\"><span class=\"toc-item-num\">4.2&nbsp;&nbsp;</span>Задание 2</a></span></li><li><span><a href=\"#Задание-3\" data-toc-modified-id=\"Задание-3-4.3\"><span class=\"toc-item-num\">4.3&nbsp;&nbsp;</span>Задание 3</a></span></li><li><span><a href=\"#Задание-4\" data-toc-modified-id=\"Задание-4-4.4\"><span class=\"toc-item-num\">4.4&nbsp;&nbsp;</span>Задание 4</a></span></li><li><span><a href=\"#Задание-5\" data-toc-modified-id=\"Задание-5-4.5\"><span class=\"toc-item-num\">4.5&nbsp;&nbsp;</span>Задание 5</a></span></li><li><span><a href=\"#Задание-6\" data-toc-modified-id=\"Задание-6-4.6\"><span class=\"toc-item-num\">4.6&nbsp;&nbsp;</span>Задание 6</a></span></li><li><span><a href=\"#Задание-7\" data-toc-modified-id=\"Задание-7-4.7\"><span class=\"toc-item-num\">4.7&nbsp;&nbsp;</span>Задание 7</a></span></li></ul></li></ul></div>"
      ]
    },
    {
      "cell_type": "markdown",
      "id": "e7dfb797",
      "metadata": {
        "id": "e7dfb797"
      },
      "source": [
        "# Исследование базы данных StackOverflow\n",
        "\n",
        "## Данные\n",
        "\n",
        "Самостоятельная работа основана на базе данных StackOverflow — сервиса вопросов и ответов о программировании.\n",
        "\n",
        "Мы будем работать с версией базы, где хранятся данные о постах за 2008 год, но в таблицах есть  информация и о более поздних оценках, которые эти посты получили.\n",
        "\n",
        "## Цель\n",
        "\n",
        "Проект состоит из двух частей:\n",
        "\n",
        "В первой части несколько задач в SQL-тренажёре, чтобы закрепить пройденный материал.\n",
        "\n",
        "Вторая часть проекта — аналитическая.  \n",
        "\n",
        "\n",
        "## Задания Часть 1\n",
        "\n",
        "\n",
        "### Задание 1\n",
        "\n",
        "Найдите количество вопросов, которые набрали больше 300 очков или как минимум 100 раз были добавлены в «Закладки»\n"
      ]
    },
    {
      "cell_type": "code",
      "execution_count": null,
      "id": "b94affd3",
      "metadata": {
        "id": "b94affd3"
      },
      "outputs": [],
      "source": [
        "'''\n",
        "SELECT COUNT(id)\n",
        "FROM stackoverflow.posts\n",
        "WHERE ((score > 300) OR (favorites_count >= 100)) AND (post_type_id = 1);\n",
        "'''"
      ]
    },
    {
      "cell_type": "markdown",
      "id": "a8f6be8b",
      "metadata": {
        "id": "a8f6be8b"
      },
      "source": [
        "### Задание 2\n",
        "\n",
        "Сколько в среднем в день задавали вопросов с 1 по 18 ноября 2008 включительно? Результат округлите до целого числа\n",
        "\n",
        "\n",
        "\n",
        "\n"
      ]
    },
    {
      "cell_type": "code",
      "execution_count": null,
      "id": "702093b1",
      "metadata": {
        "id": "702093b1"
      },
      "outputs": [],
      "source": [
        "'''\n",
        "WITH question AS (SELECT COUNT(id) AS cnt_questions,\n",
        "                  DATE_TRUNC('day', creation_date) AS dt\n",
        "                  FROM stackoverflow.posts\n",
        "                  WHERE(post_type_id = 1) AND (creation_date BETWEEN '2008-11-01' AND '2008-11-19')\n",
        "                  GROUP BY DATE_TRUNC('day', creation_date))\n",
        "\n",
        "SELECT ROUND(AVG(cnt_questions))\n",
        "FROM question;\n",
        "'''"
      ]
    },
    {
      "cell_type": "markdown",
      "id": "81e05df1",
      "metadata": {
        "id": "81e05df1"
      },
      "source": [
        "### Задание 3\n",
        "\n",
        "Сколько пользователей получили значки сразу в день регистрации?\n",
        "\n",
        "Выведите количество уникальных пользователей\n"
      ]
    },
    {
      "cell_type": "code",
      "execution_count": null,
      "id": "0f111021",
      "metadata": {
        "id": "0f111021"
      },
      "outputs": [],
      "source": [
        "'''\n",
        "SELECT COUNT(DISTINCT user_id)\n",
        "FROM stackoverflow.users u JOIN stackoverflow.badges b ON u.id=b.user_id\n",
        "WHERE CAST(DATE_TRUNC('day',u.creation_date) AS date) =  CAST(DATE_TRUNC('day',b.creation_date) AS date);\n",
        "\n",
        "'''"
      ]
    },
    {
      "cell_type": "markdown",
      "id": "cf0bd78d",
      "metadata": {
        "id": "cf0bd78d"
      },
      "source": [
        "### Задание 4\n",
        "\n",
        "Сколько уникальных постов пользователя с именем Joel Coehoorn получили хотя бы один голос?\n"
      ]
    },
    {
      "cell_type": "code",
      "execution_count": null,
      "id": "a16e6be9",
      "metadata": {
        "id": "a16e6be9"
      },
      "outputs": [],
      "source": [
        "'''\n",
        "SELECT COUNT(DISTINCT vj.post_id)\n",
        "FROM (SELECT DISTINCT u.id AS user_id,\n",
        "             p.id AS post_id\n",
        "      FROM stackoverflow.posts p JOIN stackoverflow.users u ON p.user_id=u.id\n",
        "      WHERE u.display_name = 'Joel Coehoorn') vj\n",
        "RIGHT JOIN stackoverflow.votes v ON vj.post_id=v.post_id;\n",
        "'''"
      ]
    },
    {
      "cell_type": "markdown",
      "id": "d8b64c72",
      "metadata": {
        "id": "d8b64c72"
      },
      "source": [
        "### Задание 5\n",
        "\n",
        "Выгрузите все поля таблицы vote_types. Добавьте к таблице поле rank, в которое войдут номера записей в обратном порядке. Таблица должна быть отсортирована по полю id"
      ]
    },
    {
      "cell_type": "code",
      "execution_count": null,
      "id": "7d7ab6da",
      "metadata": {
        "id": "7d7ab6da"
      },
      "outputs": [],
      "source": [
        "'''\n",
        "SELECT *,\n",
        "       RANK() OVER(ORDER BY id DESC)\n",
        "FROM stackoverflow.vote_types\n",
        "ORDER BY id;\n",
        "'''"
      ]
    },
    {
      "cell_type": "markdown",
      "id": "098bd9bc",
      "metadata": {
        "id": "098bd9bc"
      },
      "source": [
        "### Задание 6\n",
        "\n",
        "Отберите 10 пользователей, которые поставили больше всего голосов типа Close. Отобразите таблицу из двух полей: идентификатором пользователя и количеством голосов. Отсортируйте данные сначала по убыванию количества голосов, потом по убыванию значения идентификатора пользователя"
      ]
    },
    {
      "cell_type": "code",
      "execution_count": null,
      "id": "68cc6d9d",
      "metadata": {
        "id": "68cc6d9d"
      },
      "outputs": [],
      "source": [
        "'''\n",
        "SELECT v.user_id,\n",
        "       COUNT(v.id)\n",
        "FROM stackoverflow.votes v\n",
        "JOIN stackoverflow.vote_types vt ON v.vote_type_id=vt.id\n",
        "WHERE name = 'Close'\n",
        "GROUP BY v.user_id\n",
        "ORDER BY COUNT(v.id) DESC, v.user_id DESC\n",
        "LIMIT 10;\n",
        "'''"
      ]
    },
    {
      "cell_type": "markdown",
      "id": "2bc03b24",
      "metadata": {
        "id": "2bc03b24"
      },
      "source": [
        "### Задание 7\n",
        "Отберите 10 пользователей по количеству значков, полученных в период с 15 ноября по 15 декабря 2008 года включительно.\n",
        "\n",
        "Отобразите несколько полей:\n",
        "- идентификатор пользователя;\n",
        "- число значков;\n",
        "- место в рейтинге — чем больше значков, тем выше рейтинг.\n",
        "\n",
        "Пользователям, которые набрали одинаковое количество значков, присвойте одно и то же место в рейтинге.\n",
        "\n",
        "Отсортируйте записи по количеству значков по убыванию, а затем по возрастанию значения идентификатора пользователя"
      ]
    },
    {
      "cell_type": "code",
      "execution_count": null,
      "id": "cc9a8a1c",
      "metadata": {
        "id": "cc9a8a1c"
      },
      "outputs": [],
      "source": [
        "'''\n",
        "SELECT user_id,\n",
        "       COUNT(id),\n",
        "       DENSE_RANK() OVER (ORDER BY COUNT(id) DESC)\n",
        "FROM stackoverflow.badges\n",
        "WHERE creation_date::date BETWEEN '15-11-2008' AND '15-12-2008'\n",
        "GROUP BY user_id\n",
        "ORDER BY COUNT(id) DESC, user_id\n",
        "LIMIT 10;\n",
        "'''"
      ]
    },
    {
      "cell_type": "markdown",
      "id": "3790cb78",
      "metadata": {
        "id": "3790cb78"
      },
      "source": [
        "### Задание 8\n",
        "\n",
        "Сколько в среднем очков получает пост каждого пользователя?\n",
        "\n",
        "Сформируйте таблицу из следующих полей:\n",
        "- заголовок поста;\n",
        "- идентификатор пользователя;\n",
        "- число очков поста;\n",
        "- среднее число очков пользователя за пост, округлённое до целого числа.\n",
        "\n",
        "Не учитывайте посты без заголовка, а также те, что набрали ноль очков"
      ]
    },
    {
      "cell_type": "code",
      "execution_count": null,
      "id": "2e2cd852",
      "metadata": {
        "id": "2e2cd852"
      },
      "outputs": [],
      "source": [
        "'''\n",
        "SELECT title,\n",
        "       user_id,\n",
        "       score,\n",
        "       ROUND(AVG(score) OVER(PARTITION BY user_id))\n",
        "FROM stackoverflow.posts\n",
        "WHERE title <> '' AND score <> 0;\n",
        "'''"
      ]
    },
    {
      "cell_type": "markdown",
      "id": "b0d85ee6",
      "metadata": {
        "id": "b0d85ee6"
      },
      "source": [
        "### Задание 9\n",
        "\n",
        "Отобразите заголовки постов, которые были написаны пользователями, получившими более 1000 значков. Посты без заголовков не должны попасть в список"
      ]
    },
    {
      "cell_type": "code",
      "execution_count": null,
      "id": "51df210a",
      "metadata": {
        "id": "51df210a"
      },
      "outputs": [],
      "source": [
        "'''\n",
        "WITH top_users AS (SELECT  u.id,\n",
        "                           COUNT(b.id) AS cnt_b\n",
        "                   FROM stackoverflow.users u\n",
        "                   JOIN stackoverflow.badges b ON u.id=b.user_id\n",
        "                   GROUP BY u.id\n",
        "                   HAVING COUNT(b.id) >= 1000)\n",
        "\n",
        "SELECT title\n",
        "FROM stackoverflow.posts p\n",
        "JOIN top_users tu ON p.user_id=tu.id\n",
        "WHERE title IS NOT NULL;\n",
        "'''"
      ]
    },
    {
      "cell_type": "markdown",
      "id": "be802a48",
      "metadata": {
        "id": "be802a48"
      },
      "source": [
        "### Задание 10\n",
        "\n",
        "Напишите запрос, который выгрузит данные о пользователях из Канады (англ. Canada).\n",
        "\n",
        "Разделите пользователей на три группы в зависимости от количества просмотров их профилей:\n",
        "- пользователям с числом просмотров больше либо равным 350 присвойте группу 1;\n",
        "- пользователям с числом просмотров меньше 350, но больше либо равно 100 — группу 2;\n",
        "- пользователям с числом просмотров меньше 100 — группу 3.\n",
        "\n",
        "Отобразите в итоговой таблице идентификатор пользователя, количество просмотров профиля и группу.\n",
        "\n",
        "Пользователи с количеством просмотров меньше либо равным нулю не должны войти в итоговую таблицу\n"
      ]
    },
    {
      "cell_type": "code",
      "execution_count": null,
      "id": "f18c3b97",
      "metadata": {
        "id": "f18c3b97"
      },
      "outputs": [],
      "source": [
        "'''\n",
        "SELECT id AS user_id,\n",
        "       views,\n",
        "       CASE\n",
        "           WHEN views >= 350 THEN 1\n",
        "           WHEN 100 <= views AND views < 350 THEN 2\n",
        "           WHEN views < 100 THEN 3\n",
        "       END\n",
        "FROM stackoverflow.users\n",
        "WHERE location LIKE '%Canada%' AND views != 0\n",
        "ORDER BY views DESC;\n",
        "'''"
      ]
    },
    {
      "cell_type": "markdown",
      "id": "b60727c0",
      "metadata": {
        "id": "b60727c0"
      },
      "source": [
        "### Задание 11\n",
        "\n",
        "Дополните предыдущий запрос. Отобразите лидеров каждой группы — пользователей, которые набрали максимальное число просмотров в своей группе.\n",
        "\n",
        "Выведите поля с идентификатором пользователя, группой и количеством просмотров.\n",
        "\n",
        "Отсортируйте таблицу по убыванию просмотров, а затем по возрастанию значения идентификатора"
      ]
    },
    {
      "cell_type": "code",
      "execution_count": null,
      "id": "ae6ceb83",
      "metadata": {
        "id": "ae6ceb83"
      },
      "outputs": [],
      "source": [
        "'''\n",
        "WITH views_cnt AS (SELECT id AS user_id,\n",
        "                                views AS views_cnt,\n",
        "\n",
        "                          (CASE\n",
        "                               WHEN views >= 350 THEN 1\n",
        "                               WHEN 100 <= views AND views < 350 THEN 2\n",
        "                               WHEN views < 100 THEN 3\n",
        "                          END) AS groupss\n",
        "                    FROM stackoverflow.users\n",
        "                    WHERE location LIKE '%Canada%' AND views != 0\n",
        "                    ORDER BY views DESC)\n",
        "SELECT user_id,\n",
        "       views_cnt,\n",
        "       groupss\n",
        "FROM (SELECT user_id,\n",
        "       views_cnt,\n",
        "       groupss,\n",
        "       MAX(views_cnt) OVER (PARTITION BY groupss ORDER BY views_cnt DESC) AS max_views\n",
        "       FROM views_cnt) AS tu\n",
        "WHERE views_cnt = max_views\n",
        "ORDER BY views_cnt DESC, user_id;\n",
        "'''"
      ]
    },
    {
      "cell_type": "markdown",
      "id": "6c35823a",
      "metadata": {
        "id": "6c35823a"
      },
      "source": [
        "### Задание 12\n",
        "Посчитайте ежедневный прирост новых пользователей в ноябре 2008 года.\n",
        "\n",
        "Сформируйте таблицу с полями:\n",
        "- номер дня;\n",
        "- число пользователей, зарегистрированных в этот день;\n",
        "- сумму пользователей с накоплением."
      ]
    },
    {
      "cell_type": "code",
      "execution_count": null,
      "id": "0393d279",
      "metadata": {
        "id": "0393d279"
      },
      "outputs": [],
      "source": [
        "'''\n",
        "WITH users_cnt AS (SELECT EXTRACT(DAY FROM creation_date) AS dt,\n",
        "                          COUNT(id) AS cnt_users\n",
        "                   FROM stackoverflow.users\n",
        "                   WHERE creation_date BETWEEN '2008-11-01' AND  '2008-12-01'\n",
        "                   GROUP BY EXTRACT(DAY FROM creation_date)\n",
        "                   ORDER BY EXTRACT(DAY FROM creation_date))\n",
        "\n",
        "SELECT *,\n",
        "       SUM(cnt_users) OVER (ORDER  BY dt)\n",
        "FROM users_cnt;\n",
        "'''"
      ]
    },
    {
      "cell_type": "markdown",
      "id": "7f24772a",
      "metadata": {
        "id": "7f24772a"
      },
      "source": [
        "### Задание 13\n",
        "\n",
        "Для каждого пользователя, который написал хотя бы один пост, найдите интервал между регистрацией и временем создания первого поста.\n",
        "\n",
        "Отобразите:\n",
        "- идентификатор пользователя;\n",
        "- разницу во времени между регистрацией и первым постом"
      ]
    },
    {
      "cell_type": "code",
      "execution_count": null,
      "id": "ffa11404",
      "metadata": {
        "id": "ffa11404"
      },
      "outputs": [],
      "source": [
        "'''\n",
        "WITH firts_post AS (SELECT user_id,\n",
        "                           MIN(creation_date) AS first_post_date\n",
        "                    FROM stackoverflow.posts\n",
        "                    GROUP BY user_id)\n",
        "\n",
        "SELECT user_id,\n",
        "       p.first_post_date -u.creation_date\n",
        "FROM stackoverflow.users u\n",
        "JOIN firts_post p ON u.id=p.user_id;\n",
        "\n",
        "'''\n",
        "\n"
      ]
    },
    {
      "cell_type": "markdown",
      "id": "4f6b6ae1",
      "metadata": {
        "id": "4f6b6ae1"
      },
      "source": [
        "## Задания Часть 2\n",
        "\n",
        "### Задание 1\n",
        "\n",
        "Выведите общую сумму просмотров у постов, опубликованных в каждый месяц 2008 года.Если данных за какой-либо месяц в базе нет, такой месяц можно пропустить.\n",
        "\n",
        "Результат отсортируйте по убыванию общего количества просмотров\n"
      ]
    },
    {
      "cell_type": "code",
      "execution_count": null,
      "id": "28436dac",
      "metadata": {
        "id": "28436dac"
      },
      "outputs": [],
      "source": [
        "'''\n",
        "SELECT CAST(DATE_TRUNC('month', creation_date) AS date),\n",
        "       SUM(views_count)\n",
        "FROM stackoverflow.posts\n",
        "WHERE EXTRACT(YEAR FROM creation_date) = 2008\n",
        "GROUP BY CAST(DATE_TRUNC('month', creation_date) AS date)\n",
        "ORDER BY SUM(views_count) DESC;\n",
        "'''"
      ]
    },
    {
      "cell_type": "markdown",
      "id": "7e9f5525",
      "metadata": {
        "id": "7e9f5525"
      },
      "source": [
        "### Задание 2\n",
        "\n",
        "Выведите имена самых активных пользователей, которые в первый месяц после регистрации (включая день регистрации) дали больше 100 ответов.\n",
        "\n",
        "Вопросы, которые задавали пользователи, не учитывайте. Для каждого имени пользователя выведите количество уникальных значений user_id.\n",
        "\n",
        "Отсортируйте результат по полю с именами в лексикографическом порядке"
      ]
    },
    {
      "cell_type": "code",
      "execution_count": null,
      "id": "0e9e7d79",
      "metadata": {
        "id": "0e9e7d79"
      },
      "outputs": [],
      "source": [
        "'''\n",
        "SELECT display_name,\n",
        "       COUNT(DISTINCT p.user_id)\n",
        "FROM stackoverflow.users u\n",
        "JOIN stackoverflow.posts p ON u.id=p.user_id\n",
        "JOIN stackoverflow.post_types pt ON p.post_type_id=pt.id\n",
        "WHERE p.creation_date::date BETWEEN u.creation_date::date AND (u.creation_date::date + INTERVAL '1 month')\n",
        "      AND pt.type LIKE 'Answer'\n",
        "GROUP BY display_name\n",
        "HAVING COUNT(p.id) > 100\n",
        "ORDER BY display_name;\n",
        "'''"
      ]
    },
    {
      "cell_type": "markdown",
      "id": "271ce2e8",
      "metadata": {
        "id": "271ce2e8"
      },
      "source": [
        "### Задание 3\n",
        "\n",
        "Выведите количество постов за 2008 год по месяцам.\n",
        "\n",
        "Отберите посты от пользователей, которые зарегистрировались в сентябре 2008 года и сделали хотя бы один пост в декабре того же года.\n",
        "\n",
        "Отсортируйте таблицу по значению месяца по убыванию"
      ]
    },
    {
      "cell_type": "code",
      "execution_count": null,
      "id": "119fd9fc",
      "metadata": {
        "id": "119fd9fc"
      },
      "outputs": [],
      "source": [
        "'''\n",
        "WITH sp_users AS (SELECT p.user_id\n",
        "FROM stackoverflow.users u\n",
        "JOIN stackoverflow.posts p ON u.id=p.user_id\n",
        "WHERE p.creation_date BETWEEN '2008-12-01' AND '2008-12-30'\n",
        "AND  u.creation_date::date BETWEEN '2008-09-01' AND '2008-10-01'\n",
        "GROUP BY p.user_id)\n",
        "\n",
        "SELECT CAST(DATE_TRUNC('month', p.creation_date) AS date),\n",
        "       COUNT(p.id)\n",
        "FROM stackoverflow.posts p\n",
        "WHERE user_id IN (SELECT *\n",
        "                  FROM sp_users)\n",
        "GROUP BY CAST(DATE_TRUNC('month', p.creation_date) AS date)\n",
        "ORDER BY CAST(DATE_TRUNC('month', p.creation_date) AS date) DESC;\n",
        "'''"
      ]
    },
    {
      "cell_type": "markdown",
      "id": "27c99c65",
      "metadata": {
        "id": "27c99c65"
      },
      "source": [
        "### Задание 4\n",
        "\n",
        "Используя данные о постах, выведите несколько полей:\n",
        "- идентификатор пользователя, который написал пост;\n",
        "- дата создания поста;\n",
        "- количество просмотров у текущего поста;\n",
        "- сумма просмотров постов автора с накоплением.\n",
        "\n",
        "Данные в таблице должны быть отсортированы по возрастанию идентификаторов пользователей, а данные об одном и том же пользователе — по возрастанию даты создания поста"
      ]
    },
    {
      "cell_type": "code",
      "execution_count": null,
      "id": "1a105100",
      "metadata": {
        "id": "1a105100"
      },
      "outputs": [],
      "source": [
        "'''\n",
        "SELECT user_id,\n",
        "       creation_date,\n",
        "       views_count,\n",
        "       SUM(views_count) OVER (PARTITION BY user_id ORDER BY creation_date)\n",
        "FROM stackoverflow.posts\n",
        "ORDER BY user_id, creation_date;\n",
        "\n",
        "'''"
      ]
    },
    {
      "cell_type": "markdown",
      "id": "2ec8fdb0",
      "metadata": {
        "id": "2ec8fdb0"
      },
      "source": [
        "### Задание 5\n",
        "\n",
        "Сколько в среднем дней в период с 1 по 7 декабря 2008 года включительно пользователи взаимодействовали с платформой?\n",
        "\n",
        "Для каждого пользователя отберите дни, в которые он или она опубликовали хотя бы один пост.\n",
        "\n",
        "Нужно получить одно целое число — не забудьте округлить результат"
      ]
    },
    {
      "cell_type": "code",
      "execution_count": null,
      "id": "37b0f227",
      "metadata": {
        "id": "37b0f227"
      },
      "outputs": [],
      "source": [
        "'''\n",
        "WITH dc_users AS (SELECT user_id,\n",
        "                         COUNT(DISTINCT EXTRACT(DAY FROM creation_date)) AS cnt_dt\n",
        "                  FROM stackoverflow.posts\n",
        "                  WHERE creation_date::date BETWEEN '2008-12-01' AND '2008-12-07'\n",
        "                  GROUP BY user_id)\n",
        "SELECT ROUND(AVG(cnt_dt)) AS avg_dt\n",
        "FROM dc_users\n",
        "\n",
        "'''"
      ]
    },
    {
      "cell_type": "markdown",
      "id": "10163198",
      "metadata": {
        "id": "10163198"
      },
      "source": [
        "### Задание 6\n",
        "\n",
        "На сколько процентов менялось количество постов ежемесячно с 1 сентября по 31 декабря 2008 года?\n",
        "\n",
        "Отобразите таблицу со следующими полями:\n",
        "- Номер месяца.\n",
        "- Количество постов за месяц.\n",
        "- Процент, который показывает, насколько изменилось количество постов в текущем месяце по сравнению с предыдущим.\n",
        "\n",
        "Если постов стало меньше, значение процента должно быть отрицательным, если больше — положительным. Округлите значение процента до двух знаков после запятой.\n",
        "\n",
        "Напомним, что при делении одного целого числа на другое в PostgreSQL в результате получится целое число, округлённое до ближайшего целого вниз. Чтобы этого избежать, переведите делимое в тип numeric"
      ]
    },
    {
      "cell_type": "code",
      "execution_count": null,
      "id": "b8048bc6",
      "metadata": {
        "id": "b8048bc6"
      },
      "outputs": [],
      "source": [
        "'''\n",
        "SELECT EXTRACT(MONTH FROM creation_date),\n",
        "       COUNT(id),\n",
        "       ROUND(( COUNT(id)::numeric / LAG(COUNT(id)) OVER(ORDER BY EXTRACT(MONTH FROM creation_date)) - 1)*100, 2)\n",
        "FROM stackoverflow.posts\n",
        "WHERE (EXTRACT(MONTH FROM creation_date) BETWEEN 9 AND 12)\n",
        "       AND (EXTRACT(YEAR FROM creation_date) = 2008)\n",
        "GROUP BY EXTRACT(MONTH FROM creation_date)\n",
        "'''"
      ]
    },
    {
      "cell_type": "markdown",
      "id": "8e8f16e5",
      "metadata": {
        "id": "8e8f16e5"
      },
      "source": [
        "### Задание 7\n",
        "\n",
        "Найдите пользователя, который опубликовал больше всего постов за всё время с момента регистрации.\n",
        "\n",
        "Выведите данные его активности за октябрь 2008 года в таком виде:\n",
        "- номер недели;\n",
        "- дата и время последнего поста, опубликованного на этой неделе"
      ]
    },
    {
      "cell_type": "code",
      "execution_count": null,
      "id": "841d160e",
      "metadata": {
        "id": "841d160e"
      },
      "outputs": [],
      "source": [
        "'''\n",
        "WITH top_user AS (SELECT user_id\n",
        "                  FROM stackoverflow.posts\n",
        "                  GROUP BY user_id\n",
        "                  ORDER BY COUNT(id) DESC\n",
        "                  LIMIT 1)\n",
        "SELECT MAX(creation_date),\n",
        "       EXTRACT(WEEK FROM creation_date)\n",
        "FROM stackoverflow.posts\n",
        "WHERE EXTRACT(MONTH FROM creation_date) = 10\n",
        "      AND EXTRACT(YEAR FROM creation_date) = 2008\n",
        "      AND user_id IN((SELECT user_id\n",
        "                  FROM stackoverflow.posts\n",
        "                  GROUP BY user_id\n",
        "                  ORDER BY COUNT(id) DESC\n",
        "                  LIMIT 1))\n",
        "GROUP BY EXTRACT(WEEK FROM creation_date)\n",
        "ORDER BY EXTRACT(WEEK FROM creation_date)\n",
        "'''"
      ]
    }
  ],
  "metadata": {
    "kernelspec": {
      "display_name": "Python 3 (ipykernel)",
      "language": "python",
      "name": "python3"
    },
    "language_info": {
      "codemirror_mode": {
        "name": "ipython",
        "version": 3
      },
      "file_extension": ".py",
      "mimetype": "text/x-python",
      "name": "python",
      "nbconvert_exporter": "python",
      "pygments_lexer": "ipython3",
      "version": "3.10.4"
    },
    "toc": {
      "base_numbering": 1,
      "nav_menu": {},
      "number_sections": true,
      "sideBar": true,
      "skip_h1_title": true,
      "title_cell": "Table of Contents",
      "title_sidebar": "Contents",
      "toc_cell": true,
      "toc_position": {},
      "toc_section_display": true,
      "toc_window_display": false
    },
    "colab": {
      "provenance": []
    }
  },
  "nbformat": 4,
  "nbformat_minor": 5
}