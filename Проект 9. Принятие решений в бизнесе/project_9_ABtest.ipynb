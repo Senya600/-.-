{
 "cells": [
  {
   "cell_type": "markdown",
   "metadata": {},
   "source": [
    "# Проект: Принятие решений в бизнесе"
   ]
  },
  {
   "cell_type": "markdown",
   "metadata": {},
   "source": [
    "\n",
    "<b>Описание проекта:</b>\n",
    "\n",
    "Мы — аналитик крупного интернет-магазина. Вместе с отделом маркетинга мы подготовили список гипотез для увеличения выручки.\n",
    "Приоритизируем гипотезы, запустим A/B-тест и проанализируем результаты.\n",
    "\n",
    "<b>Цель исследования :</b> Выяснить - какая из гипотез приведет к наибольшему увеличению выручки, проанализировать результаты А/B-теста и понять, есть ли различие между группами.\n",
    "\n",
    "<b>Часть 1. Приоритизация гипотез.</b>\n",
    "\n",
    "В файле /datasets/hypothesis.csv 9 гипотез по увеличению выручки интернет-магазина с указанными параметрами Reach, Impact, Confidence, Effort.\n",
    "\n",
    "Задача:\n",
    "    \n",
    "    1.1) Примените фреймворк ICE для приоритизации гипотез. Отсортируйте их по убыванию приоритета.\n",
    "    \n",
    "    1.2) Примените фреймворк RICE для приоритизации гипотез. Отсортируйте их по убыванию приоритета.\n",
    "    \n",
    "    1.3) Укажите, как изменилась приоритизация гипотез при применении RICE вместо ICE. Объясните, почему так произошло.\n",
    "\n",
    "<b>Часть 2. Анализ A/B-теста</b>\n",
    "\n",
    "Мы провели A/B-тест и получили результаты, которые описаны в файлах /datasets/orders.csv и /datasets/visitors.csv.\n",
    "\n",
    "Задача\n",
    "\n",
    "Проанализируйте A/B-тест:\n",
    "\n",
    "    2.1) Постройте график кумулятивной выручки по группам. Сделайте выводы и предположения.\n",
    "    \n",
    "    2.2) Постройте график кумулятивного среднего чека по группам. Сделайте выводы и предположения.\n",
    "    \n",
    "    2.3) Постройте график относительного изменения кумулятивного среднего чека группы B к группе A.\n",
    "         Сделайте выводы и предположения.\n",
    "         \n",
    "    2.4) Постройте график кумулятивного среднего количества заказов на посетителя по группам.\n",
    "         Сделайте выводы и предположения.\n",
    "         \n",
    "    2.5) Постройте график относительного изменения кумулятивного среднего количества заказов на посетителя\n",
    "         группы B к группе A. Сделайте выводы и предположения.\n",
    "    \n",
    "    2.6) Постройте точечный график количества заказов по пользователям. Сделайте выводы и предположения.\n",
    "    \n",
    "    2.7) Посчитайте 95-й и 99-й перцентили количества заказов на пользователя.\n",
    "         Выберите границу для определения аномальных пользователей.\n",
    "    \n",
    "    2.8) Постройте точечный график стоимостей заказов. Сделайте выводы и предположения.\n",
    "    \n",
    "    2.9) Посчитайте 95-й и 99-й перцентили стоимости заказов.\n",
    "         Выберите границу для определения аномальных заказов.\n",
    "    \n",
    "    2.10) Посчитайте статистическую значимость различий в среднем количестве заказов\n",
    "          на посетителя между группами по «сырым» данным. Сделайте выводы и предположения.\n",
    "    \n",
    "    2.11) Посчитайте статистическую значимость различий в среднем чеке заказа между\n",
    "          группами по «сырым» данным. Сделайте выводы и предположения.   \n",
    "    \n",
    "    2.12) Посчитайте статистическую значимость различий в среднем количестве заказов\n",
    "          на посетителя между группами по «очищенным» данным. Сделайте выводы и предположения.\n",
    "    \n",
    "    2.13) Посчитайте статистическую значимость различий в среднем чеке заказа между группами\n",
    "          по «очищенным» данным. Сделайте выводы и предположения. \n",
    "    \n",
    "    2.14) Примите решение по результатам теста и объясните его. Варианты решений:\n",
    "              1. Остановить тест, зафиксировать победу одной из групп.\n",
    "              2. Остановить тест, зафиксировать отсутствие различий между группами.\n",
    "              3. Продолжить тест."
   ]
  },
  {
   "cell_type": "markdown",
   "metadata": {},
   "source": [
    "##  Часть 1. Приоритизация гипотез."
   ]
  },
  {
   "cell_type": "markdown",
   "metadata": {},
   "source": [
    "Для начала загрузим необходимые библиотеки, исследуем данные из файла, проведём их предобработку, если она потребутся, и приступим к приоритизации гипотез"
   ]
  },
  {
   "cell_type": "code",
   "execution_count": 1,
   "metadata": {},
   "outputs": [],
   "source": [
    "import pandas as pd\n",
    "from scipy import stats as st\n",
    "import matplotlib.pyplot as plt\n",
    "import numpy as np"
   ]
  },
  {
   "cell_type": "code",
   "execution_count": 2,
   "metadata": {
    "scrolled": true
   },
   "outputs": [
    {
     "data": {
      "text/html": [
       "<div>\n",
       "<style scoped>\n",
       "    .dataframe tbody tr th:only-of-type {\n",
       "        vertical-align: middle;\n",
       "    }\n",
       "\n",
       "    .dataframe tbody tr th {\n",
       "        vertical-align: top;\n",
       "    }\n",
       "\n",
       "    .dataframe thead th {\n",
       "        text-align: right;\n",
       "    }\n",
       "</style>\n",
       "<table border=\"1\" class=\"dataframe\">\n",
       "  <thead>\n",
       "    <tr style=\"text-align: right;\">\n",
       "      <th></th>\n",
       "      <th>Hypothesis</th>\n",
       "      <th>Reach</th>\n",
       "      <th>Impact</th>\n",
       "      <th>Confidence</th>\n",
       "      <th>Efforts</th>\n",
       "    </tr>\n",
       "  </thead>\n",
       "  <tbody>\n",
       "    <tr>\n",
       "      <th>0</th>\n",
       "      <td>Добавить два новых канала привлечения трафика,...</td>\n",
       "      <td>3</td>\n",
       "      <td>10</td>\n",
       "      <td>8</td>\n",
       "      <td>6</td>\n",
       "    </tr>\n",
       "    <tr>\n",
       "      <th>1</th>\n",
       "      <td>Запустить собственную службу доставки, что сок...</td>\n",
       "      <td>2</td>\n",
       "      <td>5</td>\n",
       "      <td>4</td>\n",
       "      <td>10</td>\n",
       "    </tr>\n",
       "    <tr>\n",
       "      <th>2</th>\n",
       "      <td>Добавить блоки рекомендаций товаров на сайт ин...</td>\n",
       "      <td>8</td>\n",
       "      <td>3</td>\n",
       "      <td>7</td>\n",
       "      <td>3</td>\n",
       "    </tr>\n",
       "    <tr>\n",
       "      <th>3</th>\n",
       "      <td>Изменить структура категорий, что увеличит кон...</td>\n",
       "      <td>8</td>\n",
       "      <td>3</td>\n",
       "      <td>3</td>\n",
       "      <td>8</td>\n",
       "    </tr>\n",
       "    <tr>\n",
       "      <th>4</th>\n",
       "      <td>Изменить цвет фона главной страницы, чтобы уве...</td>\n",
       "      <td>3</td>\n",
       "      <td>1</td>\n",
       "      <td>1</td>\n",
       "      <td>1</td>\n",
       "    </tr>\n",
       "    <tr>\n",
       "      <th>5</th>\n",
       "      <td>Добавить страницу отзывов клиентов о магазине,...</td>\n",
       "      <td>3</td>\n",
       "      <td>2</td>\n",
       "      <td>2</td>\n",
       "      <td>3</td>\n",
       "    </tr>\n",
       "    <tr>\n",
       "      <th>6</th>\n",
       "      <td>Показать на главной странице баннеры с актуаль...</td>\n",
       "      <td>5</td>\n",
       "      <td>3</td>\n",
       "      <td>8</td>\n",
       "      <td>3</td>\n",
       "    </tr>\n",
       "    <tr>\n",
       "      <th>7</th>\n",
       "      <td>Добавить форму подписки на все основные страни...</td>\n",
       "      <td>10</td>\n",
       "      <td>7</td>\n",
       "      <td>8</td>\n",
       "      <td>5</td>\n",
       "    </tr>\n",
       "    <tr>\n",
       "      <th>8</th>\n",
       "      <td>Запустить акцию, дающую скидку на товар в день...</td>\n",
       "      <td>1</td>\n",
       "      <td>9</td>\n",
       "      <td>9</td>\n",
       "      <td>5</td>\n",
       "    </tr>\n",
       "  </tbody>\n",
       "</table>\n",
       "</div>"
      ],
      "text/plain": [
       "                                          Hypothesis  Reach  Impact  \\\n",
       "0  Добавить два новых канала привлечения трафика,...      3      10   \n",
       "1  Запустить собственную службу доставки, что сок...      2       5   \n",
       "2  Добавить блоки рекомендаций товаров на сайт ин...      8       3   \n",
       "3  Изменить структура категорий, что увеличит кон...      8       3   \n",
       "4  Изменить цвет фона главной страницы, чтобы уве...      3       1   \n",
       "5  Добавить страницу отзывов клиентов о магазине,...      3       2   \n",
       "6  Показать на главной странице баннеры с актуаль...      5       3   \n",
       "7  Добавить форму подписки на все основные страни...     10       7   \n",
       "8  Запустить акцию, дающую скидку на товар в день...      1       9   \n",
       "\n",
       "   Confidence  Efforts  \n",
       "0           8        6  \n",
       "1           4       10  \n",
       "2           7        3  \n",
       "3           3        8  \n",
       "4           1        1  \n",
       "5           2        3  \n",
       "6           8        3  \n",
       "7           8        5  \n",
       "8           9        5  "
      ]
     },
     "execution_count": 2,
     "metadata": {},
     "output_type": "execute_result"
    }
   ],
   "source": [
    "hypothesis = pd.read_csv('/datasets/hypothesis.csv')\n",
    "\n",
    "hypothesis"
   ]
  },
  {
   "cell_type": "markdown",
   "metadata": {},
   "source": [
    "В данном файле присутствуют следующие столбцы:\n",
    "\n",
    "    Hypothesis — краткое описание гипотезы;\n",
    "    \n",
    "    Reach — охват пользователей по 10-балльной шкале;\n",
    "    \n",
    "    Impact — влияние на пользователей по 10-балльной шкале;\n",
    "    \n",
    "    Confidence — уверенность в гипотезе по 10-балльной шкале;\n",
    "    \n",
    "    Efforts — затраты ресурсов на проверку гипотезы по 10-балльной шкале. Чем больше значение Efforts, тем дороже проверка гипотезы."
   ]
  },
  {
   "cell_type": "code",
   "execution_count": 3,
   "metadata": {},
   "outputs": [
    {
     "name": "stdout",
     "output_type": "stream",
     "text": [
      "<class 'pandas.core.frame.DataFrame'>\n",
      "RangeIndex: 9 entries, 0 to 8\n",
      "Data columns (total 5 columns):\n",
      " #   Column      Non-Null Count  Dtype \n",
      "---  ------      --------------  ----- \n",
      " 0   Hypothesis  9 non-null      object\n",
      " 1   Reach       9 non-null      int64 \n",
      " 2   Impact      9 non-null      int64 \n",
      " 3   Confidence  9 non-null      int64 \n",
      " 4   Efforts     9 non-null      int64 \n",
      "dtypes: int64(4), object(1)\n",
      "memory usage: 488.0+ bytes\n"
     ]
    }
   ],
   "source": [
    "hypothesis.info()"
   ]
  },
  {
   "cell_type": "markdown",
   "metadata": {},
   "source": [
    "Проверим данные на пропуски и дубликаты"
   ]
  },
  {
   "cell_type": "code",
   "execution_count": 4,
   "metadata": {},
   "outputs": [
    {
     "data": {
      "text/plain": [
       "Hypothesis    0\n",
       "Reach         0\n",
       "Impact        0\n",
       "Confidence    0\n",
       "Efforts       0\n",
       "dtype: int64"
      ]
     },
     "execution_count": 4,
     "metadata": {},
     "output_type": "execute_result"
    }
   ],
   "source": [
    "hypothesis.isna().sum()"
   ]
  },
  {
   "cell_type": "code",
   "execution_count": 5,
   "metadata": {},
   "outputs": [
    {
     "data": {
      "text/plain": [
       "0"
      ]
     },
     "execution_count": 5,
     "metadata": {},
     "output_type": "execute_result"
    }
   ],
   "source": [
    "hypothesis.duplicated().sum()"
   ]
  },
  {
   "cell_type": "markdown",
   "metadata": {},
   "source": [
    "Пропусков и дубликатов в таблице hypotesis нет.\n",
    "\n",
    "Необходимые изменения:\n",
    "\n",
    "    - привести названия столбцов к нижнему регистру"
   ]
  },
  {
   "cell_type": "code",
   "execution_count": 6,
   "metadata": {
    "scrolled": true
   },
   "outputs": [
    {
     "data": {
      "text/html": [
       "<div>\n",
       "<style scoped>\n",
       "    .dataframe tbody tr th:only-of-type {\n",
       "        vertical-align: middle;\n",
       "    }\n",
       "\n",
       "    .dataframe tbody tr th {\n",
       "        vertical-align: top;\n",
       "    }\n",
       "\n",
       "    .dataframe thead th {\n",
       "        text-align: right;\n",
       "    }\n",
       "</style>\n",
       "<table border=\"1\" class=\"dataframe\">\n",
       "  <thead>\n",
       "    <tr style=\"text-align: right;\">\n",
       "      <th></th>\n",
       "      <th>hypothesis</th>\n",
       "      <th>reach</th>\n",
       "      <th>impact</th>\n",
       "      <th>confidence</th>\n",
       "      <th>efforts</th>\n",
       "    </tr>\n",
       "  </thead>\n",
       "  <tbody>\n",
       "    <tr>\n",
       "      <th>0</th>\n",
       "      <td>Добавить два новых канала привлечения трафика,...</td>\n",
       "      <td>3</td>\n",
       "      <td>10</td>\n",
       "      <td>8</td>\n",
       "      <td>6</td>\n",
       "    </tr>\n",
       "    <tr>\n",
       "      <th>1</th>\n",
       "      <td>Запустить собственную службу доставки, что сок...</td>\n",
       "      <td>2</td>\n",
       "      <td>5</td>\n",
       "      <td>4</td>\n",
       "      <td>10</td>\n",
       "    </tr>\n",
       "    <tr>\n",
       "      <th>2</th>\n",
       "      <td>Добавить блоки рекомендаций товаров на сайт ин...</td>\n",
       "      <td>8</td>\n",
       "      <td>3</td>\n",
       "      <td>7</td>\n",
       "      <td>3</td>\n",
       "    </tr>\n",
       "    <tr>\n",
       "      <th>3</th>\n",
       "      <td>Изменить структура категорий, что увеличит кон...</td>\n",
       "      <td>8</td>\n",
       "      <td>3</td>\n",
       "      <td>3</td>\n",
       "      <td>8</td>\n",
       "    </tr>\n",
       "    <tr>\n",
       "      <th>4</th>\n",
       "      <td>Изменить цвет фона главной страницы, чтобы уве...</td>\n",
       "      <td>3</td>\n",
       "      <td>1</td>\n",
       "      <td>1</td>\n",
       "      <td>1</td>\n",
       "    </tr>\n",
       "    <tr>\n",
       "      <th>5</th>\n",
       "      <td>Добавить страницу отзывов клиентов о магазине,...</td>\n",
       "      <td>3</td>\n",
       "      <td>2</td>\n",
       "      <td>2</td>\n",
       "      <td>3</td>\n",
       "    </tr>\n",
       "    <tr>\n",
       "      <th>6</th>\n",
       "      <td>Показать на главной странице баннеры с актуаль...</td>\n",
       "      <td>5</td>\n",
       "      <td>3</td>\n",
       "      <td>8</td>\n",
       "      <td>3</td>\n",
       "    </tr>\n",
       "    <tr>\n",
       "      <th>7</th>\n",
       "      <td>Добавить форму подписки на все основные страни...</td>\n",
       "      <td>10</td>\n",
       "      <td>7</td>\n",
       "      <td>8</td>\n",
       "      <td>5</td>\n",
       "    </tr>\n",
       "    <tr>\n",
       "      <th>8</th>\n",
       "      <td>Запустить акцию, дающую скидку на товар в день...</td>\n",
       "      <td>1</td>\n",
       "      <td>9</td>\n",
       "      <td>9</td>\n",
       "      <td>5</td>\n",
       "    </tr>\n",
       "  </tbody>\n",
       "</table>\n",
       "</div>"
      ],
      "text/plain": [
       "                                          hypothesis  reach  impact  \\\n",
       "0  Добавить два новых канала привлечения трафика,...      3      10   \n",
       "1  Запустить собственную службу доставки, что сок...      2       5   \n",
       "2  Добавить блоки рекомендаций товаров на сайт ин...      8       3   \n",
       "3  Изменить структура категорий, что увеличит кон...      8       3   \n",
       "4  Изменить цвет фона главной страницы, чтобы уве...      3       1   \n",
       "5  Добавить страницу отзывов клиентов о магазине,...      3       2   \n",
       "6  Показать на главной странице баннеры с актуаль...      5       3   \n",
       "7  Добавить форму подписки на все основные страни...     10       7   \n",
       "8  Запустить акцию, дающую скидку на товар в день...      1       9   \n",
       "\n",
       "   confidence  efforts  \n",
       "0           8        6  \n",
       "1           4       10  \n",
       "2           7        3  \n",
       "3           3        8  \n",
       "4           1        1  \n",
       "5           2        3  \n",
       "6           8        3  \n",
       "7           8        5  \n",
       "8           9        5  "
      ]
     },
     "execution_count": 6,
     "metadata": {},
     "output_type": "execute_result"
    }
   ],
   "source": [
    "hypothesis.columns = hypothesis.columns.str.lower()\n",
    "\n",
    "hypothesis"
   ]
  },
  {
   "cell_type": "markdown",
   "metadata": {},
   "source": [
    "В данном разделе мы познакомились с данными, проверили данные на пропуски и дубликаты, также провели предобработку данных, приведя названия столбцов к нижнему регистру - теперь данные готовы для анализа"
   ]
  },
  {
   "cell_type": "markdown",
   "metadata": {},
   "source": [
    "### Примените фреймворк ICE для приоритизации гипотез. Отсортируйте их по убыванию приоритета."
   ]
  },
  {
   "cell_type": "code",
   "execution_count": 7,
   "metadata": {},
   "outputs": [
    {
     "data": {
      "text/html": [
       "<div>\n",
       "<style scoped>\n",
       "    .dataframe tbody tr th:only-of-type {\n",
       "        vertical-align: middle;\n",
       "    }\n",
       "\n",
       "    .dataframe tbody tr th {\n",
       "        vertical-align: top;\n",
       "    }\n",
       "\n",
       "    .dataframe thead th {\n",
       "        text-align: right;\n",
       "    }\n",
       "</style>\n",
       "<table border=\"1\" class=\"dataframe\">\n",
       "  <thead>\n",
       "    <tr style=\"text-align: right;\">\n",
       "      <th></th>\n",
       "      <th>hypothesis</th>\n",
       "      <th>ICE</th>\n",
       "    </tr>\n",
       "  </thead>\n",
       "  <tbody>\n",
       "    <tr>\n",
       "      <th>8</th>\n",
       "      <td>Запустить акцию, дающую скидку на товар в день...</td>\n",
       "      <td>16.200000</td>\n",
       "    </tr>\n",
       "    <tr>\n",
       "      <th>0</th>\n",
       "      <td>Добавить два новых канала привлечения трафика,...</td>\n",
       "      <td>13.333333</td>\n",
       "    </tr>\n",
       "    <tr>\n",
       "      <th>7</th>\n",
       "      <td>Добавить форму подписки на все основные страни...</td>\n",
       "      <td>11.200000</td>\n",
       "    </tr>\n",
       "    <tr>\n",
       "      <th>6</th>\n",
       "      <td>Показать на главной странице баннеры с актуаль...</td>\n",
       "      <td>8.000000</td>\n",
       "    </tr>\n",
       "    <tr>\n",
       "      <th>2</th>\n",
       "      <td>Добавить блоки рекомендаций товаров на сайт ин...</td>\n",
       "      <td>7.000000</td>\n",
       "    </tr>\n",
       "    <tr>\n",
       "      <th>1</th>\n",
       "      <td>Запустить собственную службу доставки, что сок...</td>\n",
       "      <td>2.000000</td>\n",
       "    </tr>\n",
       "    <tr>\n",
       "      <th>5</th>\n",
       "      <td>Добавить страницу отзывов клиентов о магазине,...</td>\n",
       "      <td>1.333333</td>\n",
       "    </tr>\n",
       "    <tr>\n",
       "      <th>3</th>\n",
       "      <td>Изменить структура категорий, что увеличит кон...</td>\n",
       "      <td>1.125000</td>\n",
       "    </tr>\n",
       "    <tr>\n",
       "      <th>4</th>\n",
       "      <td>Изменить цвет фона главной страницы, чтобы уве...</td>\n",
       "      <td>1.000000</td>\n",
       "    </tr>\n",
       "  </tbody>\n",
       "</table>\n",
       "</div>"
      ],
      "text/plain": [
       "                                          hypothesis        ICE\n",
       "8  Запустить акцию, дающую скидку на товар в день...  16.200000\n",
       "0  Добавить два новых канала привлечения трафика,...  13.333333\n",
       "7  Добавить форму подписки на все основные страни...  11.200000\n",
       "6  Показать на главной странице баннеры с актуаль...   8.000000\n",
       "2  Добавить блоки рекомендаций товаров на сайт ин...   7.000000\n",
       "1  Запустить собственную службу доставки, что сок...   2.000000\n",
       "5  Добавить страницу отзывов клиентов о магазине,...   1.333333\n",
       "3  Изменить структура категорий, что увеличит кон...   1.125000\n",
       "4  Изменить цвет фона главной страницы, чтобы уве...   1.000000"
      ]
     },
     "metadata": {},
     "output_type": "display_data"
    }
   ],
   "source": [
    "# Добавим стобец ICE\n",
    "hypothesis['ICE'] = (hypothesis['impact'] * hypothesis['confidence']) / hypothesis['efforts']\n",
    "\n",
    "display(hypothesis[['hypothesis', 'ICE']].sort_values(by='ICE', ascending=False))"
   ]
  },
  {
   "cell_type": "markdown",
   "metadata": {},
   "source": [
    "Лидируют гипотезы 9, 1, 8."
   ]
  },
  {
   "cell_type": "markdown",
   "metadata": {},
   "source": [
    "Вывод по разделу: наибольшее значение ICE имеет гипотеза 9 - \"Запустить акцию, дающую скидку на товар в день рождения\""
   ]
  },
  {
   "cell_type": "markdown",
   "metadata": {},
   "source": [
    "### Примените фреймворк RICE для приоритизации гипотез. Отсортируйте их по убыванию приоритета."
   ]
  },
  {
   "cell_type": "code",
   "execution_count": 8,
   "metadata": {},
   "outputs": [
    {
     "data": {
      "text/html": [
       "<div>\n",
       "<style scoped>\n",
       "    .dataframe tbody tr th:only-of-type {\n",
       "        vertical-align: middle;\n",
       "    }\n",
       "\n",
       "    .dataframe tbody tr th {\n",
       "        vertical-align: top;\n",
       "    }\n",
       "\n",
       "    .dataframe thead th {\n",
       "        text-align: right;\n",
       "    }\n",
       "</style>\n",
       "<table border=\"1\" class=\"dataframe\">\n",
       "  <thead>\n",
       "    <tr style=\"text-align: right;\">\n",
       "      <th></th>\n",
       "      <th>hypothesis</th>\n",
       "      <th>RICE</th>\n",
       "    </tr>\n",
       "  </thead>\n",
       "  <tbody>\n",
       "    <tr>\n",
       "      <th>7</th>\n",
       "      <td>Добавить форму подписки на все основные страни...</td>\n",
       "      <td>112.0</td>\n",
       "    </tr>\n",
       "    <tr>\n",
       "      <th>2</th>\n",
       "      <td>Добавить блоки рекомендаций товаров на сайт ин...</td>\n",
       "      <td>56.0</td>\n",
       "    </tr>\n",
       "    <tr>\n",
       "      <th>0</th>\n",
       "      <td>Добавить два новых канала привлечения трафика,...</td>\n",
       "      <td>40.0</td>\n",
       "    </tr>\n",
       "    <tr>\n",
       "      <th>6</th>\n",
       "      <td>Показать на главной странице баннеры с актуаль...</td>\n",
       "      <td>40.0</td>\n",
       "    </tr>\n",
       "    <tr>\n",
       "      <th>8</th>\n",
       "      <td>Запустить акцию, дающую скидку на товар в день...</td>\n",
       "      <td>16.2</td>\n",
       "    </tr>\n",
       "    <tr>\n",
       "      <th>3</th>\n",
       "      <td>Изменить структура категорий, что увеличит кон...</td>\n",
       "      <td>9.0</td>\n",
       "    </tr>\n",
       "    <tr>\n",
       "      <th>1</th>\n",
       "      <td>Запустить собственную службу доставки, что сок...</td>\n",
       "      <td>4.0</td>\n",
       "    </tr>\n",
       "    <tr>\n",
       "      <th>5</th>\n",
       "      <td>Добавить страницу отзывов клиентов о магазине,...</td>\n",
       "      <td>4.0</td>\n",
       "    </tr>\n",
       "    <tr>\n",
       "      <th>4</th>\n",
       "      <td>Изменить цвет фона главной страницы, чтобы уве...</td>\n",
       "      <td>3.0</td>\n",
       "    </tr>\n",
       "  </tbody>\n",
       "</table>\n",
       "</div>"
      ],
      "text/plain": [
       "                                          hypothesis   RICE\n",
       "7  Добавить форму подписки на все основные страни...  112.0\n",
       "2  Добавить блоки рекомендаций товаров на сайт ин...   56.0\n",
       "0  Добавить два новых канала привлечения трафика,...   40.0\n",
       "6  Показать на главной странице баннеры с актуаль...   40.0\n",
       "8  Запустить акцию, дающую скидку на товар в день...   16.2\n",
       "3  Изменить структура категорий, что увеличит кон...    9.0\n",
       "1  Запустить собственную службу доставки, что сок...    4.0\n",
       "5  Добавить страницу отзывов клиентов о магазине,...    4.0\n",
       "4  Изменить цвет фона главной страницы, чтобы уве...    3.0"
      ]
     },
     "metadata": {},
     "output_type": "display_data"
    }
   ],
   "source": [
    "# Добавим стобец RICE\n",
    "hypothesis['RICE'] = (hypothesis['reach'] * hypothesis['impact'] * hypothesis['confidence']) / hypothesis['efforts']\n",
    "\n",
    "display(hypothesis[['hypothesis', 'RICE']].sort_values(by='RICE', ascending=False))"
   ]
  },
  {
   "cell_type": "markdown",
   "metadata": {},
   "source": [
    "Лидируют гипотезы 8, 3, 1, 7."
   ]
  },
  {
   "cell_type": "markdown",
   "metadata": {},
   "source": [
    "Вывод по разделу: с учётом охвата (reach), лидирует уже гипотеза под номером 8: \"Добавить форму подписки на все основные страницы, чтобы собрать базу клиентов для email-рассылок\"."
   ]
  },
  {
   "cell_type": "markdown",
   "metadata": {},
   "source": [
    "### Укажите, как изменилась приоритизация гипотез при применении RICE вместо ICE. Объясните, почему так произошло."
   ]
  },
  {
   "cell_type": "markdown",
   "metadata": {},
   "source": [
    "При применении RICE наиболее приоритетными стали гипотезы 8, 3, 1, 7 вместо 9, 1, 8. \n",
    "\n",
    "Так получилось, потому что параметр reach у гипотез разный, например, гипотеза 9 с наибольшим значением ICE, имеет параметр reach равный единице, по всей видимости потому, что день рождения всего 1 раз в год и охватывает маленькое количество пользователей, в то время как добавление формы подписки на все основные страницы охватывает всех пользователей. Кроме силы гипотез, учитывается и то, как много пользователей она затронет."
   ]
  },
  {
   "cell_type": "markdown",
   "metadata": {},
   "source": [
    "<b>Вывод по разделу:</b> в качестве наиболее приоритетной возьмем гипотезу 8 - 'Добавить форму подписки на все основные страницы, чтобы собрать базу клиентов для email-рассылок', выбранную с применением фреймворка RICE"
   ]
  },
  {
   "cell_type": "markdown",
   "metadata": {},
   "source": [
    "## Часть 2. Анализ A/B-теста"
   ]
  },
  {
   "cell_type": "markdown",
   "metadata": {},
   "source": [
    "Так же, как и в первой части проекта, исследуем данные и проведём их предобработку при необходимости"
   ]
  },
  {
   "cell_type": "code",
   "execution_count": 9,
   "metadata": {},
   "outputs": [
    {
     "data": {
      "text/html": [
       "<div>\n",
       "<style scoped>\n",
       "    .dataframe tbody tr th:only-of-type {\n",
       "        vertical-align: middle;\n",
       "    }\n",
       "\n",
       "    .dataframe tbody tr th {\n",
       "        vertical-align: top;\n",
       "    }\n",
       "\n",
       "    .dataframe thead th {\n",
       "        text-align: right;\n",
       "    }\n",
       "</style>\n",
       "<table border=\"1\" class=\"dataframe\">\n",
       "  <thead>\n",
       "    <tr style=\"text-align: right;\">\n",
       "      <th></th>\n",
       "      <th>transactionId</th>\n",
       "      <th>visitorId</th>\n",
       "      <th>date</th>\n",
       "      <th>revenue</th>\n",
       "      <th>group</th>\n",
       "    </tr>\n",
       "  </thead>\n",
       "  <tbody>\n",
       "    <tr>\n",
       "      <th>0</th>\n",
       "      <td>3667963787</td>\n",
       "      <td>3312258926</td>\n",
       "      <td>2019-08-15</td>\n",
       "      <td>1650</td>\n",
       "      <td>B</td>\n",
       "    </tr>\n",
       "    <tr>\n",
       "      <th>1</th>\n",
       "      <td>2804400009</td>\n",
       "      <td>3642806036</td>\n",
       "      <td>2019-08-15</td>\n",
       "      <td>730</td>\n",
       "      <td>B</td>\n",
       "    </tr>\n",
       "    <tr>\n",
       "      <th>2</th>\n",
       "      <td>2961555356</td>\n",
       "      <td>4069496402</td>\n",
       "      <td>2019-08-15</td>\n",
       "      <td>400</td>\n",
       "      <td>A</td>\n",
       "    </tr>\n",
       "    <tr>\n",
       "      <th>3</th>\n",
       "      <td>3797467345</td>\n",
       "      <td>1196621759</td>\n",
       "      <td>2019-08-15</td>\n",
       "      <td>9759</td>\n",
       "      <td>B</td>\n",
       "    </tr>\n",
       "    <tr>\n",
       "      <th>4</th>\n",
       "      <td>2282983706</td>\n",
       "      <td>2322279887</td>\n",
       "      <td>2019-08-15</td>\n",
       "      <td>2308</td>\n",
       "      <td>B</td>\n",
       "    </tr>\n",
       "    <tr>\n",
       "      <th>...</th>\n",
       "      <td>...</td>\n",
       "      <td>...</td>\n",
       "      <td>...</td>\n",
       "      <td>...</td>\n",
       "      <td>...</td>\n",
       "    </tr>\n",
       "    <tr>\n",
       "      <th>1192</th>\n",
       "      <td>2662137336</td>\n",
       "      <td>3733762160</td>\n",
       "      <td>2019-08-14</td>\n",
       "      <td>6490</td>\n",
       "      <td>B</td>\n",
       "    </tr>\n",
       "    <tr>\n",
       "      <th>1193</th>\n",
       "      <td>2203539145</td>\n",
       "      <td>370388673</td>\n",
       "      <td>2019-08-14</td>\n",
       "      <td>3190</td>\n",
       "      <td>A</td>\n",
       "    </tr>\n",
       "    <tr>\n",
       "      <th>1194</th>\n",
       "      <td>1807773912</td>\n",
       "      <td>573423106</td>\n",
       "      <td>2019-08-14</td>\n",
       "      <td>10550</td>\n",
       "      <td>A</td>\n",
       "    </tr>\n",
       "    <tr>\n",
       "      <th>1195</th>\n",
       "      <td>1947021204</td>\n",
       "      <td>1614305549</td>\n",
       "      <td>2019-08-14</td>\n",
       "      <td>100</td>\n",
       "      <td>A</td>\n",
       "    </tr>\n",
       "    <tr>\n",
       "      <th>1196</th>\n",
       "      <td>3936777065</td>\n",
       "      <td>2108080724</td>\n",
       "      <td>2019-08-15</td>\n",
       "      <td>202740</td>\n",
       "      <td>B</td>\n",
       "    </tr>\n",
       "  </tbody>\n",
       "</table>\n",
       "<p>1197 rows × 5 columns</p>\n",
       "</div>"
      ],
      "text/plain": [
       "      transactionId   visitorId        date  revenue group\n",
       "0        3667963787  3312258926  2019-08-15     1650     B\n",
       "1        2804400009  3642806036  2019-08-15      730     B\n",
       "2        2961555356  4069496402  2019-08-15      400     A\n",
       "3        3797467345  1196621759  2019-08-15     9759     B\n",
       "4        2282983706  2322279887  2019-08-15     2308     B\n",
       "...             ...         ...         ...      ...   ...\n",
       "1192     2662137336  3733762160  2019-08-14     6490     B\n",
       "1193     2203539145   370388673  2019-08-14     3190     A\n",
       "1194     1807773912   573423106  2019-08-14    10550     A\n",
       "1195     1947021204  1614305549  2019-08-14      100     A\n",
       "1196     3936777065  2108080724  2019-08-15   202740     B\n",
       "\n",
       "[1197 rows x 5 columns]"
      ]
     },
     "execution_count": 9,
     "metadata": {},
     "output_type": "execute_result"
    }
   ],
   "source": [
    "orders = pd.read_csv('/datasets/orders.csv')\n",
    "visitors = pd.read_csv('/datasets/visitors.csv')\n",
    "\n",
    "orders"
   ]
  },
  {
   "cell_type": "markdown",
   "metadata": {},
   "source": [
    "Описание данных:\n",
    "\n",
    "    - transactionId — идентификатор заказа;\n",
    "    - visitorId — идентификатор пользователя, совершившего заказ;\n",
    "    - date — дата, когда был совершён заказ;\n",
    "    - revenue — выручка заказа;\n",
    "    - group — группа A/B-теста, в которую попал заказ."
   ]
  },
  {
   "cell_type": "code",
   "execution_count": 10,
   "metadata": {},
   "outputs": [
    {
     "name": "stdout",
     "output_type": "stream",
     "text": [
      "<class 'pandas.core.frame.DataFrame'>\n",
      "RangeIndex: 1197 entries, 0 to 1196\n",
      "Data columns (total 5 columns):\n",
      " #   Column         Non-Null Count  Dtype \n",
      "---  ------         --------------  ----- \n",
      " 0   transactionId  1197 non-null   int64 \n",
      " 1   visitorId      1197 non-null   int64 \n",
      " 2   date           1197 non-null   object\n",
      " 3   revenue        1197 non-null   int64 \n",
      " 4   group          1197 non-null   object\n",
      "dtypes: int64(3), object(2)\n",
      "memory usage: 46.9+ KB\n"
     ]
    }
   ],
   "source": [
    "orders.info()"
   ]
  },
  {
   "cell_type": "markdown",
   "metadata": {},
   "source": [
    "Проверим данные на пропуски и дубликаты"
   ]
  },
  {
   "cell_type": "code",
   "execution_count": 11,
   "metadata": {},
   "outputs": [
    {
     "data": {
      "text/plain": [
       "transactionId    0\n",
       "visitorId        0\n",
       "date             0\n",
       "revenue          0\n",
       "group            0\n",
       "dtype: int64"
      ]
     },
     "execution_count": 11,
     "metadata": {},
     "output_type": "execute_result"
    }
   ],
   "source": [
    "orders.isna().sum()"
   ]
  },
  {
   "cell_type": "code",
   "execution_count": 12,
   "metadata": {},
   "outputs": [
    {
     "data": {
      "text/plain": [
       "0"
      ]
     },
     "execution_count": 12,
     "metadata": {},
     "output_type": "execute_result"
    }
   ],
   "source": [
    "orders.duplicated().sum()"
   ]
  },
  {
   "cell_type": "markdown",
   "metadata": {},
   "source": [
    "Пропусков и дубликатов в таблице orders нет.\n",
    "\n",
    "Необходимые изменения:\n",
    "\n",
    "    - привести названия столбцов к змеиному регистру\n",
    "    - изменить формат в столбце date (datetime)"
   ]
  },
  {
   "cell_type": "code",
   "execution_count": 13,
   "metadata": {
    "scrolled": true
   },
   "outputs": [
    {
     "data": {
      "text/html": [
       "<div>\n",
       "<style scoped>\n",
       "    .dataframe tbody tr th:only-of-type {\n",
       "        vertical-align: middle;\n",
       "    }\n",
       "\n",
       "    .dataframe tbody tr th {\n",
       "        vertical-align: top;\n",
       "    }\n",
       "\n",
       "    .dataframe thead th {\n",
       "        text-align: right;\n",
       "    }\n",
       "</style>\n",
       "<table border=\"1\" class=\"dataframe\">\n",
       "  <thead>\n",
       "    <tr style=\"text-align: right;\">\n",
       "      <th></th>\n",
       "      <th>date</th>\n",
       "      <th>group</th>\n",
       "      <th>visitors</th>\n",
       "    </tr>\n",
       "  </thead>\n",
       "  <tbody>\n",
       "    <tr>\n",
       "      <th>0</th>\n",
       "      <td>2019-08-01</td>\n",
       "      <td>A</td>\n",
       "      <td>719</td>\n",
       "    </tr>\n",
       "    <tr>\n",
       "      <th>1</th>\n",
       "      <td>2019-08-02</td>\n",
       "      <td>A</td>\n",
       "      <td>619</td>\n",
       "    </tr>\n",
       "    <tr>\n",
       "      <th>2</th>\n",
       "      <td>2019-08-03</td>\n",
       "      <td>A</td>\n",
       "      <td>507</td>\n",
       "    </tr>\n",
       "    <tr>\n",
       "      <th>3</th>\n",
       "      <td>2019-08-04</td>\n",
       "      <td>A</td>\n",
       "      <td>717</td>\n",
       "    </tr>\n",
       "    <tr>\n",
       "      <th>4</th>\n",
       "      <td>2019-08-05</td>\n",
       "      <td>A</td>\n",
       "      <td>756</td>\n",
       "    </tr>\n",
       "    <tr>\n",
       "      <th>...</th>\n",
       "      <td>...</td>\n",
       "      <td>...</td>\n",
       "      <td>...</td>\n",
       "    </tr>\n",
       "    <tr>\n",
       "      <th>57</th>\n",
       "      <td>2019-08-27</td>\n",
       "      <td>B</td>\n",
       "      <td>720</td>\n",
       "    </tr>\n",
       "    <tr>\n",
       "      <th>58</th>\n",
       "      <td>2019-08-28</td>\n",
       "      <td>B</td>\n",
       "      <td>654</td>\n",
       "    </tr>\n",
       "    <tr>\n",
       "      <th>59</th>\n",
       "      <td>2019-08-29</td>\n",
       "      <td>B</td>\n",
       "      <td>531</td>\n",
       "    </tr>\n",
       "    <tr>\n",
       "      <th>60</th>\n",
       "      <td>2019-08-30</td>\n",
       "      <td>B</td>\n",
       "      <td>490</td>\n",
       "    </tr>\n",
       "    <tr>\n",
       "      <th>61</th>\n",
       "      <td>2019-08-31</td>\n",
       "      <td>B</td>\n",
       "      <td>718</td>\n",
       "    </tr>\n",
       "  </tbody>\n",
       "</table>\n",
       "<p>62 rows × 3 columns</p>\n",
       "</div>"
      ],
      "text/plain": [
       "          date group  visitors\n",
       "0   2019-08-01     A       719\n",
       "1   2019-08-02     A       619\n",
       "2   2019-08-03     A       507\n",
       "3   2019-08-04     A       717\n",
       "4   2019-08-05     A       756\n",
       "..         ...   ...       ...\n",
       "57  2019-08-27     B       720\n",
       "58  2019-08-28     B       654\n",
       "59  2019-08-29     B       531\n",
       "60  2019-08-30     B       490\n",
       "61  2019-08-31     B       718\n",
       "\n",
       "[62 rows x 3 columns]"
      ]
     },
     "execution_count": 13,
     "metadata": {},
     "output_type": "execute_result"
    }
   ],
   "source": [
    "visitors"
   ]
  },
  {
   "cell_type": "markdown",
   "metadata": {},
   "source": [
    "Описание данных:\n",
    "\n",
    "    - date — дата;\n",
    "    - group — группа A/B-теста;\n",
    "    - visitors — количество пользователей в указанную дату в указанной группе A/B-теста"
   ]
  },
  {
   "cell_type": "code",
   "execution_count": 14,
   "metadata": {},
   "outputs": [
    {
     "name": "stdout",
     "output_type": "stream",
     "text": [
      "<class 'pandas.core.frame.DataFrame'>\n",
      "RangeIndex: 62 entries, 0 to 61\n",
      "Data columns (total 3 columns):\n",
      " #   Column    Non-Null Count  Dtype \n",
      "---  ------    --------------  ----- \n",
      " 0   date      62 non-null     object\n",
      " 1   group     62 non-null     object\n",
      " 2   visitors  62 non-null     int64 \n",
      "dtypes: int64(1), object(2)\n",
      "memory usage: 1.6+ KB\n"
     ]
    }
   ],
   "source": [
    "visitors.info()"
   ]
  },
  {
   "cell_type": "markdown",
   "metadata": {},
   "source": [
    "Также проверим данные на пропуски и дубликаты"
   ]
  },
  {
   "cell_type": "code",
   "execution_count": 15,
   "metadata": {},
   "outputs": [
    {
     "data": {
      "text/plain": [
       "date        0\n",
       "group       0\n",
       "visitors    0\n",
       "dtype: int64"
      ]
     },
     "execution_count": 15,
     "metadata": {},
     "output_type": "execute_result"
    }
   ],
   "source": [
    "visitors.isna().sum()"
   ]
  },
  {
   "cell_type": "code",
   "execution_count": 16,
   "metadata": {},
   "outputs": [
    {
     "data": {
      "text/plain": [
       "0"
      ]
     },
     "execution_count": 16,
     "metadata": {},
     "output_type": "execute_result"
    }
   ],
   "source": [
    "visitors.duplicated().sum()"
   ]
  },
  {
   "cell_type": "markdown",
   "metadata": {},
   "source": [
    "Пропусков и дубликатов не оказалось и в таблице visitors.\n",
    "\n",
    "Необходимые изменения:\n",
    "    \n",
    "    - привести колонку date - к формату datetime"
   ]
  },
  {
   "cell_type": "markdown",
   "metadata": {},
   "source": [
    "<b>Предобработка данных</b>"
   ]
  },
  {
   "cell_type": "code",
   "execution_count": 17,
   "metadata": {},
   "outputs": [
    {
     "name": "stdout",
     "output_type": "stream",
     "text": [
      "<class 'pandas.core.frame.DataFrame'>\n",
      "RangeIndex: 1197 entries, 0 to 1196\n",
      "Data columns (total 5 columns):\n",
      " #   Column          Non-Null Count  Dtype         \n",
      "---  ------          --------------  -----         \n",
      " 0   transaction_id  1197 non-null   int64         \n",
      " 1   visitor_id      1197 non-null   int64         \n",
      " 2   date            1197 non-null   datetime64[ns]\n",
      " 3   revenue         1197 non-null   int64         \n",
      " 4   group           1197 non-null   object        \n",
      "dtypes: datetime64[ns](1), int64(3), object(1)\n",
      "memory usage: 46.9+ KB\n"
     ]
    }
   ],
   "source": [
    "orders = orders.rename(columns={'transactionId':'transaction_id', 'visitorId':'visitor_id'})\n",
    "\n",
    "orders['date'] = pd.to_datetime(orders['date'] )\n",
    "\n",
    "orders.info()"
   ]
  },
  {
   "cell_type": "code",
   "execution_count": 18,
   "metadata": {},
   "outputs": [
    {
     "name": "stdout",
     "output_type": "stream",
     "text": [
      "<class 'pandas.core.frame.DataFrame'>\n",
      "RangeIndex: 62 entries, 0 to 61\n",
      "Data columns (total 3 columns):\n",
      " #   Column    Non-Null Count  Dtype         \n",
      "---  ------    --------------  -----         \n",
      " 0   date      62 non-null     datetime64[ns]\n",
      " 1   group     62 non-null     object        \n",
      " 2   visitors  62 non-null     int64         \n",
      "dtypes: datetime64[ns](1), int64(1), object(1)\n",
      "memory usage: 1.6+ KB\n"
     ]
    }
   ],
   "source": [
    "visitors['date'] = pd.to_datetime(visitors['date'])\n",
    "\n",
    "visitors.info()"
   ]
  },
  {
   "cell_type": "markdown",
   "metadata": {},
   "source": [
    "В результате предобработки данных исправлены нарушения стиля в наименовании столбцов и устранено несоотвествие типа данных в столбцах, в которых обозначена дата: с типа object на datetime. Дубликаты отсутствуют. Данные готовы для анализа."
   ]
  },
  {
   "cell_type": "markdown",
   "metadata": {},
   "source": [
    "<b>Рассчитаем кумулятивные метрики</b>"
   ]
  },
  {
   "cell_type": "code",
   "execution_count": 19,
   "metadata": {
    "scrolled": true
   },
   "outputs": [
    {
     "data": {
      "text/html": [
       "<div>\n",
       "<style scoped>\n",
       "    .dataframe tbody tr th:only-of-type {\n",
       "        vertical-align: middle;\n",
       "    }\n",
       "\n",
       "    .dataframe tbody tr th {\n",
       "        vertical-align: top;\n",
       "    }\n",
       "\n",
       "    .dataframe thead th {\n",
       "        text-align: right;\n",
       "    }\n",
       "</style>\n",
       "<table border=\"1\" class=\"dataframe\">\n",
       "  <thead>\n",
       "    <tr style=\"text-align: right;\">\n",
       "      <th></th>\n",
       "      <th>date</th>\n",
       "      <th>group</th>\n",
       "    </tr>\n",
       "  </thead>\n",
       "  <tbody>\n",
       "    <tr>\n",
       "      <th>0</th>\n",
       "      <td>2019-08-15</td>\n",
       "      <td>B</td>\n",
       "    </tr>\n",
       "    <tr>\n",
       "      <th>2</th>\n",
       "      <td>2019-08-15</td>\n",
       "      <td>A</td>\n",
       "    </tr>\n",
       "    <tr>\n",
       "      <th>45</th>\n",
       "      <td>2019-08-16</td>\n",
       "      <td>A</td>\n",
       "    </tr>\n",
       "    <tr>\n",
       "      <th>47</th>\n",
       "      <td>2019-08-16</td>\n",
       "      <td>B</td>\n",
       "    </tr>\n",
       "    <tr>\n",
       "      <th>55</th>\n",
       "      <td>2019-08-01</td>\n",
       "      <td>A</td>\n",
       "    </tr>\n",
       "    <tr>\n",
       "      <th>...</th>\n",
       "      <td>...</td>\n",
       "      <td>...</td>\n",
       "    </tr>\n",
       "    <tr>\n",
       "      <th>1068</th>\n",
       "      <td>2019-08-12</td>\n",
       "      <td>A</td>\n",
       "    </tr>\n",
       "    <tr>\n",
       "      <th>1114</th>\n",
       "      <td>2019-08-13</td>\n",
       "      <td>B</td>\n",
       "    </tr>\n",
       "    <tr>\n",
       "      <th>1116</th>\n",
       "      <td>2019-08-13</td>\n",
       "      <td>A</td>\n",
       "    </tr>\n",
       "    <tr>\n",
       "      <th>1149</th>\n",
       "      <td>2019-08-14</td>\n",
       "      <td>B</td>\n",
       "    </tr>\n",
       "    <tr>\n",
       "      <th>1150</th>\n",
       "      <td>2019-08-14</td>\n",
       "      <td>A</td>\n",
       "    </tr>\n",
       "  </tbody>\n",
       "</table>\n",
       "<p>62 rows × 2 columns</p>\n",
       "</div>"
      ],
      "text/plain": [
       "           date group\n",
       "0    2019-08-15     B\n",
       "2    2019-08-15     A\n",
       "45   2019-08-16     A\n",
       "47   2019-08-16     B\n",
       "55   2019-08-01     A\n",
       "...         ...   ...\n",
       "1068 2019-08-12     A\n",
       "1114 2019-08-13     B\n",
       "1116 2019-08-13     A\n",
       "1149 2019-08-14     B\n",
       "1150 2019-08-14     A\n",
       "\n",
       "[62 rows x 2 columns]"
      ]
     },
     "metadata": {},
     "output_type": "display_data"
    }
   ],
   "source": [
    "# создаем массив уникальных пар значений дат и групп теста\n",
    "date_groups = orders[['date', 'group']].drop_duplicates()\n",
    "\n",
    "display(date_groups)"
   ]
  },
  {
   "cell_type": "markdown",
   "metadata": {},
   "source": [
    "Соберём агрегированные кумулятивные по дням данные о заказах."
   ]
  },
  {
   "cell_type": "code",
   "execution_count": 20,
   "metadata": {},
   "outputs": [],
   "source": [
    "orders_aggregated = date_groups.apply(lambda x: orders[np.logical_and(orders['date'] <= x['date'], orders['group'] \n",
    "                                                                      == x['group'])]\\\n",
    ".agg({'date' : 'max', 'group' : 'max', 'transaction_id' : 'nunique', 'visitor_id' : 'nunique', 'revenue' : 'sum'}), axis=1).sort_values(by=['date','group'])"
   ]
  },
  {
   "cell_type": "code",
   "execution_count": 21,
   "metadata": {},
   "outputs": [
    {
     "data": {
      "text/html": [
       "<div>\n",
       "<style scoped>\n",
       "    .dataframe tbody tr th:only-of-type {\n",
       "        vertical-align: middle;\n",
       "    }\n",
       "\n",
       "    .dataframe tbody tr th {\n",
       "        vertical-align: top;\n",
       "    }\n",
       "\n",
       "    .dataframe thead th {\n",
       "        text-align: right;\n",
       "    }\n",
       "</style>\n",
       "<table border=\"1\" class=\"dataframe\">\n",
       "  <thead>\n",
       "    <tr style=\"text-align: right;\">\n",
       "      <th></th>\n",
       "      <th>date</th>\n",
       "      <th>group</th>\n",
       "      <th>transaction_id</th>\n",
       "      <th>visitor_id</th>\n",
       "      <th>revenue</th>\n",
       "    </tr>\n",
       "  </thead>\n",
       "  <tbody>\n",
       "    <tr>\n",
       "      <th>55</th>\n",
       "      <td>2019-08-01</td>\n",
       "      <td>A</td>\n",
       "      <td>24</td>\n",
       "      <td>20</td>\n",
       "      <td>148579</td>\n",
       "    </tr>\n",
       "    <tr>\n",
       "      <th>66</th>\n",
       "      <td>2019-08-01</td>\n",
       "      <td>B</td>\n",
       "      <td>21</td>\n",
       "      <td>20</td>\n",
       "      <td>101217</td>\n",
       "    </tr>\n",
       "    <tr>\n",
       "      <th>175</th>\n",
       "      <td>2019-08-02</td>\n",
       "      <td>A</td>\n",
       "      <td>44</td>\n",
       "      <td>38</td>\n",
       "      <td>242401</td>\n",
       "    </tr>\n",
       "    <tr>\n",
       "      <th>173</th>\n",
       "      <td>2019-08-02</td>\n",
       "      <td>B</td>\n",
       "      <td>45</td>\n",
       "      <td>43</td>\n",
       "      <td>266748</td>\n",
       "    </tr>\n",
       "    <tr>\n",
       "      <th>291</th>\n",
       "      <td>2019-08-03</td>\n",
       "      <td>A</td>\n",
       "      <td>68</td>\n",
       "      <td>62</td>\n",
       "      <td>354874</td>\n",
       "    </tr>\n",
       "    <tr>\n",
       "      <th>...</th>\n",
       "      <td>...</td>\n",
       "      <td>...</td>\n",
       "      <td>...</td>\n",
       "      <td>...</td>\n",
       "      <td>...</td>\n",
       "    </tr>\n",
       "    <tr>\n",
       "      <th>496</th>\n",
       "      <td>2019-08-29</td>\n",
       "      <td>B</td>\n",
       "      <td>596</td>\n",
       "      <td>544</td>\n",
       "      <td>5559398</td>\n",
       "    </tr>\n",
       "    <tr>\n",
       "      <th>730</th>\n",
       "      <td>2019-08-30</td>\n",
       "      <td>A</td>\n",
       "      <td>545</td>\n",
       "      <td>493</td>\n",
       "      <td>4022970</td>\n",
       "    </tr>\n",
       "    <tr>\n",
       "      <th>690</th>\n",
       "      <td>2019-08-30</td>\n",
       "      <td>B</td>\n",
       "      <td>620</td>\n",
       "      <td>567</td>\n",
       "      <td>5774631</td>\n",
       "    </tr>\n",
       "    <tr>\n",
       "      <th>958</th>\n",
       "      <td>2019-08-31</td>\n",
       "      <td>A</td>\n",
       "      <td>557</td>\n",
       "      <td>503</td>\n",
       "      <td>4084803</td>\n",
       "    </tr>\n",
       "    <tr>\n",
       "      <th>930</th>\n",
       "      <td>2019-08-31</td>\n",
       "      <td>B</td>\n",
       "      <td>640</td>\n",
       "      <td>586</td>\n",
       "      <td>5907760</td>\n",
       "    </tr>\n",
       "  </tbody>\n",
       "</table>\n",
       "<p>62 rows × 5 columns</p>\n",
       "</div>"
      ],
      "text/plain": [
       "          date group  transaction_id  visitor_id  revenue\n",
       "55  2019-08-01     A              24          20   148579\n",
       "66  2019-08-01     B              21          20   101217\n",
       "175 2019-08-02     A              44          38   242401\n",
       "173 2019-08-02     B              45          43   266748\n",
       "291 2019-08-03     A              68          62   354874\n",
       "..         ...   ...             ...         ...      ...\n",
       "496 2019-08-29     B             596         544  5559398\n",
       "730 2019-08-30     A             545         493  4022970\n",
       "690 2019-08-30     B             620         567  5774631\n",
       "958 2019-08-31     A             557         503  4084803\n",
       "930 2019-08-31     B             640         586  5907760\n",
       "\n",
       "[62 rows x 5 columns]"
      ]
     },
     "execution_count": 21,
     "metadata": {},
     "output_type": "execute_result"
    }
   ],
   "source": [
    "orders_aggregated"
   ]
  },
  {
   "cell_type": "markdown",
   "metadata": {},
   "source": [
    "Аналогично получим агрегированные кумулятивные по дням данные о посетителях интернет-магазина"
   ]
  },
  {
   "cell_type": "code",
   "execution_count": 22,
   "metadata": {},
   "outputs": [],
   "source": [
    "visitors_aggregated = date_groups.apply(lambda x: visitors[np.logical_and(visitors['date'] <= x['date'], visitors['group'] == x['group'])]\\\n",
    "                                        .agg({'date' : 'max', 'group' : 'max', 'visitors' : 'sum'}), axis=1).sort_values(by=['date','group'])"
   ]
  },
  {
   "cell_type": "code",
   "execution_count": 23,
   "metadata": {},
   "outputs": [
    {
     "data": {
      "text/html": [
       "<div>\n",
       "<style scoped>\n",
       "    .dataframe tbody tr th:only-of-type {\n",
       "        vertical-align: middle;\n",
       "    }\n",
       "\n",
       "    .dataframe tbody tr th {\n",
       "        vertical-align: top;\n",
       "    }\n",
       "\n",
       "    .dataframe thead th {\n",
       "        text-align: right;\n",
       "    }\n",
       "</style>\n",
       "<table border=\"1\" class=\"dataframe\">\n",
       "  <thead>\n",
       "    <tr style=\"text-align: right;\">\n",
       "      <th></th>\n",
       "      <th>date</th>\n",
       "      <th>group</th>\n",
       "      <th>visitors</th>\n",
       "    </tr>\n",
       "  </thead>\n",
       "  <tbody>\n",
       "    <tr>\n",
       "      <th>55</th>\n",
       "      <td>2019-08-01</td>\n",
       "      <td>A</td>\n",
       "      <td>719</td>\n",
       "    </tr>\n",
       "    <tr>\n",
       "      <th>66</th>\n",
       "      <td>2019-08-01</td>\n",
       "      <td>B</td>\n",
       "      <td>713</td>\n",
       "    </tr>\n",
       "    <tr>\n",
       "      <th>175</th>\n",
       "      <td>2019-08-02</td>\n",
       "      <td>A</td>\n",
       "      <td>1338</td>\n",
       "    </tr>\n",
       "    <tr>\n",
       "      <th>173</th>\n",
       "      <td>2019-08-02</td>\n",
       "      <td>B</td>\n",
       "      <td>1294</td>\n",
       "    </tr>\n",
       "    <tr>\n",
       "      <th>291</th>\n",
       "      <td>2019-08-03</td>\n",
       "      <td>A</td>\n",
       "      <td>1845</td>\n",
       "    </tr>\n",
       "    <tr>\n",
       "      <th>...</th>\n",
       "      <td>...</td>\n",
       "      <td>...</td>\n",
       "      <td>...</td>\n",
       "    </tr>\n",
       "    <tr>\n",
       "      <th>496</th>\n",
       "      <td>2019-08-29</td>\n",
       "      <td>B</td>\n",
       "      <td>17708</td>\n",
       "    </tr>\n",
       "    <tr>\n",
       "      <th>730</th>\n",
       "      <td>2019-08-30</td>\n",
       "      <td>A</td>\n",
       "      <td>18037</td>\n",
       "    </tr>\n",
       "    <tr>\n",
       "      <th>690</th>\n",
       "      <td>2019-08-30</td>\n",
       "      <td>B</td>\n",
       "      <td>18198</td>\n",
       "    </tr>\n",
       "    <tr>\n",
       "      <th>958</th>\n",
       "      <td>2019-08-31</td>\n",
       "      <td>A</td>\n",
       "      <td>18736</td>\n",
       "    </tr>\n",
       "    <tr>\n",
       "      <th>930</th>\n",
       "      <td>2019-08-31</td>\n",
       "      <td>B</td>\n",
       "      <td>18916</td>\n",
       "    </tr>\n",
       "  </tbody>\n",
       "</table>\n",
       "<p>62 rows × 3 columns</p>\n",
       "</div>"
      ],
      "text/plain": [
       "          date group  visitors\n",
       "55  2019-08-01     A       719\n",
       "66  2019-08-01     B       713\n",
       "175 2019-08-02     A      1338\n",
       "173 2019-08-02     B      1294\n",
       "291 2019-08-03     A      1845\n",
       "..         ...   ...       ...\n",
       "496 2019-08-29     B     17708\n",
       "730 2019-08-30     A     18037\n",
       "690 2019-08-30     B     18198\n",
       "958 2019-08-31     A     18736\n",
       "930 2019-08-31     B     18916\n",
       "\n",
       "[62 rows x 3 columns]"
      ]
     },
     "execution_count": 23,
     "metadata": {},
     "output_type": "execute_result"
    }
   ],
   "source": [
    "visitors_aggregated"
   ]
  },
  {
   "cell_type": "code",
   "execution_count": 24,
   "metadata": {},
   "outputs": [
    {
     "data": {
      "text/html": [
       "<div>\n",
       "<style scoped>\n",
       "    .dataframe tbody tr th:only-of-type {\n",
       "        vertical-align: middle;\n",
       "    }\n",
       "\n",
       "    .dataframe tbody tr th {\n",
       "        vertical-align: top;\n",
       "    }\n",
       "\n",
       "    .dataframe thead th {\n",
       "        text-align: right;\n",
       "    }\n",
       "</style>\n",
       "<table border=\"1\" class=\"dataframe\">\n",
       "  <thead>\n",
       "    <tr style=\"text-align: right;\">\n",
       "      <th></th>\n",
       "      <th>date</th>\n",
       "      <th>group</th>\n",
       "      <th>transaction_id</th>\n",
       "      <th>visitor_id</th>\n",
       "      <th>revenue</th>\n",
       "      <th>visitors</th>\n",
       "    </tr>\n",
       "  </thead>\n",
       "  <tbody>\n",
       "    <tr>\n",
       "      <th>0</th>\n",
       "      <td>2019-08-01</td>\n",
       "      <td>A</td>\n",
       "      <td>24</td>\n",
       "      <td>20</td>\n",
       "      <td>148579</td>\n",
       "      <td>719</td>\n",
       "    </tr>\n",
       "    <tr>\n",
       "      <th>1</th>\n",
       "      <td>2019-08-01</td>\n",
       "      <td>B</td>\n",
       "      <td>21</td>\n",
       "      <td>20</td>\n",
       "      <td>101217</td>\n",
       "      <td>713</td>\n",
       "    </tr>\n",
       "    <tr>\n",
       "      <th>2</th>\n",
       "      <td>2019-08-02</td>\n",
       "      <td>A</td>\n",
       "      <td>44</td>\n",
       "      <td>38</td>\n",
       "      <td>242401</td>\n",
       "      <td>1338</td>\n",
       "    </tr>\n",
       "    <tr>\n",
       "      <th>3</th>\n",
       "      <td>2019-08-02</td>\n",
       "      <td>B</td>\n",
       "      <td>45</td>\n",
       "      <td>43</td>\n",
       "      <td>266748</td>\n",
       "      <td>1294</td>\n",
       "    </tr>\n",
       "    <tr>\n",
       "      <th>4</th>\n",
       "      <td>2019-08-03</td>\n",
       "      <td>A</td>\n",
       "      <td>68</td>\n",
       "      <td>62</td>\n",
       "      <td>354874</td>\n",
       "      <td>1845</td>\n",
       "    </tr>\n",
       "    <tr>\n",
       "      <th>...</th>\n",
       "      <td>...</td>\n",
       "      <td>...</td>\n",
       "      <td>...</td>\n",
       "      <td>...</td>\n",
       "      <td>...</td>\n",
       "      <td>...</td>\n",
       "    </tr>\n",
       "    <tr>\n",
       "      <th>57</th>\n",
       "      <td>2019-08-29</td>\n",
       "      <td>B</td>\n",
       "      <td>596</td>\n",
       "      <td>544</td>\n",
       "      <td>5559398</td>\n",
       "      <td>17708</td>\n",
       "    </tr>\n",
       "    <tr>\n",
       "      <th>58</th>\n",
       "      <td>2019-08-30</td>\n",
       "      <td>A</td>\n",
       "      <td>545</td>\n",
       "      <td>493</td>\n",
       "      <td>4022970</td>\n",
       "      <td>18037</td>\n",
       "    </tr>\n",
       "    <tr>\n",
       "      <th>59</th>\n",
       "      <td>2019-08-30</td>\n",
       "      <td>B</td>\n",
       "      <td>620</td>\n",
       "      <td>567</td>\n",
       "      <td>5774631</td>\n",
       "      <td>18198</td>\n",
       "    </tr>\n",
       "    <tr>\n",
       "      <th>60</th>\n",
       "      <td>2019-08-31</td>\n",
       "      <td>A</td>\n",
       "      <td>557</td>\n",
       "      <td>503</td>\n",
       "      <td>4084803</td>\n",
       "      <td>18736</td>\n",
       "    </tr>\n",
       "    <tr>\n",
       "      <th>61</th>\n",
       "      <td>2019-08-31</td>\n",
       "      <td>B</td>\n",
       "      <td>640</td>\n",
       "      <td>586</td>\n",
       "      <td>5907760</td>\n",
       "      <td>18916</td>\n",
       "    </tr>\n",
       "  </tbody>\n",
       "</table>\n",
       "<p>62 rows × 6 columns</p>\n",
       "</div>"
      ],
      "text/plain": [
       "         date group  transaction_id  visitor_id  revenue  visitors\n",
       "0  2019-08-01     A              24          20   148579       719\n",
       "1  2019-08-01     B              21          20   101217       713\n",
       "2  2019-08-02     A              44          38   242401      1338\n",
       "3  2019-08-02     B              45          43   266748      1294\n",
       "4  2019-08-03     A              68          62   354874      1845\n",
       "..        ...   ...             ...         ...      ...       ...\n",
       "57 2019-08-29     B             596         544  5559398     17708\n",
       "58 2019-08-30     A             545         493  4022970     18037\n",
       "59 2019-08-30     B             620         567  5774631     18198\n",
       "60 2019-08-31     A             557         503  4084803     18736\n",
       "61 2019-08-31     B             640         586  5907760     18916\n",
       "\n",
       "[62 rows x 6 columns]"
      ]
     },
     "execution_count": 24,
     "metadata": {},
     "output_type": "execute_result"
    }
   ],
   "source": [
    "# Объединим таблицы\n",
    "cumulativeData = orders_aggregated.merge(visitors_aggregated, left_on=['date', 'group'], right_on=['date', 'group'])\n",
    "\n",
    "cumulativeData"
   ]
  },
  {
   "cell_type": "markdown",
   "metadata": {},
   "source": [
    "Разделим данные на группы"
   ]
  },
  {
   "cell_type": "code",
   "execution_count": 25,
   "metadata": {},
   "outputs": [
    {
     "data": {
      "text/html": [
       "<div>\n",
       "<style scoped>\n",
       "    .dataframe tbody tr th:only-of-type {\n",
       "        vertical-align: middle;\n",
       "    }\n",
       "\n",
       "    .dataframe tbody tr th {\n",
       "        vertical-align: top;\n",
       "    }\n",
       "\n",
       "    .dataframe thead th {\n",
       "        text-align: right;\n",
       "    }\n",
       "</style>\n",
       "<table border=\"1\" class=\"dataframe\">\n",
       "  <thead>\n",
       "    <tr style=\"text-align: right;\">\n",
       "      <th></th>\n",
       "      <th>date</th>\n",
       "      <th>group</th>\n",
       "      <th>transaction_id</th>\n",
       "      <th>visitor_id</th>\n",
       "      <th>revenue</th>\n",
       "      <th>visitors</th>\n",
       "    </tr>\n",
       "  </thead>\n",
       "  <tbody>\n",
       "    <tr>\n",
       "      <th>0</th>\n",
       "      <td>2019-08-01</td>\n",
       "      <td>A</td>\n",
       "      <td>24</td>\n",
       "      <td>20</td>\n",
       "      <td>148579</td>\n",
       "      <td>719</td>\n",
       "    </tr>\n",
       "    <tr>\n",
       "      <th>2</th>\n",
       "      <td>2019-08-02</td>\n",
       "      <td>A</td>\n",
       "      <td>44</td>\n",
       "      <td>38</td>\n",
       "      <td>242401</td>\n",
       "      <td>1338</td>\n",
       "    </tr>\n",
       "    <tr>\n",
       "      <th>4</th>\n",
       "      <td>2019-08-03</td>\n",
       "      <td>A</td>\n",
       "      <td>68</td>\n",
       "      <td>62</td>\n",
       "      <td>354874</td>\n",
       "      <td>1845</td>\n",
       "    </tr>\n",
       "    <tr>\n",
       "      <th>6</th>\n",
       "      <td>2019-08-04</td>\n",
       "      <td>A</td>\n",
       "      <td>84</td>\n",
       "      <td>77</td>\n",
       "      <td>425699</td>\n",
       "      <td>2562</td>\n",
       "    </tr>\n",
       "    <tr>\n",
       "      <th>8</th>\n",
       "      <td>2019-08-05</td>\n",
       "      <td>A</td>\n",
       "      <td>109</td>\n",
       "      <td>100</td>\n",
       "      <td>549917</td>\n",
       "      <td>3318</td>\n",
       "    </tr>\n",
       "    <tr>\n",
       "      <th>10</th>\n",
       "      <td>2019-08-06</td>\n",
       "      <td>A</td>\n",
       "      <td>127</td>\n",
       "      <td>114</td>\n",
       "      <td>598401</td>\n",
       "      <td>3985</td>\n",
       "    </tr>\n",
       "    <tr>\n",
       "      <th>12</th>\n",
       "      <td>2019-08-07</td>\n",
       "      <td>A</td>\n",
       "      <td>145</td>\n",
       "      <td>131</td>\n",
       "      <td>740818</td>\n",
       "      <td>4629</td>\n",
       "    </tr>\n",
       "    <tr>\n",
       "      <th>14</th>\n",
       "      <td>2019-08-08</td>\n",
       "      <td>A</td>\n",
       "      <td>161</td>\n",
       "      <td>146</td>\n",
       "      <td>837097</td>\n",
       "      <td>5239</td>\n",
       "    </tr>\n",
       "    <tr>\n",
       "      <th>16</th>\n",
       "      <td>2019-08-09</td>\n",
       "      <td>A</td>\n",
       "      <td>177</td>\n",
       "      <td>159</td>\n",
       "      <td>1025603</td>\n",
       "      <td>5856</td>\n",
       "    </tr>\n",
       "    <tr>\n",
       "      <th>18</th>\n",
       "      <td>2019-08-10</td>\n",
       "      <td>A</td>\n",
       "      <td>193</td>\n",
       "      <td>175</td>\n",
       "      <td>1236098</td>\n",
       "      <td>6262</td>\n",
       "    </tr>\n",
       "    <tr>\n",
       "      <th>20</th>\n",
       "      <td>2019-08-11</td>\n",
       "      <td>A</td>\n",
       "      <td>206</td>\n",
       "      <td>187</td>\n",
       "      <td>1313683</td>\n",
       "      <td>6980</td>\n",
       "    </tr>\n",
       "    <tr>\n",
       "      <th>22</th>\n",
       "      <td>2019-08-12</td>\n",
       "      <td>A</td>\n",
       "      <td>230</td>\n",
       "      <td>210</td>\n",
       "      <td>1562873</td>\n",
       "      <td>7575</td>\n",
       "    </tr>\n",
       "    <tr>\n",
       "      <th>24</th>\n",
       "      <td>2019-08-13</td>\n",
       "      <td>A</td>\n",
       "      <td>244</td>\n",
       "      <td>223</td>\n",
       "      <td>1826511</td>\n",
       "      <td>8323</td>\n",
       "    </tr>\n",
       "    <tr>\n",
       "      <th>26</th>\n",
       "      <td>2019-08-14</td>\n",
       "      <td>A</td>\n",
       "      <td>268</td>\n",
       "      <td>247</td>\n",
       "      <td>1890852</td>\n",
       "      <td>9058</td>\n",
       "    </tr>\n",
       "    <tr>\n",
       "      <th>28</th>\n",
       "      <td>2019-08-15</td>\n",
       "      <td>A</td>\n",
       "      <td>283</td>\n",
       "      <td>259</td>\n",
       "      <td>1979057</td>\n",
       "      <td>9686</td>\n",
       "    </tr>\n",
       "    <tr>\n",
       "      <th>30</th>\n",
       "      <td>2019-08-16</td>\n",
       "      <td>A</td>\n",
       "      <td>301</td>\n",
       "      <td>277</td>\n",
       "      <td>2078908</td>\n",
       "      <td>10047</td>\n",
       "    </tr>\n",
       "    <tr>\n",
       "      <th>32</th>\n",
       "      <td>2019-08-17</td>\n",
       "      <td>A</td>\n",
       "      <td>311</td>\n",
       "      <td>283</td>\n",
       "      <td>2129769</td>\n",
       "      <td>10459</td>\n",
       "    </tr>\n",
       "    <tr>\n",
       "      <th>34</th>\n",
       "      <td>2019-08-18</td>\n",
       "      <td>A</td>\n",
       "      <td>328</td>\n",
       "      <td>300</td>\n",
       "      <td>2202167</td>\n",
       "      <td>11127</td>\n",
       "    </tr>\n",
       "    <tr>\n",
       "      <th>36</th>\n",
       "      <td>2019-08-19</td>\n",
       "      <td>A</td>\n",
       "      <td>350</td>\n",
       "      <td>320</td>\n",
       "      <td>2391910</td>\n",
       "      <td>11629</td>\n",
       "    </tr>\n",
       "    <tr>\n",
       "      <th>38</th>\n",
       "      <td>2019-08-20</td>\n",
       "      <td>A</td>\n",
       "      <td>362</td>\n",
       "      <td>330</td>\n",
       "      <td>2469529</td>\n",
       "      <td>12204</td>\n",
       "    </tr>\n",
       "    <tr>\n",
       "      <th>40</th>\n",
       "      <td>2019-08-21</td>\n",
       "      <td>A</td>\n",
       "      <td>385</td>\n",
       "      <td>350</td>\n",
       "      <td>2643838</td>\n",
       "      <td>12850</td>\n",
       "    </tr>\n",
       "    <tr>\n",
       "      <th>42</th>\n",
       "      <td>2019-08-22</td>\n",
       "      <td>A</td>\n",
       "      <td>401</td>\n",
       "      <td>361</td>\n",
       "      <td>2756579</td>\n",
       "      <td>13459</td>\n",
       "    </tr>\n",
       "    <tr>\n",
       "      <th>44</th>\n",
       "      <td>2019-08-23</td>\n",
       "      <td>A</td>\n",
       "      <td>426</td>\n",
       "      <td>385</td>\n",
       "      <td>2874367</td>\n",
       "      <td>13927</td>\n",
       "    </tr>\n",
       "    <tr>\n",
       "      <th>46</th>\n",
       "      <td>2019-08-24</td>\n",
       "      <td>A</td>\n",
       "      <td>441</td>\n",
       "      <td>400</td>\n",
       "      <td>3002070</td>\n",
       "      <td>14322</td>\n",
       "    </tr>\n",
       "    <tr>\n",
       "      <th>48</th>\n",
       "      <td>2019-08-25</td>\n",
       "      <td>A</td>\n",
       "      <td>451</td>\n",
       "      <td>409</td>\n",
       "      <td>3070704</td>\n",
       "      <td>14943</td>\n",
       "    </tr>\n",
       "    <tr>\n",
       "      <th>50</th>\n",
       "      <td>2019-08-26</td>\n",
       "      <td>A</td>\n",
       "      <td>467</td>\n",
       "      <td>425</td>\n",
       "      <td>3227918</td>\n",
       "      <td>15665</td>\n",
       "    </tr>\n",
       "    <tr>\n",
       "      <th>52</th>\n",
       "      <td>2019-08-27</td>\n",
       "      <td>A</td>\n",
       "      <td>495</td>\n",
       "      <td>449</td>\n",
       "      <td>3514698</td>\n",
       "      <td>16376</td>\n",
       "    </tr>\n",
       "    <tr>\n",
       "      <th>54</th>\n",
       "      <td>2019-08-28</td>\n",
       "      <td>A</td>\n",
       "      <td>512</td>\n",
       "      <td>464</td>\n",
       "      <td>3615820</td>\n",
       "      <td>16970</td>\n",
       "    </tr>\n",
       "    <tr>\n",
       "      <th>56</th>\n",
       "      <td>2019-08-29</td>\n",
       "      <td>A</td>\n",
       "      <td>534</td>\n",
       "      <td>484</td>\n",
       "      <td>3936510</td>\n",
       "      <td>17547</td>\n",
       "    </tr>\n",
       "    <tr>\n",
       "      <th>58</th>\n",
       "      <td>2019-08-30</td>\n",
       "      <td>A</td>\n",
       "      <td>545</td>\n",
       "      <td>493</td>\n",
       "      <td>4022970</td>\n",
       "      <td>18037</td>\n",
       "    </tr>\n",
       "    <tr>\n",
       "      <th>60</th>\n",
       "      <td>2019-08-31</td>\n",
       "      <td>A</td>\n",
       "      <td>557</td>\n",
       "      <td>503</td>\n",
       "      <td>4084803</td>\n",
       "      <td>18736</td>\n",
       "    </tr>\n",
       "  </tbody>\n",
       "</table>\n",
       "</div>"
      ],
      "text/plain": [
       "         date group  transaction_id  visitor_id  revenue  visitors\n",
       "0  2019-08-01     A              24          20   148579       719\n",
       "2  2019-08-02     A              44          38   242401      1338\n",
       "4  2019-08-03     A              68          62   354874      1845\n",
       "6  2019-08-04     A              84          77   425699      2562\n",
       "8  2019-08-05     A             109         100   549917      3318\n",
       "10 2019-08-06     A             127         114   598401      3985\n",
       "12 2019-08-07     A             145         131   740818      4629\n",
       "14 2019-08-08     A             161         146   837097      5239\n",
       "16 2019-08-09     A             177         159  1025603      5856\n",
       "18 2019-08-10     A             193         175  1236098      6262\n",
       "20 2019-08-11     A             206         187  1313683      6980\n",
       "22 2019-08-12     A             230         210  1562873      7575\n",
       "24 2019-08-13     A             244         223  1826511      8323\n",
       "26 2019-08-14     A             268         247  1890852      9058\n",
       "28 2019-08-15     A             283         259  1979057      9686\n",
       "30 2019-08-16     A             301         277  2078908     10047\n",
       "32 2019-08-17     A             311         283  2129769     10459\n",
       "34 2019-08-18     A             328         300  2202167     11127\n",
       "36 2019-08-19     A             350         320  2391910     11629\n",
       "38 2019-08-20     A             362         330  2469529     12204\n",
       "40 2019-08-21     A             385         350  2643838     12850\n",
       "42 2019-08-22     A             401         361  2756579     13459\n",
       "44 2019-08-23     A             426         385  2874367     13927\n",
       "46 2019-08-24     A             441         400  3002070     14322\n",
       "48 2019-08-25     A             451         409  3070704     14943\n",
       "50 2019-08-26     A             467         425  3227918     15665\n",
       "52 2019-08-27     A             495         449  3514698     16376\n",
       "54 2019-08-28     A             512         464  3615820     16970\n",
       "56 2019-08-29     A             534         484  3936510     17547\n",
       "58 2019-08-30     A             545         493  4022970     18037\n",
       "60 2019-08-31     A             557         503  4084803     18736"
      ]
     },
     "execution_count": 25,
     "metadata": {},
     "output_type": "execute_result"
    }
   ],
   "source": [
    "cumulativeA = cumulativeData[cumulativeData['group']=='A']\n",
    "\n",
    "cumulativeB = cumulativeData[cumulativeData['group']=='B']\n",
    "\n",
    "cumulativeA"
   ]
  },
  {
   "cell_type": "markdown",
   "metadata": {},
   "source": [
    "В результате мы получили 2 датафрейма для групп A и B, соответственно, с рассчитанными кумулятивными метриками в каждом из них"
   ]
  },
  {
   "cell_type": "markdown",
   "metadata": {},
   "source": [
    "### Постройте график кумулятивной выручки по группам. Сделайте выводы и предположения."
   ]
  },
  {
   "cell_type": "code",
   "execution_count": 49,
   "metadata": {},
   "outputs": [
    {
     "data": {
      "image/png": "[encoded data removed]",
      "text/plain": [
       "<Figure size 720x720 with 1 Axes>"
      ]
     },
     "metadata": {
      "needs_background": "light"
     },
     "output_type": "display_data"
    }
   ],
   "source": [
    "from matplotlib.pyplot import figure\n",
    "\n",
    "figure(figsize=(10, 10))\n",
    "\n",
    "plt.plot(cumulativeA['date'], cumulativeA['revenue'], label='A')\n",
    "\n",
    "plt.plot(cumulativeB['date'], cumulativeB['revenue'], label='B')\n",
    "\n",
    "plt.title('График кумулятивной выручки по группам')\n",
    "plt.xlabel('Дата')\n",
    "plt.ylabel('Выручка')\n",
    "plt.xticks(rotation=45)\n",
    "plt.legend();"
   ]
  },
  {
   "cell_type": "markdown",
   "metadata": {},
   "source": [
    "Вывод по разделу: По графику видно, что изначально выручка группы B незначительно выше, но с середины резко возрастает и разрыв между группами становится ещё более значительным.\n",
    "\n",
    "Возможно, подобное изменение произошло из-за крупных заказов, сделанных в тот период"
   ]
  },
  {
   "cell_type": "markdown",
   "metadata": {},
   "source": [
    "### Постройте график кумулятивного среднего чека по группам. Сделайте выводы и предположения."
   ]
  },
  {
   "cell_type": "code",
   "execution_count": 50,
   "metadata": {},
   "outputs": [
    {
     "data": {
      "image/png": "[encoded data removed]",
      "text/plain": [
       "<Figure size 720x720 with 1 Axes>"
      ]
     },
     "metadata": {
      "needs_background": "light"
     },
     "output_type": "display_data"
    }
   ],
   "source": [
    "figure(figsize=(10, 10))\n",
    "\n",
    "plt.plot(cumulativeA['date'], cumulativeA['revenue']/cumulativeA['transaction_id'], label='A')\n",
    "\n",
    "plt.plot(cumulativeB['date'], cumulativeB['revenue']/cumulativeB['transaction_id'], label='B')\n",
    "\n",
    "plt.title('График кумулятивного среднего чека по группам')\n",
    "plt.xlabel('Дата')\n",
    "plt.ylabel('Средний чек')\n",
    "plt.xticks(rotation=45)\n",
    "plt.legend();"
   ]
  },
  {
   "cell_type": "markdown",
   "metadata": {},
   "source": [
    "Вывод по разделу: В целом, по среднему чеку, так же, как и по выручке, доминирует группа B, но период с 11 по 15 августа мы видим, что средний чек у группы B был ниже значений группы А, но затем резко возрос, что подтверждает то, что в группе B в период с 18-20 августа была совершена крупная покупка, которая значительно увелечила размер среднего чека"
   ]
  },
  {
   "cell_type": "markdown",
   "metadata": {},
   "source": [
    "### Постройте график относительного изменения кумулятивного среднего чека группы B к группе A. Сделайте выводы и предположения."
   ]
  },
  {
   "cell_type": "code",
   "execution_count": 51,
   "metadata": {},
   "outputs": [
    {
     "data": {
      "image/png": "[encoded data removed]",
      "text/plain": [
       "<Figure size 720x720 with 1 Axes>"
      ]
     },
     "metadata": {
      "needs_background": "light"
     },
     "output_type": "display_data"
    }
   ],
   "source": [
    "cumulativeDataMerged = cumulativeA.merge(cumulativeB, left_on='date', right_on='date', how='left', suffixes=['A', 'B'])\n",
    "\n",
    "figure(figsize=(10, 10))\n",
    "\n",
    "plt.plot(cumulativeDataMerged['date'], (cumulativeDataMerged['revenueB']/cumulativeDataMerged['transaction_idB'])/(cumulativeDataMerged['revenueA']/cumulativeDataMerged['transaction_idA'])-1)\n",
    "\n",
    "plt.title('График относительного изменения кумулятивного среднего чека')\n",
    "plt.xlabel('Дата')\n",
    "plt.xticks(rotation=45)\n",
    "plt.axhline(y=0, color='black', linestyle='--');"
   ]
  },
  {
   "cell_type": "markdown",
   "metadata": {},
   "source": [
    "Вывод по разделу: Данный график подтверждает то, что показатели группы В по среднему чеку превосходят показатели группы А, но в то же время, данные показатели у группы В нестабильны, так как в период с 8 по 13 авугста был резкий спад, а потом такой же резкий рост до 20 августа. Вероятно, дело в \"аномальных\" значениях в обеих группах."
   ]
  },
  {
   "cell_type": "markdown",
   "metadata": {},
   "source": [
    "### Постройте график кумулятивного среднего количества заказов на посетителя по группам. Сделайте выводы и предположения."
   ]
  },
  {
   "cell_type": "code",
   "execution_count": 52,
   "metadata": {},
   "outputs": [
    {
     "data": {
      "image/png": "[encoded data removed]",
      "text/plain": [
       "<Figure size 720x720 with 1 Axes>"
      ]
     },
     "metadata": {
      "needs_background": "light"
     },
     "output_type": "display_data"
    }
   ],
   "source": [
    "figure(figsize=(10, 10))\n",
    "\n",
    "plt.plot(cumulativeA['date'], cumulativeA['transaction_id']/cumulativeA['visitors'], label='A')\n",
    "\n",
    "plt.plot(cumulativeB['date'], cumulativeB['transaction_id']/cumulativeB['visitors'], label='B')\n",
    "\n",
    "plt.title('График кумулятивного среднего кол-ва заказов по группам')\n",
    "plt.xlabel('Дата')\n",
    "plt.ylabel('Среднее кол-во заказов')\n",
    "plt.xticks(rotation=45)\n",
    "plt.legend();"
   ]
  },
  {
   "cell_type": "markdown",
   "metadata": {},
   "source": [
    "Вывод по разделу: По графику кумулятивного среднего количества заказов вновь видно превосоходство группы В, начиная ~ с 6 августа. Среднее кол-во заказов у группы А значительно ниже, чем у группы B и продолжает снижаться"
   ]
  },
  {
   "cell_type": "markdown",
   "metadata": {},
   "source": [
    "### Постройте график относительного изменения кумулятивного среднего количества заказов на посетителя группы B к группе A. Сделайте выводы и предположения."
   ]
  },
  {
   "cell_type": "code",
   "execution_count": 53,
   "metadata": {},
   "outputs": [
    {
     "data": {
      "image/png": "[encoded data removed]",
      "text/plain": [
       "<Figure size 720x720 with 1 Axes>"
      ]
     },
     "metadata": {
      "needs_background": "light"
     },
     "output_type": "display_data"
    }
   ],
   "source": [
    "figure(figsize=(10, 10))\n",
    "\n",
    "plt.plot(cumulativeDataMerged['date'], (cumulativeDataMerged['transaction_idB']/cumulativeDataMerged['visitorsB'])/(cumulativeDataMerged['transaction_idA']/cumulativeDataMerged['visitorsA'])-1)\n",
    "\n",
    "plt.title('График относительного изменения кумулятивного среднего чека')\n",
    "plt.xlabel('Дата')\n",
    "plt.xticks(rotation=45)\n",
    "\n",
    "plt.axhline(y=0, color='black', linestyle='--');\n",
    "plt.axhline(y=0.10, color='black', linestyle='--');"
   ]
  },
  {
   "cell_type": "markdown",
   "metadata": {},
   "source": [
    "Вывод по разделу: График различия конверсии между группами сообщает, что результаты группы B стабильно лучше группы A"
   ]
  },
  {
   "cell_type": "markdown",
   "metadata": {},
   "source": [
    "### Постройте точечный график количества заказов по пользователям. Сделайте выводы и предположения."
   ]
  },
  {
   "cell_type": "code",
   "execution_count": 31,
   "metadata": {},
   "outputs": [
    {
     "data": {
      "text/html": [
       "<div>\n",
       "<style scoped>\n",
       "    .dataframe tbody tr th:only-of-type {\n",
       "        vertical-align: middle;\n",
       "    }\n",
       "\n",
       "    .dataframe tbody tr th {\n",
       "        vertical-align: top;\n",
       "    }\n",
       "\n",
       "    .dataframe thead th {\n",
       "        text-align: right;\n",
       "    }\n",
       "</style>\n",
       "<table border=\"1\" class=\"dataframe\">\n",
       "  <thead>\n",
       "    <tr style=\"text-align: right;\">\n",
       "      <th></th>\n",
       "      <th>visitor_id</th>\n",
       "      <th>transaction_id</th>\n",
       "    </tr>\n",
       "  </thead>\n",
       "  <tbody>\n",
       "    <tr>\n",
       "      <th>0</th>\n",
       "      <td>8300375</td>\n",
       "      <td>1</td>\n",
       "    </tr>\n",
       "    <tr>\n",
       "      <th>1</th>\n",
       "      <td>11685486</td>\n",
       "      <td>1</td>\n",
       "    </tr>\n",
       "    <tr>\n",
       "      <th>2</th>\n",
       "      <td>54447517</td>\n",
       "      <td>1</td>\n",
       "    </tr>\n",
       "    <tr>\n",
       "      <th>3</th>\n",
       "      <td>66685450</td>\n",
       "      <td>1</td>\n",
       "    </tr>\n",
       "    <tr>\n",
       "      <th>4</th>\n",
       "      <td>78758296</td>\n",
       "      <td>1</td>\n",
       "    </tr>\n",
       "  </tbody>\n",
       "</table>\n",
       "</div>"
      ],
      "text/plain": [
       "   visitor_id  transaction_id\n",
       "0     8300375               1\n",
       "1    11685486               1\n",
       "2    54447517               1\n",
       "3    66685450               1\n",
       "4    78758296               1"
      ]
     },
     "execution_count": 31,
     "metadata": {},
     "output_type": "execute_result"
    }
   ],
   "source": [
    "orders_by_userA = orders[orders['group']=='A']\\\n",
    "                 .groupby('visitor_id', as_index=False)['transaction_id'].count()\n",
    "\n",
    "orders_by_userB = orders[orders['group']=='B']\\\n",
    "                  .groupby('visitor_id', as_index=False)['transaction_id'].count()\n",
    "\n",
    "orders_by_userA.head(5)"
   ]
  },
  {
   "cell_type": "code",
   "execution_count": 32,
   "metadata": {},
   "outputs": [
    {
     "data": {
      "image/png": "[encoded data removed]",
      "text/plain": [
       "<Figure size 1080x720 with 2 Axes>"
      ]
     },
     "metadata": {
      "needs_background": "light"
     },
     "output_type": "display_data"
    }
   ],
   "source": [
    "figure(figsize=(15, 10))\n",
    "\n",
    "x_values = pd.Series(range(0,len(orders_by_userA)))\n",
    "plt.subplot(1,2,1)\n",
    "plt.title('Точечный график для группы А')\n",
    "plt.scatter(x_values, orders_by_userA['transaction_id'])\n",
    "\n",
    "x_values = pd.Series(range(0,len(orders_by_userB)))\n",
    "plt.subplot(1,2,2)\n",
    "plt.title('Точечный график для группы B')\n",
    "plt.scatter(x_values, orders_by_userB['transaction_id'])\n",
    "\n",
    "plt.show()"
   ]
  },
  {
   "cell_type": "code",
   "execution_count": 33,
   "metadata": {},
   "outputs": [
    {
     "data": {
      "image/png": "[encoded data removed]",
      "text/plain": [
       "<Figure size 1080x720 with 2 Axes>"
      ]
     },
     "metadata": {
      "needs_background": "light"
     },
     "output_type": "display_data"
    }
   ],
   "source": [
    "figure(figsize=(15, 10))\n",
    "plt.subplot(1,2,1)\n",
    "plt.hist(orders_by_userA['transaction_id'])\n",
    "plt.title('Количество заказов группы А')\n",
    "plt.subplot(1,2,2)\n",
    "plt.hist(orders_by_userB['transaction_id'])\n",
    "plt.title('Количество заказов группы В');"
   ]
  },
  {
   "cell_type": "markdown",
   "metadata": {},
   "source": [
    "Вывод по разделу: По данным графикам видно, что подавляющее большинство пользователей в обеих группах делают 1 заказ, примерно 5-7% от общего числа делают 2+ заказа"
   ]
  },
  {
   "cell_type": "markdown",
   "metadata": {},
   "source": [
    "### Посчитайте 95-й и 99-й перцентили количества заказов на пользователя. Выберите границу для определения аномальных пользователей."
   ]
  },
  {
   "cell_type": "code",
   "execution_count": 34,
   "metadata": {},
   "outputs": [
    {
     "name": "stdout",
     "output_type": "stream",
     "text": [
      "[2.   3.98]\n"
     ]
    }
   ],
   "source": [
    "print(np.percentile(orders_by_userA['transaction_id'], [95, 99]))"
   ]
  },
  {
   "cell_type": "markdown",
   "metadata": {},
   "source": [
    "Не более 5% пользователей в группе А сделали 2 заказа и всего не более 1% сделали ~4 заказа"
   ]
  },
  {
   "cell_type": "code",
   "execution_count": 35,
   "metadata": {},
   "outputs": [
    {
     "name": "stdout",
     "output_type": "stream",
     "text": [
      "[2.   3.15]\n"
     ]
    }
   ],
   "source": [
    "print(np.percentile(orders_by_userB['transaction_id'], [95, 99]))"
   ]
  },
  {
   "cell_type": "markdown",
   "metadata": {},
   "source": [
    "В группе В не более 5% клиентов, которые оформили более 2 заказов, и не более 1% оформивших более 3 заказов"
   ]
  },
  {
   "cell_type": "markdown",
   "metadata": {},
   "source": [
    "Вывод по разделу: \n",
    "\n",
    "95-й и 99-й перцентили количества заказов на одного пользователя соответственно:\n",
    "\n",
    "    - для группы А: 2 и 3.98 заказа на пользователя\n",
    "    - для группы В: 2 и 3.15 заказа на пользователя"
   ]
  },
  {
   "cell_type": "markdown",
   "metadata": {},
   "source": [
    "### Постройте точечный график стоимостей заказов. Сделайте выводы и предположения."
   ]
  },
  {
   "cell_type": "code",
   "execution_count": 36,
   "metadata": {},
   "outputs": [
    {
     "data": {
      "image/png": "[encoded data removed]",
      "text/plain": [
       "<Figure size 1080x720 with 2 Axes>"
      ]
     },
     "metadata": {
      "needs_background": "light"
     },
     "output_type": "display_data"
    }
   ],
   "source": [
    "revenue_by_orderA = orders.query('group == \"A\"')['revenue']\n",
    "revenue_by_orderB = orders.query('group == \"B\"')['revenue']\n",
    "\n",
    "figure(figsize=(15, 10))\n",
    "\n",
    "x_values = pd.Series(range(0,len(revenue_by_orderA)))\n",
    "plt.subplot(1,2,1)\n",
    "plt.title('Точечный график для группы A')\n",
    "plt.scatter(x_values, revenue_by_orderA)\n",
    "plt.ylim(0,1350000)\n",
    "\n",
    "x_values = pd.Series(range(0,len(revenue_by_orderB)))\n",
    "plt.subplot(1,2,2)\n",
    "plt.title('Точечный график для группы B')\n",
    "plt.scatter(x_values, revenue_by_orderB)\n",
    "plt.ylim(0,1350000)\n",
    "\n",
    "plt.show()"
   ]
  },
  {
   "cell_type": "code",
   "execution_count": 37,
   "metadata": {},
   "outputs": [
    {
     "data": {
      "image/png": "[encoded data removed]",
      "text/plain": [
       "<Figure size 1080x720 with 2 Axes>"
      ]
     },
     "metadata": {
      "needs_background": "light"
     },
     "output_type": "display_data"
    }
   ],
   "source": [
    "figure(figsize=(15, 10))\n",
    "plt.subplot(1,2,1)\n",
    "plt.hist(revenue_by_orderA)\n",
    "plt.title('График стоимостей заказов для группы А')\n",
    "plt.xlabel('Cумма')\n",
    "plt.ylabel('Количество')\n",
    "plt.subplot(1,2,2)\n",
    "plt.hist(revenue_by_orderB)\n",
    "plt.title('График стоимостей заказов для группы В')\n",
    "plt.xlabel('Cумма')\n",
    "plt.ylabel('Количество');"
   ]
  },
  {
   "cell_type": "markdown",
   "metadata": {},
   "source": [
    "Вывод по разделу: В целом, группы похожи. У пользоватеелй обеих групп стоимость заказа в среднеи не превышает 10 тысяч, но у группы В есть заказ и на 1.2 млн, что значительно выше всех остальных, видимо, именно данный заказ и был сделан в период с 18-20 августа и значительно повлиял на график"
   ]
  },
  {
   "cell_type": "markdown",
   "metadata": {},
   "source": [
    "###  Посчитайте 95-й и 99-й перцентили стоимости заказов. Выберите границу для определения аномальных заказов."
   ]
  },
  {
   "cell_type": "code",
   "execution_count": 38,
   "metadata": {},
   "outputs": [
    {
     "name": "stdout",
     "output_type": "stream",
     "text": [
      "[26718.  62764.4]\n"
     ]
    }
   ],
   "source": [
    "print(np.percentile(revenue_by_orderA, [95, 99]))"
   ]
  },
  {
   "cell_type": "markdown",
   "metadata": {},
   "source": [
    "В группе А не более 5% клиентов, которые оформили заказ на более чем 26718, и не более 1% оформивших  заказ на более чем 62764.4"
   ]
  },
  {
   "cell_type": "code",
   "execution_count": 39,
   "metadata": {},
   "outputs": [
    {
     "name": "stdout",
     "output_type": "stream",
     "text": [
      "[28787.45 55579.06]\n"
     ]
    }
   ],
   "source": [
    "print(np.percentile(revenue_by_orderB, [95, 99]))"
   ]
  },
  {
   "cell_type": "markdown",
   "metadata": {},
   "source": [
    "В группе В не более 5% клиентов, которые оформили заказ на более чем 28787, и не более 1% оформивших  заказ на более чем 55579"
   ]
  },
  {
   "cell_type": "markdown",
   "metadata": {},
   "source": [
    "Вывод по разделу:\n",
    "\n",
    "Найденные нами 95-й и 99-й перцентили средних чеков равны:\n",
    "\n",
    "    - для группы А: 26718 и 62764.4 рублей\n",
    "    - для группы В: 28787.45 и 55579.06 рублей"
   ]
  },
  {
   "cell_type": "markdown",
   "metadata": {},
   "source": [
    "### Посчитайте статистическую значимость различий в среднем количестве заказов на посетителя между группами по «сырым» данным. Сделайте выводы и предположения.\n"
   ]
  },
  {
   "cell_type": "code",
   "execution_count": 40,
   "metadata": {},
   "outputs": [],
   "source": [
    "sampleA = pd.concat([\n",
    "                     orders_by_userA['transaction_id'],\n",
    "                     pd.Series(0, index=np.arange(visitors.query('group == \"A\"')['visitors'].sum()\\\n",
    "                     - len(orders_by_userA['transaction_id'])),\n",
    "                     name='order_count')\n",
    "                     ],axis=0)\n",
    "\n",
    "sampleB = pd.concat([\n",
    "                     orders_by_userB['transaction_id'],\n",
    "                     pd.Series(0, index=np.arange(visitors.query('group == \"B\"')['visitors'].sum()\\\n",
    "                     - len(orders_by_userB['transaction_id'])),\n",
    "                     name='order_count')\n",
    "                    ],axis=0)"
   ]
  },
  {
   "cell_type": "code",
   "execution_count": 41,
   "metadata": {},
   "outputs": [
    {
     "data": {
      "text/plain": [
       "0        1\n",
       "1        1\n",
       "2        1\n",
       "3        1\n",
       "4        1\n",
       "        ..\n",
       "18228    0\n",
       "18229    0\n",
       "18230    0\n",
       "18231    0\n",
       "18232    0\n",
       "Length: 18736, dtype: int64"
      ]
     },
     "execution_count": 41,
     "metadata": {},
     "output_type": "execute_result"
    }
   ],
   "source": [
    "sampleA"
   ]
  },
  {
   "cell_type": "markdown",
   "metadata": {},
   "source": [
    "Сформируем нулевую и альтернативные гипотезы:\n",
    "\n",
    "    - H0 - статистически значимых различий в среднем количестве заказов между группами нет\n",
    "    - H1 - статистически значимые различия в среднем количестве заказов между группами есть"
   ]
  },
  {
   "cell_type": "code",
   "execution_count": 42,
   "metadata": {},
   "outputs": [
    {
     "name": "stdout",
     "output_type": "stream",
     "text": [
      "0.017\n",
      "0.138\n"
     ]
    }
   ],
   "source": [
    "print(\"{0:.3f}\".format(st.mannwhitneyu(sampleA, sampleB)[1]))\n",
    "\n",
    "print(\"{0:.3f}\".format(sampleB.mean() / sampleA.mean() - 1))"
   ]
  },
  {
   "cell_type": "markdown",
   "metadata": {},
   "source": [
    "Вывод по разделу: Таким образом, по \"сырым\" данным значение p-value = 0.017 ~ 1,7%, что меньше уровня статистической значимости, следовательно гипотезу о том, что различий в конверсии между группами нет, отвергаем. Относительная разница в конверсии между группами составила 13,8%- на столько конверсия группы В больше конверсии группы А"
   ]
  },
  {
   "cell_type": "markdown",
   "metadata": {},
   "source": [
    "### Посчитайте статистическую значимость различий в среднем чеке заказа между группами по «сырым» данным. Сделайте выводы и предположения. "
   ]
  },
  {
   "cell_type": "markdown",
   "metadata": {},
   "source": [
    "Сформулируем гипотезы:\n",
    "\n",
    "    - Н0 - статистически значимых различий в среднем чеке заказа между группами нет\n",
    "    - Н1 - статистически значимые различия в среднем чеке заказа между группами есть"
   ]
  },
  {
   "cell_type": "code",
   "execution_count": 43,
   "metadata": {},
   "outputs": [
    {
     "name": "stdout",
     "output_type": "stream",
     "text": [
      "0.729\n",
      "0.259\n"
     ]
    }
   ],
   "source": [
    "#тест Манна-Уитни\n",
    "print('{0:.3f}'.format(st.mannwhitneyu(orders[orders['group']=='A']['revenue'], orders[orders['group']=='B']['revenue'], True, 'two-sided')[1]))\n",
    "\n",
    "#относительные различия суммы среднего чека\n",
    "print('{0:.3f}'.format(orders[orders['group']=='B']['revenue'].mean()/orders[orders['group']=='A']['revenue'].mean()-1)) "
   ]
  },
  {
   "cell_type": "markdown",
   "metadata": {},
   "source": [
    "Вывод по разделу: По \"сырым\" данным значение p-value = 0.729, что значительно больше уровня статистической значимости, следовательно гипотезу о том, что различий в сумме среднего чека между группами нет, не отвергаем. Относительная разница суммы среднего чека между группами составила 25.9%- на столько сумма среднего чека группы В больше суммы среднего чека группы А, возможно, такая существенная относительная разница указывает на влияние выбросов на метрику"
   ]
  },
  {
   "cell_type": "markdown",
   "metadata": {},
   "source": [
    "### Посчитайте статистическую значимость различий в среднем количестве заказов на посетителя между группами по «очищенным» данным. Сделайте выводы и предположения."
   ]
  },
  {
   "cell_type": "markdown",
   "metadata": {},
   "source": [
    "За \"аномальных\" пользователей для группы А примем тех, кто совершил больше 2 заказов или тех, кто совершил заказ на сумму больше 27000. Для группы В такими пользователями будут являться те, кто совершил больше 2 заказов или совершил заказ на сумму более 29000\n",
    "\n",
    "Гипотезы:\n",
    "\n",
    "    - Н0 - статистически значимых различий среднем количестве заказов между группами нет\n",
    "    - Н1 - статистически значимые различия среднем количестве заказов между группами есть"
   ]
  },
  {
   "cell_type": "markdown",
   "metadata": {},
   "source": [
    "Для начала узнаем, сколько всего было таких пользователей"
   ]
  },
  {
   "cell_type": "code",
   "execution_count": 44,
   "metadata": {},
   "outputs": [
    {
     "name": "stdout",
     "output_type": "stream",
     "text": [
      "568     113298937\n",
      "1099    148427295\n",
      "18      199603092\n",
      "928     204675465\n",
      "23      237748145\n",
      "Name: visitor_id, dtype: int64\n",
      "Количество аномальных пользователей группы A: 73\n"
     ]
    }
   ],
   "source": [
    "usersWithManyOrdersA = orders_by_userA[orders_by_userA['transaction_id'] > 2]['visitor_id']\n",
    "  \n",
    "usersWithExpensiveOrdersA = orders[orders['revenue'] > 27000]['visitor_id']\n",
    "abnormalUsersA = (\n",
    "    pd.concat([usersWithManyOrdersA, usersWithExpensiveOrdersA], axis=0)\n",
    "    .drop_duplicates()\n",
    "    .sort_values()\n",
    ")\n",
    "print(abnormalUsersA.head(5))\n",
    "print(f'Количество аномальных пользователей группы A: {abnormalUsersA.shape[0]}') "
   ]
  },
  {
   "cell_type": "code",
   "execution_count": 45,
   "metadata": {},
   "outputs": [
    {
     "name": "stdout",
     "output_type": "stream",
     "text": [
      "1099    148427295\n",
      "928     204675465\n",
      "37      249864742\n",
      "684     358944393\n",
      "648     382846391\n",
      "Name: visitor_id, dtype: int64\n",
      "Количество аномальных пользователей группы B: 61\n"
     ]
    }
   ],
   "source": [
    "usersWithManyOrdersB = orders_by_userB[orders_by_userB['transaction_id'] > 2]['visitor_id']\n",
    "  \n",
    "usersWithExpensiveOrdersB = orders[orders['revenue'] > 29000]['visitor_id']\n",
    "abnormalUsersB = (\n",
    "    pd.concat([usersWithManyOrdersB, usersWithExpensiveOrdersB], axis=0)\n",
    "    .drop_duplicates()\n",
    "    .sort_values()\n",
    ")\n",
    "print(abnormalUsersB.head(5))\n",
    "print(f'Количество аномальных пользователей группы B: {abnormalUsersB.shape[0]}') "
   ]
  },
  {
   "cell_type": "code",
   "execution_count": 46,
   "metadata": {},
   "outputs": [],
   "source": [
    "sampleAFiltered = pd.concat(\n",
    "    [\n",
    "        orders_by_userA[\n",
    "            np.logical_not(orders_by_userA['visitor_id'].isin(abnormalUsersA))\n",
    "        ]['transaction_id'],\n",
    "        pd.Series(\n",
    "            0,\n",
    "            index=np.arange(\n",
    "                visitors.query('group == \"A\"')['visitors'].sum() - len(orders_by_userA['transaction_id'])\n",
    "            ),\n",
    "            name='order_count',\n",
    "        ),\n",
    "    ],\n",
    "    axis=0,\n",
    ")\n",
    "\n",
    "sampleBFiltered = pd.concat(\n",
    "    [\n",
    "        orders_by_userB[\n",
    "            np.logical_not(orders_by_userB['visitor_id'].isin(abnormalUsersB))\n",
    "        ]['transaction_id'],\n",
    "        pd.Series(\n",
    "            0,\n",
    "            index=np.arange(\n",
    "                visitors.query('group == \"B\"')['visitors'].sum() - len(orders_by_userB['transaction_id'])\n",
    "            ),\n",
    "            name='order_count',\n",
    "        ),\n",
    "    ],\n",
    "    axis=0,\n",
    ") "
   ]
  },
  {
   "cell_type": "code",
   "execution_count": 47,
   "metadata": {},
   "outputs": [
    {
     "name": "stdout",
     "output_type": "stream",
     "text": [
      "0.009\n",
      "0.185\n"
     ]
    }
   ],
   "source": [
    "print(\"{0:.3f}\".format(st.mannwhitneyu(sampleAFiltered, sampleBFiltered)[1]))\n",
    "\n",
    "print(\"{0:.3f}\".format(sampleBFiltered.mean() / sampleAFiltered.mean() - 1))"
   ]
  },
  {
   "cell_type": "markdown",
   "metadata": {},
   "source": [
    "Вывод по разделу: По \"очищенным\" данным значение p-value = 0.009 ~ 0,9% (против 0,017 по \"сырым\" данным), что меньше уровня статистической значимости, значит нулевую гипотезу мы отвергаем. \n",
    "\n",
    "Относительная разница в конверсии между группами составила 18.5% - на столько конверсия группы В больше конверсии группы А (13.8% по \"сырым\" данным)"
   ]
  },
  {
   "cell_type": "markdown",
   "metadata": {},
   "source": [
    "### Посчитайте статистическую значимость различий в среднем чеке заказа между группами по «очищенным» данным. Сделайте выводы и предположения. "
   ]
  },
  {
   "cell_type": "markdown",
   "metadata": {},
   "source": [
    "Гипотезы:\n",
    "\n",
    "    - Н0 - статистически значимых различий в среднем чеке заказа между группами нет\n",
    "    - Н1 - статистически значимые различия в среднем чеке заказа между группами есть"
   ]
  },
  {
   "cell_type": "code",
   "execution_count": 48,
   "metadata": {},
   "outputs": [
    {
     "name": "stdout",
     "output_type": "stream",
     "text": [
      "0.996\n",
      "0.021\n"
     ]
    }
   ],
   "source": [
    "print(\n",
    "    '{0:.3f}'.format(\n",
    "        st.mannwhitneyu(\n",
    "            orders[\n",
    "                np.logical_and(\n",
    "                    orders['group'] == 'A',\n",
    "                    np.logical_not(orders['visitor_id'].isin(abnormalUsersA)),\n",
    "                )\n",
    "            ]['revenue'],\n",
    "            orders[\n",
    "                np.logical_and(\n",
    "                    orders['group'] == 'B',\n",
    "                    np.logical_not(orders['visitor_id'].isin(abnormalUsersB))\n",
    "                )\n",
    "            ]['revenue'], True, 'two-sided',\n",
    "        )[1]\n",
    "    )\n",
    ")\n",
    "\n",
    "print(\n",
    "    \"{0:.3f}\".format(\n",
    "        orders[\n",
    "            np.logical_and(\n",
    "                orders['group'] == 'B',\n",
    "                np.logical_not(orders['visitor_id'].isin(abnormalUsersB)),\n",
    "            )\n",
    "        ]['revenue'].mean()\n",
    "        / orders[\n",
    "            np.logical_and(\n",
    "                orders['group'] == 'A',\n",
    "                np.logical_not(orders['visitor_id'].isin(abnormalUsersA)),\n",
    "            )\n",
    "        ]['revenue'].mean()\n",
    "        - 1\n",
    "    )\n",
    ") "
   ]
  },
  {
   "cell_type": "markdown",
   "metadata": {},
   "source": [
    "Вывод по разделу: По \"очищенным\" данным значение p-value = 0.996 (0.729 по \"сырым\" данным), что выше уровня статистической значимости, следовательно гипотезу о том, что различий в среднем чеке между группами нет, не отвергаем. \n",
    "\n",
    "Относительная разница в конверсии между группами составила 2.1% - на столько конверсия группы В больше конверсии группы А, что значительно меньше того показателя, который был при \"сырых\" данных (против 25.9% по \"сырым\" данным), теперь такого значительного превосходства у группы B нет"
   ]
  },
  {
   "cell_type": "markdown",
   "metadata": {},
   "source": [
    "### Примите решение по результатам теста и объясните его"
   ]
  },
  {
   "cell_type": "markdown",
   "metadata": {},
   "source": [
    "Из представленных 9 гипотез с применением фреймворка RICE нами была выбрана как наиболее приоритетная гипотеза 8 - 'Добавить форму подписки на все основные страницы, чтобы собрать базу клиентов для email-рассылок'\n",
    "\n",
    "По результатам А/В-тестирования гипотезы были сделаны следующие выводы:\n",
    "\n",
    "Кумулятивная выручка группы В стабильно выше выручки группы А, кроме того, мы видим ее значительный скачек в период с 18-20 августа 2019г.\n",
    "\n",
    "Ситуация с кумулятивным средним чеком между группами не так однозначна: кривая группы В нестабильна, но все-таки выше аналогичной группы А почти на всём отрезке.\n",
    "\n",
    "Кумулятивная конверсия группы В стабильно выше, чем у группы А.\n",
    "\n",
    "В обеих группах подавляющее большинство пользователей сделали по одному заказу, очень мало - по 2, и еще меньше - по 3-7. У подавляющего большинства пользователей обоих групп сумма заказа не превышает 10 тыс. рублей. Тем не менее на графике группы В можно заметить один аномально большой заказ на сумму 1294500 руб. Это и есть причина резкого скачка кумулятивного среднего чека группы В. В остальном группы очень похожи между собой.\n",
    "\n",
    "<b>В результате:</b>\n",
    "\n",
    "Считаю, что тест можно считать успешным, так как различия среднего количества заказов между группами имеют статистическую значимость. То есть разница получена не случайным образом, а она действительно есть - в данном случае побеждает <b>группа В</b>. Средний чек же вырос, но незначительно, всего на пару процентов, тут, скорее, <b>изменений нет</b>, хотя есть вероятность того, что такой крупный заказ был совершён только благодаря внесённым изменениям.\n",
    "\n",
    "Тест остановить, зафиксировать отсутствие различий между группами по сумме среднего чека и победу группы В в части повышенной конверсии."
   ]
  },
  {
   "cell_type": "code",
   "execution_count": null,
   "metadata": {},
   "outputs": [],
   "source": []
  }
 ],
 "metadata": {
  "ExecuteTimeLog": [
   {
    "duration": 73,
    "start_time": "2024-05-04T12:41:35.443Z"
   },
   {
    "duration": 71,
    "start_time": "2024-05-04T12:41:43.389Z"
   },
   {
    "duration": 917,
    "start_time": "2024-05-04T12:41:52.253Z"
   },
   {
    "duration": 332,
    "start_time": "2024-05-04T12:42:42.098Z"
   },
   {
    "duration": 140,
    "start_time": "2024-05-04T12:42:47.769Z"
   },
   {
    "duration": 6,
    "start_time": "2024-05-04T12:49:00.286Z"
   },
   {
    "duration": 10,
    "start_time": "2024-05-04T12:49:04.745Z"
   },
   {
    "duration": 10,
    "start_time": "2024-05-04T12:50:50.563Z"
   },
   {
    "duration": 6,
    "start_time": "2024-05-04T12:51:06.166Z"
   },
   {
    "duration": 7,
    "start_time": "2024-05-04T12:51:30.357Z"
   },
   {
    "duration": 4,
    "start_time": "2024-05-04T12:51:50.238Z"
   },
   {
    "duration": 18,
    "start_time": "2024-05-04T12:57:09.944Z"
   },
   {
    "duration": 12,
    "start_time": "2024-05-04T12:57:56.655Z"
   },
   {
    "duration": 8,
    "start_time": "2024-05-04T12:58:12.447Z"
   },
   {
    "duration": 3,
    "start_time": "2024-05-04T12:59:36.990Z"
   },
   {
    "duration": 8,
    "start_time": "2024-05-04T12:59:43.216Z"
   },
   {
    "duration": 9,
    "start_time": "2024-05-04T13:03:46.813Z"
   },
   {
    "duration": 1003,
    "start_time": "2024-05-04T13:03:58.724Z"
   },
   {
    "duration": 80,
    "start_time": "2024-05-04T13:03:59.729Z"
   },
   {
    "duration": 10,
    "start_time": "2024-05-04T13:03:59.810Z"
   },
   {
    "duration": 47,
    "start_time": "2024-05-04T13:03:59.822Z"
   },
   {
    "duration": 98,
    "start_time": "2024-05-04T13:03:59.871Z"
   },
   {
    "duration": 19,
    "start_time": "2024-05-04T13:03:59.971Z"
   },
   {
    "duration": 71,
    "start_time": "2024-05-04T13:03:59.992Z"
   },
   {
    "duration": 11,
    "start_time": "2024-05-04T13:05:02.260Z"
   },
   {
    "duration": 12,
    "start_time": "2024-05-04T13:05:08.014Z"
   },
   {
    "duration": 11,
    "start_time": "2024-05-04T13:05:58.415Z"
   },
   {
    "duration": 11,
    "start_time": "2024-05-04T13:07:33.214Z"
   },
   {
    "duration": 12,
    "start_time": "2024-05-04T13:07:43.114Z"
   },
   {
    "duration": 11,
    "start_time": "2024-05-04T13:08:54.553Z"
   },
   {
    "duration": 11,
    "start_time": "2024-05-04T13:10:42.603Z"
   },
   {
    "duration": 11,
    "start_time": "2024-05-04T13:11:54.587Z"
   },
   {
    "duration": 10,
    "start_time": "2024-05-04T13:13:45.376Z"
   },
   {
    "duration": 11,
    "start_time": "2024-05-04T13:14:20.847Z"
   },
   {
    "duration": 75,
    "start_time": "2024-05-04T13:14:48.821Z"
   },
   {
    "duration": 76,
    "start_time": "2024-05-04T13:15:06.179Z"
   },
   {
    "duration": 6,
    "start_time": "2024-05-04T13:15:20.099Z"
   },
   {
    "duration": 68,
    "start_time": "2024-05-04T13:15:30.818Z"
   },
   {
    "duration": 4,
    "start_time": "2024-05-04T13:15:46.412Z"
   },
   {
    "duration": 3,
    "start_time": "2024-05-04T13:15:54.487Z"
   },
   {
    "duration": 3,
    "start_time": "2024-05-04T13:16:14.417Z"
   },
   {
    "duration": 4,
    "start_time": "2024-05-04T13:18:54.047Z"
   },
   {
    "duration": 11,
    "start_time": "2024-05-04T13:20:25.374Z"
   },
   {
    "duration": 143,
    "start_time": "2024-05-04T13:43:10.789Z"
   },
   {
    "duration": 65,
    "start_time": "2024-05-04T13:43:21.153Z"
   },
   {
    "duration": 65,
    "start_time": "2024-05-04T13:43:32.168Z"
   },
   {
    "duration": 72,
    "start_time": "2024-05-04T13:43:40.731Z"
   },
   {
    "duration": 9,
    "start_time": "2024-05-04T13:43:48.022Z"
   },
   {
    "duration": 11,
    "start_time": "2024-05-04T14:34:05.348Z"
   },
   {
    "duration": 7,
    "start_time": "2024-05-04T14:36:35.030Z"
   },
   {
    "duration": 94,
    "start_time": "2024-05-04T14:36:53.688Z"
   },
   {
    "duration": 8,
    "start_time": "2024-05-04T14:37:03.613Z"
   },
   {
    "duration": 10,
    "start_time": "2024-05-04T14:41:12.070Z"
   },
   {
    "duration": 6,
    "start_time": "2024-05-04T14:41:45.312Z"
   },
   {
    "duration": 5,
    "start_time": "2024-05-04T14:41:47.725Z"
   },
   {
    "duration": 9,
    "start_time": "2024-05-04T14:42:14.802Z"
   },
   {
    "duration": 5,
    "start_time": "2024-05-04T14:42:15.036Z"
   },
   {
    "duration": 80,
    "start_time": "2024-05-04T14:43:26.604Z"
   },
   {
    "duration": 6,
    "start_time": "2024-05-04T14:45:57.086Z"
   },
   {
    "duration": 19,
    "start_time": "2024-05-04T14:46:07.655Z"
   },
   {
    "duration": 13,
    "start_time": "2024-05-04T14:46:21.856Z"
   },
   {
    "duration": 14,
    "start_time": "2024-05-04T14:46:33.588Z"
   },
   {
    "duration": 8,
    "start_time": "2024-05-04T14:47:23.224Z"
   },
   {
    "duration": 12,
    "start_time": "2024-05-04T14:47:30.018Z"
   },
   {
    "duration": 12,
    "start_time": "2024-05-04T14:49:12.018Z"
   },
   {
    "duration": 8,
    "start_time": "2024-05-04T14:49:13.228Z"
   },
   {
    "duration": 5,
    "start_time": "2024-05-04T14:49:13.657Z"
   },
   {
    "duration": 15,
    "start_time": "2024-05-04T14:49:14.290Z"
   },
   {
    "duration": 17,
    "start_time": "2024-05-04T14:49:14.800Z"
   },
   {
    "duration": 16,
    "start_time": "2024-05-04T14:49:15.693Z"
   },
   {
    "duration": 67,
    "start_time": "2024-05-04T14:49:21.056Z"
   },
   {
    "duration": 10,
    "start_time": "2024-05-04T14:49:21.780Z"
   },
   {
    "duration": 6,
    "start_time": "2024-05-04T14:49:22.272Z"
   },
   {
    "duration": 7,
    "start_time": "2024-05-04T14:49:22.492Z"
   },
   {
    "duration": 10,
    "start_time": "2024-05-04T14:49:23.107Z"
   },
   {
    "duration": 9,
    "start_time": "2024-05-04T14:49:24.217Z"
   },
   {
    "duration": 7,
    "start_time": "2024-05-04T14:49:24.767Z"
   },
   {
    "duration": 5,
    "start_time": "2024-05-04T14:49:25.230Z"
   },
   {
    "duration": 14,
    "start_time": "2024-05-04T14:49:25.866Z"
   },
   {
    "duration": 12,
    "start_time": "2024-05-04T14:49:26.066Z"
   },
   {
    "duration": 4,
    "start_time": "2024-05-04T14:57:05.796Z"
   },
   {
    "duration": 3,
    "start_time": "2024-05-04T14:57:11.017Z"
   },
   {
    "duration": 9,
    "start_time": "2024-05-04T14:57:14.793Z"
   },
   {
    "duration": 9,
    "start_time": "2024-05-04T14:57:30.472Z"
   },
   {
    "duration": 11,
    "start_time": "2024-05-04T14:57:34.910Z"
   },
   {
    "duration": 8,
    "start_time": "2024-05-04T14:57:39.748Z"
   },
   {
    "duration": 15,
    "start_time": "2024-05-04T14:58:03.696Z"
   },
   {
    "duration": 15,
    "start_time": "2024-05-04T14:58:18.598Z"
   },
   {
    "duration": 26,
    "start_time": "2024-05-04T15:01:16.423Z"
   },
   {
    "duration": 25,
    "start_time": "2024-05-04T15:02:09.607Z"
   },
   {
    "duration": 177,
    "start_time": "2024-05-04T15:05:13.464Z"
   },
   {
    "duration": 11,
    "start_time": "2024-05-04T15:05:19.455Z"
   },
   {
    "duration": 120,
    "start_time": "2024-05-04T15:09:21.817Z"
   },
   {
    "duration": 14,
    "start_time": "2024-05-04T15:09:38.707Z"
   },
   {
    "duration": 16,
    "start_time": "2024-05-04T15:11:07.705Z"
   },
   {
    "duration": 126,
    "start_time": "2024-05-04T15:11:37.281Z"
   },
   {
    "duration": 10,
    "start_time": "2024-05-04T15:11:40.441Z"
   },
   {
    "duration": 6,
    "start_time": "2024-05-04T15:13:33.753Z"
   },
   {
    "duration": 26,
    "start_time": "2024-05-04T15:13:45.003Z"
   },
   {
    "duration": 16,
    "start_time": "2024-05-04T15:15:03.428Z"
   },
   {
    "duration": 23,
    "start_time": "2024-05-04T15:16:18.991Z"
   },
   {
    "duration": 21,
    "start_time": "2024-05-04T15:16:41.493Z"
   },
   {
    "duration": 17,
    "start_time": "2024-05-04T15:19:26.509Z"
   },
   {
    "duration": 19,
    "start_time": "2024-05-04T15:19:47.082Z"
   },
   {
    "duration": 15,
    "start_time": "2024-05-04T15:20:41.535Z"
   },
   {
    "duration": 1119,
    "start_time": "2024-05-04T15:25:09.040Z"
   },
   {
    "duration": 10,
    "start_time": "2024-05-04T15:25:33.697Z"
   },
   {
    "duration": 12,
    "start_time": "2024-05-04T15:26:34.925Z"
   },
   {
    "duration": 65,
    "start_time": "2024-05-04T15:31:45.878Z"
   },
   {
    "duration": 4,
    "start_time": "2024-05-04T15:31:53.812Z"
   },
   {
    "duration": 267,
    "start_time": "2024-05-04T15:32:01.108Z"
   },
   {
    "duration": 186,
    "start_time": "2024-05-04T15:32:05.483Z"
   },
   {
    "duration": 226,
    "start_time": "2024-05-04T15:33:47.417Z"
   },
   {
    "duration": 11,
    "start_time": "2024-05-04T15:35:48.349Z"
   },
   {
    "duration": 174,
    "start_time": "2024-05-04T15:38:18.148Z"
   },
   {
    "duration": 217,
    "start_time": "2024-05-04T15:38:41.663Z"
   },
   {
    "duration": 197,
    "start_time": "2024-05-04T15:42:13.437Z"
   },
   {
    "duration": 287,
    "start_time": "2024-05-04T15:46:01.038Z"
   },
   {
    "duration": 240,
    "start_time": "2024-05-04T15:46:32.182Z"
   },
   {
    "duration": 225,
    "start_time": "2024-05-04T15:47:03.070Z"
   },
   {
    "duration": 247,
    "start_time": "2024-05-04T15:50:12.401Z"
   },
   {
    "duration": 155,
    "start_time": "2024-05-04T15:50:32.131Z"
   },
   {
    "duration": 175,
    "start_time": "2024-05-04T15:50:48.953Z"
   },
   {
    "duration": 156,
    "start_time": "2024-05-04T15:51:10.362Z"
   },
   {
    "duration": 9,
    "start_time": "2024-05-04T15:53:18.763Z"
   },
   {
    "duration": 161,
    "start_time": "2024-05-04T15:53:37.371Z"
   },
   {
    "duration": 163,
    "start_time": "2024-05-04T15:56:24.630Z"
   },
   {
    "duration": 317,
    "start_time": "2024-05-04T15:58:00.973Z"
   },
   {
    "duration": 309,
    "start_time": "2024-05-04T15:59:03.352Z"
   },
   {
    "duration": 1163,
    "start_time": "2024-05-04T16:03:34.096Z"
   },
   {
    "duration": 93,
    "start_time": "2024-05-04T16:03:35.260Z"
   },
   {
    "duration": 10,
    "start_time": "2024-05-04T16:03:35.355Z"
   },
   {
    "duration": 17,
    "start_time": "2024-05-04T16:03:35.367Z"
   },
   {
    "duration": 27,
    "start_time": "2024-05-04T16:03:35.393Z"
   },
   {
    "duration": 32,
    "start_time": "2024-05-04T16:03:35.421Z"
   },
   {
    "duration": 71,
    "start_time": "2024-05-04T16:03:35.454Z"
   },
   {
    "duration": 23,
    "start_time": "2024-05-04T16:03:35.527Z"
   },
   {
    "duration": 94,
    "start_time": "2024-05-04T16:03:35.551Z"
   },
   {
    "duration": 11,
    "start_time": "2024-05-04T16:03:35.647Z"
   },
   {
    "duration": 49,
    "start_time": "2024-05-04T16:03:35.660Z"
   },
   {
    "duration": 26,
    "start_time": "2024-05-04T16:03:35.711Z"
   },
   {
    "duration": 22,
    "start_time": "2024-05-04T16:03:35.738Z"
   },
   {
    "duration": 35,
    "start_time": "2024-05-04T16:03:35.763Z"
   },
   {
    "duration": 37,
    "start_time": "2024-05-04T16:03:35.799Z"
   },
   {
    "duration": 63,
    "start_time": "2024-05-04T16:03:35.838Z"
   },
   {
    "duration": 26,
    "start_time": "2024-05-04T16:03:35.903Z"
   },
   {
    "duration": 29,
    "start_time": "2024-05-04T16:03:35.930Z"
   },
   {
    "duration": 28,
    "start_time": "2024-05-04T16:03:35.961Z"
   },
   {
    "duration": 187,
    "start_time": "2024-05-04T16:03:35.991Z"
   },
   {
    "duration": 16,
    "start_time": "2024-05-04T16:03:36.179Z"
   },
   {
    "duration": 129,
    "start_time": "2024-05-04T16:03:36.197Z"
   },
   {
    "duration": 10,
    "start_time": "2024-05-04T16:03:36.327Z"
   },
   {
    "duration": 17,
    "start_time": "2024-05-04T16:03:36.338Z"
   },
   {
    "duration": 24,
    "start_time": "2024-05-04T16:03:36.357Z"
   },
   {
    "duration": 332,
    "start_time": "2024-05-04T16:03:36.383Z"
   },
   {
    "duration": 236,
    "start_time": "2024-05-04T16:03:36.717Z"
   },
   {
    "duration": 374,
    "start_time": "2024-05-04T16:03:36.955Z"
   },
   {
    "duration": 230,
    "start_time": "2024-05-04T16:03:37.330Z"
   },
   {
    "duration": 1235,
    "start_time": "2024-05-04T16:08:06.784Z"
   },
   {
    "duration": 5,
    "start_time": "2024-05-04T16:08:40.869Z"
   },
   {
    "duration": 230,
    "start_time": "2024-05-04T16:08:43.905Z"
   },
   {
    "duration": 216,
    "start_time": "2024-05-04T16:08:48.463Z"
   },
   {
    "duration": 330,
    "start_time": "2024-05-04T16:08:58.814Z"
   },
   {
    "duration": 241,
    "start_time": "2024-05-04T16:09:08.215Z"
   },
   {
    "duration": 397,
    "start_time": "2024-05-04T16:11:48.021Z"
   },
   {
    "duration": 328,
    "start_time": "2024-05-04T16:11:56.805Z"
   },
   {
    "duration": 259,
    "start_time": "2024-05-04T16:14:25.597Z"
   },
   {
    "duration": 7,
    "start_time": "2024-05-04T16:18:06.992Z"
   },
   {
    "duration": 161,
    "start_time": "2024-05-04T16:18:19.774Z"
   },
   {
    "duration": 148,
    "start_time": "2024-05-04T16:20:03.293Z"
   },
   {
    "duration": 862,
    "start_time": "2024-05-04T16:20:14.226Z"
   },
   {
    "duration": 9,
    "start_time": "2024-05-04T16:20:30.023Z"
   },
   {
    "duration": 1231,
    "start_time": "2024-05-05T09:10:25.064Z"
   },
   {
    "duration": 141,
    "start_time": "2024-05-05T09:10:26.298Z"
   },
   {
    "duration": 10,
    "start_time": "2024-05-05T09:10:26.441Z"
   },
   {
    "duration": 9,
    "start_time": "2024-05-05T09:10:26.453Z"
   },
   {
    "duration": 7,
    "start_time": "2024-05-05T09:10:26.464Z"
   },
   {
    "duration": 21,
    "start_time": "2024-05-05T09:10:26.472Z"
   },
   {
    "duration": 19,
    "start_time": "2024-05-05T09:10:26.494Z"
   },
   {
    "duration": 23,
    "start_time": "2024-05-05T09:10:26.515Z"
   },
   {
    "duration": 190,
    "start_time": "2024-05-05T09:10:26.539Z"
   },
   {
    "duration": 10,
    "start_time": "2024-05-05T09:10:26.731Z"
   },
   {
    "duration": 23,
    "start_time": "2024-05-05T09:10:26.743Z"
   },
   {
    "duration": 15,
    "start_time": "2024-05-05T09:10:26.768Z"
   },
   {
    "duration": 28,
    "start_time": "2024-05-05T09:10:26.785Z"
   },
   {
    "duration": 32,
    "start_time": "2024-05-05T09:10:26.816Z"
   },
   {
    "duration": 16,
    "start_time": "2024-05-05T09:10:26.850Z"
   },
   {
    "duration": 25,
    "start_time": "2024-05-05T09:10:26.868Z"
   },
   {
    "duration": 30,
    "start_time": "2024-05-05T09:10:26.895Z"
   },
   {
    "duration": 17,
    "start_time": "2024-05-05T09:10:26.927Z"
   },
   {
    "duration": 21,
    "start_time": "2024-05-05T09:10:26.946Z"
   },
   {
    "duration": 186,
    "start_time": "2024-05-05T09:10:26.968Z"
   },
   {
    "duration": 12,
    "start_time": "2024-05-05T09:10:27.155Z"
   },
   {
    "duration": 195,
    "start_time": "2024-05-05T09:10:27.169Z"
   },
   {
    "duration": 17,
    "start_time": "2024-05-05T09:10:27.366Z"
   },
   {
    "duration": 22,
    "start_time": "2024-05-05T09:10:27.385Z"
   },
   {
    "duration": 24,
    "start_time": "2024-05-05T09:10:27.409Z"
   },
   {
    "duration": 368,
    "start_time": "2024-05-05T09:10:27.434Z"
   },
   {
    "duration": 234,
    "start_time": "2024-05-05T09:10:27.804Z"
   },
   {
    "duration": 369,
    "start_time": "2024-05-05T09:10:28.039Z"
   },
   {
    "duration": 266,
    "start_time": "2024-05-05T09:10:28.409Z"
   },
   {
    "duration": 300,
    "start_time": "2024-05-05T09:10:28.677Z"
   },
   {
    "duration": 113,
    "start_time": "2024-05-05T09:10:28.980Z"
   },
   {
    "duration": 1,
    "start_time": "2024-05-05T09:10:29.094Z"
   },
   {
    "duration": 314,
    "start_time": "2024-05-05T09:10:59.359Z"
   },
   {
    "duration": 321,
    "start_time": "2024-05-05T09:11:09.182Z"
   },
   {
    "duration": 43,
    "start_time": "2024-05-05T09:24:36.087Z"
   },
   {
    "duration": 12,
    "start_time": "2024-05-05T09:24:41.580Z"
   },
   {
    "duration": 14,
    "start_time": "2024-05-05T09:24:48.085Z"
   },
   {
    "duration": 16,
    "start_time": "2024-05-05T09:25:18.748Z"
   },
   {
    "duration": 14,
    "start_time": "2024-05-05T09:25:28.765Z"
   },
   {
    "duration": 18,
    "start_time": "2024-05-05T09:25:49.261Z"
   },
   {
    "duration": 21,
    "start_time": "2024-05-05T09:25:55.827Z"
   },
   {
    "duration": 19,
    "start_time": "2024-05-05T09:26:03.374Z"
   },
   {
    "duration": 15,
    "start_time": "2024-05-05T09:26:09.859Z"
   },
   {
    "duration": 15,
    "start_time": "2024-05-05T09:26:47.114Z"
   },
   {
    "duration": 158,
    "start_time": "2024-05-05T09:27:40.757Z"
   },
   {
    "duration": 17,
    "start_time": "2024-05-05T09:28:13.283Z"
   },
   {
    "duration": 13,
    "start_time": "2024-05-05T09:28:36.048Z"
   },
   {
    "duration": 16,
    "start_time": "2024-05-05T09:28:43.065Z"
   },
   {
    "duration": 269,
    "start_time": "2024-05-05T09:29:21.446Z"
   },
   {
    "duration": 17,
    "start_time": "2024-05-05T09:30:33.182Z"
   },
   {
    "duration": 144,
    "start_time": "2024-05-05T09:30:36.174Z"
   },
   {
    "duration": 16,
    "start_time": "2024-05-05T09:31:20.702Z"
   },
   {
    "duration": 150,
    "start_time": "2024-05-05T09:31:23.341Z"
   },
   {
    "duration": 147,
    "start_time": "2024-05-05T09:32:19.315Z"
   },
   {
    "duration": 153,
    "start_time": "2024-05-05T09:32:27.331Z"
   },
   {
    "duration": 258,
    "start_time": "2024-05-05T09:33:21.200Z"
   },
   {
    "duration": 15,
    "start_time": "2024-05-05T09:33:41.080Z"
   },
   {
    "duration": 15,
    "start_time": "2024-05-05T09:33:52.980Z"
   },
   {
    "duration": 13,
    "start_time": "2024-05-05T09:34:04.325Z"
   },
   {
    "duration": 241,
    "start_time": "2024-05-05T09:34:11.551Z"
   },
   {
    "duration": 261,
    "start_time": "2024-05-05T09:34:19.439Z"
   },
   {
    "duration": 15,
    "start_time": "2024-05-05T09:34:40.464Z"
   },
   {
    "duration": 260,
    "start_time": "2024-05-05T09:34:42.384Z"
   },
   {
    "duration": 5,
    "start_time": "2024-05-05T09:36:53.716Z"
   },
   {
    "duration": 6,
    "start_time": "2024-05-05T09:37:41.848Z"
   },
   {
    "duration": 5,
    "start_time": "2024-05-05T09:37:53.928Z"
   },
   {
    "duration": 4,
    "start_time": "2024-05-05T09:37:57.751Z"
   },
   {
    "duration": 8,
    "start_time": "2024-05-05T09:38:04.041Z"
   },
   {
    "duration": 691,
    "start_time": "2024-05-05T09:40:11.380Z"
   },
   {
    "duration": 7,
    "start_time": "2024-05-05T09:40:25.697Z"
   },
   {
    "duration": 13,
    "start_time": "2024-05-05T09:40:48.650Z"
   },
   {
    "duration": 215,
    "start_time": "2024-05-05T09:40:57.431Z"
   },
   {
    "duration": 265,
    "start_time": "2024-05-05T09:43:09.203Z"
   },
   {
    "duration": 162,
    "start_time": "2024-05-05T09:43:30.536Z"
   },
   {
    "duration": 177,
    "start_time": "2024-05-05T09:43:52.261Z"
   },
   {
    "duration": 694,
    "start_time": "2024-05-05T09:44:23.825Z"
   },
   {
    "duration": 182,
    "start_time": "2024-05-05T09:44:46.790Z"
   },
   {
    "duration": 6,
    "start_time": "2024-05-05T09:45:31.028Z"
   },
   {
    "duration": 598,
    "start_time": "2024-05-05T09:46:03.300Z"
   },
   {
    "duration": 13,
    "start_time": "2024-05-05T09:46:15.862Z"
   },
   {
    "duration": 276,
    "start_time": "2024-05-05T09:46:17.091Z"
   },
   {
    "duration": 5,
    "start_time": "2024-05-05T09:46:21.812Z"
   },
   {
    "duration": 4,
    "start_time": "2024-05-05T09:46:24.428Z"
   },
   {
    "duration": 204,
    "start_time": "2024-05-05T09:46:27.471Z"
   },
   {
    "duration": 288,
    "start_time": "2024-05-05T09:47:21.874Z"
   },
   {
    "duration": 297,
    "start_time": "2024-05-05T09:48:15.930Z"
   },
   {
    "duration": 1126,
    "start_time": "2024-05-05T09:48:24.488Z"
   },
   {
    "duration": 99,
    "start_time": "2024-05-05T09:48:25.616Z"
   },
   {
    "duration": 13,
    "start_time": "2024-05-05T09:48:25.717Z"
   },
   {
    "duration": 9,
    "start_time": "2024-05-05T09:48:25.732Z"
   },
   {
    "duration": 12,
    "start_time": "2024-05-05T09:48:25.743Z"
   },
   {
    "duration": 13,
    "start_time": "2024-05-05T09:48:25.757Z"
   },
   {
    "duration": 17,
    "start_time": "2024-05-05T09:48:25.772Z"
   },
   {
    "duration": 17,
    "start_time": "2024-05-05T09:48:25.791Z"
   },
   {
    "duration": 70,
    "start_time": "2024-05-05T09:48:25.830Z"
   },
   {
    "duration": 15,
    "start_time": "2024-05-05T09:48:25.904Z"
   },
   {
    "duration": 12,
    "start_time": "2024-05-05T09:48:25.921Z"
   },
   {
    "duration": 11,
    "start_time": "2024-05-05T09:48:25.935Z"
   },
   {
    "duration": 11,
    "start_time": "2024-05-05T09:48:25.948Z"
   },
   {
    "duration": 17,
    "start_time": "2024-05-05T09:48:25.961Z"
   },
   {
    "duration": 16,
    "start_time": "2024-05-05T09:48:25.980Z"
   },
   {
    "duration": 6,
    "start_time": "2024-05-05T09:48:25.998Z"
   },
   {
    "duration": 34,
    "start_time": "2024-05-05T09:48:26.006Z"
   },
   {
    "duration": 15,
    "start_time": "2024-05-05T09:48:26.042Z"
   },
   {
    "duration": 17,
    "start_time": "2024-05-05T09:48:26.059Z"
   },
   {
    "duration": 222,
    "start_time": "2024-05-05T09:48:26.078Z"
   },
   {
    "duration": 12,
    "start_time": "2024-05-05T09:48:26.301Z"
   },
   {
    "duration": 154,
    "start_time": "2024-05-05T09:48:26.315Z"
   },
   {
    "duration": 11,
    "start_time": "2024-05-05T09:48:26.471Z"
   },
   {
    "duration": 28,
    "start_time": "2024-05-05T09:48:26.483Z"
   },
   {
    "duration": 20,
    "start_time": "2024-05-05T09:48:26.512Z"
   },
   {
    "duration": 329,
    "start_time": "2024-05-05T09:48:26.534Z"
   },
   {
    "duration": 257,
    "start_time": "2024-05-05T09:48:26.865Z"
   },
   {
    "duration": 341,
    "start_time": "2024-05-05T09:48:27.128Z"
   },
   {
    "duration": 293,
    "start_time": "2024-05-05T09:48:27.470Z"
   },
   {
    "duration": 298,
    "start_time": "2024-05-05T09:48:27.766Z"
   },
   {
    "duration": 14,
    "start_time": "2024-05-05T09:48:28.066Z"
   },
   {
    "duration": 268,
    "start_time": "2024-05-05T09:48:28.081Z"
   },
   {
    "duration": 4,
    "start_time": "2024-05-05T09:48:28.350Z"
   },
   {
    "duration": 9,
    "start_time": "2024-05-05T09:48:28.356Z"
   },
   {
    "duration": 299,
    "start_time": "2024-05-05T09:48:28.366Z"
   },
   {
    "duration": 285,
    "start_time": "2024-05-05T09:48:46.337Z"
   },
   {
    "duration": 350,
    "start_time": "2024-05-05T09:49:03.584Z"
   },
   {
    "duration": 305,
    "start_time": "2024-05-05T09:49:22.713Z"
   },
   {
    "duration": 284,
    "start_time": "2024-05-05T09:49:36.134Z"
   },
   {
    "duration": 306,
    "start_time": "2024-05-05T09:49:42.846Z"
   },
   {
    "duration": 281,
    "start_time": "2024-05-05T09:51:17.672Z"
   },
   {
    "duration": 280,
    "start_time": "2024-05-05T09:51:32.182Z"
   },
   {
    "duration": 294,
    "start_time": "2024-05-05T09:51:51.658Z"
   },
   {
    "duration": 382,
    "start_time": "2024-05-05T09:52:01.724Z"
   },
   {
    "duration": 288,
    "start_time": "2024-05-05T09:52:41.703Z"
   },
   {
    "duration": 271,
    "start_time": "2024-05-05T09:52:46.141Z"
   },
   {
    "duration": 717,
    "start_time": "2024-05-05T09:54:06.972Z"
   },
   {
    "duration": 4,
    "start_time": "2024-05-05T09:54:11.977Z"
   },
   {
    "duration": 4,
    "start_time": "2024-05-05T09:54:36.316Z"
   },
   {
    "duration": 121,
    "start_time": "2024-05-05T10:00:46.569Z"
   },
   {
    "duration": 109,
    "start_time": "2024-05-05T10:00:51.269Z"
   },
   {
    "duration": 116,
    "start_time": "2024-05-05T10:01:00.505Z"
   },
   {
    "duration": 133,
    "start_time": "2024-05-05T10:01:21.831Z"
   },
   {
    "duration": 183,
    "start_time": "2024-05-05T10:01:44.952Z"
   },
   {
    "duration": 254,
    "start_time": "2024-05-05T10:02:02.980Z"
   },
   {
    "duration": 256,
    "start_time": "2024-05-05T10:02:41.764Z"
   },
   {
    "duration": 258,
    "start_time": "2024-05-05T10:02:51.197Z"
   },
   {
    "duration": 359,
    "start_time": "2024-05-05T10:03:07.769Z"
   },
   {
    "duration": 282,
    "start_time": "2024-05-05T10:03:14.785Z"
   },
   {
    "duration": 264,
    "start_time": "2024-05-05T10:03:20.759Z"
   },
   {
    "duration": 249,
    "start_time": "2024-05-05T10:03:37.090Z"
   },
   {
    "duration": 304,
    "start_time": "2024-05-05T10:03:45.072Z"
   },
   {
    "duration": 286,
    "start_time": "2024-05-05T10:05:24.927Z"
   },
   {
    "duration": 259,
    "start_time": "2024-05-05T10:05:35.578Z"
   },
   {
    "duration": 279,
    "start_time": "2024-05-05T10:05:53.435Z"
   },
   {
    "duration": 147,
    "start_time": "2024-05-05T10:06:09.935Z"
   },
   {
    "duration": 244,
    "start_time": "2024-05-05T10:06:34.138Z"
   },
   {
    "duration": 249,
    "start_time": "2024-05-05T10:06:48.165Z"
   },
   {
    "duration": 387,
    "start_time": "2024-05-05T10:06:59.399Z"
   },
   {
    "duration": 261,
    "start_time": "2024-05-05T10:07:06.891Z"
   },
   {
    "duration": 271,
    "start_time": "2024-05-05T10:07:11.960Z"
   },
   {
    "duration": 271,
    "start_time": "2024-05-05T10:07:21.218Z"
   },
   {
    "duration": 237,
    "start_time": "2024-05-05T10:07:47.593Z"
   },
   {
    "duration": 51,
    "start_time": "2024-05-05T10:18:40.018Z"
   },
   {
    "duration": 42,
    "start_time": "2024-05-05T10:19:12.609Z"
   },
   {
    "duration": 13,
    "start_time": "2024-05-05T10:19:43.475Z"
   },
   {
    "duration": 5,
    "start_time": "2024-05-05T10:20:04.735Z"
   },
   {
    "duration": 5,
    "start_time": "2024-05-05T10:20:27.112Z"
   },
   {
    "duration": 6,
    "start_time": "2024-05-05T10:21:18.690Z"
   },
   {
    "duration": 5,
    "start_time": "2024-05-05T10:21:20.622Z"
   },
   {
    "duration": 9,
    "start_time": "2024-05-05T10:26:54.682Z"
   },
   {
    "duration": 17,
    "start_time": "2024-05-05T10:27:03.402Z"
   },
   {
    "duration": 706,
    "start_time": "2024-05-05T10:30:33.869Z"
   },
   {
    "duration": 6,
    "start_time": "2024-05-05T10:30:41.459Z"
   },
   {
    "duration": 6,
    "start_time": "2024-05-05T10:30:43.416Z"
   },
   {
    "duration": 14,
    "start_time": "2024-05-05T10:30:45.519Z"
   },
   {
    "duration": 6,
    "start_time": "2024-05-05T10:31:20.873Z"
   },
   {
    "duration": 5,
    "start_time": "2024-05-05T10:31:21.517Z"
   },
   {
    "duration": 14,
    "start_time": "2024-05-05T10:31:22.861Z"
   },
   {
    "duration": 15,
    "start_time": "2024-05-05T10:32:07.597Z"
   },
   {
    "duration": 16,
    "start_time": "2024-05-05T10:32:16.852Z"
   },
   {
    "duration": 6,
    "start_time": "2024-05-05T10:34:33.281Z"
   },
   {
    "duration": 5,
    "start_time": "2024-05-05T10:34:34.083Z"
   },
   {
    "duration": 16,
    "start_time": "2024-05-05T10:34:35.899Z"
   },
   {
    "duration": 1125,
    "start_time": "2024-05-05T10:35:38.709Z"
   },
   {
    "duration": 91,
    "start_time": "2024-05-05T10:35:39.836Z"
   },
   {
    "duration": 10,
    "start_time": "2024-05-05T10:35:39.929Z"
   },
   {
    "duration": 12,
    "start_time": "2024-05-05T10:35:39.941Z"
   },
   {
    "duration": 15,
    "start_time": "2024-05-05T10:35:39.955Z"
   },
   {
    "duration": 11,
    "start_time": "2024-05-05T10:35:39.972Z"
   },
   {
    "duration": 14,
    "start_time": "2024-05-05T10:35:39.984Z"
   },
   {
    "duration": 38,
    "start_time": "2024-05-05T10:35:39.999Z"
   },
   {
    "duration": 90,
    "start_time": "2024-05-05T10:35:40.039Z"
   },
   {
    "duration": 11,
    "start_time": "2024-05-05T10:35:40.130Z"
   },
   {
    "duration": 8,
    "start_time": "2024-05-05T10:35:40.143Z"
   },
   {
    "duration": 5,
    "start_time": "2024-05-05T10:35:40.153Z"
   },
   {
    "duration": 43,
    "start_time": "2024-05-05T10:35:40.160Z"
   },
   {
    "duration": 11,
    "start_time": "2024-05-05T10:35:40.207Z"
   },
   {
    "duration": 7,
    "start_time": "2024-05-05T10:35:40.220Z"
   },
   {
    "duration": 22,
    "start_time": "2024-05-05T10:35:40.230Z"
   },
   {
    "duration": 28,
    "start_time": "2024-05-05T10:35:40.253Z"
   },
   {
    "duration": 19,
    "start_time": "2024-05-05T10:35:40.283Z"
   },
   {
    "duration": 12,
    "start_time": "2024-05-05T10:35:40.303Z"
   },
   {
    "duration": 167,
    "start_time": "2024-05-05T10:35:40.317Z"
   },
   {
    "duration": 10,
    "start_time": "2024-05-05T10:35:40.486Z"
   },
   {
    "duration": 127,
    "start_time": "2024-05-05T10:35:40.498Z"
   },
   {
    "duration": 10,
    "start_time": "2024-05-05T10:35:40.628Z"
   },
   {
    "duration": 23,
    "start_time": "2024-05-05T10:35:40.639Z"
   },
   {
    "duration": 37,
    "start_time": "2024-05-05T10:35:40.664Z"
   },
   {
    "duration": 358,
    "start_time": "2024-05-05T10:35:40.703Z"
   },
   {
    "duration": 264,
    "start_time": "2024-05-05T10:35:41.063Z"
   },
   {
    "duration": 331,
    "start_time": "2024-05-05T10:35:41.329Z"
   },
   {
    "duration": 253,
    "start_time": "2024-05-05T10:35:41.662Z"
   },
   {
    "duration": 352,
    "start_time": "2024-05-05T10:35:41.917Z"
   },
   {
    "duration": 14,
    "start_time": "2024-05-05T10:35:42.271Z"
   },
   {
    "duration": 299,
    "start_time": "2024-05-05T10:35:42.287Z"
   },
   {
    "duration": 260,
    "start_time": "2024-05-05T10:35:42.588Z"
   },
   {
    "duration": 4,
    "start_time": "2024-05-05T10:35:42.850Z"
   },
   {
    "duration": 5,
    "start_time": "2024-05-05T10:35:42.856Z"
   },
   {
    "duration": 280,
    "start_time": "2024-05-05T10:35:42.863Z"
   },
   {
    "duration": 261,
    "start_time": "2024-05-05T10:35:43.145Z"
   },
   {
    "duration": 4,
    "start_time": "2024-05-05T10:35:43.408Z"
   },
   {
    "duration": 17,
    "start_time": "2024-05-05T10:35:43.413Z"
   },
   {
    "duration": 6,
    "start_time": "2024-05-05T10:35:43.432Z"
   },
   {
    "duration": 5,
    "start_time": "2024-05-05T10:35:43.442Z"
   },
   {
    "duration": 19,
    "start_time": "2024-05-05T10:35:43.448Z"
   },
   {
    "duration": 15,
    "start_time": "2024-05-05T10:35:48.854Z"
   },
   {
    "duration": 15,
    "start_time": "2024-05-05T10:37:28.025Z"
   },
   {
    "duration": 14,
    "start_time": "2024-05-05T10:37:37.250Z"
   },
   {
    "duration": 12,
    "start_time": "2024-05-05T10:40:05.974Z"
   },
   {
    "duration": 16,
    "start_time": "2024-05-05T10:40:57.495Z"
   },
   {
    "duration": 21,
    "start_time": "2024-05-05T10:41:35.152Z"
   },
   {
    "duration": 15,
    "start_time": "2024-05-05T10:41:36.089Z"
   },
   {
    "duration": 426,
    "start_time": "2024-05-05T10:41:37.404Z"
   },
   {
    "duration": 107,
    "start_time": "2024-05-05T10:42:10.980Z"
   },
   {
    "duration": 16,
    "start_time": "2024-05-05T10:42:20.778Z"
   },
   {
    "duration": 9,
    "start_time": "2024-05-05T10:43:39.627Z"
   },
   {
    "duration": 14,
    "start_time": "2024-05-05T10:43:39.952Z"
   },
   {
    "duration": 397,
    "start_time": "2024-05-05T10:43:41.557Z"
   },
   {
    "duration": 1034,
    "start_time": "2024-05-05T10:44:45.950Z"
   },
   {
    "duration": 91,
    "start_time": "2024-05-05T10:44:46.986Z"
   },
   {
    "duration": 11,
    "start_time": "2024-05-05T10:44:47.078Z"
   },
   {
    "duration": 9,
    "start_time": "2024-05-05T10:44:47.091Z"
   },
   {
    "duration": 17,
    "start_time": "2024-05-05T10:44:47.103Z"
   },
   {
    "duration": 20,
    "start_time": "2024-05-05T10:44:47.121Z"
   },
   {
    "duration": 17,
    "start_time": "2024-05-05T10:44:47.143Z"
   },
   {
    "duration": 15,
    "start_time": "2024-05-05T10:44:47.162Z"
   },
   {
    "duration": 67,
    "start_time": "2024-05-05T10:44:47.179Z"
   },
   {
    "duration": 11,
    "start_time": "2024-05-05T10:44:47.248Z"
   },
   {
    "duration": 8,
    "start_time": "2024-05-05T10:44:47.261Z"
   },
   {
    "duration": 24,
    "start_time": "2024-05-05T10:44:47.271Z"
   },
   {
    "duration": 9,
    "start_time": "2024-05-05T10:44:47.297Z"
   },
   {
    "duration": 13,
    "start_time": "2024-05-05T10:44:47.309Z"
   },
   {
    "duration": 10,
    "start_time": "2024-05-05T10:44:47.323Z"
   },
   {
    "duration": 30,
    "start_time": "2024-05-05T10:44:47.335Z"
   },
   {
    "duration": 26,
    "start_time": "2024-05-05T10:44:47.367Z"
   },
   {
    "duration": 27,
    "start_time": "2024-05-05T10:44:47.395Z"
   },
   {
    "duration": 18,
    "start_time": "2024-05-05T10:44:47.424Z"
   },
   {
    "duration": 224,
    "start_time": "2024-05-05T10:44:47.444Z"
   },
   {
    "duration": 10,
    "start_time": "2024-05-05T10:44:47.670Z"
   },
   {
    "duration": 133,
    "start_time": "2024-05-05T10:44:47.682Z"
   },
   {
    "duration": 14,
    "start_time": "2024-05-05T10:44:47.817Z"
   },
   {
    "duration": 16,
    "start_time": "2024-05-05T10:44:47.832Z"
   },
   {
    "duration": 6,
    "start_time": "2024-05-05T10:44:47.850Z"
   },
   {
    "duration": 325,
    "start_time": "2024-05-05T10:44:47.857Z"
   },
   {
    "duration": 225,
    "start_time": "2024-05-05T10:44:48.183Z"
   },
   {
    "duration": 371,
    "start_time": "2024-05-05T10:44:48.410Z"
   },
   {
    "duration": 252,
    "start_time": "2024-05-05T10:44:48.782Z"
   },
   {
    "duration": 328,
    "start_time": "2024-05-05T10:44:49.036Z"
   },
   {
    "duration": 14,
    "start_time": "2024-05-05T10:44:49.365Z"
   },
   {
    "duration": 281,
    "start_time": "2024-05-05T10:44:49.380Z"
   },
   {
    "duration": 245,
    "start_time": "2024-05-05T10:44:49.662Z"
   },
   {
    "duration": 5,
    "start_time": "2024-05-05T10:44:49.908Z"
   },
   {
    "duration": 18,
    "start_time": "2024-05-05T10:44:49.914Z"
   },
   {
    "duration": 498,
    "start_time": "2024-05-05T10:44:49.934Z"
   },
   {
    "duration": 521,
    "start_time": "2024-05-05T10:44:50.433Z"
   },
   {
    "duration": 4,
    "start_time": "2024-05-05T10:44:50.956Z"
   },
   {
    "duration": 6,
    "start_time": "2024-05-05T10:44:50.962Z"
   },
   {
    "duration": 71,
    "start_time": "2024-05-05T10:44:50.969Z"
   },
   {
    "duration": 16,
    "start_time": "2024-05-05T10:44:51.043Z"
   },
   {
    "duration": 887,
    "start_time": "2024-05-05T10:44:51.060Z"
   },
   {
    "duration": 11,
    "start_time": "2024-05-05T10:44:51.949Z"
   },
   {
    "duration": 6,
    "start_time": "2024-05-05T10:48:22.486Z"
   },
   {
    "duration": 452,
    "start_time": "2024-05-05T10:48:24.381Z"
   },
   {
    "duration": 10,
    "start_time": "2024-05-05T10:49:32.881Z"
   },
   {
    "duration": 5,
    "start_time": "2024-05-05T10:49:34.884Z"
   },
   {
    "duration": 34,
    "start_time": "2024-05-05T10:49:36.091Z"
   },
   {
    "duration": 12,
    "start_time": "2024-05-05T10:51:59.764Z"
   },
   {
    "duration": 11,
    "start_time": "2024-05-05T10:52:43.870Z"
   },
   {
    "duration": 5,
    "start_time": "2024-05-05T10:52:44.458Z"
   },
   {
    "duration": 26,
    "start_time": "2024-05-05T10:52:45.681Z"
   },
   {
    "duration": 12,
    "start_time": "2024-05-05T10:52:49.131Z"
   },
   {
    "duration": 343,
    "start_time": "2024-05-05T10:56:54.293Z"
   },
   {
    "duration": 248,
    "start_time": "2024-05-05T10:57:54.195Z"
   },
   {
    "duration": 104,
    "start_time": "2024-05-05T11:12:48.125Z"
   },
   {
    "duration": 4,
    "start_time": "2024-05-05T11:13:38.522Z"
   },
   {
    "duration": 5,
    "start_time": "2024-05-05T11:13:59.605Z"
   },
   {
    "duration": 6,
    "start_time": "2024-05-05T11:15:13.553Z"
   },
   {
    "duration": 11,
    "start_time": "2024-05-05T11:16:34.896Z"
   },
   {
    "duration": 732,
    "start_time": "2024-05-05T11:17:15.942Z"
   },
   {
    "duration": 10,
    "start_time": "2024-05-05T11:17:25.580Z"
   },
   {
    "duration": 10,
    "start_time": "2024-05-05T11:17:57.190Z"
   },
   {
    "duration": 12,
    "start_time": "2024-05-05T11:20:11.539Z"
   },
   {
    "duration": 12,
    "start_time": "2024-05-05T11:21:05.886Z"
   },
   {
    "duration": 11,
    "start_time": "2024-05-05T11:22:38.750Z"
   },
   {
    "duration": 8,
    "start_time": "2024-05-05T11:22:54.491Z"
   },
   {
    "duration": 8,
    "start_time": "2024-05-05T11:22:58.526Z"
   },
   {
    "duration": 7,
    "start_time": "2024-05-05T11:23:03.504Z"
   },
   {
    "duration": 8,
    "start_time": "2024-05-05T11:23:16.598Z"
   },
   {
    "duration": 8,
    "start_time": "2024-05-05T11:23:28.055Z"
   },
   {
    "duration": 13,
    "start_time": "2024-05-05T11:24:29.764Z"
   },
   {
    "duration": 8,
    "start_time": "2024-05-05T11:24:48.096Z"
   },
   {
    "duration": 8,
    "start_time": "2024-05-05T11:25:03.733Z"
   },
   {
    "duration": 8,
    "start_time": "2024-05-05T11:30:10.104Z"
   },
   {
    "duration": 47,
    "start_time": "2024-05-05T11:30:26.498Z"
   },
   {
    "duration": 535,
    "start_time": "2024-05-05T11:30:32.295Z"
   },
   {
    "duration": 549,
    "start_time": "2024-05-05T11:31:29.970Z"
   },
   {
    "duration": 539,
    "start_time": "2024-05-05T11:31:56.346Z"
   },
   {
    "duration": 545,
    "start_time": "2024-05-05T11:32:03.465Z"
   },
   {
    "duration": 43,
    "start_time": "2024-05-05T11:32:17.591Z"
   },
   {
    "duration": 570,
    "start_time": "2024-05-05T11:32:28.757Z"
   },
   {
    "duration": 531,
    "start_time": "2024-05-05T11:32:55.570Z"
   },
   {
    "duration": 535,
    "start_time": "2024-05-05T11:33:16.680Z"
   },
   {
    "duration": 521,
    "start_time": "2024-05-05T11:33:27.527Z"
   },
   {
    "duration": 7,
    "start_time": "2024-05-05T11:33:36.225Z"
   },
   {
    "duration": 522,
    "start_time": "2024-05-05T11:34:21.896Z"
   },
   {
    "duration": 1111,
    "start_time": "2024-05-05T11:34:38.994Z"
   },
   {
    "duration": 92,
    "start_time": "2024-05-05T11:34:40.107Z"
   },
   {
    "duration": 12,
    "start_time": "2024-05-05T11:34:40.200Z"
   },
   {
    "duration": 15,
    "start_time": "2024-05-05T11:34:40.214Z"
   },
   {
    "duration": 6,
    "start_time": "2024-05-05T11:34:40.232Z"
   },
   {
    "duration": 14,
    "start_time": "2024-05-05T11:34:40.240Z"
   },
   {
    "duration": 33,
    "start_time": "2024-05-05T11:34:40.256Z"
   },
   {
    "duration": 12,
    "start_time": "2024-05-05T11:34:40.292Z"
   },
   {
    "duration": 68,
    "start_time": "2024-05-05T11:34:40.306Z"
   },
   {
    "duration": 11,
    "start_time": "2024-05-05T11:34:40.376Z"
   },
   {
    "duration": 19,
    "start_time": "2024-05-05T11:34:40.389Z"
   },
   {
    "duration": 11,
    "start_time": "2024-05-05T11:34:40.409Z"
   },
   {
    "duration": 18,
    "start_time": "2024-05-05T11:34:40.422Z"
   },
   {
    "duration": 16,
    "start_time": "2024-05-05T11:34:40.444Z"
   },
   {
    "duration": 18,
    "start_time": "2024-05-05T11:34:40.462Z"
   },
   {
    "duration": 8,
    "start_time": "2024-05-05T11:34:40.482Z"
   },
   {
    "duration": 15,
    "start_time": "2024-05-05T11:34:40.492Z"
   },
   {
    "duration": 27,
    "start_time": "2024-05-05T11:34:40.509Z"
   },
   {
    "duration": 22,
    "start_time": "2024-05-05T11:34:40.537Z"
   },
   {
    "duration": 211,
    "start_time": "2024-05-05T11:34:40.561Z"
   },
   {
    "duration": 16,
    "start_time": "2024-05-05T11:34:40.774Z"
   },
   {
    "duration": 134,
    "start_time": "2024-05-05T11:34:40.791Z"
   },
   {
    "duration": 11,
    "start_time": "2024-05-05T11:34:40.928Z"
   },
   {
    "duration": 19,
    "start_time": "2024-05-05T11:34:40.940Z"
   },
   {
    "duration": 6,
    "start_time": "2024-05-05T11:34:40.961Z"
   },
   {
    "duration": 339,
    "start_time": "2024-05-05T11:34:40.968Z"
   },
   {
    "duration": 236,
    "start_time": "2024-05-05T11:34:41.308Z"
   },
   {
    "duration": 331,
    "start_time": "2024-05-05T11:34:41.545Z"
   },
   {
    "duration": 272,
    "start_time": "2024-05-05T11:34:41.877Z"
   },
   {
    "duration": 317,
    "start_time": "2024-05-05T11:34:42.151Z"
   },
   {
    "duration": 13,
    "start_time": "2024-05-05T11:34:42.470Z"
   },
   {
    "duration": 279,
    "start_time": "2024-05-05T11:34:42.485Z"
   },
   {
    "duration": 268,
    "start_time": "2024-05-05T11:34:42.766Z"
   },
   {
    "duration": 4,
    "start_time": "2024-05-05T11:34:43.036Z"
   },
   {
    "duration": 9,
    "start_time": "2024-05-05T11:34:43.041Z"
   },
   {
    "duration": 290,
    "start_time": "2024-05-05T11:34:43.051Z"
   },
   {
    "duration": 275,
    "start_time": "2024-05-05T11:34:43.343Z"
   },
   {
    "duration": 11,
    "start_time": "2024-05-05T11:34:43.619Z"
   },
   {
    "duration": 17,
    "start_time": "2024-05-05T11:34:43.632Z"
   },
   {
    "duration": 19,
    "start_time": "2024-05-05T11:34:43.651Z"
   },
   {
    "duration": 8,
    "start_time": "2024-05-05T11:34:43.674Z"
   },
   {
    "duration": 41,
    "start_time": "2024-05-05T11:34:43.683Z"
   },
   {
    "duration": 11,
    "start_time": "2024-05-05T11:34:43.725Z"
   },
   {
    "duration": 12,
    "start_time": "2024-05-05T11:34:43.738Z"
   },
   {
    "duration": 13,
    "start_time": "2024-05-05T11:34:43.751Z"
   },
   {
    "duration": 680,
    "start_time": "2024-05-05T11:34:43.766Z"
   },
   {
    "duration": 0,
    "start_time": "2024-05-05T11:34:44.448Z"
   },
   {
    "duration": 523,
    "start_time": "2024-05-05T11:35:10.198Z"
   },
   {
    "duration": 511,
    "start_time": "2024-05-05T11:37:21.235Z"
   },
   {
    "duration": 746,
    "start_time": "2024-05-05T11:37:35.247Z"
   },
   {
    "duration": 648,
    "start_time": "2024-05-05T11:37:49.933Z"
   },
   {
    "duration": 12,
    "start_time": "2024-05-05T11:38:04.494Z"
   },
   {
    "duration": 12,
    "start_time": "2024-05-05T11:39:12.413Z"
   },
   {
    "duration": 27,
    "start_time": "2024-05-05T11:40:04.052Z"
   },
   {
    "duration": 112,
    "start_time": "2024-05-05T11:45:10.086Z"
   },
   {
    "duration": 1038,
    "start_time": "2024-05-05T11:46:13.767Z"
   },
   {
    "duration": 101,
    "start_time": "2024-05-05T11:46:14.807Z"
   },
   {
    "duration": 12,
    "start_time": "2024-05-05T11:46:14.910Z"
   },
   {
    "duration": 16,
    "start_time": "2024-05-05T11:46:14.929Z"
   },
   {
    "duration": 11,
    "start_time": "2024-05-05T11:46:14.947Z"
   },
   {
    "duration": 18,
    "start_time": "2024-05-05T11:46:14.960Z"
   },
   {
    "duration": 12,
    "start_time": "2024-05-05T11:46:14.980Z"
   },
   {
    "duration": 77,
    "start_time": "2024-05-05T11:46:14.994Z"
   },
   {
    "duration": 89,
    "start_time": "2024-05-05T11:46:15.073Z"
   },
   {
    "duration": 12,
    "start_time": "2024-05-05T11:46:15.164Z"
   },
   {
    "duration": 110,
    "start_time": "2024-05-05T11:46:15.178Z"
   },
   {
    "duration": 33,
    "start_time": "2024-05-05T11:46:15.290Z"
   },
   {
    "duration": 27,
    "start_time": "2024-05-05T11:46:15.325Z"
   },
   {
    "duration": 13,
    "start_time": "2024-05-05T11:46:15.355Z"
   },
   {
    "duration": 7,
    "start_time": "2024-05-05T11:46:15.370Z"
   },
   {
    "duration": 11,
    "start_time": "2024-05-05T11:46:15.379Z"
   },
   {
    "duration": 24,
    "start_time": "2024-05-05T11:46:15.392Z"
   },
   {
    "duration": 20,
    "start_time": "2024-05-05T11:46:15.418Z"
   },
   {
    "duration": 28,
    "start_time": "2024-05-05T11:46:15.440Z"
   },
   {
    "duration": 199,
    "start_time": "2024-05-05T11:46:15.470Z"
   },
   {
    "duration": 11,
    "start_time": "2024-05-05T11:46:15.671Z"
   },
   {
    "duration": 132,
    "start_time": "2024-05-05T11:46:15.683Z"
   },
   {
    "duration": 16,
    "start_time": "2024-05-05T11:46:15.817Z"
   },
   {
    "duration": 16,
    "start_time": "2024-05-05T11:46:15.835Z"
   },
   {
    "duration": 5,
    "start_time": "2024-05-05T11:46:15.853Z"
   },
   {
    "duration": 344,
    "start_time": "2024-05-05T11:46:15.859Z"
   },
   {
    "duration": 244,
    "start_time": "2024-05-05T11:46:16.205Z"
   },
   {
    "duration": 492,
    "start_time": "2024-05-05T11:46:16.451Z"
   },
   {
    "duration": 505,
    "start_time": "2024-05-05T11:46:16.944Z"
   },
   {
    "duration": 525,
    "start_time": "2024-05-05T11:46:17.451Z"
   },
   {
    "duration": 13,
    "start_time": "2024-05-05T11:46:18.030Z"
   },
   {
    "duration": 423,
    "start_time": "2024-05-05T11:46:18.044Z"
   },
   {
    "duration": 267,
    "start_time": "2024-05-05T11:46:18.469Z"
   },
   {
    "duration": 5,
    "start_time": "2024-05-05T11:46:18.737Z"
   },
   {
    "duration": 7,
    "start_time": "2024-05-05T11:46:18.743Z"
   },
   {
    "duration": 281,
    "start_time": "2024-05-05T11:46:18.751Z"
   },
   {
    "duration": 255,
    "start_time": "2024-05-05T11:46:19.034Z"
   },
   {
    "duration": 4,
    "start_time": "2024-05-05T11:46:19.290Z"
   },
   {
    "duration": 5,
    "start_time": "2024-05-05T11:46:19.296Z"
   },
   {
    "duration": 30,
    "start_time": "2024-05-05T11:46:19.303Z"
   },
   {
    "duration": 6,
    "start_time": "2024-05-05T11:46:19.337Z"
   },
   {
    "duration": 38,
    "start_time": "2024-05-05T11:46:19.345Z"
   },
   {
    "duration": 10,
    "start_time": "2024-05-05T11:46:19.385Z"
   },
   {
    "duration": 36,
    "start_time": "2024-05-05T11:46:19.397Z"
   },
   {
    "duration": 21,
    "start_time": "2024-05-05T11:46:19.435Z"
   },
   {
    "duration": 106,
    "start_time": "2024-05-05T11:46:19.457Z"
   },
   {
    "duration": 35,
    "start_time": "2024-05-05T11:46:19.565Z"
   },
   {
    "duration": 26,
    "start_time": "2024-05-05T11:46:19.603Z"
   },
   {
    "duration": 8,
    "start_time": "2024-05-05T11:46:40.831Z"
   },
   {
    "duration": 12,
    "start_time": "2024-05-05T11:46:41.514Z"
   },
   {
    "duration": 26,
    "start_time": "2024-05-05T11:46:41.933Z"
   },
   {
    "duration": 14,
    "start_time": "2024-05-05T11:46:43.962Z"
   },
   {
    "duration": 1106,
    "start_time": "2024-05-05T11:46:51.202Z"
   },
   {
    "duration": 94,
    "start_time": "2024-05-05T11:46:52.310Z"
   },
   {
    "duration": 11,
    "start_time": "2024-05-05T11:46:52.406Z"
   },
   {
    "duration": 12,
    "start_time": "2024-05-05T11:46:52.418Z"
   },
   {
    "duration": 11,
    "start_time": "2024-05-05T11:46:52.432Z"
   },
   {
    "duration": 14,
    "start_time": "2024-05-05T11:46:52.445Z"
   },
   {
    "duration": 17,
    "start_time": "2024-05-05T11:46:52.460Z"
   },
   {
    "duration": 12,
    "start_time": "2024-05-05T11:46:52.478Z"
   },
   {
    "duration": 82,
    "start_time": "2024-05-05T11:46:52.491Z"
   },
   {
    "duration": 10,
    "start_time": "2024-05-05T11:46:52.574Z"
   },
   {
    "duration": 13,
    "start_time": "2024-05-05T11:46:52.586Z"
   },
   {
    "duration": 32,
    "start_time": "2024-05-05T11:46:52.601Z"
   },
   {
    "duration": 13,
    "start_time": "2024-05-05T11:46:52.635Z"
   },
   {
    "duration": 13,
    "start_time": "2024-05-05T11:46:52.651Z"
   },
   {
    "duration": 9,
    "start_time": "2024-05-05T11:46:52.666Z"
   },
   {
    "duration": 7,
    "start_time": "2024-05-05T11:46:52.676Z"
   },
   {
    "duration": 14,
    "start_time": "2024-05-05T11:46:52.684Z"
   },
   {
    "duration": 37,
    "start_time": "2024-05-05T11:46:52.700Z"
   },
   {
    "duration": 16,
    "start_time": "2024-05-05T11:46:52.739Z"
   },
   {
    "duration": 187,
    "start_time": "2024-05-05T11:46:52.757Z"
   },
   {
    "duration": 13,
    "start_time": "2024-05-05T11:46:52.946Z"
   },
   {
    "duration": 156,
    "start_time": "2024-05-05T11:46:52.961Z"
   },
   {
    "duration": 12,
    "start_time": "2024-05-05T11:46:53.119Z"
   },
   {
    "duration": 18,
    "start_time": "2024-05-05T11:46:53.132Z"
   },
   {
    "duration": 6,
    "start_time": "2024-05-05T11:46:53.152Z"
   },
   {
    "duration": 344,
    "start_time": "2024-05-05T11:46:53.159Z"
   },
   {
    "duration": 258,
    "start_time": "2024-05-05T11:46:53.504Z"
   },
   {
    "duration": 328,
    "start_time": "2024-05-05T11:46:53.763Z"
   },
   {
    "duration": 264,
    "start_time": "2024-05-05T11:46:54.092Z"
   },
   {
    "duration": 347,
    "start_time": "2024-05-05T11:46:54.358Z"
   },
   {
    "duration": 14,
    "start_time": "2024-05-05T11:46:54.707Z"
   },
   {
    "duration": 395,
    "start_time": "2024-05-05T11:46:54.728Z"
   },
   {
    "duration": 263,
    "start_time": "2024-05-05T11:46:55.128Z"
   },
   {
    "duration": 5,
    "start_time": "2024-05-05T11:46:55.392Z"
   },
   {
    "duration": 5,
    "start_time": "2024-05-05T11:46:55.399Z"
   },
   {
    "duration": 297,
    "start_time": "2024-05-05T11:46:55.406Z"
   },
   {
    "duration": 266,
    "start_time": "2024-05-05T11:46:55.705Z"
   },
   {
    "duration": 5,
    "start_time": "2024-05-05T11:46:55.972Z"
   },
   {
    "duration": 9,
    "start_time": "2024-05-05T11:46:55.979Z"
   },
   {
    "duration": 28,
    "start_time": "2024-05-05T11:46:55.990Z"
   },
   {
    "duration": 8,
    "start_time": "2024-05-05T11:46:56.022Z"
   },
   {
    "duration": 36,
    "start_time": "2024-05-05T11:46:56.031Z"
   },
   {
    "duration": 13,
    "start_time": "2024-05-05T11:46:56.069Z"
   },
   {
    "duration": 17,
    "start_time": "2024-05-05T11:46:56.084Z"
   },
   {
    "duration": 36,
    "start_time": "2024-05-05T11:46:56.103Z"
   },
   {
    "duration": 105,
    "start_time": "2024-05-05T11:46:56.140Z"
   },
   {
    "duration": 55,
    "start_time": "2024-05-05T11:46:56.247Z"
   },
   {
    "duration": 16,
    "start_time": "2024-05-05T11:46:56.304Z"
   },
   {
    "duration": 16,
    "start_time": "2024-05-05T12:59:23.824Z"
   },
   {
    "duration": 225,
    "start_time": "2024-05-05T12:59:59.691Z"
   },
   {
    "duration": 248,
    "start_time": "2024-05-05T13:16:32.312Z"
   },
   {
    "duration": 285,
    "start_time": "2024-05-05T13:16:43.758Z"
   },
   {
    "duration": 254,
    "start_time": "2024-05-05T13:20:02.857Z"
   },
   {
    "duration": 10,
    "start_time": "2024-05-05T13:55:49.850Z"
   },
   {
    "duration": 9,
    "start_time": "2024-05-05T13:56:15.290Z"
   },
   {
    "duration": 8,
    "start_time": "2024-05-05T13:56:20.339Z"
   },
   {
    "duration": 12,
    "start_time": "2024-05-05T13:56:21.992Z"
   },
   {
    "duration": 17,
    "start_time": "2024-05-05T13:58:42.222Z"
   },
   {
    "duration": 287,
    "start_time": "2024-05-05T14:10:09.340Z"
   },
   {
    "duration": 274,
    "start_time": "2024-05-05T14:11:06.042Z"
   },
   {
    "duration": 70,
    "start_time": "2024-05-05T14:25:04.541Z"
   },
   {
    "duration": 11,
    "start_time": "2024-05-05T14:25:05.200Z"
   },
   {
    "duration": 6,
    "start_time": "2024-05-05T14:25:05.608Z"
   },
   {
    "duration": 7,
    "start_time": "2024-05-05T14:25:05.784Z"
   },
   {
    "duration": 10,
    "start_time": "2024-05-05T14:25:06.138Z"
   },
   {
    "duration": 12,
    "start_time": "2024-05-05T14:25:06.612Z"
   },
   {
    "duration": 6,
    "start_time": "2024-05-05T14:25:07.060Z"
   },
   {
    "duration": 5,
    "start_time": "2024-05-05T14:25:07.248Z"
   },
   {
    "duration": 13,
    "start_time": "2024-05-05T14:25:07.799Z"
   },
   {
    "duration": 12,
    "start_time": "2024-05-05T14:25:07.970Z"
   },
   {
    "duration": 12,
    "start_time": "2024-05-05T14:25:08.615Z"
   },
   {
    "duration": 162,
    "start_time": "2024-05-05T14:25:08.975Z"
   },
   {
    "duration": 11,
    "start_time": "2024-05-05T14:25:09.185Z"
   },
   {
    "duration": 125,
    "start_time": "2024-05-05T14:25:09.539Z"
   },
   {
    "duration": 12,
    "start_time": "2024-05-05T14:25:09.704Z"
   },
   {
    "duration": 16,
    "start_time": "2024-05-05T14:25:09.908Z"
   },
   {
    "duration": 13,
    "start_time": "2024-05-05T14:25:10.284Z"
   },
   {
    "duration": 227,
    "start_time": "2024-05-05T14:25:16.642Z"
   },
   {
    "duration": 231,
    "start_time": "2024-05-05T14:25:17.148Z"
   },
   {
    "duration": 341,
    "start_time": "2024-05-05T14:25:17.705Z"
   },
   {
    "duration": 243,
    "start_time": "2024-05-05T14:25:18.292Z"
   },
   {
    "duration": 4,
    "start_time": "2024-05-05T14:25:28.979Z"
   },
   {
    "duration": 31,
    "start_time": "2024-05-05T14:25:29.172Z"
   },
   {
    "duration": 13,
    "start_time": "2024-05-05T14:25:29.610Z"
   },
   {
    "duration": 6,
    "start_time": "2024-05-05T14:25:29.932Z"
   },
   {
    "duration": 6,
    "start_time": "2024-05-05T14:25:30.098Z"
   },
   {
    "duration": 9,
    "start_time": "2024-05-05T14:25:30.374Z"
   },
   {
    "duration": 11,
    "start_time": "2024-05-05T14:25:30.831Z"
   },
   {
    "duration": 12,
    "start_time": "2024-05-05T14:25:31.420Z"
   },
   {
    "duration": 68,
    "start_time": "2024-05-05T14:25:32.650Z"
   },
   {
    "duration": 11,
    "start_time": "2024-05-05T14:25:32.985Z"
   },
   {
    "duration": 8,
    "start_time": "2024-05-05T14:25:33.308Z"
   },
   {
    "duration": 5,
    "start_time": "2024-05-05T14:25:33.453Z"
   },
   {
    "duration": 14,
    "start_time": "2024-05-05T14:25:33.770Z"
   },
   {
    "duration": 10,
    "start_time": "2024-05-05T14:25:34.130Z"
   },
   {
    "duration": 6,
    "start_time": "2024-05-05T14:25:34.432Z"
   },
   {
    "duration": 5,
    "start_time": "2024-05-05T14:25:34.623Z"
   },
   {
    "duration": 16,
    "start_time": "2024-05-05T14:25:35.078Z"
   },
   {
    "duration": 12,
    "start_time": "2024-05-05T14:25:35.249Z"
   },
   {
    "duration": 13,
    "start_time": "2024-05-05T14:25:35.730Z"
   },
   {
    "duration": 157,
    "start_time": "2024-05-05T14:25:36.068Z"
   },
   {
    "duration": 10,
    "start_time": "2024-05-05T14:25:36.227Z"
   },
   {
    "duration": 124,
    "start_time": "2024-05-05T14:25:36.540Z"
   },
   {
    "duration": 12,
    "start_time": "2024-05-05T14:25:36.712Z"
   },
   {
    "duration": 22,
    "start_time": "2024-05-05T14:25:36.889Z"
   },
   {
    "duration": 14,
    "start_time": "2024-05-05T14:25:37.218Z"
   },
   {
    "duration": 227,
    "start_time": "2024-05-05T14:25:37.680Z"
   },
   {
    "duration": 347,
    "start_time": "2024-05-05T14:25:38.159Z"
   },
   {
    "duration": 302,
    "start_time": "2024-05-05T14:25:38.654Z"
   },
   {
    "duration": 240,
    "start_time": "2024-05-05T14:25:39.141Z"
   },
   {
    "duration": 308,
    "start_time": "2024-05-05T14:25:39.651Z"
   },
   {
    "duration": 14,
    "start_time": "2024-05-05T14:25:40.179Z"
   },
   {
    "duration": 255,
    "start_time": "2024-05-05T14:25:40.342Z"
   },
   {
    "duration": 282,
    "start_time": "2024-05-05T14:25:40.599Z"
   },
   {
    "duration": 5,
    "start_time": "2024-05-05T14:25:41.040Z"
   },
   {
    "duration": 5,
    "start_time": "2024-05-05T14:25:41.346Z"
   },
   {
    "duration": 272,
    "start_time": "2024-05-05T14:25:42.024Z"
   },
   {
    "duration": 288,
    "start_time": "2024-05-05T14:25:42.298Z"
   },
   {
    "duration": 4,
    "start_time": "2024-05-05T14:25:42.729Z"
   },
   {
    "duration": 5,
    "start_time": "2024-05-05T14:25:43.123Z"
   },
   {
    "duration": 10,
    "start_time": "2024-05-05T14:25:43.797Z"
   },
   {
    "duration": 5,
    "start_time": "2024-05-05T14:25:43.980Z"
   },
   {
    "duration": 27,
    "start_time": "2024-05-05T14:25:44.309Z"
   },
   {
    "duration": 12,
    "start_time": "2024-05-05T14:25:44.995Z"
   },
   {
    "duration": 11,
    "start_time": "2024-05-05T14:25:45.852Z"
   },
   {
    "duration": 8,
    "start_time": "2024-05-05T14:25:46.012Z"
   },
   {
    "duration": 12,
    "start_time": "2024-05-05T14:25:46.195Z"
   },
   {
    "duration": 26,
    "start_time": "2024-05-05T14:25:46.364Z"
   },
   {
    "duration": 15,
    "start_time": "2024-05-05T14:25:47.065Z"
   },
   {
    "duration": 1127,
    "start_time": "2024-05-05T16:48:29.299Z"
   },
   {
    "duration": 133,
    "start_time": "2024-05-05T16:48:30.428Z"
   },
   {
    "duration": 11,
    "start_time": "2024-05-05T16:48:30.563Z"
   },
   {
    "duration": 59,
    "start_time": "2024-05-05T16:48:30.575Z"
   },
   {
    "duration": 43,
    "start_time": "2024-05-05T16:48:30.635Z"
   },
   {
    "duration": 50,
    "start_time": "2024-05-05T16:48:30.679Z"
   },
   {
    "duration": 72,
    "start_time": "2024-05-05T16:48:30.731Z"
   },
   {
    "duration": 63,
    "start_time": "2024-05-05T16:48:30.805Z"
   },
   {
    "duration": 212,
    "start_time": "2024-05-05T16:48:30.869Z"
   },
   {
    "duration": 8,
    "start_time": "2024-05-05T16:48:31.084Z"
   },
   {
    "duration": 38,
    "start_time": "2024-05-05T16:48:31.094Z"
   },
   {
    "duration": 58,
    "start_time": "2024-05-05T16:48:31.133Z"
   },
   {
    "duration": 28,
    "start_time": "2024-05-05T16:48:31.192Z"
   },
   {
    "duration": 50,
    "start_time": "2024-05-05T16:48:31.221Z"
   },
   {
    "duration": 72,
    "start_time": "2024-05-05T16:48:31.272Z"
   },
   {
    "duration": 54,
    "start_time": "2024-05-05T16:48:31.345Z"
   },
   {
    "duration": 24,
    "start_time": "2024-05-05T16:48:31.401Z"
   },
   {
    "duration": 28,
    "start_time": "2024-05-05T16:48:31.426Z"
   },
   {
    "duration": 57,
    "start_time": "2024-05-05T16:48:31.456Z"
   },
   {
    "duration": 179,
    "start_time": "2024-05-05T16:48:31.514Z"
   },
   {
    "duration": 10,
    "start_time": "2024-05-05T16:48:31.694Z"
   },
   {
    "duration": 118,
    "start_time": "2024-05-05T16:48:31.705Z"
   },
   {
    "duration": 10,
    "start_time": "2024-05-05T16:48:31.824Z"
   },
   {
    "duration": 37,
    "start_time": "2024-05-05T16:48:31.835Z"
   },
   {
    "duration": 21,
    "start_time": "2024-05-05T16:48:31.874Z"
   },
   {
    "duration": 317,
    "start_time": "2024-05-05T16:48:31.896Z"
   },
   {
    "duration": 221,
    "start_time": "2024-05-05T16:48:32.215Z"
   },
   {
    "duration": 359,
    "start_time": "2024-05-05T16:48:32.446Z"
   },
   {
    "duration": 214,
    "start_time": "2024-05-05T16:48:32.807Z"
   },
   {
    "duration": 324,
    "start_time": "2024-05-05T16:48:33.023Z"
   },
   {
    "duration": 12,
    "start_time": "2024-05-05T16:48:33.348Z"
   },
   {
    "duration": 235,
    "start_time": "2024-05-05T16:48:33.361Z"
   },
   {
    "duration": 236,
    "start_time": "2024-05-05T16:48:33.598Z"
   },
   {
    "duration": 4,
    "start_time": "2024-05-05T16:48:33.835Z"
   },
   {
    "duration": 7,
    "start_time": "2024-05-05T16:48:33.840Z"
   },
   {
    "duration": 249,
    "start_time": "2024-05-05T16:48:33.848Z"
   },
   {
    "duration": 259,
    "start_time": "2024-05-05T16:48:34.098Z"
   },
   {
    "duration": 4,
    "start_time": "2024-05-05T16:48:34.358Z"
   },
   {
    "duration": 5,
    "start_time": "2024-05-05T16:48:34.363Z"
   },
   {
    "duration": 18,
    "start_time": "2024-05-05T16:48:34.369Z"
   },
   {
    "duration": 4,
    "start_time": "2024-05-05T16:48:34.388Z"
   },
   {
    "duration": 25,
    "start_time": "2024-05-05T16:48:34.394Z"
   },
   {
    "duration": 27,
    "start_time": "2024-05-05T16:48:34.420Z"
   },
   {
    "duration": 17,
    "start_time": "2024-05-05T16:48:34.448Z"
   },
   {
    "duration": 9,
    "start_time": "2024-05-05T16:48:34.466Z"
   },
   {
    "duration": 77,
    "start_time": "2024-05-05T16:48:34.476Z"
   },
   {
    "duration": 27,
    "start_time": "2024-05-05T16:48:34.554Z"
   },
   {
    "duration": 12,
    "start_time": "2024-05-05T16:48:34.583Z"
   },
   {
    "duration": 47,
    "start_time": "2024-05-06T11:19:17.628Z"
   },
   {
    "duration": 1279,
    "start_time": "2024-05-06T11:19:40.145Z"
   },
   {
    "duration": 122,
    "start_time": "2024-05-06T11:19:41.425Z"
   },
   {
    "duration": 10,
    "start_time": "2024-05-06T11:19:41.549Z"
   },
   {
    "duration": 24,
    "start_time": "2024-05-06T11:19:41.561Z"
   },
   {
    "duration": 15,
    "start_time": "2024-05-06T11:19:41.587Z"
   },
   {
    "duration": 18,
    "start_time": "2024-05-06T11:19:41.604Z"
   },
   {
    "duration": 16,
    "start_time": "2024-05-06T11:19:41.623Z"
   },
   {
    "duration": 10,
    "start_time": "2024-05-06T11:19:41.641Z"
   },
   {
    "duration": 169,
    "start_time": "2024-05-06T11:19:41.652Z"
   },
   {
    "duration": 10,
    "start_time": "2024-05-06T11:19:41.822Z"
   },
   {
    "duration": 22,
    "start_time": "2024-05-06T11:19:41.834Z"
   },
   {
    "duration": 8,
    "start_time": "2024-05-06T11:19:41.857Z"
   },
   {
    "duration": 11,
    "start_time": "2024-05-06T11:19:41.867Z"
   },
   {
    "duration": 16,
    "start_time": "2024-05-06T11:19:41.882Z"
   },
   {
    "duration": 9,
    "start_time": "2024-05-06T11:19:41.899Z"
   },
   {
    "duration": 9,
    "start_time": "2024-05-06T11:19:41.909Z"
   },
   {
    "duration": 15,
    "start_time": "2024-05-06T11:19:41.919Z"
   },
   {
    "duration": 10,
    "start_time": "2024-05-06T11:19:41.936Z"
   },
   {
    "duration": 26,
    "start_time": "2024-05-06T11:19:41.947Z"
   },
   {
    "duration": 158,
    "start_time": "2024-05-06T11:19:41.974Z"
   },
   {
    "duration": 10,
    "start_time": "2024-05-06T11:19:42.134Z"
   },
   {
    "duration": 132,
    "start_time": "2024-05-06T11:19:42.145Z"
   },
   {
    "duration": 9,
    "start_time": "2024-05-06T11:19:42.278Z"
   },
   {
    "duration": 23,
    "start_time": "2024-05-06T11:19:42.289Z"
   },
   {
    "duration": 15,
    "start_time": "2024-05-06T11:19:42.314Z"
   },
   {
    "duration": 319,
    "start_time": "2024-05-06T11:19:42.331Z"
   },
   {
    "duration": 214,
    "start_time": "2024-05-06T11:19:42.651Z"
   },
   {
    "duration": 370,
    "start_time": "2024-05-06T11:19:42.867Z"
   },
   {
    "duration": 236,
    "start_time": "2024-05-06T11:19:43.238Z"
   },
   {
    "duration": 341,
    "start_time": "2024-05-06T11:19:43.475Z"
   },
   {
    "duration": 12,
    "start_time": "2024-05-06T11:19:43.818Z"
   },
   {
    "duration": 273,
    "start_time": "2024-05-06T11:19:43.831Z"
   },
   {
    "duration": 260,
    "start_time": "2024-05-06T11:19:44.105Z"
   },
   {
    "duration": 5,
    "start_time": "2024-05-06T11:19:44.369Z"
   },
   {
    "duration": 20,
    "start_time": "2024-05-06T11:19:44.375Z"
   },
   {
    "duration": 277,
    "start_time": "2024-05-06T11:19:44.397Z"
   },
   {
    "duration": 287,
    "start_time": "2024-05-06T11:19:44.676Z"
   },
   {
    "duration": 5,
    "start_time": "2024-05-06T11:19:44.965Z"
   },
   {
    "duration": 10,
    "start_time": "2024-05-06T11:19:44.972Z"
   },
   {
    "duration": 28,
    "start_time": "2024-05-06T11:19:44.983Z"
   },
   {
    "duration": 59,
    "start_time": "2024-05-06T11:19:45.016Z"
   },
   {
    "duration": 85,
    "start_time": "2024-05-06T11:19:45.077Z"
   },
   {
    "duration": 15,
    "start_time": "2024-05-06T11:19:45.164Z"
   },
   {
    "duration": 19,
    "start_time": "2024-05-06T11:19:45.181Z"
   },
   {
    "duration": 24,
    "start_time": "2024-05-06T11:19:45.202Z"
   },
   {
    "duration": 113,
    "start_time": "2024-05-06T11:19:45.228Z"
   },
   {
    "duration": 29,
    "start_time": "2024-05-06T11:19:45.342Z"
   },
   {
    "duration": 13,
    "start_time": "2024-05-06T11:19:45.373Z"
   },
   {
    "duration": 233,
    "start_time": "2024-05-06T11:28:51.273Z"
   },
   {
    "duration": 234,
    "start_time": "2024-05-06T11:29:14.703Z"
   },
   {
    "duration": 350,
    "start_time": "2024-05-06T11:29:28.119Z"
   },
   {
    "duration": 236,
    "start_time": "2024-05-06T11:29:41.151Z"
   },
   {
    "duration": 320,
    "start_time": "2024-05-06T11:29:53.671Z"
   }
  ],
  "kernelspec": {
   "display_name": "Python 3 (ipykernel)",
   "language": "python",
   "name": "python3"
  },
  "language_info": {
   "codemirror_mode": {
    "name": "ipython",
    "version": 3
   },
   "file_extension": ".py",
   "mimetype": "text/x-python",
   "name": "python",
   "nbconvert_exporter": "python",
   "pygments_lexer": "ipython3",
   "version": "3.9.5"
  },
  "toc": {
   "base_numbering": 1,
   "nav_menu": {},
   "number_sections": false,
   "sideBar": true,
   "skip_h1_title": false,
   "title_cell": "Table of Contents",
   "title_sidebar": "Contents",
   "toc_cell": false,
   "toc_position": {
    "height": "calc(100% - 180px)",
    "left": "10px",
    "top": "150px",
    "width": "213.391px"
   },
   "toc_section_display": true,
   "toc_window_display": true
  }
 },
 "nbformat": 4,
 "nbformat_minor": 2
}
