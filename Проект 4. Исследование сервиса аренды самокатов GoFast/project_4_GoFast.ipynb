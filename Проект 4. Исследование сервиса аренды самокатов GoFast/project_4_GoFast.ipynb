{
 "cells": [
  {
   "cell_type": "markdown",
   "id": "7749ea25",
   "metadata": {},
   "source": [
    "# Статистический анализ данных:  Анализ сервиса аренды самокатов GoFast"
   ]
  },
  {
   "cell_type": "markdown",
   "id": "ed6f0863",
   "metadata": {},
   "source": [
    "Основная цель проекта: проанализировать данные сервиса аренды самокатов GoFast и проверить некоторые гипотезы, которые могут помочь бизнесу вырасти.\n",
    "\n",
    "Чтобы совершать поездки по городу, пользователи сервиса GoFast пользуются мобильным приложением.\n",
    "\n",
    "Сервисом можно пользоваться:\n",
    "\n",
    "БЕЗ ПОДПИСКИ:\n",
    "\n",
    "    - абонентская плата отсутствует;\n",
    "\n",
    "    - стоимость одной минуты поездки — 8 рублей;\n",
    "\n",
    "    - стоимость старта (начала поездки) — 50 рублей;\n",
    "\n",
    "С ПОДПИСКОЙ ULTRA:\n",
    "\n",
    "    - абонентская плата — 199 рублей в месяц;\n",
    "\n",
    "    - стоимость одной минуты поездки — 6 рублей;\n",
    "\n",
    "    - стоимость старта — бесплатно.\n",
    "\n",
    "\n",
    "План проекта:\n",
    "\n",
    "Шаг 1. Загрузка данных\n",
    "- 1.1 Считаем CSV-файлы с данными с помощью библиотеки pandas и сохраним их в датафреймы. Пути к файлам:\n",
    "\n",
    "    /datasets/users_go.csv\n",
    "    \n",
    "    /datasets/rides_go.csv\n",
    "    \n",
    "    /datasets/subscriptions_go.csv\n",
    "    \n",
    "- 1.2 Выведем первые строки каждого набора данных. Изучим общую информацию о каждом датафрейме.\n",
    "\n",
    "Шаг 2. Предобработка данных\n",
    "- 2.1 Привём столбец date к типу даты pandas.\n",
    "- 2.2 Создадим новый столбец с номером месяца на основе столбца date.\n",
    "- 2.3 Проверим наличие пропущенных значений и дубликатов в датафреймах. Обработаем их, если такие значения присутствуют.\n",
    "\n",
    "Шаг 3. Исследовательский анализ данных\n",
    "Опишем и визуализируйте общую информацию о пользователях и поездках:\n",
    "- 3.1 частота встречаемости городов;\n",
    "- 3.2 соотношение пользователей с подпиской и без подписки;\n",
    "- 3.3 возраст пользователей;\n",
    "- 3.4 расстояние, которое пользователь преодолел за одну поездку;\n",
    "- 3.5 продолжительность поездок.\n",
    "\n",
    "Шаг 4. Объединение данных\n",
    "- 4.1 Объединим данные о пользователях, поездках и подписках в один датафрейм. Для этого воспользуемся методом merge().\n",
    "- 4.2 Создадим ещё два датафрейма из датафрейма, созданного на этапе 4.1:\n",
    "  c данными о пользователях без подписки;\n",
    "  с данными о пользователях с подпиской.\n",
    "- 4.3 Визуализируем информацию о расстоянии и времени поездок для пользователей обеих категорий.\n",
    "\n",
    "Шаг 5. Подсчёт выручки\n",
    "- 5.1 Создадим датафрейм с агрегированными данными о поездках на основе датафрейма с объединёнными данными из шага 4: найдём - суммарное расстояние, количество поездок и суммарное время для каждого пользователя за каждый месяц.\n",
    "- 5.2 В этот же датафрейм добавим столбец с помесячной выручкой, которую принёс каждый пользователь. Для этого обратимся к информации об условиях оплаты для подписчиков и тех, у кого нет подписки. Продолжительность каждой поездки в каждой строке исходного датафрейма для подсчёта стоимости округляется до следующего целого числа.\n",
    "\n",
    "Шаг 6. Проверка гипотез\n",
    "Продакт-менеджеры сервиса хотят увеличить количество пользователей с подпиской. Для этого они будут проводить различные акции, но сначала нужно выяснить несколько важных моментов.\n",
    "- 6.1 Важно понять, тратят ли пользователи с подпиской больше времени на поездки? Если да, то пользователи с подпиской могут быть «выгоднее» для компании. Проверим гипотезу. Используем исходные данные о продолжительности каждой сессии — отдельно для подписчиков и тех, у кого нет подписки.\n",
    "- 6.2 Расстояние одной поездки в  3130 метров — оптимальное с точки зрения износа самоката. Можно ли сказать, что среднее расстояние, которое проезжают пользователи с подпиской за одну поездку, не превышает  3130 метров? Проверим гипотезу и сделаем выводы.\n",
    "- 6.3 Проверим гипотезу о том, будет ли помесячная выручка от пользователей с подпиской по месяцам выше, чем выручка от пользователей без подписки. Сделаем вывод.\n",
    "- 6.4 Представим такую ситуацию: техническая команда сервиса обновила сервера, с которыми взаимодействует мобильное приложение. Она надеется, что из-за этого количество обращений в техподдержку значимо снизилось. Некоторый файл содержит для каждого пользователя данные о количестве обращений до обновления и после него. Какой тест нам понадобился бы для проверки этой гипотезы?\n",
    "\n",
    "Шаг 7 Общий вывод"
   ]
  },
  {
   "cell_type": "code",
   "execution_count": 1,
   "id": "72576667",
   "metadata": {},
   "outputs": [],
   "source": [
    "import pandas as pd\n",
    "import matplotlib.pyplot as plt\n",
    "import numpy as np\n",
    "from scipy import stats as st\n",
    "import seaborn as sns"
   ]
  },
  {
   "cell_type": "markdown",
   "id": "c42cbe00",
   "metadata": {},
   "source": [
    "## Шаг 1. Загрузка данных"
   ]
  },
  {
   "cell_type": "code",
   "execution_count": 2,
   "id": "eff9f206",
   "metadata": {},
   "outputs": [
    {
     "name": "stdout",
     "output_type": "stream",
     "text": [
      "<class 'pandas.core.frame.DataFrame'>\n",
      "RangeIndex: 1565 entries, 0 to 1564\n",
      "Data columns (total 5 columns):\n",
      " #   Column             Non-Null Count  Dtype \n",
      "---  ------             --------------  ----- \n",
      " 0   user_id            1565 non-null   int64 \n",
      " 1   name               1565 non-null   object\n",
      " 2   age                1565 non-null   int64 \n",
      " 3   city               1565 non-null   object\n",
      " 4   subscription_type  1565 non-null   object\n",
      "dtypes: int64(2), object(3)\n",
      "memory usage: 61.3+ KB\n"
     ]
    }
   ],
   "source": [
    "data_users = pd.read_csv('/datasets/users_go.csv')\n",
    "data_users.info()"
   ]
  },
  {
   "cell_type": "code",
   "execution_count": 79,
   "id": "0e854388",
   "metadata": {},
   "outputs": [
    {
     "data": {
      "image/png": "[encoded data removed]",
      "text/plain": [
       "<Figure size 432x288 with 1 Axes>"
      ]
     },
     "metadata": {
      "needs_background": "light"
     },
     "output_type": "display_data"
    }
   ],
   "source": [
    "data_users['age'].hist();\n",
    "plt.xlabel('Возраст');\n",
    "plt.ylabel('Количество пользователей');\n",
    "plt.title('Возраст пользователей');"
   ]
  },
  {
   "cell_type": "code",
   "execution_count": 80,
   "id": "d23e28aa",
   "metadata": {},
   "outputs": [
    {
     "name": "stdout",
     "output_type": "stream",
     "text": [
      "free     835\n",
      "ultra    699\n",
      "Name: subscription_type, dtype: int64\n"
     ]
    }
   ],
   "source": [
    "print(data_users['subscription_type'].value_counts())"
   ]
  },
  {
   "cell_type": "markdown",
   "id": "e1a01de3",
   "metadata": {},
   "source": []
  },
  {
   "cell_type": "code",
   "execution_count": 5,
   "id": "a1d6b14d",
   "metadata": {},
   "outputs": [
    {
     "name": "stdout",
     "output_type": "stream",
     "text": [
      "Пятигорск         226\n",
      "Екатеринбург      206\n",
      "Ростов-на-Дону    202\n",
      "Краснодар         196\n",
      "Сочи              192\n",
      "Омск              186\n",
      "Тюмень            185\n",
      "Москва            172\n",
      "Name: city, dtype: int64\n"
     ]
    }
   ],
   "source": [
    "print(data_users['city'].value_counts())"
   ]
  },
  {
   "cell_type": "code",
   "execution_count": 6,
   "id": "61b1d84f",
   "metadata": {
    "scrolled": true
   },
   "outputs": [
    {
     "data": {
      "image/png": "[encoded data removed]",
      "text/plain": [
       "<Figure size 432x432 with 1 Axes>"
      ]
     },
     "metadata": {},
     "output_type": "display_data"
    }
   ],
   "source": [
    "data_users['city'].value_counts().plot(kind='pie', y=data_users['city'].value_counts(),\\\n",
    "                                       autopct = '%1.0f%%', figsize=(6,6), title='Распределение пользователей по городам');"
   ]
  },
  {
   "cell_type": "code",
   "execution_count": 7,
   "id": "9b599350",
   "metadata": {},
   "outputs": [
    {
     "name": "stdout",
     "output_type": "stream",
     "text": [
      "<class 'pandas.core.frame.DataFrame'>\n",
      "RangeIndex: 18068 entries, 0 to 18067\n",
      "Data columns (total 4 columns):\n",
      " #   Column    Non-Null Count  Dtype  \n",
      "---  ------    --------------  -----  \n",
      " 0   user_id   18068 non-null  int64  \n",
      " 1   distance  18068 non-null  float64\n",
      " 2   duration  18068 non-null  float64\n",
      " 3   date      18068 non-null  object \n",
      "dtypes: float64(2), int64(1), object(1)\n",
      "memory usage: 564.8+ KB\n"
     ]
    }
   ],
   "source": [
    "data_rides = pd.read_csv('/datasets/rides_go.csv')\n",
    "data_rides.info()"
   ]
  },
  {
   "cell_type": "code",
   "execution_count": 8,
   "id": "1f48dcfd",
   "metadata": {},
   "outputs": [
    {
     "data": {
      "text/html": [
       "<div>\n",
       "<style scoped>\n",
       "    .dataframe tbody tr th:only-of-type {\n",
       "        vertical-align: middle;\n",
       "    }\n",
       "\n",
       "    .dataframe tbody tr th {\n",
       "        vertical-align: top;\n",
       "    }\n",
       "\n",
       "    .dataframe thead th {\n",
       "        text-align: right;\n",
       "    }\n",
       "</style>\n",
       "<table border=\"1\" class=\"dataframe\">\n",
       "  <thead>\n",
       "    <tr style=\"text-align: right;\">\n",
       "      <th></th>\n",
       "      <th>user_id</th>\n",
       "      <th>distance</th>\n",
       "      <th>duration</th>\n",
       "      <th>date</th>\n",
       "    </tr>\n",
       "  </thead>\n",
       "  <tbody>\n",
       "    <tr>\n",
       "      <th>0</th>\n",
       "      <td>1</td>\n",
       "      <td>4409.919140</td>\n",
       "      <td>25.599769</td>\n",
       "      <td>2021-01-01</td>\n",
       "    </tr>\n",
       "    <tr>\n",
       "      <th>1</th>\n",
       "      <td>1</td>\n",
       "      <td>2617.592153</td>\n",
       "      <td>15.816871</td>\n",
       "      <td>2021-01-18</td>\n",
       "    </tr>\n",
       "    <tr>\n",
       "      <th>2</th>\n",
       "      <td>1</td>\n",
       "      <td>754.159807</td>\n",
       "      <td>6.232113</td>\n",
       "      <td>2021-04-20</td>\n",
       "    </tr>\n",
       "    <tr>\n",
       "      <th>3</th>\n",
       "      <td>1</td>\n",
       "      <td>2694.783254</td>\n",
       "      <td>18.511000</td>\n",
       "      <td>2021-08-11</td>\n",
       "    </tr>\n",
       "    <tr>\n",
       "      <th>4</th>\n",
       "      <td>1</td>\n",
       "      <td>4028.687306</td>\n",
       "      <td>26.265803</td>\n",
       "      <td>2021-08-28</td>\n",
       "    </tr>\n",
       "  </tbody>\n",
       "</table>\n",
       "</div>"
      ],
      "text/plain": [
       "   user_id     distance   duration        date\n",
       "0        1  4409.919140  25.599769  2021-01-01\n",
       "1        1  2617.592153  15.816871  2021-01-18\n",
       "2        1   754.159807   6.232113  2021-04-20\n",
       "3        1  2694.783254  18.511000  2021-08-11\n",
       "4        1  4028.687306  26.265803  2021-08-28"
      ]
     },
     "execution_count": 8,
     "metadata": {},
     "output_type": "execute_result"
    }
   ],
   "source": [
    "data_rides.head()"
   ]
  },
  {
   "cell_type": "code",
   "execution_count": 9,
   "id": "5abc4242",
   "metadata": {},
   "outputs": [
    {
     "name": "stdout",
     "output_type": "stream",
     "text": [
      "1236    27\n",
      "783     26\n",
      "1063    26\n",
      "1204    24\n",
      "1149    23\n",
      "716     23\n",
      "1531    23\n",
      "1030    23\n",
      "1049    22\n",
      "895     22\n",
      "Name: user_id, dtype: int64\n"
     ]
    }
   ],
   "source": [
    "top_usr = data_rides['user_id'].value_counts()\n",
    "print(top_usr.head(10))"
   ]
  },
  {
   "cell_type": "code",
   "execution_count": 10,
   "id": "0ceef6a8",
   "metadata": {},
   "outputs": [
    {
     "name": "stdout",
     "output_type": "stream",
     "text": [
      "             distance    duration\n",
      "user_id                          \n",
      "1063     79325.846482  440.533761\n",
      "1236     78744.976586  446.233013\n",
      "1361     77773.501423  408.979310\n",
      "1468     77392.080789  429.513327\n",
      "1374     74901.673366  394.418821\n",
      "895      74266.723567  417.896744\n",
      "1204     72873.754697  432.153686\n",
      "1383     71564.205631  401.388850\n",
      "1217     71525.424486  355.845697\n",
      "1419     71074.358791  403.344101\n"
     ]
    }
   ],
   "source": [
    "top_usr_dist = data_rides.groupby('user_id').sum().sort_values(by='distance', ascending=False)\n",
    "print(top_usr_dist.head(10))"
   ]
  },
  {
   "cell_type": "code",
   "execution_count": 11,
   "id": "30269b23",
   "metadata": {},
   "outputs": [
    {
     "name": "stdout",
     "output_type": "stream",
     "text": [
      "             distance    duration\n",
      "user_id                          \n",
      "1236     78744.976586  446.233013\n",
      "1063     79325.846482  440.533761\n",
      "783      68009.897540  435.186652\n",
      "871      69047.297122  433.501726\n",
      "1204     72873.754697  432.153686\n",
      "1149     67160.338802  431.510146\n",
      "1468     77392.080789  429.513327\n",
      "895      74266.723567  417.896744\n",
      "90       63008.189707  411.822515\n",
      "1361     77773.501423  408.979310\n"
     ]
    }
   ],
   "source": [
    "top_usr_dur = data_rides.groupby('user_id').sum().sort_values(by='duration', ascending=False)\n",
    "print(top_usr_dur.head(10))"
   ]
  },
  {
   "cell_type": "code",
   "execution_count": 12,
   "id": "1fe9b1aa",
   "metadata": {},
   "outputs": [
    {
     "name": "stdout",
     "output_type": "stream",
     "text": [
      "<class 'pandas.core.frame.DataFrame'>\n",
      "RangeIndex: 2 entries, 0 to 1\n",
      "Data columns (total 4 columns):\n",
      " #   Column             Non-Null Count  Dtype \n",
      "---  ------             --------------  ----- \n",
      " 0   subscription_type  2 non-null      object\n",
      " 1   minute_price       2 non-null      int64 \n",
      " 2   start_ride_price   2 non-null      int64 \n",
      " 3   subscription_fee   2 non-null      int64 \n",
      "dtypes: int64(3), object(1)\n",
      "memory usage: 192.0+ bytes\n"
     ]
    }
   ],
   "source": [
    "data_sub = pd.read_csv('/datasets/subscriptions_go.csv')\n",
    "data_sub.info()"
   ]
  },
  {
   "cell_type": "code",
   "execution_count": 13,
   "id": "a2f99185",
   "metadata": {},
   "outputs": [
    {
     "data": {
      "text/html": [
       "<div>\n",
       "<style scoped>\n",
       "    .dataframe tbody tr th:only-of-type {\n",
       "        vertical-align: middle;\n",
       "    }\n",
       "\n",
       "    .dataframe tbody tr th {\n",
       "        vertical-align: top;\n",
       "    }\n",
       "\n",
       "    .dataframe thead th {\n",
       "        text-align: right;\n",
       "    }\n",
       "</style>\n",
       "<table border=\"1\" class=\"dataframe\">\n",
       "  <thead>\n",
       "    <tr style=\"text-align: right;\">\n",
       "      <th></th>\n",
       "      <th>subscription_type</th>\n",
       "      <th>minute_price</th>\n",
       "      <th>start_ride_price</th>\n",
       "      <th>subscription_fee</th>\n",
       "    </tr>\n",
       "  </thead>\n",
       "  <tbody>\n",
       "    <tr>\n",
       "      <th>0</th>\n",
       "      <td>free</td>\n",
       "      <td>8</td>\n",
       "      <td>50</td>\n",
       "      <td>0</td>\n",
       "    </tr>\n",
       "    <tr>\n",
       "      <th>1</th>\n",
       "      <td>ultra</td>\n",
       "      <td>6</td>\n",
       "      <td>0</td>\n",
       "      <td>199</td>\n",
       "    </tr>\n",
       "  </tbody>\n",
       "</table>\n",
       "</div>"
      ],
      "text/plain": [
       "  subscription_type  minute_price  start_ride_price  subscription_fee\n",
       "0              free             8                50                 0\n",
       "1             ultra             6                 0               199"
      ]
     },
     "execution_count": 13,
     "metadata": {},
     "output_type": "execute_result"
    }
   ],
   "source": [
    "data_sub.head()"
   ]
  },
  {
   "cell_type": "markdown",
   "id": "2d92467c",
   "metadata": {},
   "source": [
    "Вывод: Загрузили и рассмотрели данные, вывели первые строки каждого набора данных. Изучили общую информацию о каждом датафрейме.\n",
    "\n",
    "Основные пользователи - люди от 20 до 30 лет\n",
    "\n",
    "Распределение пользователей по городам +- одинаковое:\n",
    "\n",
    "Наибольшее количество пользователей в Пятигорске, Наименьшее - в Москве\n",
    "\n",
    "Чуть больше пользователей с бесплатным тарифом"
   ]
  },
  {
   "cell_type": "markdown",
   "id": "e95ebca7",
   "metadata": {},
   "source": [
    "## Шаг 2. Предобработка данных"
   ]
  },
  {
   "cell_type": "markdown",
   "id": "6edfec78",
   "metadata": {},
   "source": [
    "### Приведём столбец date к типу даты pandas"
   ]
  },
  {
   "cell_type": "code",
   "execution_count": 14,
   "id": "ad7a0d96",
   "metadata": {
    "scrolled": true
   },
   "outputs": [
    {
     "name": "stdout",
     "output_type": "stream",
     "text": [
      "<class 'pandas.core.frame.DataFrame'>\n",
      "RangeIndex: 18068 entries, 0 to 18067\n",
      "Data columns (total 4 columns):\n",
      " #   Column    Non-Null Count  Dtype         \n",
      "---  ------    --------------  -----         \n",
      " 0   user_id   18068 non-null  int64         \n",
      " 1   distance  18068 non-null  float64       \n",
      " 2   duration  18068 non-null  float64       \n",
      " 3   date      18068 non-null  datetime64[ns]\n",
      "dtypes: datetime64[ns](1), float64(2), int64(1)\n",
      "memory usage: 564.8 KB\n"
     ]
    }
   ],
   "source": [
    "data_rides['date'] = pd.to_datetime(data_rides['date'], format = '%Y-%m-%d')\n",
    "data_rides.info()"
   ]
  },
  {
   "cell_type": "markdown",
   "id": "9fc0ce98",
   "metadata": {},
   "source": [
    "### Создадим новый столбец"
   ]
  },
  {
   "cell_type": "code",
   "execution_count": 60,
   "id": "18fca018",
   "metadata": {},
   "outputs": [
    {
     "data": {
      "text/html": [
       "<div>\n",
       "<style scoped>\n",
       "    .dataframe tbody tr th:only-of-type {\n",
       "        vertical-align: middle;\n",
       "    }\n",
       "\n",
       "    .dataframe tbody tr th {\n",
       "        vertical-align: top;\n",
       "    }\n",
       "\n",
       "    .dataframe thead th {\n",
       "        text-align: right;\n",
       "    }\n",
       "</style>\n",
       "<table border=\"1\" class=\"dataframe\">\n",
       "  <thead>\n",
       "    <tr style=\"text-align: right;\">\n",
       "      <th></th>\n",
       "      <th>user_id</th>\n",
       "      <th>distance</th>\n",
       "      <th>duration</th>\n",
       "      <th>date</th>\n",
       "      <th>month</th>\n",
       "    </tr>\n",
       "  </thead>\n",
       "  <tbody>\n",
       "    <tr>\n",
       "      <th>0</th>\n",
       "      <td>1</td>\n",
       "      <td>4409.919140</td>\n",
       "      <td>25.599769</td>\n",
       "      <td>2021-01-01</td>\n",
       "      <td>1</td>\n",
       "    </tr>\n",
       "    <tr>\n",
       "      <th>1</th>\n",
       "      <td>1</td>\n",
       "      <td>2617.592153</td>\n",
       "      <td>15.816871</td>\n",
       "      <td>2021-01-18</td>\n",
       "      <td>1</td>\n",
       "    </tr>\n",
       "    <tr>\n",
       "      <th>2</th>\n",
       "      <td>1</td>\n",
       "      <td>754.159807</td>\n",
       "      <td>6.232113</td>\n",
       "      <td>2021-04-20</td>\n",
       "      <td>4</td>\n",
       "    </tr>\n",
       "    <tr>\n",
       "      <th>3</th>\n",
       "      <td>1</td>\n",
       "      <td>2694.783254</td>\n",
       "      <td>18.511000</td>\n",
       "      <td>2021-08-11</td>\n",
       "      <td>8</td>\n",
       "    </tr>\n",
       "    <tr>\n",
       "      <th>4</th>\n",
       "      <td>1</td>\n",
       "      <td>4028.687306</td>\n",
       "      <td>26.265803</td>\n",
       "      <td>2021-08-28</td>\n",
       "      <td>8</td>\n",
       "    </tr>\n",
       "  </tbody>\n",
       "</table>\n",
       "</div>"
      ],
      "text/plain": [
       "   user_id     distance   duration       date  month\n",
       "0        1  4409.919140  25.599769 2021-01-01      1\n",
       "1        1  2617.592153  15.816871 2021-01-18      1\n",
       "2        1   754.159807   6.232113 2021-04-20      4\n",
       "3        1  2694.783254  18.511000 2021-08-11      8\n",
       "4        1  4028.687306  26.265803 2021-08-28      8"
      ]
     },
     "execution_count": 60,
     "metadata": {},
     "output_type": "execute_result"
    }
   ],
   "source": [
    "data_rides['month'] = data_rides['date'].dt.month\n",
    "data_rides.head()"
   ]
  },
  {
   "cell_type": "code",
   "execution_count": 63,
   "id": "62b2c728",
   "metadata": {},
   "outputs": [
    {
     "data": {
      "text/plain": [
       "array([2021])"
      ]
     },
     "execution_count": 63,
     "metadata": {},
     "output_type": "execute_result"
    }
   ],
   "source": [
    "# Получается, мы имеем данные за один год - 2021\n",
    "data_rides['date'].dt.year.unique()"
   ]
  },
  {
   "cell_type": "markdown",
   "id": "8408a0f6",
   "metadata": {},
   "source": [
    "### Проверим наличие пропусков и дубликатов"
   ]
  },
  {
   "cell_type": "code",
   "execution_count": 16,
   "id": "e7347fa7",
   "metadata": {},
   "outputs": [
    {
     "data": {
      "text/plain": [
       "user_id              0\n",
       "name                 0\n",
       "age                  0\n",
       "city                 0\n",
       "subscription_type    0\n",
       "dtype: int64"
      ]
     },
     "execution_count": 16,
     "metadata": {},
     "output_type": "execute_result"
    }
   ],
   "source": [
    "data_users.isna().sum()"
   ]
  },
  {
   "cell_type": "code",
   "execution_count": 17,
   "id": "879ab6da",
   "metadata": {},
   "outputs": [
    {
     "data": {
      "text/plain": [
       "subscription_type    0\n",
       "minute_price         0\n",
       "start_ride_price     0\n",
       "subscription_fee     0\n",
       "dtype: int64"
      ]
     },
     "execution_count": 17,
     "metadata": {},
     "output_type": "execute_result"
    }
   ],
   "source": [
    "data_sub.isna().sum()"
   ]
  },
  {
   "cell_type": "code",
   "execution_count": 18,
   "id": "df5151d1",
   "metadata": {},
   "outputs": [
    {
     "data": {
      "text/plain": [
       "user_id     0\n",
       "distance    0\n",
       "duration    0\n",
       "date        0\n",
       "month       0\n",
       "dtype: int64"
      ]
     },
     "execution_count": 18,
     "metadata": {},
     "output_type": "execute_result"
    }
   ],
   "source": [
    "data_rides.isna().sum()"
   ]
  },
  {
   "cell_type": "code",
   "execution_count": 19,
   "id": "c5cf1526",
   "metadata": {},
   "outputs": [
    {
     "data": {
      "text/plain": [
       "31"
      ]
     },
     "execution_count": 19,
     "metadata": {},
     "output_type": "execute_result"
    }
   ],
   "source": [
    "data_users.duplicated().sum()"
   ]
  },
  {
   "cell_type": "code",
   "execution_count": 20,
   "id": "6ccf3532",
   "metadata": {},
   "outputs": [],
   "source": [
    "data_users.drop_duplicates(inplace=True)"
   ]
  },
  {
   "cell_type": "code",
   "execution_count": 21,
   "id": "7193da8a",
   "metadata": {},
   "outputs": [
    {
     "data": {
      "text/plain": [
       "0"
      ]
     },
     "execution_count": 21,
     "metadata": {},
     "output_type": "execute_result"
    }
   ],
   "source": [
    "data_rides.duplicated().sum()"
   ]
  },
  {
   "cell_type": "code",
   "execution_count": 22,
   "id": "377d027c",
   "metadata": {},
   "outputs": [
    {
     "data": {
      "text/plain": [
       "0"
      ]
     },
     "execution_count": 22,
     "metadata": {},
     "output_type": "execute_result"
    }
   ],
   "source": [
    "data_sub.duplicated().sum()"
   ]
  },
  {
   "cell_type": "markdown",
   "id": "86b9232c",
   "metadata": {},
   "source": [
    "Вывод: Привели столбец date к типу даты pandas\n",
    "\n",
    "Пропущенных данных в таблицах нет.\n",
    "\n",
    "Дубликаты имеются среди пользователей, удалили строки-дубликаты.\n",
    "\n",
    "Добавили столбец month с номер месяца."
   ]
  },
  {
   "cell_type": "markdown",
   "id": "212593c7",
   "metadata": {},
   "source": [
    "## Шаг 3. Исследовательский анализ данных"
   ]
  },
  {
   "cell_type": "markdown",
   "id": "fa22fb2a",
   "metadata": {},
   "source": [
    "### частота встречаемости городов;"
   ]
  },
  {
   "cell_type": "code",
   "execution_count": 86,
   "id": "69de66ec",
   "metadata": {
    "scrolled": true
   },
   "outputs": [
    {
     "data": {
      "image/png": "[encoded data removed]",
      "text/plain": [
       "<Figure size 432x288 with 1 Axes>"
      ]
     },
     "metadata": {
      "needs_background": "light"
     },
     "output_type": "display_data"
    }
   ],
   "source": [
    "data_users['city'].value_counts(ascending=True).plot(kind='barh', title='Количество использований сервиса в разных городах');\n",
    "plt.xlabel('Количество использований')\n",
    "plt.ylabel('Города')\n",
    "plt.show()"
   ]
  },
  {
   "cell_type": "markdown",
   "id": "b8161bd6",
   "metadata": {},
   "source": [
    "### соотношение пользователей с подпиской и без подписки;"
   ]
  },
  {
   "cell_type": "code",
   "execution_count": 24,
   "id": "1edf6788",
   "metadata": {},
   "outputs": [
    {
     "name": "stdout",
     "output_type": "stream",
     "text": [
      "free     835\n",
      "ultra    699\n",
      "Name: subscription_type, dtype: int64\n"
     ]
    }
   ],
   "source": [
    "sub_type = data_users['subscription_type'].value_counts()\n",
    "print(sub_type)"
   ]
  },
  {
   "cell_type": "code",
   "execution_count": 25,
   "id": "b046d73a",
   "metadata": {
    "scrolled": true
   },
   "outputs": [
    {
     "data": {
      "image/png": "[encoded data removed]",
      "text/plain": [
       "<Figure size 360x360 with 1 Axes>"
      ]
     },
     "metadata": {},
     "output_type": "display_data"
    }
   ],
   "source": [
    "data_users['subscription_type'].value_counts().plot(\n",
    "    kind = 'pie', \n",
    "    y = sub_type, \n",
    "    autopct = '%1.0f%%', \n",
    "    figsize=(5,5),\n",
    "    title = 'Процентное соотношение пользователей в зависимости от тарифа');"
   ]
  },
  {
   "cell_type": "markdown",
   "id": "44eaced6",
   "metadata": {},
   "source": [
    "### возраст пользователей;"
   ]
  },
  {
   "cell_type": "code",
   "execution_count": 26,
   "id": "05750df0",
   "metadata": {},
   "outputs": [
    {
     "data": {
      "text/plain": [
       "25    145\n",
       "24    132\n",
       "26    131\n",
       "23    129\n",
       "27    119\n",
       "22    119\n",
       "28    112\n",
       "21     93\n",
       "20     71\n",
       "30     68\n",
       "29     68\n",
       "31     48\n",
       "19     47\n",
       "18     46\n",
       "32     41\n",
       "33     39\n",
       "17     26\n",
       "34     19\n",
       "16     19\n",
       "35     15\n",
       "15     13\n",
       "14      9\n",
       "13      8\n",
       "36      6\n",
       "12      4\n",
       "38      3\n",
       "37      2\n",
       "39      1\n",
       "43      1\n",
       "Name: age, dtype: int64"
      ]
     },
     "execution_count": 26,
     "metadata": {},
     "output_type": "execute_result"
    }
   ],
   "source": [
    "age_usr = data_users['age'].value_counts()\n",
    "age_usr"
   ]
  },
  {
   "cell_type": "code",
   "execution_count": 87,
   "id": "34236a4b",
   "metadata": {},
   "outputs": [
    {
     "data": {
      "image/png": "[encoded data removed]",
      "text/plain": [
       "<Figure size 432x288 with 1 Axes>"
      ]
     },
     "metadata": {
      "needs_background": "light"
     },
     "output_type": "display_data"
    }
   ],
   "source": [
    "data_users['age'].hist(bins=10);\n",
    "plt.xlabel('Возраст');\n",
    "plt.ylabel('Количество пользователей');\n",
    "plt.title('Возраст пользователей');"
   ]
  },
  {
   "cell_type": "code",
   "execution_count": 28,
   "id": "e2e722a1",
   "metadata": {},
   "outputs": [
    {
     "data": {
      "text/plain": [
       "664     12\n",
       "66      12\n",
       "727     12\n",
       "34      12\n",
       "235     13\n",
       "1249    13\n",
       "314     13\n",
       "83      13\n",
       "553     13\n",
       "1241    13\n",
       "Name: age, dtype: int64"
      ]
     },
     "execution_count": 28,
     "metadata": {},
     "output_type": "execute_result"
    }
   ],
   "source": [
    "data_users['age'].sort_values().head(10)"
   ]
  },
  {
   "cell_type": "code",
   "execution_count": 29,
   "id": "49eed79f",
   "metadata": {},
   "outputs": [
    {
     "data": {
      "text/plain": [
       "1201    43\n",
       "961     39\n",
       "804     38\n",
       "453     38\n",
       "383     38\n",
       "205     37\n",
       "848     37\n",
       "721     36\n",
       "1491    36\n",
       "644     36\n",
       "Name: age, dtype: int64"
      ]
     },
     "execution_count": 29,
     "metadata": {},
     "output_type": "execute_result"
    }
   ],
   "source": [
    "data_users['age'].sort_values(ascending=False).head(10)"
   ]
  },
  {
   "cell_type": "code",
   "execution_count": 30,
   "id": "eb8d8568",
   "metadata": {},
   "outputs": [
    {
     "data": {
      "text/html": [
       "<div>\n",
       "<style scoped>\n",
       "    .dataframe tbody tr th:only-of-type {\n",
       "        vertical-align: middle;\n",
       "    }\n",
       "\n",
       "    .dataframe tbody tr th {\n",
       "        vertical-align: top;\n",
       "    }\n",
       "\n",
       "    .dataframe thead th {\n",
       "        text-align: right;\n",
       "    }\n",
       "</style>\n",
       "<table border=\"1\" class=\"dataframe\">\n",
       "  <thead>\n",
       "    <tr style=\"text-align: right;\">\n",
       "      <th></th>\n",
       "      <th>user_id</th>\n",
       "      <th>age</th>\n",
       "    </tr>\n",
       "  </thead>\n",
       "  <tbody>\n",
       "    <tr>\n",
       "      <th>count</th>\n",
       "      <td>1534.000000</td>\n",
       "      <td>1534.000000</td>\n",
       "    </tr>\n",
       "    <tr>\n",
       "      <th>mean</th>\n",
       "      <td>767.500000</td>\n",
       "      <td>24.903520</td>\n",
       "    </tr>\n",
       "    <tr>\n",
       "      <th>std</th>\n",
       "      <td>442.971971</td>\n",
       "      <td>4.572367</td>\n",
       "    </tr>\n",
       "    <tr>\n",
       "      <th>min</th>\n",
       "      <td>1.000000</td>\n",
       "      <td>12.000000</td>\n",
       "    </tr>\n",
       "    <tr>\n",
       "      <th>25%</th>\n",
       "      <td>384.250000</td>\n",
       "      <td>22.000000</td>\n",
       "    </tr>\n",
       "    <tr>\n",
       "      <th>50%</th>\n",
       "      <td>767.500000</td>\n",
       "      <td>25.000000</td>\n",
       "    </tr>\n",
       "    <tr>\n",
       "      <th>75%</th>\n",
       "      <td>1150.750000</td>\n",
       "      <td>28.000000</td>\n",
       "    </tr>\n",
       "    <tr>\n",
       "      <th>max</th>\n",
       "      <td>1534.000000</td>\n",
       "      <td>43.000000</td>\n",
       "    </tr>\n",
       "  </tbody>\n",
       "</table>\n",
       "</div>"
      ],
      "text/plain": [
       "           user_id          age\n",
       "count  1534.000000  1534.000000\n",
       "mean    767.500000    24.903520\n",
       "std     442.971971     4.572367\n",
       "min       1.000000    12.000000\n",
       "25%     384.250000    22.000000\n",
       "50%     767.500000    25.000000\n",
       "75%    1150.750000    28.000000\n",
       "max    1534.000000    43.000000"
      ]
     },
     "execution_count": 30,
     "metadata": {},
     "output_type": "execute_result"
    }
   ],
   "source": [
    "data_users.describe()"
   ]
  },
  {
   "cell_type": "markdown",
   "id": "d337e19e",
   "metadata": {},
   "source": [
    "### расстояние, которое пользователь преодолел за одну поездку;"
   ]
  },
  {
   "cell_type": "code",
   "execution_count": 31,
   "id": "389df575",
   "metadata": {},
   "outputs": [
    {
     "data": {
      "text/plain": [
       "count    18068.000000\n",
       "mean      3070.659976\n",
       "std       1116.831209\n",
       "min          0.855683\n",
       "25%       2543.226360\n",
       "50%       3133.609994\n",
       "75%       3776.222735\n",
       "max       7211.007745\n",
       "Name: distance, dtype: float64"
      ]
     },
     "execution_count": 31,
     "metadata": {},
     "output_type": "execute_result"
    }
   ],
   "source": [
    "data_rides['distance'].describe()"
   ]
  },
  {
   "cell_type": "code",
   "execution_count": 88,
   "id": "8938868a",
   "metadata": {},
   "outputs": [
    {
     "data": {
      "image/png": "[encoded data removed]",
      "text/plain": [
       "<Figure size 432x288 with 1 Axes>"
      ]
     },
     "metadata": {
      "needs_background": "light"
     },
     "output_type": "display_data"
    }
   ],
   "source": [
    "sns.boxplot(x=data_rides['distance'], color='red')\n",
    "plt.title('Расстояние, преодоленное за одну поездку')\n",
    "plt.xlabel('Расстояние, метры')\n",
    "_ = plt.xlim(0, 8000)"
   ]
  },
  {
   "cell_type": "markdown",
   "id": "7e033f2d",
   "metadata": {},
   "source": [
    "### продолжительность поездок."
   ]
  },
  {
   "cell_type": "code",
   "execution_count": 33,
   "id": "9ea3225d",
   "metadata": {},
   "outputs": [
    {
     "data": {
      "text/plain": [
       "count    18068.000000\n",
       "mean        17.805011\n",
       "std          6.091051\n",
       "min          0.500000\n",
       "25%         13.597563\n",
       "50%         17.678395\n",
       "75%         21.724800\n",
       "max         40.823963\n",
       "Name: duration, dtype: float64"
      ]
     },
     "execution_count": 33,
     "metadata": {},
     "output_type": "execute_result"
    }
   ],
   "source": [
    "data_rides['duration'].describe()"
   ]
  },
  {
   "cell_type": "code",
   "execution_count": 89,
   "id": "8bf8386f",
   "metadata": {},
   "outputs": [
    {
     "data": {
      "image/png": "[encoded data removed]",
      "text/plain": [
       "<Figure size 432x288 with 1 Axes>"
      ]
     },
     "metadata": {
      "needs_background": "light"
     },
     "output_type": "display_data"
    }
   ],
   "source": [
    "sns.boxplot(x=data_rides['duration'], color='blue')\n",
    "plt.title('Продолжительность поездок')\n",
    "plt.xlabel('Продолжителность, минуты')\n",
    "_ = plt.xlim(0, 43)"
   ]
  },
  {
   "cell_type": "markdown",
   "id": "0eb47486",
   "metadata": {},
   "source": [
    "Вывод\n",
    "\n",
    "Частота встречаемости городов\n",
    "\n",
    "Количество пользователей по городам распределено примерно одинаково, нет выдающихся значений. Лидером по количеству пользователей является Пятигорск - 219 пользователей. Меньше всего пользователей в Москве - 168. Связано это скорее всего с тем, что Пятигорск по размерам в несколько раз меньше Москвы, т.е. в Пятигорске удобнее брать самокат, чтобы куда-то добраться.\n",
    "\n",
    "Соотношение пользователей с подпиской и без подписки\n",
    "\n",
    "Пользователей, использующих бесплатную подписку больше - 835 человек, что является ~54% от общего числа пользователей. На платной подписке сидит 699 пользователей, что соответственно является ~46%.\n",
    "\n",
    "Возраст пользователей\n",
    "\n",
    "Самыми младшими являются пользователи 12, 13 лет.\n",
    "Самыми старшими - 43, 39.\n",
    "В целом, пользователи приложения укладываются в промежуток от 20 до 30 лет.\n",
    "\n",
    "Расстояние, которое пользователь преодолел за одну поездку\n",
    "\n",
    "Самая короткая дистанция - 0.86 км\n",
    "Самая длинная - 7.2 км\n",
    "В основном пользователи проезжают от 2.5 км до 4 км.\n",
    "\n",
    "Продолжительность поездок\n",
    "\n",
    "Самые короткие поездки - по пол минуты. Выглядят крайне странно, возможно пользователи просто передумали пользоваться самокатом. Либо же техническая неинсправность самого самоката.\n",
    "Самая длинная поездка заняла 40 минут.\n",
    "В основном же длительность поездки состовляет 13 - 22 минут."
   ]
  },
  {
   "cell_type": "markdown",
   "id": "4ef51331",
   "metadata": {},
   "source": [
    "## Шаг 4. Объединение данных"
   ]
  },
  {
   "cell_type": "markdown",
   "id": "8dc5d62c",
   "metadata": {},
   "source": [
    "### Объединим данные о пользователях, поездках и подписках в один датафрейм."
   ]
  },
  {
   "cell_type": "code",
   "execution_count": 35,
   "id": "395c5b26",
   "metadata": {
    "scrolled": true
   },
   "outputs": [
    {
     "data": {
      "text/html": [
       "<div>\n",
       "<style scoped>\n",
       "    .dataframe tbody tr th:only-of-type {\n",
       "        vertical-align: middle;\n",
       "    }\n",
       "\n",
       "    .dataframe tbody tr th {\n",
       "        vertical-align: top;\n",
       "    }\n",
       "\n",
       "    .dataframe thead th {\n",
       "        text-align: right;\n",
       "    }\n",
       "</style>\n",
       "<table border=\"1\" class=\"dataframe\">\n",
       "  <thead>\n",
       "    <tr style=\"text-align: right;\">\n",
       "      <th></th>\n",
       "      <th>user_id</th>\n",
       "      <th>name</th>\n",
       "      <th>age</th>\n",
       "      <th>city</th>\n",
       "      <th>subscription_type</th>\n",
       "      <th>distance</th>\n",
       "      <th>duration</th>\n",
       "      <th>date</th>\n",
       "      <th>month</th>\n",
       "      <th>minute_price</th>\n",
       "      <th>start_ride_price</th>\n",
       "      <th>subscription_fee</th>\n",
       "    </tr>\n",
       "  </thead>\n",
       "  <tbody>\n",
       "    <tr>\n",
       "      <th>0</th>\n",
       "      <td>1</td>\n",
       "      <td>Кира</td>\n",
       "      <td>22</td>\n",
       "      <td>Тюмень</td>\n",
       "      <td>ultra</td>\n",
       "      <td>4409.919140</td>\n",
       "      <td>25.599769</td>\n",
       "      <td>2021-01-01</td>\n",
       "      <td>1</td>\n",
       "      <td>6</td>\n",
       "      <td>0</td>\n",
       "      <td>199</td>\n",
       "    </tr>\n",
       "    <tr>\n",
       "      <th>1</th>\n",
       "      <td>1</td>\n",
       "      <td>Кира</td>\n",
       "      <td>22</td>\n",
       "      <td>Тюмень</td>\n",
       "      <td>ultra</td>\n",
       "      <td>2617.592153</td>\n",
       "      <td>15.816871</td>\n",
       "      <td>2021-01-18</td>\n",
       "      <td>1</td>\n",
       "      <td>6</td>\n",
       "      <td>0</td>\n",
       "      <td>199</td>\n",
       "    </tr>\n",
       "    <tr>\n",
       "      <th>2</th>\n",
       "      <td>1</td>\n",
       "      <td>Кира</td>\n",
       "      <td>22</td>\n",
       "      <td>Тюмень</td>\n",
       "      <td>ultra</td>\n",
       "      <td>754.159807</td>\n",
       "      <td>6.232113</td>\n",
       "      <td>2021-04-20</td>\n",
       "      <td>4</td>\n",
       "      <td>6</td>\n",
       "      <td>0</td>\n",
       "      <td>199</td>\n",
       "    </tr>\n",
       "    <tr>\n",
       "      <th>3</th>\n",
       "      <td>1</td>\n",
       "      <td>Кира</td>\n",
       "      <td>22</td>\n",
       "      <td>Тюмень</td>\n",
       "      <td>ultra</td>\n",
       "      <td>2694.783254</td>\n",
       "      <td>18.511000</td>\n",
       "      <td>2021-08-11</td>\n",
       "      <td>8</td>\n",
       "      <td>6</td>\n",
       "      <td>0</td>\n",
       "      <td>199</td>\n",
       "    </tr>\n",
       "    <tr>\n",
       "      <th>4</th>\n",
       "      <td>1</td>\n",
       "      <td>Кира</td>\n",
       "      <td>22</td>\n",
       "      <td>Тюмень</td>\n",
       "      <td>ultra</td>\n",
       "      <td>4028.687306</td>\n",
       "      <td>26.265803</td>\n",
       "      <td>2021-08-28</td>\n",
       "      <td>8</td>\n",
       "      <td>6</td>\n",
       "      <td>0</td>\n",
       "      <td>199</td>\n",
       "    </tr>\n",
       "    <tr>\n",
       "      <th>5</th>\n",
       "      <td>1</td>\n",
       "      <td>Кира</td>\n",
       "      <td>22</td>\n",
       "      <td>Тюмень</td>\n",
       "      <td>ultra</td>\n",
       "      <td>2770.890808</td>\n",
       "      <td>16.650138</td>\n",
       "      <td>2021-10-09</td>\n",
       "      <td>10</td>\n",
       "      <td>6</td>\n",
       "      <td>0</td>\n",
       "      <td>199</td>\n",
       "    </tr>\n",
       "    <tr>\n",
       "      <th>6</th>\n",
       "      <td>1</td>\n",
       "      <td>Кира</td>\n",
       "      <td>22</td>\n",
       "      <td>Тюмень</td>\n",
       "      <td>ultra</td>\n",
       "      <td>3039.020292</td>\n",
       "      <td>14.927879</td>\n",
       "      <td>2021-10-19</td>\n",
       "      <td>10</td>\n",
       "      <td>6</td>\n",
       "      <td>0</td>\n",
       "      <td>199</td>\n",
       "    </tr>\n",
       "    <tr>\n",
       "      <th>7</th>\n",
       "      <td>1</td>\n",
       "      <td>Кира</td>\n",
       "      <td>22</td>\n",
       "      <td>Тюмень</td>\n",
       "      <td>ultra</td>\n",
       "      <td>2842.118050</td>\n",
       "      <td>23.117468</td>\n",
       "      <td>2021-11-06</td>\n",
       "      <td>11</td>\n",
       "      <td>6</td>\n",
       "      <td>0</td>\n",
       "      <td>199</td>\n",
       "    </tr>\n",
       "    <tr>\n",
       "      <th>8</th>\n",
       "      <td>1</td>\n",
       "      <td>Кира</td>\n",
       "      <td>22</td>\n",
       "      <td>Тюмень</td>\n",
       "      <td>ultra</td>\n",
       "      <td>3412.690668</td>\n",
       "      <td>15.238072</td>\n",
       "      <td>2021-11-14</td>\n",
       "      <td>11</td>\n",
       "      <td>6</td>\n",
       "      <td>0</td>\n",
       "      <td>199</td>\n",
       "    </tr>\n",
       "    <tr>\n",
       "      <th>9</th>\n",
       "      <td>1</td>\n",
       "      <td>Кира</td>\n",
       "      <td>22</td>\n",
       "      <td>Тюмень</td>\n",
       "      <td>ultra</td>\n",
       "      <td>748.690645</td>\n",
       "      <td>15.041884</td>\n",
       "      <td>2021-11-22</td>\n",
       "      <td>11</td>\n",
       "      <td>6</td>\n",
       "      <td>0</td>\n",
       "      <td>199</td>\n",
       "    </tr>\n",
       "    <tr>\n",
       "      <th>10</th>\n",
       "      <td>1</td>\n",
       "      <td>Кира</td>\n",
       "      <td>22</td>\n",
       "      <td>Тюмень</td>\n",
       "      <td>ultra</td>\n",
       "      <td>4031.020195</td>\n",
       "      <td>17.674448</td>\n",
       "      <td>2021-12-14</td>\n",
       "      <td>12</td>\n",
       "      <td>6</td>\n",
       "      <td>0</td>\n",
       "      <td>199</td>\n",
       "    </tr>\n",
       "    <tr>\n",
       "      <th>11</th>\n",
       "      <td>1</td>\n",
       "      <td>Кира</td>\n",
       "      <td>22</td>\n",
       "      <td>Тюмень</td>\n",
       "      <td>ultra</td>\n",
       "      <td>2720.609748</td>\n",
       "      <td>9.529463</td>\n",
       "      <td>2021-12-22</td>\n",
       "      <td>12</td>\n",
       "      <td>6</td>\n",
       "      <td>0</td>\n",
       "      <td>199</td>\n",
       "    </tr>\n",
       "    <tr>\n",
       "      <th>12</th>\n",
       "      <td>2</td>\n",
       "      <td>Станислав</td>\n",
       "      <td>31</td>\n",
       "      <td>Омск</td>\n",
       "      <td>ultra</td>\n",
       "      <td>3105.086678</td>\n",
       "      <td>24.307514</td>\n",
       "      <td>2021-03-15</td>\n",
       "      <td>3</td>\n",
       "      <td>6</td>\n",
       "      <td>0</td>\n",
       "      <td>199</td>\n",
       "    </tr>\n",
       "    <tr>\n",
       "      <th>13</th>\n",
       "      <td>2</td>\n",
       "      <td>Станислав</td>\n",
       "      <td>31</td>\n",
       "      <td>Омск</td>\n",
       "      <td>ultra</td>\n",
       "      <td>3053.519401</td>\n",
       "      <td>11.543256</td>\n",
       "      <td>2021-03-18</td>\n",
       "      <td>3</td>\n",
       "      <td>6</td>\n",
       "      <td>0</td>\n",
       "      <td>199</td>\n",
       "    </tr>\n",
       "    <tr>\n",
       "      <th>14</th>\n",
       "      <td>2</td>\n",
       "      <td>Станислав</td>\n",
       "      <td>31</td>\n",
       "      <td>Омск</td>\n",
       "      <td>ultra</td>\n",
       "      <td>4029.116927</td>\n",
       "      <td>25.109188</td>\n",
       "      <td>2021-03-23</td>\n",
       "      <td>3</td>\n",
       "      <td>6</td>\n",
       "      <td>0</td>\n",
       "      <td>199</td>\n",
       "    </tr>\n",
       "    <tr>\n",
       "      <th>15</th>\n",
       "      <td>2</td>\n",
       "      <td>Станислав</td>\n",
       "      <td>31</td>\n",
       "      <td>Омск</td>\n",
       "      <td>ultra</td>\n",
       "      <td>2805.786329</td>\n",
       "      <td>20.652145</td>\n",
       "      <td>2021-04-08</td>\n",
       "      <td>4</td>\n",
       "      <td>6</td>\n",
       "      <td>0</td>\n",
       "      <td>199</td>\n",
       "    </tr>\n",
       "    <tr>\n",
       "      <th>16</th>\n",
       "      <td>2</td>\n",
       "      <td>Станислав</td>\n",
       "      <td>31</td>\n",
       "      <td>Омск</td>\n",
       "      <td>ultra</td>\n",
       "      <td>3358.595495</td>\n",
       "      <td>18.396489</td>\n",
       "      <td>2021-04-13</td>\n",
       "      <td>4</td>\n",
       "      <td>6</td>\n",
       "      <td>0</td>\n",
       "      <td>199</td>\n",
       "    </tr>\n",
       "    <tr>\n",
       "      <th>17</th>\n",
       "      <td>2</td>\n",
       "      <td>Станислав</td>\n",
       "      <td>31</td>\n",
       "      <td>Омск</td>\n",
       "      <td>ultra</td>\n",
       "      <td>3255.338202</td>\n",
       "      <td>13.851127</td>\n",
       "      <td>2021-06-20</td>\n",
       "      <td>6</td>\n",
       "      <td>6</td>\n",
       "      <td>0</td>\n",
       "      <td>199</td>\n",
       "    </tr>\n",
       "    <tr>\n",
       "      <th>18</th>\n",
       "      <td>2</td>\n",
       "      <td>Станислав</td>\n",
       "      <td>31</td>\n",
       "      <td>Омск</td>\n",
       "      <td>ultra</td>\n",
       "      <td>3942.817648</td>\n",
       "      <td>20.142725</td>\n",
       "      <td>2021-07-02</td>\n",
       "      <td>7</td>\n",
       "      <td>6</td>\n",
       "      <td>0</td>\n",
       "      <td>199</td>\n",
       "    </tr>\n",
       "    <tr>\n",
       "      <th>19</th>\n",
       "      <td>2</td>\n",
       "      <td>Станислав</td>\n",
       "      <td>31</td>\n",
       "      <td>Омск</td>\n",
       "      <td>ultra</td>\n",
       "      <td>2837.905316</td>\n",
       "      <td>26.027432</td>\n",
       "      <td>2021-07-18</td>\n",
       "      <td>7</td>\n",
       "      <td>6</td>\n",
       "      <td>0</td>\n",
       "      <td>199</td>\n",
       "    </tr>\n",
       "  </tbody>\n",
       "</table>\n",
       "</div>"
      ],
      "text/plain": [
       "    user_id       name  age    city subscription_type     distance   duration  \\\n",
       "0         1       Кира   22  Тюмень             ultra  4409.919140  25.599769   \n",
       "1         1       Кира   22  Тюмень             ultra  2617.592153  15.816871   \n",
       "2         1       Кира   22  Тюмень             ultra   754.159807   6.232113   \n",
       "3         1       Кира   22  Тюмень             ultra  2694.783254  18.511000   \n",
       "4         1       Кира   22  Тюмень             ultra  4028.687306  26.265803   \n",
       "5         1       Кира   22  Тюмень             ultra  2770.890808  16.650138   \n",
       "6         1       Кира   22  Тюмень             ultra  3039.020292  14.927879   \n",
       "7         1       Кира   22  Тюмень             ultra  2842.118050  23.117468   \n",
       "8         1       Кира   22  Тюмень             ultra  3412.690668  15.238072   \n",
       "9         1       Кира   22  Тюмень             ultra   748.690645  15.041884   \n",
       "10        1       Кира   22  Тюмень             ultra  4031.020195  17.674448   \n",
       "11        1       Кира   22  Тюмень             ultra  2720.609748   9.529463   \n",
       "12        2  Станислав   31    Омск             ultra  3105.086678  24.307514   \n",
       "13        2  Станислав   31    Омск             ultra  3053.519401  11.543256   \n",
       "14        2  Станислав   31    Омск             ultra  4029.116927  25.109188   \n",
       "15        2  Станислав   31    Омск             ultra  2805.786329  20.652145   \n",
       "16        2  Станислав   31    Омск             ultra  3358.595495  18.396489   \n",
       "17        2  Станислав   31    Омск             ultra  3255.338202  13.851127   \n",
       "18        2  Станислав   31    Омск             ultra  3942.817648  20.142725   \n",
       "19        2  Станислав   31    Омск             ultra  2837.905316  26.027432   \n",
       "\n",
       "         date  month  minute_price  start_ride_price  subscription_fee  \n",
       "0  2021-01-01      1             6                 0               199  \n",
       "1  2021-01-18      1             6                 0               199  \n",
       "2  2021-04-20      4             6                 0               199  \n",
       "3  2021-08-11      8             6                 0               199  \n",
       "4  2021-08-28      8             6                 0               199  \n",
       "5  2021-10-09     10             6                 0               199  \n",
       "6  2021-10-19     10             6                 0               199  \n",
       "7  2021-11-06     11             6                 0               199  \n",
       "8  2021-11-14     11             6                 0               199  \n",
       "9  2021-11-22     11             6                 0               199  \n",
       "10 2021-12-14     12             6                 0               199  \n",
       "11 2021-12-22     12             6                 0               199  \n",
       "12 2021-03-15      3             6                 0               199  \n",
       "13 2021-03-18      3             6                 0               199  \n",
       "14 2021-03-23      3             6                 0               199  \n",
       "15 2021-04-08      4             6                 0               199  \n",
       "16 2021-04-13      4             6                 0               199  \n",
       "17 2021-06-20      6             6                 0               199  \n",
       "18 2021-07-02      7             6                 0               199  \n",
       "19 2021-07-18      7             6                 0               199  "
      ]
     },
     "metadata": {},
     "output_type": "display_data"
    }
   ],
   "source": [
    "total_usr = data_users.merge(data_rides, on='user_id').merge(data_sub, on='subscription_type')\n",
    "\n",
    "display(total_usr.head(20))"
   ]
  },
  {
   "cell_type": "code",
   "execution_count": 126,
   "id": "8dfba619",
   "metadata": {},
   "outputs": [
    {
     "name": "stdout",
     "output_type": "stream",
     "text": [
      "Исходные данные data_users: 1534\n",
      "Исходные данные data_rides: 18068\n",
      "Исходные данные data_sub: 2\n",
      "Объединенный датафрейм total_usr: 18068\n"
     ]
    }
   ],
   "source": [
    "# Проверка количества строк и столбцов в исходных данных\n",
    "print(\"Исходные данные data_users:\", data_users.shape[0])\n",
    "print(\"Исходные данные data_rides:\", data_rides.shape[0])\n",
    "print(\"Исходные данные data_sub:\", data_sub.shape[0])\n",
    "\n",
    "# Проверка количества строк и столбцов в объединенном датафрейме\n",
    "print(\"Объединенный датафрейм total_usr:\", total_usr.shape[0])"
   ]
  },
  {
   "cell_type": "markdown",
   "id": "2525fd63",
   "metadata": {},
   "source": [
    "Пустых строк или недостающих нет, следовательно, объединение прошло успешно"
   ]
  },
  {
   "cell_type": "code",
   "execution_count": 129,
   "id": "c86fe22c",
   "metadata": {},
   "outputs": [
    {
     "name": "stdout",
     "output_type": "stream",
     "text": [
      "<class 'pandas.core.frame.DataFrame'>\n",
      "Int64Index: 18068 entries, 0 to 18067\n",
      "Data columns (total 12 columns):\n",
      " #   Column             Non-Null Count  Dtype         \n",
      "---  ------             --------------  -----         \n",
      " 0   user_id            18068 non-null  int64         \n",
      " 1   name               18068 non-null  object        \n",
      " 2   age                18068 non-null  int64         \n",
      " 3   city               18068 non-null  object        \n",
      " 4   subscription_type  18068 non-null  object        \n",
      " 5   distance           18068 non-null  float64       \n",
      " 6   duration           18068 non-null  float64       \n",
      " 7   date               18068 non-null  datetime64[ns]\n",
      " 8   month              18068 non-null  int64         \n",
      " 9   minute_price       18068 non-null  int64         \n",
      " 10  start_ride_price   18068 non-null  int64         \n",
      " 11  subscription_fee   18068 non-null  int64         \n",
      "dtypes: datetime64[ns](1), float64(2), int64(6), object(3)\n",
      "memory usage: 2.3+ MB\n"
     ]
    }
   ],
   "source": [
    "total_usr.info()"
   ]
  },
  {
   "cell_type": "markdown",
   "id": "b7f8abd3",
   "metadata": {},
   "source": [
    "### Создадим ещё два датафрейма из датафрейма, созданного на этапе 4.1"
   ]
  },
  {
   "cell_type": "code",
   "execution_count": 84,
   "id": "54b9d0f5",
   "metadata": {},
   "outputs": [
    {
     "data": {
      "text/html": [
       "<div>\n",
       "<style scoped>\n",
       "    .dataframe tbody tr th:only-of-type {\n",
       "        vertical-align: middle;\n",
       "    }\n",
       "\n",
       "    .dataframe tbody tr th {\n",
       "        vertical-align: top;\n",
       "    }\n",
       "\n",
       "    .dataframe thead th {\n",
       "        text-align: right;\n",
       "    }\n",
       "</style>\n",
       "<table border=\"1\" class=\"dataframe\">\n",
       "  <thead>\n",
       "    <tr style=\"text-align: right;\">\n",
       "      <th></th>\n",
       "      <th>user_id</th>\n",
       "      <th>name</th>\n",
       "      <th>age</th>\n",
       "      <th>city</th>\n",
       "      <th>subscription_type</th>\n",
       "      <th>distance</th>\n",
       "      <th>duration</th>\n",
       "      <th>date</th>\n",
       "      <th>month</th>\n",
       "      <th>minute_price</th>\n",
       "      <th>start_ride_price</th>\n",
       "      <th>subscription_fee</th>\n",
       "    </tr>\n",
       "  </thead>\n",
       "  <tbody>\n",
       "    <tr>\n",
       "      <th>6500</th>\n",
       "      <td>700</td>\n",
       "      <td>Айдар</td>\n",
       "      <td>22</td>\n",
       "      <td>Омск</td>\n",
       "      <td>free</td>\n",
       "      <td>2515.690719</td>\n",
       "      <td>14.944286</td>\n",
       "      <td>2021-01-02</td>\n",
       "      <td>1</td>\n",
       "      <td>8</td>\n",
       "      <td>50</td>\n",
       "      <td>0</td>\n",
       "    </tr>\n",
       "    <tr>\n",
       "      <th>6501</th>\n",
       "      <td>700</td>\n",
       "      <td>Айдар</td>\n",
       "      <td>22</td>\n",
       "      <td>Омск</td>\n",
       "      <td>free</td>\n",
       "      <td>846.932642</td>\n",
       "      <td>16.234663</td>\n",
       "      <td>2021-02-01</td>\n",
       "      <td>2</td>\n",
       "      <td>8</td>\n",
       "      <td>50</td>\n",
       "      <td>0</td>\n",
       "    </tr>\n",
       "    <tr>\n",
       "      <th>6502</th>\n",
       "      <td>700</td>\n",
       "      <td>Айдар</td>\n",
       "      <td>22</td>\n",
       "      <td>Омск</td>\n",
       "      <td>free</td>\n",
       "      <td>4004.434142</td>\n",
       "      <td>20.016628</td>\n",
       "      <td>2021-02-04</td>\n",
       "      <td>2</td>\n",
       "      <td>8</td>\n",
       "      <td>50</td>\n",
       "      <td>0</td>\n",
       "    </tr>\n",
       "    <tr>\n",
       "      <th>6503</th>\n",
       "      <td>700</td>\n",
       "      <td>Айдар</td>\n",
       "      <td>22</td>\n",
       "      <td>Омск</td>\n",
       "      <td>free</td>\n",
       "      <td>1205.911290</td>\n",
       "      <td>9.782872</td>\n",
       "      <td>2021-02-10</td>\n",
       "      <td>2</td>\n",
       "      <td>8</td>\n",
       "      <td>50</td>\n",
       "      <td>0</td>\n",
       "    </tr>\n",
       "    <tr>\n",
       "      <th>6504</th>\n",
       "      <td>700</td>\n",
       "      <td>Айдар</td>\n",
       "      <td>22</td>\n",
       "      <td>Омск</td>\n",
       "      <td>free</td>\n",
       "      <td>3047.379435</td>\n",
       "      <td>17.427673</td>\n",
       "      <td>2021-02-14</td>\n",
       "      <td>2</td>\n",
       "      <td>8</td>\n",
       "      <td>50</td>\n",
       "      <td>0</td>\n",
       "    </tr>\n",
       "    <tr>\n",
       "      <th>6505</th>\n",
       "      <td>700</td>\n",
       "      <td>Айдар</td>\n",
       "      <td>22</td>\n",
       "      <td>Омск</td>\n",
       "      <td>free</td>\n",
       "      <td>4342.002254</td>\n",
       "      <td>22.368009</td>\n",
       "      <td>2021-02-23</td>\n",
       "      <td>2</td>\n",
       "      <td>8</td>\n",
       "      <td>50</td>\n",
       "      <td>0</td>\n",
       "    </tr>\n",
       "    <tr>\n",
       "      <th>6506</th>\n",
       "      <td>700</td>\n",
       "      <td>Айдар</td>\n",
       "      <td>22</td>\n",
       "      <td>Омск</td>\n",
       "      <td>free</td>\n",
       "      <td>3798.334905</td>\n",
       "      <td>18.243756</td>\n",
       "      <td>2021-03-03</td>\n",
       "      <td>3</td>\n",
       "      <td>8</td>\n",
       "      <td>50</td>\n",
       "      <td>0</td>\n",
       "    </tr>\n",
       "    <tr>\n",
       "      <th>6507</th>\n",
       "      <td>700</td>\n",
       "      <td>Айдар</td>\n",
       "      <td>22</td>\n",
       "      <td>Омск</td>\n",
       "      <td>free</td>\n",
       "      <td>2984.551206</td>\n",
       "      <td>15.424899</td>\n",
       "      <td>2021-04-09</td>\n",
       "      <td>4</td>\n",
       "      <td>8</td>\n",
       "      <td>50</td>\n",
       "      <td>0</td>\n",
       "    </tr>\n",
       "    <tr>\n",
       "      <th>6508</th>\n",
       "      <td>700</td>\n",
       "      <td>Айдар</td>\n",
       "      <td>22</td>\n",
       "      <td>Омск</td>\n",
       "      <td>free</td>\n",
       "      <td>3360.107141</td>\n",
       "      <td>16.765497</td>\n",
       "      <td>2021-06-12</td>\n",
       "      <td>6</td>\n",
       "      <td>8</td>\n",
       "      <td>50</td>\n",
       "      <td>0</td>\n",
       "    </tr>\n",
       "    <tr>\n",
       "      <th>6509</th>\n",
       "      <td>700</td>\n",
       "      <td>Айдар</td>\n",
       "      <td>22</td>\n",
       "      <td>Омск</td>\n",
       "      <td>free</td>\n",
       "      <td>2567.543847</td>\n",
       "      <td>11.312160</td>\n",
       "      <td>2021-06-23</td>\n",
       "      <td>6</td>\n",
       "      <td>8</td>\n",
       "      <td>50</td>\n",
       "      <td>0</td>\n",
       "    </tr>\n",
       "  </tbody>\n",
       "</table>\n",
       "</div>"
      ],
      "text/plain": [
       "      user_id   name  age  city subscription_type     distance   duration  \\\n",
       "6500      700  Айдар   22  Омск              free  2515.690719  14.944286   \n",
       "6501      700  Айдар   22  Омск              free   846.932642  16.234663   \n",
       "6502      700  Айдар   22  Омск              free  4004.434142  20.016628   \n",
       "6503      700  Айдар   22  Омск              free  1205.911290   9.782872   \n",
       "6504      700  Айдар   22  Омск              free  3047.379435  17.427673   \n",
       "6505      700  Айдар   22  Омск              free  4342.002254  22.368009   \n",
       "6506      700  Айдар   22  Омск              free  3798.334905  18.243756   \n",
       "6507      700  Айдар   22  Омск              free  2984.551206  15.424899   \n",
       "6508      700  Айдар   22  Омск              free  3360.107141  16.765497   \n",
       "6509      700  Айдар   22  Омск              free  2567.543847  11.312160   \n",
       "\n",
       "           date  month  minute_price  start_ride_price  subscription_fee  \n",
       "6500 2021-01-02      1             8                50                 0  \n",
       "6501 2021-02-01      2             8                50                 0  \n",
       "6502 2021-02-04      2             8                50                 0  \n",
       "6503 2021-02-10      2             8                50                 0  \n",
       "6504 2021-02-14      2             8                50                 0  \n",
       "6505 2021-02-23      2             8                50                 0  \n",
       "6506 2021-03-03      3             8                50                 0  \n",
       "6507 2021-04-09      4             8                50                 0  \n",
       "6508 2021-06-12      6             8                50                 0  \n",
       "6509 2021-06-23      6             8                50                 0  "
      ]
     },
     "execution_count": 84,
     "metadata": {},
     "output_type": "execute_result"
    }
   ],
   "source": [
    "data_free_sub = total_usr.query(\"`subscription_type` == 'free'\")\n",
    "data_free_sub.head(10)"
   ]
  },
  {
   "cell_type": "code",
   "execution_count": 85,
   "id": "4ff4da47",
   "metadata": {},
   "outputs": [
    {
     "data": {
      "text/html": [
       "<div>\n",
       "<style scoped>\n",
       "    .dataframe tbody tr th:only-of-type {\n",
       "        vertical-align: middle;\n",
       "    }\n",
       "\n",
       "    .dataframe tbody tr th {\n",
       "        vertical-align: top;\n",
       "    }\n",
       "\n",
       "    .dataframe thead th {\n",
       "        text-align: right;\n",
       "    }\n",
       "</style>\n",
       "<table border=\"1\" class=\"dataframe\">\n",
       "  <thead>\n",
       "    <tr style=\"text-align: right;\">\n",
       "      <th></th>\n",
       "      <th>user_id</th>\n",
       "      <th>name</th>\n",
       "      <th>age</th>\n",
       "      <th>city</th>\n",
       "      <th>subscription_type</th>\n",
       "      <th>distance</th>\n",
       "      <th>duration</th>\n",
       "      <th>date</th>\n",
       "      <th>month</th>\n",
       "      <th>minute_price</th>\n",
       "      <th>start_ride_price</th>\n",
       "      <th>subscription_fee</th>\n",
       "    </tr>\n",
       "  </thead>\n",
       "  <tbody>\n",
       "    <tr>\n",
       "      <th>0</th>\n",
       "      <td>1</td>\n",
       "      <td>Кира</td>\n",
       "      <td>22</td>\n",
       "      <td>Тюмень</td>\n",
       "      <td>ultra</td>\n",
       "      <td>4409.919140</td>\n",
       "      <td>25.599769</td>\n",
       "      <td>2021-01-01</td>\n",
       "      <td>1</td>\n",
       "      <td>6</td>\n",
       "      <td>0</td>\n",
       "      <td>199</td>\n",
       "    </tr>\n",
       "    <tr>\n",
       "      <th>1</th>\n",
       "      <td>1</td>\n",
       "      <td>Кира</td>\n",
       "      <td>22</td>\n",
       "      <td>Тюмень</td>\n",
       "      <td>ultra</td>\n",
       "      <td>2617.592153</td>\n",
       "      <td>15.816871</td>\n",
       "      <td>2021-01-18</td>\n",
       "      <td>1</td>\n",
       "      <td>6</td>\n",
       "      <td>0</td>\n",
       "      <td>199</td>\n",
       "    </tr>\n",
       "    <tr>\n",
       "      <th>2</th>\n",
       "      <td>1</td>\n",
       "      <td>Кира</td>\n",
       "      <td>22</td>\n",
       "      <td>Тюмень</td>\n",
       "      <td>ultra</td>\n",
       "      <td>754.159807</td>\n",
       "      <td>6.232113</td>\n",
       "      <td>2021-04-20</td>\n",
       "      <td>4</td>\n",
       "      <td>6</td>\n",
       "      <td>0</td>\n",
       "      <td>199</td>\n",
       "    </tr>\n",
       "    <tr>\n",
       "      <th>3</th>\n",
       "      <td>1</td>\n",
       "      <td>Кира</td>\n",
       "      <td>22</td>\n",
       "      <td>Тюмень</td>\n",
       "      <td>ultra</td>\n",
       "      <td>2694.783254</td>\n",
       "      <td>18.511000</td>\n",
       "      <td>2021-08-11</td>\n",
       "      <td>8</td>\n",
       "      <td>6</td>\n",
       "      <td>0</td>\n",
       "      <td>199</td>\n",
       "    </tr>\n",
       "    <tr>\n",
       "      <th>4</th>\n",
       "      <td>1</td>\n",
       "      <td>Кира</td>\n",
       "      <td>22</td>\n",
       "      <td>Тюмень</td>\n",
       "      <td>ultra</td>\n",
       "      <td>4028.687306</td>\n",
       "      <td>26.265803</td>\n",
       "      <td>2021-08-28</td>\n",
       "      <td>8</td>\n",
       "      <td>6</td>\n",
       "      <td>0</td>\n",
       "      <td>199</td>\n",
       "    </tr>\n",
       "    <tr>\n",
       "      <th>5</th>\n",
       "      <td>1</td>\n",
       "      <td>Кира</td>\n",
       "      <td>22</td>\n",
       "      <td>Тюмень</td>\n",
       "      <td>ultra</td>\n",
       "      <td>2770.890808</td>\n",
       "      <td>16.650138</td>\n",
       "      <td>2021-10-09</td>\n",
       "      <td>10</td>\n",
       "      <td>6</td>\n",
       "      <td>0</td>\n",
       "      <td>199</td>\n",
       "    </tr>\n",
       "    <tr>\n",
       "      <th>6</th>\n",
       "      <td>1</td>\n",
       "      <td>Кира</td>\n",
       "      <td>22</td>\n",
       "      <td>Тюмень</td>\n",
       "      <td>ultra</td>\n",
       "      <td>3039.020292</td>\n",
       "      <td>14.927879</td>\n",
       "      <td>2021-10-19</td>\n",
       "      <td>10</td>\n",
       "      <td>6</td>\n",
       "      <td>0</td>\n",
       "      <td>199</td>\n",
       "    </tr>\n",
       "    <tr>\n",
       "      <th>7</th>\n",
       "      <td>1</td>\n",
       "      <td>Кира</td>\n",
       "      <td>22</td>\n",
       "      <td>Тюмень</td>\n",
       "      <td>ultra</td>\n",
       "      <td>2842.118050</td>\n",
       "      <td>23.117468</td>\n",
       "      <td>2021-11-06</td>\n",
       "      <td>11</td>\n",
       "      <td>6</td>\n",
       "      <td>0</td>\n",
       "      <td>199</td>\n",
       "    </tr>\n",
       "    <tr>\n",
       "      <th>8</th>\n",
       "      <td>1</td>\n",
       "      <td>Кира</td>\n",
       "      <td>22</td>\n",
       "      <td>Тюмень</td>\n",
       "      <td>ultra</td>\n",
       "      <td>3412.690668</td>\n",
       "      <td>15.238072</td>\n",
       "      <td>2021-11-14</td>\n",
       "      <td>11</td>\n",
       "      <td>6</td>\n",
       "      <td>0</td>\n",
       "      <td>199</td>\n",
       "    </tr>\n",
       "    <tr>\n",
       "      <th>9</th>\n",
       "      <td>1</td>\n",
       "      <td>Кира</td>\n",
       "      <td>22</td>\n",
       "      <td>Тюмень</td>\n",
       "      <td>ultra</td>\n",
       "      <td>748.690645</td>\n",
       "      <td>15.041884</td>\n",
       "      <td>2021-11-22</td>\n",
       "      <td>11</td>\n",
       "      <td>6</td>\n",
       "      <td>0</td>\n",
       "      <td>199</td>\n",
       "    </tr>\n",
       "  </tbody>\n",
       "</table>\n",
       "</div>"
      ],
      "text/plain": [
       "   user_id  name  age    city subscription_type     distance   duration  \\\n",
       "0        1  Кира   22  Тюмень             ultra  4409.919140  25.599769   \n",
       "1        1  Кира   22  Тюмень             ultra  2617.592153  15.816871   \n",
       "2        1  Кира   22  Тюмень             ultra   754.159807   6.232113   \n",
       "3        1  Кира   22  Тюмень             ultra  2694.783254  18.511000   \n",
       "4        1  Кира   22  Тюмень             ultra  4028.687306  26.265803   \n",
       "5        1  Кира   22  Тюмень             ultra  2770.890808  16.650138   \n",
       "6        1  Кира   22  Тюмень             ultra  3039.020292  14.927879   \n",
       "7        1  Кира   22  Тюмень             ultra  2842.118050  23.117468   \n",
       "8        1  Кира   22  Тюмень             ultra  3412.690668  15.238072   \n",
       "9        1  Кира   22  Тюмень             ultra   748.690645  15.041884   \n",
       "\n",
       "        date  month  minute_price  start_ride_price  subscription_fee  \n",
       "0 2021-01-01      1             6                 0               199  \n",
       "1 2021-01-18      1             6                 0               199  \n",
       "2 2021-04-20      4             6                 0               199  \n",
       "3 2021-08-11      8             6                 0               199  \n",
       "4 2021-08-28      8             6                 0               199  \n",
       "5 2021-10-09     10             6                 0               199  \n",
       "6 2021-10-19     10             6                 0               199  \n",
       "7 2021-11-06     11             6                 0               199  \n",
       "8 2021-11-14     11             6                 0               199  \n",
       "9 2021-11-22     11             6                 0               199  "
      ]
     },
     "execution_count": 85,
     "metadata": {},
     "output_type": "execute_result"
    }
   ],
   "source": [
    "data_ultra_sub = total_usr.query(\"`subscription_type` == 'ultra'\")\n",
    "data_ultra_sub.head(10)"
   ]
  },
  {
   "cell_type": "markdown",
   "id": "bfc5fa79",
   "metadata": {},
   "source": [
    "### Визуализируем информацию о расстоянии и времени поездок для пользователей обеих категорий."
   ]
  },
  {
   "cell_type": "code",
   "execution_count": 92,
   "id": "22abcb9c",
   "metadata": {},
   "outputs": [
    {
     "data": {
      "image/png": "[encoded data removed]",
      "text/plain": [
       "<Figure size 432x288 with 1 Axes>"
      ]
     },
     "metadata": {
      "needs_background": "light"
     },
     "output_type": "display_data"
    }
   ],
   "source": [
    "data_free_sub['distance'].hist(bins=40);\n",
    "plt.xlabel('Расстояние, метры');\n",
    "plt.ylabel('Количество поездок');\n",
    "plt.title('Распределение количества поездок по их дистанции (free)');"
   ]
  },
  {
   "cell_type": "code",
   "execution_count": 114,
   "id": "6cf642b3",
   "metadata": {},
   "outputs": [
    {
     "data": {
      "text/plain": [
       "count    11568.000000\n",
       "mean      3045.495282\n",
       "std       1246.173806\n",
       "min          0.855683\n",
       "25%       2366.562689\n",
       "50%       3114.648465\n",
       "75%       3905.697894\n",
       "max       7211.007745\n",
       "Name: distance, dtype: float64"
      ]
     },
     "execution_count": 114,
     "metadata": {},
     "output_type": "execute_result"
    }
   ],
   "source": [
    "data_free_sub['distance'].describe()"
   ]
  },
  {
   "cell_type": "code",
   "execution_count": 93,
   "id": "de3333b2",
   "metadata": {},
   "outputs": [
    {
     "data": {
      "image/png": "[encoded data removed]",
      "text/plain": [
       "<Figure size 432x288 with 1 Axes>"
      ]
     },
     "metadata": {
      "needs_background": "light"
     },
     "output_type": "display_data"
    }
   ],
   "source": [
    "data_ultra_sub['distance'].hist(bins=40);\n",
    "plt.xlabel('Расстояние, метры');\n",
    "plt.ylabel('Количество поездок');\n",
    "plt.title('Распределение количества поездок по их дистанции (ultra)');"
   ]
  },
  {
   "cell_type": "code",
   "execution_count": 115,
   "id": "15c22b43",
   "metadata": {},
   "outputs": [
    {
     "data": {
      "text/plain": [
       "count    6500.000000\n",
       "mean     3115.445388\n",
       "std       836.895330\n",
       "min       244.210438\n",
       "25%      2785.444017\n",
       "50%      3148.637229\n",
       "75%      3560.574425\n",
       "max      5699.769662\n",
       "Name: distance, dtype: float64"
      ]
     },
     "execution_count": 115,
     "metadata": {},
     "output_type": "execute_result"
    }
   ],
   "source": [
    "data_ultra_sub['distance'].describe()"
   ]
  },
  {
   "cell_type": "code",
   "execution_count": 94,
   "id": "d4ed3ec6",
   "metadata": {},
   "outputs": [
    {
     "data": {
      "image/png": "[encoded data removed]",
      "text/plain": [
       "<Figure size 432x288 with 1 Axes>"
      ]
     },
     "metadata": {
      "needs_background": "light"
     },
     "output_type": "display_data"
    }
   ],
   "source": [
    "data_free_sub['duration'].hist(bins=40);\n",
    "plt.xlabel('Время, минуты');\n",
    "plt.ylabel('Количество поездок');\n",
    "plt.title('Распределение количества поездок по их продолжительности (free)');"
   ]
  },
  {
   "cell_type": "code",
   "execution_count": 119,
   "id": "89aec379",
   "metadata": {},
   "outputs": [
    {
     "data": {
      "text/plain": [
       "count    11568.000000\n",
       "mean        17.390909\n",
       "std          6.326803\n",
       "min          0.500000\n",
       "25%         12.958437\n",
       "50%         17.326890\n",
       "75%         21.594071\n",
       "max         34.948498\n",
       "Name: duration, dtype: float64"
      ]
     },
     "execution_count": 119,
     "metadata": {},
     "output_type": "execute_result"
    }
   ],
   "source": [
    "data_free_sub['duration'].describe()"
   ]
  },
  {
   "cell_type": "code",
   "execution_count": 96,
   "id": "4d736d28",
   "metadata": {},
   "outputs": [
    {
     "data": {
      "image/png": "[encoded data removed]",
      "text/plain": [
       "<Figure size 432x288 with 1 Axes>"
      ]
     },
     "metadata": {
      "needs_background": "light"
     },
     "output_type": "display_data"
    }
   ],
   "source": [
    "data_ultra_sub['duration'].hist(bins=40);\n",
    "plt.xlabel('Время, минуты');\n",
    "plt.ylabel('Количество поездок');\n",
    "plt.title('Распределение количества поездок по их продолжительности (ultra)');"
   ]
  },
  {
   "cell_type": "code",
   "execution_count": 118,
   "id": "d5268865",
   "metadata": {},
   "outputs": [
    {
     "data": {
      "text/plain": [
       "count    6500.000000\n",
       "mean       18.541985\n",
       "std         5.572048\n",
       "min         3.760353\n",
       "25%        14.524654\n",
       "50%        18.178153\n",
       "75%        21.884129\n",
       "max        40.823963\n",
       "Name: duration, dtype: float64"
      ]
     },
     "execution_count": 118,
     "metadata": {},
     "output_type": "execute_result"
    }
   ],
   "source": [
    "data_ultra_sub['duration'].describe()"
   ]
  },
  {
   "cell_type": "code",
   "execution_count": 107,
   "id": "5f0d8cd7",
   "metadata": {},
   "outputs": [
    {
     "data": {
      "image/png": "[encoded data removed]",
      "text/plain": [
       "<Figure size 432x288 with 1 Axes>"
      ]
     },
     "metadata": {
      "needs_background": "light"
     },
     "output_type": "display_data"
    }
   ],
   "source": [
    "# Совместим распредления (дистанция)\n",
    "\n",
    "free_distance = data_free_sub['distance']\n",
    "\n",
    "ultra_distance = data_ultra_sub['distance']\n",
    "\n",
    "ax = free_distance.plot(\n",
    "    kind='hist',\n",
    "    histtype='step',\n",
    "    range=(0, 5000),\n",
    "    bins=40,\n",
    "    linewidth=5,\n",
    "    alpha=0.7,\n",
    "    label='free',\n",
    "    grid=True,\n",
    "    legend=True\n",
    ");\n",
    "ultra_distance.plot(\n",
    "    kind='hist',\n",
    "    histtype='step',\n",
    "    range=(0, 5000),\n",
    "    bins=40,\n",
    "    linewidth=5,\n",
    "    alpha=0.7,\n",
    "    label='ultra',\n",
    "    ax=ax,\n",
    "    grid=True,\n",
    "    legend=True\n",
    ");\n",
    "plt.xlabel('Расстояние, метры');\n",
    "plt.ylabel('Количество поездок');\n",
    "plt.title('Распределение количества поездок по их дистанции (free & ultra)');"
   ]
  },
  {
   "cell_type": "code",
   "execution_count": 112,
   "id": "35f9b549",
   "metadata": {},
   "outputs": [
    {
     "data": {
      "image/png": "[encoded data removed]",
      "text/plain": [
       "<Figure size 432x288 with 1 Axes>"
      ]
     },
     "metadata": {
      "needs_background": "light"
     },
     "output_type": "display_data"
    }
   ],
   "source": [
    "# Совместим распредления (Продолжительность)\n",
    "\n",
    "free_duration = data_free_sub['duration']\n",
    "\n",
    "ultra_duration = data_ultra_sub['duration']\n",
    "\n",
    "ax = free_duration.plot(\n",
    "    kind='hist',\n",
    "    histtype='step',\n",
    "    range=(0, 45),\n",
    "    bins=40,\n",
    "    linewidth=5,\n",
    "    alpha=0.7,\n",
    "    label='free',\n",
    "    grid=True,\n",
    "    legend=True\n",
    ");\n",
    "\n",
    "ultra_duration.plot(\n",
    "    kind='hist',\n",
    "    histtype='step',\n",
    "    range=(0, 45),\n",
    "    bins=40,\n",
    "    linewidth=5,\n",
    "    alpha=0.7,\n",
    "    label='ultra',\n",
    "    ax=ax,\n",
    "    grid=True,\n",
    "    legend=True\n",
    ");\n",
    "plt.xlabel('Время, минуты');\n",
    "plt.ylabel('Количество поездок');\n",
    "plt.title('Распределение количества поездок по их продолжительности (free & ultra)');"
   ]
  },
  {
   "cell_type": "markdown",
   "id": "3566613c",
   "metadata": {},
   "source": [
    "Вывод\n",
    "\n",
    "Объединили данные о пользователях, поездках и тарифах в один датафрейм - total_usr.\n",
    "\n",
    "Выделили два датафрейма на основе total_usr:\n",
    "\n",
    "data_free_sub - Информация о пользователях с бесплатным тарифом\n",
    "data_ultra_sub - Информация о пользователях с платным тарифом\n",
    "Визуализировали информацию о расстоянии и времени для каждого из тарифов.\n",
    "\n",
    "Для бесплатного тарифа время поездки составляет от 10 до 30 минут, и проезжают от 2 до 5 км, есть пользователи, которые проехали даже 6, 6.5 км.\n",
    "\n",
    "Платный тариф. В основном время укладывается в промежуток от 15 до 25 минут. Пик расстояния приходится на 3км.\n",
    "\n",
    "Таким образом, можно сделать вывод, что пользователи с бесплатным тарифом в целом совершают более долгие поездки, а также проезжают большее расстояние, чем пользователи на платном тарифе.\n",
    "\n",
    "Дополним вывод статистическими значениями:\n",
    "\n",
    "Среднее время поездки для бесплатного тарифа: 17 минут (стандартное отклонение 6 минут), расстояние: 3 км (стандартное отклонение 1.2 км).\n",
    "\n",
    "Среднее время поездки для платного тарифа: 18 минуты (стандартное отклонение 5 минуты), расстояние: 3.1 км (стандартное отклонение 0.8 км)."
   ]
  },
  {
   "cell_type": "markdown",
   "id": "402d620f",
   "metadata": {},
   "source": [
    "## Шаг 5. Подсчёт выручки"
   ]
  },
  {
   "cell_type": "markdown",
   "id": "82d5f167",
   "metadata": {},
   "source": [
    "### Создадим датафрейм с агрегированными данными о поездках на основе датафрейма с объединёнными данными из шага 4"
   ]
  },
  {
   "cell_type": "code",
   "execution_count": 42,
   "id": "1d5cb410",
   "metadata": {},
   "outputs": [
    {
     "data": {
      "text/html": [
       "<div>\n",
       "<style scoped>\n",
       "    .dataframe tbody tr th:only-of-type {\n",
       "        vertical-align: middle;\n",
       "    }\n",
       "\n",
       "    .dataframe tbody tr th {\n",
       "        vertical-align: top;\n",
       "    }\n",
       "\n",
       "    .dataframe thead th {\n",
       "        text-align: right;\n",
       "    }\n",
       "</style>\n",
       "<table border=\"1\" class=\"dataframe\">\n",
       "  <thead>\n",
       "    <tr style=\"text-align: right;\">\n",
       "      <th></th>\n",
       "      <th></th>\n",
       "      <th>distance</th>\n",
       "      <th>duration</th>\n",
       "      <th>name</th>\n",
       "      <th>subscription_type</th>\n",
       "    </tr>\n",
       "    <tr>\n",
       "      <th>user_id</th>\n",
       "      <th>month</th>\n",
       "      <th></th>\n",
       "      <th></th>\n",
       "      <th></th>\n",
       "      <th></th>\n",
       "    </tr>\n",
       "  </thead>\n",
       "  <tbody>\n",
       "    <tr>\n",
       "      <th rowspan=\"6\" valign=\"top\">1</th>\n",
       "      <th>1</th>\n",
       "      <td>7027.511294</td>\n",
       "      <td>41.416640</td>\n",
       "      <td>2</td>\n",
       "      <td>ultra</td>\n",
       "    </tr>\n",
       "    <tr>\n",
       "      <th>4</th>\n",
       "      <td>754.159807</td>\n",
       "      <td>6.232113</td>\n",
       "      <td>1</td>\n",
       "      <td>ultra</td>\n",
       "    </tr>\n",
       "    <tr>\n",
       "      <th>8</th>\n",
       "      <td>6723.470560</td>\n",
       "      <td>44.776802</td>\n",
       "      <td>2</td>\n",
       "      <td>ultra</td>\n",
       "    </tr>\n",
       "    <tr>\n",
       "      <th>10</th>\n",
       "      <td>5809.911100</td>\n",
       "      <td>31.578017</td>\n",
       "      <td>2</td>\n",
       "      <td>ultra</td>\n",
       "    </tr>\n",
       "    <tr>\n",
       "      <th>11</th>\n",
       "      <td>7003.499363</td>\n",
       "      <td>53.397424</td>\n",
       "      <td>3</td>\n",
       "      <td>ultra</td>\n",
       "    </tr>\n",
       "    <tr>\n",
       "      <th>12</th>\n",
       "      <td>6751.629942</td>\n",
       "      <td>27.203912</td>\n",
       "      <td>2</td>\n",
       "      <td>ultra</td>\n",
       "    </tr>\n",
       "    <tr>\n",
       "      <th rowspan=\"7\" valign=\"top\">2</th>\n",
       "      <th>3</th>\n",
       "      <td>10187.723006</td>\n",
       "      <td>60.959959</td>\n",
       "      <td>3</td>\n",
       "      <td>ultra</td>\n",
       "    </tr>\n",
       "    <tr>\n",
       "      <th>4</th>\n",
       "      <td>6164.381824</td>\n",
       "      <td>39.048633</td>\n",
       "      <td>2</td>\n",
       "      <td>ultra</td>\n",
       "    </tr>\n",
       "    <tr>\n",
       "      <th>6</th>\n",
       "      <td>3255.338202</td>\n",
       "      <td>13.851127</td>\n",
       "      <td>1</td>\n",
       "      <td>ultra</td>\n",
       "    </tr>\n",
       "    <tr>\n",
       "      <th>7</th>\n",
       "      <td>6780.722964</td>\n",
       "      <td>46.170157</td>\n",
       "      <td>2</td>\n",
       "      <td>ultra</td>\n",
       "    </tr>\n",
       "    <tr>\n",
       "      <th>8</th>\n",
       "      <td>923.007439</td>\n",
       "      <td>6.914760</td>\n",
       "      <td>1</td>\n",
       "      <td>ultra</td>\n",
       "    </tr>\n",
       "    <tr>\n",
       "      <th>10</th>\n",
       "      <td>2824.636598</td>\n",
       "      <td>18.779128</td>\n",
       "      <td>1</td>\n",
       "      <td>ultra</td>\n",
       "    </tr>\n",
       "    <tr>\n",
       "      <th>12</th>\n",
       "      <td>3828.248580</td>\n",
       "      <td>11.920514</td>\n",
       "      <td>1</td>\n",
       "      <td>ultra</td>\n",
       "    </tr>\n",
       "    <tr>\n",
       "      <th rowspan=\"7\" valign=\"top\">3</th>\n",
       "      <th>1</th>\n",
       "      <td>3061.777147</td>\n",
       "      <td>12.654443</td>\n",
       "      <td>1</td>\n",
       "      <td>ultra</td>\n",
       "    </tr>\n",
       "    <tr>\n",
       "      <th>2</th>\n",
       "      <td>5421.152016</td>\n",
       "      <td>37.568637</td>\n",
       "      <td>2</td>\n",
       "      <td>ultra</td>\n",
       "    </tr>\n",
       "    <tr>\n",
       "      <th>4</th>\n",
       "      <td>2956.651632</td>\n",
       "      <td>20.671364</td>\n",
       "      <td>1</td>\n",
       "      <td>ultra</td>\n",
       "    </tr>\n",
       "    <tr>\n",
       "      <th>5</th>\n",
       "      <td>9064.026918</td>\n",
       "      <td>61.404503</td>\n",
       "      <td>3</td>\n",
       "      <td>ultra</td>\n",
       "    </tr>\n",
       "    <tr>\n",
       "      <th>7</th>\n",
       "      <td>10919.595403</td>\n",
       "      <td>65.519784</td>\n",
       "      <td>3</td>\n",
       "      <td>ultra</td>\n",
       "    </tr>\n",
       "    <tr>\n",
       "      <th>9</th>\n",
       "      <td>2891.012822</td>\n",
       "      <td>22.390055</td>\n",
       "      <td>1</td>\n",
       "      <td>ultra</td>\n",
       "    </tr>\n",
       "    <tr>\n",
       "      <th>12</th>\n",
       "      <td>2593.381928</td>\n",
       "      <td>12.984728</td>\n",
       "      <td>1</td>\n",
       "      <td>ultra</td>\n",
       "    </tr>\n",
       "  </tbody>\n",
       "</table>\n",
       "</div>"
      ],
      "text/plain": [
       "                   distance   duration  name subscription_type\n",
       "user_id month                                                 \n",
       "1       1       7027.511294  41.416640     2             ultra\n",
       "        4        754.159807   6.232113     1             ultra\n",
       "        8       6723.470560  44.776802     2             ultra\n",
       "        10      5809.911100  31.578017     2             ultra\n",
       "        11      7003.499363  53.397424     3             ultra\n",
       "        12      6751.629942  27.203912     2             ultra\n",
       "2       3      10187.723006  60.959959     3             ultra\n",
       "        4       6164.381824  39.048633     2             ultra\n",
       "        6       3255.338202  13.851127     1             ultra\n",
       "        7       6780.722964  46.170157     2             ultra\n",
       "        8        923.007439   6.914760     1             ultra\n",
       "        10      2824.636598  18.779128     1             ultra\n",
       "        12      3828.248580  11.920514     1             ultra\n",
       "3       1       3061.777147  12.654443     1             ultra\n",
       "        2       5421.152016  37.568637     2             ultra\n",
       "        4       2956.651632  20.671364     1             ultra\n",
       "        5       9064.026918  61.404503     3             ultra\n",
       "        7      10919.595403  65.519784     3             ultra\n",
       "        9       2891.012822  22.390055     1             ultra\n",
       "        12      2593.381928  12.984728     1             ultra"
      ]
     },
     "execution_count": 42,
     "metadata": {},
     "output_type": "execute_result"
    }
   ],
   "source": [
    "full_data = total_usr.pivot_table(index=['user_id', 'month'], values=['distance', 'duration', 'name', 'subscription_type',]\\\n",
    "                                  ,aggfunc={'distance': sum, 'duration': sum, 'name': 'count', 'subscription_type': min})\n",
    "full_data.head(20)"
   ]
  },
  {
   "cell_type": "code",
   "execution_count": 43,
   "id": "61055b67",
   "metadata": {},
   "outputs": [],
   "source": [
    "full_data.rename(columns = {'name' : 'count_tips'}, inplace = True)"
   ]
  },
  {
   "cell_type": "code",
   "execution_count": 44,
   "id": "d0ad99eb",
   "metadata": {},
   "outputs": [],
   "source": [
    "full_data['duration'] = np.ceil(full_data['duration'])"
   ]
  },
  {
   "cell_type": "code",
   "execution_count": 45,
   "id": "2255a7fa",
   "metadata": {},
   "outputs": [
    {
     "data": {
      "text/html": [
       "<div>\n",
       "<style scoped>\n",
       "    .dataframe tbody tr th:only-of-type {\n",
       "        vertical-align: middle;\n",
       "    }\n",
       "\n",
       "    .dataframe tbody tr th {\n",
       "        vertical-align: top;\n",
       "    }\n",
       "\n",
       "    .dataframe thead th {\n",
       "        text-align: right;\n",
       "    }\n",
       "</style>\n",
       "<table border=\"1\" class=\"dataframe\">\n",
       "  <thead>\n",
       "    <tr style=\"text-align: right;\">\n",
       "      <th></th>\n",
       "      <th></th>\n",
       "      <th>distance</th>\n",
       "      <th>duration</th>\n",
       "      <th>count_tips</th>\n",
       "      <th>subscription_type</th>\n",
       "    </tr>\n",
       "    <tr>\n",
       "      <th>user_id</th>\n",
       "      <th>month</th>\n",
       "      <th></th>\n",
       "      <th></th>\n",
       "      <th></th>\n",
       "      <th></th>\n",
       "    </tr>\n",
       "  </thead>\n",
       "  <tbody>\n",
       "    <tr>\n",
       "      <th>1</th>\n",
       "      <th>1</th>\n",
       "      <td>7027.511294</td>\n",
       "      <td>42.0</td>\n",
       "      <td>2</td>\n",
       "      <td>ultra</td>\n",
       "    </tr>\n",
       "    <tr>\n",
       "      <th>686</th>\n",
       "      <th>1</th>\n",
       "      <td>9891.825690</td>\n",
       "      <td>52.0</td>\n",
       "      <td>3</td>\n",
       "      <td>ultra</td>\n",
       "    </tr>\n",
       "    <tr>\n",
       "      <th>685</th>\n",
       "      <th>1</th>\n",
       "      <td>4837.670420</td>\n",
       "      <td>46.0</td>\n",
       "      <td>2</td>\n",
       "      <td>ultra</td>\n",
       "    </tr>\n",
       "    <tr>\n",
       "      <th>682</th>\n",
       "      <th>1</th>\n",
       "      <td>2929.820795</td>\n",
       "      <td>25.0</td>\n",
       "      <td>1</td>\n",
       "      <td>ultra</td>\n",
       "    </tr>\n",
       "    <tr>\n",
       "      <th>680</th>\n",
       "      <th>1</th>\n",
       "      <td>3316.977004</td>\n",
       "      <td>18.0</td>\n",
       "      <td>1</td>\n",
       "      <td>ultra</td>\n",
       "    </tr>\n",
       "    <tr>\n",
       "      <th>679</th>\n",
       "      <th>1</th>\n",
       "      <td>6407.866143</td>\n",
       "      <td>37.0</td>\n",
       "      <td>2</td>\n",
       "      <td>ultra</td>\n",
       "    </tr>\n",
       "    <tr>\n",
       "      <th>675</th>\n",
       "      <th>1</th>\n",
       "      <td>3907.983157</td>\n",
       "      <td>21.0</td>\n",
       "      <td>1</td>\n",
       "      <td>ultra</td>\n",
       "    </tr>\n",
       "    <tr>\n",
       "      <th>674</th>\n",
       "      <th>1</th>\n",
       "      <td>2952.626152</td>\n",
       "      <td>11.0</td>\n",
       "      <td>1</td>\n",
       "      <td>ultra</td>\n",
       "    </tr>\n",
       "    <tr>\n",
       "      <th>673</th>\n",
       "      <th>1</th>\n",
       "      <td>3371.773487</td>\n",
       "      <td>24.0</td>\n",
       "      <td>1</td>\n",
       "      <td>ultra</td>\n",
       "    </tr>\n",
       "    <tr>\n",
       "      <th>671</th>\n",
       "      <th>1</th>\n",
       "      <td>3649.397977</td>\n",
       "      <td>12.0</td>\n",
       "      <td>1</td>\n",
       "      <td>ultra</td>\n",
       "    </tr>\n",
       "    <tr>\n",
       "      <th>670</th>\n",
       "      <th>1</th>\n",
       "      <td>3051.776917</td>\n",
       "      <td>11.0</td>\n",
       "      <td>1</td>\n",
       "      <td>ultra</td>\n",
       "    </tr>\n",
       "    <tr>\n",
       "      <th>669</th>\n",
       "      <th>1</th>\n",
       "      <td>5634.683916</td>\n",
       "      <td>42.0</td>\n",
       "      <td>2</td>\n",
       "      <td>ultra</td>\n",
       "    </tr>\n",
       "    <tr>\n",
       "      <th>689</th>\n",
       "      <th>1</th>\n",
       "      <td>1838.883247</td>\n",
       "      <td>20.0</td>\n",
       "      <td>2</td>\n",
       "      <td>ultra</td>\n",
       "    </tr>\n",
       "    <tr>\n",
       "      <th>666</th>\n",
       "      <th>1</th>\n",
       "      <td>2912.215254</td>\n",
       "      <td>28.0</td>\n",
       "      <td>1</td>\n",
       "      <td>ultra</td>\n",
       "    </tr>\n",
       "    <tr>\n",
       "      <th>660</th>\n",
       "      <th>1</th>\n",
       "      <td>2754.916011</td>\n",
       "      <td>21.0</td>\n",
       "      <td>1</td>\n",
       "      <td>ultra</td>\n",
       "    </tr>\n",
       "    <tr>\n",
       "      <th>659</th>\n",
       "      <th>1</th>\n",
       "      <td>8094.811923</td>\n",
       "      <td>37.0</td>\n",
       "      <td>2</td>\n",
       "      <td>ultra</td>\n",
       "    </tr>\n",
       "    <tr>\n",
       "      <th>658</th>\n",
       "      <th>1</th>\n",
       "      <td>10647.311154</td>\n",
       "      <td>81.0</td>\n",
       "      <td>4</td>\n",
       "      <td>ultra</td>\n",
       "    </tr>\n",
       "    <tr>\n",
       "      <th>657</th>\n",
       "      <th>1</th>\n",
       "      <td>3272.161536</td>\n",
       "      <td>28.0</td>\n",
       "      <td>1</td>\n",
       "      <td>ultra</td>\n",
       "    </tr>\n",
       "    <tr>\n",
       "      <th>656</th>\n",
       "      <th>1</th>\n",
       "      <td>4211.700773</td>\n",
       "      <td>17.0</td>\n",
       "      <td>1</td>\n",
       "      <td>ultra</td>\n",
       "    </tr>\n",
       "    <tr>\n",
       "      <th>655</th>\n",
       "      <th>1</th>\n",
       "      <td>7006.298847</td>\n",
       "      <td>45.0</td>\n",
       "      <td>2</td>\n",
       "      <td>ultra</td>\n",
       "    </tr>\n",
       "  </tbody>\n",
       "</table>\n",
       "</div>"
      ],
      "text/plain": [
       "                   distance  duration  count_tips subscription_type\n",
       "user_id month                                                      \n",
       "1       1       7027.511294      42.0           2             ultra\n",
       "686     1       9891.825690      52.0           3             ultra\n",
       "685     1       4837.670420      46.0           2             ultra\n",
       "682     1       2929.820795      25.0           1             ultra\n",
       "680     1       3316.977004      18.0           1             ultra\n",
       "679     1       6407.866143      37.0           2             ultra\n",
       "675     1       3907.983157      21.0           1             ultra\n",
       "674     1       2952.626152      11.0           1             ultra\n",
       "673     1       3371.773487      24.0           1             ultra\n",
       "671     1       3649.397977      12.0           1             ultra\n",
       "670     1       3051.776917      11.0           1             ultra\n",
       "669     1       5634.683916      42.0           2             ultra\n",
       "689     1       1838.883247      20.0           2             ultra\n",
       "666     1       2912.215254      28.0           1             ultra\n",
       "660     1       2754.916011      21.0           1             ultra\n",
       "659     1       8094.811923      37.0           2             ultra\n",
       "658     1      10647.311154      81.0           4             ultra\n",
       "657     1       3272.161536      28.0           1             ultra\n",
       "656     1       4211.700773      17.0           1             ultra\n",
       "655     1       7006.298847      45.0           2             ultra"
      ]
     },
     "execution_count": 45,
     "metadata": {},
     "output_type": "execute_result"
    }
   ],
   "source": [
    "full_data.sort_values(by='month').head(20)"
   ]
  },
  {
   "cell_type": "code",
   "execution_count": 46,
   "id": "c5c91b1e",
   "metadata": {},
   "outputs": [
    {
     "name": "stdout",
     "output_type": "stream",
     "text": [
      "<class 'pandas.core.frame.DataFrame'>\n",
      "MultiIndex: 11331 entries, (1, 1) to (1534, 12)\n",
      "Data columns (total 4 columns):\n",
      " #   Column             Non-Null Count  Dtype  \n",
      "---  ------             --------------  -----  \n",
      " 0   distance           11331 non-null  float64\n",
      " 1   duration           11331 non-null  float64\n",
      " 2   count_tips         11331 non-null  int64  \n",
      " 3   subscription_type  11331 non-null  object \n",
      "dtypes: float64(2), int64(1), object(1)\n",
      "memory usage: 399.5+ KB\n"
     ]
    }
   ],
   "source": [
    "full_data.info()"
   ]
  },
  {
   "cell_type": "markdown",
   "id": "9ad6bf1b",
   "metadata": {},
   "source": [
    "### Добавим столбец с помесячной выручкой, которую принёс каждый пользователь"
   ]
  },
  {
   "cell_type": "code",
   "execution_count": 47,
   "id": "7345b869",
   "metadata": {},
   "outputs": [],
   "source": [
    "def month_income(row):\n",
    "    if row['subscription_type'] == 'ultra':\n",
    "        return (6 * row['duration']) + 199\n",
    "    elif row['subscription_type'] == 'free':\n",
    "        return (8 * row['duration']) + 50\n",
    "    return 'Unknown type'"
   ]
  },
  {
   "cell_type": "code",
   "execution_count": 48,
   "id": "ff68773c",
   "metadata": {},
   "outputs": [
    {
     "data": {
      "text/plain": [
       "user_id  month\n",
       "1        1        451.0\n",
       "         4        241.0\n",
       "         8        469.0\n",
       "         10       391.0\n",
       "         11       523.0\n",
       "         12       367.0\n",
       "2        3        565.0\n",
       "         4        439.0\n",
       "         6        283.0\n",
       "         7        481.0\n",
       "         8        241.0\n",
       "         10       313.0\n",
       "         12       271.0\n",
       "3        1        277.0\n",
       "         2        427.0\n",
       "         4        325.0\n",
       "         5        571.0\n",
       "         7        595.0\n",
       "         9        337.0\n",
       "         12       277.0\n",
       "Name: month_income, dtype: float64"
      ]
     },
     "execution_count": 48,
     "metadata": {},
     "output_type": "execute_result"
    }
   ],
   "source": [
    "full_data['month_income'] = full_data.apply(month_income, axis=1)\n",
    "full_data['month_income'].head(20)"
   ]
  },
  {
   "cell_type": "code",
   "execution_count": 49,
   "id": "119876dd",
   "metadata": {},
   "outputs": [
    {
     "data": {
      "text/html": [
       "<div>\n",
       "<style scoped>\n",
       "    .dataframe tbody tr th:only-of-type {\n",
       "        vertical-align: middle;\n",
       "    }\n",
       "\n",
       "    .dataframe tbody tr th {\n",
       "        vertical-align: top;\n",
       "    }\n",
       "\n",
       "    .dataframe thead th {\n",
       "        text-align: right;\n",
       "    }\n",
       "</style>\n",
       "<table border=\"1\" class=\"dataframe\">\n",
       "  <thead>\n",
       "    <tr style=\"text-align: right;\">\n",
       "      <th></th>\n",
       "      <th></th>\n",
       "      <th>distance</th>\n",
       "      <th>duration</th>\n",
       "      <th>count_tips</th>\n",
       "      <th>subscription_type</th>\n",
       "      <th>month_income</th>\n",
       "    </tr>\n",
       "    <tr>\n",
       "      <th>user_id</th>\n",
       "      <th>month</th>\n",
       "      <th></th>\n",
       "      <th></th>\n",
       "      <th></th>\n",
       "      <th></th>\n",
       "      <th></th>\n",
       "    </tr>\n",
       "  </thead>\n",
       "  <tbody>\n",
       "    <tr>\n",
       "      <th rowspan=\"5\" valign=\"top\">1</th>\n",
       "      <th>1</th>\n",
       "      <td>7027.511294</td>\n",
       "      <td>42.0</td>\n",
       "      <td>2</td>\n",
       "      <td>ultra</td>\n",
       "      <td>451.0</td>\n",
       "    </tr>\n",
       "    <tr>\n",
       "      <th>4</th>\n",
       "      <td>754.159807</td>\n",
       "      <td>7.0</td>\n",
       "      <td>1</td>\n",
       "      <td>ultra</td>\n",
       "      <td>241.0</td>\n",
       "    </tr>\n",
       "    <tr>\n",
       "      <th>8</th>\n",
       "      <td>6723.470560</td>\n",
       "      <td>45.0</td>\n",
       "      <td>2</td>\n",
       "      <td>ultra</td>\n",
       "      <td>469.0</td>\n",
       "    </tr>\n",
       "    <tr>\n",
       "      <th>10</th>\n",
       "      <td>5809.911100</td>\n",
       "      <td>32.0</td>\n",
       "      <td>2</td>\n",
       "      <td>ultra</td>\n",
       "      <td>391.0</td>\n",
       "    </tr>\n",
       "    <tr>\n",
       "      <th>11</th>\n",
       "      <td>7003.499363</td>\n",
       "      <td>54.0</td>\n",
       "      <td>3</td>\n",
       "      <td>ultra</td>\n",
       "      <td>523.0</td>\n",
       "    </tr>\n",
       "  </tbody>\n",
       "</table>\n",
       "</div>"
      ],
      "text/plain": [
       "                  distance  duration  count_tips subscription_type  \\\n",
       "user_id month                                                        \n",
       "1       1      7027.511294      42.0           2             ultra   \n",
       "        4       754.159807       7.0           1             ultra   \n",
       "        8      6723.470560      45.0           2             ultra   \n",
       "        10     5809.911100      32.0           2             ultra   \n",
       "        11     7003.499363      54.0           3             ultra   \n",
       "\n",
       "               month_income  \n",
       "user_id month                \n",
       "1       1             451.0  \n",
       "        4             241.0  \n",
       "        8             469.0  \n",
       "        10            391.0  \n",
       "        11            523.0  "
      ]
     },
     "execution_count": 49,
     "metadata": {},
     "output_type": "execute_result"
    }
   ],
   "source": [
    "full_data.head()"
   ]
  },
  {
   "cell_type": "markdown",
   "id": "a681ed73",
   "metadata": {},
   "source": [
    "Вывод: Создали новый датафрейм с агрегированными данными (full_data) на основе датафрейма с объединенными данными (total_usr).\n",
    "\n",
    "Нашли суммарное расстояние, количество поездок и суммарное время для каждого пользователя за каждый месяц. \n",
    "\n",
    "Также добавили столбец с помесячной выручкой, которую принес каждый пользователь."
   ]
  },
  {
   "cell_type": "markdown",
   "id": "41545ac0",
   "metadata": {},
   "source": [
    "## Шаг 6. Проверка гипотез"
   ]
  },
  {
   "cell_type": "markdown",
   "id": "de2a8f30",
   "metadata": {},
   "source": [
    "### Важно понять, тратят ли пользователи с подпиской больше времени на поездки?"
   ]
  },
  {
   "cell_type": "markdown",
   "id": "abcbd4e9",
   "metadata": {},
   "source": [
    "Если да, то пользователи с подпиской могут быть «выгоднее» для компании. Проверьте гипотезу. Используйте исходные данные о продолжительности каждой сессии — отдельно для подписчиков и тех, у кого нет подписки.\n",
    "\n",
    "Итак, проверим данную гипотезу.\n",
    "\n",
    "Нулевая и альтернативная гипотезы:\n",
    "Гипотеза Н0: Средняя продолжительность поездок с подпиской ‘ultra’ и ‘free’ равна.\n",
    "Гипотеза Н1: Средняя продолжительность поездок с подпиской ‘ultra’ больше, чем с подпиской ‘free’.\n",
    "alpha = 0.05"
   ]
  },
  {
   "cell_type": "code",
   "execution_count": 50,
   "id": "0815d765",
   "metadata": {},
   "outputs": [
    {
     "name": "stdout",
     "output_type": "stream",
     "text": [
      "1.2804098316645618e-34\n",
      "Отвергаем нулевую гипотезу\n"
     ]
    }
   ],
   "source": [
    "free = data_free_sub['duration']\n",
    "\n",
    "ultra = data_ultra_sub['duration'] \n",
    "\n",
    "results = st.ttest_ind(ultra, \n",
    "                       free,\n",
    "                       alternative = 'greater')\n",
    "\n",
    "alpha = 0.05\n",
    "\n",
    "print(results.pvalue)\n",
    "\n",
    "if results.pvalue < alpha:\n",
    "    print('Отвергаем нулевую гипотезу')\n",
    "else:\n",
    "    print('Не удалось отвергнуть нулевую гипотезу')"
   ]
  },
  {
   "cell_type": "code",
   "execution_count": 51,
   "id": "8367cbc7",
   "metadata": {},
   "outputs": [
    {
     "data": {
      "image/png": "[encoded data removed]",
      "text/plain": [
       "<Figure size 432x288 with 1 Axes>"
      ]
     },
     "metadata": {
      "needs_background": "light"
     },
     "output_type": "display_data"
    }
   ],
   "source": [
    "ax = sns.barplot(x = 'month',\n",
    "            y = 'duration',\n",
    "            hue = \"subscription_type\",\n",
    "            data = total_usr,\n",
    "            palette = ['green', 'blue'])\n",
    "ax.set_title('Распределение продолжительности поездок по видам подписок и месяцам')\n",
    "ax.set(xlabel='Номер месяца', ylabel='Продолжительность поездок');"
   ]
  },
  {
   "cell_type": "markdown",
   "id": "b94bb46b",
   "metadata": {},
   "source": [
    "Проверили гипотезу, отвергли гипотезу о том, что время поездки пользователей на тарифе ultra равно времени поездки пользователей на тарифе free< мы можем утверждать, что пользователи с подпиской больше времени на поездки."
   ]
  },
  {
   "cell_type": "markdown",
   "id": "f3fb27aa",
   "metadata": {},
   "source": [
    "### Можно ли сказать, что среднее расстояние, которое проезжают пользователи с подпиской за одну поездку, не превышает 3130 метров?"
   ]
  },
  {
   "cell_type": "markdown",
   "id": "87ef32df",
   "metadata": {},
   "source": [
    "3130 метров — оптимальное расстояние с точки зрения износа самоката\n",
    "\n",
    "Нулевая и альтернативная гипотезы:\n",
    "\n",
    "Гипотеза Н0: Среднее расстояние поездок с использованием подписки ‘ultra’ равно оптимальному расстоянию в 3130 метров.\n",
    "\n",
    "Гипотеза Н1: Среднее расстояние поездок с использованием подписки ‘ultra’ больше 3130 метров."
   ]
  },
  {
   "cell_type": "code",
   "execution_count": 124,
   "id": "1f08e71d",
   "metadata": {},
   "outputs": [
    {
     "name": "stdout",
     "output_type": "stream",
     "text": [
      "0.9195368847849785\n",
      "Не удалось отвергнуть нулевую гипотезу\n"
     ]
    }
   ],
   "source": [
    "ultra = data_ultra_sub['distance'] \n",
    "\n",
    "interested_value = 3130.0\n",
    "\n",
    "alpha = .05\n",
    "\n",
    "results = st.ttest_1samp(\n",
    "    ultra, \n",
    "    interested_value,\n",
    "    alternative='greater')\n",
    "\n",
    "print(results.pvalue)\n",
    "\n",
    "if results.pvalue < alpha:\n",
    "    print('Отвергаем нулевую гипотезу')\n",
    "else:\n",
    "    print('Не удалось отвергнуть нулевую гипотезу')"
   ]
  },
  {
   "cell_type": "markdown",
   "id": "1f538a6e",
   "metadata": {},
   "source": [
    "Проверили гипотезу, и мы не можем утверждать, что расстояние, которое проехали пользователи на тарифе ultra не превышает 3130 метров."
   ]
  },
  {
   "cell_type": "markdown",
   "id": "dcfcd362",
   "metadata": {},
   "source": [
    "### Будет ли помесячная выручка от пользователей с подпиской по месяцам выше, чем выручка от пользователей без подписки?"
   ]
  },
  {
   "cell_type": "markdown",
   "id": "bdec9bba",
   "metadata": {},
   "source": [
    "Нулевая и альтернативная гипотезы:\n",
    "\n",
    "Гипотеза Н0: Средняя выручка от поездок с разной подпиской равна.\n",
    "\n",
    "Гипотеза Н1: Средняя выручка от поездок с использованием подписки ‘ultra’ больше, чем выручка с ипользованием подписки ‘free’."
   ]
  },
  {
   "cell_type": "code",
   "execution_count": 53,
   "id": "1d685302",
   "metadata": {},
   "outputs": [
    {
     "name": "stdout",
     "output_type": "stream",
     "text": [
      "p-value: 1.577594269237221e-195\n",
      "Отвергаем нулевую гипотезу\n"
     ]
    }
   ],
   "source": [
    "free_usr = full_data.query('subscription_type == \"free\"')['month_income']\n",
    "\n",
    "ultra_usr = full_data.query('subscription_type == \"ultra\"')['month_income']\n",
    "\n",
    "results = st.ttest_ind(ultra_usr, free_usr, alternative='greater')\n",
    "\n",
    "alpha = .05\n",
    "\n",
    "print(f'p-value: {results.pvalue}')\n",
    "\n",
    "# проверяем p-value\n",
    "if results.pvalue < alpha:\n",
    "    print('Отвергаем нулевую гипотезу')\n",
    "else:\n",
    "    print('Нет оснований отвергнуть нулевую гипотезу')"
   ]
  },
  {
   "cell_type": "code",
   "execution_count": 54,
   "id": "8edb3d1a",
   "metadata": {},
   "outputs": [
    {
     "data": {
      "image/png": "[encoded data removed]",
      "text/plain": [
       "<Figure size 432x288 with 1 Axes>"
      ]
     },
     "metadata": {
      "needs_background": "light"
     },
     "output_type": "display_data"
    }
   ],
   "source": [
    "ultra_usr.hist(bins=8);"
   ]
  },
  {
   "cell_type": "code",
   "execution_count": 55,
   "id": "fcb6d41a",
   "metadata": {},
   "outputs": [
    {
     "data": {
      "image/png": "[encoded data removed]",
      "text/plain": [
       "<Figure size 432x288 with 1 Axes>"
      ]
     },
     "metadata": {
      "needs_background": "light"
     },
     "output_type": "display_data"
    }
   ],
   "source": [
    "free_usr.hist(bins=8);"
   ]
  },
  {
   "cell_type": "markdown",
   "id": "788b0e26",
   "metadata": {},
   "source": [
    "Проверили гипотезу, соответственно, мы можем утверждать, что выручка с пользователей на подписке ultra превышает выручку с пользователей на подписке free"
   ]
  },
  {
   "cell_type": "markdown",
   "id": "07e326b0",
   "metadata": {},
   "source": [
    "### Представьте такую ситуацию: техническая команда сервиса обновила сервера, с которыми взаимодействует мобильное приложение. Она надеется, что из-за этого количество обращений в техподдержку значимо снизилось. Некоторый файл содержит для каждого пользователя данные о количестве обращений до обновления и после него. Какой тест вам понадобился бы для проверки этой гипотезы?"
   ]
  },
  {
   "cell_type": "markdown",
   "id": "99da9b99",
   "metadata": {},
   "source": [
    "Будем использовать гипотезу о равенстве средних для зависимых (парных) выборок.\n",
    "\n",
    "Гипотезы будут сформулированы так:\n",
    "\n",
    "H0 : μ1 = μ2\n",
    "H1 : μ1 != μ2\n",
    "где μ1 и μ2 - средние значения количество обращений в техподдержку до и после изменения.\n",
    "\n",
    "Метод, который нужно использовать при сравнении: scipy.stats.ttest_rel()"
   ]
  },
  {
   "cell_type": "markdown",
   "id": "61213c5e",
   "metadata": {},
   "source": [
    "## Шаг 7. Общий вывод"
   ]
  },
  {
   "cell_type": "markdown",
   "id": "0ddb74a2",
   "metadata": {},
   "source": [
    "Загрузили 3 датафрейма: с пользователями, информацией о поездках, информацией о подписках.\n",
    "\n",
    "Дальше проверили данные на пропуски, их не оказалось ни в одной таблице. \n",
    "\n",
    "Поменяли тип данных у столбца date из датафрейма data_rides к типу даты. Также добавили столбец month с номером месяца. И удалили дубликаты строк из датафрейма с пользователями.\n",
    "\n",
    "Провели исследовательский анализ данных:\n",
    "\n",
    "Выяснили, что количество пользователей по городам распределено примерно одинаково, нет выдающихся значений. Лидером по количеству пользователей является Пятигорск - 219 пользователей. Меньше всего пользователей в Москве - 168.\n",
    "Пользователей, использующих бесплатную подписку больше - 835 человек, что является ~54% от общего числа пользователей. На платной подписке сидит 699 пользователей, что соответственно является ~46%.\n",
    "Возраст пользователей укладывается в промежуток от 20 до 30 лет\n",
    "В основном пользователи проезжают от 2.5 км до 4 км.\n",
    "Чаще всего длительность поездки состовляет 13 - 22 минут\n",
    "Объединили данные о пользователях, поездках и подписках в один датафрейм. На основе объединенного датафрейма создали еще 2 датафрейма:\n",
    "\n",
    "Для пользователей с ultra подпиской\n",
    "Для пользователей с free подпиской\n",
    "Дальше визуализировали информацию о расстоянии и времени поездки для пользоватей каждого тарифа.\n",
    "\n",
    "Для бесплатного тарифа время поездки составляет от 10 до 30 минут, и проезжают от 2 до 5 км, есть пользователи, которые проехали даже 6, 6.5 км.\n",
    "Платный тариф. В основном время укладывается в промежуток от 15 до 25 минут. Пик расстояния приходится на 3км.\n",
    "Нашли суммарное расстояние, количество поездок и суммарное время для каждого пользователя за каждый месяц - вывели все данные в отдельный датафрейм full_data. Добавили в датафрейм full_data столбец с помесячной выручкой month_income.\n",
    "\n",
    "Проверили гипотезы:\n",
    "\n",
    "Пользователи с подпиской тратят больше времени на поездки, чем пользователи на бесплатном тарифе\n",
    "Отвергли нулевую гипотезу\n",
    "Пользователи с подпиской проезжают расстояние, не превышающее 3130 метров за одну поездку\n",
    "Не удалось отвергнуть нулевую гипотезу\n",
    "Помесячная выручка от пользователей с подпиской выше, чем выручка от пользователей без подписки\n",
    "Отвергли нулевую гипотезу"
   ]
  },
  {
   "cell_type": "code",
   "execution_count": null,
   "id": "f3299168",
   "metadata": {},
   "outputs": [],
   "source": []
  }
 ],
 "metadata": {
  "ExecuteTimeLog": [
   {
    "duration": 50,
    "start_time": "2024-02-17T20:09:57.212Z"
   },
   {
    "duration": 1467,
    "start_time": "2024-02-17T20:10:05.315Z"
   },
   {
    "duration": 103,
    "start_time": "2024-02-17T20:10:06.784Z"
   },
   {
    "duration": 98,
    "start_time": "2024-02-17T20:10:44.514Z"
   },
   {
    "duration": 175,
    "start_time": "2024-02-17T20:11:12.841Z"
   },
   {
    "duration": 34,
    "start_time": "2024-02-17T20:11:24.319Z"
   },
   {
    "duration": 49,
    "start_time": "2024-02-17T20:11:27.585Z"
   },
   {
    "duration": 73,
    "start_time": "2024-02-17T20:13:17.465Z"
   },
   {
    "duration": 296,
    "start_time": "2024-02-17T20:13:53.180Z"
   },
   {
    "duration": 10,
    "start_time": "2024-02-17T20:14:18.957Z"
   },
   {
    "duration": 302,
    "start_time": "2024-02-17T20:15:00.957Z"
   },
   {
    "duration": 149,
    "start_time": "2024-02-17T20:17:38.607Z"
   },
   {
    "duration": 162,
    "start_time": "2024-02-17T20:18:31.691Z"
   },
   {
    "duration": 151,
    "start_time": "2024-02-17T20:19:22.123Z"
   },
   {
    "duration": 168,
    "start_time": "2024-02-17T20:19:56.141Z"
   },
   {
    "duration": 98,
    "start_time": "2024-02-17T20:20:25.668Z"
   },
   {
    "duration": 155,
    "start_time": "2024-02-17T20:20:33.058Z"
   },
   {
    "duration": 107,
    "start_time": "2024-02-17T20:21:21.802Z"
   },
   {
    "duration": 326,
    "start_time": "2024-02-17T20:21:59.052Z"
   },
   {
    "duration": 140,
    "start_time": "2024-02-17T20:22:06.269Z"
   },
   {
    "duration": 138,
    "start_time": "2024-02-17T20:22:14.141Z"
   },
   {
    "duration": 149,
    "start_time": "2024-02-17T20:22:31.542Z"
   },
   {
    "duration": 141,
    "start_time": "2024-02-17T20:22:45.404Z"
   },
   {
    "duration": 10,
    "start_time": "2024-02-17T20:26:38.031Z"
   },
   {
    "duration": 147,
    "start_time": "2024-02-17T20:26:59.986Z"
   },
   {
    "duration": 8,
    "start_time": "2024-02-17T20:27:47.226Z"
   },
   {
    "duration": 5,
    "start_time": "2024-02-17T20:27:53.965Z"
   },
   {
    "duration": 6,
    "start_time": "2024-02-17T20:28:09.814Z"
   },
   {
    "duration": 402,
    "start_time": "2024-02-17T20:31:32.247Z"
   },
   {
    "duration": 103,
    "start_time": "2024-02-17T20:32:33.808Z"
   },
   {
    "duration": 411,
    "start_time": "2024-02-17T20:32:39.009Z"
   },
   {
    "duration": 427,
    "start_time": "2024-02-17T20:33:15.443Z"
   },
   {
    "duration": 9,
    "start_time": "2024-02-17T20:33:57.118Z"
   },
   {
    "duration": 1203,
    "start_time": "2024-02-17T20:34:07.123Z"
   },
   {
    "duration": 38,
    "start_time": "2024-02-17T20:34:08.328Z"
   },
   {
    "duration": 150,
    "start_time": "2024-02-17T20:34:08.368Z"
   },
   {
    "duration": 5,
    "start_time": "2024-02-17T20:34:08.520Z"
   },
   {
    "duration": 533,
    "start_time": "2024-02-17T20:34:08.527Z"
   },
   {
    "duration": 0,
    "start_time": "2024-02-17T20:34:09.061Z"
   },
   {
    "duration": 0,
    "start_time": "2024-02-17T20:34:09.063Z"
   },
   {
    "duration": 0,
    "start_time": "2024-02-17T20:34:09.064Z"
   },
   {
    "duration": 0,
    "start_time": "2024-02-17T20:34:09.065Z"
   },
   {
    "duration": 170,
    "start_time": "2024-02-17T20:34:52.717Z"
   },
   {
    "duration": 173,
    "start_time": "2024-02-17T20:35:07.475Z"
   },
   {
    "duration": 167,
    "start_time": "2024-02-17T20:35:11.965Z"
   },
   {
    "duration": 168,
    "start_time": "2024-02-17T20:35:31.102Z"
   },
   {
    "duration": 162,
    "start_time": "2024-02-17T20:36:01.132Z"
   },
   {
    "duration": 124,
    "start_time": "2024-02-17T20:36:14.160Z"
   },
   {
    "duration": 147,
    "start_time": "2024-02-17T20:36:24.315Z"
   },
   {
    "duration": 1778,
    "start_time": "2024-02-17T20:37:10.139Z"
   },
   {
    "duration": 5,
    "start_time": "2024-02-17T20:37:14.382Z"
   },
   {
    "duration": 46,
    "start_time": "2024-02-17T20:38:07.251Z"
   },
   {
    "duration": 10,
    "start_time": "2024-02-17T20:38:09.634Z"
   },
   {
    "duration": 368,
    "start_time": "2024-02-17T20:38:32.488Z"
   },
   {
    "duration": 318,
    "start_time": "2024-02-17T20:38:36.584Z"
   },
   {
    "duration": 1605,
    "start_time": "2024-02-17T20:38:57.492Z"
   },
   {
    "duration": 5,
    "start_time": "2024-02-17T20:41:04.173Z"
   },
   {
    "duration": 6,
    "start_time": "2024-02-17T20:41:24.396Z"
   },
   {
    "duration": 5,
    "start_time": "2024-02-17T20:41:34.878Z"
   },
   {
    "duration": 6,
    "start_time": "2024-02-17T20:41:53.296Z"
   },
   {
    "duration": 11,
    "start_time": "2024-02-17T20:42:18.816Z"
   },
   {
    "duration": 15,
    "start_time": "2024-02-17T20:42:46.953Z"
   },
   {
    "duration": 19,
    "start_time": "2024-02-17T20:43:06.098Z"
   },
   {
    "duration": 19,
    "start_time": "2024-02-17T20:43:18.362Z"
   },
   {
    "duration": 6,
    "start_time": "2024-02-17T20:43:33.735Z"
   },
   {
    "duration": 22,
    "start_time": "2024-02-17T20:43:42.583Z"
   },
   {
    "duration": 18,
    "start_time": "2024-02-17T20:43:52.075Z"
   },
   {
    "duration": 17,
    "start_time": "2024-02-17T20:44:01.866Z"
   },
   {
    "duration": 11,
    "start_time": "2024-02-17T20:44:28.693Z"
   },
   {
    "duration": 9,
    "start_time": "2024-02-17T20:44:42.957Z"
   },
   {
    "duration": 10,
    "start_time": "2024-02-17T20:44:48.475Z"
   },
   {
    "duration": 9,
    "start_time": "2024-02-17T20:45:55.811Z"
   },
   {
    "duration": 9,
    "start_time": "2024-02-17T20:46:01.010Z"
   },
   {
    "duration": 10,
    "start_time": "2024-02-17T20:46:30.900Z"
   },
   {
    "duration": 9,
    "start_time": "2024-02-17T20:47:12.088Z"
   },
   {
    "duration": 9,
    "start_time": "2024-02-17T20:47:35.690Z"
   },
   {
    "duration": 33,
    "start_time": "2024-02-17T20:48:07.630Z"
   },
   {
    "duration": 8,
    "start_time": "2024-02-17T20:48:10.280Z"
   },
   {
    "duration": 6,
    "start_time": "2024-02-17T20:49:07.859Z"
   },
   {
    "duration": 8,
    "start_time": "2024-02-17T20:49:18.159Z"
   },
   {
    "duration": 6,
    "start_time": "2024-02-17T20:49:28.520Z"
   },
   {
    "duration": 9,
    "start_time": "2024-02-17T20:51:41.570Z"
   },
   {
    "duration": 9,
    "start_time": "2024-02-17T20:51:48.225Z"
   },
   {
    "duration": 21,
    "start_time": "2024-02-17T20:51:59.529Z"
   },
   {
    "duration": 24,
    "start_time": "2024-02-17T20:52:15.148Z"
   },
   {
    "duration": 20,
    "start_time": "2024-02-17T20:52:30.873Z"
   },
   {
    "duration": 8,
    "start_time": "2024-02-17T20:54:11.287Z"
   },
   {
    "duration": 13,
    "start_time": "2024-02-17T20:54:26.613Z"
   },
   {
    "duration": 6,
    "start_time": "2024-02-17T20:55:48.834Z"
   },
   {
    "duration": 6,
    "start_time": "2024-02-17T20:55:56.736Z"
   },
   {
    "duration": 6,
    "start_time": "2024-02-17T20:55:59.087Z"
   },
   {
    "duration": 8,
    "start_time": "2024-02-17T20:57:44.460Z"
   },
   {
    "duration": 5,
    "start_time": "2024-02-17T20:58:06.067Z"
   },
   {
    "duration": 9,
    "start_time": "2024-02-17T20:58:07.949Z"
   },
   {
    "duration": 7,
    "start_time": "2024-02-17T20:59:24.910Z"
   },
   {
    "duration": 7,
    "start_time": "2024-02-17T20:59:29.183Z"
   },
   {
    "duration": 9,
    "start_time": "2024-02-17T20:59:31.548Z"
   },
   {
    "duration": 1137,
    "start_time": "2024-02-17T20:59:37.534Z"
   },
   {
    "duration": 38,
    "start_time": "2024-02-17T20:59:38.673Z"
   },
   {
    "duration": 150,
    "start_time": "2024-02-17T20:59:38.712Z"
   },
   {
    "duration": 4,
    "start_time": "2024-02-17T20:59:38.864Z"
   },
   {
    "duration": 8,
    "start_time": "2024-02-17T20:59:38.870Z"
   },
   {
    "duration": 152,
    "start_time": "2024-02-17T20:59:38.890Z"
   },
   {
    "duration": 36,
    "start_time": "2024-02-17T20:59:39.044Z"
   },
   {
    "duration": 11,
    "start_time": "2024-02-17T20:59:39.081Z"
   },
   {
    "duration": 4,
    "start_time": "2024-02-17T20:59:39.094Z"
   },
   {
    "duration": 9,
    "start_time": "2024-02-17T20:59:39.100Z"
   },
   {
    "duration": 8,
    "start_time": "2024-02-17T20:59:39.111Z"
   },
   {
    "duration": 24,
    "start_time": "2024-02-17T20:59:39.121Z"
   },
   {
    "duration": 8,
    "start_time": "2024-02-17T20:59:39.146Z"
   },
   {
    "duration": 36,
    "start_time": "2024-02-17T20:59:39.156Z"
   },
   {
    "duration": 7,
    "start_time": "2024-02-17T20:59:39.194Z"
   },
   {
    "duration": 5,
    "start_time": "2024-02-17T20:59:39.202Z"
   },
   {
    "duration": 15,
    "start_time": "2024-02-17T20:59:39.209Z"
   },
   {
    "duration": 11,
    "start_time": "2024-02-17T20:59:39.226Z"
   },
   {
    "duration": 6,
    "start_time": "2024-02-17T20:59:39.239Z"
   },
   {
    "duration": 6,
    "start_time": "2024-02-17T20:59:39.247Z"
   },
   {
    "duration": 8,
    "start_time": "2024-02-17T20:59:39.291Z"
   },
   {
    "duration": 8,
    "start_time": "2024-02-17T20:59:39.301Z"
   },
   {
    "duration": 9,
    "start_time": "2024-02-17T20:59:39.310Z"
   },
   {
    "duration": 5,
    "start_time": "2024-02-17T20:59:39.321Z"
   },
   {
    "duration": 21,
    "start_time": "2024-02-17T21:02:20.140Z"
   },
   {
    "duration": 11,
    "start_time": "2024-02-17T21:02:22.644Z"
   },
   {
    "duration": 6,
    "start_time": "2024-02-17T21:02:27.305Z"
   },
   {
    "duration": 6,
    "start_time": "2024-02-17T21:02:29.466Z"
   },
   {
    "duration": 7,
    "start_time": "2024-02-17T21:02:49.296Z"
   },
   {
    "duration": 1158,
    "start_time": "2024-02-17T21:02:56.035Z"
   },
   {
    "duration": 38,
    "start_time": "2024-02-17T21:02:57.195Z"
   },
   {
    "duration": 149,
    "start_time": "2024-02-17T21:02:57.235Z"
   },
   {
    "duration": 8,
    "start_time": "2024-02-17T21:02:57.386Z"
   },
   {
    "duration": 37,
    "start_time": "2024-02-17T21:02:57.395Z"
   },
   {
    "duration": 160,
    "start_time": "2024-02-17T21:02:57.434Z"
   },
   {
    "duration": 36,
    "start_time": "2024-02-17T21:02:57.602Z"
   },
   {
    "duration": 12,
    "start_time": "2024-02-17T21:02:57.640Z"
   },
   {
    "duration": 11,
    "start_time": "2024-02-17T21:02:57.653Z"
   },
   {
    "duration": 13,
    "start_time": "2024-02-17T21:02:57.667Z"
   },
   {
    "duration": 28,
    "start_time": "2024-02-17T21:02:57.682Z"
   },
   {
    "duration": 45,
    "start_time": "2024-02-17T21:02:57.712Z"
   },
   {
    "duration": 7,
    "start_time": "2024-02-17T21:02:57.759Z"
   },
   {
    "duration": 21,
    "start_time": "2024-02-17T21:02:57.767Z"
   },
   {
    "duration": 11,
    "start_time": "2024-02-17T21:02:57.790Z"
   },
   {
    "duration": 11,
    "start_time": "2024-02-17T21:02:57.803Z"
   },
   {
    "duration": 15,
    "start_time": "2024-02-17T21:02:57.815Z"
   },
   {
    "duration": 11,
    "start_time": "2024-02-17T21:02:57.831Z"
   },
   {
    "duration": 10,
    "start_time": "2024-02-17T21:02:57.844Z"
   },
   {
    "duration": 18,
    "start_time": "2024-02-17T21:02:57.855Z"
   },
   {
    "duration": 10,
    "start_time": "2024-02-17T21:02:57.874Z"
   },
   {
    "duration": 10,
    "start_time": "2024-02-17T21:02:57.885Z"
   },
   {
    "duration": 6,
    "start_time": "2024-02-17T21:03:43.594Z"
   },
   {
    "duration": 7,
    "start_time": "2024-02-17T21:03:45.060Z"
   },
   {
    "duration": 1236,
    "start_time": "2024-02-17T21:09:20.764Z"
   },
   {
    "duration": 40,
    "start_time": "2024-02-17T21:09:22.002Z"
   },
   {
    "duration": 181,
    "start_time": "2024-02-17T21:09:22.044Z"
   },
   {
    "duration": 4,
    "start_time": "2024-02-17T21:09:22.227Z"
   },
   {
    "duration": 13,
    "start_time": "2024-02-17T21:09:22.234Z"
   },
   {
    "duration": 179,
    "start_time": "2024-02-17T21:09:22.249Z"
   },
   {
    "duration": 37,
    "start_time": "2024-02-17T21:09:22.429Z"
   },
   {
    "duration": 12,
    "start_time": "2024-02-17T21:09:22.467Z"
   },
   {
    "duration": 14,
    "start_time": "2024-02-17T21:09:22.480Z"
   },
   {
    "duration": 10,
    "start_time": "2024-02-17T21:09:22.496Z"
   },
   {
    "duration": 12,
    "start_time": "2024-02-17T21:09:22.508Z"
   },
   {
    "duration": 23,
    "start_time": "2024-02-17T21:09:22.522Z"
   },
   {
    "duration": 7,
    "start_time": "2024-02-17T21:09:22.547Z"
   },
   {
    "duration": 19,
    "start_time": "2024-02-17T21:09:22.557Z"
   },
   {
    "duration": 20,
    "start_time": "2024-02-17T21:09:22.578Z"
   },
   {
    "duration": 6,
    "start_time": "2024-02-17T21:09:22.600Z"
   },
   {
    "duration": 7,
    "start_time": "2024-02-17T21:09:22.608Z"
   },
   {
    "duration": 8,
    "start_time": "2024-02-17T21:09:22.617Z"
   },
   {
    "duration": 6,
    "start_time": "2024-02-17T21:09:22.627Z"
   },
   {
    "duration": 7,
    "start_time": "2024-02-17T21:09:22.635Z"
   },
   {
    "duration": 9,
    "start_time": "2024-02-17T21:09:22.691Z"
   },
   {
    "duration": 6,
    "start_time": "2024-02-17T21:09:22.701Z"
   },
   {
    "duration": 1168,
    "start_time": "2024-02-17T21:10:35.215Z"
   },
   {
    "duration": 43,
    "start_time": "2024-02-17T21:10:36.385Z"
   },
   {
    "duration": 151,
    "start_time": "2024-02-17T21:10:36.430Z"
   },
   {
    "duration": 4,
    "start_time": "2024-02-17T21:10:36.583Z"
   },
   {
    "duration": 6,
    "start_time": "2024-02-17T21:10:36.589Z"
   },
   {
    "duration": 163,
    "start_time": "2024-02-17T21:10:36.597Z"
   },
   {
    "duration": 37,
    "start_time": "2024-02-17T21:10:36.762Z"
   },
   {
    "duration": 14,
    "start_time": "2024-02-17T21:10:36.801Z"
   },
   {
    "duration": 7,
    "start_time": "2024-02-17T21:10:36.817Z"
   },
   {
    "duration": 11,
    "start_time": "2024-02-17T21:10:36.826Z"
   },
   {
    "duration": 11,
    "start_time": "2024-02-17T21:10:36.839Z"
   },
   {
    "duration": 43,
    "start_time": "2024-02-17T21:10:36.852Z"
   },
   {
    "duration": 8,
    "start_time": "2024-02-17T21:10:36.897Z"
   },
   {
    "duration": 23,
    "start_time": "2024-02-17T21:10:36.908Z"
   },
   {
    "duration": 15,
    "start_time": "2024-02-17T21:10:36.933Z"
   },
   {
    "duration": 6,
    "start_time": "2024-02-17T21:10:36.950Z"
   },
   {
    "duration": 6,
    "start_time": "2024-02-17T21:10:36.958Z"
   },
   {
    "duration": 8,
    "start_time": "2024-02-17T21:10:36.991Z"
   },
   {
    "duration": 14,
    "start_time": "2024-02-17T21:10:37.001Z"
   },
   {
    "duration": 13,
    "start_time": "2024-02-17T21:10:37.017Z"
   },
   {
    "duration": 16,
    "start_time": "2024-02-17T21:10:37.032Z"
   },
   {
    "duration": 17,
    "start_time": "2024-02-17T21:10:37.050Z"
   },
   {
    "duration": 166,
    "start_time": "2024-02-17T21:17:25.828Z"
   },
   {
    "duration": 132,
    "start_time": "2024-02-17T21:17:40.414Z"
   },
   {
    "duration": 131,
    "start_time": "2024-02-17T21:17:58.143Z"
   },
   {
    "duration": 119,
    "start_time": "2024-02-17T21:19:54.566Z"
   },
   {
    "duration": 104,
    "start_time": "2024-02-17T21:20:08.681Z"
   },
   {
    "duration": 124,
    "start_time": "2024-02-17T21:20:14.003Z"
   },
   {
    "duration": 129,
    "start_time": "2024-02-17T21:28:22.505Z"
   },
   {
    "duration": 146,
    "start_time": "2024-02-17T21:28:30.359Z"
   },
   {
    "duration": 3,
    "start_time": "2024-02-17T21:29:37.760Z"
   },
   {
    "duration": 4,
    "start_time": "2024-02-17T21:29:46.716Z"
   },
   {
    "duration": 5,
    "start_time": "2024-02-17T21:29:52.597Z"
   },
   {
    "duration": 162,
    "start_time": "2024-02-17T21:30:18.623Z"
   },
   {
    "duration": 6,
    "start_time": "2024-02-17T21:31:12.715Z"
   },
   {
    "duration": 6,
    "start_time": "2024-02-17T21:31:32.851Z"
   },
   {
    "duration": 141,
    "start_time": "2024-02-17T21:32:01.474Z"
   },
   {
    "duration": 144,
    "start_time": "2024-02-17T21:32:10.078Z"
   },
   {
    "duration": 132,
    "start_time": "2024-02-17T21:32:13.392Z"
   },
   {
    "duration": 181,
    "start_time": "2024-02-17T21:32:19.985Z"
   },
   {
    "duration": 7,
    "start_time": "2024-02-17T21:32:36.071Z"
   },
   {
    "duration": 151,
    "start_time": "2024-02-17T21:32:38.173Z"
   },
   {
    "duration": 138,
    "start_time": "2024-02-17T21:32:56.540Z"
   },
   {
    "duration": 137,
    "start_time": "2024-02-17T21:33:06.705Z"
   },
   {
    "duration": 6,
    "start_time": "2024-02-17T21:33:31.933Z"
   },
   {
    "duration": 7,
    "start_time": "2024-02-17T21:33:47.947Z"
   },
   {
    "duration": 6,
    "start_time": "2024-02-17T21:34:11.244Z"
   },
   {
    "duration": 7,
    "start_time": "2024-02-17T21:34:20.135Z"
   },
   {
    "duration": 5,
    "start_time": "2024-02-17T21:34:41.445Z"
   },
   {
    "duration": 6,
    "start_time": "2024-02-17T21:34:46.709Z"
   },
   {
    "duration": 6,
    "start_time": "2024-02-17T21:34:55.058Z"
   },
   {
    "duration": 8,
    "start_time": "2024-02-17T21:35:10.287Z"
   },
   {
    "duration": 15,
    "start_time": "2024-02-17T21:36:03.390Z"
   },
   {
    "duration": 7,
    "start_time": "2024-02-17T21:36:15.146Z"
   },
   {
    "duration": 8,
    "start_time": "2024-02-17T21:37:28.160Z"
   },
   {
    "duration": 15,
    "start_time": "2024-02-17T21:37:35.122Z"
   },
   {
    "duration": 16,
    "start_time": "2024-02-17T21:38:10.849Z"
   },
   {
    "duration": 103,
    "start_time": "2024-02-17T21:40:13.270Z"
   },
   {
    "duration": 10,
    "start_time": "2024-02-17T21:40:18.305Z"
   },
   {
    "duration": 26,
    "start_time": "2024-02-17T21:40:52.113Z"
   },
   {
    "duration": 13,
    "start_time": "2024-02-17T21:41:00.655Z"
   },
   {
    "duration": 9,
    "start_time": "2024-02-17T21:41:28.138Z"
   },
   {
    "duration": 9,
    "start_time": "2024-02-17T21:41:53.554Z"
   },
   {
    "duration": 1210,
    "start_time": "2024-02-17T21:42:02.732Z"
   },
   {
    "duration": 37,
    "start_time": "2024-02-17T21:42:03.944Z"
   },
   {
    "duration": 162,
    "start_time": "2024-02-17T21:42:03.983Z"
   },
   {
    "duration": 5,
    "start_time": "2024-02-17T21:42:04.147Z"
   },
   {
    "duration": 18,
    "start_time": "2024-02-17T21:42:04.156Z"
   },
   {
    "duration": 173,
    "start_time": "2024-02-17T21:42:04.176Z"
   },
   {
    "duration": 37,
    "start_time": "2024-02-17T21:42:04.351Z"
   },
   {
    "duration": 13,
    "start_time": "2024-02-17T21:42:04.390Z"
   },
   {
    "duration": 23,
    "start_time": "2024-02-17T21:42:04.405Z"
   },
   {
    "duration": 30,
    "start_time": "2024-02-17T21:42:04.430Z"
   },
   {
    "duration": 13,
    "start_time": "2024-02-17T21:42:04.462Z"
   },
   {
    "duration": 25,
    "start_time": "2024-02-17T21:42:04.477Z"
   },
   {
    "duration": 8,
    "start_time": "2024-02-17T21:42:04.504Z"
   },
   {
    "duration": 20,
    "start_time": "2024-02-17T21:42:04.516Z"
   },
   {
    "duration": 12,
    "start_time": "2024-02-17T21:42:04.538Z"
   },
   {
    "duration": 17,
    "start_time": "2024-02-17T21:42:04.553Z"
   },
   {
    "duration": 25,
    "start_time": "2024-02-17T21:42:04.572Z"
   },
   {
    "duration": 35,
    "start_time": "2024-02-17T21:42:04.599Z"
   },
   {
    "duration": 18,
    "start_time": "2024-02-17T21:42:04.636Z"
   },
   {
    "duration": 14,
    "start_time": "2024-02-17T21:42:04.655Z"
   },
   {
    "duration": 25,
    "start_time": "2024-02-17T21:42:04.671Z"
   },
   {
    "duration": 15,
    "start_time": "2024-02-17T21:42:04.698Z"
   },
   {
    "duration": 156,
    "start_time": "2024-02-17T21:42:04.714Z"
   },
   {
    "duration": 6,
    "start_time": "2024-02-17T21:42:04.872Z"
   },
   {
    "duration": 105,
    "start_time": "2024-02-17T21:42:04.880Z"
   },
   {
    "duration": 6,
    "start_time": "2024-02-17T21:42:04.991Z"
   },
   {
    "duration": 157,
    "start_time": "2024-02-17T21:42:04.999Z"
   },
   {
    "duration": 7,
    "start_time": "2024-02-17T21:42:05.158Z"
   },
   {
    "duration": 25,
    "start_time": "2024-02-17T21:42:05.167Z"
   },
   {
    "duration": 16,
    "start_time": "2024-02-17T21:42:05.194Z"
   },
   {
    "duration": 8,
    "start_time": "2024-02-17T21:42:05.212Z"
   },
   {
    "duration": 120,
    "start_time": "2024-02-17T21:42:05.222Z"
   },
   {
    "duration": 0,
    "start_time": "2024-02-17T21:42:05.344Z"
   },
   {
    "duration": 130,
    "start_time": "2024-02-17T21:42:13.963Z"
   },
   {
    "duration": 128,
    "start_time": "2024-02-17T21:42:26.400Z"
   },
   {
    "duration": 9,
    "start_time": "2024-02-17T21:43:38.761Z"
   },
   {
    "duration": 130,
    "start_time": "2024-02-17T21:45:30.062Z"
   },
   {
    "duration": 10,
    "start_time": "2024-02-17T21:45:57.996Z"
   },
   {
    "duration": 11,
    "start_time": "2024-02-17T21:46:12.264Z"
   },
   {
    "duration": 1644,
    "start_time": "2024-02-17T21:47:21.509Z"
   },
   {
    "duration": 193,
    "start_time": "2024-02-17T21:47:30.915Z"
   },
   {
    "duration": 105,
    "start_time": "2024-02-17T21:47:42.644Z"
   },
   {
    "duration": 108,
    "start_time": "2024-02-17T21:47:52.474Z"
   },
   {
    "duration": 107,
    "start_time": "2024-02-17T21:48:37.067Z"
   },
   {
    "duration": 112,
    "start_time": "2024-02-17T21:48:42.934Z"
   },
   {
    "duration": 97,
    "start_time": "2024-02-17T21:49:28.743Z"
   },
   {
    "duration": 93,
    "start_time": "2024-02-17T21:49:38.164Z"
   },
   {
    "duration": 107,
    "start_time": "2024-02-17T21:49:48.338Z"
   },
   {
    "duration": 22,
    "start_time": "2024-02-17T21:52:13.208Z"
   },
   {
    "duration": 24,
    "start_time": "2024-02-17T21:52:30.232Z"
   },
   {
    "duration": 27,
    "start_time": "2024-02-17T21:53:04.232Z"
   },
   {
    "duration": 23,
    "start_time": "2024-02-17T21:53:12.128Z"
   },
   {
    "duration": 21,
    "start_time": "2024-02-17T21:53:20.808Z"
   },
   {
    "duration": 29,
    "start_time": "2024-02-17T21:58:30.998Z"
   },
   {
    "duration": 28,
    "start_time": "2024-02-17T22:02:42.506Z"
   },
   {
    "duration": 35,
    "start_time": "2024-02-17T22:02:50.138Z"
   },
   {
    "duration": 33,
    "start_time": "2024-02-17T22:03:59.362Z"
   },
   {
    "duration": 8,
    "start_time": "2024-02-17T22:06:35.835Z"
   },
   {
    "duration": 29,
    "start_time": "2024-02-17T22:06:37.931Z"
   },
   {
    "duration": 28,
    "start_time": "2024-02-17T22:06:47.431Z"
   },
   {
    "duration": 28,
    "start_time": "2024-02-17T22:06:49.429Z"
   },
   {
    "duration": 1264,
    "start_time": "2024-02-17T22:07:14.377Z"
   },
   {
    "duration": 37,
    "start_time": "2024-02-17T22:07:15.643Z"
   },
   {
    "duration": 159,
    "start_time": "2024-02-17T22:07:15.682Z"
   },
   {
    "duration": 4,
    "start_time": "2024-02-17T22:07:15.843Z"
   },
   {
    "duration": 17,
    "start_time": "2024-02-17T22:07:15.850Z"
   },
   {
    "duration": 165,
    "start_time": "2024-02-17T22:07:15.868Z"
   },
   {
    "duration": 36,
    "start_time": "2024-02-17T22:07:16.035Z"
   },
   {
    "duration": 10,
    "start_time": "2024-02-17T22:07:16.073Z"
   },
   {
    "duration": 7,
    "start_time": "2024-02-17T22:07:16.092Z"
   },
   {
    "duration": 12,
    "start_time": "2024-02-17T22:07:16.101Z"
   },
   {
    "duration": 12,
    "start_time": "2024-02-17T22:07:16.115Z"
   },
   {
    "duration": 23,
    "start_time": "2024-02-17T22:07:16.129Z"
   },
   {
    "duration": 7,
    "start_time": "2024-02-17T22:07:16.154Z"
   },
   {
    "duration": 35,
    "start_time": "2024-02-17T22:07:16.164Z"
   },
   {
    "duration": 11,
    "start_time": "2024-02-17T22:07:16.200Z"
   },
   {
    "duration": 7,
    "start_time": "2024-02-17T22:07:16.213Z"
   },
   {
    "duration": 12,
    "start_time": "2024-02-17T22:07:16.221Z"
   },
   {
    "duration": 14,
    "start_time": "2024-02-17T22:07:16.235Z"
   },
   {
    "duration": 8,
    "start_time": "2024-02-17T22:07:16.251Z"
   },
   {
    "duration": 5,
    "start_time": "2024-02-17T22:07:16.261Z"
   },
   {
    "duration": 29,
    "start_time": "2024-02-17T22:07:16.268Z"
   },
   {
    "duration": 15,
    "start_time": "2024-02-17T22:07:16.299Z"
   },
   {
    "duration": 154,
    "start_time": "2024-02-17T22:07:16.315Z"
   },
   {
    "duration": 5,
    "start_time": "2024-02-17T22:07:16.470Z"
   },
   {
    "duration": 119,
    "start_time": "2024-02-17T22:07:16.477Z"
   },
   {
    "duration": 6,
    "start_time": "2024-02-17T22:07:16.597Z"
   },
   {
    "duration": 163,
    "start_time": "2024-02-17T22:07:16.605Z"
   },
   {
    "duration": 6,
    "start_time": "2024-02-17T22:07:16.770Z"
   },
   {
    "duration": 28,
    "start_time": "2024-02-17T22:07:16.777Z"
   },
   {
    "duration": 31,
    "start_time": "2024-02-17T22:07:16.807Z"
   },
   {
    "duration": 13,
    "start_time": "2024-02-17T22:07:16.840Z"
   },
   {
    "duration": 138,
    "start_time": "2024-02-17T22:07:16.855Z"
   },
   {
    "duration": 11,
    "start_time": "2024-02-17T22:07:16.996Z"
   },
   {
    "duration": 149,
    "start_time": "2024-02-17T22:07:17.009Z"
   },
   {
    "duration": 39,
    "start_time": "2024-02-17T22:07:17.161Z"
   },
   {
    "duration": 137,
    "start_time": "2024-02-17T22:07:17.202Z"
   },
   {
    "duration": 0,
    "start_time": "2024-02-17T22:07:17.341Z"
   },
   {
    "duration": 0,
    "start_time": "2024-02-17T22:07:17.342Z"
   },
   {
    "duration": 0,
    "start_time": "2024-02-17T22:07:17.343Z"
   },
   {
    "duration": 29,
    "start_time": "2024-02-17T22:07:40.748Z"
   },
   {
    "duration": 18,
    "start_time": "2024-02-17T22:07:45.428Z"
   },
   {
    "duration": 10,
    "start_time": "2024-02-17T22:08:05.991Z"
   },
   {
    "duration": 937,
    "start_time": "2024-02-17T22:08:08.112Z"
   },
   {
    "duration": 765,
    "start_time": "2024-02-17T22:08:11.765Z"
   },
   {
    "duration": 1363,
    "start_time": "2024-02-17T22:08:32.109Z"
   },
   {
    "duration": 9,
    "start_time": "2024-02-17T22:08:34.518Z"
   },
   {
    "duration": 7,
    "start_time": "2024-02-17T22:09:06.450Z"
   },
   {
    "duration": 891,
    "start_time": "2024-02-17T22:09:09.110Z"
   },
   {
    "duration": 773,
    "start_time": "2024-02-17T22:10:05.142Z"
   },
   {
    "duration": 767,
    "start_time": "2024-02-17T22:10:06.885Z"
   },
   {
    "duration": 133,
    "start_time": "2024-02-17T22:10:39.512Z"
   },
   {
    "duration": 116,
    "start_time": "2024-02-17T22:10:42.839Z"
   },
   {
    "duration": 301,
    "start_time": "2024-02-17T22:11:11.370Z"
   },
   {
    "duration": 160,
    "start_time": "2024-02-17T22:11:16.455Z"
   },
   {
    "duration": 153,
    "start_time": "2024-02-17T22:11:48.554Z"
   },
   {
    "duration": 204,
    "start_time": "2024-02-17T22:11:56.006Z"
   },
   {
    "duration": 178,
    "start_time": "2024-02-17T22:12:03.539Z"
   },
   {
    "duration": 180,
    "start_time": "2024-02-17T22:12:28.287Z"
   },
   {
    "duration": 199,
    "start_time": "2024-02-17T22:12:31.200Z"
   },
   {
    "duration": 164,
    "start_time": "2024-02-17T22:12:43.578Z"
   },
   {
    "duration": 168,
    "start_time": "2024-02-17T22:12:51.421Z"
   },
   {
    "duration": 72,
    "start_time": "2024-02-18T13:22:39.361Z"
   },
   {
    "duration": 48,
    "start_time": "2024-02-18T13:22:50.951Z"
   },
   {
    "duration": 1410,
    "start_time": "2024-02-18T13:23:00.201Z"
   },
   {
    "duration": 85,
    "start_time": "2024-02-18T13:23:01.614Z"
   },
   {
    "duration": 166,
    "start_time": "2024-02-18T13:23:01.701Z"
   },
   {
    "duration": 5,
    "start_time": "2024-02-18T13:23:01.869Z"
   },
   {
    "duration": 30,
    "start_time": "2024-02-18T13:23:01.881Z"
   },
   {
    "duration": 157,
    "start_time": "2024-02-18T13:23:01.913Z"
   },
   {
    "duration": 72,
    "start_time": "2024-02-18T13:23:02.072Z"
   },
   {
    "duration": 10,
    "start_time": "2024-02-18T13:23:02.146Z"
   },
   {
    "duration": 23,
    "start_time": "2024-02-18T13:23:02.157Z"
   },
   {
    "duration": 39,
    "start_time": "2024-02-18T13:23:02.181Z"
   },
   {
    "duration": 43,
    "start_time": "2024-02-18T13:23:02.221Z"
   },
   {
    "duration": 166,
    "start_time": "2024-02-18T13:23:02.265Z"
   },
   {
    "duration": 7,
    "start_time": "2024-02-18T13:23:02.432Z"
   },
   {
    "duration": 13,
    "start_time": "2024-02-18T13:23:02.442Z"
   },
   {
    "duration": 11,
    "start_time": "2024-02-18T13:23:02.457Z"
   },
   {
    "duration": 18,
    "start_time": "2024-02-18T13:23:02.470Z"
   },
   {
    "duration": 7,
    "start_time": "2024-02-18T13:23:02.490Z"
   },
   {
    "duration": 6,
    "start_time": "2024-02-18T13:23:02.499Z"
   },
   {
    "duration": 23,
    "start_time": "2024-02-18T13:23:02.506Z"
   },
   {
    "duration": 4,
    "start_time": "2024-02-18T13:23:02.531Z"
   },
   {
    "duration": 13,
    "start_time": "2024-02-18T13:23:02.537Z"
   },
   {
    "duration": 5,
    "start_time": "2024-02-18T13:23:02.552Z"
   },
   {
    "duration": 150,
    "start_time": "2024-02-18T13:23:02.559Z"
   },
   {
    "duration": 4,
    "start_time": "2024-02-18T13:23:02.710Z"
   },
   {
    "duration": 100,
    "start_time": "2024-02-18T13:23:02.716Z"
   },
   {
    "duration": 6,
    "start_time": "2024-02-18T13:23:02.817Z"
   },
   {
    "duration": 158,
    "start_time": "2024-02-18T13:23:02.824Z"
   },
   {
    "duration": 5,
    "start_time": "2024-02-18T13:23:02.984Z"
   },
   {
    "duration": 14,
    "start_time": "2024-02-18T13:23:02.990Z"
   },
   {
    "duration": 15,
    "start_time": "2024-02-18T13:23:03.005Z"
   },
   {
    "duration": 8,
    "start_time": "2024-02-18T13:23:03.021Z"
   },
   {
    "duration": 136,
    "start_time": "2024-02-18T13:23:03.031Z"
   },
   {
    "duration": 20,
    "start_time": "2024-02-18T13:23:03.169Z"
   },
   {
    "duration": 115,
    "start_time": "2024-02-18T13:23:03.191Z"
   },
   {
    "duration": 29,
    "start_time": "2024-02-18T13:23:03.307Z"
   },
   {
    "duration": 9,
    "start_time": "2024-02-18T13:23:03.337Z"
   },
   {
    "duration": 90,
    "start_time": "2024-02-18T13:23:03.347Z"
   },
   {
    "duration": 178,
    "start_time": "2024-02-18T13:23:03.438Z"
   },
   {
    "duration": 168,
    "start_time": "2024-02-18T13:23:03.618Z"
   },
   {
    "duration": 189,
    "start_time": "2024-02-18T13:23:03.787Z"
   },
   {
    "duration": 164,
    "start_time": "2024-02-18T13:23:03.982Z"
   },
   {
    "duration": 109,
    "start_time": "2024-02-18T13:23:04.148Z"
   },
   {
    "duration": 26,
    "start_time": "2024-02-18T13:23:13.757Z"
   },
   {
    "duration": 76,
    "start_time": "2024-02-18T13:23:40.869Z"
   },
   {
    "duration": 78,
    "start_time": "2024-02-18T13:23:48.009Z"
   },
   {
    "duration": 1008,
    "start_time": "2024-02-18T13:24:24.329Z"
   },
   {
    "duration": 26,
    "start_time": "2024-02-18T13:25:12.509Z"
   },
   {
    "duration": 992,
    "start_time": "2024-02-18T13:26:31.384Z"
   },
   {
    "duration": 4,
    "start_time": "2024-02-18T13:27:44.657Z"
   },
   {
    "duration": 1347,
    "start_time": "2024-02-18T13:27:48.660Z"
   },
   {
    "duration": 1252,
    "start_time": "2024-02-18T13:28:27.169Z"
   },
   {
    "duration": 1263,
    "start_time": "2024-02-18T13:29:37.046Z"
   },
   {
    "duration": 37,
    "start_time": "2024-02-18T13:29:38.311Z"
   },
   {
    "duration": 152,
    "start_time": "2024-02-18T13:29:38.350Z"
   },
   {
    "duration": 5,
    "start_time": "2024-02-18T13:29:38.504Z"
   },
   {
    "duration": 11,
    "start_time": "2024-02-18T13:29:38.510Z"
   },
   {
    "duration": 172,
    "start_time": "2024-02-18T13:29:38.523Z"
   },
   {
    "duration": 35,
    "start_time": "2024-02-18T13:29:38.697Z"
   },
   {
    "duration": 10,
    "start_time": "2024-02-18T13:29:38.734Z"
   },
   {
    "duration": 5,
    "start_time": "2024-02-18T13:29:38.746Z"
   },
   {
    "duration": 27,
    "start_time": "2024-02-18T13:29:38.755Z"
   },
   {
    "duration": 9,
    "start_time": "2024-02-18T13:29:38.784Z"
   },
   {
    "duration": 32,
    "start_time": "2024-02-18T13:29:38.795Z"
   },
   {
    "duration": 7,
    "start_time": "2024-02-18T13:29:38.829Z"
   },
   {
    "duration": 18,
    "start_time": "2024-02-18T13:29:38.838Z"
   },
   {
    "duration": 37,
    "start_time": "2024-02-18T13:29:38.858Z"
   },
   {
    "duration": 7,
    "start_time": "2024-02-18T13:29:38.897Z"
   },
   {
    "duration": 19,
    "start_time": "2024-02-18T13:29:38.906Z"
   },
   {
    "duration": 16,
    "start_time": "2024-02-18T13:29:38.927Z"
   },
   {
    "duration": 5,
    "start_time": "2024-02-18T13:29:38.945Z"
   },
   {
    "duration": 4,
    "start_time": "2024-02-18T13:29:38.952Z"
   },
   {
    "duration": 25,
    "start_time": "2024-02-18T13:29:38.958Z"
   },
   {
    "duration": 5,
    "start_time": "2024-02-18T13:29:38.984Z"
   },
   {
    "duration": 161,
    "start_time": "2024-02-18T13:29:38.991Z"
   },
   {
    "duration": 4,
    "start_time": "2024-02-18T13:29:39.154Z"
   },
   {
    "duration": 103,
    "start_time": "2024-02-18T13:29:39.160Z"
   },
   {
    "duration": 18,
    "start_time": "2024-02-18T13:29:39.265Z"
   },
   {
    "duration": 150,
    "start_time": "2024-02-18T13:29:39.285Z"
   },
   {
    "duration": 6,
    "start_time": "2024-02-18T13:29:39.438Z"
   },
   {
    "duration": 7,
    "start_time": "2024-02-18T13:29:39.445Z"
   },
   {
    "duration": 30,
    "start_time": "2024-02-18T13:29:39.453Z"
   },
   {
    "duration": 7,
    "start_time": "2024-02-18T13:29:39.485Z"
   },
   {
    "duration": 129,
    "start_time": "2024-02-18T13:29:39.494Z"
   },
   {
    "duration": 9,
    "start_time": "2024-02-18T13:29:39.625Z"
   },
   {
    "duration": 122,
    "start_time": "2024-02-18T13:29:39.635Z"
   },
   {
    "duration": 47,
    "start_time": "2024-02-18T13:29:39.758Z"
   },
   {
    "duration": 12,
    "start_time": "2024-02-18T13:29:39.807Z"
   },
   {
    "duration": 8,
    "start_time": "2024-02-18T13:29:39.821Z"
   },
   {
    "duration": 217,
    "start_time": "2024-02-18T13:29:39.831Z"
   },
   {
    "duration": 256,
    "start_time": "2024-02-18T13:29:40.049Z"
   },
   {
    "duration": 192,
    "start_time": "2024-02-18T13:29:40.307Z"
   },
   {
    "duration": 187,
    "start_time": "2024-02-18T13:29:40.501Z"
   },
   {
    "duration": 1363,
    "start_time": "2024-02-18T13:29:40.690Z"
   },
   {
    "duration": 849,
    "start_time": "2024-02-18T13:33:16.028Z"
   },
   {
    "duration": 4,
    "start_time": "2024-02-18T13:36:47.142Z"
   },
   {
    "duration": 9,
    "start_time": "2024-02-18T13:37:06.098Z"
   },
   {
    "duration": 4,
    "start_time": "2024-02-18T13:37:12.528Z"
   },
   {
    "duration": 9,
    "start_time": "2024-02-18T13:37:38.413Z"
   },
   {
    "duration": 13,
    "start_time": "2024-02-18T13:37:43.770Z"
   },
   {
    "duration": 19,
    "start_time": "2024-02-18T13:38:33.062Z"
   },
   {
    "duration": 3,
    "start_time": "2024-02-18T13:47:46.028Z"
   },
   {
    "duration": 128,
    "start_time": "2024-02-18T13:47:48.287Z"
   },
   {
    "duration": 127,
    "start_time": "2024-02-18T13:48:09.968Z"
   },
   {
    "duration": 10,
    "start_time": "2024-02-18T13:49:25.090Z"
   },
   {
    "duration": 7,
    "start_time": "2024-02-18T14:04:02.398Z"
   },
   {
    "duration": 17,
    "start_time": "2024-02-18T14:05:03.259Z"
   },
   {
    "duration": 870,
    "start_time": "2024-02-18T14:05:18.248Z"
   },
   {
    "duration": 78,
    "start_time": "2024-02-18T14:06:59.148Z"
   },
   {
    "duration": 5,
    "start_time": "2024-02-18T14:14:23.602Z"
   },
   {
    "duration": 8,
    "start_time": "2024-02-18T14:21:43.552Z"
   },
   {
    "duration": 26,
    "start_time": "2024-02-18T14:23:28.669Z"
   },
   {
    "duration": 25,
    "start_time": "2024-02-18T14:23:48.531Z"
   },
   {
    "duration": 13,
    "start_time": "2024-02-18T14:24:26.443Z"
   },
   {
    "duration": 10,
    "start_time": "2024-02-18T14:25:37.140Z"
   },
   {
    "duration": 15,
    "start_time": "2024-02-18T14:26:40.354Z"
   },
   {
    "duration": 954,
    "start_time": "2024-02-18T14:27:55.326Z"
   },
   {
    "duration": 20,
    "start_time": "2024-02-18T14:28:13.269Z"
   },
   {
    "duration": 14,
    "start_time": "2024-02-18T14:29:30.214Z"
   },
   {
    "duration": 9,
    "start_time": "2024-02-18T14:29:38.404Z"
   },
   {
    "duration": 1180,
    "start_time": "2024-02-18T14:29:47.223Z"
   },
   {
    "duration": 37,
    "start_time": "2024-02-18T14:29:48.405Z"
   },
   {
    "duration": 146,
    "start_time": "2024-02-18T14:29:48.444Z"
   },
   {
    "duration": 5,
    "start_time": "2024-02-18T14:29:48.592Z"
   },
   {
    "duration": 5,
    "start_time": "2024-02-18T14:29:48.599Z"
   },
   {
    "duration": 162,
    "start_time": "2024-02-18T14:29:48.605Z"
   },
   {
    "duration": 36,
    "start_time": "2024-02-18T14:29:48.768Z"
   },
   {
    "duration": 9,
    "start_time": "2024-02-18T14:29:48.806Z"
   },
   {
    "duration": 4,
    "start_time": "2024-02-18T14:29:48.817Z"
   },
   {
    "duration": 8,
    "start_time": "2024-02-18T14:29:48.824Z"
   },
   {
    "duration": 7,
    "start_time": "2024-02-18T14:29:48.834Z"
   },
   {
    "duration": 40,
    "start_time": "2024-02-18T14:29:48.843Z"
   },
   {
    "duration": 7,
    "start_time": "2024-02-18T14:29:48.884Z"
   },
   {
    "duration": 17,
    "start_time": "2024-02-18T14:29:48.892Z"
   },
   {
    "duration": 10,
    "start_time": "2024-02-18T14:29:48.910Z"
   },
   {
    "duration": 10,
    "start_time": "2024-02-18T14:29:48.922Z"
   },
   {
    "duration": 9,
    "start_time": "2024-02-18T14:29:48.933Z"
   },
   {
    "duration": 12,
    "start_time": "2024-02-18T14:29:48.944Z"
   },
   {
    "duration": 26,
    "start_time": "2024-02-18T14:29:48.957Z"
   },
   {
    "duration": 12,
    "start_time": "2024-02-18T14:29:48.984Z"
   },
   {
    "duration": 8,
    "start_time": "2024-02-18T14:29:48.998Z"
   },
   {
    "duration": 5,
    "start_time": "2024-02-18T14:29:49.007Z"
   },
   {
    "duration": 154,
    "start_time": "2024-02-18T14:29:49.013Z"
   },
   {
    "duration": 4,
    "start_time": "2024-02-18T14:29:49.169Z"
   },
   {
    "duration": 102,
    "start_time": "2024-02-18T14:29:49.182Z"
   },
   {
    "duration": 5,
    "start_time": "2024-02-18T14:29:49.286Z"
   },
   {
    "duration": 154,
    "start_time": "2024-02-18T14:29:49.292Z"
   },
   {
    "duration": 5,
    "start_time": "2024-02-18T14:29:49.450Z"
   },
   {
    "duration": 5,
    "start_time": "2024-02-18T14:29:49.457Z"
   },
   {
    "duration": 31,
    "start_time": "2024-02-18T14:29:49.463Z"
   },
   {
    "duration": 36,
    "start_time": "2024-02-18T14:29:49.496Z"
   },
   {
    "duration": 109,
    "start_time": "2024-02-18T14:29:49.534Z"
   },
   {
    "duration": 8,
    "start_time": "2024-02-18T14:29:49.644Z"
   },
   {
    "duration": 120,
    "start_time": "2024-02-18T14:29:49.653Z"
   },
   {
    "duration": 32,
    "start_time": "2024-02-18T14:29:49.775Z"
   },
   {
    "duration": 8,
    "start_time": "2024-02-18T14:29:49.808Z"
   },
   {
    "duration": 5,
    "start_time": "2024-02-18T14:29:49.818Z"
   },
   {
    "duration": 202,
    "start_time": "2024-02-18T14:29:49.824Z"
   },
   {
    "duration": 238,
    "start_time": "2024-02-18T14:29:50.028Z"
   },
   {
    "duration": 175,
    "start_time": "2024-02-18T14:29:50.267Z"
   },
   {
    "duration": 171,
    "start_time": "2024-02-18T14:29:50.444Z"
   },
   {
    "duration": 834,
    "start_time": "2024-02-18T14:29:50.616Z"
   },
   {
    "duration": 3,
    "start_time": "2024-02-18T14:29:51.452Z"
   },
   {
    "duration": 27,
    "start_time": "2024-02-18T14:29:51.457Z"
   },
   {
    "duration": 37,
    "start_time": "2024-02-18T14:29:51.485Z"
   },
   {
    "duration": 28,
    "start_time": "2024-02-18T14:29:51.524Z"
   },
   {
    "duration": 21,
    "start_time": "2024-02-18T14:29:51.554Z"
   },
   {
    "duration": 138,
    "start_time": "2024-02-18T14:29:51.577Z"
   },
   {
    "duration": 12,
    "start_time": "2024-02-18T14:29:51.717Z"
   },
   {
    "duration": 14,
    "start_time": "2024-02-18T14:29:51.731Z"
   },
   {
    "duration": 888,
    "start_time": "2024-02-18T14:29:51.747Z"
   },
   {
    "duration": 5,
    "start_time": "2024-02-18T14:29:52.637Z"
   },
   {
    "duration": 26,
    "start_time": "2024-02-18T14:29:52.643Z"
   },
   {
    "duration": 9,
    "start_time": "2024-02-18T14:30:26.186Z"
   },
   {
    "duration": 1192,
    "start_time": "2024-02-18T14:31:13.223Z"
   },
   {
    "duration": 37,
    "start_time": "2024-02-18T14:31:14.417Z"
   },
   {
    "duration": 151,
    "start_time": "2024-02-18T14:31:14.456Z"
   },
   {
    "duration": 5,
    "start_time": "2024-02-18T14:31:14.608Z"
   },
   {
    "duration": 5,
    "start_time": "2024-02-18T14:31:14.615Z"
   },
   {
    "duration": 178,
    "start_time": "2024-02-18T14:31:14.622Z"
   },
   {
    "duration": 38,
    "start_time": "2024-02-18T14:31:14.801Z"
   },
   {
    "duration": 12,
    "start_time": "2024-02-18T14:31:14.841Z"
   },
   {
    "duration": 11,
    "start_time": "2024-02-18T14:31:14.855Z"
   },
   {
    "duration": 21,
    "start_time": "2024-02-18T14:31:14.869Z"
   },
   {
    "duration": 10,
    "start_time": "2024-02-18T14:31:14.892Z"
   },
   {
    "duration": 24,
    "start_time": "2024-02-18T14:31:14.904Z"
   },
   {
    "duration": 7,
    "start_time": "2024-02-18T14:31:14.930Z"
   },
   {
    "duration": 15,
    "start_time": "2024-02-18T14:31:14.941Z"
   },
   {
    "duration": 11,
    "start_time": "2024-02-18T14:31:14.982Z"
   },
   {
    "duration": 5,
    "start_time": "2024-02-18T14:31:14.995Z"
   },
   {
    "duration": 45,
    "start_time": "2024-02-18T14:31:15.002Z"
   },
   {
    "duration": 32,
    "start_time": "2024-02-18T14:31:15.049Z"
   },
   {
    "duration": 39,
    "start_time": "2024-02-18T14:31:15.083Z"
   },
   {
    "duration": 7,
    "start_time": "2024-02-18T14:31:15.124Z"
   },
   {
    "duration": 27,
    "start_time": "2024-02-18T14:31:15.133Z"
   },
   {
    "duration": 12,
    "start_time": "2024-02-18T14:31:15.162Z"
   },
   {
    "duration": 148,
    "start_time": "2024-02-18T14:31:15.176Z"
   },
   {
    "duration": 4,
    "start_time": "2024-02-18T14:31:15.326Z"
   },
   {
    "duration": 120,
    "start_time": "2024-02-18T14:31:15.332Z"
   },
   {
    "duration": 6,
    "start_time": "2024-02-18T14:31:15.454Z"
   },
   {
    "duration": 153,
    "start_time": "2024-02-18T14:31:15.462Z"
   },
   {
    "duration": 5,
    "start_time": "2024-02-18T14:31:15.617Z"
   },
   {
    "duration": 6,
    "start_time": "2024-02-18T14:31:15.624Z"
   },
   {
    "duration": 17,
    "start_time": "2024-02-18T14:31:15.632Z"
   },
   {
    "duration": 32,
    "start_time": "2024-02-18T14:31:15.651Z"
   },
   {
    "duration": 123,
    "start_time": "2024-02-18T14:31:15.685Z"
   },
   {
    "duration": 9,
    "start_time": "2024-02-18T14:31:15.809Z"
   },
   {
    "duration": 125,
    "start_time": "2024-02-18T14:31:15.819Z"
   },
   {
    "duration": 37,
    "start_time": "2024-02-18T14:31:15.946Z"
   },
   {
    "duration": 9,
    "start_time": "2024-02-18T14:31:15.985Z"
   },
   {
    "duration": 8,
    "start_time": "2024-02-18T14:31:15.995Z"
   },
   {
    "duration": 206,
    "start_time": "2024-02-18T14:31:16.005Z"
   },
   {
    "duration": 263,
    "start_time": "2024-02-18T14:31:16.213Z"
   },
   {
    "duration": 179,
    "start_time": "2024-02-18T14:31:16.478Z"
   },
   {
    "duration": 169,
    "start_time": "2024-02-18T14:31:16.660Z"
   },
   {
    "duration": 899,
    "start_time": "2024-02-18T14:31:16.830Z"
   },
   {
    "duration": 3,
    "start_time": "2024-02-18T14:31:17.731Z"
   },
   {
    "duration": 4,
    "start_time": "2024-02-18T14:31:17.736Z"
   },
   {
    "duration": 14,
    "start_time": "2024-02-18T14:31:17.741Z"
   },
   {
    "duration": 30,
    "start_time": "2024-02-18T14:31:17.756Z"
   },
   {
    "duration": 3,
    "start_time": "2024-02-18T14:31:17.788Z"
   },
   {
    "duration": 161,
    "start_time": "2024-02-18T14:31:17.793Z"
   },
   {
    "duration": 11,
    "start_time": "2024-02-18T14:31:17.956Z"
   },
   {
    "duration": 6,
    "start_time": "2024-02-18T14:31:17.981Z"
   },
   {
    "duration": 877,
    "start_time": "2024-02-18T14:31:17.988Z"
   },
   {
    "duration": 7,
    "start_time": "2024-02-18T14:31:18.866Z"
   },
   {
    "duration": 10,
    "start_time": "2024-02-18T14:31:18.882Z"
   },
   {
    "duration": 10,
    "start_time": "2024-02-18T14:31:19.792Z"
   },
   {
    "duration": 11,
    "start_time": "2024-02-18T14:32:26.741Z"
   },
   {
    "duration": 11,
    "start_time": "2024-02-18T14:32:37.666Z"
   },
   {
    "duration": 152,
    "start_time": "2024-02-18T14:34:31.494Z"
   },
   {
    "duration": 125,
    "start_time": "2024-02-18T14:34:48.571Z"
   },
   {
    "duration": 5,
    "start_time": "2024-02-18T14:35:16.612Z"
   },
   {
    "duration": 106,
    "start_time": "2024-02-18T14:35:25.673Z"
   },
   {
    "duration": 5,
    "start_time": "2024-02-18T14:35:30.079Z"
   },
   {
    "duration": 4,
    "start_time": "2024-02-18T14:35:38.054Z"
   },
   {
    "duration": 5,
    "start_time": "2024-02-18T14:35:43.018Z"
   },
   {
    "duration": 164,
    "start_time": "2024-02-18T14:36:05.293Z"
   },
   {
    "duration": 190,
    "start_time": "2024-02-18T14:36:13.653Z"
   },
   {
    "duration": 152,
    "start_time": "2024-02-18T14:36:20.043Z"
   },
   {
    "duration": 211,
    "start_time": "2024-02-18T14:36:24.543Z"
   },
   {
    "duration": 163,
    "start_time": "2024-02-18T14:36:32.393Z"
   },
   {
    "duration": 124,
    "start_time": "2024-02-18T14:36:40.298Z"
   },
   {
    "duration": 15,
    "start_time": "2024-02-18T14:37:30.734Z"
   },
   {
    "duration": 15,
    "start_time": "2024-02-18T14:37:56.366Z"
   },
   {
    "duration": 21,
    "start_time": "2024-02-18T14:38:14.086Z"
   },
   {
    "duration": 84,
    "start_time": "2024-02-18T14:54:42.897Z"
   },
   {
    "duration": 53,
    "start_time": "2024-02-19T11:30:08.576Z"
   },
   {
    "duration": 1397,
    "start_time": "2024-02-19T11:30:16.452Z"
   },
   {
    "duration": 97,
    "start_time": "2024-02-19T11:30:17.851Z"
   },
   {
    "duration": 170,
    "start_time": "2024-02-19T11:30:17.950Z"
   },
   {
    "duration": 5,
    "start_time": "2024-02-19T11:30:18.122Z"
   },
   {
    "duration": 25,
    "start_time": "2024-02-19T11:30:18.130Z"
   },
   {
    "duration": 153,
    "start_time": "2024-02-19T11:30:18.156Z"
   },
   {
    "duration": 165,
    "start_time": "2024-02-19T11:30:18.311Z"
   },
   {
    "duration": 10,
    "start_time": "2024-02-19T11:30:18.478Z"
   },
   {
    "duration": 22,
    "start_time": "2024-02-19T11:30:18.490Z"
   },
   {
    "duration": 36,
    "start_time": "2024-02-19T11:30:18.514Z"
   },
   {
    "duration": 23,
    "start_time": "2024-02-19T11:30:18.551Z"
   },
   {
    "duration": 81,
    "start_time": "2024-02-19T11:30:18.576Z"
   },
   {
    "duration": 7,
    "start_time": "2024-02-19T11:30:18.658Z"
   },
   {
    "duration": 30,
    "start_time": "2024-02-19T11:30:18.668Z"
   },
   {
    "duration": 20,
    "start_time": "2024-02-19T11:30:18.700Z"
   },
   {
    "duration": 8,
    "start_time": "2024-02-19T11:30:18.721Z"
   },
   {
    "duration": 24,
    "start_time": "2024-02-19T11:30:18.730Z"
   },
   {
    "duration": 12,
    "start_time": "2024-02-19T11:30:18.756Z"
   },
   {
    "duration": 18,
    "start_time": "2024-02-19T11:30:18.770Z"
   },
   {
    "duration": 8,
    "start_time": "2024-02-19T11:30:18.790Z"
   },
   {
    "duration": 26,
    "start_time": "2024-02-19T11:30:18.799Z"
   },
   {
    "duration": 8,
    "start_time": "2024-02-19T11:30:18.827Z"
   },
   {
    "duration": 157,
    "start_time": "2024-02-19T11:30:18.837Z"
   },
   {
    "duration": 5,
    "start_time": "2024-02-19T11:30:18.995Z"
   },
   {
    "duration": 114,
    "start_time": "2024-02-19T11:30:19.002Z"
   },
   {
    "duration": 6,
    "start_time": "2024-02-19T11:30:19.118Z"
   },
   {
    "duration": 191,
    "start_time": "2024-02-19T11:30:19.126Z"
   },
   {
    "duration": 7,
    "start_time": "2024-02-19T11:30:19.319Z"
   },
   {
    "duration": 28,
    "start_time": "2024-02-19T11:30:19.328Z"
   },
   {
    "duration": 38,
    "start_time": "2024-02-19T11:30:19.357Z"
   },
   {
    "duration": 21,
    "start_time": "2024-02-19T11:30:19.397Z"
   },
   {
    "duration": 146,
    "start_time": "2024-02-19T11:30:19.420Z"
   },
   {
    "duration": 9,
    "start_time": "2024-02-19T11:30:19.568Z"
   },
   {
    "duration": 124,
    "start_time": "2024-02-19T11:30:19.578Z"
   },
   {
    "duration": 30,
    "start_time": "2024-02-19T11:30:19.704Z"
   },
   {
    "duration": 12,
    "start_time": "2024-02-19T11:30:19.736Z"
   },
   {
    "duration": 24,
    "start_time": "2024-02-19T11:30:19.750Z"
   },
   {
    "duration": 220,
    "start_time": "2024-02-19T11:30:19.776Z"
   },
   {
    "duration": 268,
    "start_time": "2024-02-19T11:30:19.998Z"
   },
   {
    "duration": 208,
    "start_time": "2024-02-19T11:30:20.268Z"
   },
   {
    "duration": 187,
    "start_time": "2024-02-19T11:30:20.484Z"
   },
   {
    "duration": 945,
    "start_time": "2024-02-19T11:30:20.673Z"
   },
   {
    "duration": 4,
    "start_time": "2024-02-19T11:30:21.620Z"
   },
   {
    "duration": 17,
    "start_time": "2024-02-19T11:30:21.625Z"
   },
   {
    "duration": 24,
    "start_time": "2024-02-19T11:30:21.644Z"
   },
   {
    "duration": 16,
    "start_time": "2024-02-19T11:30:21.669Z"
   },
   {
    "duration": 21,
    "start_time": "2024-02-19T11:30:21.687Z"
   },
   {
    "duration": 167,
    "start_time": "2024-02-19T11:30:21.710Z"
   },
   {
    "duration": 11,
    "start_time": "2024-02-19T11:30:21.879Z"
   },
   {
    "duration": 35,
    "start_time": "2024-02-19T11:30:21.892Z"
   },
   {
    "duration": 913,
    "start_time": "2024-02-19T11:30:21.929Z"
   },
   {
    "duration": 7,
    "start_time": "2024-02-19T11:30:22.844Z"
   },
   {
    "duration": 36,
    "start_time": "2024-02-19T11:30:22.853Z"
   },
   {
    "duration": 151,
    "start_time": "2024-02-19T11:30:22.891Z"
   },
   {
    "duration": 148,
    "start_time": "2024-02-19T11:30:23.044Z"
   },
   {
    "duration": 12,
    "start_time": "2024-02-19T11:31:44.208Z"
   },
   {
    "duration": 11,
    "start_time": "2024-02-19T11:33:57.263Z"
   },
   {
    "duration": 9,
    "start_time": "2024-02-19T11:36:59.645Z"
   },
   {
    "duration": 9,
    "start_time": "2024-02-19T11:37:05.250Z"
   },
   {
    "duration": 12,
    "start_time": "2024-02-19T11:37:47.508Z"
   },
   {
    "duration": 9,
    "start_time": "2024-02-19T11:38:34.683Z"
   },
   {
    "duration": 107,
    "start_time": "2024-02-19T11:41:29.072Z"
   },
   {
    "duration": 6,
    "start_time": "2024-02-19T11:41:34.232Z"
   },
   {
    "duration": 154,
    "start_time": "2024-02-19T11:42:35.752Z"
   },
   {
    "duration": 145,
    "start_time": "2024-02-19T11:43:25.183Z"
   },
   {
    "duration": 144,
    "start_time": "2024-02-19T11:43:48.346Z"
   },
   {
    "duration": 239,
    "start_time": "2024-02-19T11:44:01.652Z"
   },
   {
    "duration": 148,
    "start_time": "2024-02-19T11:44:11.583Z"
   },
   {
    "duration": 177,
    "start_time": "2024-02-19T11:44:32.387Z"
   },
   {
    "duration": 148,
    "start_time": "2024-02-19T11:47:51.792Z"
   },
   {
    "duration": 10,
    "start_time": "2024-02-19T11:48:30.670Z"
   },
   {
    "duration": 150,
    "start_time": "2024-02-19T11:48:59.639Z"
   },
   {
    "duration": 173,
    "start_time": "2024-02-19T12:35:48.861Z"
   },
   {
    "duration": 186,
    "start_time": "2024-02-19T12:36:00.930Z"
   },
   {
    "duration": 159,
    "start_time": "2024-02-19T12:36:08.318Z"
   },
   {
    "duration": 172,
    "start_time": "2024-02-19T12:36:24.587Z"
   },
   {
    "duration": 177,
    "start_time": "2024-02-19T12:38:50.172Z"
   },
   {
    "duration": 193,
    "start_time": "2024-02-19T12:47:55.865Z"
   },
   {
    "duration": 171,
    "start_time": "2024-02-19T12:48:19.076Z"
   },
   {
    "duration": 5,
    "start_time": "2024-02-19T12:48:31.010Z"
   },
   {
    "duration": 250,
    "start_time": "2024-02-19T12:49:07.105Z"
   },
   {
    "duration": 16,
    "start_time": "2024-02-19T12:52:19.608Z"
   },
   {
    "duration": 16,
    "start_time": "2024-02-19T12:52:23.134Z"
   },
   {
    "duration": 19,
    "start_time": "2024-02-19T12:52:45.741Z"
   },
   {
    "duration": 18,
    "start_time": "2024-02-19T12:52:48.404Z"
   },
   {
    "duration": 156,
    "start_time": "2024-02-19T12:56:52.026Z"
   },
   {
    "duration": 164,
    "start_time": "2024-02-19T12:57:39.503Z"
   },
   {
    "duration": 124,
    "start_time": "2024-02-19T12:59:29.848Z"
   },
   {
    "duration": 116,
    "start_time": "2024-02-19T12:59:58.713Z"
   },
   {
    "duration": 206,
    "start_time": "2024-02-19T13:02:45.697Z"
   },
   {
    "duration": 212,
    "start_time": "2024-02-19T13:03:56.960Z"
   },
   {
    "duration": 213,
    "start_time": "2024-02-19T13:04:00.908Z"
   },
   {
    "duration": 227,
    "start_time": "2024-02-19T13:04:26.999Z"
   },
   {
    "duration": 203,
    "start_time": "2024-02-19T13:06:42.906Z"
   },
   {
    "duration": 211,
    "start_time": "2024-02-19T13:07:00.277Z"
   },
   {
    "duration": 336,
    "start_time": "2024-02-19T13:07:07.474Z"
   },
   {
    "duration": 170,
    "start_time": "2024-02-19T13:12:51.853Z"
   },
   {
    "duration": 172,
    "start_time": "2024-02-19T13:13:00.239Z"
   },
   {
    "duration": 164,
    "start_time": "2024-02-19T13:13:46.979Z"
   },
   {
    "duration": 205,
    "start_time": "2024-02-19T13:14:13.796Z"
   },
   {
    "duration": 227,
    "start_time": "2024-02-19T13:14:53.078Z"
   },
   {
    "duration": 212,
    "start_time": "2024-02-19T13:15:51.367Z"
   },
   {
    "duration": 212,
    "start_time": "2024-02-19T13:16:09.448Z"
   },
   {
    "duration": 199,
    "start_time": "2024-02-19T13:16:21.965Z"
   },
   {
    "duration": 200,
    "start_time": "2024-02-19T13:16:26.466Z"
   },
   {
    "duration": 203,
    "start_time": "2024-02-19T13:16:46.915Z"
   },
   {
    "duration": 225,
    "start_time": "2024-02-19T13:16:54.083Z"
   },
   {
    "duration": 334,
    "start_time": "2024-02-19T13:20:35.240Z"
   },
   {
    "duration": 226,
    "start_time": "2024-02-19T13:20:43.819Z"
   },
   {
    "duration": 216,
    "start_time": "2024-02-19T13:20:55.333Z"
   },
   {
    "duration": 206,
    "start_time": "2024-02-19T13:21:08.631Z"
   },
   {
    "duration": 210,
    "start_time": "2024-02-19T13:21:24.458Z"
   },
   {
    "duration": 9,
    "start_time": "2024-02-19T13:26:12.901Z"
   },
   {
    "duration": 10,
    "start_time": "2024-02-19T13:26:34.696Z"
   },
   {
    "duration": 9,
    "start_time": "2024-02-19T13:26:49.312Z"
   },
   {
    "duration": 10,
    "start_time": "2024-02-19T13:27:07.695Z"
   },
   {
    "duration": 9,
    "start_time": "2024-02-19T13:27:13.113Z"
   },
   {
    "duration": 17,
    "start_time": "2024-02-19T13:32:16.392Z"
   },
   {
    "duration": 9,
    "start_time": "2024-02-19T13:32:28.113Z"
   },
   {
    "duration": 5,
    "start_time": "2024-02-19T13:33:38.708Z"
   },
   {
    "duration": 7,
    "start_time": "2024-02-19T13:33:44.026Z"
   },
   {
    "duration": 6,
    "start_time": "2024-02-19T13:33:49.965Z"
   },
   {
    "duration": 29,
    "start_time": "2024-02-19T13:46:08.281Z"
   },
   {
    "duration": 7,
    "start_time": "2024-02-19T13:57:09.816Z"
   },
   {
    "duration": 5,
    "start_time": "2024-02-19T14:00:28.796Z"
   },
   {
    "duration": 5,
    "start_time": "2024-02-19T14:01:00.206Z"
   },
   {
    "duration": 11,
    "start_time": "2024-02-19T14:02:04.363Z"
   },
   {
    "duration": 14,
    "start_time": "2024-02-19T14:02:15.438Z"
   },
   {
    "duration": 14,
    "start_time": "2024-02-19T14:02:33.948Z"
   }
  ],
  "kernelspec": {
   "display_name": "Python 3 (ipykernel)",
   "language": "python",
   "name": "python3"
  },
  "language_info": {
   "codemirror_mode": {
    "name": "ipython",
    "version": 3
   },
   "file_extension": ".py",
   "mimetype": "text/x-python",
   "name": "python",
   "nbconvert_exporter": "python",
   "pygments_lexer": "ipython3",
   "version": "3.9.5"
  },
  "toc": {
   "base_numbering": 1,
   "nav_menu": {},
   "number_sections": true,
   "sideBar": true,
   "skip_h1_title": true,
   "title_cell": "Table of Contents",
   "title_sidebar": "Contents",
   "toc_cell": false,
   "toc_position": {},
   "toc_section_display": true,
   "toc_window_display": false
  }
 },
 "nbformat": 4,
 "nbformat_minor": 5
}
