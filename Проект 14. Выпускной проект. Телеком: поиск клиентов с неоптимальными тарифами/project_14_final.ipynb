{
 "cells": [
  {
   "cell_type": "markdown",
   "metadata": {},
   "source": [
    "# Выпускной проект: Телеком — Поиск клиента с неоптимальными тарифами"
   ]
  },
  {
   "cell_type": "markdown",
   "metadata": {},
   "source": [
    "<b>Задача</b>:\n",
    "Найти клиентов, которые:\n",
    "\n",
    "    а) переплачивают на текущих тарифах;\n",
    "    б) сэкономят, если перейдут на более дорогой тариф.\n",
    "\n",
    "Используйте правила формирования тарифов:\n",
    "\n",
    "Ежемесячная плата за тариф:\n",
    "\n",
    "    Тариф А — 4000 ₽,\n",
    "    Тариф B — 2000 ₽,\n",
    "    Тариф С — 1000 ₽.\n",
    "\n",
    "Дополнительная ежемесячная плата за\n",
    "каждого оператора:\n",
    "\n",
    "    Тариф А — 50 ₽,\n",
    "    Тариф B — 150 ₽,\n",
    "    Тариф С — 300 ₽.\n",
    "    \n",
    "Входящие и внутренние звонки — бесплатны на всех тарифах,\n",
    "Исходящие звонки внутри сети, включённые в тариф:\n",
    "\n",
    "    Тариф А — 2000минут,\n",
    "    Тариф B — 500 минут,\n",
    "    Тариф С — нет.\n",
    "    \n",
    "Цена сверх лимита:\n",
    "\n",
    "    A — 0.1 ₽/мин.,\n",
    "    B — 0.15 ₽/мин.,\n",
    "    C — 0.3 ₽/мин.\n",
    "Исходящие звонки,\n",
    "кроме внутренних:\n",
    "\n",
    "    A — 0.3 ₽/мин.,\n",
    "    B — 0.5 ₽/мин.,\n",
    "    C — 0.7 ₽/мин.\n",
    "\n",
    "<b>Описание данных</b>: Датасеты описывают использование услуг «Нупозвони» — провайдера\n",
    "виртуальной телефонии. Его клиенты — колл-центры, которые:\n",
    "распределяют входящие вызовы на операторов,\n",
    "совершают исходящие вызовы силами операторов.\n",
    "Также операторы могут делать внутренние вызовы — вызовы друг между другом\n",
    "внутри сети виртуальной телефонии.:\n",
    "\n",
    "<b>Датасет telecom_dataset.csv</b>:\n",
    "\n",
    "Колонки:\n",
    "\n",
    "    user_id — идентификатор клиента;\n",
    "    date — дата статистики;\n",
    "    direction — направление вызовов: out — исходящий вызов, in — входящий;\n",
    "    internal — маркер внутренних и внешних вызовов;\n",
    "    operator_id — идентификатор оператора;\n",
    "    is_missed_call — маркер пропущенных вызовов;\n",
    "    calls_count — количество звонков;\n",
    "    call_duration — длительность звонка без учёта времени ожидания;\n",
    "    total_call_duration — длительность звонка с учётом времени ожидания.\n",
    "\n",
    "<b>Датасет telecom_clients.csv</b>:\n",
    "\n",
    "Колонки:\n",
    "\n",
    "    user_id — идентификатор клиента;\n",
    "    tariff_plan — тарифный план клиента;\n",
    "    date_start — дата регистрации клиента в сервисе.\n",
    "    \n",
    "\n",
    "<b>План проекта:</b>\n",
    "\n",
    "    1) Обзор данных\n",
    "    2) Предобработка данных\n",
    "    3) Исследовательский анализ данных\n",
    "    4) Поиск клиентов с неоптимальными тарифами\n",
    "    5) Проверка статистических гипотез"
   ]
  },
  {
   "cell_type": "markdown",
   "metadata": {},
   "source": [
    "## Обзор данных"
   ]
  },
  {
   "cell_type": "code",
   "execution_count": 346,
   "metadata": {},
   "outputs": [],
   "source": [
    "import pandas as pd\n",
    "import numpy as np\n",
    "import datetime as dt\n",
    "import matplotlib.pyplot as plt\n",
    "from scipy import stats\n",
    "import plotly.express as px\n",
    "import seaborn as sns\n",
    "import plotly.graph_objects as go\n",
    "from scipy import stats as st\n",
    "from plotly.subplots import make_subplots"
   ]
  },
  {
   "cell_type": "code",
   "execution_count": 347,
   "metadata": {},
   "outputs": [],
   "source": [
    "telecom_db = pd.read_csv('/datasets/telecom_dataset.csv')\n",
    "telecom_clients = pd.read_csv('/datasets/telecom_clients.csv')"
   ]
  },
  {
   "cell_type": "code",
   "execution_count": 348,
   "metadata": {},
   "outputs": [
    {
     "data": {
      "text/html": [
       "<div>\n",
       "<style scoped>\n",
       "    .dataframe tbody tr th:only-of-type {\n",
       "        vertical-align: middle;\n",
       "    }\n",
       "\n",
       "    .dataframe tbody tr th {\n",
       "        vertical-align: top;\n",
       "    }\n",
       "\n",
       "    .dataframe thead th {\n",
       "        text-align: right;\n",
       "    }\n",
       "</style>\n",
       "<table border=\"1\" class=\"dataframe\">\n",
       "  <thead>\n",
       "    <tr style=\"text-align: right;\">\n",
       "      <th></th>\n",
       "      <th>user_id</th>\n",
       "      <th>date</th>\n",
       "      <th>direction</th>\n",
       "      <th>internal</th>\n",
       "      <th>operator_id</th>\n",
       "      <th>is_missed_call</th>\n",
       "      <th>calls_count</th>\n",
       "      <th>call_duration</th>\n",
       "      <th>total_call_duration</th>\n",
       "    </tr>\n",
       "  </thead>\n",
       "  <tbody>\n",
       "    <tr>\n",
       "      <th>0</th>\n",
       "      <td>166377</td>\n",
       "      <td>2019-08-04 00:00:00+03:00</td>\n",
       "      <td>in</td>\n",
       "      <td>False</td>\n",
       "      <td>NaN</td>\n",
       "      <td>True</td>\n",
       "      <td>2</td>\n",
       "      <td>0</td>\n",
       "      <td>4</td>\n",
       "    </tr>\n",
       "    <tr>\n",
       "      <th>1</th>\n",
       "      <td>166377</td>\n",
       "      <td>2019-08-05 00:00:00+03:00</td>\n",
       "      <td>out</td>\n",
       "      <td>True</td>\n",
       "      <td>880022.0</td>\n",
       "      <td>True</td>\n",
       "      <td>3</td>\n",
       "      <td>0</td>\n",
       "      <td>5</td>\n",
       "    </tr>\n",
       "    <tr>\n",
       "      <th>2</th>\n",
       "      <td>166377</td>\n",
       "      <td>2019-08-05 00:00:00+03:00</td>\n",
       "      <td>out</td>\n",
       "      <td>True</td>\n",
       "      <td>880020.0</td>\n",
       "      <td>True</td>\n",
       "      <td>1</td>\n",
       "      <td>0</td>\n",
       "      <td>1</td>\n",
       "    </tr>\n",
       "    <tr>\n",
       "      <th>3</th>\n",
       "      <td>166377</td>\n",
       "      <td>2019-08-05 00:00:00+03:00</td>\n",
       "      <td>out</td>\n",
       "      <td>True</td>\n",
       "      <td>880020.0</td>\n",
       "      <td>False</td>\n",
       "      <td>1</td>\n",
       "      <td>10</td>\n",
       "      <td>18</td>\n",
       "    </tr>\n",
       "    <tr>\n",
       "      <th>4</th>\n",
       "      <td>166377</td>\n",
       "      <td>2019-08-05 00:00:00+03:00</td>\n",
       "      <td>out</td>\n",
       "      <td>False</td>\n",
       "      <td>880022.0</td>\n",
       "      <td>True</td>\n",
       "      <td>3</td>\n",
       "      <td>0</td>\n",
       "      <td>25</td>\n",
       "    </tr>\n",
       "  </tbody>\n",
       "</table>\n",
       "</div>"
      ],
      "text/plain": [
       "   user_id                       date direction internal  operator_id  \\\n",
       "0   166377  2019-08-04 00:00:00+03:00        in    False          NaN   \n",
       "1   166377  2019-08-05 00:00:00+03:00       out     True     880022.0   \n",
       "2   166377  2019-08-05 00:00:00+03:00       out     True     880020.0   \n",
       "3   166377  2019-08-05 00:00:00+03:00       out     True     880020.0   \n",
       "4   166377  2019-08-05 00:00:00+03:00       out    False     880022.0   \n",
       "\n",
       "   is_missed_call  calls_count  call_duration  total_call_duration  \n",
       "0            True            2              0                    4  \n",
       "1            True            3              0                    5  \n",
       "2            True            1              0                    1  \n",
       "3           False            1             10                   18  \n",
       "4            True            3              0                   25  "
      ]
     },
     "execution_count": 348,
     "metadata": {},
     "output_type": "execute_result"
    }
   ],
   "source": [
    "telecom_db.head(5)"
   ]
  },
  {
   "cell_type": "code",
   "execution_count": 349,
   "metadata": {},
   "outputs": [
    {
     "name": "stdout",
     "output_type": "stream",
     "text": [
      "<class 'pandas.core.frame.DataFrame'>\n",
      "RangeIndex: 53902 entries, 0 to 53901\n",
      "Data columns (total 9 columns):\n",
      " #   Column               Non-Null Count  Dtype  \n",
      "---  ------               --------------  -----  \n",
      " 0   user_id              53902 non-null  int64  \n",
      " 1   date                 53902 non-null  object \n",
      " 2   direction            53902 non-null  object \n",
      " 3   internal             53785 non-null  object \n",
      " 4   operator_id          45730 non-null  float64\n",
      " 5   is_missed_call       53902 non-null  bool   \n",
      " 6   calls_count          53902 non-null  int64  \n",
      " 7   call_duration        53902 non-null  int64  \n",
      " 8   total_call_duration  53902 non-null  int64  \n",
      "dtypes: bool(1), float64(1), int64(4), object(3)\n",
      "memory usage: 3.3+ MB\n"
     ]
    }
   ],
   "source": [
    "telecom_db.info()"
   ]
  },
  {
   "cell_type": "code",
   "execution_count": 350,
   "metadata": {},
   "outputs": [
    {
     "data": {
      "text/html": [
       "<div>\n",
       "<style scoped>\n",
       "    .dataframe tbody tr th:only-of-type {\n",
       "        vertical-align: middle;\n",
       "    }\n",
       "\n",
       "    .dataframe tbody tr th {\n",
       "        vertical-align: top;\n",
       "    }\n",
       "\n",
       "    .dataframe thead th {\n",
       "        text-align: right;\n",
       "    }\n",
       "</style>\n",
       "<table border=\"1\" class=\"dataframe\">\n",
       "  <thead>\n",
       "    <tr style=\"text-align: right;\">\n",
       "      <th></th>\n",
       "      <th>user_id</th>\n",
       "      <th>operator_id</th>\n",
       "      <th>calls_count</th>\n",
       "      <th>call_duration</th>\n",
       "      <th>total_call_duration</th>\n",
       "    </tr>\n",
       "  </thead>\n",
       "  <tbody>\n",
       "    <tr>\n",
       "      <th>count</th>\n",
       "      <td>53902.000000</td>\n",
       "      <td>45730.000000</td>\n",
       "      <td>53902.000000</td>\n",
       "      <td>53902.000000</td>\n",
       "      <td>53902.000000</td>\n",
       "    </tr>\n",
       "    <tr>\n",
       "      <th>mean</th>\n",
       "      <td>167295.344477</td>\n",
       "      <td>916535.993002</td>\n",
       "      <td>16.451245</td>\n",
       "      <td>866.684427</td>\n",
       "      <td>1157.133297</td>\n",
       "    </tr>\n",
       "    <tr>\n",
       "      <th>std</th>\n",
       "      <td>598.883775</td>\n",
       "      <td>21254.123136</td>\n",
       "      <td>62.917170</td>\n",
       "      <td>3731.791202</td>\n",
       "      <td>4403.468763</td>\n",
       "    </tr>\n",
       "    <tr>\n",
       "      <th>min</th>\n",
       "      <td>166377.000000</td>\n",
       "      <td>879896.000000</td>\n",
       "      <td>1.000000</td>\n",
       "      <td>0.000000</td>\n",
       "      <td>0.000000</td>\n",
       "    </tr>\n",
       "    <tr>\n",
       "      <th>25%</th>\n",
       "      <td>166782.000000</td>\n",
       "      <td>900788.000000</td>\n",
       "      <td>1.000000</td>\n",
       "      <td>0.000000</td>\n",
       "      <td>47.000000</td>\n",
       "    </tr>\n",
       "    <tr>\n",
       "      <th>50%</th>\n",
       "      <td>167162.000000</td>\n",
       "      <td>913938.000000</td>\n",
       "      <td>4.000000</td>\n",
       "      <td>38.000000</td>\n",
       "      <td>210.000000</td>\n",
       "    </tr>\n",
       "    <tr>\n",
       "      <th>75%</th>\n",
       "      <td>167819.000000</td>\n",
       "      <td>937708.000000</td>\n",
       "      <td>12.000000</td>\n",
       "      <td>572.000000</td>\n",
       "      <td>902.000000</td>\n",
       "    </tr>\n",
       "    <tr>\n",
       "      <th>max</th>\n",
       "      <td>168606.000000</td>\n",
       "      <td>973286.000000</td>\n",
       "      <td>4817.000000</td>\n",
       "      <td>144395.000000</td>\n",
       "      <td>166155.000000</td>\n",
       "    </tr>\n",
       "  </tbody>\n",
       "</table>\n",
       "</div>"
      ],
      "text/plain": [
       "             user_id    operator_id   calls_count  call_duration  \\\n",
       "count   53902.000000   45730.000000  53902.000000   53902.000000   \n",
       "mean   167295.344477  916535.993002     16.451245     866.684427   \n",
       "std       598.883775   21254.123136     62.917170    3731.791202   \n",
       "min    166377.000000  879896.000000      1.000000       0.000000   \n",
       "25%    166782.000000  900788.000000      1.000000       0.000000   \n",
       "50%    167162.000000  913938.000000      4.000000      38.000000   \n",
       "75%    167819.000000  937708.000000     12.000000     572.000000   \n",
       "max    168606.000000  973286.000000   4817.000000  144395.000000   \n",
       "\n",
       "       total_call_duration  \n",
       "count         53902.000000  \n",
       "mean           1157.133297  \n",
       "std            4403.468763  \n",
       "min               0.000000  \n",
       "25%              47.000000  \n",
       "50%             210.000000  \n",
       "75%             902.000000  \n",
       "max          166155.000000  "
      ]
     },
     "execution_count": 350,
     "metadata": {},
     "output_type": "execute_result"
    }
   ],
   "source": [
    "telecom_db.describe()"
   ]
  },
  {
   "cell_type": "code",
   "execution_count": 351,
   "metadata": {},
   "outputs": [
    {
     "data": {
      "text/html": [
       "<div>\n",
       "<style scoped>\n",
       "    .dataframe tbody tr th:only-of-type {\n",
       "        vertical-align: middle;\n",
       "    }\n",
       "\n",
       "    .dataframe tbody tr th {\n",
       "        vertical-align: top;\n",
       "    }\n",
       "\n",
       "    .dataframe thead th {\n",
       "        text-align: right;\n",
       "    }\n",
       "</style>\n",
       "<table border=\"1\" class=\"dataframe\">\n",
       "  <thead>\n",
       "    <tr style=\"text-align: right;\">\n",
       "      <th></th>\n",
       "      <th>user_id</th>\n",
       "      <th>tariff_plan</th>\n",
       "      <th>date_start</th>\n",
       "    </tr>\n",
       "  </thead>\n",
       "  <tbody>\n",
       "    <tr>\n",
       "      <th>0</th>\n",
       "      <td>166713</td>\n",
       "      <td>A</td>\n",
       "      <td>2019-08-15</td>\n",
       "    </tr>\n",
       "    <tr>\n",
       "      <th>1</th>\n",
       "      <td>166901</td>\n",
       "      <td>A</td>\n",
       "      <td>2019-08-23</td>\n",
       "    </tr>\n",
       "    <tr>\n",
       "      <th>2</th>\n",
       "      <td>168527</td>\n",
       "      <td>A</td>\n",
       "      <td>2019-10-29</td>\n",
       "    </tr>\n",
       "    <tr>\n",
       "      <th>3</th>\n",
       "      <td>167097</td>\n",
       "      <td>A</td>\n",
       "      <td>2019-09-01</td>\n",
       "    </tr>\n",
       "    <tr>\n",
       "      <th>4</th>\n",
       "      <td>168193</td>\n",
       "      <td>A</td>\n",
       "      <td>2019-10-16</td>\n",
       "    </tr>\n",
       "  </tbody>\n",
       "</table>\n",
       "</div>"
      ],
      "text/plain": [
       "   user_id tariff_plan  date_start\n",
       "0   166713           A  2019-08-15\n",
       "1   166901           A  2019-08-23\n",
       "2   168527           A  2019-10-29\n",
       "3   167097           A  2019-09-01\n",
       "4   168193           A  2019-10-16"
      ]
     },
     "execution_count": 351,
     "metadata": {},
     "output_type": "execute_result"
    }
   ],
   "source": [
    "telecom_clients.head(5)"
   ]
  },
  {
   "cell_type": "code",
   "execution_count": 352,
   "metadata": {},
   "outputs": [
    {
     "name": "stdout",
     "output_type": "stream",
     "text": [
      "<class 'pandas.core.frame.DataFrame'>\n",
      "RangeIndex: 732 entries, 0 to 731\n",
      "Data columns (total 3 columns):\n",
      " #   Column       Non-Null Count  Dtype \n",
      "---  ------       --------------  ----- \n",
      " 0   user_id      732 non-null    int64 \n",
      " 1   tariff_plan  732 non-null    object\n",
      " 2   date_start   732 non-null    object\n",
      "dtypes: int64(1), object(2)\n",
      "memory usage: 17.3+ KB\n"
     ]
    }
   ],
   "source": [
    "telecom_clients.info()"
   ]
  },
  {
   "cell_type": "code",
   "execution_count": 353,
   "metadata": {},
   "outputs": [
    {
     "data": {
      "text/html": [
       "<div>\n",
       "<style scoped>\n",
       "    .dataframe tbody tr th:only-of-type {\n",
       "        vertical-align: middle;\n",
       "    }\n",
       "\n",
       "    .dataframe tbody tr th {\n",
       "        vertical-align: top;\n",
       "    }\n",
       "\n",
       "    .dataframe thead th {\n",
       "        text-align: right;\n",
       "    }\n",
       "</style>\n",
       "<table border=\"1\" class=\"dataframe\">\n",
       "  <thead>\n",
       "    <tr style=\"text-align: right;\">\n",
       "      <th></th>\n",
       "      <th>user_id</th>\n",
       "    </tr>\n",
       "  </thead>\n",
       "  <tbody>\n",
       "    <tr>\n",
       "      <th>count</th>\n",
       "      <td>732.000000</td>\n",
       "    </tr>\n",
       "    <tr>\n",
       "      <th>mean</th>\n",
       "      <td>167431.927596</td>\n",
       "    </tr>\n",
       "    <tr>\n",
       "      <th>std</th>\n",
       "      <td>633.810383</td>\n",
       "    </tr>\n",
       "    <tr>\n",
       "      <th>min</th>\n",
       "      <td>166373.000000</td>\n",
       "    </tr>\n",
       "    <tr>\n",
       "      <th>25%</th>\n",
       "      <td>166900.750000</td>\n",
       "    </tr>\n",
       "    <tr>\n",
       "      <th>50%</th>\n",
       "      <td>167432.000000</td>\n",
       "    </tr>\n",
       "    <tr>\n",
       "      <th>75%</th>\n",
       "      <td>167973.000000</td>\n",
       "    </tr>\n",
       "    <tr>\n",
       "      <th>max</th>\n",
       "      <td>168606.000000</td>\n",
       "    </tr>\n",
       "  </tbody>\n",
       "</table>\n",
       "</div>"
      ],
      "text/plain": [
       "             user_id\n",
       "count     732.000000\n",
       "mean   167431.927596\n",
       "std       633.810383\n",
       "min    166373.000000\n",
       "25%    166900.750000\n",
       "50%    167432.000000\n",
       "75%    167973.000000\n",
       "max    168606.000000"
      ]
     },
     "execution_count": 353,
     "metadata": {},
     "output_type": "execute_result"
    }
   ],
   "source": [
    "telecom_clients.describe()"
   ]
  },
  {
   "cell_type": "markdown",
   "metadata": {},
   "source": [
    "<b>Вывод по разделу:</b> Загрузили и рассмотрели данные. В исходном датасете 53902 строки в таблице, при этом 45730 операторов.\n",
    "\n",
    "Необходимо изменить:\n",
    "    \n",
    "    - столбец date привести к типу datetime, а после оставить только дату\n",
    "    - столбец internal привести к типу bool\n",
    "    - столбец operator_id привести к типу integer\n"
   ]
  },
  {
   "cell_type": "markdown",
   "metadata": {},
   "source": [
    "## Предобработка данных"
   ]
  },
  {
   "cell_type": "markdown",
   "metadata": {},
   "source": [
    "### Дубликаты и пропуски"
   ]
  },
  {
   "cell_type": "code",
   "execution_count": 354,
   "metadata": {},
   "outputs": [
    {
     "data": {
      "text/plain": [
       "4900"
      ]
     },
     "execution_count": 354,
     "metadata": {},
     "output_type": "execute_result"
    }
   ],
   "source": [
    "telecom_db.duplicated().sum()"
   ]
  },
  {
   "cell_type": "code",
   "execution_count": 355,
   "metadata": {},
   "outputs": [],
   "source": [
    "telecom_db = telecom_db.drop_duplicates()"
   ]
  },
  {
   "cell_type": "code",
   "execution_count": 356,
   "metadata": {},
   "outputs": [
    {
     "data": {
      "text/plain": [
       "array(['in', 'out'], dtype=object)"
      ]
     },
     "execution_count": 356,
     "metadata": {},
     "output_type": "execute_result"
    }
   ],
   "source": [
    "telecom_db['direction'].unique()"
   ]
  },
  {
   "cell_type": "code",
   "execution_count": 357,
   "metadata": {},
   "outputs": [
    {
     "data": {
      "text/plain": [
       "user_id                   0\n",
       "date                      0\n",
       "direction                 0\n",
       "internal                110\n",
       "operator_id            7456\n",
       "is_missed_call            0\n",
       "calls_count               0\n",
       "call_duration             0\n",
       "total_call_duration       0\n",
       "dtype: int64"
      ]
     },
     "execution_count": 357,
     "metadata": {},
     "output_type": "execute_result"
    }
   ],
   "source": [
    "telecom_db.isna().sum()"
   ]
  },
  {
   "cell_type": "code",
   "execution_count": 358,
   "metadata": {},
   "outputs": [
    {
     "data": {
      "text/plain": [
       "0"
      ]
     },
     "execution_count": 358,
     "metadata": {},
     "output_type": "execute_result"
    }
   ],
   "source": [
    "telecom_db['internal'].fillna(False, inplace=True)\n",
    "telecom_db['internal'].isna().sum() # проверяем, что пропусков больше нет"
   ]
  },
  {
   "cell_type": "code",
   "execution_count": 359,
   "metadata": {},
   "outputs": [
    {
     "data": {
      "text/plain": [
       "0"
      ]
     },
     "execution_count": 359,
     "metadata": {},
     "output_type": "execute_result"
    }
   ],
   "source": [
    "telecom_clients.duplicated().sum()"
   ]
  },
  {
   "cell_type": "code",
   "execution_count": 360,
   "metadata": {},
   "outputs": [
    {
     "data": {
      "text/plain": [
       "user_id        0\n",
       "tariff_plan    0\n",
       "date_start     0\n",
       "dtype: int64"
      ]
     },
     "execution_count": 360,
     "metadata": {},
     "output_type": "execute_result"
    }
   ],
   "source": [
    "telecom_clients.isna().sum()"
   ]
  },
  {
   "cell_type": "markdown",
   "metadata": {},
   "source": [
    "### Приведение столбцов к корректным типам данных"
   ]
  },
  {
   "cell_type": "code",
   "execution_count": 361,
   "metadata": {},
   "outputs": [],
   "source": [
    "telecom_db['date'] = pd.to_datetime(telecom_db['date']).dt.date\n",
    "telecom_db = telecom_db.astype({'internal':'bool', 'operator_id': 'Int64'})"
   ]
  },
  {
   "cell_type": "code",
   "execution_count": 362,
   "metadata": {},
   "outputs": [
    {
     "name": "stdout",
     "output_type": "stream",
     "text": [
      "<class 'pandas.core.frame.DataFrame'>\n",
      "Int64Index: 49002 entries, 0 to 53901\n",
      "Data columns (total 9 columns):\n",
      " #   Column               Non-Null Count  Dtype \n",
      "---  ------               --------------  ----- \n",
      " 0   user_id              49002 non-null  int64 \n",
      " 1   date                 49002 non-null  object\n",
      " 2   direction            49002 non-null  object\n",
      " 3   internal             49002 non-null  bool  \n",
      " 4   operator_id          41546 non-null  Int64 \n",
      " 5   is_missed_call       49002 non-null  bool  \n",
      " 6   calls_count          49002 non-null  int64 \n",
      " 7   call_duration        49002 non-null  int64 \n",
      " 8   total_call_duration  49002 non-null  int64 \n",
      "dtypes: Int64(1), bool(2), int64(4), object(2)\n",
      "memory usage: 3.1+ MB\n"
     ]
    }
   ],
   "source": [
    "telecom_db.info()"
   ]
  },
  {
   "cell_type": "code",
   "execution_count": 363,
   "metadata": {},
   "outputs": [
    {
     "data": {
      "text/html": [
       "<div>\n",
       "<style scoped>\n",
       "    .dataframe tbody tr th:only-of-type {\n",
       "        vertical-align: middle;\n",
       "    }\n",
       "\n",
       "    .dataframe tbody tr th {\n",
       "        vertical-align: top;\n",
       "    }\n",
       "\n",
       "    .dataframe thead th {\n",
       "        text-align: right;\n",
       "    }\n",
       "</style>\n",
       "<table border=\"1\" class=\"dataframe\">\n",
       "  <thead>\n",
       "    <tr style=\"text-align: right;\">\n",
       "      <th></th>\n",
       "      <th>user_id</th>\n",
       "      <th>date</th>\n",
       "      <th>direction</th>\n",
       "      <th>internal</th>\n",
       "      <th>operator_id</th>\n",
       "      <th>is_missed_call</th>\n",
       "      <th>calls_count</th>\n",
       "      <th>call_duration</th>\n",
       "      <th>total_call_duration</th>\n",
       "    </tr>\n",
       "  </thead>\n",
       "  <tbody>\n",
       "    <tr>\n",
       "      <th>0</th>\n",
       "      <td>166377</td>\n",
       "      <td>2019-08-04</td>\n",
       "      <td>in</td>\n",
       "      <td>False</td>\n",
       "      <td>&lt;NA&gt;</td>\n",
       "      <td>True</td>\n",
       "      <td>2</td>\n",
       "      <td>0</td>\n",
       "      <td>4</td>\n",
       "    </tr>\n",
       "    <tr>\n",
       "      <th>1</th>\n",
       "      <td>166377</td>\n",
       "      <td>2019-08-05</td>\n",
       "      <td>out</td>\n",
       "      <td>True</td>\n",
       "      <td>880022</td>\n",
       "      <td>True</td>\n",
       "      <td>3</td>\n",
       "      <td>0</td>\n",
       "      <td>5</td>\n",
       "    </tr>\n",
       "    <tr>\n",
       "      <th>2</th>\n",
       "      <td>166377</td>\n",
       "      <td>2019-08-05</td>\n",
       "      <td>out</td>\n",
       "      <td>True</td>\n",
       "      <td>880020</td>\n",
       "      <td>True</td>\n",
       "      <td>1</td>\n",
       "      <td>0</td>\n",
       "      <td>1</td>\n",
       "    </tr>\n",
       "    <tr>\n",
       "      <th>3</th>\n",
       "      <td>166377</td>\n",
       "      <td>2019-08-05</td>\n",
       "      <td>out</td>\n",
       "      <td>True</td>\n",
       "      <td>880020</td>\n",
       "      <td>False</td>\n",
       "      <td>1</td>\n",
       "      <td>10</td>\n",
       "      <td>18</td>\n",
       "    </tr>\n",
       "    <tr>\n",
       "      <th>4</th>\n",
       "      <td>166377</td>\n",
       "      <td>2019-08-05</td>\n",
       "      <td>out</td>\n",
       "      <td>False</td>\n",
       "      <td>880022</td>\n",
       "      <td>True</td>\n",
       "      <td>3</td>\n",
       "      <td>0</td>\n",
       "      <td>25</td>\n",
       "    </tr>\n",
       "    <tr>\n",
       "      <th>...</th>\n",
       "      <td>...</td>\n",
       "      <td>...</td>\n",
       "      <td>...</td>\n",
       "      <td>...</td>\n",
       "      <td>...</td>\n",
       "      <td>...</td>\n",
       "      <td>...</td>\n",
       "      <td>...</td>\n",
       "      <td>...</td>\n",
       "    </tr>\n",
       "    <tr>\n",
       "      <th>53896</th>\n",
       "      <td>168606</td>\n",
       "      <td>2019-11-10</td>\n",
       "      <td>out</td>\n",
       "      <td>True</td>\n",
       "      <td>957922</td>\n",
       "      <td>False</td>\n",
       "      <td>1</td>\n",
       "      <td>0</td>\n",
       "      <td>25</td>\n",
       "    </tr>\n",
       "    <tr>\n",
       "      <th>53897</th>\n",
       "      <td>168606</td>\n",
       "      <td>2019-11-10</td>\n",
       "      <td>out</td>\n",
       "      <td>True</td>\n",
       "      <td>957922</td>\n",
       "      <td>True</td>\n",
       "      <td>1</td>\n",
       "      <td>0</td>\n",
       "      <td>38</td>\n",
       "    </tr>\n",
       "    <tr>\n",
       "      <th>53898</th>\n",
       "      <td>168606</td>\n",
       "      <td>2019-11-11</td>\n",
       "      <td>out</td>\n",
       "      <td>True</td>\n",
       "      <td>957922</td>\n",
       "      <td>False</td>\n",
       "      <td>2</td>\n",
       "      <td>479</td>\n",
       "      <td>501</td>\n",
       "    </tr>\n",
       "    <tr>\n",
       "      <th>53899</th>\n",
       "      <td>168606</td>\n",
       "      <td>2019-11-15</td>\n",
       "      <td>out</td>\n",
       "      <td>True</td>\n",
       "      <td>957922</td>\n",
       "      <td>False</td>\n",
       "      <td>4</td>\n",
       "      <td>3130</td>\n",
       "      <td>3190</td>\n",
       "    </tr>\n",
       "    <tr>\n",
       "      <th>53901</th>\n",
       "      <td>168606</td>\n",
       "      <td>2019-11-19</td>\n",
       "      <td>in</td>\n",
       "      <td>False</td>\n",
       "      <td>&lt;NA&gt;</td>\n",
       "      <td>True</td>\n",
       "      <td>2</td>\n",
       "      <td>0</td>\n",
       "      <td>64</td>\n",
       "    </tr>\n",
       "  </tbody>\n",
       "</table>\n",
       "<p>49002 rows × 9 columns</p>\n",
       "</div>"
      ],
      "text/plain": [
       "       user_id        date direction  internal  operator_id  is_missed_call  \\\n",
       "0       166377  2019-08-04        in     False         <NA>            True   \n",
       "1       166377  2019-08-05       out      True       880022            True   \n",
       "2       166377  2019-08-05       out      True       880020            True   \n",
       "3       166377  2019-08-05       out      True       880020           False   \n",
       "4       166377  2019-08-05       out     False       880022            True   \n",
       "...        ...         ...       ...       ...          ...             ...   \n",
       "53896   168606  2019-11-10       out      True       957922           False   \n",
       "53897   168606  2019-11-10       out      True       957922            True   \n",
       "53898   168606  2019-11-11       out      True       957922           False   \n",
       "53899   168606  2019-11-15       out      True       957922           False   \n",
       "53901   168606  2019-11-19        in     False         <NA>            True   \n",
       "\n",
       "       calls_count  call_duration  total_call_duration  \n",
       "0                2              0                    4  \n",
       "1                3              0                    5  \n",
       "2                1              0                    1  \n",
       "3                1             10                   18  \n",
       "4                3              0                   25  \n",
       "...            ...            ...                  ...  \n",
       "53896            1              0                   25  \n",
       "53897            1              0                   38  \n",
       "53898            2            479                  501  \n",
       "53899            4           3130                 3190  \n",
       "53901            2              0                   64  \n",
       "\n",
       "[49002 rows x 9 columns]"
      ]
     },
     "execution_count": 363,
     "metadata": {},
     "output_type": "execute_result"
    }
   ],
   "source": [
    "telecom_db"
   ]
  },
  {
   "cell_type": "markdown",
   "metadata": {},
   "source": [
    "<b> Вывод по разделу:</b>\n",
    "    \n",
    "    - Пропуски есть в столбцах: internal, operator_id.\n",
    "      Так как пропусков в столбце internal относительно мало, их можно заменить значением False - маркером внешнего звонка.\n",
    "      Удаление строк с пропусками в operator_id не представляется возможным, а удаление приведет к потере больших\n",
    "      объемов информации. Оставим пропуски в operator_id как есть.\n",
    "    - Явные дубликаты удалили, неявных дубликатов не обнаружено\n",
    "    - Преобразовали данные в столбцах date, internal, operator_id к корректным типам данных"
   ]
  },
  {
   "cell_type": "markdown",
   "metadata": {},
   "source": [
    "## Исследовательский анализ данных"
   ]
  },
  {
   "cell_type": "markdown",
   "metadata": {},
   "source": [
    "### Определим активный период"
   ]
  },
  {
   "cell_type": "code",
   "execution_count": 364,
   "metadata": {},
   "outputs": [
    {
     "name": "stdout",
     "output_type": "stream",
     "text": [
      "Дата первой записи: 2019-08-02\n",
      "Дата последней записи: 2019-11-28\n"
     ]
    }
   ],
   "source": [
    "print(f'Дата первой записи: {telecom_db[\"date\"].min()}')\n",
    "print(f'Дата последней записи: {telecom_db[\"date\"].max()}')"
   ]
  },
  {
   "cell_type": "markdown",
   "metadata": {},
   "source": [
    "У нас есть данные с августа по ноябрь. Данные за ноябрь неполные, однако они позволят найти активных пользователей"
   ]
  },
  {
   "cell_type": "code",
   "execution_count": 365,
   "metadata": {},
   "outputs": [
    {
     "data": {
      "image/png": "[encoded data removed]",
      "text/plain": [
       "<Figure size 720x432 with 1 Axes>"
      ]
     },
     "metadata": {
      "needs_background": "light"
     },
     "output_type": "display_data"
    }
   ],
   "source": [
    "# Группировка данных по месяцам\n",
    "telecom_db['month'] = pd.to_datetime(telecom_db['date']).dt.month\n",
    "\n",
    "monthly_records = telecom_db.groupby('month').size().reset_index(name='records')\n",
    "\n",
    "monthly_records['month'] = pd.to_datetime(monthly_records['month'], format='%m').dt.strftime('%b')\n",
    "\n",
    "# Создание обычного столбчатого графика с использованием matplotlib\n",
    "plt.figure(figsize=(10, 6))\n",
    "plt.bar(monthly_records['month'], monthly_records['records'], color='skyblue')\n",
    "plt.title('Количество записей по месяцам')\n",
    "plt.xlabel('Месяц')\n",
    "plt.ylabel('Количество записей')\n",
    "plt.xticks(rotation=45)\n",
    "plt.tight_layout()\n",
    "plt.show()"
   ]
  },
  {
   "cell_type": "markdown",
   "metadata": {},
   "source": [
    "Как видим, в августе всего 1860 записей, что составляет менее 4% от общего числа, отбросим их"
   ]
  },
  {
   "cell_type": "code",
   "execution_count": 366,
   "metadata": {},
   "outputs": [],
   "source": [
    "telecom_db = telecom_db[telecom_db['month'] != 8]"
   ]
  },
  {
   "cell_type": "markdown",
   "metadata": {},
   "source": [
    "Активным периодом будем считать с сентября по ноябрь"
   ]
  },
  {
   "cell_type": "markdown",
   "metadata": {},
   "source": [
    "### Подсчет количества пользователей для каждого тарифа"
   ]
  },
  {
   "cell_type": "code",
   "execution_count": 367,
   "metadata": {},
   "outputs": [
    {
     "data": {
      "image/png": "[encoded data removed]",
      "text/plain": [
       "<Figure size 576x576 with 1 Axes>"
      ]
     },
     "metadata": {},
     "output_type": "display_data"
    }
   ],
   "source": [
    "# Подсчет количества пользователей для каждого тарифа\n",
    "tariff_counts = telecom_clients['tariff_plan'].value_counts()\n",
    "\n",
    "# Построение круговой диаграммы\n",
    "plt.figure(figsize=(8, 8))\n",
    "plt.pie(tariff_counts, labels=tariff_counts.index, autopct='%1.1f%%', startangle=140)\n",
    "plt.title('Распределение пользователей по тарифам')\n",
    "plt.axis('equal')\n",
    "plt.show()"
   ]
  },
  {
   "cell_type": "markdown",
   "metadata": {},
   "source": [
    "Большинство пользователей используют тариф C(54%), на втором месте тариф В(35.7%), наименее популярный тариф А(10.4%)"
   ]
  },
  {
   "cell_type": "markdown",
   "metadata": {},
   "source": [
    "### Распределение длительности звонков у клиентов"
   ]
  },
  {
   "cell_type": "code",
   "execution_count": 368,
   "metadata": {},
   "outputs": [
    {
     "data": {
      "application/vnd.plotly.v1+json": {
       "config": {
        "plotlyServerURL": "https://plot.ly"
       },
       "data": [
        {
         "name": "value",
         "type": "box",
         "y": [
          6186,
          4595,
          5853,
          5187,
          4340,
          4346,
          5751,
          4807,
          4361,
          5286,
          6349,
          4724,
          3364,
          6091,
          5996,
          6163,
          5546,
          5295,
          6937,
          3760,
          907,
          2365,
          4219,
          3921,
          5881,
          3342,
          5116,
          2429,
          4300,
          4421,
          3966,
          2915,
          5561,
          5463,
          5394,
          5096,
          3712,
          4591,
          5087,
          4523,
          2422,
          5363,
          4522,
          4603,
          6642,
          5432,
          6143,
          6493,
          4263,
          4622,
          5724,
          3024,
          5113,
          4745,
          4684,
          6240,
          4884,
          4721,
          6189,
          2953,
          5591,
          4549,
          3499,
          3318,
          4688,
          3584,
          4467,
          10580,
          12525,
          3533,
          456,
          5363,
          6927,
          2776,
          2146,
          2795,
          2080,
          2633,
          9966,
          5617,
          3473,
          7896,
          2836,
          451,
          804,
          3267,
          5340,
          4740,
          4067,
          2702,
          76,
          1637,
          8008,
          4991,
          118,
          85,
          2130,
          11234,
          10039,
          13639,
          14184,
          18199,
          14243,
          21001,
          23795,
          21832,
          24685,
          18811,
          28294,
          20027,
          26427,
          21357,
          4532,
          15726,
          16333,
          27356,
          11568,
          6744,
          6128,
          6002,
          2442,
          2635,
          7913,
          1910,
          5669,
          14535,
          17187,
          22577,
          27778,
          6873,
          42590,
          29367,
          32283,
          28701,
          32771,
          17105,
          1355,
          17470,
          22824,
          26655,
          27427,
          3,
          7372,
          10878,
          3164,
          4301,
          10106,
          3,
          12066,
          7564,
          6094,
          5844,
          3013,
          6,
          4320,
          190,
          6912,
          4146,
          1920,
          3183,
          4105,
          1581,
          4669,
          4886,
          5191,
          7360,
          7858,
          5538,
          4819,
          6,
          4771,
          5335,
          5323,
          4904,
          6814,
          5197,
          3349,
          7209,
          6688,
          903,
          844,
          6500,
          3011,
          4915,
          3294,
          2713,
          4546,
          4219,
          4520,
          1525,
          1184,
          5969,
          3344,
          3809,
          1779,
          1601,
          958,
          2307,
          94,
          3994,
          4970,
          2301,
          2635,
          7879,
          1876,
          2594,
          22,
          22,
          574,
          122,
          88,
          174,
          54,
          1143,
          11,
          49,
          1713,
          705,
          391,
          839,
          858,
          933,
          79,
          346,
          472,
          1695,
          870,
          1109,
          968,
          516,
          324,
          1975,
          794,
          1700,
          455,
          359,
          1027,
          2720,
          818,
          574,
          611,
          4176,
          571,
          387,
          428,
          225,
          1184,
          229,
          896,
          549,
          1288,
          233,
          1474,
          727,
          223,
          125,
          468,
          667,
          588,
          741,
          1309,
          1815,
          1425,
          354,
          2916,
          3673,
          5019,
          6528,
          6682,
          7160,
          5992,
          3561,
          6911,
          9042,
          7859,
          13743,
          4139,
          6777,
          8655,
          9783,
          6961,
          7411,
          9890,
          7518,
          7272,
          6667,
          3515,
          3845,
          9049,
          7283,
          7999,
          6498,
          7594,
          8050,
          4058,
          4119,
          2315,
          3927,
          6664,
          4625,
          4547,
          1628,
          4707,
          4188,
          6147,
          4124,
          3628,
          7442,
          13248,
          12165,
          5694,
          8115,
          14803,
          13397,
          14505,
          12978,
          15309,
          13900,
          13207,
          13963,
          11355,
          9695,
          14095,
          13577,
          5657,
          627,
          139,
          368,
          816,
          496,
          494,
          493,
          1826,
          418,
          505,
          1267,
          4625,
          1689,
          1802,
          3263,
          3314,
          2554,
          3279,
          4372,
          2829,
          2338,
          2564,
          2437,
          3644,
          3747,
          2306,
          2217,
          3088,
          985,
          2784,
          0,
          1501,
          2397,
          2979,
          3190,
          3778,
          507,
          1905,
          1587,
          906,
          319,
          1221,
          3,
          466,
          2174,
          3024,
          1764,
          3298,
          4742,
          1732,
          3173,
          3894,
          4207,
          113,
          2687,
          1944,
          1682,
          4497,
          5629,
          4793,
          1753,
          383,
          24,
          293,
          2533,
          630,
          447,
          158,
          1318,
          115,
          950,
          161,
          170,
          376,
          54,
          137,
          1313,
          273,
          955,
          69,
          1061,
          926,
          1152,
          159,
          1187,
          390,
          16,
          218,
          398,
          3583,
          124,
          872,
          334,
          170,
          77,
          426,
          948,
          1744,
          230,
          233,
          434,
          484,
          268,
          314,
          354,
          145,
          6,
          63,
          1376,
          3997,
          3117,
          4188,
          6840,
          9745,
          7135,
          5043,
          7302,
          6533,
          9710,
          7849,
          6041,
          3927,
          6664,
          4665,
          15028,
          8978,
          10209,
          7299,
          11,
          9123,
          8868,
          9433,
          10248,
          5405,
          388,
          8774,
          9889,
          4059,
          12683,
          11751,
          58,
          10879,
          8433,
          5232,
          7734,
          5136,
          9139,
          14731,
          5690,
          8974,
          8795,
          9953,
          7598,
          8614,
          10952,
          7197,
          0,
          43,
          8630,
          13323,
          7800,
          8516,
          505,
          60,
          5313,
          8490,
          6570,
          9887,
          7709,
          7305,
          9461,
          14073,
          10127,
          4240,
          8490,
          7789,
          11698,
          6578,
          787,
          1423,
          827,
          263,
          545,
          7764,
          13847,
          1920,
          802,
          4854,
          3525,
          638,
          12126,
          108,
          490,
          2516,
          18741,
          5590,
          9281,
          2180,
          16376,
          4227,
          12903,
          5377,
          79,
          2669,
          366,
          7548,
          10621,
          13709,
          10477,
          6230,
          2152,
          9638,
          8604,
          8316,
          10060,
          309,
          3592,
          460,
          3916,
          5518,
          4760,
          3762,
          3929,
          6320,
          1338,
          3367,
          5468,
          7582,
          1734,
          1038,
          39,
          3126,
          3222,
          13098,
          9046,
          5563,
          5437,
          4179,
          4451,
          4577,
          2433,
          2683,
          2875,
          2995,
          1511,
          138,
          4,
          100,
          1,
          286,
          62,
          74,
          114,
          21,
          119,
          60,
          294,
          330,
          128,
          67,
          53,
          1212,
          192,
          97,
          43,
          1285,
          89,
          1129,
          127,
          45,
          989,
          724,
          2515,
          3060,
          2334,
          1421,
          2610,
          801,
          2088,
          285,
          2128,
          2457,
          2587,
          4016,
          16,
          930,
          1352,
          2554,
          2789,
          2174,
          3365,
          1726,
          1914,
          3064,
          3814,
          2492,
          2608,
          3076,
          2989,
          3000,
          968,
          3002,
          2397,
          1565,
          2607,
          1593,
          2776,
          1689,
          58,
          1206,
          122,
          74,
          12,
          841,
          667,
          205,
          15,
          7,
          2,
          66,
          25,
          89,
          12,
          166,
          312,
          20,
          688,
          163,
          92,
          649,
          50,
          506,
          10,
          407,
          103,
          36,
          124,
          81,
          249,
          34,
          23,
          1178,
          67,
          231,
          191,
          87,
          131,
          648,
          362,
          491,
          1374,
          99,
          1258,
          129,
          875,
          254,
          182,
          98,
          101,
          136,
          46903,
          204482,
          213577,
          200554,
          216637,
          174240,
          55536,
          64330,
          199550,
          194522,
          237403,
          249641,
          218085,
          78858,
          65243,
          169637,
          226957,
          250398,
          229210,
          238098,
          49684,
          34070,
          238913,
          196548,
          273135,
          249426,
          210047,
          27280,
          30349,
          201176,
          214447,
          233085,
          258136,
          224928,
          45864,
          56024,
          210695,
          229249,
          279518,
          248775,
          224378,
          59551,
          29093,
          176978,
          179199,
          237267,
          253915,
          226061,
          39396,
          28401,
          189598,
          202058,
          157238,
          137037,
          141446,
          27450,
          36771,
          95058,
          99686,
          9102,
          4624,
          2982,
          3494,
          2084,
          2207,
          13770,
          6195,
          4795,
          6963,
          5943,
          2839,
          48,
          1347,
          1995,
          1137,
          3232,
          1600,
          7629,
          9921,
          8110,
          6477,
          69,
          174,
          8,
          124,
          250,
          84,
          31,
          35,
          33,
          19,
          51,
          449,
          54,
          24,
          312,
          22,
          518,
          194,
          22,
          256,
          15,
          22,
          60,
          261,
          68,
          223,
          43,
          95,
          97,
          112,
          190,
          157,
          246,
          66,
          2,
          56,
          46,
          48,
          0,
          34,
          39,
          0,
          810,
          23,
          215,
          247,
          274,
          207,
          22,
          434,
          90,
          546,
          57,
          258,
          143,
          237,
          151,
          54,
          551,
          92,
          79,
          77,
          32,
          37,
          77,
          150,
          37,
          6,
          39,
          11,
          128,
          25,
          58,
          107,
          2,
          139,
          613,
          88,
          21865,
          34153,
          32661,
          28883,
          29248,
          33010,
          37569,
          28232,
          36894,
          39118,
          24956,
          31014,
          24307,
          47929,
          32113,
          31312,
          38638,
          30334,
          43005,
          17904,
          49,
          24336,
          20926,
          27962,
          15042,
          34436,
          19274,
          36444,
          37829,
          31284,
          27860,
          25481,
          20255,
          33012,
          36253,
          21505,
          25469,
          12289,
          32901,
          17953,
          31353,
          44,
          29940,
          27818,
          22109,
          31868,
          21262,
          340,
          26679,
          38050,
          25167,
          34027,
          1526,
          33884,
          39828,
          26143,
          22175,
          23504,
          26776,
          29727,
          31136,
          31825,
          34964,
          1123,
          19813,
          32428,
          20932,
          28668,
          12,
          276,
          108,
          25,
          377,
          235,
          474,
          2398,
          98,
          182,
          95,
          71,
          166,
          252,
          378,
          228,
          98,
          140,
          724,
          39,
          27,
          69,
          89,
          5,
          63,
          365,
          134,
          50,
          646,
          40,
          100,
          85,
          1082,
          456,
          257,
          3,
          15,
          1124,
          2972,
          1117,
          247,
          220,
          129,
          1231,
          181,
          396,
          292,
          1479,
          1350,
          1858,
          1923,
          742,
          1294,
          1694,
          540,
          787,
          944,
          2822,
          1683,
          1250,
          932,
          315,
          308,
          230,
          1811,
          1044,
          454,
          943,
          1152,
          1154,
          710,
          1028,
          548,
          671,
          431,
          223,
          55,
          378,
          1047,
          935,
          1236,
          1368,
          1567,
          1508,
          1725,
          1312,
          371,
          470,
          461,
          724,
          673,
          742,
          1563,
          482,
          501,
          305,
          449,
          68,
          484,
          631,
          1684,
          1239,
          664,
          766,
          857,
          357,
          495,
          343,
          1262,
          1598,
          1162,
          1611,
          1094,
          716,
          713,
          488,
          131,
          562,
          189,
          644,
          594,
          636,
          1517,
          475,
          517,
          693,
          566,
          1116,
          1187,
          1088,
          542,
          440,
          1452,
          2217,
          1078,
          2628,
          1005,
          456,
          1804,
          87,
          985,
          613,
          1925,
          18,
          1245,
          848,
          167,
          3,
          53,
          1829,
          3869,
          106,
          38,
          346,
          2847,
          10325,
          7866,
          13607,
          14230,
          15938,
          4260,
          13973,
          13969,
          5844,
          2851,
          1288,
          2248,
          2932,
          1227,
          277,
          14626,
          16275,
          14787,
          217,
          1,
          19315,
          19118,
          5280,
          3469,
          368,
          724,
          20,
          8040,
          18589,
          22013,
          187,
          14448,
          13200,
          18067,
          21437,
          35,
          42,
          671,
          204,
          106,
          425,
          135,
          95,
          125,
          86,
          644,
          28,
          22,
          77,
          78,
          1549,
          568,
          141,
          769,
          437,
          314,
          167,
          480,
          328,
          865,
          530,
          660,
          388,
          1231,
          473,
          403,
          818,
          718,
          1224,
          359,
          216,
          942,
          566,
          184,
          413,
          370,
          160,
          2190,
          1217,
          534,
          467,
          28,
          461,
          365,
          433,
          1547,
          1229,
          313,
          609,
          469,
          1006,
          382,
          1232,
          675,
          289,
          1389,
          661,
          925,
          570,
          924,
          739,
          936,
          1246,
          797,
          237,
          269,
          129,
          1459,
          1066,
          605,
          699,
          290,
          492,
          851,
          1634,
          750,
          43,
          277,
          1180,
          1699,
          903,
          499,
          548,
          64,
          1672,
          1094,
          797,
          725,
          666,
          85,
          652,
          616,
          1407,
          955,
          1284,
          473,
          946,
          304,
          258,
          559,
          148,
          54,
          30,
          294,
          852,
          500,
          120,
          151,
          68,
          159,
          4,
          92,
          103,
          54,
          180,
          91,
          125,
          5,
          6,
          8,
          9,
          208,
          26,
          418,
          201,
          1170,
          980,
          1371,
          450,
          283,
          1606,
          2157,
          1119,
          1415,
          190,
          621,
          1540,
          763,
          1170,
          1817,
          762,
          307,
          857,
          822,
          1181,
          968,
          863,
          623,
          733,
          1381,
          973,
          850,
          483,
          582,
          901,
          1020,
          667,
          809,
          1694,
          760,
          393,
          1003,
          1252,
          518,
          709,
          690,
          971,
          1438,
          969,
          1607,
          978,
          1241,
          1382,
          1276,
          1216,
          980,
          425,
          426,
          1202,
          1172,
          907,
          1316,
          414,
          704,
          793,
          1150,
          1537,
          1021,
          978,
          159,
          83,
          15,
          165,
          219,
          491,
          1265,
          1661,
          1469,
          137,
          1009,
          593,
          2486,
          3280,
          438,
          525,
          1258,
          456,
          380,
          334,
          1770,
          801,
          1872,
          1971,
          594,
          200,
          881,
          1091,
          1759,
          1064,
          306,
          828,
          776,
          280,
          67,
          88,
          583,
          577,
          706,
          396,
          751,
          391,
          1294,
          2784,
          462,
          453,
          1986,
          518,
          139,
          1071,
          420,
          137,
          91,
          994,
          972,
          549,
          166,
          313,
          382,
          559,
          534,
          133,
          774,
          731,
          797,
          754,
          139,
          699,
          745,
          517,
          148,
          1526,
          1197,
          227,
          209,
          452,
          320,
          540,
          579,
          605,
          494,
          1268,
          924,
          1565,
          1313,
          1394,
          4866,
          344,
          1340,
          821,
          1299,
          704,
          1061,
          337,
          13,
          873,
          1583,
          2103,
          1023,
          3159,
          932,
          732,
          5277,
          2578,
          4155,
          2825,
          1249,
          568,
          4445,
          299,
          2525,
          1425,
          2136,
          399,
          262,
          1371,
          823,
          1123,
          129,
          184,
          1185,
          1987,
          1397,
          1392,
          101,
          233,
          26,
          18,
          128,
          65,
          191,
          133,
          14,
          117,
          44,
          79,
          120,
          14,
          125,
          166,
          46,
          111,
          10,
          1002,
          706,
          60,
          28,
          59,
          81,
          62,
          3,
          241,
          147,
          75,
          187,
          4,
          4371,
          4573,
          12686,
          5099,
          3382,
          9040,
          7898,
          9174,
          6791,
          2598,
          3953,
          5198,
          4025,
          6590,
          10040,
          4077,
          5760,
          2206,
          3787,
          10358,
          4329,
          6034,
          4729,
          4697,
          580,
          1177,
          4751,
          6227,
          4420,
          7664,
          5336,
          2940,
          3515,
          5772,
          6741,
          3656,
          6351,
          10092,
          2003,
          2660,
          3060,
          3083,
          4486,
          7447,
          4402,
          4840,
          3695,
          4073,
          2564,
          5231,
          7493,
          8303,
          698,
          2359,
          5144,
          2886,
          6678,
          4211,
          4232,
          1199,
          1081,
          4667,
          2410,
          3933,
          2689,
          2541,
          658,
          2467,
          4717,
          3780,
          3816,
          1914,
          341,
          187,
          60,
          126,
          60,
          76,
          3,
          384,
          881,
          318,
          719,
          115,
          1496,
          234,
          1357,
          1427,
          880,
          812,
          77,
          185,
          730,
          992,
          39,
          473,
          229,
          36,
          91,
          40,
          311,
          77,
          268,
          60,
          36,
          361,
          404,
          601,
          23,
          27,
          0,
          447,
          387,
          542,
          263,
          58,
          993,
          292,
          1069,
          28,
          493,
          813,
          2139,
          591,
          121,
          419,
          1464,
          331,
          205,
          670,
          360,
          210,
          641,
          431,
          129,
          573,
          1131,
          111,
          862,
          64,
          258,
          402,
          9,
          428,
          264,
          31,
          327,
          94,
          1859,
          625,
          109,
          458,
          901,
          1399,
          792,
          3445,
          131,
          7,
          46,
          107,
          45,
          30,
          187,
          148,
          26,
          195,
          52,
          120,
          350,
          133,
          189,
          145,
          78,
          361,
          94,
          54,
          16,
          136,
          136,
          11,
          1067,
          1917,
          42,
          253,
          953,
          661,
          447,
          161,
          311,
          1236,
          2297,
          2583,
          1099,
          731,
          213,
          344,
          1123,
          1372,
          2305,
          199,
          1818,
          665,
          237,
          3085,
          2159,
          969,
          2934,
          2007,
          319,
          577,
          3047,
          381,
          399,
          836,
          1739,
          187,
          262,
          3512,
          1994,
          444,
          1039,
          1985,
          36,
          174,
          2114,
          2166,
          2617,
          2054,
          132,
          459,
          2463,
          218,
          1089,
          1023,
          2303,
          33,
          336,
          728,
          764,
          1299,
          1295,
          724,
          708,
          69,
          1750,
          3434,
          847,
          696,
          551,
          252,
          565,
          1820,
          1185,
          5237,
          1964,
          3368,
          326,
          728,
          2193,
          2282,
          3648,
          4205,
          1901,
          5139,
          3920,
          712,
          2355,
          4407,
          2604,
          4688,
          1808,
          3080,
          5196,
          1871,
          3842,
          3695,
          3466,
          7045,
          5947,
          3296,
          6249,
          1922,
          3076,
          3607,
          3589,
          4017,
          2136,
          2074,
          1073,
          1933,
          1580,
          2521,
          1524,
          584,
          254,
          1366,
          1757,
          67,
          557,
          1043,
          185,
          38,
          143,
          2,
          311,
          2,
          3,
          140,
          22,
          159,
          273,
          376,
          380,
          999,
          162,
          308,
          1607,
          78,
          286,
          362,
          289,
          624,
          136,
          3721,
          1264,
          163,
          774,
          543,
          877,
          43,
          290,
          3114,
          781,
          130,
          265,
          787,
          1782,
          124,
          538,
          39,
          210,
          51,
          998,
          250,
          722,
          1318,
          75,
          20,
          203,
          333,
          486,
          1038,
          284,
          71,
          53,
          2478,
          472,
          587,
          252,
          508,
          464,
          691,
          691,
          0,
          376,
          78,
          375,
          389,
          399,
          348,
          76,
          365,
          691,
          91,
          68,
          309,
          2137,
          106,
          2004,
          1846,
          1088,
          351,
          2,
          3685,
          1848,
          3187,
          2320,
          1011,
          2508,
          1427,
          2799,
          2633,
          3630,
          2623,
          2636,
          2160,
          2739,
          3329,
          2162,
          2116,
          2352,
          2103,
          2306,
          1846,
          1574,
          2114,
          2325,
          3041,
          2173,
          1468,
          2770,
          2350,
          2271,
          2356,
          3021,
          1949,
          2876,
          2322,
          1995,
          2629,
          1936,
          1410,
          2187,
          2678,
          2081,
          1844,
          1877,
          2194,
          1941,
          3365,
          1648,
          1752,
          1794,
          1491,
          2116,
          2117,
          2209,
          3710,
          5084,
          2311,
          4588,
          1662,
          1415,
          1872,
          1600,
          3121,
          25,
          763,
          120,
          405,
          210,
          125,
          831,
          440,
          119,
          886,
          85,
          200,
          459,
          574,
          127,
          675,
          145,
          323,
          611,
          774,
          190,
          1757,
          435,
          85,
          375,
          44,
          65,
          445,
          271,
          169,
          141,
          115,
          718,
          192,
          608,
          399,
          98,
          126,
          279,
          169,
          244,
          283,
          936,
          225,
          131,
          162,
          84,
          85,
          243,
          480,
          87,
          591,
          662,
          238,
          549,
          939,
          156,
          807,
          268,
          3088,
          2918,
          0,
          0,
          26,
          70,
          5879,
          3,
          4312,
          8355,
          4069,
          5274,
          5128,
          4018,
          4501,
          5494,
          5390,
          4206,
          2448,
          4202,
          3760,
          3557,
          3021,
          3289,
          3837,
          7200,
          10810,
          2680,
          4081,
          2320,
          7695,
          5118,
          5076,
          5906,
          8481,
          8555,
          8722,
          87,
          12,
          9056,
          10294,
          9666,
          7833,
          6629,
          271,
          7319,
          10420,
          11526,
          9866,
          9045,
          25,
          11032,
          7012,
          9389,
          10034,
          169,
          2443,
          874,
          438,
          375,
          762,
          207,
          116,
          693,
          501,
          1904,
          69,
          20,
          10,
          28,
          49,
          112,
          54,
          1735,
          46,
          273,
          4,
          195,
          1289,
          290,
          60,
          79,
          91,
          31,
          104,
          10,
          1180,
          6,
          367,
          32,
          264,
          28,
          573,
          14,
          300,
          28,
          1020,
          2112,
          278,
          1547,
          293,
          9771,
          13438,
          0,
          5963,
          7775,
          1109,
          2510,
          622,
          440,
          0,
          323,
          1041,
          157,
          334,
          189,
          101,
          182,
          770,
          309,
          112,
          558,
          480,
          254,
          137,
          26,
          388,
          301,
          105,
          94,
          47,
          50,
          0,
          206,
          31,
          2387,
          4026,
          522,
          9,
          378,
          1000,
          28,
          572,
          355,
          78,
          1293,
          228,
          5,
          15,
          857,
          285,
          108,
          279,
          686,
          0,
          467,
          743,
          917,
          1603,
          492,
          393,
          1732,
          407,
          578,
          149,
          150,
          507,
          73,
          35,
          1107,
          1172,
          670,
          359,
          658,
          598,
          589,
          685,
          684,
          344,
          295,
          95,
          829,
          440,
          820,
          254,
          80,
          986,
          356,
          833,
          1354,
          512,
          63,
          80,
          338,
          102,
          144,
          25,
          186,
          61,
          185,
          90,
          446,
          361,
          223,
          840,
          63,
          360,
          177,
          146,
          285,
          890,
          245,
          342,
          453,
          177,
          975,
          84,
          175,
          400,
          715,
          676,
          240,
          1119,
          1594,
          691,
          8,
          438,
          457,
          105,
          111,
          473,
          623,
          513,
          322,
          611,
          820,
          390,
          147,
          111,
          366,
          520,
          307,
          632,
          3749,
          1046,
          858,
          1054,
          493,
          1279,
          1218,
          1911,
          3305,
          2170,
          723,
          2157,
          1518,
          3451,
          1944,
          1267,
          1721,
          120,
          261,
          1063,
          1778,
          1332,
          3277,
          1837,
          217,
          1538,
          333,
          385,
          1291,
          1389,
          1288,
          2371,
          1046,
          120,
          1722,
          797,
          1074,
          4365,
          873,
          9093,
          7688,
          2449,
          3920,
          1818,
          2449,
          7409,
          7622,
          11344,
          12157,
          4788,
          6577,
          5547,
          9223,
          4761,
          5490,
          10723,
          5931,
          2077,
          2097,
          5184,
          6283,
          5449,
          5611,
          3458,
          2087,
          1289,
          6533,
          6875,
          4638,
          5348,
          4468,
          4635,
          1667,
          5927,
          7285,
          5593,
          8746,
          5351,
          6438,
          3521,
          9912,
          8336,
          6987,
          4813,
          8928,
          1925,
          4988,
          7505,
          6933,
          6904,
          9623,
          10237,
          8137,
          7253,
          15739,
          10809,
          9736,
          5663,
          11861,
          6038,
          2468,
          2817,
          8334,
          3128,
          6918,
          10495,
          4855,
          5035,
          11506,
          7488,
          7633,
          7790,
          8341,
          4595,
          4611,
          6896,
          10868,
          4771,
          9665,
          7420,
          3327,
          7581,
          8833,
          10304,
          6091,
          5107,
          20,
          38,
          38,
          15,
          15,
          115,
          0,
          114,
          177,
          13,
          25,
          0,
          413,
          6414,
          9696,
          11985,
          8307,
          16521,
          13921,
          11482,
          306,
          12774,
          13003,
          7143,
          4863,
          18788,
          11684,
          6594,
          12726,
          17403,
          9996,
          9833,
          14958,
          10794,
          3777,
          7217,
          4295,
          10122,
          12324,
          11111,
          467,
          4764,
          5014,
          1598,
          10254,
          6612,
          5229,
          723,
          188,
          3442,
          4408,
          2116,
          313,
          9349,
          1998,
          1198,
          808,
          10888,
          2275,
          697,
          2670,
          2187,
          549,
          6273,
          3360,
          120,
          149,
          86,
          856,
          1303,
          374,
          650,
          114,
          322,
          89,
          46,
          177,
          700,
          48,
          252,
          633,
          496,
          1022,
          402,
          519,
          558,
          132,
          536,
          576,
          518,
          153,
          428,
          37,
          91,
          610,
          186,
          181,
          135,
          103,
          412,
          67,
          198,
          38,
          504,
          696,
          399,
          61,
          57,
          353,
          618,
          500,
          35,
          38,
          216,
          61,
          13,
          36,
          129,
          28,
          178,
          467,
          18,
          33,
          455,
          726,
          201,
          23,
          26,
          40,
          1160,
          922,
          5056,
          282,
          34,
          1485,
          63,
          287,
          492,
          623,
          303,
          116,
          313,
          415,
          195,
          825,
          60,
          946,
          305,
          719,
          342,
          1627,
          138,
          702,
          110,
          431,
          762,
          301,
          403,
          1806,
          492,
          1066,
          441,
          51,
          811,
          416,
          770,
          217,
          1011,
          951,
          276,
          221,
          92,
          990,
          1980,
          533,
          974,
          653,
          457,
          1959,
          233,
          1222,
          901,
          919,
          727,
          2243,
          1542,
          266,
          871,
          486,
          420,
          1304,
          1150,
          1550,
          569,
          630,
          846,
          652,
          86,
          329,
          205,
          176,
          469,
          1311,
          3180,
          2314,
          36098,
          37582,
          34863,
          42767,
          24176,
          23765,
          24601,
          28675,
          21758,
          23739,
          23785,
          18564,
          21225,
          5989,
          6638,
          3046,
          274,
          33,
          16,
          49,
          23,
          50,
          10,
          15,
          15,
          57,
          76,
          16,
          52,
          107,
          6,
          2781,
          3303,
          249,
          4168,
          2343,
          7221,
          4334,
          4803,
          1813,
          1306,
          4784,
          3160,
          5511,
          4384,
          923,
          3918,
          646,
          562,
          176,
          237,
          3834,
          4639,
          701,
          607,
          4342,
          1304,
          542,
          4254,
          3330,
          9824,
          2697,
          7751,
          1927,
          10761,
          5970,
          146,
          317,
          9694,
          6334,
          6438,
          5458,
          486,
          717,
          369,
          305,
          888,
          1193,
          362,
          278,
          433,
          545,
          223,
          42,
          66,
          3249,
          1641,
          1503,
          1492,
          1708,
          1668,
          1496,
          1939,
          1485,
          2138,
          2619,
          1204,
          1074,
          1596,
          1439,
          1380,
          1725,
          1781,
          1787,
          1036,
          1599,
          2105,
          2379,
          1993,
          2823,
          1392,
          359,
          1694,
          2333,
          1827,
          1864,
          2169,
          1510,
          1714,
          1229,
          3005,
          2220,
          2227,
          1746,
          3117,
          1972,
          1693,
          2366,
          2156,
          2297,
          2495,
          1032,
          2233,
          1857,
          2922,
          2643,
          2786,
          2561,
          1630,
          1682,
          2119,
          2321,
          1816,
          2241,
          2707,
          0,
          124,
          295,
          6,
          998,
          29,
          1813,
          62,
          129,
          677,
          840,
          163,
          84,
          101,
          68,
          383,
          413,
          392,
          23,
          366,
          306,
          61,
          129,
          328,
          214,
          314,
          475,
          1353,
          258,
          1147,
          40,
          105,
          613,
          536,
          133,
          35,
          9,
          10,
          99,
          294,
          264,
          806,
          337,
          1356,
          490,
          80,
          945,
          213,
          729,
          150,
          380,
          830,
          154,
          358,
          88,
          360,
          253,
          37,
          29,
          211,
          76,
          613,
          2007,
          5759,
          5868,
          8034,
          27,
          213,
          99,
          138,
          444,
          997,
          696,
          254,
          186,
          655,
          228,
          567,
          856,
          1133,
          856,
          744,
          746,
          625,
          1086,
          1478,
          2538,
          669,
          1641,
          983,
          2565,
          1060,
          1570,
          367,
          2097,
          1399,
          1026,
          449,
          695,
          3411,
          337,
          7,
          290,
          580,
          1586,
          269,
          56,
          168,
          11,
          296,
          147,
          35,
          45,
          48,
          520,
          35,
          193,
          1309,
          58,
          33,
          0,
          13,
          256,
          239,
          24,
          165,
          585,
          1249,
          214,
          152,
          599,
          1253,
          1422,
          36,
          534,
          66,
          164,
          817,
          183,
          1557,
          1144,
          1404,
          120,
          218,
          719,
          1017,
          59,
          64,
          3958,
          315,
          625,
          529,
          106,
          2954,
          353,
          689,
          1079,
          1026,
          1241,
          1941,
          983,
          3347,
          1048,
          355,
          498,
          1152,
          978,
          285,
          3013,
          513,
          364,
          51,
          1145,
          1105,
          2248,
          586,
          36,
          42,
          624,
          860,
          137,
          241,
          398,
          582,
          302,
          631,
          73,
          50,
          249,
          102,
          575,
          596,
          126,
          671,
          242,
          1258,
          470,
          180,
          741,
          299,
          583,
          1132,
          777,
          144,
          289,
          715,
          562,
          788,
          417,
          265,
          1500,
          288,
          764,
          451,
          911,
          722,
          278,
          7,
          312,
          275,
          203,
          94,
          148,
          14,
          1540,
          849,
          567,
          256,
          666,
          1063,
          583,
          1102,
          79,
          347,
          355,
          1103,
          23,
          278,
          228,
          78,
          687,
          82,
          145,
          9,
          134,
          647,
          9,
          169,
          3092,
          5438,
          3777,
          2320,
          2953,
          3391,
          2647,
          4200,
          844,
          3084,
          1471,
          3899,
          902,
          3957,
          1925,
          1399,
          2981,
          1192,
          3129,
          1576,
          1422,
          2726,
          2171,
          2411,
          1796,
          2584,
          3218,
          1901,
          3644,
          3295,
          2371,
          1414,
          1812,
          591,
          1125,
          569,
          2507,
          2160,
          2222,
          1527,
          2023,
          3165,
          755,
          3466,
          1357,
          386,
          1308,
          879,
          441,
          2486,
          1842,
          1117,
          1518,
          1953,
          1226,
          2935,
          5415,
          72,
          47,
          114,
          266,
          14,
          60,
          3,
          367,
          2553,
          3219,
          12121,
          3320,
          12591,
          13600,
          10,
          7636,
          14357,
          14234,
          11781,
          1659,
          11121,
          9852,
          7199,
          7581,
          940,
          7394,
          9102,
          14680,
          4598,
          3268,
          7772,
          12364,
          7268,
          6228,
          3582,
          9,
          3439,
          4656,
          4789,
          774,
          5038,
          9,
          3854,
          7632,
          8888,
          7045,
          4152,
          11599,
          6919,
          2512,
          7918,
          7409,
          7,
          8281,
          65,
          3127,
          11,
          241,
          5,
          80,
          230,
          39,
          2825,
          3695,
          139,
          7343,
          7481,
          9362,
          848,
          3207,
          2401,
          4155,
          1447,
          111,
          2890,
          1594,
          4466,
          1279,
          365,
          2928,
          1280,
          7,
          22136,
          19260,
          18259,
          2033,
          32318,
          18020,
          24676,
          15963,
          27624,
          22401,
          23266,
          26348,
          24393,
          26913,
          2772,
          47154,
          41307,
          41184,
          39912,
          44441,
          32151,
          54430,
          31675,
          48285,
          57997,
          44210,
          16606,
          63690,
          41929,
          61823,
          62894,
          62693,
          6411,
          683,
          825,
          1087,
          14,
          8,
          2187,
          4609,
          2941,
          9,
          1719,
          2355,
          892,
          1294,
          2101,
          2843,
          394,
          5407,
          5411,
          1979,
          3760,
          3681,
          4940,
          725,
          1898,
          145,
          2,
          710,
          643,
          102,
          2268,
          1837,
          18,
          9,
          22,
          0,
          1148,
          557,
          5021,
          4554,
          8315,
          3677,
          4141,
          6373,
          5944,
          4232,
          11544,
          9144,
          11049,
          6413,
          7894,
          9086,
          7318,
          7161,
          6065,
          10994,
          4709,
          6170,
          9832,
          9369,
          12045,
          7575,
          8001,
          7205,
          8220,
          11029,
          8770,
          8516,
          11029,
          6274,
          9464,
          5465,
          6509,
          9721,
          4719,
          8849,
          6845,
          8978,
          6029,
          6757,
          8624,
          10820,
          7680,
          12412,
          8249,
          9914,
          6640,
          11310,
          11347,
          12830,
          8715,
          11319,
          7472,
          9381,
          12310,
          7,
          943,
          4670,
          3840,
          3837,
          2725,
          1825,
          73,
          160,
          1565,
          191,
          28,
          26,
          57,
          320,
          181,
          73,
          1360,
          630,
          1675,
          2716,
          1153,
          124,
          1111,
          1992,
          489,
          99,
          3015,
          441,
          468,
          2484,
          1055,
          521,
          954,
          2172,
          225,
          1363,
          329,
          403,
          413,
          342,
          961,
          2847,
          27,
          267,
          1575,
          864,
          3022,
          991,
          1410,
          722,
          1906,
          2575,
          3121,
          2020,
          1348,
          1609,
          2195,
          1489,
          1639,
          1461,
          669,
          1238,
          1198,
          1423,
          3261,
          6800,
          7325,
          7613,
          1028,
          1106,
          7989,
          5077,
          4314,
          3611,
          5283,
          4835,
          2610,
          7978,
          2136,
          5905,
          6379,
          2302,
          2872,
          6210,
          1990,
          430,
          4450,
          778,
          3051,
          36,
          3630,
          2085,
          3917,
          2586,
          5415,
          1350,
          2106,
          2658,
          3473,
          1524,
          1383,
          4570,
          252,
          862,
          2010,
          2317,
          180,
          649,
          139,
          1775,
          833,
          1362,
          361,
          2819,
          5567,
          8,
          8,
          271,
          3129,
          1179,
          862,
          993,
          1705,
          993,
          416,
          919,
          884,
          1554,
          1676,
          607,
          1905,
          369,
          956,
          363,
          670,
          222,
          356,
          313,
          335,
          226,
          763,
          1462,
          1299,
          1388,
          1207,
          726,
          1481,
          1494,
          937,
          1249,
          1890,
          2297,
          2177,
          1406,
          1295,
          1138,
          1111,
          1235,
          984,
          249,
          1076,
          3622,
          567,
          1738,
          1735,
          951,
          1676,
          1087,
          1385,
          592,
          776,
          641,
          1151,
          789,
          1015,
          126,
          675,
          58,
          281,
          1141,
          2649,
          2064,
          514,
          62,
          1055,
          1613,
          2960,
          8384,
          3192,
          2533,
          2001,
          1817,
          1565,
          1111,
          1426,
          162,
          1374,
          1498,
          1726,
          694,
          1402,
          923,
          3100,
          1978,
          172,
          141,
          1658,
          747,
          1609,
          2396,
          2205,
          2261,
          904,
          714,
          638,
          489,
          1446,
          901,
          1428,
          750,
          163,
          568,
          654,
          0,
          2395,
          4217,
          1467,
          75,
          140,
          892,
          214,
          440,
          1026,
          1374,
          1199,
          2018,
          650,
          1080,
          680,
          445,
          44,
          309,
          1149,
          555,
          333,
          165,
          404,
          111,
          162,
          18,
          248,
          293,
          44,
          124,
          199,
          604,
          251,
          716,
          49,
          362,
          1394,
          1486,
          1911,
          1586,
          1150,
          830,
          1814,
          1078,
          1253,
          2398,
          1277,
          1711,
          332,
          807,
          496,
          934,
          982,
          995,
          544,
          1170,
          892,
          744,
          1091,
          898,
          2613,
          1889,
          1558,
          1182,
          998,
          366,
          1943,
          23,
          11,
          2615,
          494,
          4,
          354,
          171,
          531,
          1707,
          1866,
          521,
          338,
          103,
          745,
          396,
          148,
          570,
          143,
          221,
          83,
          74,
          30,
          5339,
          5449,
          4773,
          138,
          90,
          4894,
          1410,
          4097,
          3781,
          5,
          2,
          11,
          192,
          115,
          194,
          22,
          1626,
          2,
          293,
          727,
          1298,
          715,
          84,
          228,
          74,
          29,
          102,
          126,
          379,
          27,
          18,
          325,
          512,
          233,
          291,
          375,
          29,
          83,
          747,
          215,
          108,
          255,
          311,
          14,
          212,
          0,
          27,
          332,
          481,
          2109,
          704,
          55,
          253,
          873,
          403,
          172,
          871,
          549,
          683,
          777,
          606,
          655,
          310,
          1733,
          490,
          607,
          968,
          597,
          964,
          1096,
          950,
          816,
          892,
          467,
          881,
          977,
          1039,
          462,
          685,
          391,
          1033,
          696,
          1105,
          1206,
          2018,
          816,
          519,
          1483,
          1054,
          629,
          1444,
          1128,
          1161,
          1514,
          1007,
          1472,
          624,
          721,
          546,
          609,
          1075,
          409,
          690,
          8,
          93,
          92,
          155,
          44,
          789,
          647,
          36,
          240,
          260,
          49,
          54,
          463,
          285,
          328,
          364,
          161,
          410,
          722,
          660,
          7,
          27,
          6,
          502,
          66,
          305,
          1527,
          194,
          1192,
          1049,
          94,
          318,
          430,
          1,
          0,
          81,
          626,
          12,
          114,
          75,
          280,
          611,
          44,
          342,
          75,
          210,
          24,
          207,
          523,
          161,
          196,
          131,
          20,
          30,
          44,
          2028,
          47,
          250,
          325,
          582,
          207,
          41,
          114,
          95,
          52,
          109,
          13,
          72,
          1250,
          0,
          393,
          356,
          175,
          127,
          333,
          7,
          695,
          334,
          314,
          641,
          324,
          91,
          459,
          2924,
          3995,
          10059,
          14808,
          18746,
          21653,
          26684,
          32769,
          34974,
          15828,
          20773,
          26520,
          18129,
          32664,
          36606,
          49666,
          43595,
          160,
          11,
          762,
          293,
          683,
          173,
          25,
          6,
          145,
          454,
          171,
          210,
          119,
          341,
          32,
          378,
          344,
          286,
          250,
          438,
          1058,
          1606,
          460,
          733,
          795,
          1742,
          830,
          197,
          530,
          828,
          608,
          1261,
          100,
          2263,
          1949,
          660,
          212,
          340,
          183,
          523,
          343,
          292,
          1547,
          2439,
          1072,
          3772,
          33,
          2700,
          746,
          2786,
          608,
          512,
          3192,
          1899,
          3880,
          1055,
          1273,
          4052,
          956,
          5579,
          4086,
          1422,
          1184,
          2980,
          101,
          1249,
          4835,
          518,
          2970,
          2625,
          2116,
          2010,
          32,
          2525,
          1939,
          6524,
          801,
          4106,
          3197,
          1738,
          4335,
          308,
          3038,
          1324,
          2637,
          1922,
          1506,
          1667,
          3245,
          3102,
          1594,
          1513,
          3656,
          1,
          12,
          3,
          14,
          2,
          18,
          136,
          130,
          596,
          2668,
          843,
          1057,
          379,
          3271,
          1659,
          2155,
          1791,
          3123,
          857,
          1002,
          1136,
          1054,
          81,
          256,
          262,
          1162,
          122,
          153,
          2398,
          372,
          241,
          56,
          8,
          16,
          1781,
          3307,
          507,
          655,
          183,
          121,
          977,
          1969,
          721,
          1128,
          178,
          767,
          4137,
          3308,
          2651,
          967,
          743,
          512,
          5562,
          2082,
          1761,
          1922,
          1056,
          1302,
          124,
          734,
          3109,
          4891,
          2109,
          3368,
          381,
          1041,
          5458,
          4539,
          5505,
          3791,
          3332,
          136,
          1029,
          5102,
          4535,
          4171,
          3973,
          2998,
          4148,
          929,
          4209,
          7952,
          5435,
          4454,
          1,
          372,
          192,
          899,
          293,
          555,
          440,
          76,
          287,
          10,
          373,
          1844,
          1309,
          3292,
          2227,
          1411,
          2444,
          339,
          1895,
          2622,
          2606,
          1706,
          2475,
          993,
          184,
          1578,
          2354,
          3852,
          2801,
          1448,
          2796,
          3546,
          1033,
          2357,
          2570,
          3255,
          1895,
          120,
          1654,
          670,
          577,
          1140,
          1065,
          1108,
          3463,
          946,
          623,
          230,
          1295,
          1825,
          3671,
          889,
          3845,
          3445,
          1646,
          2800,
          1583,
          4365,
          1484,
          1215,
          4735,
          1578,
          4239,
          2386,
          3452,
          2700,
          1375,
          2276,
          1497,
          264,
          2492,
          261,
          128,
          0,
          88,
          6,
          12,
          50,
          7,
          260,
          52,
          19,
          1789,
          1846,
          1776,
          1559,
          1489,
          706,
          1121,
          1763,
          1477,
          1889,
          1169,
          596,
          308,
          2131,
          1792,
          1073,
          1144,
          2332,
          290,
          1376,
          1282,
          2907,
          2138,
          1793,
          1442,
          1986,
          650,
          1324,
          1980,
          1564,
          1656,
          1510,
          637,
          513,
          1228,
          1331,
          664,
          1622,
          1453,
          995,
          533,
          2160,
          1654,
          1382,
          1296,
          1626,
          1166,
          564,
          1328,
          1438,
          1652,
          1889,
          1744,
          618,
          41,
          1935,
          1111,
          1642,
          1959,
          1604,
          0,
          0,
          0,
          0,
          45,
          147,
          1226,
          1172,
          1277,
          805,
          1490,
          1615,
          2826,
          1635,
          1571,
          722,
          1797,
          2198,
          1343,
          2603,
          3033,
          408,
          2644,
          3153,
          1759,
          2999,
          524,
          696,
          141,
          43,
          776,
          61,
          431,
          975,
          236,
          27,
          630,
          240,
          346,
          118,
          41,
          21,
          141,
          619,
          630,
          6,
          243,
          689,
          1313,
          944,
          1741,
          2909,
          1147,
          1361,
          2460,
          2527,
          1403,
          2389,
          934,
          2112,
          1023,
          2682,
          953,
          679,
          1341,
          1272,
          4855,
          2265,
          3168,
          3485,
          511,
          2292,
          1224,
          3941,
          1292,
          3923,
          856,
          619,
          864,
          2722,
          5003,
          2501,
          5534,
          1991,
          1504,
          8205,
          1717,
          2789,
          2740,
          5531,
          2682,
          8773,
          8352,
          1790,
          4352,
          5035,
          4909,
          5214,
          3946,
          9671,
          3602,
          6561,
          4999,
          2090,
          2280,
          6945,
          7172,
          8469,
          3605,
          1550,
          7724,
          7792,
          3419,
          4388,
          1104,
          3593,
          5322,
          2066,
          4634,
          5956,
          4659,
          3763,
          3983,
          4571,
          2869,
          7,
          257,
          833,
          736,
          21,
          1783,
          178,
          1643,
          2968,
          2164,
          1924,
          425,
          152,
          3308,
          917,
          79,
          2375,
          2670,
          1649,
          3103,
          2700,
          787,
          790,
          1099,
          1147,
          507,
          1560,
          1168,
          714,
          1645,
          2617,
          1596,
          880,
          1284,
          17,
          172,
          693,
          384,
          1064,
          885,
          1260,
          1224,
          167,
          2552,
          321,
          521,
          2126,
          38,
          1039,
          258,
          74,
          1335,
          1240,
          971,
          589,
          2364,
          1411,
          489,
          1007,
          2025,
          5543,
          10775,
          4111,
          235,
          1547,
          5136,
          5745,
          2440,
          3880,
          4074,
          1125,
          1093,
          10213,
          4758,
          8412,
          9045,
          9196,
          622,
          1526,
          249,
          14740,
          12383,
          10048,
          11485,
          3575,
          2337,
          10011,
          9217,
          11255,
          8898,
          5217,
          1104,
          1187,
          9871,
          10218,
          8405,
          5613,
          5795,
          1659,
          1503,
          14441,
          8578,
          6745,
          8832,
          310,
          318,
          178,
          49,
          73,
          124,
          226,
          49,
          26,
          34,
          2,
          385,
          60,
          86,
          334,
          158,
          426,
          147,
          49,
          34,
          99,
          180,
          314,
          42,
          216,
          40,
          210,
          157,
          86,
          378,
          65,
          144,
          177,
          358,
          768,
          648,
          1665,
          1057,
          2516,
          529,
          1054,
          834,
          330,
          925,
          822,
          238,
          387,
          646,
          272,
          980,
          28,
          1868,
          2693,
          3220,
          3092,
          1437,
          1194,
          831,
          898,
          814,
          2469,
          1101,
          838,
          2179,
          2538,
          2566,
          2361,
          2090,
          1392,
          1618,
          1917,
          1242,
          1817,
          4086,
          3510,
          2538,
          4210,
          2094,
          1989,
          3260,
          3226,
          1203,
          2402,
          3401,
          3071,
          2329,
          1673,
          3650,
          3145,
          3494,
          510,
          1374,
          3796,
          3061,
          2164,
          2118,
          3241,
          2301,
          1187,
          3384,
          53,
          29,
          47,
          52,
          45,
          56,
          35,
          25,
          112,
          100,
          560,
          277,
          265,
          629,
          221,
          1053,
          549,
          471,
          60,
          1647,
          691,
          336,
          648,
          785,
          1127,
          1306,
          3012,
          658,
          832,
          388,
          1529,
          851,
          25,
          250,
          295,
          1,
          993,
          4278,
          2042,
          968,
          2337,
          2300,
          4731,
          2990,
          2356,
          237,
          551,
          19,
          0,
          265,
          34,
          13,
          2,
          26,
          3298,
          5943,
          5317,
          7383,
          6531,
          6365,
          10724,
          7677,
          7556,
          8270,
          1505,
          2090,
          1526,
          85,
          748,
          189,
          2733,
          3021,
          513,
          2709,
          2601,
          10,
          4142,
          2113,
          4678,
          3947,
          1215,
          1680,
          3194,
          125,
          1800,
          48,
          14,
          21,
          4,
          67,
          212105,
          265154,
          247112,
          186387,
          171553,
          188120,
          268181,
          235814,
          277009,
          266543,
          174553,
          149164,
          225515,
          215199,
          200662,
          230894,
          189103,
          178435,
          152447,
          174004,
          164566,
          1,
          1,
          0,
          10,
          20,
          397,
          1746,
          751,
          2661,
          684,
          452,
          523,
          378,
          1139,
          502,
          616,
          2448,
          704,
          183,
          1726,
          1075,
          500,
          73,
          2232,
          865,
          480,
          619,
          127,
          150,
          76,
          593,
          702,
          237,
          58,
          128,
          2275,
          1386,
          1066,
          168,
          729,
          1186,
          147,
          288,
          254,
          66,
          129,
          4646,
          2486,
          4643,
          4617,
          6035,
          4899,
          2520,
          4691,
          3637,
          5057,
          243,
          371,
          572,
          118,
          567,
          204,
          570,
          131,
          376,
          165,
          257,
          1486,
          151,
          1874,
          915,
          83,
          1056,
          70,
          142,
          1168,
          106,
          620,
          8,
          218,
          2167,
          1269,
          79,
          2151,
          3621,
          1703,
          2287,
          479,
          4116,
          491,
          591,
          448,
          1177,
          257,
          208,
          126,
          10,
          1402,
          2420,
          5173,
          4749,
          5703,
          6938,
          7241,
          6455,
          9443,
          5766,
          4804,
          5504,
          7401,
          3580,
          3077,
          2017,
          7586,
          3247,
          4164,
          3565,
          6071,
          5102,
          4269,
          3956,
          2402,
          3244,
          5393,
          4076,
          3947,
          1508,
          2985,
          693,
          1168,
          2175,
          6148,
          5914,
          7101,
          5965,
          4565,
          8517,
          6613,
          6653,
          6055,
          7111,
          4352,
          4636,
          6084,
          6476,
          7725,
          7881,
          4700,
          3492,
          3891,
          5533,
          5665,
          6480,
          3418,
          239,
          139,
          194,
          4105,
          39,
          970,
          1079,
          1050,
          2277,
          3128,
          4582,
          6097,
          4856,
          6632,
          5844,
          4073,
          5801,
          0,
          2349,
          2110,
          555,
          836,
          784,
          6239,
          170,
          42,
          722,
          1279,
          1620,
          165,
          434,
          932,
          2716,
          1920,
          2825,
          3117,
          2278,
          2063,
          6443,
          6488,
          4076,
          6870,
          6717,
          2957,
          1491,
          5727,
          8459,
          8106,
          3788,
          1940,
          1495,
          8293,
          5802,
          3624,
          1895,
          3962,
          2547,
          1309,
          6305,
          5580,
          5505,
          3302,
          2965,
          1809,
          2383,
          3738,
          2197,
          3965,
          4566,
          17,
          585,
          683,
          114,
          667,
          149,
          135,
          104,
          341,
          1104,
          994,
          530,
          457,
          1732,
          1066,
          151,
          2307,
          1121,
          227,
          980,
          206,
          1009,
          1030,
          41,
          951,
          1565,
          779,
          370,
          68,
          113,
          1,
          3087,
          2901,
          1588,
          2024,
          1199,
          587,
          321,
          3085,
          1948,
          569,
          1946,
          349,
          437,
          1968,
          2320,
          2397,
          1529,
          796,
          150,
          1244,
          863,
          526,
          1118,
          424,
          411,
          989,
          1518,
          1181,
          348,
          2111,
          2028,
          480,
          46,
          3266,
          4,
          1185,
          141,
          640,
          8009,
          4049,
          5525,
          1304,
          261,
          7256,
          6934,
          10418,
          3177,
          7395,
          6677,
          4342,
          3666,
          11369,
          7274,
          4323,
          9408,
          6419,
          9159,
          12945,
          14781,
          9207,
          4597,
          10709,
          5785,
          6102,
          1360,
          1813,
          3312,
          9080,
          4605,
          1579,
          7294,
          4689,
          7286,
          4492,
          6915,
          9,
          65,
          10,
          13,
          244,
          159,
          70,
          80,
          50,
          80,
          120,
          386,
          1765,
          1410,
          193,
          223,
          937,
          209,
          1613,
          2449,
          2642,
          4172,
          63,
          4940,
          7244,
          4142,
          6963,
          945,
          2,
          4820,
          2534,
          4780,
          3468,
          1024,
          0,
          616,
          5339,
          4404,
          2170,
          4090,
          0,
          1150,
          2388,
          3314,
          4240,
          2457,
          3430,
          3832,
          2883,
          2658,
          1369,
          2430,
          2403,
          2651,
          3041,
          1135,
          3174,
          2160,
          2156,
          3007,
          1873,
          2960,
          5052,
          3031,
          4017,
          1794,
          2758,
          3099,
          2574,
          3274,
          1811,
          1933,
          4127,
          3472,
          3162,
          5404,
          2833,
          1793,
          1308,
          4437,
          3570,
          3135,
          3010,
          0,
          1,
          93,
          0,
          0,
          759,
          13,
          122,
          335,
          1038,
          767,
          215,
          299,
          560,
          459,
          288,
          1534,
          975,
          734,
          758,
          419,
          841,
          2049,
          608,
          863,
          327,
          543,
          665,
          1836,
          1218,
          1117,
          1023,
          1246,
          260,
          2127,
          4174,
          1618,
          946,
          1202,
          1173,
          961,
          761,
          927,
          2503,
          941,
          1547,
          735,
          536,
          617,
          1254,
          1586,
          1359,
          1520,
          967,
          1008,
          1725,
          1797,
          1556,
          1092,
          2,
          14,
          1178,
          1412,
          2028,
          1816,
          2543,
          820,
          1342,
          823,
          2397,
          216,
          305,
          1126,
          1311,
          3203,
          1887,
          485,
          1254,
          177,
          3167,
          1089,
          3543,
          4484,
          644,
          2948,
          2906,
          2655,
          2325,
          1352,
          1521,
          1833,
          2070,
          3074,
          3635,
          2496,
          3904,
          2121,
          2493,
          3442,
          837,
          454,
          3424,
          324,
          3276,
          2123,
          1216,
          1626,
          1824,
          2964,
          273,
          2033,
          2018,
          1877,
          1573,
          1396,
          1333,
          1495,
          1271,
          1692,
          1173,
          31,
          1922,
          7666,
          66925,
          78750,
          24687,
          59458,
          24098,
          53084,
          48333,
          32332,
          22128,
          29389,
          27249,
          39713,
          21395,
          35470,
          16843,
          31013,
          20436,
          18637,
          62208,
          59406,
          48523,
          31055,
          41853,
          31494,
          20147,
          21712,
          9852,
          12349,
          21896,
          11049,
          14157,
          11336,
          36120,
          57554,
          15733,
          73,
          38409,
          22720,
          40985,
          32013,
          42,
          42,
          1168,
          3489,
          815,
          3312,
          3257,
          2386,
          3836,
          3730,
          3533,
          6062,
          3154,
          6549,
          3367,
          4690,
          2204,
          2988,
          2698,
          1867,
          5220,
          6204,
          4703,
          8344,
          5744,
          6393,
          9515,
          4452,
          5831,
          424,
          709,
          697,
          1399,
          1698,
          2094,
          1329,
          8,
          160,
          12,
          5,
          154,
          64,
          72,
          45,
          0,
          0,
          25,
          13371,
          8715,
          18338,
          14422,
          22895,
          12386,
          14134,
          20669,
          27212,
          30821,
          20930,
          12912,
          8878,
          9928,
          9891,
          16827,
          18197,
          21067,
          14311,
          8540,
          4099,
          12364,
          14217,
          3658,
          17806,
          11403,
          4580,
          10783,
          13959,
          15269,
          12646,
          11880,
          16113,
          14023,
          31,
          0,
          191,
          60,
          578,
          94,
          260,
          526,
          239,
          101,
          216,
          20,
          5,
          34,
          32,
          17,
          242,
          598,
          26,
          224,
          41,
          344,
          889,
          56,
          11,
          425,
          47,
          75,
          961,
          2100,
          2602,
          3855,
          2738,
          3241,
          267,
          4470,
          913,
          39,
          889,
          28,
          2033,
          551,
          137,
          152,
          321,
          83,
          1394,
          1420,
          4022,
          957,
          3222,
          1444,
          653,
          958,
          1677,
          2349,
          3317,
          5336,
          2652,
          1191,
          597,
          2358,
          698,
          1536,
          309,
          522,
          2669,
          1191,
          1968,
          1998,
          2974,
          151,
          3514,
          4912,
          3305,
          1664,
          3956,
          53,
          306,
          2423,
          1941,
          3231,
          528,
          3092,
          3529,
          1237,
          4779,
          3199,
          62,
          4541,
          3310,
          1832,
          693,
          2155,
          3498,
          5801,
          4811,
          2112,
          27,
          0,
          1179,
          45,
          997,
          690,
          1381,
          2572,
          1184,
          1770,
          3713,
          1313,
          3250,
          2208,
          1928,
          1640,
          905,
          3824,
          2111,
          2020,
          2549,
          823,
          1975,
          1426,
          3356,
          2541,
          2130,
          2190,
          4190,
          3160,
          1465,
          2657,
          0,
          18,
          4,
          69,
          132,
          66,
          251,
          12,
          9,
          9,
          324,
          366,
          408,
          21,
          437,
          325,
          400,
          184,
          630,
          838,
          2530,
          397,
          300,
          3035,
          3625,
          1481,
          5021,
          3424,
          502,
          101,
          720,
          3079,
          3771,
          1861,
          1090,
          412,
          532,
          6076,
          2835,
          1851,
          3370,
          1926,
          999,
          588,
          3293,
          2144,
          2551,
          3272,
          3910,
          1605,
          1210,
          3121,
          3699,
          5979,
          2824,
          2612,
          21,
          459,
          386,
          121,
          112,
          1010,
          929,
          415,
          510,
          36,
          277,
          270,
          176,
          256,
          120,
          108,
          96,
          26,
          3,
          189,
          74,
          97,
          0,
          28,
          44,
          150,
          60,
          58,
          177,
          253,
          28,
          738,
          106,
          466,
          343,
          58,
          1786,
          1587,
          53,
          248,
          339,
          53,
          224,
          209,
          24,
          2044,
          2018,
          79,
          1269,
          2326,
          211,
          3916,
          4309,
          1554,
          128,
          148,
          1170,
          29,
          127,
          83,
          12,
          1230,
          4933,
          3628,
          3104,
          2371,
          2538,
          1929,
          2727,
          22,
          1,
          12,
          65,
          1011,
          28790,
          4452,
          14708,
          26473,
          20256,
          20340,
          24125,
          24805,
          14669,
          33949,
          17141,
          151,
          16197,
          4602,
          18236,
          15339,
          18153,
          964,
          10811,
          8146,
          10567,
          9492,
          7307,
          8456,
          208,
          175,
          128,
          245,
          610,
          37,
          906,
          130,
          540,
          445,
          479,
          1451,
          673,
          3482,
          2840,
          1402,
          2848,
          1608,
          3563,
          1875,
          5176,
          3240,
          4064,
          4780,
          3201,
          1923,
          7801,
          9293,
          5886,
          4975,
          4826,
          2688,
          6734,
          4877,
          4311,
          6636,
          5141,
          6686,
          8601,
          7399,
          5213,
          8969,
          5183,
          7402,
          58312,
          81911,
          87758,
          45109,
          20720,
          1004,
          163,
          366,
          81,
          96,
          94,
          237,
          251,
          115,
          4,
          300,
          188,
          293,
          34,
          41,
          458,
          252,
          994,
          37,
          123,
          60,
          209,
          0,
          104,
          40710,
          57638,
          57082,
          61594,
          47149,
          57053,
          71771,
          49785,
          56107,
          46036,
          54824,
          46547,
          54002,
          54110,
          40532,
          57474,
          58115,
          60062,
          48520,
          505,
          4,
          34,
          285,
          1259,
          1516,
          972,
          1215,
          1572,
          1494,
          559,
          1257,
          1289,
          1729,
          522,
          1564,
          1972,
          1204,
          707,
          1237,
          2658,
          5754,
          3698,
          1915,
          4325,
          6707,
          859,
          1586,
          2179,
          4246,
          1062,
          1003,
          3602,
          3540,
          2369,
          793,
          2208,
          1741,
          945,
          1266,
          3031,
          3155,
          229,
          118,
          0,
          1115,
          530,
          503,
          74,
          717,
          493,
          44,
          1671,
          20629,
          23316,
          25809,
          26191,
          24699,
          29361,
          22881,
          19802,
          13607,
          15346,
          16210,
          19805,
          16575,
          3408,
          6366,
          1836,
          2,
          2153,
          3820,
          2698,
          2524,
          90,
          8,
          15,
          22,
          156,
          317,
          687,
          48,
          37,
          508,
          869,
          1661,
          577,
          118,
          664,
          12,
          3318,
          183,
          0,
          2371,
          605,
          689,
          2334,
          1,
          47,
          4664,
          5689,
          547,
          385,
          112,
          637,
          1257,
          521,
          1068,
          105,
          22,
          991,
          315,
          54,
          3636,
          6,
          6,
          8,
          360,
          4066,
          351,
          1214,
          719,
          894,
          1576,
          5506,
          1129,
          4239,
          2727,
          3124,
          3981,
          2752,
          2034,
          2772,
          703,
          370,
          5590,
          18545,
          15796,
          6694,
          8263,
          13570,
          16197,
          6411,
          21467,
          1370,
          3095,
          17430,
          9296,
          10801,
          11059,
          0,
          9,
          177,
          82,
          206,
          3,
          209,
          914,
          680,
          2521,
          158,
          28,
          9,
          810,
          255,
          4,
          21,
          5,
          24,
          5,
          333,
          4318,
          10448,
          32,
          25152,
          22564,
          29512,
          22889,
          25065,
          18,
          69,
          27244,
          35232,
          34512,
          24511,
          15510,
          36936,
          27706,
          23525,
          21630,
          0,
          392,
          40619,
          30023,
          28415,
          32020,
          27703,
          26273,
          41905,
          45711,
          29278,
          26285,
          43021,
          26366,
          29653,
          36199,
          15,
          44,
          23,
          558,
          406,
          2,
          817,
          1607,
          748,
          576,
          31,
          854,
          51,
          179,
          10,
          14,
          54,
          17,
          61,
          12,
          20,
          44,
          22,
          1790,
          54,
          79,
          1679,
          1123,
          666,
          463,
          2400,
          495,
          339,
          84,
          124,
          2243,
          1547,
          2198,
          4651,
          2865,
          1376,
          1534,
          1262,
          1280,
          748,
          521,
          3031,
          1651,
          2855,
          1542,
          2607,
          1280,
          2028,
          1806,
          1882,
          210,
          1203,
          380,
          14,
          117,
          2,
          590,
          131,
          11961,
          18222,
          16373,
          10241,
          11526,
          3633,
          20178,
          16985,
          10261,
          18582,
          22350,
          10035,
          8534,
          25406,
          33734,
          32357,
          6329,
          23022,
          9847,
          3289,
          28806,
          53495,
          39314,
          59045,
          81851,
          20414,
          8372,
          67376,
          74568,
          57374,
          41335,
          13,
          0,
          2102,
          3776,
          5775,
          4268,
          571,
          483,
          3081,
          5697,
          5950,
          4133,
          3125,
          1820,
          1517,
          2426,
          4084,
          1542,
          6940,
          4964,
          1107,
          614,
          7198,
          8192,
          7270,
          3635,
          73,
          22,
          199,
          41,
          88,
          2734,
          5770,
          4138,
          2830,
          1619,
          2304,
          1203,
          2488,
          3890,
          1542,
          3271,
          3394,
          2284,
          2018,
          4702,
          1721,
          4750,
          3784,
          84,
          30,
          45,
          222,
          306,
          467,
          14,
          10,
          8,
          7,
          140,
          250,
          26,
          0,
          93,
          37,
          1006,
          369,
          1555,
          2871,
          610,
          2509,
          1620,
          1931,
          1732,
          19,
          83,
          1091,
          1097,
          111,
          243,
          1351,
          513,
          3751,
          7828,
          4932,
          4508,
          5326,
          11230,
          6261,
          5633,
          5678,
          10056,
          7162,
          6415,
          11940,
          9419,
          13492,
          13510,
          5723,
          16639,
          17425,
          13354,
          5989,
          28720,
          136576,
          167032,
          161818,
          151686,
          158652,
          188211,
          149575,
          142643,
          109233,
          132598,
          115882,
          176223,
          152435,
          142610,
          165309,
          149619,
          111767,
          133305,
          134669,
          149496,
          155991,
          182738,
          131342,
          117638,
          151094,
          155007,
          134087,
          197352,
          236253,
          211698,
          150904,
          165355,
          183268,
          179575,
          152163,
          148061,
          0,
          0,
          5612,
          13730,
          9498,
          7951,
          18188,
          12071,
          10657,
          5886,
          13613,
          16394,
          17588,
          25878,
          22086,
          5666,
          8067,
          18884,
          18507,
          18472,
          944,
          657,
          657,
          949,
          1126,
          190,
          1651,
          1231,
          978,
          1142,
          211,
          369,
          583,
          1219,
          1843,
          324,
          451,
          555,
          1957,
          872,
          1054,
          2561,
          48,
          2162,
          2212,
          1247,
          630,
          0,
          69,
          5568,
          16485,
          11724,
          11552,
          3903,
          483,
          218,
          107,
          209,
          170,
          111,
          31,
          283,
          42,
          1284,
          96,
          2517,
          3421,
          2212,
          1263,
          24,
          2934,
          2331,
          4339,
          3924,
          2566,
          24,
          2,
          1040,
          2405,
          1011,
          1732,
          67,
          88,
          567,
          433,
          99,
          368,
          593,
          63,
          501,
          3190
         ]
        }
       ],
       "layout": {
        "template": {
         "data": {
          "bar": [
           {
            "error_x": {
             "color": "#2a3f5f"
            },
            "error_y": {
             "color": "#2a3f5f"
            },
            "marker": {
             "line": {
              "color": "#E5ECF6",
              "width": 0.5
             },
             "pattern": {
              "fillmode": "overlay",
              "size": 10,
              "solidity": 0.2
             }
            },
            "type": "bar"
           }
          ],
          "barpolar": [
           {
            "marker": {
             "line": {
              "color": "#E5ECF6",
              "width": 0.5
             },
             "pattern": {
              "fillmode": "overlay",
              "size": 10,
              "solidity": 0.2
             }
            },
            "type": "barpolar"
           }
          ],
          "carpet": [
           {
            "aaxis": {
             "endlinecolor": "#2a3f5f",
             "gridcolor": "white",
             "linecolor": "white",
             "minorgridcolor": "white",
             "startlinecolor": "#2a3f5f"
            },
            "baxis": {
             "endlinecolor": "#2a3f5f",
             "gridcolor": "white",
             "linecolor": "white",
             "minorgridcolor": "white",
             "startlinecolor": "#2a3f5f"
            },
            "type": "carpet"
           }
          ],
          "choropleth": [
           {
            "colorbar": {
             "outlinewidth": 0,
             "ticks": ""
            },
            "type": "choropleth"
           }
          ],
          "contour": [
           {
            "colorbar": {
             "outlinewidth": 0,
             "ticks": ""
            },
            "colorscale": [
             [
              0,
              "#0d0887"
             ],
             [
              0.1111111111111111,
              "#46039f"
             ],
             [
              0.2222222222222222,
              "#7201a8"
             ],
             [
              0.3333333333333333,
              "#9c179e"
             ],
             [
              0.4444444444444444,
              "#bd3786"
             ],
             [
              0.5555555555555556,
              "#d8576b"
             ],
             [
              0.6666666666666666,
              "#ed7953"
             ],
             [
              0.7777777777777778,
              "#fb9f3a"
             ],
             [
              0.8888888888888888,
              "#fdca26"
             ],
             [
              1,
              "#f0f921"
             ]
            ],
            "type": "contour"
           }
          ],
          "contourcarpet": [
           {
            "colorbar": {
             "outlinewidth": 0,
             "ticks": ""
            },
            "type": "contourcarpet"
           }
          ],
          "heatmap": [
           {
            "colorbar": {
             "outlinewidth": 0,
             "ticks": ""
            },
            "colorscale": [
             [
              0,
              "#0d0887"
             ],
             [
              0.1111111111111111,
              "#46039f"
             ],
             [
              0.2222222222222222,
              "#7201a8"
             ],
             [
              0.3333333333333333,
              "#9c179e"
             ],
             [
              0.4444444444444444,
              "#bd3786"
             ],
             [
              0.5555555555555556,
              "#d8576b"
             ],
             [
              0.6666666666666666,
              "#ed7953"
             ],
             [
              0.7777777777777778,
              "#fb9f3a"
             ],
             [
              0.8888888888888888,
              "#fdca26"
             ],
             [
              1,
              "#f0f921"
             ]
            ],
            "type": "heatmap"
           }
          ],
          "heatmapgl": [
           {
            "colorbar": {
             "outlinewidth": 0,
             "ticks": ""
            },
            "colorscale": [
             [
              0,
              "#0d0887"
             ],
             [
              0.1111111111111111,
              "#46039f"
             ],
             [
              0.2222222222222222,
              "#7201a8"
             ],
             [
              0.3333333333333333,
              "#9c179e"
             ],
             [
              0.4444444444444444,
              "#bd3786"
             ],
             [
              0.5555555555555556,
              "#d8576b"
             ],
             [
              0.6666666666666666,
              "#ed7953"
             ],
             [
              0.7777777777777778,
              "#fb9f3a"
             ],
             [
              0.8888888888888888,
              "#fdca26"
             ],
             [
              1,
              "#f0f921"
             ]
            ],
            "type": "heatmapgl"
           }
          ],
          "histogram": [
           {
            "marker": {
             "pattern": {
              "fillmode": "overlay",
              "size": 10,
              "solidity": 0.2
             }
            },
            "type": "histogram"
           }
          ],
          "histogram2d": [
           {
            "colorbar": {
             "outlinewidth": 0,
             "ticks": ""
            },
            "colorscale": [
             [
              0,
              "#0d0887"
             ],
             [
              0.1111111111111111,
              "#46039f"
             ],
             [
              0.2222222222222222,
              "#7201a8"
             ],
             [
              0.3333333333333333,
              "#9c179e"
             ],
             [
              0.4444444444444444,
              "#bd3786"
             ],
             [
              0.5555555555555556,
              "#d8576b"
             ],
             [
              0.6666666666666666,
              "#ed7953"
             ],
             [
              0.7777777777777778,
              "#fb9f3a"
             ],
             [
              0.8888888888888888,
              "#fdca26"
             ],
             [
              1,
              "#f0f921"
             ]
            ],
            "type": "histogram2d"
           }
          ],
          "histogram2dcontour": [
           {
            "colorbar": {
             "outlinewidth": 0,
             "ticks": ""
            },
            "colorscale": [
             [
              0,
              "#0d0887"
             ],
             [
              0.1111111111111111,
              "#46039f"
             ],
             [
              0.2222222222222222,
              "#7201a8"
             ],
             [
              0.3333333333333333,
              "#9c179e"
             ],
             [
              0.4444444444444444,
              "#bd3786"
             ],
             [
              0.5555555555555556,
              "#d8576b"
             ],
             [
              0.6666666666666666,
              "#ed7953"
             ],
             [
              0.7777777777777778,
              "#fb9f3a"
             ],
             [
              0.8888888888888888,
              "#fdca26"
             ],
             [
              1,
              "#f0f921"
             ]
            ],
            "type": "histogram2dcontour"
           }
          ],
          "mesh3d": [
           {
            "colorbar": {
             "outlinewidth": 0,
             "ticks": ""
            },
            "type": "mesh3d"
           }
          ],
          "parcoords": [
           {
            "line": {
             "colorbar": {
              "outlinewidth": 0,
              "ticks": ""
             }
            },
            "type": "parcoords"
           }
          ],
          "pie": [
           {
            "automargin": true,
            "type": "pie"
           }
          ],
          "scatter": [
           {
            "marker": {
             "colorbar": {
              "outlinewidth": 0,
              "ticks": ""
             }
            },
            "type": "scatter"
           }
          ],
          "scatter3d": [
           {
            "line": {
             "colorbar": {
              "outlinewidth": 0,
              "ticks": ""
             }
            },
            "marker": {
             "colorbar": {
              "outlinewidth": 0,
              "ticks": ""
             }
            },
            "type": "scatter3d"
           }
          ],
          "scattercarpet": [
           {
            "marker": {
             "colorbar": {
              "outlinewidth": 0,
              "ticks": ""
             }
            },
            "type": "scattercarpet"
           }
          ],
          "scattergeo": [
           {
            "marker": {
             "colorbar": {
              "outlinewidth": 0,
              "ticks": ""
             }
            },
            "type": "scattergeo"
           }
          ],
          "scattergl": [
           {
            "marker": {
             "colorbar": {
              "outlinewidth": 0,
              "ticks": ""
             }
            },
            "type": "scattergl"
           }
          ],
          "scattermapbox": [
           {
            "marker": {
             "colorbar": {
              "outlinewidth": 0,
              "ticks": ""
             }
            },
            "type": "scattermapbox"
           }
          ],
          "scatterpolar": [
           {
            "marker": {
             "colorbar": {
              "outlinewidth": 0,
              "ticks": ""
             }
            },
            "type": "scatterpolar"
           }
          ],
          "scatterpolargl": [
           {
            "marker": {
             "colorbar": {
              "outlinewidth": 0,
              "ticks": ""
             }
            },
            "type": "scatterpolargl"
           }
          ],
          "scatterternary": [
           {
            "marker": {
             "colorbar": {
              "outlinewidth": 0,
              "ticks": ""
             }
            },
            "type": "scatterternary"
           }
          ],
          "surface": [
           {
            "colorbar": {
             "outlinewidth": 0,
             "ticks": ""
            },
            "colorscale": [
             [
              0,
              "#0d0887"
             ],
             [
              0.1111111111111111,
              "#46039f"
             ],
             [
              0.2222222222222222,
              "#7201a8"
             ],
             [
              0.3333333333333333,
              "#9c179e"
             ],
             [
              0.4444444444444444,
              "#bd3786"
             ],
             [
              0.5555555555555556,
              "#d8576b"
             ],
             [
              0.6666666666666666,
              "#ed7953"
             ],
             [
              0.7777777777777778,
              "#fb9f3a"
             ],
             [
              0.8888888888888888,
              "#fdca26"
             ],
             [
              1,
              "#f0f921"
             ]
            ],
            "type": "surface"
           }
          ],
          "table": [
           {
            "cells": {
             "fill": {
              "color": "#EBF0F8"
             },
             "line": {
              "color": "white"
             }
            },
            "header": {
             "fill": {
              "color": "#C8D4E3"
             },
             "line": {
              "color": "white"
             }
            },
            "type": "table"
           }
          ]
         },
         "layout": {
          "annotationdefaults": {
           "arrowcolor": "#2a3f5f",
           "arrowhead": 0,
           "arrowwidth": 1
          },
          "autotypenumbers": "strict",
          "coloraxis": {
           "colorbar": {
            "outlinewidth": 0,
            "ticks": ""
           }
          },
          "colorscale": {
           "diverging": [
            [
             0,
             "#8e0152"
            ],
            [
             0.1,
             "#c51b7d"
            ],
            [
             0.2,
             "#de77ae"
            ],
            [
             0.3,
             "#f1b6da"
            ],
            [
             0.4,
             "#fde0ef"
            ],
            [
             0.5,
             "#f7f7f7"
            ],
            [
             0.6,
             "#e6f5d0"
            ],
            [
             0.7,
             "#b8e186"
            ],
            [
             0.8,
             "#7fbc41"
            ],
            [
             0.9,
             "#4d9221"
            ],
            [
             1,
             "#276419"
            ]
           ],
           "sequential": [
            [
             0,
             "#0d0887"
            ],
            [
             0.1111111111111111,
             "#46039f"
            ],
            [
             0.2222222222222222,
             "#7201a8"
            ],
            [
             0.3333333333333333,
             "#9c179e"
            ],
            [
             0.4444444444444444,
             "#bd3786"
            ],
            [
             0.5555555555555556,
             "#d8576b"
            ],
            [
             0.6666666666666666,
             "#ed7953"
            ],
            [
             0.7777777777777778,
             "#fb9f3a"
            ],
            [
             0.8888888888888888,
             "#fdca26"
            ],
            [
             1,
             "#f0f921"
            ]
           ],
           "sequentialminus": [
            [
             0,
             "#0d0887"
            ],
            [
             0.1111111111111111,
             "#46039f"
            ],
            [
             0.2222222222222222,
             "#7201a8"
            ],
            [
             0.3333333333333333,
             "#9c179e"
            ],
            [
             0.4444444444444444,
             "#bd3786"
            ],
            [
             0.5555555555555556,
             "#d8576b"
            ],
            [
             0.6666666666666666,
             "#ed7953"
            ],
            [
             0.7777777777777778,
             "#fb9f3a"
            ],
            [
             0.8888888888888888,
             "#fdca26"
            ],
            [
             1,
             "#f0f921"
            ]
           ]
          },
          "colorway": [
           "#636efa",
           "#EF553B",
           "#00cc96",
           "#ab63fa",
           "#FFA15A",
           "#19d3f3",
           "#FF6692",
           "#B6E880",
           "#FF97FF",
           "#FECB52"
          ],
          "font": {
           "color": "#2a3f5f"
          },
          "geo": {
           "bgcolor": "white",
           "lakecolor": "white",
           "landcolor": "#E5ECF6",
           "showlakes": true,
           "showland": true,
           "subunitcolor": "white"
          },
          "hoverlabel": {
           "align": "left"
          },
          "hovermode": "closest",
          "mapbox": {
           "style": "light"
          },
          "paper_bgcolor": "white",
          "plot_bgcolor": "#E5ECF6",
          "polar": {
           "angularaxis": {
            "gridcolor": "white",
            "linecolor": "white",
            "ticks": ""
           },
           "bgcolor": "#E5ECF6",
           "radialaxis": {
            "gridcolor": "white",
            "linecolor": "white",
            "ticks": ""
           }
          },
          "scene": {
           "xaxis": {
            "backgroundcolor": "#E5ECF6",
            "gridcolor": "white",
            "gridwidth": 2,
            "linecolor": "white",
            "showbackground": true,
            "ticks": "",
            "zerolinecolor": "white"
           },
           "yaxis": {
            "backgroundcolor": "#E5ECF6",
            "gridcolor": "white",
            "gridwidth": 2,
            "linecolor": "white",
            "showbackground": true,
            "ticks": "",
            "zerolinecolor": "white"
           },
           "zaxis": {
            "backgroundcolor": "#E5ECF6",
            "gridcolor": "white",
            "gridwidth": 2,
            "linecolor": "white",
            "showbackground": true,
            "ticks": "",
            "zerolinecolor": "white"
           }
          },
          "shapedefaults": {
           "line": {
            "color": "#2a3f5f"
           }
          },
          "ternary": {
           "aaxis": {
            "gridcolor": "white",
            "linecolor": "white",
            "ticks": ""
           },
           "baxis": {
            "gridcolor": "white",
            "linecolor": "white",
            "ticks": ""
           },
           "bgcolor": "#E5ECF6",
           "caxis": {
            "gridcolor": "white",
            "linecolor": "white",
            "ticks": ""
           }
          },
          "title": {
           "x": 0.05
          },
          "xaxis": {
           "automargin": true,
           "gridcolor": "white",
           "linecolor": "white",
           "ticks": "",
           "title": {
            "standoff": 15
           },
           "zerolinecolor": "white",
           "zerolinewidth": 2
          },
          "yaxis": {
           "automargin": true,
           "gridcolor": "white",
           "linecolor": "white",
           "ticks": "",
           "title": {
            "standoff": 15
           },
           "zerolinecolor": "white",
           "zerolinewidth": 2
          }
         }
        },
        "title": {
         "text": "Распределение длительности звонков в минутах, клиент/день",
         "x": 0.5
        },
        "xaxis": {
         "title": {
          "text": "Звонки"
         }
        },
        "yaxis": {
         "range": [
          0,
          8000
         ],
         "title": {
          "text": "Количество"
         }
        }
       }
      },
      "text/html": [
       "<div>                            <div id=\"6326a2df-b307-483f-a02a-b75a8de273ad\" class=\"plotly-graph-div\" style=\"height:525px; width:100%;\"></div>            <script type=\"text/javascript\">                require([\"plotly\"], function(Plotly) {                    window.PLOTLYENV=window.PLOTLYENV || {};                                    if (document.getElementById(\"6326a2df-b307-483f-a02a-b75a8de273ad\")) {                    Plotly.newPlot(                        \"6326a2df-b307-483f-a02a-b75a8de273ad\",                        [{\"name\":\"value\",\"y\":[6186,4595,5853,5187,4340,4346,5751,4807,4361,5286,6349,4724,3364,6091,5996,6163,5546,5295,6937,3760,907,2365,4219,3921,5881,3342,5116,2429,4300,4421,3966,2915,5561,5463,5394,5096,3712,4591,5087,4523,2422,5363,4522,4603,6642,5432,6143,6493,4263,4622,5724,3024,5113,4745,4684,6240,4884,4721,6189,2953,5591,4549,3499,3318,4688,3584,4467,10580,12525,3533,456,5363,6927,2776,2146,2795,2080,2633,9966,5617,3473,7896,2836,451,804,3267,5340,4740,4067,2702,76,1637,8008,4991,118,85,2130,11234,10039,13639,14184,18199,14243,21001,23795,21832,24685,18811,28294,20027,26427,21357,4532,15726,16333,27356,11568,6744,6128,6002,2442,2635,7913,1910,5669,14535,17187,22577,27778,6873,42590,29367,32283,28701,32771,17105,1355,17470,22824,26655,27427,3,7372,10878,3164,4301,10106,3,12066,7564,6094,5844,3013,6,4320,190,6912,4146,1920,3183,4105,1581,4669,4886,5191,7360,7858,5538,4819,6,4771,5335,5323,4904,6814,5197,3349,7209,6688,903,844,6500,3011,4915,3294,2713,4546,4219,4520,1525,1184,5969,3344,3809,1779,1601,958,2307,94,3994,4970,2301,2635,7879,1876,2594,22,22,574,122,88,174,54,1143,11,49,1713,705,391,839,858,933,79,346,472,1695,870,1109,968,516,324,1975,794,1700,455,359,1027,2720,818,574,611,4176,571,387,428,225,1184,229,896,549,1288,233,1474,727,223,125,468,667,588,741,1309,1815,1425,354,2916,3673,5019,6528,6682,7160,5992,3561,6911,9042,7859,13743,4139,6777,8655,9783,6961,7411,9890,7518,7272,6667,3515,3845,9049,7283,7999,6498,7594,8050,4058,4119,2315,3927,6664,4625,4547,1628,4707,4188,6147,4124,3628,7442,13248,12165,5694,8115,14803,13397,14505,12978,15309,13900,13207,13963,11355,9695,14095,13577,5657,627,139,368,816,496,494,493,1826,418,505,1267,4625,1689,1802,3263,3314,2554,3279,4372,2829,2338,2564,2437,3644,3747,2306,2217,3088,985,2784,0,1501,2397,2979,3190,3778,507,1905,1587,906,319,1221,3,466,2174,3024,1764,3298,4742,1732,3173,3894,4207,113,2687,1944,1682,4497,5629,4793,1753,383,24,293,2533,630,447,158,1318,115,950,161,170,376,54,137,1313,273,955,69,1061,926,1152,159,1187,390,16,218,398,3583,124,872,334,170,77,426,948,1744,230,233,434,484,268,314,354,145,6,63,1376,3997,3117,4188,6840,9745,7135,5043,7302,6533,9710,7849,6041,3927,6664,4665,15028,8978,10209,7299,11,9123,8868,9433,10248,5405,388,8774,9889,4059,12683,11751,58,10879,8433,5232,7734,5136,9139,14731,5690,8974,8795,9953,7598,8614,10952,7197,0,43,8630,13323,7800,8516,505,60,5313,8490,6570,9887,7709,7305,9461,14073,10127,4240,8490,7789,11698,6578,787,1423,827,263,545,7764,13847,1920,802,4854,3525,638,12126,108,490,2516,18741,5590,9281,2180,16376,4227,12903,5377,79,2669,366,7548,10621,13709,10477,6230,2152,9638,8604,8316,10060,309,3592,460,3916,5518,4760,3762,3929,6320,1338,3367,5468,7582,1734,1038,39,3126,3222,13098,9046,5563,5437,4179,4451,4577,2433,2683,2875,2995,1511,138,4,100,1,286,62,74,114,21,119,60,294,330,128,67,53,1212,192,97,43,1285,89,1129,127,45,989,724,2515,3060,2334,1421,2610,801,2088,285,2128,2457,2587,4016,16,930,1352,2554,2789,2174,3365,1726,1914,3064,3814,2492,2608,3076,2989,3000,968,3002,2397,1565,2607,1593,2776,1689,58,1206,122,74,12,841,667,205,15,7,2,66,25,89,12,166,312,20,688,163,92,649,50,506,10,407,103,36,124,81,249,34,23,1178,67,231,191,87,131,648,362,491,1374,99,1258,129,875,254,182,98,101,136,46903,204482,213577,200554,216637,174240,55536,64330,199550,194522,237403,249641,218085,78858,65243,169637,226957,250398,229210,238098,49684,34070,238913,196548,273135,249426,210047,27280,30349,201176,214447,233085,258136,224928,45864,56024,210695,229249,279518,248775,224378,59551,29093,176978,179199,237267,253915,226061,39396,28401,189598,202058,157238,137037,141446,27450,36771,95058,99686,9102,4624,2982,3494,2084,2207,13770,6195,4795,6963,5943,2839,48,1347,1995,1137,3232,1600,7629,9921,8110,6477,69,174,8,124,250,84,31,35,33,19,51,449,54,24,312,22,518,194,22,256,15,22,60,261,68,223,43,95,97,112,190,157,246,66,2,56,46,48,0,34,39,0,810,23,215,247,274,207,22,434,90,546,57,258,143,237,151,54,551,92,79,77,32,37,77,150,37,6,39,11,128,25,58,107,2,139,613,88,21865,34153,32661,28883,29248,33010,37569,28232,36894,39118,24956,31014,24307,47929,32113,31312,38638,30334,43005,17904,49,24336,20926,27962,15042,34436,19274,36444,37829,31284,27860,25481,20255,33012,36253,21505,25469,12289,32901,17953,31353,44,29940,27818,22109,31868,21262,340,26679,38050,25167,34027,1526,33884,39828,26143,22175,23504,26776,29727,31136,31825,34964,1123,19813,32428,20932,28668,12,276,108,25,377,235,474,2398,98,182,95,71,166,252,378,228,98,140,724,39,27,69,89,5,63,365,134,50,646,40,100,85,1082,456,257,3,15,1124,2972,1117,247,220,129,1231,181,396,292,1479,1350,1858,1923,742,1294,1694,540,787,944,2822,1683,1250,932,315,308,230,1811,1044,454,943,1152,1154,710,1028,548,671,431,223,55,378,1047,935,1236,1368,1567,1508,1725,1312,371,470,461,724,673,742,1563,482,501,305,449,68,484,631,1684,1239,664,766,857,357,495,343,1262,1598,1162,1611,1094,716,713,488,131,562,189,644,594,636,1517,475,517,693,566,1116,1187,1088,542,440,1452,2217,1078,2628,1005,456,1804,87,985,613,1925,18,1245,848,167,3,53,1829,3869,106,38,346,2847,10325,7866,13607,14230,15938,4260,13973,13969,5844,2851,1288,2248,2932,1227,277,14626,16275,14787,217,1,19315,19118,5280,3469,368,724,20,8040,18589,22013,187,14448,13200,18067,21437,35,42,671,204,106,425,135,95,125,86,644,28,22,77,78,1549,568,141,769,437,314,167,480,328,865,530,660,388,1231,473,403,818,718,1224,359,216,942,566,184,413,370,160,2190,1217,534,467,28,461,365,433,1547,1229,313,609,469,1006,382,1232,675,289,1389,661,925,570,924,739,936,1246,797,237,269,129,1459,1066,605,699,290,492,851,1634,750,43,277,1180,1699,903,499,548,64,1672,1094,797,725,666,85,652,616,1407,955,1284,473,946,304,258,559,148,54,30,294,852,500,120,151,68,159,4,92,103,54,180,91,125,5,6,8,9,208,26,418,201,1170,980,1371,450,283,1606,2157,1119,1415,190,621,1540,763,1170,1817,762,307,857,822,1181,968,863,623,733,1381,973,850,483,582,901,1020,667,809,1694,760,393,1003,1252,518,709,690,971,1438,969,1607,978,1241,1382,1276,1216,980,425,426,1202,1172,907,1316,414,704,793,1150,1537,1021,978,159,83,15,165,219,491,1265,1661,1469,137,1009,593,2486,3280,438,525,1258,456,380,334,1770,801,1872,1971,594,200,881,1091,1759,1064,306,828,776,280,67,88,583,577,706,396,751,391,1294,2784,462,453,1986,518,139,1071,420,137,91,994,972,549,166,313,382,559,534,133,774,731,797,754,139,699,745,517,148,1526,1197,227,209,452,320,540,579,605,494,1268,924,1565,1313,1394,4866,344,1340,821,1299,704,1061,337,13,873,1583,2103,1023,3159,932,732,5277,2578,4155,2825,1249,568,4445,299,2525,1425,2136,399,262,1371,823,1123,129,184,1185,1987,1397,1392,101,233,26,18,128,65,191,133,14,117,44,79,120,14,125,166,46,111,10,1002,706,60,28,59,81,62,3,241,147,75,187,4,4371,4573,12686,5099,3382,9040,7898,9174,6791,2598,3953,5198,4025,6590,10040,4077,5760,2206,3787,10358,4329,6034,4729,4697,580,1177,4751,6227,4420,7664,5336,2940,3515,5772,6741,3656,6351,10092,2003,2660,3060,3083,4486,7447,4402,4840,3695,4073,2564,5231,7493,8303,698,2359,5144,2886,6678,4211,4232,1199,1081,4667,2410,3933,2689,2541,658,2467,4717,3780,3816,1914,341,187,60,126,60,76,3,384,881,318,719,115,1496,234,1357,1427,880,812,77,185,730,992,39,473,229,36,91,40,311,77,268,60,36,361,404,601,23,27,0,447,387,542,263,58,993,292,1069,28,493,813,2139,591,121,419,1464,331,205,670,360,210,641,431,129,573,1131,111,862,64,258,402,9,428,264,31,327,94,1859,625,109,458,901,1399,792,3445,131,7,46,107,45,30,187,148,26,195,52,120,350,133,189,145,78,361,94,54,16,136,136,11,1067,1917,42,253,953,661,447,161,311,1236,2297,2583,1099,731,213,344,1123,1372,2305,199,1818,665,237,3085,2159,969,2934,2007,319,577,3047,381,399,836,1739,187,262,3512,1994,444,1039,1985,36,174,2114,2166,2617,2054,132,459,2463,218,1089,1023,2303,33,336,728,764,1299,1295,724,708,69,1750,3434,847,696,551,252,565,1820,1185,5237,1964,3368,326,728,2193,2282,3648,4205,1901,5139,3920,712,2355,4407,2604,4688,1808,3080,5196,1871,3842,3695,3466,7045,5947,3296,6249,1922,3076,3607,3589,4017,2136,2074,1073,1933,1580,2521,1524,584,254,1366,1757,67,557,1043,185,38,143,2,311,2,3,140,22,159,273,376,380,999,162,308,1607,78,286,362,289,624,136,3721,1264,163,774,543,877,43,290,3114,781,130,265,787,1782,124,538,39,210,51,998,250,722,1318,75,20,203,333,486,1038,284,71,53,2478,472,587,252,508,464,691,691,0,376,78,375,389,399,348,76,365,691,91,68,309,2137,106,2004,1846,1088,351,2,3685,1848,3187,2320,1011,2508,1427,2799,2633,3630,2623,2636,2160,2739,3329,2162,2116,2352,2103,2306,1846,1574,2114,2325,3041,2173,1468,2770,2350,2271,2356,3021,1949,2876,2322,1995,2629,1936,1410,2187,2678,2081,1844,1877,2194,1941,3365,1648,1752,1794,1491,2116,2117,2209,3710,5084,2311,4588,1662,1415,1872,1600,3121,25,763,120,405,210,125,831,440,119,886,85,200,459,574,127,675,145,323,611,774,190,1757,435,85,375,44,65,445,271,169,141,115,718,192,608,399,98,126,279,169,244,283,936,225,131,162,84,85,243,480,87,591,662,238,549,939,156,807,268,3088,2918,0,0,26,70,5879,3,4312,8355,4069,5274,5128,4018,4501,5494,5390,4206,2448,4202,3760,3557,3021,3289,3837,7200,10810,2680,4081,2320,7695,5118,5076,5906,8481,8555,8722,87,12,9056,10294,9666,7833,6629,271,7319,10420,11526,9866,9045,25,11032,7012,9389,10034,169,2443,874,438,375,762,207,116,693,501,1904,69,20,10,28,49,112,54,1735,46,273,4,195,1289,290,60,79,91,31,104,10,1180,6,367,32,264,28,573,14,300,28,1020,2112,278,1547,293,9771,13438,0,5963,7775,1109,2510,622,440,0,323,1041,157,334,189,101,182,770,309,112,558,480,254,137,26,388,301,105,94,47,50,0,206,31,2387,4026,522,9,378,1000,28,572,355,78,1293,228,5,15,857,285,108,279,686,0,467,743,917,1603,492,393,1732,407,578,149,150,507,73,35,1107,1172,670,359,658,598,589,685,684,344,295,95,829,440,820,254,80,986,356,833,1354,512,63,80,338,102,144,25,186,61,185,90,446,361,223,840,63,360,177,146,285,890,245,342,453,177,975,84,175,400,715,676,240,1119,1594,691,8,438,457,105,111,473,623,513,322,611,820,390,147,111,366,520,307,632,3749,1046,858,1054,493,1279,1218,1911,3305,2170,723,2157,1518,3451,1944,1267,1721,120,261,1063,1778,1332,3277,1837,217,1538,333,385,1291,1389,1288,2371,1046,120,1722,797,1074,4365,873,9093,7688,2449,3920,1818,2449,7409,7622,11344,12157,4788,6577,5547,9223,4761,5490,10723,5931,2077,2097,5184,6283,5449,5611,3458,2087,1289,6533,6875,4638,5348,4468,4635,1667,5927,7285,5593,8746,5351,6438,3521,9912,8336,6987,4813,8928,1925,4988,7505,6933,6904,9623,10237,8137,7253,15739,10809,9736,5663,11861,6038,2468,2817,8334,3128,6918,10495,4855,5035,11506,7488,7633,7790,8341,4595,4611,6896,10868,4771,9665,7420,3327,7581,8833,10304,6091,5107,20,38,38,15,15,115,0,114,177,13,25,0,413,6414,9696,11985,8307,16521,13921,11482,306,12774,13003,7143,4863,18788,11684,6594,12726,17403,9996,9833,14958,10794,3777,7217,4295,10122,12324,11111,467,4764,5014,1598,10254,6612,5229,723,188,3442,4408,2116,313,9349,1998,1198,808,10888,2275,697,2670,2187,549,6273,3360,120,149,86,856,1303,374,650,114,322,89,46,177,700,48,252,633,496,1022,402,519,558,132,536,576,518,153,428,37,91,610,186,181,135,103,412,67,198,38,504,696,399,61,57,353,618,500,35,38,216,61,13,36,129,28,178,467,18,33,455,726,201,23,26,40,1160,922,5056,282,34,1485,63,287,492,623,303,116,313,415,195,825,60,946,305,719,342,1627,138,702,110,431,762,301,403,1806,492,1066,441,51,811,416,770,217,1011,951,276,221,92,990,1980,533,974,653,457,1959,233,1222,901,919,727,2243,1542,266,871,486,420,1304,1150,1550,569,630,846,652,86,329,205,176,469,1311,3180,2314,36098,37582,34863,42767,24176,23765,24601,28675,21758,23739,23785,18564,21225,5989,6638,3046,274,33,16,49,23,50,10,15,15,57,76,16,52,107,6,2781,3303,249,4168,2343,7221,4334,4803,1813,1306,4784,3160,5511,4384,923,3918,646,562,176,237,3834,4639,701,607,4342,1304,542,4254,3330,9824,2697,7751,1927,10761,5970,146,317,9694,6334,6438,5458,486,717,369,305,888,1193,362,278,433,545,223,42,66,3249,1641,1503,1492,1708,1668,1496,1939,1485,2138,2619,1204,1074,1596,1439,1380,1725,1781,1787,1036,1599,2105,2379,1993,2823,1392,359,1694,2333,1827,1864,2169,1510,1714,1229,3005,2220,2227,1746,3117,1972,1693,2366,2156,2297,2495,1032,2233,1857,2922,2643,2786,2561,1630,1682,2119,2321,1816,2241,2707,0,124,295,6,998,29,1813,62,129,677,840,163,84,101,68,383,413,392,23,366,306,61,129,328,214,314,475,1353,258,1147,40,105,613,536,133,35,9,10,99,294,264,806,337,1356,490,80,945,213,729,150,380,830,154,358,88,360,253,37,29,211,76,613,2007,5759,5868,8034,27,213,99,138,444,997,696,254,186,655,228,567,856,1133,856,744,746,625,1086,1478,2538,669,1641,983,2565,1060,1570,367,2097,1399,1026,449,695,3411,337,7,290,580,1586,269,56,168,11,296,147,35,45,48,520,35,193,1309,58,33,0,13,256,239,24,165,585,1249,214,152,599,1253,1422,36,534,66,164,817,183,1557,1144,1404,120,218,719,1017,59,64,3958,315,625,529,106,2954,353,689,1079,1026,1241,1941,983,3347,1048,355,498,1152,978,285,3013,513,364,51,1145,1105,2248,586,36,42,624,860,137,241,398,582,302,631,73,50,249,102,575,596,126,671,242,1258,470,180,741,299,583,1132,777,144,289,715,562,788,417,265,1500,288,764,451,911,722,278,7,312,275,203,94,148,14,1540,849,567,256,666,1063,583,1102,79,347,355,1103,23,278,228,78,687,82,145,9,134,647,9,169,3092,5438,3777,2320,2953,3391,2647,4200,844,3084,1471,3899,902,3957,1925,1399,2981,1192,3129,1576,1422,2726,2171,2411,1796,2584,3218,1901,3644,3295,2371,1414,1812,591,1125,569,2507,2160,2222,1527,2023,3165,755,3466,1357,386,1308,879,441,2486,1842,1117,1518,1953,1226,2935,5415,72,47,114,266,14,60,3,367,2553,3219,12121,3320,12591,13600,10,7636,14357,14234,11781,1659,11121,9852,7199,7581,940,7394,9102,14680,4598,3268,7772,12364,7268,6228,3582,9,3439,4656,4789,774,5038,9,3854,7632,8888,7045,4152,11599,6919,2512,7918,7409,7,8281,65,3127,11,241,5,80,230,39,2825,3695,139,7343,7481,9362,848,3207,2401,4155,1447,111,2890,1594,4466,1279,365,2928,1280,7,22136,19260,18259,2033,32318,18020,24676,15963,27624,22401,23266,26348,24393,26913,2772,47154,41307,41184,39912,44441,32151,54430,31675,48285,57997,44210,16606,63690,41929,61823,62894,62693,6411,683,825,1087,14,8,2187,4609,2941,9,1719,2355,892,1294,2101,2843,394,5407,5411,1979,3760,3681,4940,725,1898,145,2,710,643,102,2268,1837,18,9,22,0,1148,557,5021,4554,8315,3677,4141,6373,5944,4232,11544,9144,11049,6413,7894,9086,7318,7161,6065,10994,4709,6170,9832,9369,12045,7575,8001,7205,8220,11029,8770,8516,11029,6274,9464,5465,6509,9721,4719,8849,6845,8978,6029,6757,8624,10820,7680,12412,8249,9914,6640,11310,11347,12830,8715,11319,7472,9381,12310,7,943,4670,3840,3837,2725,1825,73,160,1565,191,28,26,57,320,181,73,1360,630,1675,2716,1153,124,1111,1992,489,99,3015,441,468,2484,1055,521,954,2172,225,1363,329,403,413,342,961,2847,27,267,1575,864,3022,991,1410,722,1906,2575,3121,2020,1348,1609,2195,1489,1639,1461,669,1238,1198,1423,3261,6800,7325,7613,1028,1106,7989,5077,4314,3611,5283,4835,2610,7978,2136,5905,6379,2302,2872,6210,1990,430,4450,778,3051,36,3630,2085,3917,2586,5415,1350,2106,2658,3473,1524,1383,4570,252,862,2010,2317,180,649,139,1775,833,1362,361,2819,5567,8,8,271,3129,1179,862,993,1705,993,416,919,884,1554,1676,607,1905,369,956,363,670,222,356,313,335,226,763,1462,1299,1388,1207,726,1481,1494,937,1249,1890,2297,2177,1406,1295,1138,1111,1235,984,249,1076,3622,567,1738,1735,951,1676,1087,1385,592,776,641,1151,789,1015,126,675,58,281,1141,2649,2064,514,62,1055,1613,2960,8384,3192,2533,2001,1817,1565,1111,1426,162,1374,1498,1726,694,1402,923,3100,1978,172,141,1658,747,1609,2396,2205,2261,904,714,638,489,1446,901,1428,750,163,568,654,0,2395,4217,1467,75,140,892,214,440,1026,1374,1199,2018,650,1080,680,445,44,309,1149,555,333,165,404,111,162,18,248,293,44,124,199,604,251,716,49,362,1394,1486,1911,1586,1150,830,1814,1078,1253,2398,1277,1711,332,807,496,934,982,995,544,1170,892,744,1091,898,2613,1889,1558,1182,998,366,1943,23,11,2615,494,4,354,171,531,1707,1866,521,338,103,745,396,148,570,143,221,83,74,30,5339,5449,4773,138,90,4894,1410,4097,3781,5,2,11,192,115,194,22,1626,2,293,727,1298,715,84,228,74,29,102,126,379,27,18,325,512,233,291,375,29,83,747,215,108,255,311,14,212,0,27,332,481,2109,704,55,253,873,403,172,871,549,683,777,606,655,310,1733,490,607,968,597,964,1096,950,816,892,467,881,977,1039,462,685,391,1033,696,1105,1206,2018,816,519,1483,1054,629,1444,1128,1161,1514,1007,1472,624,721,546,609,1075,409,690,8,93,92,155,44,789,647,36,240,260,49,54,463,285,328,364,161,410,722,660,7,27,6,502,66,305,1527,194,1192,1049,94,318,430,1,0,81,626,12,114,75,280,611,44,342,75,210,24,207,523,161,196,131,20,30,44,2028,47,250,325,582,207,41,114,95,52,109,13,72,1250,0,393,356,175,127,333,7,695,334,314,641,324,91,459,2924,3995,10059,14808,18746,21653,26684,32769,34974,15828,20773,26520,18129,32664,36606,49666,43595,160,11,762,293,683,173,25,6,145,454,171,210,119,341,32,378,344,286,250,438,1058,1606,460,733,795,1742,830,197,530,828,608,1261,100,2263,1949,660,212,340,183,523,343,292,1547,2439,1072,3772,33,2700,746,2786,608,512,3192,1899,3880,1055,1273,4052,956,5579,4086,1422,1184,2980,101,1249,4835,518,2970,2625,2116,2010,32,2525,1939,6524,801,4106,3197,1738,4335,308,3038,1324,2637,1922,1506,1667,3245,3102,1594,1513,3656,1,12,3,14,2,18,136,130,596,2668,843,1057,379,3271,1659,2155,1791,3123,857,1002,1136,1054,81,256,262,1162,122,153,2398,372,241,56,8,16,1781,3307,507,655,183,121,977,1969,721,1128,178,767,4137,3308,2651,967,743,512,5562,2082,1761,1922,1056,1302,124,734,3109,4891,2109,3368,381,1041,5458,4539,5505,3791,3332,136,1029,5102,4535,4171,3973,2998,4148,929,4209,7952,5435,4454,1,372,192,899,293,555,440,76,287,10,373,1844,1309,3292,2227,1411,2444,339,1895,2622,2606,1706,2475,993,184,1578,2354,3852,2801,1448,2796,3546,1033,2357,2570,3255,1895,120,1654,670,577,1140,1065,1108,3463,946,623,230,1295,1825,3671,889,3845,3445,1646,2800,1583,4365,1484,1215,4735,1578,4239,2386,3452,2700,1375,2276,1497,264,2492,261,128,0,88,6,12,50,7,260,52,19,1789,1846,1776,1559,1489,706,1121,1763,1477,1889,1169,596,308,2131,1792,1073,1144,2332,290,1376,1282,2907,2138,1793,1442,1986,650,1324,1980,1564,1656,1510,637,513,1228,1331,664,1622,1453,995,533,2160,1654,1382,1296,1626,1166,564,1328,1438,1652,1889,1744,618,41,1935,1111,1642,1959,1604,0,0,0,0,45,147,1226,1172,1277,805,1490,1615,2826,1635,1571,722,1797,2198,1343,2603,3033,408,2644,3153,1759,2999,524,696,141,43,776,61,431,975,236,27,630,240,346,118,41,21,141,619,630,6,243,689,1313,944,1741,2909,1147,1361,2460,2527,1403,2389,934,2112,1023,2682,953,679,1341,1272,4855,2265,3168,3485,511,2292,1224,3941,1292,3923,856,619,864,2722,5003,2501,5534,1991,1504,8205,1717,2789,2740,5531,2682,8773,8352,1790,4352,5035,4909,5214,3946,9671,3602,6561,4999,2090,2280,6945,7172,8469,3605,1550,7724,7792,3419,4388,1104,3593,5322,2066,4634,5956,4659,3763,3983,4571,2869,7,257,833,736,21,1783,178,1643,2968,2164,1924,425,152,3308,917,79,2375,2670,1649,3103,2700,787,790,1099,1147,507,1560,1168,714,1645,2617,1596,880,1284,17,172,693,384,1064,885,1260,1224,167,2552,321,521,2126,38,1039,258,74,1335,1240,971,589,2364,1411,489,1007,2025,5543,10775,4111,235,1547,5136,5745,2440,3880,4074,1125,1093,10213,4758,8412,9045,9196,622,1526,249,14740,12383,10048,11485,3575,2337,10011,9217,11255,8898,5217,1104,1187,9871,10218,8405,5613,5795,1659,1503,14441,8578,6745,8832,310,318,178,49,73,124,226,49,26,34,2,385,60,86,334,158,426,147,49,34,99,180,314,42,216,40,210,157,86,378,65,144,177,358,768,648,1665,1057,2516,529,1054,834,330,925,822,238,387,646,272,980,28,1868,2693,3220,3092,1437,1194,831,898,814,2469,1101,838,2179,2538,2566,2361,2090,1392,1618,1917,1242,1817,4086,3510,2538,4210,2094,1989,3260,3226,1203,2402,3401,3071,2329,1673,3650,3145,3494,510,1374,3796,3061,2164,2118,3241,2301,1187,3384,53,29,47,52,45,56,35,25,112,100,560,277,265,629,221,1053,549,471,60,1647,691,336,648,785,1127,1306,3012,658,832,388,1529,851,25,250,295,1,993,4278,2042,968,2337,2300,4731,2990,2356,237,551,19,0,265,34,13,2,26,3298,5943,5317,7383,6531,6365,10724,7677,7556,8270,1505,2090,1526,85,748,189,2733,3021,513,2709,2601,10,4142,2113,4678,3947,1215,1680,3194,125,1800,48,14,21,4,67,212105,265154,247112,186387,171553,188120,268181,235814,277009,266543,174553,149164,225515,215199,200662,230894,189103,178435,152447,174004,164566,1,1,0,10,20,397,1746,751,2661,684,452,523,378,1139,502,616,2448,704,183,1726,1075,500,73,2232,865,480,619,127,150,76,593,702,237,58,128,2275,1386,1066,168,729,1186,147,288,254,66,129,4646,2486,4643,4617,6035,4899,2520,4691,3637,5057,243,371,572,118,567,204,570,131,376,165,257,1486,151,1874,915,83,1056,70,142,1168,106,620,8,218,2167,1269,79,2151,3621,1703,2287,479,4116,491,591,448,1177,257,208,126,10,1402,2420,5173,4749,5703,6938,7241,6455,9443,5766,4804,5504,7401,3580,3077,2017,7586,3247,4164,3565,6071,5102,4269,3956,2402,3244,5393,4076,3947,1508,2985,693,1168,2175,6148,5914,7101,5965,4565,8517,6613,6653,6055,7111,4352,4636,6084,6476,7725,7881,4700,3492,3891,5533,5665,6480,3418,239,139,194,4105,39,970,1079,1050,2277,3128,4582,6097,4856,6632,5844,4073,5801,0,2349,2110,555,836,784,6239,170,42,722,1279,1620,165,434,932,2716,1920,2825,3117,2278,2063,6443,6488,4076,6870,6717,2957,1491,5727,8459,8106,3788,1940,1495,8293,5802,3624,1895,3962,2547,1309,6305,5580,5505,3302,2965,1809,2383,3738,2197,3965,4566,17,585,683,114,667,149,135,104,341,1104,994,530,457,1732,1066,151,2307,1121,227,980,206,1009,1030,41,951,1565,779,370,68,113,1,3087,2901,1588,2024,1199,587,321,3085,1948,569,1946,349,437,1968,2320,2397,1529,796,150,1244,863,526,1118,424,411,989,1518,1181,348,2111,2028,480,46,3266,4,1185,141,640,8009,4049,5525,1304,261,7256,6934,10418,3177,7395,6677,4342,3666,11369,7274,4323,9408,6419,9159,12945,14781,9207,4597,10709,5785,6102,1360,1813,3312,9080,4605,1579,7294,4689,7286,4492,6915,9,65,10,13,244,159,70,80,50,80,120,386,1765,1410,193,223,937,209,1613,2449,2642,4172,63,4940,7244,4142,6963,945,2,4820,2534,4780,3468,1024,0,616,5339,4404,2170,4090,0,1150,2388,3314,4240,2457,3430,3832,2883,2658,1369,2430,2403,2651,3041,1135,3174,2160,2156,3007,1873,2960,5052,3031,4017,1794,2758,3099,2574,3274,1811,1933,4127,3472,3162,5404,2833,1793,1308,4437,3570,3135,3010,0,1,93,0,0,759,13,122,335,1038,767,215,299,560,459,288,1534,975,734,758,419,841,2049,608,863,327,543,665,1836,1218,1117,1023,1246,260,2127,4174,1618,946,1202,1173,961,761,927,2503,941,1547,735,536,617,1254,1586,1359,1520,967,1008,1725,1797,1556,1092,2,14,1178,1412,2028,1816,2543,820,1342,823,2397,216,305,1126,1311,3203,1887,485,1254,177,3167,1089,3543,4484,644,2948,2906,2655,2325,1352,1521,1833,2070,3074,3635,2496,3904,2121,2493,3442,837,454,3424,324,3276,2123,1216,1626,1824,2964,273,2033,2018,1877,1573,1396,1333,1495,1271,1692,1173,31,1922,7666,66925,78750,24687,59458,24098,53084,48333,32332,22128,29389,27249,39713,21395,35470,16843,31013,20436,18637,62208,59406,48523,31055,41853,31494,20147,21712,9852,12349,21896,11049,14157,11336,36120,57554,15733,73,38409,22720,40985,32013,42,42,1168,3489,815,3312,3257,2386,3836,3730,3533,6062,3154,6549,3367,4690,2204,2988,2698,1867,5220,6204,4703,8344,5744,6393,9515,4452,5831,424,709,697,1399,1698,2094,1329,8,160,12,5,154,64,72,45,0,0,25,13371,8715,18338,14422,22895,12386,14134,20669,27212,30821,20930,12912,8878,9928,9891,16827,18197,21067,14311,8540,4099,12364,14217,3658,17806,11403,4580,10783,13959,15269,12646,11880,16113,14023,31,0,191,60,578,94,260,526,239,101,216,20,5,34,32,17,242,598,26,224,41,344,889,56,11,425,47,75,961,2100,2602,3855,2738,3241,267,4470,913,39,889,28,2033,551,137,152,321,83,1394,1420,4022,957,3222,1444,653,958,1677,2349,3317,5336,2652,1191,597,2358,698,1536,309,522,2669,1191,1968,1998,2974,151,3514,4912,3305,1664,3956,53,306,2423,1941,3231,528,3092,3529,1237,4779,3199,62,4541,3310,1832,693,2155,3498,5801,4811,2112,27,0,1179,45,997,690,1381,2572,1184,1770,3713,1313,3250,2208,1928,1640,905,3824,2111,2020,2549,823,1975,1426,3356,2541,2130,2190,4190,3160,1465,2657,0,18,4,69,132,66,251,12,9,9,324,366,408,21,437,325,400,184,630,838,2530,397,300,3035,3625,1481,5021,3424,502,101,720,3079,3771,1861,1090,412,532,6076,2835,1851,3370,1926,999,588,3293,2144,2551,3272,3910,1605,1210,3121,3699,5979,2824,2612,21,459,386,121,112,1010,929,415,510,36,277,270,176,256,120,108,96,26,3,189,74,97,0,28,44,150,60,58,177,253,28,738,106,466,343,58,1786,1587,53,248,339,53,224,209,24,2044,2018,79,1269,2326,211,3916,4309,1554,128,148,1170,29,127,83,12,1230,4933,3628,3104,2371,2538,1929,2727,22,1,12,65,1011,28790,4452,14708,26473,20256,20340,24125,24805,14669,33949,17141,151,16197,4602,18236,15339,18153,964,10811,8146,10567,9492,7307,8456,208,175,128,245,610,37,906,130,540,445,479,1451,673,3482,2840,1402,2848,1608,3563,1875,5176,3240,4064,4780,3201,1923,7801,9293,5886,4975,4826,2688,6734,4877,4311,6636,5141,6686,8601,7399,5213,8969,5183,7402,58312,81911,87758,45109,20720,1004,163,366,81,96,94,237,251,115,4,300,188,293,34,41,458,252,994,37,123,60,209,0,104,40710,57638,57082,61594,47149,57053,71771,49785,56107,46036,54824,46547,54002,54110,40532,57474,58115,60062,48520,505,4,34,285,1259,1516,972,1215,1572,1494,559,1257,1289,1729,522,1564,1972,1204,707,1237,2658,5754,3698,1915,4325,6707,859,1586,2179,4246,1062,1003,3602,3540,2369,793,2208,1741,945,1266,3031,3155,229,118,0,1115,530,503,74,717,493,44,1671,20629,23316,25809,26191,24699,29361,22881,19802,13607,15346,16210,19805,16575,3408,6366,1836,2,2153,3820,2698,2524,90,8,15,22,156,317,687,48,37,508,869,1661,577,118,664,12,3318,183,0,2371,605,689,2334,1,47,4664,5689,547,385,112,637,1257,521,1068,105,22,991,315,54,3636,6,6,8,360,4066,351,1214,719,894,1576,5506,1129,4239,2727,3124,3981,2752,2034,2772,703,370,5590,18545,15796,6694,8263,13570,16197,6411,21467,1370,3095,17430,9296,10801,11059,0,9,177,82,206,3,209,914,680,2521,158,28,9,810,255,4,21,5,24,5,333,4318,10448,32,25152,22564,29512,22889,25065,18,69,27244,35232,34512,24511,15510,36936,27706,23525,21630,0,392,40619,30023,28415,32020,27703,26273,41905,45711,29278,26285,43021,26366,29653,36199,15,44,23,558,406,2,817,1607,748,576,31,854,51,179,10,14,54,17,61,12,20,44,22,1790,54,79,1679,1123,666,463,2400,495,339,84,124,2243,1547,2198,4651,2865,1376,1534,1262,1280,748,521,3031,1651,2855,1542,2607,1280,2028,1806,1882,210,1203,380,14,117,2,590,131,11961,18222,16373,10241,11526,3633,20178,16985,10261,18582,22350,10035,8534,25406,33734,32357,6329,23022,9847,3289,28806,53495,39314,59045,81851,20414,8372,67376,74568,57374,41335,13,0,2102,3776,5775,4268,571,483,3081,5697,5950,4133,3125,1820,1517,2426,4084,1542,6940,4964,1107,614,7198,8192,7270,3635,73,22,199,41,88,2734,5770,4138,2830,1619,2304,1203,2488,3890,1542,3271,3394,2284,2018,4702,1721,4750,3784,84,30,45,222,306,467,14,10,8,7,140,250,26,0,93,37,1006,369,1555,2871,610,2509,1620,1931,1732,19,83,1091,1097,111,243,1351,513,3751,7828,4932,4508,5326,11230,6261,5633,5678,10056,7162,6415,11940,9419,13492,13510,5723,16639,17425,13354,5989,28720,136576,167032,161818,151686,158652,188211,149575,142643,109233,132598,115882,176223,152435,142610,165309,149619,111767,133305,134669,149496,155991,182738,131342,117638,151094,155007,134087,197352,236253,211698,150904,165355,183268,179575,152163,148061,0,0,5612,13730,9498,7951,18188,12071,10657,5886,13613,16394,17588,25878,22086,5666,8067,18884,18507,18472,944,657,657,949,1126,190,1651,1231,978,1142,211,369,583,1219,1843,324,451,555,1957,872,1054,2561,48,2162,2212,1247,630,0,69,5568,16485,11724,11552,3903,483,218,107,209,170,111,31,283,42,1284,96,2517,3421,2212,1263,24,2934,2331,4339,3924,2566,24,2,1040,2405,1011,1732,67,88,567,433,99,368,593,63,501,3190],\"type\":\"box\"}],                        {\"template\":{\"data\":{\"bar\":[{\"error_x\":{\"color\":\"#2a3f5f\"},\"error_y\":{\"color\":\"#2a3f5f\"},\"marker\":{\"line\":{\"color\":\"#E5ECF6\",\"width\":0.5},\"pattern\":{\"fillmode\":\"overlay\",\"size\":10,\"solidity\":0.2}},\"type\":\"bar\"}],\"barpolar\":[{\"marker\":{\"line\":{\"color\":\"#E5ECF6\",\"width\":0.5},\"pattern\":{\"fillmode\":\"overlay\",\"size\":10,\"solidity\":0.2}},\"type\":\"barpolar\"}],\"carpet\":[{\"aaxis\":{\"endlinecolor\":\"#2a3f5f\",\"gridcolor\":\"white\",\"linecolor\":\"white\",\"minorgridcolor\":\"white\",\"startlinecolor\":\"#2a3f5f\"},\"baxis\":{\"endlinecolor\":\"#2a3f5f\",\"gridcolor\":\"white\",\"linecolor\":\"white\",\"minorgridcolor\":\"white\",\"startlinecolor\":\"#2a3f5f\"},\"type\":\"carpet\"}],\"choropleth\":[{\"colorbar\":{\"outlinewidth\":0,\"ticks\":\"\"},\"type\":\"choropleth\"}],\"contour\":[{\"colorbar\":{\"outlinewidth\":0,\"ticks\":\"\"},\"colorscale\":[[0.0,\"#0d0887\"],[0.1111111111111111,\"#46039f\"],[0.2222222222222222,\"#7201a8\"],[0.3333333333333333,\"#9c179e\"],[0.4444444444444444,\"#bd3786\"],[0.5555555555555556,\"#d8576b\"],[0.6666666666666666,\"#ed7953\"],[0.7777777777777778,\"#fb9f3a\"],[0.8888888888888888,\"#fdca26\"],[1.0,\"#f0f921\"]],\"type\":\"contour\"}],\"contourcarpet\":[{\"colorbar\":{\"outlinewidth\":0,\"ticks\":\"\"},\"type\":\"contourcarpet\"}],\"heatmap\":[{\"colorbar\":{\"outlinewidth\":0,\"ticks\":\"\"},\"colorscale\":[[0.0,\"#0d0887\"],[0.1111111111111111,\"#46039f\"],[0.2222222222222222,\"#7201a8\"],[0.3333333333333333,\"#9c179e\"],[0.4444444444444444,\"#bd3786\"],[0.5555555555555556,\"#d8576b\"],[0.6666666666666666,\"#ed7953\"],[0.7777777777777778,\"#fb9f3a\"],[0.8888888888888888,\"#fdca26\"],[1.0,\"#f0f921\"]],\"type\":\"heatmap\"}],\"heatmapgl\":[{\"colorbar\":{\"outlinewidth\":0,\"ticks\":\"\"},\"colorscale\":[[0.0,\"#0d0887\"],[0.1111111111111111,\"#46039f\"],[0.2222222222222222,\"#7201a8\"],[0.3333333333333333,\"#9c179e\"],[0.4444444444444444,\"#bd3786\"],[0.5555555555555556,\"#d8576b\"],[0.6666666666666666,\"#ed7953\"],[0.7777777777777778,\"#fb9f3a\"],[0.8888888888888888,\"#fdca26\"],[1.0,\"#f0f921\"]],\"type\":\"heatmapgl\"}],\"histogram\":[{\"marker\":{\"pattern\":{\"fillmode\":\"overlay\",\"size\":10,\"solidity\":0.2}},\"type\":\"histogram\"}],\"histogram2d\":[{\"colorbar\":{\"outlinewidth\":0,\"ticks\":\"\"},\"colorscale\":[[0.0,\"#0d0887\"],[0.1111111111111111,\"#46039f\"],[0.2222222222222222,\"#7201a8\"],[0.3333333333333333,\"#9c179e\"],[0.4444444444444444,\"#bd3786\"],[0.5555555555555556,\"#d8576b\"],[0.6666666666666666,\"#ed7953\"],[0.7777777777777778,\"#fb9f3a\"],[0.8888888888888888,\"#fdca26\"],[1.0,\"#f0f921\"]],\"type\":\"histogram2d\"}],\"histogram2dcontour\":[{\"colorbar\":{\"outlinewidth\":0,\"ticks\":\"\"},\"colorscale\":[[0.0,\"#0d0887\"],[0.1111111111111111,\"#46039f\"],[0.2222222222222222,\"#7201a8\"],[0.3333333333333333,\"#9c179e\"],[0.4444444444444444,\"#bd3786\"],[0.5555555555555556,\"#d8576b\"],[0.6666666666666666,\"#ed7953\"],[0.7777777777777778,\"#fb9f3a\"],[0.8888888888888888,\"#fdca26\"],[1.0,\"#f0f921\"]],\"type\":\"histogram2dcontour\"}],\"mesh3d\":[{\"colorbar\":{\"outlinewidth\":0,\"ticks\":\"\"},\"type\":\"mesh3d\"}],\"parcoords\":[{\"line\":{\"colorbar\":{\"outlinewidth\":0,\"ticks\":\"\"}},\"type\":\"parcoords\"}],\"pie\":[{\"automargin\":true,\"type\":\"pie\"}],\"scatter\":[{\"marker\":{\"colorbar\":{\"outlinewidth\":0,\"ticks\":\"\"}},\"type\":\"scatter\"}],\"scatter3d\":[{\"line\":{\"colorbar\":{\"outlinewidth\":0,\"ticks\":\"\"}},\"marker\":{\"colorbar\":{\"outlinewidth\":0,\"ticks\":\"\"}},\"type\":\"scatter3d\"}],\"scattercarpet\":[{\"marker\":{\"colorbar\":{\"outlinewidth\":0,\"ticks\":\"\"}},\"type\":\"scattercarpet\"}],\"scattergeo\":[{\"marker\":{\"colorbar\":{\"outlinewidth\":0,\"ticks\":\"\"}},\"type\":\"scattergeo\"}],\"scattergl\":[{\"marker\":{\"colorbar\":{\"outlinewidth\":0,\"ticks\":\"\"}},\"type\":\"scattergl\"}],\"scattermapbox\":[{\"marker\":{\"colorbar\":{\"outlinewidth\":0,\"ticks\":\"\"}},\"type\":\"scattermapbox\"}],\"scatterpolar\":[{\"marker\":{\"colorbar\":{\"outlinewidth\":0,\"ticks\":\"\"}},\"type\":\"scatterpolar\"}],\"scatterpolargl\":[{\"marker\":{\"colorbar\":{\"outlinewidth\":0,\"ticks\":\"\"}},\"type\":\"scatterpolargl\"}],\"scatterternary\":[{\"marker\":{\"colorbar\":{\"outlinewidth\":0,\"ticks\":\"\"}},\"type\":\"scatterternary\"}],\"surface\":[{\"colorbar\":{\"outlinewidth\":0,\"ticks\":\"\"},\"colorscale\":[[0.0,\"#0d0887\"],[0.1111111111111111,\"#46039f\"],[0.2222222222222222,\"#7201a8\"],[0.3333333333333333,\"#9c179e\"],[0.4444444444444444,\"#bd3786\"],[0.5555555555555556,\"#d8576b\"],[0.6666666666666666,\"#ed7953\"],[0.7777777777777778,\"#fb9f3a\"],[0.8888888888888888,\"#fdca26\"],[1.0,\"#f0f921\"]],\"type\":\"surface\"}],\"table\":[{\"cells\":{\"fill\":{\"color\":\"#EBF0F8\"},\"line\":{\"color\":\"white\"}},\"header\":{\"fill\":{\"color\":\"#C8D4E3\"},\"line\":{\"color\":\"white\"}},\"type\":\"table\"}]},\"layout\":{\"annotationdefaults\":{\"arrowcolor\":\"#2a3f5f\",\"arrowhead\":0,\"arrowwidth\":1},\"autotypenumbers\":\"strict\",\"coloraxis\":{\"colorbar\":{\"outlinewidth\":0,\"ticks\":\"\"}},\"colorscale\":{\"diverging\":[[0,\"#8e0152\"],[0.1,\"#c51b7d\"],[0.2,\"#de77ae\"],[0.3,\"#f1b6da\"],[0.4,\"#fde0ef\"],[0.5,\"#f7f7f7\"],[0.6,\"#e6f5d0\"],[0.7,\"#b8e186\"],[0.8,\"#7fbc41\"],[0.9,\"#4d9221\"],[1,\"#276419\"]],\"sequential\":[[0.0,\"#0d0887\"],[0.1111111111111111,\"#46039f\"],[0.2222222222222222,\"#7201a8\"],[0.3333333333333333,\"#9c179e\"],[0.4444444444444444,\"#bd3786\"],[0.5555555555555556,\"#d8576b\"],[0.6666666666666666,\"#ed7953\"],[0.7777777777777778,\"#fb9f3a\"],[0.8888888888888888,\"#fdca26\"],[1.0,\"#f0f921\"]],\"sequentialminus\":[[0.0,\"#0d0887\"],[0.1111111111111111,\"#46039f\"],[0.2222222222222222,\"#7201a8\"],[0.3333333333333333,\"#9c179e\"],[0.4444444444444444,\"#bd3786\"],[0.5555555555555556,\"#d8576b\"],[0.6666666666666666,\"#ed7953\"],[0.7777777777777778,\"#fb9f3a\"],[0.8888888888888888,\"#fdca26\"],[1.0,\"#f0f921\"]]},\"colorway\":[\"#636efa\",\"#EF553B\",\"#00cc96\",\"#ab63fa\",\"#FFA15A\",\"#19d3f3\",\"#FF6692\",\"#B6E880\",\"#FF97FF\",\"#FECB52\"],\"font\":{\"color\":\"#2a3f5f\"},\"geo\":{\"bgcolor\":\"white\",\"lakecolor\":\"white\",\"landcolor\":\"#E5ECF6\",\"showlakes\":true,\"showland\":true,\"subunitcolor\":\"white\"},\"hoverlabel\":{\"align\":\"left\"},\"hovermode\":\"closest\",\"mapbox\":{\"style\":\"light\"},\"paper_bgcolor\":\"white\",\"plot_bgcolor\":\"#E5ECF6\",\"polar\":{\"angularaxis\":{\"gridcolor\":\"white\",\"linecolor\":\"white\",\"ticks\":\"\"},\"bgcolor\":\"#E5ECF6\",\"radialaxis\":{\"gridcolor\":\"white\",\"linecolor\":\"white\",\"ticks\":\"\"}},\"scene\":{\"xaxis\":{\"backgroundcolor\":\"#E5ECF6\",\"gridcolor\":\"white\",\"gridwidth\":2,\"linecolor\":\"white\",\"showbackground\":true,\"ticks\":\"\",\"zerolinecolor\":\"white\"},\"yaxis\":{\"backgroundcolor\":\"#E5ECF6\",\"gridcolor\":\"white\",\"gridwidth\":2,\"linecolor\":\"white\",\"showbackground\":true,\"ticks\":\"\",\"zerolinecolor\":\"white\"},\"zaxis\":{\"backgroundcolor\":\"#E5ECF6\",\"gridcolor\":\"white\",\"gridwidth\":2,\"linecolor\":\"white\",\"showbackground\":true,\"ticks\":\"\",\"zerolinecolor\":\"white\"}},\"shapedefaults\":{\"line\":{\"color\":\"#2a3f5f\"}},\"ternary\":{\"aaxis\":{\"gridcolor\":\"white\",\"linecolor\":\"white\",\"ticks\":\"\"},\"baxis\":{\"gridcolor\":\"white\",\"linecolor\":\"white\",\"ticks\":\"\"},\"bgcolor\":\"#E5ECF6\",\"caxis\":{\"gridcolor\":\"white\",\"linecolor\":\"white\",\"ticks\":\"\"}},\"title\":{\"x\":0.05},\"xaxis\":{\"automargin\":true,\"gridcolor\":\"white\",\"linecolor\":\"white\",\"ticks\":\"\",\"title\":{\"standoff\":15},\"zerolinecolor\":\"white\",\"zerolinewidth\":2},\"yaxis\":{\"automargin\":true,\"gridcolor\":\"white\",\"linecolor\":\"white\",\"ticks\":\"\",\"title\":{\"standoff\":15},\"zerolinecolor\":\"white\",\"zerolinewidth\":2}}},\"yaxis\":{\"range\":[0,8000],\"title\":{\"text\":\"\\u041a\\u043e\\u043b\\u0438\\u0447\\u0435\\u0441\\u0442\\u0432\\u043e\"}},\"title\":{\"text\":\"\\u0420\\u0430\\u0441\\u043f\\u0440\\u0435\\u0434\\u0435\\u043b\\u0435\\u043d\\u0438\\u0435 \\u0434\\u043b\\u0438\\u0442\\u0435\\u043b\\u044c\\u043d\\u043e\\u0441\\u0442\\u0438 \\u0437\\u0432\\u043e\\u043d\\u043a\\u043e\\u0432 \\u0432 \\u043c\\u0438\\u043d\\u0443\\u0442\\u0430\\u0445, \\u043a\\u043b\\u0438\\u0435\\u043d\\u0442/\\u0434\\u0435\\u043d\\u044c\",\"x\":0.5},\"xaxis\":{\"title\":{\"text\":\"\\u0417\\u0432\\u043e\\u043d\\u043a\\u0438\"}}},                        {\"responsive\": true}                    ).then(function(){\n",
       "                            \n",
       "var gd = document.getElementById('6326a2df-b307-483f-a02a-b75a8de273ad');\n",
       "var x = new MutationObserver(function (mutations, observer) {{\n",
       "        var display = window.getComputedStyle(gd).display;\n",
       "        if (!display || display === 'none') {{\n",
       "            console.log([gd, 'removed!']);\n",
       "            Plotly.purge(gd);\n",
       "            observer.disconnect();\n",
       "        }}\n",
       "}});\n",
       "\n",
       "// Listen for the removal of the full notebook cells\n",
       "var notebookContainer = gd.closest('#notebook-container');\n",
       "if (notebookContainer) {{\n",
       "    x.observe(notebookContainer, {childList: true});\n",
       "}}\n",
       "\n",
       "// Listen for the clearing of the current output cell\n",
       "var outputEl = gd.closest('.output');\n",
       "if (outputEl) {{\n",
       "    x.observe(outputEl, {childList: true});\n",
       "}}\n",
       "\n",
       "                        })                };                });            </script>        </div>"
      ]
     },
     "metadata": {},
     "output_type": "display_data"
    }
   ],
   "source": [
    "telecom_db_duration = telecom_db.query('direction == \"out\"')\n",
    "duration = telecom_db_duration.groupby(['user_id', 'date'])['total_call_duration'].sum().to_frame()\n",
    "fig = go.Figure()\n",
    "fig.add_trace(go.Box(y=duration['total_call_duration'], name='value'))\n",
    "fig.update_yaxes(range=[0, 8000])\n",
    "fig.update_layout(\n",
    "    title=\"Распределение длительности звонков в минутах, клиент/день\",\n",
    "    xaxis_title=\"Звонки\",\n",
    "    yaxis_title=\"Количество\",\n",
    "    title_x = 0.5\n",
    ")\n",
    "fig.show()"
   ]
  },
  {
   "cell_type": "code",
   "execution_count": 369,
   "metadata": {},
   "outputs": [
    {
     "data": {
      "text/plain": [
       "count     47142.000000\n",
       "mean       1135.654830\n",
       "std        4333.673755\n",
       "min           0.000000\n",
       "25%          47.000000\n",
       "50%         211.000000\n",
       "75%         902.000000\n",
       "max      166155.000000\n",
       "Name: total_call_duration, dtype: float64"
      ]
     },
     "execution_count": 369,
     "metadata": {},
     "output_type": "execute_result"
    }
   ],
   "source": [
    "telecom_db['total_call_duration'].describe()"
   ]
  },
  {
   "cell_type": "markdown",
   "metadata": {},
   "source": [
    "Чаще всего общая длительность исходящих звонков в день находится в диапазоне от 306 до 3778 минут. На 1% клиентов приходится длительность исходящих вызовов более 166193 минут в день"
   ]
  },
  {
   "cell_type": "markdown",
   "metadata": {},
   "source": [
    "### Среднее количество звонков по месяцам"
   ]
  },
  {
   "cell_type": "code",
   "execution_count": 370,
   "metadata": {},
   "outputs": [
    {
     "data": {
      "application/vnd.plotly.v1+json": {
       "config": {
        "plotlyServerURL": "https://plot.ly"
       },
       "data": [
        {
         "hovertemplate": "month=%{x}<br>calls_count=%{y}<extra></extra>",
         "legendgroup": "",
         "line": {
          "color": "#636efa",
          "dash": "solid"
         },
         "marker": {
          "symbol": "circle"
         },
         "mode": "lines",
         "name": "",
         "orientation": "v",
         "showlegend": false,
         "type": "scatter",
         "x": [
          "9",
          "10",
          "11"
         ],
         "xaxis": "x",
         "y": [
          24.79108691268401,
          23.611949186184994,
          16.68977025768395
         ],
         "yaxis": "y"
        }
       ],
       "layout": {
        "legend": {
         "tracegroupgap": 0
        },
        "template": {
         "data": {
          "bar": [
           {
            "error_x": {
             "color": "#2a3f5f"
            },
            "error_y": {
             "color": "#2a3f5f"
            },
            "marker": {
             "line": {
              "color": "#E5ECF6",
              "width": 0.5
             },
             "pattern": {
              "fillmode": "overlay",
              "size": 10,
              "solidity": 0.2
             }
            },
            "type": "bar"
           }
          ],
          "barpolar": [
           {
            "marker": {
             "line": {
              "color": "#E5ECF6",
              "width": 0.5
             },
             "pattern": {
              "fillmode": "overlay",
              "size": 10,
              "solidity": 0.2
             }
            },
            "type": "barpolar"
           }
          ],
          "carpet": [
           {
            "aaxis": {
             "endlinecolor": "#2a3f5f",
             "gridcolor": "white",
             "linecolor": "white",
             "minorgridcolor": "white",
             "startlinecolor": "#2a3f5f"
            },
            "baxis": {
             "endlinecolor": "#2a3f5f",
             "gridcolor": "white",
             "linecolor": "white",
             "minorgridcolor": "white",
             "startlinecolor": "#2a3f5f"
            },
            "type": "carpet"
           }
          ],
          "choropleth": [
           {
            "colorbar": {
             "outlinewidth": 0,
             "ticks": ""
            },
            "type": "choropleth"
           }
          ],
          "contour": [
           {
            "colorbar": {
             "outlinewidth": 0,
             "ticks": ""
            },
            "colorscale": [
             [
              0,
              "#0d0887"
             ],
             [
              0.1111111111111111,
              "#46039f"
             ],
             [
              0.2222222222222222,
              "#7201a8"
             ],
             [
              0.3333333333333333,
              "#9c179e"
             ],
             [
              0.4444444444444444,
              "#bd3786"
             ],
             [
              0.5555555555555556,
              "#d8576b"
             ],
             [
              0.6666666666666666,
              "#ed7953"
             ],
             [
              0.7777777777777778,
              "#fb9f3a"
             ],
             [
              0.8888888888888888,
              "#fdca26"
             ],
             [
              1,
              "#f0f921"
             ]
            ],
            "type": "contour"
           }
          ],
          "contourcarpet": [
           {
            "colorbar": {
             "outlinewidth": 0,
             "ticks": ""
            },
            "type": "contourcarpet"
           }
          ],
          "heatmap": [
           {
            "colorbar": {
             "outlinewidth": 0,
             "ticks": ""
            },
            "colorscale": [
             [
              0,
              "#0d0887"
             ],
             [
              0.1111111111111111,
              "#46039f"
             ],
             [
              0.2222222222222222,
              "#7201a8"
             ],
             [
              0.3333333333333333,
              "#9c179e"
             ],
             [
              0.4444444444444444,
              "#bd3786"
             ],
             [
              0.5555555555555556,
              "#d8576b"
             ],
             [
              0.6666666666666666,
              "#ed7953"
             ],
             [
              0.7777777777777778,
              "#fb9f3a"
             ],
             [
              0.8888888888888888,
              "#fdca26"
             ],
             [
              1,
              "#f0f921"
             ]
            ],
            "type": "heatmap"
           }
          ],
          "heatmapgl": [
           {
            "colorbar": {
             "outlinewidth": 0,
             "ticks": ""
            },
            "colorscale": [
             [
              0,
              "#0d0887"
             ],
             [
              0.1111111111111111,
              "#46039f"
             ],
             [
              0.2222222222222222,
              "#7201a8"
             ],
             [
              0.3333333333333333,
              "#9c179e"
             ],
             [
              0.4444444444444444,
              "#bd3786"
             ],
             [
              0.5555555555555556,
              "#d8576b"
             ],
             [
              0.6666666666666666,
              "#ed7953"
             ],
             [
              0.7777777777777778,
              "#fb9f3a"
             ],
             [
              0.8888888888888888,
              "#fdca26"
             ],
             [
              1,
              "#f0f921"
             ]
            ],
            "type": "heatmapgl"
           }
          ],
          "histogram": [
           {
            "marker": {
             "pattern": {
              "fillmode": "overlay",
              "size": 10,
              "solidity": 0.2
             }
            },
            "type": "histogram"
           }
          ],
          "histogram2d": [
           {
            "colorbar": {
             "outlinewidth": 0,
             "ticks": ""
            },
            "colorscale": [
             [
              0,
              "#0d0887"
             ],
             [
              0.1111111111111111,
              "#46039f"
             ],
             [
              0.2222222222222222,
              "#7201a8"
             ],
             [
              0.3333333333333333,
              "#9c179e"
             ],
             [
              0.4444444444444444,
              "#bd3786"
             ],
             [
              0.5555555555555556,
              "#d8576b"
             ],
             [
              0.6666666666666666,
              "#ed7953"
             ],
             [
              0.7777777777777778,
              "#fb9f3a"
             ],
             [
              0.8888888888888888,
              "#fdca26"
             ],
             [
              1,
              "#f0f921"
             ]
            ],
            "type": "histogram2d"
           }
          ],
          "histogram2dcontour": [
           {
            "colorbar": {
             "outlinewidth": 0,
             "ticks": ""
            },
            "colorscale": [
             [
              0,
              "#0d0887"
             ],
             [
              0.1111111111111111,
              "#46039f"
             ],
             [
              0.2222222222222222,
              "#7201a8"
             ],
             [
              0.3333333333333333,
              "#9c179e"
             ],
             [
              0.4444444444444444,
              "#bd3786"
             ],
             [
              0.5555555555555556,
              "#d8576b"
             ],
             [
              0.6666666666666666,
              "#ed7953"
             ],
             [
              0.7777777777777778,
              "#fb9f3a"
             ],
             [
              0.8888888888888888,
              "#fdca26"
             ],
             [
              1,
              "#f0f921"
             ]
            ],
            "type": "histogram2dcontour"
           }
          ],
          "mesh3d": [
           {
            "colorbar": {
             "outlinewidth": 0,
             "ticks": ""
            },
            "type": "mesh3d"
           }
          ],
          "parcoords": [
           {
            "line": {
             "colorbar": {
              "outlinewidth": 0,
              "ticks": ""
             }
            },
            "type": "parcoords"
           }
          ],
          "pie": [
           {
            "automargin": true,
            "type": "pie"
           }
          ],
          "scatter": [
           {
            "marker": {
             "colorbar": {
              "outlinewidth": 0,
              "ticks": ""
             }
            },
            "type": "scatter"
           }
          ],
          "scatter3d": [
           {
            "line": {
             "colorbar": {
              "outlinewidth": 0,
              "ticks": ""
             }
            },
            "marker": {
             "colorbar": {
              "outlinewidth": 0,
              "ticks": ""
             }
            },
            "type": "scatter3d"
           }
          ],
          "scattercarpet": [
           {
            "marker": {
             "colorbar": {
              "outlinewidth": 0,
              "ticks": ""
             }
            },
            "type": "scattercarpet"
           }
          ],
          "scattergeo": [
           {
            "marker": {
             "colorbar": {
              "outlinewidth": 0,
              "ticks": ""
             }
            },
            "type": "scattergeo"
           }
          ],
          "scattergl": [
           {
            "marker": {
             "colorbar": {
              "outlinewidth": 0,
              "ticks": ""
             }
            },
            "type": "scattergl"
           }
          ],
          "scattermapbox": [
           {
            "marker": {
             "colorbar": {
              "outlinewidth": 0,
              "ticks": ""
             }
            },
            "type": "scattermapbox"
           }
          ],
          "scatterpolar": [
           {
            "marker": {
             "colorbar": {
              "outlinewidth": 0,
              "ticks": ""
             }
            },
            "type": "scatterpolar"
           }
          ],
          "scatterpolargl": [
           {
            "marker": {
             "colorbar": {
              "outlinewidth": 0,
              "ticks": ""
             }
            },
            "type": "scatterpolargl"
           }
          ],
          "scatterternary": [
           {
            "marker": {
             "colorbar": {
              "outlinewidth": 0,
              "ticks": ""
             }
            },
            "type": "scatterternary"
           }
          ],
          "surface": [
           {
            "colorbar": {
             "outlinewidth": 0,
             "ticks": ""
            },
            "colorscale": [
             [
              0,
              "#0d0887"
             ],
             [
              0.1111111111111111,
              "#46039f"
             ],
             [
              0.2222222222222222,
              "#7201a8"
             ],
             [
              0.3333333333333333,
              "#9c179e"
             ],
             [
              0.4444444444444444,
              "#bd3786"
             ],
             [
              0.5555555555555556,
              "#d8576b"
             ],
             [
              0.6666666666666666,
              "#ed7953"
             ],
             [
              0.7777777777777778,
              "#fb9f3a"
             ],
             [
              0.8888888888888888,
              "#fdca26"
             ],
             [
              1,
              "#f0f921"
             ]
            ],
            "type": "surface"
           }
          ],
          "table": [
           {
            "cells": {
             "fill": {
              "color": "#EBF0F8"
             },
             "line": {
              "color": "white"
             }
            },
            "header": {
             "fill": {
              "color": "#C8D4E3"
             },
             "line": {
              "color": "white"
             }
            },
            "type": "table"
           }
          ]
         },
         "layout": {
          "annotationdefaults": {
           "arrowcolor": "#2a3f5f",
           "arrowhead": 0,
           "arrowwidth": 1
          },
          "autotypenumbers": "strict",
          "coloraxis": {
           "colorbar": {
            "outlinewidth": 0,
            "ticks": ""
           }
          },
          "colorscale": {
           "diverging": [
            [
             0,
             "#8e0152"
            ],
            [
             0.1,
             "#c51b7d"
            ],
            [
             0.2,
             "#de77ae"
            ],
            [
             0.3,
             "#f1b6da"
            ],
            [
             0.4,
             "#fde0ef"
            ],
            [
             0.5,
             "#f7f7f7"
            ],
            [
             0.6,
             "#e6f5d0"
            ],
            [
             0.7,
             "#b8e186"
            ],
            [
             0.8,
             "#7fbc41"
            ],
            [
             0.9,
             "#4d9221"
            ],
            [
             1,
             "#276419"
            ]
           ],
           "sequential": [
            [
             0,
             "#0d0887"
            ],
            [
             0.1111111111111111,
             "#46039f"
            ],
            [
             0.2222222222222222,
             "#7201a8"
            ],
            [
             0.3333333333333333,
             "#9c179e"
            ],
            [
             0.4444444444444444,
             "#bd3786"
            ],
            [
             0.5555555555555556,
             "#d8576b"
            ],
            [
             0.6666666666666666,
             "#ed7953"
            ],
            [
             0.7777777777777778,
             "#fb9f3a"
            ],
            [
             0.8888888888888888,
             "#fdca26"
            ],
            [
             1,
             "#f0f921"
            ]
           ],
           "sequentialminus": [
            [
             0,
             "#0d0887"
            ],
            [
             0.1111111111111111,
             "#46039f"
            ],
            [
             0.2222222222222222,
             "#7201a8"
            ],
            [
             0.3333333333333333,
             "#9c179e"
            ],
            [
             0.4444444444444444,
             "#bd3786"
            ],
            [
             0.5555555555555556,
             "#d8576b"
            ],
            [
             0.6666666666666666,
             "#ed7953"
            ],
            [
             0.7777777777777778,
             "#fb9f3a"
            ],
            [
             0.8888888888888888,
             "#fdca26"
            ],
            [
             1,
             "#f0f921"
            ]
           ]
          },
          "colorway": [
           "#636efa",
           "#EF553B",
           "#00cc96",
           "#ab63fa",
           "#FFA15A",
           "#19d3f3",
           "#FF6692",
           "#B6E880",
           "#FF97FF",
           "#FECB52"
          ],
          "font": {
           "color": "#2a3f5f"
          },
          "geo": {
           "bgcolor": "white",
           "lakecolor": "white",
           "landcolor": "#E5ECF6",
           "showlakes": true,
           "showland": true,
           "subunitcolor": "white"
          },
          "hoverlabel": {
           "align": "left"
          },
          "hovermode": "closest",
          "mapbox": {
           "style": "light"
          },
          "paper_bgcolor": "white",
          "plot_bgcolor": "#E5ECF6",
          "polar": {
           "angularaxis": {
            "gridcolor": "white",
            "linecolor": "white",
            "ticks": ""
           },
           "bgcolor": "#E5ECF6",
           "radialaxis": {
            "gridcolor": "white",
            "linecolor": "white",
            "ticks": ""
           }
          },
          "scene": {
           "xaxis": {
            "backgroundcolor": "#E5ECF6",
            "gridcolor": "white",
            "gridwidth": 2,
            "linecolor": "white",
            "showbackground": true,
            "ticks": "",
            "zerolinecolor": "white"
           },
           "yaxis": {
            "backgroundcolor": "#E5ECF6",
            "gridcolor": "white",
            "gridwidth": 2,
            "linecolor": "white",
            "showbackground": true,
            "ticks": "",
            "zerolinecolor": "white"
           },
           "zaxis": {
            "backgroundcolor": "#E5ECF6",
            "gridcolor": "white",
            "gridwidth": 2,
            "linecolor": "white",
            "showbackground": true,
            "ticks": "",
            "zerolinecolor": "white"
           }
          },
          "shapedefaults": {
           "line": {
            "color": "#2a3f5f"
           }
          },
          "ternary": {
           "aaxis": {
            "gridcolor": "white",
            "linecolor": "white",
            "ticks": ""
           },
           "baxis": {
            "gridcolor": "white",
            "linecolor": "white",
            "ticks": ""
           },
           "bgcolor": "#E5ECF6",
           "caxis": {
            "gridcolor": "white",
            "linecolor": "white",
            "ticks": ""
           }
          },
          "title": {
           "x": 0.05
          },
          "xaxis": {
           "automargin": true,
           "gridcolor": "white",
           "linecolor": "white",
           "ticks": "",
           "title": {
            "standoff": 15
           },
           "zerolinecolor": "white",
           "zerolinewidth": 2
          },
          "yaxis": {
           "automargin": true,
           "gridcolor": "white",
           "linecolor": "white",
           "ticks": "",
           "title": {
            "standoff": 15
           },
           "zerolinecolor": "white",
           "zerolinewidth": 2
          }
         }
        },
        "title": {
         "text": "Среднее количество исходящих звонков в день по месяцам",
         "x": 0.5
        },
        "xaxis": {
         "anchor": "y",
         "domain": [
          0,
          1
         ],
         "title": {
          "text": "Месяц"
         }
        },
        "yaxis": {
         "anchor": "x",
         "domain": [
          0,
          1
         ],
         "title": {
          "text": "Среднее количество звонков"
         }
        }
       }
      },
      "text/html": [
       "<div>                            <div id=\"e35b088f-26f2-4b66-b943-765e572cad80\" class=\"plotly-graph-div\" style=\"height:525px; width:100%;\"></div>            <script type=\"text/javascript\">                require([\"plotly\"], function(Plotly) {                    window.PLOTLYENV=window.PLOTLYENV || {};                                    if (document.getElementById(\"e35b088f-26f2-4b66-b943-765e572cad80\")) {                    Plotly.newPlot(                        \"e35b088f-26f2-4b66-b943-765e572cad80\",                        [{\"hovertemplate\":\"month=%{x}<br>calls_count=%{y}<extra></extra>\",\"legendgroup\":\"\",\"line\":{\"color\":\"#636efa\",\"dash\":\"solid\"},\"marker\":{\"symbol\":\"circle\"},\"mode\":\"lines\",\"name\":\"\",\"orientation\":\"v\",\"showlegend\":false,\"x\":[\"9\",\"10\",\"11\"],\"xaxis\":\"x\",\"y\":[24.79108691268401,23.611949186184994,16.68977025768395],\"yaxis\":\"y\",\"type\":\"scatter\"}],                        {\"template\":{\"data\":{\"bar\":[{\"error_x\":{\"color\":\"#2a3f5f\"},\"error_y\":{\"color\":\"#2a3f5f\"},\"marker\":{\"line\":{\"color\":\"#E5ECF6\",\"width\":0.5},\"pattern\":{\"fillmode\":\"overlay\",\"size\":10,\"solidity\":0.2}},\"type\":\"bar\"}],\"barpolar\":[{\"marker\":{\"line\":{\"color\":\"#E5ECF6\",\"width\":0.5},\"pattern\":{\"fillmode\":\"overlay\",\"size\":10,\"solidity\":0.2}},\"type\":\"barpolar\"}],\"carpet\":[{\"aaxis\":{\"endlinecolor\":\"#2a3f5f\",\"gridcolor\":\"white\",\"linecolor\":\"white\",\"minorgridcolor\":\"white\",\"startlinecolor\":\"#2a3f5f\"},\"baxis\":{\"endlinecolor\":\"#2a3f5f\",\"gridcolor\":\"white\",\"linecolor\":\"white\",\"minorgridcolor\":\"white\",\"startlinecolor\":\"#2a3f5f\"},\"type\":\"carpet\"}],\"choropleth\":[{\"colorbar\":{\"outlinewidth\":0,\"ticks\":\"\"},\"type\":\"choropleth\"}],\"contour\":[{\"colorbar\":{\"outlinewidth\":0,\"ticks\":\"\"},\"colorscale\":[[0.0,\"#0d0887\"],[0.1111111111111111,\"#46039f\"],[0.2222222222222222,\"#7201a8\"],[0.3333333333333333,\"#9c179e\"],[0.4444444444444444,\"#bd3786\"],[0.5555555555555556,\"#d8576b\"],[0.6666666666666666,\"#ed7953\"],[0.7777777777777778,\"#fb9f3a\"],[0.8888888888888888,\"#fdca26\"],[1.0,\"#f0f921\"]],\"type\":\"contour\"}],\"contourcarpet\":[{\"colorbar\":{\"outlinewidth\":0,\"ticks\":\"\"},\"type\":\"contourcarpet\"}],\"heatmap\":[{\"colorbar\":{\"outlinewidth\":0,\"ticks\":\"\"},\"colorscale\":[[0.0,\"#0d0887\"],[0.1111111111111111,\"#46039f\"],[0.2222222222222222,\"#7201a8\"],[0.3333333333333333,\"#9c179e\"],[0.4444444444444444,\"#bd3786\"],[0.5555555555555556,\"#d8576b\"],[0.6666666666666666,\"#ed7953\"],[0.7777777777777778,\"#fb9f3a\"],[0.8888888888888888,\"#fdca26\"],[1.0,\"#f0f921\"]],\"type\":\"heatmap\"}],\"heatmapgl\":[{\"colorbar\":{\"outlinewidth\":0,\"ticks\":\"\"},\"colorscale\":[[0.0,\"#0d0887\"],[0.1111111111111111,\"#46039f\"],[0.2222222222222222,\"#7201a8\"],[0.3333333333333333,\"#9c179e\"],[0.4444444444444444,\"#bd3786\"],[0.5555555555555556,\"#d8576b\"],[0.6666666666666666,\"#ed7953\"],[0.7777777777777778,\"#fb9f3a\"],[0.8888888888888888,\"#fdca26\"],[1.0,\"#f0f921\"]],\"type\":\"heatmapgl\"}],\"histogram\":[{\"marker\":{\"pattern\":{\"fillmode\":\"overlay\",\"size\":10,\"solidity\":0.2}},\"type\":\"histogram\"}],\"histogram2d\":[{\"colorbar\":{\"outlinewidth\":0,\"ticks\":\"\"},\"colorscale\":[[0.0,\"#0d0887\"],[0.1111111111111111,\"#46039f\"],[0.2222222222222222,\"#7201a8\"],[0.3333333333333333,\"#9c179e\"],[0.4444444444444444,\"#bd3786\"],[0.5555555555555556,\"#d8576b\"],[0.6666666666666666,\"#ed7953\"],[0.7777777777777778,\"#fb9f3a\"],[0.8888888888888888,\"#fdca26\"],[1.0,\"#f0f921\"]],\"type\":\"histogram2d\"}],\"histogram2dcontour\":[{\"colorbar\":{\"outlinewidth\":0,\"ticks\":\"\"},\"colorscale\":[[0.0,\"#0d0887\"],[0.1111111111111111,\"#46039f\"],[0.2222222222222222,\"#7201a8\"],[0.3333333333333333,\"#9c179e\"],[0.4444444444444444,\"#bd3786\"],[0.5555555555555556,\"#d8576b\"],[0.6666666666666666,\"#ed7953\"],[0.7777777777777778,\"#fb9f3a\"],[0.8888888888888888,\"#fdca26\"],[1.0,\"#f0f921\"]],\"type\":\"histogram2dcontour\"}],\"mesh3d\":[{\"colorbar\":{\"outlinewidth\":0,\"ticks\":\"\"},\"type\":\"mesh3d\"}],\"parcoords\":[{\"line\":{\"colorbar\":{\"outlinewidth\":0,\"ticks\":\"\"}},\"type\":\"parcoords\"}],\"pie\":[{\"automargin\":true,\"type\":\"pie\"}],\"scatter\":[{\"marker\":{\"colorbar\":{\"outlinewidth\":0,\"ticks\":\"\"}},\"type\":\"scatter\"}],\"scatter3d\":[{\"line\":{\"colorbar\":{\"outlinewidth\":0,\"ticks\":\"\"}},\"marker\":{\"colorbar\":{\"outlinewidth\":0,\"ticks\":\"\"}},\"type\":\"scatter3d\"}],\"scattercarpet\":[{\"marker\":{\"colorbar\":{\"outlinewidth\":0,\"ticks\":\"\"}},\"type\":\"scattercarpet\"}],\"scattergeo\":[{\"marker\":{\"colorbar\":{\"outlinewidth\":0,\"ticks\":\"\"}},\"type\":\"scattergeo\"}],\"scattergl\":[{\"marker\":{\"colorbar\":{\"outlinewidth\":0,\"ticks\":\"\"}},\"type\":\"scattergl\"}],\"scattermapbox\":[{\"marker\":{\"colorbar\":{\"outlinewidth\":0,\"ticks\":\"\"}},\"type\":\"scattermapbox\"}],\"scatterpolar\":[{\"marker\":{\"colorbar\":{\"outlinewidth\":0,\"ticks\":\"\"}},\"type\":\"scatterpolar\"}],\"scatterpolargl\":[{\"marker\":{\"colorbar\":{\"outlinewidth\":0,\"ticks\":\"\"}},\"type\":\"scatterpolargl\"}],\"scatterternary\":[{\"marker\":{\"colorbar\":{\"outlinewidth\":0,\"ticks\":\"\"}},\"type\":\"scatterternary\"}],\"surface\":[{\"colorbar\":{\"outlinewidth\":0,\"ticks\":\"\"},\"colorscale\":[[0.0,\"#0d0887\"],[0.1111111111111111,\"#46039f\"],[0.2222222222222222,\"#7201a8\"],[0.3333333333333333,\"#9c179e\"],[0.4444444444444444,\"#bd3786\"],[0.5555555555555556,\"#d8576b\"],[0.6666666666666666,\"#ed7953\"],[0.7777777777777778,\"#fb9f3a\"],[0.8888888888888888,\"#fdca26\"],[1.0,\"#f0f921\"]],\"type\":\"surface\"}],\"table\":[{\"cells\":{\"fill\":{\"color\":\"#EBF0F8\"},\"line\":{\"color\":\"white\"}},\"header\":{\"fill\":{\"color\":\"#C8D4E3\"},\"line\":{\"color\":\"white\"}},\"type\":\"table\"}]},\"layout\":{\"annotationdefaults\":{\"arrowcolor\":\"#2a3f5f\",\"arrowhead\":0,\"arrowwidth\":1},\"autotypenumbers\":\"strict\",\"coloraxis\":{\"colorbar\":{\"outlinewidth\":0,\"ticks\":\"\"}},\"colorscale\":{\"diverging\":[[0,\"#8e0152\"],[0.1,\"#c51b7d\"],[0.2,\"#de77ae\"],[0.3,\"#f1b6da\"],[0.4,\"#fde0ef\"],[0.5,\"#f7f7f7\"],[0.6,\"#e6f5d0\"],[0.7,\"#b8e186\"],[0.8,\"#7fbc41\"],[0.9,\"#4d9221\"],[1,\"#276419\"]],\"sequential\":[[0.0,\"#0d0887\"],[0.1111111111111111,\"#46039f\"],[0.2222222222222222,\"#7201a8\"],[0.3333333333333333,\"#9c179e\"],[0.4444444444444444,\"#bd3786\"],[0.5555555555555556,\"#d8576b\"],[0.6666666666666666,\"#ed7953\"],[0.7777777777777778,\"#fb9f3a\"],[0.8888888888888888,\"#fdca26\"],[1.0,\"#f0f921\"]],\"sequentialminus\":[[0.0,\"#0d0887\"],[0.1111111111111111,\"#46039f\"],[0.2222222222222222,\"#7201a8\"],[0.3333333333333333,\"#9c179e\"],[0.4444444444444444,\"#bd3786\"],[0.5555555555555556,\"#d8576b\"],[0.6666666666666666,\"#ed7953\"],[0.7777777777777778,\"#fb9f3a\"],[0.8888888888888888,\"#fdca26\"],[1.0,\"#f0f921\"]]},\"colorway\":[\"#636efa\",\"#EF553B\",\"#00cc96\",\"#ab63fa\",\"#FFA15A\",\"#19d3f3\",\"#FF6692\",\"#B6E880\",\"#FF97FF\",\"#FECB52\"],\"font\":{\"color\":\"#2a3f5f\"},\"geo\":{\"bgcolor\":\"white\",\"lakecolor\":\"white\",\"landcolor\":\"#E5ECF6\",\"showlakes\":true,\"showland\":true,\"subunitcolor\":\"white\"},\"hoverlabel\":{\"align\":\"left\"},\"hovermode\":\"closest\",\"mapbox\":{\"style\":\"light\"},\"paper_bgcolor\":\"white\",\"plot_bgcolor\":\"#E5ECF6\",\"polar\":{\"angularaxis\":{\"gridcolor\":\"white\",\"linecolor\":\"white\",\"ticks\":\"\"},\"bgcolor\":\"#E5ECF6\",\"radialaxis\":{\"gridcolor\":\"white\",\"linecolor\":\"white\",\"ticks\":\"\"}},\"scene\":{\"xaxis\":{\"backgroundcolor\":\"#E5ECF6\",\"gridcolor\":\"white\",\"gridwidth\":2,\"linecolor\":\"white\",\"showbackground\":true,\"ticks\":\"\",\"zerolinecolor\":\"white\"},\"yaxis\":{\"backgroundcolor\":\"#E5ECF6\",\"gridcolor\":\"white\",\"gridwidth\":2,\"linecolor\":\"white\",\"showbackground\":true,\"ticks\":\"\",\"zerolinecolor\":\"white\"},\"zaxis\":{\"backgroundcolor\":\"#E5ECF6\",\"gridcolor\":\"white\",\"gridwidth\":2,\"linecolor\":\"white\",\"showbackground\":true,\"ticks\":\"\",\"zerolinecolor\":\"white\"}},\"shapedefaults\":{\"line\":{\"color\":\"#2a3f5f\"}},\"ternary\":{\"aaxis\":{\"gridcolor\":\"white\",\"linecolor\":\"white\",\"ticks\":\"\"},\"baxis\":{\"gridcolor\":\"white\",\"linecolor\":\"white\",\"ticks\":\"\"},\"bgcolor\":\"#E5ECF6\",\"caxis\":{\"gridcolor\":\"white\",\"linecolor\":\"white\",\"ticks\":\"\"}},\"title\":{\"x\":0.05},\"xaxis\":{\"automargin\":true,\"gridcolor\":\"white\",\"linecolor\":\"white\",\"ticks\":\"\",\"title\":{\"standoff\":15},\"zerolinecolor\":\"white\",\"zerolinewidth\":2},\"yaxis\":{\"automargin\":true,\"gridcolor\":\"white\",\"linecolor\":\"white\",\"ticks\":\"\",\"title\":{\"standoff\":15},\"zerolinecolor\":\"white\",\"zerolinewidth\":2}}},\"xaxis\":{\"anchor\":\"y\",\"domain\":[0.0,1.0],\"title\":{\"text\":\"\\u041c\\u0435\\u0441\\u044f\\u0446\"}},\"yaxis\":{\"anchor\":\"x\",\"domain\":[0.0,1.0],\"title\":{\"text\":\"\\u0421\\u0440\\u0435\\u0434\\u043d\\u0435\\u0435 \\u043a\\u043e\\u043b\\u0438\\u0447\\u0435\\u0441\\u0442\\u0432\\u043e \\u0437\\u0432\\u043e\\u043d\\u043a\\u043e\\u0432\"}},\"legend\":{\"tracegroupgap\":0},\"title\":{\"text\":\"\\u0421\\u0440\\u0435\\u0434\\u043d\\u0435\\u0435 \\u043a\\u043e\\u043b\\u0438\\u0447\\u0435\\u0441\\u0442\\u0432\\u043e \\u0438\\u0441\\u0445\\u043e\\u0434\\u044f\\u0449\\u0438\\u0445 \\u0437\\u0432\\u043e\\u043d\\u043a\\u043e\\u0432 \\u0432 \\u0434\\u0435\\u043d\\u044c \\u043f\\u043e \\u043c\\u0435\\u0441\\u044f\\u0446\\u0430\\u043c\",\"x\":0.5}},                        {\"responsive\": true}                    ).then(function(){\n",
       "                            \n",
       "var gd = document.getElementById('e35b088f-26f2-4b66-b943-765e572cad80');\n",
       "var x = new MutationObserver(function (mutations, observer) {{\n",
       "        var display = window.getComputedStyle(gd).display;\n",
       "        if (!display || display === 'none') {{\n",
       "            console.log([gd, 'removed!']);\n",
       "            Plotly.purge(gd);\n",
       "            observer.disconnect();\n",
       "        }}\n",
       "}});\n",
       "\n",
       "// Listen for the removal of the full notebook cells\n",
       "var notebookContainer = gd.closest('#notebook-container');\n",
       "if (notebookContainer) {{\n",
       "    x.observe(notebookContainer, {childList: true});\n",
       "}}\n",
       "\n",
       "// Listen for the clearing of the current output cell\n",
       "var outputEl = gd.closest('.output');\n",
       "if (outputEl) {{\n",
       "    x.observe(outputEl, {childList: true});\n",
       "}}\n",
       "\n",
       "                        })                };                });            </script>        </div>"
      ]
     },
     "metadata": {},
     "output_type": "display_data"
    }
   ],
   "source": [
    "# Группировка данных по user_id для расчета общего количества звонков каждого клиента\n",
    "telecom_db_cnt = telecom_db.query('direction == \"out\"')\n",
    "\n",
    "# Группировка данных по месяцам для расчета среднего количества звонков\n",
    "monthly_avg_calls = telecom_db_cnt.groupby('month')['calls_count'].mean().reset_index()\n",
    "\n",
    "# Преобразование периода в строку для корректного отображения на графике\n",
    "monthly_avg_calls['month'] = monthly_avg_calls['month'].astype(str)\n",
    "\n",
    "# Построение интерактивного графика со средним количеством звонков по месяцам\n",
    "fig = px.line(monthly_avg_calls, x='month', y='calls_count', title='Среднее количество исходящих звонков в день по месяцам')\n",
    "fig.update_layout(\n",
    "    xaxis_title='Месяц',\n",
    "    yaxis_title='Среднее количество звонков',\n",
    "    title_x=0.5\n",
    ")\n",
    "fig.show()"
   ]
  },
  {
   "cell_type": "code",
   "execution_count": 371,
   "metadata": {},
   "outputs": [
    {
     "data": {
      "text/plain": [
       "count    47142.000000\n",
       "mean        16.319163\n",
       "std         63.639262\n",
       "min          1.000000\n",
       "25%          1.000000\n",
       "50%          4.000000\n",
       "75%         12.000000\n",
       "max       4817.000000\n",
       "Name: calls_count, dtype: float64"
      ]
     },
     "execution_count": 371,
     "metadata": {},
     "output_type": "execute_result"
    }
   ],
   "source": [
    "telecom_db['calls_count'].describe()"
   ]
  },
  {
   "cell_type": "markdown",
   "metadata": {},
   "source": [
    "Среднее количество исходящих звонков в день по месяцам равно 16, также по графику можно увидеть, что количество снижается, особенно спад виден в ноябре"
   ]
  },
  {
   "cell_type": "markdown",
   "metadata": {},
   "source": [
    "### Определим активных клиентов"
   ]
  },
  {
   "cell_type": "markdown",
   "metadata": {},
   "source": [
    "Для определения активных клиентов на основе количества звонков за ноябрь, где активными будут считаться те, кто совершил более 16 звонков"
   ]
  },
  {
   "cell_type": "code",
   "execution_count": 372,
   "metadata": {},
   "outputs": [
    {
     "name": "stdout",
     "output_type": "stream",
     "text": [
      "Количество активных пользователей: 197\n"
     ]
    }
   ],
   "source": [
    "# Фильтрация данных только за ноябрь\n",
    "november_data = telecom_db[(telecom_db['month'] == 11)]\n",
    "\n",
    "# Группировка данных по user_id для расчета количества звонков в ноябре\n",
    "calls_per_user_november = november_data.groupby('user_id')['calls_count'].sum()\n",
    "\n",
    "# Определение активных клиентов (те, кто совершил более 10 звонков в ноябре)\n",
    "active_clients = calls_per_user_november[calls_per_user_november > 16].index.tolist()\n",
    "\n",
    "print(f'Количество активных пользователей: {len(active_clients)}')"
   ]
  },
  {
   "cell_type": "code",
   "execution_count": 373,
   "metadata": {},
   "outputs": [],
   "source": [
    "telecom_db_active = telecom_db.query('user_id in @active_clients').copy()\n",
    "telecom_clients_active = telecom_clients.query('user_id in @active_clients').copy()"
   ]
  },
  {
   "cell_type": "markdown",
   "metadata": {},
   "source": [
    "### Подсчёт стоимости одного месяца при использовании различных тарифов"
   ]
  },
  {
   "cell_type": "markdown",
   "metadata": {},
   "source": [
    "Для начала создадим сгруппированный по клиентам и месяцам датафрейм"
   ]
  },
  {
   "cell_type": "code",
   "execution_count": 374,
   "metadata": {},
   "outputs": [
    {
     "data": {
      "text/html": [
       "<div>\n",
       "<style scoped>\n",
       "    .dataframe tbody tr th:only-of-type {\n",
       "        vertical-align: middle;\n",
       "    }\n",
       "\n",
       "    .dataframe tbody tr th {\n",
       "        vertical-align: top;\n",
       "    }\n",
       "\n",
       "    .dataframe thead th {\n",
       "        text-align: right;\n",
       "    }\n",
       "</style>\n",
       "<table border=\"1\" class=\"dataframe\">\n",
       "  <thead>\n",
       "    <tr style=\"text-align: right;\">\n",
       "      <th></th>\n",
       "      <th>user_id</th>\n",
       "      <th>month</th>\n",
       "    </tr>\n",
       "  </thead>\n",
       "  <tbody>\n",
       "    <tr>\n",
       "      <th>0</th>\n",
       "      <td>166377</td>\n",
       "      <td>9</td>\n",
       "    </tr>\n",
       "    <tr>\n",
       "      <th>1</th>\n",
       "      <td>166377</td>\n",
       "      <td>10</td>\n",
       "    </tr>\n",
       "    <tr>\n",
       "      <th>2</th>\n",
       "      <td>166377</td>\n",
       "      <td>11</td>\n",
       "    </tr>\n",
       "    <tr>\n",
       "      <th>3</th>\n",
       "      <td>166392</td>\n",
       "      <td>9</td>\n",
       "    </tr>\n",
       "    <tr>\n",
       "      <th>4</th>\n",
       "      <td>166392</td>\n",
       "      <td>10</td>\n",
       "    </tr>\n",
       "  </tbody>\n",
       "</table>\n",
       "</div>"
      ],
      "text/plain": [
       "   user_id  month\n",
       "0   166377      9\n",
       "1   166377     10\n",
       "2   166377     11\n",
       "3   166392      9\n",
       "4   166392     10"
      ]
     },
     "execution_count": 374,
     "metadata": {},
     "output_type": "execute_result"
    }
   ],
   "source": [
    "telecom_tariff = telecom_db_active.groupby(['user_id', 'month'])['calls_count'].sum().reset_index().drop('calls_count', axis=1)\n",
    "telecom_tariff.head()"
   ]
  },
  {
   "cell_type": "markdown",
   "metadata": {},
   "source": [
    "Далее рассчитаем длительность исходящих внутренних, исходящих внешних звонков для каждого оператора по месяцам, посчитаем количество операторов, также добавим инфрмацию о тарином палне клиента, и объединим это с нашим датафреймом telecom_tariff"
   ]
  },
  {
   "cell_type": "code",
   "execution_count": 375,
   "metadata": {},
   "outputs": [],
   "source": [
    "# Рассчитаем длительность исходящих внутренних и внешних звонков, а также количество операторов\n",
    "aggregated_data = (\n",
    "    telecom_db_active.groupby(['user_id', 'month'])\n",
    "    .agg(\n",
    "        internal_duration=('total_call_duration', lambda x: x[(telecom_db['direction'] == 'out') & (telecom_db['internal'])].sum()),\n",
    "        external_duration=('total_call_duration', lambda x: x[(telecom_db['direction'] == 'out') & (~telecom_db['internal'])].sum()),\n",
    "        amount_of_operators=('operator_id', 'nunique')\n",
    "    )\n",
    "    .reset_index()\n",
    ")\n",
    "\n",
    "# Объединим результаты с основным датафреймом и добавим информацию о тарифных планах\n",
    "telecom_tariff = (\n",
    "    telecom_tariff\n",
    "    .merge(aggregated_data, on=['user_id', 'month'], how='left')\n",
    "    .merge(telecom_clients_active, on='user_id')\n",
    "    .drop('date_start', axis=1)\n",
    ")\n"
   ]
  },
  {
   "cell_type": "code",
   "execution_count": 376,
   "metadata": {},
   "outputs": [
    {
     "name": "stdout",
     "output_type": "stream",
     "text": [
      "Записей до объединения: 492\n",
      "Записей после объединения: 492\n",
      "Уникальных клиентов до объединения: 197\n",
      "Уникальных клиентов после объединения: 197\n",
      "Виды тарифов в объединенном датафрейме: ['B' 'C' 'A']\n",
      "Клиентов без тарифа: 0\n"
     ]
    }
   ],
   "source": [
    "# Проверим, все ли записи сохранены после объединения\n",
    "original_count = aggregated_data.shape[0]\n",
    "merged_count = telecom_tariff.shape[0]\n",
    "\n",
    "print(f\"Записей до объединения: {original_count}\")\n",
    "print(f\"Записей после объединения: {merged_count}\")\n",
    "    \n",
    "# Проверим, все ли клиенты перешли в новый набор\n",
    "unique_clients_before = aggregated_data['user_id'].nunique()\n",
    "unique_clients_after = telecom_tariff['user_id'].nunique()\n",
    "\n",
    "print(f\"Уникальных клиентов до объединения: {unique_clients_before}\")\n",
    "print(f\"Уникальных клиентов после объединения: {unique_clients_after}\")\n",
    "\n",
    "# Проверим, для всех ли клиентов нашелся тариф\n",
    "missing_tariff_count = telecom_tariff['tariff_plan'].isna().sum()\n",
    "print(f'Виды тарифов в объединенном датафрейме: {telecom_tariff[\"tariff_plan\"].unique()}')\n",
    "print(f\"Клиентов без тарифа: {missing_tariff_count}\")"
   ]
  },
  {
   "cell_type": "code",
   "execution_count": 377,
   "metadata": {},
   "outputs": [
    {
     "data": {
      "text/html": [
       "<div>\n",
       "<style scoped>\n",
       "    .dataframe tbody tr th:only-of-type {\n",
       "        vertical-align: middle;\n",
       "    }\n",
       "\n",
       "    .dataframe tbody tr th {\n",
       "        vertical-align: top;\n",
       "    }\n",
       "\n",
       "    .dataframe thead th {\n",
       "        text-align: right;\n",
       "    }\n",
       "</style>\n",
       "<table border=\"1\" class=\"dataframe\">\n",
       "  <thead>\n",
       "    <tr style=\"text-align: right;\">\n",
       "      <th></th>\n",
       "      <th>user_id</th>\n",
       "      <th>month</th>\n",
       "      <th>internal_duration</th>\n",
       "      <th>external_duration</th>\n",
       "      <th>amount_of_operators</th>\n",
       "      <th>tariff_plan</th>\n",
       "    </tr>\n",
       "  </thead>\n",
       "  <tbody>\n",
       "    <tr>\n",
       "      <th>0</th>\n",
       "      <td>166377</td>\n",
       "      <td>9</td>\n",
       "      <td>9</td>\n",
       "      <td>105835</td>\n",
       "      <td>4</td>\n",
       "      <td>B</td>\n",
       "    </tr>\n",
       "    <tr>\n",
       "      <th>1</th>\n",
       "      <td>166377</td>\n",
       "      <td>10</td>\n",
       "      <td>5</td>\n",
       "      <td>99207</td>\n",
       "      <td>5</td>\n",
       "      <td>B</td>\n",
       "    </tr>\n",
       "    <tr>\n",
       "      <th>2</th>\n",
       "      <td>166377</td>\n",
       "      <td>11</td>\n",
       "      <td>127</td>\n",
       "      <td>95384</td>\n",
       "      <td>4</td>\n",
       "      <td>B</td>\n",
       "    </tr>\n",
       "    <tr>\n",
       "      <th>3</th>\n",
       "      <td>166392</td>\n",
       "      <td>9</td>\n",
       "      <td>0</td>\n",
       "      <td>0</td>\n",
       "      <td>2</td>\n",
       "      <td>C</td>\n",
       "    </tr>\n",
       "    <tr>\n",
       "      <th>4</th>\n",
       "      <td>166392</td>\n",
       "      <td>10</td>\n",
       "      <td>0</td>\n",
       "      <td>0</td>\n",
       "      <td>2</td>\n",
       "      <td>C</td>\n",
       "    </tr>\n",
       "  </tbody>\n",
       "</table>\n",
       "</div>"
      ],
      "text/plain": [
       "   user_id  month  internal_duration  external_duration  amount_of_operators  \\\n",
       "0   166377      9                  9             105835                    4   \n",
       "1   166377     10                  5              99207                    5   \n",
       "2   166377     11                127              95384                    4   \n",
       "3   166392      9                  0                  0                    2   \n",
       "4   166392     10                  0                  0                    2   \n",
       "\n",
       "  tariff_plan  \n",
       "0           B  \n",
       "1           B  \n",
       "2           B  \n",
       "3           C  \n",
       "4           C  "
      ]
     },
     "execution_count": 377,
     "metadata": {},
     "output_type": "execute_result"
    }
   ],
   "source": [
    "telecom_tariff.head()"
   ]
  },
  {
   "cell_type": "code",
   "execution_count": 378,
   "metadata": {},
   "outputs": [],
   "source": [
    "# Создаем таблицу с тарифами\n",
    "tariff_data = pd.DataFrame({\n",
    "    'tariff_plan': ['A', 'B', 'C'],\n",
    "    'base_fee': [4000, 2000, 1000],\n",
    "    'operator_cost': [50, 150, 300],\n",
    "    'included_minutes': [2000, 500, 0],\n",
    "    'overage_rate': [0.1, 0.15, 0.3],\n",
    "    'external_rate': [0.3, 0.5, 0.7]\n",
    "})"
   ]
  },
  {
   "cell_type": "code",
   "execution_count": 379,
   "metadata": {},
   "outputs": [],
   "source": [
    "# Функция для расчета стоимости\n",
    "def calculate_plan(data_row):\n",
    "    plan = data_row['tariff_plan']\n",
    "    tariff = tariff_data[tariff_data['tariff_plan'] == plan].iloc[0]\n",
    "    \n",
    "    available_minutes = tariff['included_minutes'] - data_row['internal_duration']\n",
    "    \n",
    "    if available_minutes < 0:\n",
    "        internal_cost = abs(available_minutes) * tariff['overage_rate']\n",
    "    else:\n",
    "        internal_cost = 0\n",
    "\n",
    "    external_cost = data_row['external_duration'] * tariff['external_rate']\n",
    "    total_cost = internal_cost + external_cost + tariff['base_fee'] + data_row['amount_of_operators'] * tariff['operator_cost']\n",
    "    \n",
    "    return total_cost\n",
    "\n"
   ]
  },
  {
   "cell_type": "code",
   "execution_count": 380,
   "metadata": {},
   "outputs": [
    {
     "data": {
      "text/html": [
       "<div>\n",
       "<style scoped>\n",
       "    .dataframe tbody tr th:only-of-type {\n",
       "        vertical-align: middle;\n",
       "    }\n",
       "\n",
       "    .dataframe tbody tr th {\n",
       "        vertical-align: top;\n",
       "    }\n",
       "\n",
       "    .dataframe thead th {\n",
       "        text-align: right;\n",
       "    }\n",
       "</style>\n",
       "<table border=\"1\" class=\"dataframe\">\n",
       "  <thead>\n",
       "    <tr style=\"text-align: right;\">\n",
       "      <th></th>\n",
       "      <th>user_id</th>\n",
       "      <th>month</th>\n",
       "      <th>internal_duration</th>\n",
       "      <th>external_duration</th>\n",
       "      <th>amount_of_operators</th>\n",
       "      <th>tariff_plan</th>\n",
       "      <th>current_price</th>\n",
       "    </tr>\n",
       "  </thead>\n",
       "  <tbody>\n",
       "    <tr>\n",
       "      <th>0</th>\n",
       "      <td>166377</td>\n",
       "      <td>9</td>\n",
       "      <td>9</td>\n",
       "      <td>105835</td>\n",
       "      <td>4</td>\n",
       "      <td>B</td>\n",
       "      <td>55517.5</td>\n",
       "    </tr>\n",
       "    <tr>\n",
       "      <th>1</th>\n",
       "      <td>166377</td>\n",
       "      <td>10</td>\n",
       "      <td>5</td>\n",
       "      <td>99207</td>\n",
       "      <td>5</td>\n",
       "      <td>B</td>\n",
       "      <td>52353.5</td>\n",
       "    </tr>\n",
       "    <tr>\n",
       "      <th>2</th>\n",
       "      <td>166377</td>\n",
       "      <td>11</td>\n",
       "      <td>127</td>\n",
       "      <td>95384</td>\n",
       "      <td>4</td>\n",
       "      <td>B</td>\n",
       "      <td>50292.0</td>\n",
       "    </tr>\n",
       "    <tr>\n",
       "      <th>3</th>\n",
       "      <td>166392</td>\n",
       "      <td>9</td>\n",
       "      <td>0</td>\n",
       "      <td>0</td>\n",
       "      <td>2</td>\n",
       "      <td>C</td>\n",
       "      <td>1600.0</td>\n",
       "    </tr>\n",
       "    <tr>\n",
       "      <th>4</th>\n",
       "      <td>166392</td>\n",
       "      <td>10</td>\n",
       "      <td>0</td>\n",
       "      <td>0</td>\n",
       "      <td>2</td>\n",
       "      <td>C</td>\n",
       "      <td>1600.0</td>\n",
       "    </tr>\n",
       "  </tbody>\n",
       "</table>\n",
       "</div>"
      ],
      "text/plain": [
       "   user_id  month  internal_duration  external_duration  amount_of_operators  \\\n",
       "0   166377      9                  9             105835                    4   \n",
       "1   166377     10                  5              99207                    5   \n",
       "2   166377     11                127              95384                    4   \n",
       "3   166392      9                  0                  0                    2   \n",
       "4   166392     10                  0                  0                    2   \n",
       "\n",
       "  tariff_plan  current_price  \n",
       "0           B        55517.5  \n",
       "1           B        52353.5  \n",
       "2           B        50292.0  \n",
       "3           C         1600.0  \n",
       "4           C         1600.0  "
      ]
     },
     "execution_count": 380,
     "metadata": {},
     "output_type": "execute_result"
    }
   ],
   "source": [
    "telecom_tariff.fillna(0, inplace=True)\n",
    "telecom_tariff['current_price'] = round(telecom_tariff.apply(calculate_plan, axis=1), 2)\n",
    "telecom_tariff.head()"
   ]
  },
  {
   "cell_type": "code",
   "execution_count": 381,
   "metadata": {},
   "outputs": [],
   "source": [
    "def calculate_plan_A(data_row):\n",
    "    plan = 'A'\n",
    "    tariff = tariff_data[tariff_data['tariff_plan'] == plan].iloc[0]\n",
    "    \n",
    "    available_minutes = tariff['included_minutes'] - data_row['internal_duration']\n",
    "    \n",
    "    if available_minutes < 0:\n",
    "        internal_cost = abs(available_minutes) * tariff['overage_rate']\n",
    "    else:\n",
    "        internal_cost = 0\n",
    "\n",
    "    external_cost = data_row['external_duration'] * tariff['external_rate']\n",
    "    total_cost = internal_cost + external_cost + tariff['base_fee'] + data_row['amount_of_operators'] * tariff['operator_cost']\n",
    "    \n",
    "    return total_cost\n",
    "\n",
    "def calculate_plan_B(data_row):\n",
    "    plan = 'B'\n",
    "    tariff = tariff_data[tariff_data['tariff_plan'] == plan].iloc[0]\n",
    "    \n",
    "    available_minutes = tariff['included_minutes'] - data_row['internal_duration']\n",
    "    \n",
    "    if available_minutes < 0:\n",
    "        internal_cost = abs(available_minutes) * tariff['overage_rate']\n",
    "    else:\n",
    "        internal_cost = 0\n",
    "\n",
    "    external_cost = data_row['external_duration'] * tariff['external_rate']\n",
    "    total_cost = internal_cost + external_cost + tariff['base_fee'] + data_row['amount_of_operators'] * tariff['operator_cost']\n",
    "    \n",
    "    return total_cost\n",
    "\n",
    "def calculate_plan_C(data_row):\n",
    "    plan = 'C'\n",
    "    tariff = tariff_data[tariff_data['tariff_plan'] == plan].iloc[0]\n",
    "    \n",
    "    available_minutes = tariff['included_minutes'] - data_row['internal_duration']\n",
    "    \n",
    "    if available_minutes < 0:\n",
    "        internal_cost = abs(available_minutes) * tariff['overage_rate']\n",
    "    else:\n",
    "        internal_cost = 0\n",
    "\n",
    "    external_cost = data_row['external_duration'] * tariff['external_rate']\n",
    "    total_cost = internal_cost + external_cost + tariff['base_fee'] + data_row['amount_of_operators'] * tariff['operator_cost']\n",
    "    \n",
    "    return total_cost"
   ]
  },
  {
   "cell_type": "code",
   "execution_count": 382,
   "metadata": {},
   "outputs": [],
   "source": [
    "telecom_tariff['price_A'] = telecom_tariff.apply(lambda row: round(calculate_plan_A(row), 2), axis=1)\n",
    "telecom_tariff['price_B'] = telecom_tariff.apply(lambda row: round(calculate_plan_B(row), 2), axis=1)\n",
    "telecom_tariff['price_C'] = telecom_tariff.apply(lambda row: round(calculate_plan_C(row), 2), axis=1)"
   ]
  },
  {
   "cell_type": "code",
   "execution_count": 383,
   "metadata": {},
   "outputs": [
    {
     "data": {
      "text/html": [
       "<div>\n",
       "<style scoped>\n",
       "    .dataframe tbody tr th:only-of-type {\n",
       "        vertical-align: middle;\n",
       "    }\n",
       "\n",
       "    .dataframe tbody tr th {\n",
       "        vertical-align: top;\n",
       "    }\n",
       "\n",
       "    .dataframe thead th {\n",
       "        text-align: right;\n",
       "    }\n",
       "</style>\n",
       "<table border=\"1\" class=\"dataframe\">\n",
       "  <thead>\n",
       "    <tr style=\"text-align: right;\">\n",
       "      <th></th>\n",
       "      <th>user_id</th>\n",
       "      <th>month</th>\n",
       "      <th>internal_duration</th>\n",
       "      <th>external_duration</th>\n",
       "      <th>amount_of_operators</th>\n",
       "      <th>tariff_plan</th>\n",
       "      <th>current_price</th>\n",
       "      <th>price_A</th>\n",
       "      <th>price_B</th>\n",
       "      <th>price_C</th>\n",
       "    </tr>\n",
       "  </thead>\n",
       "  <tbody>\n",
       "    <tr>\n",
       "      <th>0</th>\n",
       "      <td>166377</td>\n",
       "      <td>9</td>\n",
       "      <td>9</td>\n",
       "      <td>105835</td>\n",
       "      <td>4</td>\n",
       "      <td>B</td>\n",
       "      <td>55517.5</td>\n",
       "      <td>35950.5</td>\n",
       "      <td>55517.5</td>\n",
       "      <td>76287.2</td>\n",
       "    </tr>\n",
       "    <tr>\n",
       "      <th>1</th>\n",
       "      <td>166377</td>\n",
       "      <td>10</td>\n",
       "      <td>5</td>\n",
       "      <td>99207</td>\n",
       "      <td>5</td>\n",
       "      <td>B</td>\n",
       "      <td>52353.5</td>\n",
       "      <td>34012.1</td>\n",
       "      <td>52353.5</td>\n",
       "      <td>71946.4</td>\n",
       "    </tr>\n",
       "    <tr>\n",
       "      <th>2</th>\n",
       "      <td>166377</td>\n",
       "      <td>11</td>\n",
       "      <td>127</td>\n",
       "      <td>95384</td>\n",
       "      <td>4</td>\n",
       "      <td>B</td>\n",
       "      <td>50292.0</td>\n",
       "      <td>32815.2</td>\n",
       "      <td>50292.0</td>\n",
       "      <td>69006.9</td>\n",
       "    </tr>\n",
       "    <tr>\n",
       "      <th>3</th>\n",
       "      <td>166392</td>\n",
       "      <td>9</td>\n",
       "      <td>0</td>\n",
       "      <td>0</td>\n",
       "      <td>2</td>\n",
       "      <td>C</td>\n",
       "      <td>1600.0</td>\n",
       "      <td>4100.0</td>\n",
       "      <td>2300.0</td>\n",
       "      <td>1600.0</td>\n",
       "    </tr>\n",
       "    <tr>\n",
       "      <th>4</th>\n",
       "      <td>166392</td>\n",
       "      <td>10</td>\n",
       "      <td>0</td>\n",
       "      <td>0</td>\n",
       "      <td>2</td>\n",
       "      <td>C</td>\n",
       "      <td>1600.0</td>\n",
       "      <td>4100.0</td>\n",
       "      <td>2300.0</td>\n",
       "      <td>1600.0</td>\n",
       "    </tr>\n",
       "  </tbody>\n",
       "</table>\n",
       "</div>"
      ],
      "text/plain": [
       "   user_id  month  internal_duration  external_duration  amount_of_operators  \\\n",
       "0   166377      9                  9             105835                    4   \n",
       "1   166377     10                  5              99207                    5   \n",
       "2   166377     11                127              95384                    4   \n",
       "3   166392      9                  0                  0                    2   \n",
       "4   166392     10                  0                  0                    2   \n",
       "\n",
       "  tariff_plan  current_price  price_A  price_B  price_C  \n",
       "0           B        55517.5  35950.5  55517.5  76287.2  \n",
       "1           B        52353.5  34012.1  52353.5  71946.4  \n",
       "2           B        50292.0  32815.2  50292.0  69006.9  \n",
       "3           C         1600.0   4100.0   2300.0   1600.0  \n",
       "4           C         1600.0   4100.0   2300.0   1600.0  "
      ]
     },
     "execution_count": 383,
     "metadata": {},
     "output_type": "execute_result"
    }
   ],
   "source": [
    "telecom_tariff.head(5)"
   ]
  },
  {
   "cell_type": "code",
   "execution_count": 384,
   "metadata": {},
   "outputs": [
    {
     "data": {
      "text/html": [
       "<div>\n",
       "<style scoped>\n",
       "    .dataframe tbody tr th:only-of-type {\n",
       "        vertical-align: middle;\n",
       "    }\n",
       "\n",
       "    .dataframe tbody tr th {\n",
       "        vertical-align: top;\n",
       "    }\n",
       "\n",
       "    .dataframe thead th {\n",
       "        text-align: right;\n",
       "    }\n",
       "</style>\n",
       "<table border=\"1\" class=\"dataframe\">\n",
       "  <thead>\n",
       "    <tr style=\"text-align: right;\">\n",
       "      <th></th>\n",
       "      <th>user_id</th>\n",
       "      <th>month</th>\n",
       "      <th>tariff_plan</th>\n",
       "      <th>current_price</th>\n",
       "      <th>price_A</th>\n",
       "      <th>price_B</th>\n",
       "      <th>price_C</th>\n",
       "    </tr>\n",
       "  </thead>\n",
       "  <tbody>\n",
       "    <tr>\n",
       "      <th>0</th>\n",
       "      <td>166377</td>\n",
       "      <td>9</td>\n",
       "      <td>B</td>\n",
       "      <td>55517.5</td>\n",
       "      <td>35950.5</td>\n",
       "      <td>55517.5</td>\n",
       "      <td>76287.2</td>\n",
       "    </tr>\n",
       "    <tr>\n",
       "      <th>1</th>\n",
       "      <td>166377</td>\n",
       "      <td>10</td>\n",
       "      <td>B</td>\n",
       "      <td>52353.5</td>\n",
       "      <td>34012.1</td>\n",
       "      <td>52353.5</td>\n",
       "      <td>71946.4</td>\n",
       "    </tr>\n",
       "    <tr>\n",
       "      <th>2</th>\n",
       "      <td>166377</td>\n",
       "      <td>11</td>\n",
       "      <td>B</td>\n",
       "      <td>50292.0</td>\n",
       "      <td>32815.2</td>\n",
       "      <td>50292.0</td>\n",
       "      <td>69006.9</td>\n",
       "    </tr>\n",
       "    <tr>\n",
       "      <th>3</th>\n",
       "      <td>166392</td>\n",
       "      <td>9</td>\n",
       "      <td>C</td>\n",
       "      <td>1600.0</td>\n",
       "      <td>4100.0</td>\n",
       "      <td>2300.0</td>\n",
       "      <td>1600.0</td>\n",
       "    </tr>\n",
       "    <tr>\n",
       "      <th>4</th>\n",
       "      <td>166392</td>\n",
       "      <td>10</td>\n",
       "      <td>C</td>\n",
       "      <td>1600.0</td>\n",
       "      <td>4100.0</td>\n",
       "      <td>2300.0</td>\n",
       "      <td>1600.0</td>\n",
       "    </tr>\n",
       "  </tbody>\n",
       "</table>\n",
       "</div>"
      ],
      "text/plain": [
       "   user_id  month tariff_plan  current_price  price_A  price_B  price_C\n",
       "0   166377      9           B        55517.5  35950.5  55517.5  76287.2\n",
       "1   166377     10           B        52353.5  34012.1  52353.5  71946.4\n",
       "2   166377     11           B        50292.0  32815.2  50292.0  69006.9\n",
       "3   166392      9           C         1600.0   4100.0   2300.0   1600.0\n",
       "4   166392     10           C         1600.0   4100.0   2300.0   1600.0"
      ]
     },
     "execution_count": 384,
     "metadata": {},
     "output_type": "execute_result"
    }
   ],
   "source": [
    "telecom_tariff_data = telecom_tariff.copy()\n",
    "telecom_tariff.drop(['internal_duration', 'external_duration', 'amount_of_operators'], axis=1, inplace=True)\n",
    "telecom_tariff.head()"
   ]
  },
  {
   "cell_type": "markdown",
   "metadata": {},
   "source": [
    "<b>Вывод по разделу:</b>\n",
    "\n",
    "- Активным периодом будем считать с сентября по ноябрь, данные за август отбросим, т.к они составляют менее 4% от общего числа\n",
    "- Большинство пользователей используют тариф C(54%), на втором месте тариф В(35.7%), наименее популярный тариф А(10.4%)\n",
    "- Чаще всего общая длительность исходящих звонков в день находится в диапазоне от 306 до 3778 минут. На 1% клиентов приходится длительность исходящих вызовов более 166193 минут в день\n",
    "- Среднее количество исходящих звонков по месяцам равно 16, также по графику можно увидеть, что количество снижается, особенно спад виден в ноябре\n",
    "- Активными будут считаться те клиенты, которые совершили более 16 звонков за последний меясц (ноябрь). Количество активных пользователей: 197\n",
    "- Подсчитали стоимости одного месяца при использовании различных тарифов."
   ]
  },
  {
   "cell_type": "markdown",
   "metadata": {},
   "source": [
    "## Поиск клиентов с неоптимальными тарифами"
   ]
  },
  {
   "cell_type": "markdown",
   "metadata": {},
   "source": [
    "### Переплата клиентов и лучший тариф"
   ]
  },
  {
   "cell_type": "code",
   "execution_count": 385,
   "metadata": {},
   "outputs": [
    {
     "data": {
      "text/html": [
       "<div>\n",
       "<style scoped>\n",
       "    .dataframe tbody tr th:only-of-type {\n",
       "        vertical-align: middle;\n",
       "    }\n",
       "\n",
       "    .dataframe tbody tr th {\n",
       "        vertical-align: top;\n",
       "    }\n",
       "\n",
       "    .dataframe thead th {\n",
       "        text-align: right;\n",
       "    }\n",
       "</style>\n",
       "<table border=\"1\" class=\"dataframe\">\n",
       "  <thead>\n",
       "    <tr style=\"text-align: right;\">\n",
       "      <th></th>\n",
       "      <th>user_id</th>\n",
       "      <th>month</th>\n",
       "      <th>tariff_plan</th>\n",
       "      <th>current_price</th>\n",
       "      <th>price_A</th>\n",
       "      <th>price_B</th>\n",
       "      <th>price_C</th>\n",
       "      <th>best_price</th>\n",
       "    </tr>\n",
       "  </thead>\n",
       "  <tbody>\n",
       "    <tr>\n",
       "      <th>0</th>\n",
       "      <td>166377</td>\n",
       "      <td>9</td>\n",
       "      <td>B</td>\n",
       "      <td>55517.5</td>\n",
       "      <td>35950.5</td>\n",
       "      <td>55517.5</td>\n",
       "      <td>76287.2</td>\n",
       "      <td>35950.5</td>\n",
       "    </tr>\n",
       "    <tr>\n",
       "      <th>1</th>\n",
       "      <td>166377</td>\n",
       "      <td>10</td>\n",
       "      <td>B</td>\n",
       "      <td>52353.5</td>\n",
       "      <td>34012.1</td>\n",
       "      <td>52353.5</td>\n",
       "      <td>71946.4</td>\n",
       "      <td>34012.1</td>\n",
       "    </tr>\n",
       "    <tr>\n",
       "      <th>2</th>\n",
       "      <td>166377</td>\n",
       "      <td>11</td>\n",
       "      <td>B</td>\n",
       "      <td>50292.0</td>\n",
       "      <td>32815.2</td>\n",
       "      <td>50292.0</td>\n",
       "      <td>69006.9</td>\n",
       "      <td>32815.2</td>\n",
       "    </tr>\n",
       "    <tr>\n",
       "      <th>3</th>\n",
       "      <td>166392</td>\n",
       "      <td>9</td>\n",
       "      <td>C</td>\n",
       "      <td>1600.0</td>\n",
       "      <td>4100.0</td>\n",
       "      <td>2300.0</td>\n",
       "      <td>1600.0</td>\n",
       "      <td>1600.0</td>\n",
       "    </tr>\n",
       "    <tr>\n",
       "      <th>4</th>\n",
       "      <td>166392</td>\n",
       "      <td>10</td>\n",
       "      <td>C</td>\n",
       "      <td>1600.0</td>\n",
       "      <td>4100.0</td>\n",
       "      <td>2300.0</td>\n",
       "      <td>1600.0</td>\n",
       "      <td>1600.0</td>\n",
       "    </tr>\n",
       "  </tbody>\n",
       "</table>\n",
       "</div>"
      ],
      "text/plain": [
       "   user_id  month tariff_plan  current_price  price_A  price_B  price_C  \\\n",
       "0   166377      9           B        55517.5  35950.5  55517.5  76287.2   \n",
       "1   166377     10           B        52353.5  34012.1  52353.5  71946.4   \n",
       "2   166377     11           B        50292.0  32815.2  50292.0  69006.9   \n",
       "3   166392      9           C         1600.0   4100.0   2300.0   1600.0   \n",
       "4   166392     10           C         1600.0   4100.0   2300.0   1600.0   \n",
       "\n",
       "   best_price  \n",
       "0     35950.5  \n",
       "1     34012.1  \n",
       "2     32815.2  \n",
       "3      1600.0  \n",
       "4      1600.0  "
      ]
     },
     "execution_count": 385,
     "metadata": {},
     "output_type": "execute_result"
    }
   ],
   "source": [
    "# стоимость по самому выгодному тарифу\n",
    "telecom_tariff['best_price'] = telecom_tariff.apply(lambda x: min(x['price_A'], x['price_B'], x['price_C']), axis=1)\n",
    "telecom_tariff.head()"
   ]
  },
  {
   "cell_type": "code",
   "execution_count": 386,
   "metadata": {},
   "outputs": [
    {
     "data": {
      "text/html": [
       "<div>\n",
       "<style scoped>\n",
       "    .dataframe tbody tr th:only-of-type {\n",
       "        vertical-align: middle;\n",
       "    }\n",
       "\n",
       "    .dataframe tbody tr th {\n",
       "        vertical-align: top;\n",
       "    }\n",
       "\n",
       "    .dataframe thead th {\n",
       "        text-align: right;\n",
       "    }\n",
       "</style>\n",
       "<table border=\"1\" class=\"dataframe\">\n",
       "  <thead>\n",
       "    <tr style=\"text-align: right;\">\n",
       "      <th></th>\n",
       "      <th>user_id</th>\n",
       "      <th>month</th>\n",
       "      <th>tariff_plan</th>\n",
       "      <th>current_price</th>\n",
       "      <th>price_A</th>\n",
       "      <th>price_B</th>\n",
       "      <th>price_C</th>\n",
       "      <th>best_price</th>\n",
       "      <th>overpayment</th>\n",
       "    </tr>\n",
       "  </thead>\n",
       "  <tbody>\n",
       "    <tr>\n",
       "      <th>0</th>\n",
       "      <td>166377</td>\n",
       "      <td>9</td>\n",
       "      <td>B</td>\n",
       "      <td>55517.5</td>\n",
       "      <td>35950.5</td>\n",
       "      <td>55517.5</td>\n",
       "      <td>76287.2</td>\n",
       "      <td>35950.5</td>\n",
       "      <td>19567.0</td>\n",
       "    </tr>\n",
       "    <tr>\n",
       "      <th>1</th>\n",
       "      <td>166377</td>\n",
       "      <td>10</td>\n",
       "      <td>B</td>\n",
       "      <td>52353.5</td>\n",
       "      <td>34012.1</td>\n",
       "      <td>52353.5</td>\n",
       "      <td>71946.4</td>\n",
       "      <td>34012.1</td>\n",
       "      <td>18341.4</td>\n",
       "    </tr>\n",
       "    <tr>\n",
       "      <th>2</th>\n",
       "      <td>166377</td>\n",
       "      <td>11</td>\n",
       "      <td>B</td>\n",
       "      <td>50292.0</td>\n",
       "      <td>32815.2</td>\n",
       "      <td>50292.0</td>\n",
       "      <td>69006.9</td>\n",
       "      <td>32815.2</td>\n",
       "      <td>17476.8</td>\n",
       "    </tr>\n",
       "    <tr>\n",
       "      <th>3</th>\n",
       "      <td>166392</td>\n",
       "      <td>9</td>\n",
       "      <td>C</td>\n",
       "      <td>1600.0</td>\n",
       "      <td>4100.0</td>\n",
       "      <td>2300.0</td>\n",
       "      <td>1600.0</td>\n",
       "      <td>1600.0</td>\n",
       "      <td>0.0</td>\n",
       "    </tr>\n",
       "    <tr>\n",
       "      <th>4</th>\n",
       "      <td>166392</td>\n",
       "      <td>10</td>\n",
       "      <td>C</td>\n",
       "      <td>1600.0</td>\n",
       "      <td>4100.0</td>\n",
       "      <td>2300.0</td>\n",
       "      <td>1600.0</td>\n",
       "      <td>1600.0</td>\n",
       "      <td>0.0</td>\n",
       "    </tr>\n",
       "  </tbody>\n",
       "</table>\n",
       "</div>"
      ],
      "text/plain": [
       "   user_id  month tariff_plan  current_price  price_A  price_B  price_C  \\\n",
       "0   166377      9           B        55517.5  35950.5  55517.5  76287.2   \n",
       "1   166377     10           B        52353.5  34012.1  52353.5  71946.4   \n",
       "2   166377     11           B        50292.0  32815.2  50292.0  69006.9   \n",
       "3   166392      9           C         1600.0   4100.0   2300.0   1600.0   \n",
       "4   166392     10           C         1600.0   4100.0   2300.0   1600.0   \n",
       "\n",
       "   best_price  overpayment  \n",
       "0     35950.5      19567.0  \n",
       "1     34012.1      18341.4  \n",
       "2     32815.2      17476.8  \n",
       "3      1600.0          0.0  \n",
       "4      1600.0          0.0  "
      ]
     },
     "execution_count": 386,
     "metadata": {},
     "output_type": "execute_result"
    }
   ],
   "source": [
    "# столбец с переплатой в сравнении с лучшим тарифом\n",
    "telecom_tariff['overpayment'] = telecom_tariff['current_price'] - telecom_tariff['best_price']\n",
    "\n",
    "telecom_tariff.head()"
   ]
  },
  {
   "cell_type": "code",
   "execution_count": 387,
   "metadata": {},
   "outputs": [
    {
     "name": "stdout",
     "output_type": "stream",
     "text": [
      "62.8% клиентов пользуются не самым выгодным тарифом и переплачивают.\n"
     ]
    }
   ],
   "source": [
    "print(f'{round(telecom_tariff[telecom_tariff[\"overpayment\"] != 0].shape[0] / telecom_tariff.shape[0] * 100, 2)}% клиентов пользуются',\n",
    "     'не самым выгодным тарифом и переплачивают.')"
   ]
  },
  {
   "cell_type": "markdown",
   "metadata": {},
   "source": [
    "### Клиенты с неоптимальным тарифом"
   ]
  },
  {
   "cell_type": "code",
   "execution_count": 388,
   "metadata": {},
   "outputs": [
    {
     "data": {
      "text/html": [
       "<div>\n",
       "<style scoped>\n",
       "    .dataframe tbody tr th:only-of-type {\n",
       "        vertical-align: middle;\n",
       "    }\n",
       "\n",
       "    .dataframe tbody tr th {\n",
       "        vertical-align: top;\n",
       "    }\n",
       "\n",
       "    .dataframe thead th {\n",
       "        text-align: right;\n",
       "    }\n",
       "</style>\n",
       "<table border=\"1\" class=\"dataframe\">\n",
       "  <thead>\n",
       "    <tr style=\"text-align: right;\">\n",
       "      <th></th>\n",
       "      <th>user_id</th>\n",
       "      <th>month</th>\n",
       "      <th>tariff_plan</th>\n",
       "      <th>current_price</th>\n",
       "      <th>price_A</th>\n",
       "      <th>price_B</th>\n",
       "      <th>price_C</th>\n",
       "      <th>best_price</th>\n",
       "      <th>overpayment</th>\n",
       "    </tr>\n",
       "  </thead>\n",
       "  <tbody>\n",
       "    <tr>\n",
       "      <th>0</th>\n",
       "      <td>166377</td>\n",
       "      <td>9</td>\n",
       "      <td>B</td>\n",
       "      <td>55517.5</td>\n",
       "      <td>35950.5</td>\n",
       "      <td>55517.5</td>\n",
       "      <td>76287.2</td>\n",
       "      <td>35950.5</td>\n",
       "      <td>19567.0</td>\n",
       "    </tr>\n",
       "    <tr>\n",
       "      <th>1</th>\n",
       "      <td>166377</td>\n",
       "      <td>10</td>\n",
       "      <td>B</td>\n",
       "      <td>52353.5</td>\n",
       "      <td>34012.1</td>\n",
       "      <td>52353.5</td>\n",
       "      <td>71946.4</td>\n",
       "      <td>34012.1</td>\n",
       "      <td>18341.4</td>\n",
       "    </tr>\n",
       "    <tr>\n",
       "      <th>2</th>\n",
       "      <td>166377</td>\n",
       "      <td>11</td>\n",
       "      <td>B</td>\n",
       "      <td>50292.0</td>\n",
       "      <td>32815.2</td>\n",
       "      <td>50292.0</td>\n",
       "      <td>69006.9</td>\n",
       "      <td>32815.2</td>\n",
       "      <td>17476.8</td>\n",
       "    </tr>\n",
       "    <tr>\n",
       "      <th>6</th>\n",
       "      <td>166405</td>\n",
       "      <td>9</td>\n",
       "      <td>B</td>\n",
       "      <td>62971.5</td>\n",
       "      <td>40422.9</td>\n",
       "      <td>62971.5</td>\n",
       "      <td>86720.1</td>\n",
       "      <td>40422.9</td>\n",
       "      <td>22548.6</td>\n",
       "    </tr>\n",
       "    <tr>\n",
       "      <th>7</th>\n",
       "      <td>166405</td>\n",
       "      <td>10</td>\n",
       "      <td>B</td>\n",
       "      <td>192459.7</td>\n",
       "      <td>117850.8</td>\n",
       "      <td>192459.7</td>\n",
       "      <td>268718.6</td>\n",
       "      <td>117850.8</td>\n",
       "      <td>74608.9</td>\n",
       "    </tr>\n",
       "  </tbody>\n",
       "</table>\n",
       "</div>"
      ],
      "text/plain": [
       "   user_id  month tariff_plan  current_price   price_A   price_B   price_C  \\\n",
       "0   166377      9           B        55517.5   35950.5   55517.5   76287.2   \n",
       "1   166377     10           B        52353.5   34012.1   52353.5   71946.4   \n",
       "2   166377     11           B        50292.0   32815.2   50292.0   69006.9   \n",
       "6   166405      9           B        62971.5   40422.9   62971.5   86720.1   \n",
       "7   166405     10           B       192459.7  117850.8  192459.7  268718.6   \n",
       "\n",
       "   best_price  overpayment  \n",
       "0     35950.5      19567.0  \n",
       "1     34012.1      18341.4  \n",
       "2     32815.2      17476.8  \n",
       "6     40422.9      22548.6  \n",
       "7    117850.8      74608.9  "
      ]
     },
     "execution_count": 388,
     "metadata": {},
     "output_type": "execute_result"
    }
   ],
   "source": [
    "suboptimal_tariff = telecom_tariff.query('overpayment > 0')\n",
    "suboptimal_tariff.head()"
   ]
  },
  {
   "cell_type": "code",
   "execution_count": 389,
   "metadata": {},
   "outputs": [
    {
     "data": {
      "application/vnd.plotly.v1+json": {
       "config": {
        "plotlyServerURL": "https://plot.ly"
       },
       "data": [
        {
         "boxpoints": "outliers",
         "name": "Переплата",
         "type": "box",
         "y": [
          19567,
          18341.4,
          17476.800000000003,
          22548.6,
          74608.90000000001,
          80165.2,
          20497.800000000003,
          20516.5,
          7658.799999999999,
          437.60000000000036,
          850,
          550,
          850,
          25280.200000000004,
          20332.6,
          39418.25,
          514.3999999999996,
          7496,
          3629.3999999999996,
          3795.3999999999996,
          4387.8499999999985,
          658.6500000000005,
          55625.700000000004,
          79089.6,
          63267.9,
          27970.399999999998,
          63575.1,
          28832.999999999996,
          168.5999999999999,
          5596.1500000000015,
          7663.799999999999,
          931.8000000000002,
          1018.6000000000004,
          195.80000000000018,
          1000,
          1000,
          850,
          133023.6,
          123461.4,
          109495.4,
          12.800000000000182,
          111.40000000000009,
          208.19999999999982,
          3742.2000000000007,
          3513.6000000000004,
          3427,
          327.60000000000036,
          21512.4,
          41637,
          617.1000000000004,
          3466.6000000000004,
          5834,
          5173.200000000001,
          2763.2000000000007,
          6910.800000000001,
          7059.5999999999985,
          2452.3,
          2460.7999999999997,
          2434,
          6453.5999999999985,
          3544.7999999999993,
          916.1999999999998,
          358.9000000000001,
          457.5999999999999,
          541.8999999999999,
          29865.700000000004,
          59825.8,
          39072.399999999994,
          797.1999999999998,
          721.8000000000002,
          1707.2000000000007,
          665.5999999999999,
          545.5999999999999,
          329.4000000000001,
          7297.5999999999985,
          13905.199999999997,
          13652.800000000001,
          400,
          700,
          9343.8,
          8134.4000000000015,
          713.2,
          462,
          1314.7999999999997,
          2250,
          2000,
          2250,
          2250,
          2250,
          2250,
          8384,
          8449,
          7398,
          491.6999999999998,
          472.85000000000036,
          921.2000000000007,
          295,
          325.1999999999998,
          51.80000000000018,
          265,
          3425,
          1017.3000000000002,
          778.5,
          1462.4000000000005,
          10278.800000000001,
          8541.599999999999,
          700,
          400,
          550,
          61102,
          83373.8,
          75568.8,
          94226.79999999999,
          43986.90000000001,
          3533.5999999999985,
          330.1999999999998,
          1441.6000000000004,
          1392,
          2142.3999999999996,
          17412,
          4504.4000000000015,
          31557.199999999997,
          317,
          18799.199999999997,
          21618.800000000003,
          454.39999999999964,
          830.6000000000004,
          1051.8000000000002,
          50,
          3348.3999999999996,
          169.9000000000001,
          527.8,
          241.5,
          0.5,
          2120.6000000000004,
          2929.3999999999996,
          842.8,
          1124.3999999999996,
          332,
          664.4000000000001,
          14072,
          15909.599999999999,
          10942.400000000001,
          54114,
          57487.5,
          5656.4000000000015,
          38690,
          69270.6,
          67415.79999999999,
          2750,
          2750,
          2750,
          2160.3999999999996,
          775.5499999999993,
          1916.6000000000004,
          3030.3999999999996,
          20524.199999999997,
          9737.599999999999,
          872.8000000000002,
          1179.500000000001,
          1028.4499999999998,
          1600.699999999999,
          14585,
          7785,
          647,
          354,
          2508.7999999999997,
          2172.5,
          1280.1999999999998,
          10273.599999999999,
          5059.200000000001,
          6590,
          850,
          1000,
          697.5999999999999,
          82.59999999999991,
          756.5999999999999,
          850,
          222.5999999999999,
          460.5999999999999,
          545.1999999999998,
          1536.199999999999,
          5648.549999999999,
          4894.200000000001,
          850,
          850,
          850,
          850,
          2451.3999999999996,
          6164.4,
          17007,
          699.8,
          850,
          20455.199999999997,
          21377.600000000002,
          15924.5,
          11813.199999999999,
          12192.4,
          378.1999999999998,
          80.19999999999982,
          1738,
          13195.400000000001,
          24370.199999999997,
          203.19999999999982,
          10878.400000000001,
          3736,
          1750,
          379,
          2053.2000000000007,
          2142.8999999999996,
          18268.999999999996,
          16619.600000000002,
          1000,
          821.2,
          826.8,
          683,
          1690.499999999999,
          1000,
          13305.8,
          6695.500000000002,
          4444.799999999999,
          1038.6000000000004,
          2750,
          2723.6000000000004,
          851.3999999999996,
          681.3999999999996,
          53465.40000000001,
          55399.49999999999,
          17844.7,
          700,
          9706.400000000001,
          20284.800000000003,
          256.1999999999998,
          3090,
          3504.7999999999993,
          33363.2,
          58503.600000000006,
          25356.799999999996,
          12548.1,
          30073.199999999997,
          8681.599999999999,
          16228.399999999998,
          286456.5,
          229124.40000000002,
          849.3999999999996,
          848.4000000000001,
          109968.79999999999,
          80437.20000000001,
          1000,
          850,
          465,
          390.5999999999999,
          3391,
          5109.4,
          169,
          8474.8,
          429,
          121.80000000000018,
          2071.3999999999996,
          11849,
          844.4000000000001,
          401.5999999999999,
          2140,
          2740.7999999999993,
          21705.4,
          47022,
          418,
          5275.6,
          21949,
          700,
          700,
          367.5999999999999,
          293.5999999999999,
          1718.8000000000002,
          2925.699999999999,
          23588.8,
          822.8499999999999,
          344.4000000000001,
          48975.149999999994,
          700,
          305.4000000000001,
          4177.200000000001,
          33043,
          260.1999999999998,
          635.1999999999998,
          2217.2000000000003,
          346.8000000000002,
          1628.3000000000002,
          12414.8,
          3000,
          19652.5,
          831.4000000000001,
          3000,
          92,
          677.8,
          1000,
          850,
          3448.7999999999993,
          69727.6,
          1000,
          850,
          98748.3,
          7096.4000000000015,
          17500.800000000003,
          465,
          700,
          850,
          700,
          10776.800000000001
         ]
        }
       ],
       "layout": {
        "template": {
         "data": {
          "bar": [
           {
            "error_x": {
             "color": "#2a3f5f"
            },
            "error_y": {
             "color": "#2a3f5f"
            },
            "marker": {
             "line": {
              "color": "#E5ECF6",
              "width": 0.5
             },
             "pattern": {
              "fillmode": "overlay",
              "size": 10,
              "solidity": 0.2
             }
            },
            "type": "bar"
           }
          ],
          "barpolar": [
           {
            "marker": {
             "line": {
              "color": "#E5ECF6",
              "width": 0.5
             },
             "pattern": {
              "fillmode": "overlay",
              "size": 10,
              "solidity": 0.2
             }
            },
            "type": "barpolar"
           }
          ],
          "carpet": [
           {
            "aaxis": {
             "endlinecolor": "#2a3f5f",
             "gridcolor": "white",
             "linecolor": "white",
             "minorgridcolor": "white",
             "startlinecolor": "#2a3f5f"
            },
            "baxis": {
             "endlinecolor": "#2a3f5f",
             "gridcolor": "white",
             "linecolor": "white",
             "minorgridcolor": "white",
             "startlinecolor": "#2a3f5f"
            },
            "type": "carpet"
           }
          ],
          "choropleth": [
           {
            "colorbar": {
             "outlinewidth": 0,
             "ticks": ""
            },
            "type": "choropleth"
           }
          ],
          "contour": [
           {
            "colorbar": {
             "outlinewidth": 0,
             "ticks": ""
            },
            "colorscale": [
             [
              0,
              "#0d0887"
             ],
             [
              0.1111111111111111,
              "#46039f"
             ],
             [
              0.2222222222222222,
              "#7201a8"
             ],
             [
              0.3333333333333333,
              "#9c179e"
             ],
             [
              0.4444444444444444,
              "#bd3786"
             ],
             [
              0.5555555555555556,
              "#d8576b"
             ],
             [
              0.6666666666666666,
              "#ed7953"
             ],
             [
              0.7777777777777778,
              "#fb9f3a"
             ],
             [
              0.8888888888888888,
              "#fdca26"
             ],
             [
              1,
              "#f0f921"
             ]
            ],
            "type": "contour"
           }
          ],
          "contourcarpet": [
           {
            "colorbar": {
             "outlinewidth": 0,
             "ticks": ""
            },
            "type": "contourcarpet"
           }
          ],
          "heatmap": [
           {
            "colorbar": {
             "outlinewidth": 0,
             "ticks": ""
            },
            "colorscale": [
             [
              0,
              "#0d0887"
             ],
             [
              0.1111111111111111,
              "#46039f"
             ],
             [
              0.2222222222222222,
              "#7201a8"
             ],
             [
              0.3333333333333333,
              "#9c179e"
             ],
             [
              0.4444444444444444,
              "#bd3786"
             ],
             [
              0.5555555555555556,
              "#d8576b"
             ],
             [
              0.6666666666666666,
              "#ed7953"
             ],
             [
              0.7777777777777778,
              "#fb9f3a"
             ],
             [
              0.8888888888888888,
              "#fdca26"
             ],
             [
              1,
              "#f0f921"
             ]
            ],
            "type": "heatmap"
           }
          ],
          "heatmapgl": [
           {
            "colorbar": {
             "outlinewidth": 0,
             "ticks": ""
            },
            "colorscale": [
             [
              0,
              "#0d0887"
             ],
             [
              0.1111111111111111,
              "#46039f"
             ],
             [
              0.2222222222222222,
              "#7201a8"
             ],
             [
              0.3333333333333333,
              "#9c179e"
             ],
             [
              0.4444444444444444,
              "#bd3786"
             ],
             [
              0.5555555555555556,
              "#d8576b"
             ],
             [
              0.6666666666666666,
              "#ed7953"
             ],
             [
              0.7777777777777778,
              "#fb9f3a"
             ],
             [
              0.8888888888888888,
              "#fdca26"
             ],
             [
              1,
              "#f0f921"
             ]
            ],
            "type": "heatmapgl"
           }
          ],
          "histogram": [
           {
            "marker": {
             "pattern": {
              "fillmode": "overlay",
              "size": 10,
              "solidity": 0.2
             }
            },
            "type": "histogram"
           }
          ],
          "histogram2d": [
           {
            "colorbar": {
             "outlinewidth": 0,
             "ticks": ""
            },
            "colorscale": [
             [
              0,
              "#0d0887"
             ],
             [
              0.1111111111111111,
              "#46039f"
             ],
             [
              0.2222222222222222,
              "#7201a8"
             ],
             [
              0.3333333333333333,
              "#9c179e"
             ],
             [
              0.4444444444444444,
              "#bd3786"
             ],
             [
              0.5555555555555556,
              "#d8576b"
             ],
             [
              0.6666666666666666,
              "#ed7953"
             ],
             [
              0.7777777777777778,
              "#fb9f3a"
             ],
             [
              0.8888888888888888,
              "#fdca26"
             ],
             [
              1,
              "#f0f921"
             ]
            ],
            "type": "histogram2d"
           }
          ],
          "histogram2dcontour": [
           {
            "colorbar": {
             "outlinewidth": 0,
             "ticks": ""
            },
            "colorscale": [
             [
              0,
              "#0d0887"
             ],
             [
              0.1111111111111111,
              "#46039f"
             ],
             [
              0.2222222222222222,
              "#7201a8"
             ],
             [
              0.3333333333333333,
              "#9c179e"
             ],
             [
              0.4444444444444444,
              "#bd3786"
             ],
             [
              0.5555555555555556,
              "#d8576b"
             ],
             [
              0.6666666666666666,
              "#ed7953"
             ],
             [
              0.7777777777777778,
              "#fb9f3a"
             ],
             [
              0.8888888888888888,
              "#fdca26"
             ],
             [
              1,
              "#f0f921"
             ]
            ],
            "type": "histogram2dcontour"
           }
          ],
          "mesh3d": [
           {
            "colorbar": {
             "outlinewidth": 0,
             "ticks": ""
            },
            "type": "mesh3d"
           }
          ],
          "parcoords": [
           {
            "line": {
             "colorbar": {
              "outlinewidth": 0,
              "ticks": ""
             }
            },
            "type": "parcoords"
           }
          ],
          "pie": [
           {
            "automargin": true,
            "type": "pie"
           }
          ],
          "scatter": [
           {
            "marker": {
             "colorbar": {
              "outlinewidth": 0,
              "ticks": ""
             }
            },
            "type": "scatter"
           }
          ],
          "scatter3d": [
           {
            "line": {
             "colorbar": {
              "outlinewidth": 0,
              "ticks": ""
             }
            },
            "marker": {
             "colorbar": {
              "outlinewidth": 0,
              "ticks": ""
             }
            },
            "type": "scatter3d"
           }
          ],
          "scattercarpet": [
           {
            "marker": {
             "colorbar": {
              "outlinewidth": 0,
              "ticks": ""
             }
            },
            "type": "scattercarpet"
           }
          ],
          "scattergeo": [
           {
            "marker": {
             "colorbar": {
              "outlinewidth": 0,
              "ticks": ""
             }
            },
            "type": "scattergeo"
           }
          ],
          "scattergl": [
           {
            "marker": {
             "colorbar": {
              "outlinewidth": 0,
              "ticks": ""
             }
            },
            "type": "scattergl"
           }
          ],
          "scattermapbox": [
           {
            "marker": {
             "colorbar": {
              "outlinewidth": 0,
              "ticks": ""
             }
            },
            "type": "scattermapbox"
           }
          ],
          "scatterpolar": [
           {
            "marker": {
             "colorbar": {
              "outlinewidth": 0,
              "ticks": ""
             }
            },
            "type": "scatterpolar"
           }
          ],
          "scatterpolargl": [
           {
            "marker": {
             "colorbar": {
              "outlinewidth": 0,
              "ticks": ""
             }
            },
            "type": "scatterpolargl"
           }
          ],
          "scatterternary": [
           {
            "marker": {
             "colorbar": {
              "outlinewidth": 0,
              "ticks": ""
             }
            },
            "type": "scatterternary"
           }
          ],
          "surface": [
           {
            "colorbar": {
             "outlinewidth": 0,
             "ticks": ""
            },
            "colorscale": [
             [
              0,
              "#0d0887"
             ],
             [
              0.1111111111111111,
              "#46039f"
             ],
             [
              0.2222222222222222,
              "#7201a8"
             ],
             [
              0.3333333333333333,
              "#9c179e"
             ],
             [
              0.4444444444444444,
              "#bd3786"
             ],
             [
              0.5555555555555556,
              "#d8576b"
             ],
             [
              0.6666666666666666,
              "#ed7953"
             ],
             [
              0.7777777777777778,
              "#fb9f3a"
             ],
             [
              0.8888888888888888,
              "#fdca26"
             ],
             [
              1,
              "#f0f921"
             ]
            ],
            "type": "surface"
           }
          ],
          "table": [
           {
            "cells": {
             "fill": {
              "color": "#EBF0F8"
             },
             "line": {
              "color": "white"
             }
            },
            "header": {
             "fill": {
              "color": "#C8D4E3"
             },
             "line": {
              "color": "white"
             }
            },
            "type": "table"
           }
          ]
         },
         "layout": {
          "annotationdefaults": {
           "arrowcolor": "#2a3f5f",
           "arrowhead": 0,
           "arrowwidth": 1
          },
          "autotypenumbers": "strict",
          "coloraxis": {
           "colorbar": {
            "outlinewidth": 0,
            "ticks": ""
           }
          },
          "colorscale": {
           "diverging": [
            [
             0,
             "#8e0152"
            ],
            [
             0.1,
             "#c51b7d"
            ],
            [
             0.2,
             "#de77ae"
            ],
            [
             0.3,
             "#f1b6da"
            ],
            [
             0.4,
             "#fde0ef"
            ],
            [
             0.5,
             "#f7f7f7"
            ],
            [
             0.6,
             "#e6f5d0"
            ],
            [
             0.7,
             "#b8e186"
            ],
            [
             0.8,
             "#7fbc41"
            ],
            [
             0.9,
             "#4d9221"
            ],
            [
             1,
             "#276419"
            ]
           ],
           "sequential": [
            [
             0,
             "#0d0887"
            ],
            [
             0.1111111111111111,
             "#46039f"
            ],
            [
             0.2222222222222222,
             "#7201a8"
            ],
            [
             0.3333333333333333,
             "#9c179e"
            ],
            [
             0.4444444444444444,
             "#bd3786"
            ],
            [
             0.5555555555555556,
             "#d8576b"
            ],
            [
             0.6666666666666666,
             "#ed7953"
            ],
            [
             0.7777777777777778,
             "#fb9f3a"
            ],
            [
             0.8888888888888888,
             "#fdca26"
            ],
            [
             1,
             "#f0f921"
            ]
           ],
           "sequentialminus": [
            [
             0,
             "#0d0887"
            ],
            [
             0.1111111111111111,
             "#46039f"
            ],
            [
             0.2222222222222222,
             "#7201a8"
            ],
            [
             0.3333333333333333,
             "#9c179e"
            ],
            [
             0.4444444444444444,
             "#bd3786"
            ],
            [
             0.5555555555555556,
             "#d8576b"
            ],
            [
             0.6666666666666666,
             "#ed7953"
            ],
            [
             0.7777777777777778,
             "#fb9f3a"
            ],
            [
             0.8888888888888888,
             "#fdca26"
            ],
            [
             1,
             "#f0f921"
            ]
           ]
          },
          "colorway": [
           "#636efa",
           "#EF553B",
           "#00cc96",
           "#ab63fa",
           "#FFA15A",
           "#19d3f3",
           "#FF6692",
           "#B6E880",
           "#FF97FF",
           "#FECB52"
          ],
          "font": {
           "color": "#2a3f5f"
          },
          "geo": {
           "bgcolor": "white",
           "lakecolor": "white",
           "landcolor": "#E5ECF6",
           "showlakes": true,
           "showland": true,
           "subunitcolor": "white"
          },
          "hoverlabel": {
           "align": "left"
          },
          "hovermode": "closest",
          "mapbox": {
           "style": "light"
          },
          "paper_bgcolor": "white",
          "plot_bgcolor": "#E5ECF6",
          "polar": {
           "angularaxis": {
            "gridcolor": "white",
            "linecolor": "white",
            "ticks": ""
           },
           "bgcolor": "#E5ECF6",
           "radialaxis": {
            "gridcolor": "white",
            "linecolor": "white",
            "ticks": ""
           }
          },
          "scene": {
           "xaxis": {
            "backgroundcolor": "#E5ECF6",
            "gridcolor": "white",
            "gridwidth": 2,
            "linecolor": "white",
            "showbackground": true,
            "ticks": "",
            "zerolinecolor": "white"
           },
           "yaxis": {
            "backgroundcolor": "#E5ECF6",
            "gridcolor": "white",
            "gridwidth": 2,
            "linecolor": "white",
            "showbackground": true,
            "ticks": "",
            "zerolinecolor": "white"
           },
           "zaxis": {
            "backgroundcolor": "#E5ECF6",
            "gridcolor": "white",
            "gridwidth": 2,
            "linecolor": "white",
            "showbackground": true,
            "ticks": "",
            "zerolinecolor": "white"
           }
          },
          "shapedefaults": {
           "line": {
            "color": "#2a3f5f"
           }
          },
          "ternary": {
           "aaxis": {
            "gridcolor": "white",
            "linecolor": "white",
            "ticks": ""
           },
           "baxis": {
            "gridcolor": "white",
            "linecolor": "white",
            "ticks": ""
           },
           "bgcolor": "#E5ECF6",
           "caxis": {
            "gridcolor": "white",
            "linecolor": "white",
            "ticks": ""
           }
          },
          "title": {
           "x": 0.05
          },
          "xaxis": {
           "automargin": true,
           "gridcolor": "white",
           "linecolor": "white",
           "ticks": "",
           "title": {
            "standoff": 15
           },
           "zerolinecolor": "white",
           "zerolinewidth": 2
          },
          "yaxis": {
           "automargin": true,
           "gridcolor": "white",
           "linecolor": "white",
           "ticks": "",
           "title": {
            "standoff": 15
           },
           "zerolinecolor": "white",
           "zerolinewidth": 2
          }
         }
        },
        "title": {
         "text": "Распределение переплаты пользователей",
         "x": 0.5
        },
        "xaxis": {
         "title": {
          "text": ""
         }
        },
        "yaxis": {
         "autorange": true,
         "title": {
          "text": "Сумма"
         },
         "type": "log"
        }
       }
      },
      "text/html": [
       "<div>                            <div id=\"294c1020-8965-41dd-b983-c28044047c4f\" class=\"plotly-graph-div\" style=\"height:525px; width:100%;\"></div>            <script type=\"text/javascript\">                require([\"plotly\"], function(Plotly) {                    window.PLOTLYENV=window.PLOTLYENV || {};                                    if (document.getElementById(\"294c1020-8965-41dd-b983-c28044047c4f\")) {                    Plotly.newPlot(                        \"294c1020-8965-41dd-b983-c28044047c4f\",                        [{\"boxpoints\":\"outliers\",\"name\":\"\\u041f\\u0435\\u0440\\u0435\\u043f\\u043b\\u0430\\u0442\\u0430\",\"y\":[19567.0,18341.4,17476.800000000003,22548.6,74608.90000000001,80165.2,20497.800000000003,20516.5,7658.799999999999,437.60000000000036,850.0,550.0,850.0,25280.200000000004,20332.6,39418.25,514.3999999999996,7496.0,3629.3999999999996,3795.3999999999996,4387.8499999999985,658.6500000000005,55625.700000000004,79089.6,63267.9,27970.399999999998,63575.1,28832.999999999996,168.5999999999999,5596.1500000000015,7663.799999999999,931.8000000000002,1018.6000000000004,195.80000000000018,1000.0,1000.0,850.0,133023.6,123461.4,109495.4,12.800000000000182,111.40000000000009,208.19999999999982,3742.2000000000007,3513.6000000000004,3427.0,327.60000000000036,21512.4,41637.0,617.1000000000004,3466.6000000000004,5834.0,5173.200000000001,2763.2000000000007,6910.800000000001,7059.5999999999985,2452.3,2460.7999999999997,2434.0,6453.5999999999985,3544.7999999999993,916.1999999999998,358.9000000000001,457.5999999999999,541.8999999999999,29865.700000000004,59825.8,39072.399999999994,797.1999999999998,721.8000000000002,1707.2000000000007,665.5999999999999,545.5999999999999,329.4000000000001,7297.5999999999985,13905.199999999997,13652.800000000001,400.0,700.0,9343.8,8134.4000000000015,713.2,462.0,1314.7999999999997,2250.0,2000.0,2250.0,2250.0,2250.0,2250.0,8384.0,8449.0,7398.0,491.6999999999998,472.85000000000036,921.2000000000007,295.0,325.1999999999998,51.80000000000018,265.0,3425.0,1017.3000000000002,778.5,1462.4000000000005,10278.800000000001,8541.599999999999,700.0,400.0,550.0,61102.0,83373.8,75568.8,94226.79999999999,43986.90000000001,3533.5999999999985,330.1999999999998,1441.6000000000004,1392.0,2142.3999999999996,17412.0,4504.4000000000015,31557.199999999997,317.0,18799.199999999997,21618.800000000003,454.39999999999964,830.6000000000004,1051.8000000000002,50.0,3348.3999999999996,169.9000000000001,527.8,241.5,0.5,2120.6000000000004,2929.3999999999996,842.8,1124.3999999999996,332.0,664.4000000000001,14072.0,15909.599999999999,10942.400000000001,54114.0,57487.5,5656.4000000000015,38690.0,69270.6,67415.79999999999,2750.0,2750.0,2750.0,2160.3999999999996,775.5499999999993,1916.6000000000004,3030.3999999999996,20524.199999999997,9737.599999999999,872.8000000000002,1179.500000000001,1028.4499999999998,1600.699999999999,14585.0,7785.0,647.0,354.0,2508.7999999999997,2172.5,1280.1999999999998,10273.599999999999,5059.200000000001,6590.0,850.0,1000.0,697.5999999999999,82.59999999999991,756.5999999999999,850.0,222.5999999999999,460.5999999999999,545.1999999999998,1536.199999999999,5648.549999999999,4894.200000000001,850.0,850.0,850.0,850.0,2451.3999999999996,6164.4,17007.0,699.8,850.0,20455.199999999997,21377.600000000002,15924.5,11813.199999999999,12192.4,378.1999999999998,80.19999999999982,1738.0,13195.400000000001,24370.199999999997,203.19999999999982,10878.400000000001,3736.0,1750.0,379.0,2053.2000000000007,2142.8999999999996,18268.999999999996,16619.600000000002,1000.0,821.2,826.8,683.0,1690.499999999999,1000.0,13305.8,6695.500000000002,4444.799999999999,1038.6000000000004,2750.0,2723.6000000000004,851.3999999999996,681.3999999999996,53465.40000000001,55399.49999999999,17844.7,700.0,9706.400000000001,20284.800000000003,256.1999999999998,3090.0,3504.7999999999993,33363.2,58503.600000000006,25356.799999999996,12548.1,30073.199999999997,8681.599999999999,16228.399999999998,286456.5,229124.40000000002,849.3999999999996,848.4000000000001,109968.79999999999,80437.20000000001,1000.0,850.0,465.0,390.5999999999999,3391.0,5109.4,169.0,8474.8,429.0,121.80000000000018,2071.3999999999996,11849.0,844.4000000000001,401.5999999999999,2140.0,2740.7999999999993,21705.4,47022.0,418.0,5275.6,21949.0,700.0,700.0,367.5999999999999,293.5999999999999,1718.8000000000002,2925.699999999999,23588.8,822.8499999999999,344.4000000000001,48975.149999999994,700.0,305.4000000000001,4177.200000000001,33043.0,260.1999999999998,635.1999999999998,2217.2000000000003,346.8000000000002,1628.3000000000002,12414.8,3000.0,19652.5,831.4000000000001,3000.0,92.0,677.8,1000.0,850.0,3448.7999999999993,69727.6,1000.0,850.0,98748.3,7096.4000000000015,17500.800000000003,465.0,700.0,850.0,700.0,10776.800000000001],\"type\":\"box\"}],                        {\"template\":{\"data\":{\"bar\":[{\"error_x\":{\"color\":\"#2a3f5f\"},\"error_y\":{\"color\":\"#2a3f5f\"},\"marker\":{\"line\":{\"color\":\"#E5ECF6\",\"width\":0.5},\"pattern\":{\"fillmode\":\"overlay\",\"size\":10,\"solidity\":0.2}},\"type\":\"bar\"}],\"barpolar\":[{\"marker\":{\"line\":{\"color\":\"#E5ECF6\",\"width\":0.5},\"pattern\":{\"fillmode\":\"overlay\",\"size\":10,\"solidity\":0.2}},\"type\":\"barpolar\"}],\"carpet\":[{\"aaxis\":{\"endlinecolor\":\"#2a3f5f\",\"gridcolor\":\"white\",\"linecolor\":\"white\",\"minorgridcolor\":\"white\",\"startlinecolor\":\"#2a3f5f\"},\"baxis\":{\"endlinecolor\":\"#2a3f5f\",\"gridcolor\":\"white\",\"linecolor\":\"white\",\"minorgridcolor\":\"white\",\"startlinecolor\":\"#2a3f5f\"},\"type\":\"carpet\"}],\"choropleth\":[{\"colorbar\":{\"outlinewidth\":0,\"ticks\":\"\"},\"type\":\"choropleth\"}],\"contour\":[{\"colorbar\":{\"outlinewidth\":0,\"ticks\":\"\"},\"colorscale\":[[0.0,\"#0d0887\"],[0.1111111111111111,\"#46039f\"],[0.2222222222222222,\"#7201a8\"],[0.3333333333333333,\"#9c179e\"],[0.4444444444444444,\"#bd3786\"],[0.5555555555555556,\"#d8576b\"],[0.6666666666666666,\"#ed7953\"],[0.7777777777777778,\"#fb9f3a\"],[0.8888888888888888,\"#fdca26\"],[1.0,\"#f0f921\"]],\"type\":\"contour\"}],\"contourcarpet\":[{\"colorbar\":{\"outlinewidth\":0,\"ticks\":\"\"},\"type\":\"contourcarpet\"}],\"heatmap\":[{\"colorbar\":{\"outlinewidth\":0,\"ticks\":\"\"},\"colorscale\":[[0.0,\"#0d0887\"],[0.1111111111111111,\"#46039f\"],[0.2222222222222222,\"#7201a8\"],[0.3333333333333333,\"#9c179e\"],[0.4444444444444444,\"#bd3786\"],[0.5555555555555556,\"#d8576b\"],[0.6666666666666666,\"#ed7953\"],[0.7777777777777778,\"#fb9f3a\"],[0.8888888888888888,\"#fdca26\"],[1.0,\"#f0f921\"]],\"type\":\"heatmap\"}],\"heatmapgl\":[{\"colorbar\":{\"outlinewidth\":0,\"ticks\":\"\"},\"colorscale\":[[0.0,\"#0d0887\"],[0.1111111111111111,\"#46039f\"],[0.2222222222222222,\"#7201a8\"],[0.3333333333333333,\"#9c179e\"],[0.4444444444444444,\"#bd3786\"],[0.5555555555555556,\"#d8576b\"],[0.6666666666666666,\"#ed7953\"],[0.7777777777777778,\"#fb9f3a\"],[0.8888888888888888,\"#fdca26\"],[1.0,\"#f0f921\"]],\"type\":\"heatmapgl\"}],\"histogram\":[{\"marker\":{\"pattern\":{\"fillmode\":\"overlay\",\"size\":10,\"solidity\":0.2}},\"type\":\"histogram\"}],\"histogram2d\":[{\"colorbar\":{\"outlinewidth\":0,\"ticks\":\"\"},\"colorscale\":[[0.0,\"#0d0887\"],[0.1111111111111111,\"#46039f\"],[0.2222222222222222,\"#7201a8\"],[0.3333333333333333,\"#9c179e\"],[0.4444444444444444,\"#bd3786\"],[0.5555555555555556,\"#d8576b\"],[0.6666666666666666,\"#ed7953\"],[0.7777777777777778,\"#fb9f3a\"],[0.8888888888888888,\"#fdca26\"],[1.0,\"#f0f921\"]],\"type\":\"histogram2d\"}],\"histogram2dcontour\":[{\"colorbar\":{\"outlinewidth\":0,\"ticks\":\"\"},\"colorscale\":[[0.0,\"#0d0887\"],[0.1111111111111111,\"#46039f\"],[0.2222222222222222,\"#7201a8\"],[0.3333333333333333,\"#9c179e\"],[0.4444444444444444,\"#bd3786\"],[0.5555555555555556,\"#d8576b\"],[0.6666666666666666,\"#ed7953\"],[0.7777777777777778,\"#fb9f3a\"],[0.8888888888888888,\"#fdca26\"],[1.0,\"#f0f921\"]],\"type\":\"histogram2dcontour\"}],\"mesh3d\":[{\"colorbar\":{\"outlinewidth\":0,\"ticks\":\"\"},\"type\":\"mesh3d\"}],\"parcoords\":[{\"line\":{\"colorbar\":{\"outlinewidth\":0,\"ticks\":\"\"}},\"type\":\"parcoords\"}],\"pie\":[{\"automargin\":true,\"type\":\"pie\"}],\"scatter\":[{\"marker\":{\"colorbar\":{\"outlinewidth\":0,\"ticks\":\"\"}},\"type\":\"scatter\"}],\"scatter3d\":[{\"line\":{\"colorbar\":{\"outlinewidth\":0,\"ticks\":\"\"}},\"marker\":{\"colorbar\":{\"outlinewidth\":0,\"ticks\":\"\"}},\"type\":\"scatter3d\"}],\"scattercarpet\":[{\"marker\":{\"colorbar\":{\"outlinewidth\":0,\"ticks\":\"\"}},\"type\":\"scattercarpet\"}],\"scattergeo\":[{\"marker\":{\"colorbar\":{\"outlinewidth\":0,\"ticks\":\"\"}},\"type\":\"scattergeo\"}],\"scattergl\":[{\"marker\":{\"colorbar\":{\"outlinewidth\":0,\"ticks\":\"\"}},\"type\":\"scattergl\"}],\"scattermapbox\":[{\"marker\":{\"colorbar\":{\"outlinewidth\":0,\"ticks\":\"\"}},\"type\":\"scattermapbox\"}],\"scatterpolar\":[{\"marker\":{\"colorbar\":{\"outlinewidth\":0,\"ticks\":\"\"}},\"type\":\"scatterpolar\"}],\"scatterpolargl\":[{\"marker\":{\"colorbar\":{\"outlinewidth\":0,\"ticks\":\"\"}},\"type\":\"scatterpolargl\"}],\"scatterternary\":[{\"marker\":{\"colorbar\":{\"outlinewidth\":0,\"ticks\":\"\"}},\"type\":\"scatterternary\"}],\"surface\":[{\"colorbar\":{\"outlinewidth\":0,\"ticks\":\"\"},\"colorscale\":[[0.0,\"#0d0887\"],[0.1111111111111111,\"#46039f\"],[0.2222222222222222,\"#7201a8\"],[0.3333333333333333,\"#9c179e\"],[0.4444444444444444,\"#bd3786\"],[0.5555555555555556,\"#d8576b\"],[0.6666666666666666,\"#ed7953\"],[0.7777777777777778,\"#fb9f3a\"],[0.8888888888888888,\"#fdca26\"],[1.0,\"#f0f921\"]],\"type\":\"surface\"}],\"table\":[{\"cells\":{\"fill\":{\"color\":\"#EBF0F8\"},\"line\":{\"color\":\"white\"}},\"header\":{\"fill\":{\"color\":\"#C8D4E3\"},\"line\":{\"color\":\"white\"}},\"type\":\"table\"}]},\"layout\":{\"annotationdefaults\":{\"arrowcolor\":\"#2a3f5f\",\"arrowhead\":0,\"arrowwidth\":1},\"autotypenumbers\":\"strict\",\"coloraxis\":{\"colorbar\":{\"outlinewidth\":0,\"ticks\":\"\"}},\"colorscale\":{\"diverging\":[[0,\"#8e0152\"],[0.1,\"#c51b7d\"],[0.2,\"#de77ae\"],[0.3,\"#f1b6da\"],[0.4,\"#fde0ef\"],[0.5,\"#f7f7f7\"],[0.6,\"#e6f5d0\"],[0.7,\"#b8e186\"],[0.8,\"#7fbc41\"],[0.9,\"#4d9221\"],[1,\"#276419\"]],\"sequential\":[[0.0,\"#0d0887\"],[0.1111111111111111,\"#46039f\"],[0.2222222222222222,\"#7201a8\"],[0.3333333333333333,\"#9c179e\"],[0.4444444444444444,\"#bd3786\"],[0.5555555555555556,\"#d8576b\"],[0.6666666666666666,\"#ed7953\"],[0.7777777777777778,\"#fb9f3a\"],[0.8888888888888888,\"#fdca26\"],[1.0,\"#f0f921\"]],\"sequentialminus\":[[0.0,\"#0d0887\"],[0.1111111111111111,\"#46039f\"],[0.2222222222222222,\"#7201a8\"],[0.3333333333333333,\"#9c179e\"],[0.4444444444444444,\"#bd3786\"],[0.5555555555555556,\"#d8576b\"],[0.6666666666666666,\"#ed7953\"],[0.7777777777777778,\"#fb9f3a\"],[0.8888888888888888,\"#fdca26\"],[1.0,\"#f0f921\"]]},\"colorway\":[\"#636efa\",\"#EF553B\",\"#00cc96\",\"#ab63fa\",\"#FFA15A\",\"#19d3f3\",\"#FF6692\",\"#B6E880\",\"#FF97FF\",\"#FECB52\"],\"font\":{\"color\":\"#2a3f5f\"},\"geo\":{\"bgcolor\":\"white\",\"lakecolor\":\"white\",\"landcolor\":\"#E5ECF6\",\"showlakes\":true,\"showland\":true,\"subunitcolor\":\"white\"},\"hoverlabel\":{\"align\":\"left\"},\"hovermode\":\"closest\",\"mapbox\":{\"style\":\"light\"},\"paper_bgcolor\":\"white\",\"plot_bgcolor\":\"#E5ECF6\",\"polar\":{\"angularaxis\":{\"gridcolor\":\"white\",\"linecolor\":\"white\",\"ticks\":\"\"},\"bgcolor\":\"#E5ECF6\",\"radialaxis\":{\"gridcolor\":\"white\",\"linecolor\":\"white\",\"ticks\":\"\"}},\"scene\":{\"xaxis\":{\"backgroundcolor\":\"#E5ECF6\",\"gridcolor\":\"white\",\"gridwidth\":2,\"linecolor\":\"white\",\"showbackground\":true,\"ticks\":\"\",\"zerolinecolor\":\"white\"},\"yaxis\":{\"backgroundcolor\":\"#E5ECF6\",\"gridcolor\":\"white\",\"gridwidth\":2,\"linecolor\":\"white\",\"showbackground\":true,\"ticks\":\"\",\"zerolinecolor\":\"white\"},\"zaxis\":{\"backgroundcolor\":\"#E5ECF6\",\"gridcolor\":\"white\",\"gridwidth\":2,\"linecolor\":\"white\",\"showbackground\":true,\"ticks\":\"\",\"zerolinecolor\":\"white\"}},\"shapedefaults\":{\"line\":{\"color\":\"#2a3f5f\"}},\"ternary\":{\"aaxis\":{\"gridcolor\":\"white\",\"linecolor\":\"white\",\"ticks\":\"\"},\"baxis\":{\"gridcolor\":\"white\",\"linecolor\":\"white\",\"ticks\":\"\"},\"bgcolor\":\"#E5ECF6\",\"caxis\":{\"gridcolor\":\"white\",\"linecolor\":\"white\",\"ticks\":\"\"}},\"title\":{\"x\":0.05},\"xaxis\":{\"automargin\":true,\"gridcolor\":\"white\",\"linecolor\":\"white\",\"ticks\":\"\",\"title\":{\"standoff\":15},\"zerolinecolor\":\"white\",\"zerolinewidth\":2},\"yaxis\":{\"automargin\":true,\"gridcolor\":\"white\",\"linecolor\":\"white\",\"ticks\":\"\",\"title\":{\"standoff\":15},\"zerolinecolor\":\"white\",\"zerolinewidth\":2}}},\"yaxis\":{\"title\":{\"text\":\"\\u0421\\u0443\\u043c\\u043c\\u0430\"},\"type\":\"log\",\"autorange\":true},\"title\":{\"text\":\"\\u0420\\u0430\\u0441\\u043f\\u0440\\u0435\\u0434\\u0435\\u043b\\u0435\\u043d\\u0438\\u0435 \\u043f\\u0435\\u0440\\u0435\\u043f\\u043b\\u0430\\u0442\\u044b \\u043f\\u043e\\u043b\\u044c\\u0437\\u043e\\u0432\\u0430\\u0442\\u0435\\u043b\\u0435\\u0439\",\"x\":0.5},\"xaxis\":{\"title\":{\"text\":\"\"}}},                        {\"responsive\": true}                    ).then(function(){\n",
       "                            \n",
       "var gd = document.getElementById('294c1020-8965-41dd-b983-c28044047c4f');\n",
       "var x = new MutationObserver(function (mutations, observer) {{\n",
       "        var display = window.getComputedStyle(gd).display;\n",
       "        if (!display || display === 'none') {{\n",
       "            console.log([gd, 'removed!']);\n",
       "            Plotly.purge(gd);\n",
       "            observer.disconnect();\n",
       "        }}\n",
       "}});\n",
       "\n",
       "// Listen for the removal of the full notebook cells\n",
       "var notebookContainer = gd.closest('#notebook-container');\n",
       "if (notebookContainer) {{\n",
       "    x.observe(notebookContainer, {childList: true});\n",
       "}}\n",
       "\n",
       "// Listen for the clearing of the current output cell\n",
       "var outputEl = gd.closest('.output');\n",
       "if (outputEl) {{\n",
       "    x.observe(outputEl, {childList: true});\n",
       "}}\n",
       "\n",
       "                        })                };                });            </script>        </div>"
      ]
     },
     "metadata": {},
     "output_type": "display_data"
    }
   ],
   "source": [
    "fig = go.Figure()\n",
    "\n",
    "fig.add_trace(go.Box(\n",
    "    y=suboptimal_tariff['overpayment'],\n",
    "    name='Переплата',\n",
    "    boxpoints='outliers'  # Показываем только выбросы\n",
    "))\n",
    "\n",
    "fig.update_layout(\n",
    "    title=\"Распределение переплаты пользователей\",\n",
    "    xaxis_title=\"\",\n",
    "    yaxis_title=\"Сумма\",\n",
    "    yaxis=dict(\n",
    "        type='log',  # Логарифмическая шкала для лучшего отображения\n",
    "        autorange=True\n",
    "    ),\n",
    "    title_x=0.5\n",
    ")\n",
    "\n",
    "fig.show()"
   ]
  },
  {
   "cell_type": "markdown",
   "metadata": {},
   "source": [
    "Медианная переплата составляет 2250 рублей. Максимальное значени достигает 286 тысяч рублей"
   ]
  },
  {
   "cell_type": "code",
   "execution_count": 390,
   "metadata": {},
   "outputs": [
    {
     "name": "stdout",
     "output_type": "stream",
     "text": [
      "   клиент  старый_тариф  новый_тариф\n",
      "0  166377       55517.5      35950.5\n",
      "1  166377       52353.5      34012.1\n",
      "2  166377       50292.0      32815.2\n",
      "6  166405       62971.5      40422.9\n",
      "7  166405      192459.7     117850.8\n"
     ]
    }
   ],
   "source": [
    "# таблица вида \"клиент - старый тариф - новый тариф\"\n",
    "client_tariff_comparison = suboptimal_tariff[['user_id', 'current_price', 'best_price']]\n",
    "\n",
    "# Переименовываем столбцы для ясности\n",
    "client_tariff_comparison.columns = ['клиент', 'старый_тариф', 'новый_тариф']\n",
    "\n",
    "# Отображаем первые строки таблицы\n",
    "print(client_tariff_comparison.head())"
   ]
  },
  {
   "cell_type": "code",
   "execution_count": 391,
   "metadata": {},
   "outputs": [
    {
     "data": {
      "text/html": [
       "<div>\n",
       "<style scoped>\n",
       "    .dataframe tbody tr th:only-of-type {\n",
       "        vertical-align: middle;\n",
       "    }\n",
       "\n",
       "    .dataframe tbody tr th {\n",
       "        vertical-align: top;\n",
       "    }\n",
       "\n",
       "    .dataframe thead th {\n",
       "        text-align: right;\n",
       "    }\n",
       "</style>\n",
       "<table border=\"1\" class=\"dataframe\">\n",
       "  <thead>\n",
       "    <tr style=\"text-align: right;\">\n",
       "      <th></th>\n",
       "      <th>user_id</th>\n",
       "      <th>month</th>\n",
       "      <th>tariff_plan</th>\n",
       "      <th>current_price</th>\n",
       "      <th>price_A</th>\n",
       "      <th>price_B</th>\n",
       "      <th>price_C</th>\n",
       "      <th>best_price</th>\n",
       "      <th>overpayment</th>\n",
       "      <th>overpayment_ratio</th>\n",
       "      <th>optimal_tariff</th>\n",
       "    </tr>\n",
       "  </thead>\n",
       "  <tbody>\n",
       "    <tr>\n",
       "      <th>0</th>\n",
       "      <td>166377</td>\n",
       "      <td>9</td>\n",
       "      <td>B</td>\n",
       "      <td>55517.5</td>\n",
       "      <td>35950.5</td>\n",
       "      <td>55517.5</td>\n",
       "      <td>76287.2</td>\n",
       "      <td>35950.5</td>\n",
       "      <td>19567.0</td>\n",
       "      <td>0.350178</td>\n",
       "      <td>35950.5</td>\n",
       "    </tr>\n",
       "    <tr>\n",
       "      <th>1</th>\n",
       "      <td>166377</td>\n",
       "      <td>10</td>\n",
       "      <td>B</td>\n",
       "      <td>52353.5</td>\n",
       "      <td>34012.1</td>\n",
       "      <td>52353.5</td>\n",
       "      <td>71946.4</td>\n",
       "      <td>34012.1</td>\n",
       "      <td>18341.4</td>\n",
       "      <td>0.350178</td>\n",
       "      <td>34012.1</td>\n",
       "    </tr>\n",
       "    <tr>\n",
       "      <th>2</th>\n",
       "      <td>166377</td>\n",
       "      <td>11</td>\n",
       "      <td>B</td>\n",
       "      <td>50292.0</td>\n",
       "      <td>32815.2</td>\n",
       "      <td>50292.0</td>\n",
       "      <td>69006.9</td>\n",
       "      <td>32815.2</td>\n",
       "      <td>17476.8</td>\n",
       "      <td>0.350178</td>\n",
       "      <td>32815.2</td>\n",
       "    </tr>\n",
       "    <tr>\n",
       "      <th>3</th>\n",
       "      <td>166405</td>\n",
       "      <td>9</td>\n",
       "      <td>B</td>\n",
       "      <td>62971.5</td>\n",
       "      <td>40422.9</td>\n",
       "      <td>62971.5</td>\n",
       "      <td>86720.1</td>\n",
       "      <td>40422.9</td>\n",
       "      <td>22548.6</td>\n",
       "      <td>0.383779</td>\n",
       "      <td>40422.9</td>\n",
       "    </tr>\n",
       "    <tr>\n",
       "      <th>4</th>\n",
       "      <td>166405</td>\n",
       "      <td>10</td>\n",
       "      <td>B</td>\n",
       "      <td>192459.7</td>\n",
       "      <td>117850.8</td>\n",
       "      <td>192459.7</td>\n",
       "      <td>268718.6</td>\n",
       "      <td>117850.8</td>\n",
       "      <td>74608.9</td>\n",
       "      <td>0.383779</td>\n",
       "      <td>117850.8</td>\n",
       "    </tr>\n",
       "    <tr>\n",
       "      <th>5</th>\n",
       "      <td>166405</td>\n",
       "      <td>11</td>\n",
       "      <td>B</td>\n",
       "      <td>206613.0</td>\n",
       "      <td>126447.8</td>\n",
       "      <td>206613.0</td>\n",
       "      <td>288212.7</td>\n",
       "      <td>126447.8</td>\n",
       "      <td>80165.2</td>\n",
       "      <td>0.383779</td>\n",
       "      <td>126447.8</td>\n",
       "    </tr>\n",
       "    <tr>\n",
       "      <th>6</th>\n",
       "      <td>166406</td>\n",
       "      <td>9</td>\n",
       "      <td>B</td>\n",
       "      <td>58044.5</td>\n",
       "      <td>37546.7</td>\n",
       "      <td>58044.5</td>\n",
       "      <td>79650.7</td>\n",
       "      <td>37546.7</td>\n",
       "      <td>20497.8</td>\n",
       "      <td>0.342739</td>\n",
       "      <td>37546.7</td>\n",
       "    </tr>\n",
       "    <tr>\n",
       "      <th>7</th>\n",
       "      <td>166406</td>\n",
       "      <td>10</td>\n",
       "      <td>B</td>\n",
       "      <td>58020.6</td>\n",
       "      <td>37504.1</td>\n",
       "      <td>58020.6</td>\n",
       "      <td>79787.1</td>\n",
       "      <td>37504.1</td>\n",
       "      <td>20516.5</td>\n",
       "      <td>0.342739</td>\n",
       "      <td>37504.1</td>\n",
       "    </tr>\n",
       "    <tr>\n",
       "      <th>8</th>\n",
       "      <td>166406</td>\n",
       "      <td>11</td>\n",
       "      <td>B</td>\n",
       "      <td>25947.0</td>\n",
       "      <td>18288.2</td>\n",
       "      <td>25947.0</td>\n",
       "      <td>34705.8</td>\n",
       "      <td>18288.2</td>\n",
       "      <td>7658.8</td>\n",
       "      <td>0.342739</td>\n",
       "      <td>18288.2</td>\n",
       "    </tr>\n",
       "    <tr>\n",
       "      <th>9</th>\n",
       "      <td>166407</td>\n",
       "      <td>9</td>\n",
       "      <td>A</td>\n",
       "      <td>5389.8</td>\n",
       "      <td>5389.8</td>\n",
       "      <td>4952.2</td>\n",
       "      <td>6349.4</td>\n",
       "      <td>4952.2</td>\n",
       "      <td>437.6</td>\n",
       "      <td>0.081190</td>\n",
       "      <td>5389.8</td>\n",
       "    </tr>\n",
       "  </tbody>\n",
       "</table>\n",
       "</div>"
      ],
      "text/plain": [
       "   user_id  month tariff_plan  current_price   price_A   price_B   price_C  \\\n",
       "0   166377      9           B        55517.5   35950.5   55517.5   76287.2   \n",
       "1   166377     10           B        52353.5   34012.1   52353.5   71946.4   \n",
       "2   166377     11           B        50292.0   32815.2   50292.0   69006.9   \n",
       "3   166405      9           B        62971.5   40422.9   62971.5   86720.1   \n",
       "4   166405     10           B       192459.7  117850.8  192459.7  268718.6   \n",
       "5   166405     11           B       206613.0  126447.8  206613.0  288212.7   \n",
       "6   166406      9           B        58044.5   37546.7   58044.5   79650.7   \n",
       "7   166406     10           B        58020.6   37504.1   58020.6   79787.1   \n",
       "8   166406     11           B        25947.0   18288.2   25947.0   34705.8   \n",
       "9   166407      9           A         5389.8    5389.8    4952.2    6349.4   \n",
       "\n",
       "   best_price  overpayment  overpayment_ratio  optimal_tariff  \n",
       "0     35950.5      19567.0           0.350178         35950.5  \n",
       "1     34012.1      18341.4           0.350178         34012.1  \n",
       "2     32815.2      17476.8           0.350178         32815.2  \n",
       "3     40422.9      22548.6           0.383779         40422.9  \n",
       "4    117850.8      74608.9           0.383779        117850.8  \n",
       "5    126447.8      80165.2           0.383779        126447.8  \n",
       "6     37546.7      20497.8           0.342739         37546.7  \n",
       "7     37504.1      20516.5           0.342739         37504.1  \n",
       "8     18288.2       7658.8           0.342739         18288.2  \n",
       "9      4952.2        437.6           0.081190          5389.8  "
      ]
     },
     "metadata": {},
     "output_type": "display_data"
    }
   ],
   "source": [
    "# Подсчет суммарной переплаты и текущей стоимости за 3 месяца для каждого пользователя\n",
    "user_summary = suboptimal_tariff.groupby('user_id').agg({\n",
    "    'overpayment': 'sum',\n",
    "    'current_price': 'sum'\n",
    "}).reset_index()\n",
    "\n",
    "# Определение критерия переплаты\n",
    "user_summary['overpayment_ratio'] = user_summary['overpayment'] / user_summary['current_price']\n",
    "\n",
    "# Объединение с оригинальным DataFrame\n",
    "suboptimal_tariff = suboptimal_tariff.merge(user_summary[['user_id', 'overpayment_ratio']], on='user_id')\n",
    "\n",
    "# Заполнение столбца optimal_tariff\n",
    "suboptimal_tariff['optimal_tariff'] = suboptimal_tariff.apply(\n",
    "    lambda row: row['best_price'] if row['overpayment_ratio'] > 0.15 else row['current_price'],\n",
    "    axis=1\n",
    ")\n",
    "\n",
    "# Результат\n",
    "display(suboptimal_tariff.head(10))"
   ]
  },
  {
   "cell_type": "code",
   "execution_count": 392,
   "metadata": {},
   "outputs": [
    {
     "data": {
      "text/plain": [
       "0.32279754433153024"
      ]
     },
     "execution_count": 392,
     "metadata": {},
     "output_type": "execute_result"
    }
   ],
   "source": [
    "suboptimal_tariff['overpayment_ratio'].mean()"
   ]
  },
  {
   "cell_type": "code",
   "execution_count": 393,
   "metadata": {},
   "outputs": [
    {
     "data": {
      "text/plain": [
       "0.016129032258064516"
      ]
     },
     "execution_count": 393,
     "metadata": {},
     "output_type": "execute_result"
    }
   ],
   "source": [
    "suboptimal_tariff['overpayment_ratio'].min()"
   ]
  },
  {
   "cell_type": "code",
   "execution_count": 394,
   "metadata": {},
   "outputs": [],
   "source": [
    "# Функция для получения названия тарифа по цене\n",
    "def get_tariff_by_price(row, price):\n",
    "    if price == row['price_A']:\n",
    "        return 'A'\n",
    "    elif price == row['price_B']:\n",
    "        return 'B'\n",
    "    elif price == row['price_C']:\n",
    "        return 'C'\n",
    "    return None\n",
    "\n",
    "new_table = suboptimal_tariff[['user_id', 'current_price', 'optimal_tariff']].drop_duplicates()\n",
    "\n",
    "# Определение старого и нового тарифов\n",
    "new_table['current_tariff'] = suboptimal_tariff.apply(lambda row: get_tariff_by_price(row, row['current_price']), axis=1)\n",
    "new_table['new_tariff'] = suboptimal_tariff.apply(lambda row: get_tariff_by_price(row, row['optimal_tariff']), axis=1)\n",
    "\n",
    "final_table = new_table[['user_id', 'current_tariff', 'new_tariff']].drop_duplicates()"
   ]
  },
  {
   "cell_type": "code",
   "execution_count": 395,
   "metadata": {
    "scrolled": true
   },
   "outputs": [
    {
     "data": {
      "text/plain": [
       "0"
      ]
     },
     "execution_count": 395,
     "metadata": {},
     "output_type": "execute_result"
    }
   ],
   "source": [
    "final_table['current_tariff'].isna().sum()"
   ]
  },
  {
   "cell_type": "code",
   "execution_count": 396,
   "metadata": {},
   "outputs": [
    {
     "data": {
      "text/plain": [
       "0"
      ]
     },
     "execution_count": 396,
     "metadata": {},
     "output_type": "execute_result"
    }
   ],
   "source": [
    "final_table['new_tariff'].isna().sum()"
   ]
  },
  {
   "cell_type": "code",
   "execution_count": 397,
   "metadata": {},
   "outputs": [
    {
     "data": {
      "text/html": [
       "<div>\n",
       "<style scoped>\n",
       "    .dataframe tbody tr th:only-of-type {\n",
       "        vertical-align: middle;\n",
       "    }\n",
       "\n",
       "    .dataframe tbody tr th {\n",
       "        vertical-align: top;\n",
       "    }\n",
       "\n",
       "    .dataframe thead th {\n",
       "        text-align: right;\n",
       "    }\n",
       "</style>\n",
       "<table border=\"1\" class=\"dataframe\">\n",
       "  <thead>\n",
       "    <tr style=\"text-align: right;\">\n",
       "      <th></th>\n",
       "      <th>user_id</th>\n",
       "      <th>current_tariff</th>\n",
       "      <th>new_tariff</th>\n",
       "    </tr>\n",
       "  </thead>\n",
       "  <tbody>\n",
       "    <tr>\n",
       "      <th>0</th>\n",
       "      <td>166377</td>\n",
       "      <td>B</td>\n",
       "      <td>A</td>\n",
       "    </tr>\n",
       "    <tr>\n",
       "      <th>3</th>\n",
       "      <td>166405</td>\n",
       "      <td>B</td>\n",
       "      <td>A</td>\n",
       "    </tr>\n",
       "    <tr>\n",
       "      <th>6</th>\n",
       "      <td>166406</td>\n",
       "      <td>B</td>\n",
       "      <td>A</td>\n",
       "    </tr>\n",
       "    <tr>\n",
       "      <th>9</th>\n",
       "      <td>166407</td>\n",
       "      <td>A</td>\n",
       "      <td>A</td>\n",
       "    </tr>\n",
       "    <tr>\n",
       "      <th>10</th>\n",
       "      <td>166428</td>\n",
       "      <td>B</td>\n",
       "      <td>C</td>\n",
       "    </tr>\n",
       "    <tr>\n",
       "      <th>13</th>\n",
       "      <td>166485</td>\n",
       "      <td>B</td>\n",
       "      <td>A</td>\n",
       "    </tr>\n",
       "    <tr>\n",
       "      <th>16</th>\n",
       "      <td>166487</td>\n",
       "      <td>C</td>\n",
       "      <td>C</td>\n",
       "    </tr>\n",
       "    <tr>\n",
       "      <th>17</th>\n",
       "      <td>166495</td>\n",
       "      <td>B</td>\n",
       "      <td>A</td>\n",
       "    </tr>\n",
       "    <tr>\n",
       "      <th>20</th>\n",
       "      <td>166503</td>\n",
       "      <td>B</td>\n",
       "      <td>A</td>\n",
       "    </tr>\n",
       "    <tr>\n",
       "      <th>22</th>\n",
       "      <td>166511</td>\n",
       "      <td>C</td>\n",
       "      <td>A</td>\n",
       "    </tr>\n",
       "  </tbody>\n",
       "</table>\n",
       "</div>"
      ],
      "text/plain": [
       "    user_id current_tariff new_tariff\n",
       "0    166377              B          A\n",
       "3    166405              B          A\n",
       "6    166406              B          A\n",
       "9    166407              A          A\n",
       "10   166428              B          C\n",
       "13   166485              B          A\n",
       "16   166487              C          C\n",
       "17   166495              B          A\n",
       "20   166503              B          A\n",
       "22   166511              C          A"
      ]
     },
     "execution_count": 397,
     "metadata": {},
     "output_type": "execute_result"
    }
   ],
   "source": [
    "final_table.head(10)"
   ]
  },
  {
   "cell_type": "code",
   "execution_count": 398,
   "metadata": {},
   "outputs": [
    {
     "data": {
      "application/vnd.plotly.v1+json": {
       "config": {
        "plotlyServerURL": "https://plot.ly"
       },
       "data": [
        {
         "domain": {
          "x": [
           0,
           0.45
          ],
          "y": [
           0,
           1
          ]
         },
         "insidetextorientation": "radial",
         "labels": [
          "B",
          "C",
          "A"
         ],
         "legendgroup": "group1",
         "marker": {
          "colors": [
           "#636EFA",
           "#EF553B",
           "#00CC96"
          ]
         },
         "name": "Текущие тарифы",
         "showlegend": false,
         "textinfo": "label+percent",
         "type": "pie",
         "values": [
          82,
          60,
          17
         ]
        },
        {
         "domain": {
          "x": [
           0.55,
           1
          ],
          "y": [
           0,
           1
          ]
         },
         "insidetextorientation": "radial",
         "labels": [
          "A",
          "C",
          "B"
         ],
         "legendgroup": "group2",
         "marker": {
          "colors": [
           "#FF6692",
           "#FFA15A",
           "#19D3F3"
          ]
         },
         "name": "Новые тарифы",
         "showlegend": false,
         "textinfo": "label+percent",
         "type": "pie",
         "values": [
          81,
          56,
          22
         ]
        }
       ],
       "layout": {
        "annotations": [
         {
          "font": {
           "size": 16
          },
          "showarrow": false,
          "text": "Текущие тарифы",
          "x": 0.225,
          "xanchor": "center",
          "xref": "paper",
          "y": 1,
          "yanchor": "bottom",
          "yref": "paper"
         },
         {
          "font": {
           "size": 16
          },
          "showarrow": false,
          "text": "Новые тарифы",
          "x": 0.775,
          "xanchor": "center",
          "xref": "paper",
          "y": 1,
          "yanchor": "bottom",
          "yref": "paper"
         }
        ],
        "legend": {
         "font": {
          "size": 10
         },
         "traceorder": "grouped",
         "x": 0.5,
         "y": 0.5
        },
        "template": {
         "data": {
          "bar": [
           {
            "error_x": {
             "color": "#2a3f5f"
            },
            "error_y": {
             "color": "#2a3f5f"
            },
            "marker": {
             "line": {
              "color": "#E5ECF6",
              "width": 0.5
             },
             "pattern": {
              "fillmode": "overlay",
              "size": 10,
              "solidity": 0.2
             }
            },
            "type": "bar"
           }
          ],
          "barpolar": [
           {
            "marker": {
             "line": {
              "color": "#E5ECF6",
              "width": 0.5
             },
             "pattern": {
              "fillmode": "overlay",
              "size": 10,
              "solidity": 0.2
             }
            },
            "type": "barpolar"
           }
          ],
          "carpet": [
           {
            "aaxis": {
             "endlinecolor": "#2a3f5f",
             "gridcolor": "white",
             "linecolor": "white",
             "minorgridcolor": "white",
             "startlinecolor": "#2a3f5f"
            },
            "baxis": {
             "endlinecolor": "#2a3f5f",
             "gridcolor": "white",
             "linecolor": "white",
             "minorgridcolor": "white",
             "startlinecolor": "#2a3f5f"
            },
            "type": "carpet"
           }
          ],
          "choropleth": [
           {
            "colorbar": {
             "outlinewidth": 0,
             "ticks": ""
            },
            "type": "choropleth"
           }
          ],
          "contour": [
           {
            "colorbar": {
             "outlinewidth": 0,
             "ticks": ""
            },
            "colorscale": [
             [
              0,
              "#0d0887"
             ],
             [
              0.1111111111111111,
              "#46039f"
             ],
             [
              0.2222222222222222,
              "#7201a8"
             ],
             [
              0.3333333333333333,
              "#9c179e"
             ],
             [
              0.4444444444444444,
              "#bd3786"
             ],
             [
              0.5555555555555556,
              "#d8576b"
             ],
             [
              0.6666666666666666,
              "#ed7953"
             ],
             [
              0.7777777777777778,
              "#fb9f3a"
             ],
             [
              0.8888888888888888,
              "#fdca26"
             ],
             [
              1,
              "#f0f921"
             ]
            ],
            "type": "contour"
           }
          ],
          "contourcarpet": [
           {
            "colorbar": {
             "outlinewidth": 0,
             "ticks": ""
            },
            "type": "contourcarpet"
           }
          ],
          "heatmap": [
           {
            "colorbar": {
             "outlinewidth": 0,
             "ticks": ""
            },
            "colorscale": [
             [
              0,
              "#0d0887"
             ],
             [
              0.1111111111111111,
              "#46039f"
             ],
             [
              0.2222222222222222,
              "#7201a8"
             ],
             [
              0.3333333333333333,
              "#9c179e"
             ],
             [
              0.4444444444444444,
              "#bd3786"
             ],
             [
              0.5555555555555556,
              "#d8576b"
             ],
             [
              0.6666666666666666,
              "#ed7953"
             ],
             [
              0.7777777777777778,
              "#fb9f3a"
             ],
             [
              0.8888888888888888,
              "#fdca26"
             ],
             [
              1,
              "#f0f921"
             ]
            ],
            "type": "heatmap"
           }
          ],
          "heatmapgl": [
           {
            "colorbar": {
             "outlinewidth": 0,
             "ticks": ""
            },
            "colorscale": [
             [
              0,
              "#0d0887"
             ],
             [
              0.1111111111111111,
              "#46039f"
             ],
             [
              0.2222222222222222,
              "#7201a8"
             ],
             [
              0.3333333333333333,
              "#9c179e"
             ],
             [
              0.4444444444444444,
              "#bd3786"
             ],
             [
              0.5555555555555556,
              "#d8576b"
             ],
             [
              0.6666666666666666,
              "#ed7953"
             ],
             [
              0.7777777777777778,
              "#fb9f3a"
             ],
             [
              0.8888888888888888,
              "#fdca26"
             ],
             [
              1,
              "#f0f921"
             ]
            ],
            "type": "heatmapgl"
           }
          ],
          "histogram": [
           {
            "marker": {
             "pattern": {
              "fillmode": "overlay",
              "size": 10,
              "solidity": 0.2
             }
            },
            "type": "histogram"
           }
          ],
          "histogram2d": [
           {
            "colorbar": {
             "outlinewidth": 0,
             "ticks": ""
            },
            "colorscale": [
             [
              0,
              "#0d0887"
             ],
             [
              0.1111111111111111,
              "#46039f"
             ],
             [
              0.2222222222222222,
              "#7201a8"
             ],
             [
              0.3333333333333333,
              "#9c179e"
             ],
             [
              0.4444444444444444,
              "#bd3786"
             ],
             [
              0.5555555555555556,
              "#d8576b"
             ],
             [
              0.6666666666666666,
              "#ed7953"
             ],
             [
              0.7777777777777778,
              "#fb9f3a"
             ],
             [
              0.8888888888888888,
              "#fdca26"
             ],
             [
              1,
              "#f0f921"
             ]
            ],
            "type": "histogram2d"
           }
          ],
          "histogram2dcontour": [
           {
            "colorbar": {
             "outlinewidth": 0,
             "ticks": ""
            },
            "colorscale": [
             [
              0,
              "#0d0887"
             ],
             [
              0.1111111111111111,
              "#46039f"
             ],
             [
              0.2222222222222222,
              "#7201a8"
             ],
             [
              0.3333333333333333,
              "#9c179e"
             ],
             [
              0.4444444444444444,
              "#bd3786"
             ],
             [
              0.5555555555555556,
              "#d8576b"
             ],
             [
              0.6666666666666666,
              "#ed7953"
             ],
             [
              0.7777777777777778,
              "#fb9f3a"
             ],
             [
              0.8888888888888888,
              "#fdca26"
             ],
             [
              1,
              "#f0f921"
             ]
            ],
            "type": "histogram2dcontour"
           }
          ],
          "mesh3d": [
           {
            "colorbar": {
             "outlinewidth": 0,
             "ticks": ""
            },
            "type": "mesh3d"
           }
          ],
          "parcoords": [
           {
            "line": {
             "colorbar": {
              "outlinewidth": 0,
              "ticks": ""
             }
            },
            "type": "parcoords"
           }
          ],
          "pie": [
           {
            "automargin": true,
            "type": "pie"
           }
          ],
          "scatter": [
           {
            "marker": {
             "colorbar": {
              "outlinewidth": 0,
              "ticks": ""
             }
            },
            "type": "scatter"
           }
          ],
          "scatter3d": [
           {
            "line": {
             "colorbar": {
              "outlinewidth": 0,
              "ticks": ""
             }
            },
            "marker": {
             "colorbar": {
              "outlinewidth": 0,
              "ticks": ""
             }
            },
            "type": "scatter3d"
           }
          ],
          "scattercarpet": [
           {
            "marker": {
             "colorbar": {
              "outlinewidth": 0,
              "ticks": ""
             }
            },
            "type": "scattercarpet"
           }
          ],
          "scattergeo": [
           {
            "marker": {
             "colorbar": {
              "outlinewidth": 0,
              "ticks": ""
             }
            },
            "type": "scattergeo"
           }
          ],
          "scattergl": [
           {
            "marker": {
             "colorbar": {
              "outlinewidth": 0,
              "ticks": ""
             }
            },
            "type": "scattergl"
           }
          ],
          "scattermapbox": [
           {
            "marker": {
             "colorbar": {
              "outlinewidth": 0,
              "ticks": ""
             }
            },
            "type": "scattermapbox"
           }
          ],
          "scatterpolar": [
           {
            "marker": {
             "colorbar": {
              "outlinewidth": 0,
              "ticks": ""
             }
            },
            "type": "scatterpolar"
           }
          ],
          "scatterpolargl": [
           {
            "marker": {
             "colorbar": {
              "outlinewidth": 0,
              "ticks": ""
             }
            },
            "type": "scatterpolargl"
           }
          ],
          "scatterternary": [
           {
            "marker": {
             "colorbar": {
              "outlinewidth": 0,
              "ticks": ""
             }
            },
            "type": "scatterternary"
           }
          ],
          "surface": [
           {
            "colorbar": {
             "outlinewidth": 0,
             "ticks": ""
            },
            "colorscale": [
             [
              0,
              "#0d0887"
             ],
             [
              0.1111111111111111,
              "#46039f"
             ],
             [
              0.2222222222222222,
              "#7201a8"
             ],
             [
              0.3333333333333333,
              "#9c179e"
             ],
             [
              0.4444444444444444,
              "#bd3786"
             ],
             [
              0.5555555555555556,
              "#d8576b"
             ],
             [
              0.6666666666666666,
              "#ed7953"
             ],
             [
              0.7777777777777778,
              "#fb9f3a"
             ],
             [
              0.8888888888888888,
              "#fdca26"
             ],
             [
              1,
              "#f0f921"
             ]
            ],
            "type": "surface"
           }
          ],
          "table": [
           {
            "cells": {
             "fill": {
              "color": "#EBF0F8"
             },
             "line": {
              "color": "white"
             }
            },
            "header": {
             "fill": {
              "color": "#C8D4E3"
             },
             "line": {
              "color": "white"
             }
            },
            "type": "table"
           }
          ]
         },
         "layout": {
          "annotationdefaults": {
           "arrowcolor": "#2a3f5f",
           "arrowhead": 0,
           "arrowwidth": 1
          },
          "autotypenumbers": "strict",
          "coloraxis": {
           "colorbar": {
            "outlinewidth": 0,
            "ticks": ""
           }
          },
          "colorscale": {
           "diverging": [
            [
             0,
             "#8e0152"
            ],
            [
             0.1,
             "#c51b7d"
            ],
            [
             0.2,
             "#de77ae"
            ],
            [
             0.3,
             "#f1b6da"
            ],
            [
             0.4,
             "#fde0ef"
            ],
            [
             0.5,
             "#f7f7f7"
            ],
            [
             0.6,
             "#e6f5d0"
            ],
            [
             0.7,
             "#b8e186"
            ],
            [
             0.8,
             "#7fbc41"
            ],
            [
             0.9,
             "#4d9221"
            ],
            [
             1,
             "#276419"
            ]
           ],
           "sequential": [
            [
             0,
             "#0d0887"
            ],
            [
             0.1111111111111111,
             "#46039f"
            ],
            [
             0.2222222222222222,
             "#7201a8"
            ],
            [
             0.3333333333333333,
             "#9c179e"
            ],
            [
             0.4444444444444444,
             "#bd3786"
            ],
            [
             0.5555555555555556,
             "#d8576b"
            ],
            [
             0.6666666666666666,
             "#ed7953"
            ],
            [
             0.7777777777777778,
             "#fb9f3a"
            ],
            [
             0.8888888888888888,
             "#fdca26"
            ],
            [
             1,
             "#f0f921"
            ]
           ],
           "sequentialminus": [
            [
             0,
             "#0d0887"
            ],
            [
             0.1111111111111111,
             "#46039f"
            ],
            [
             0.2222222222222222,
             "#7201a8"
            ],
            [
             0.3333333333333333,
             "#9c179e"
            ],
            [
             0.4444444444444444,
             "#bd3786"
            ],
            [
             0.5555555555555556,
             "#d8576b"
            ],
            [
             0.6666666666666666,
             "#ed7953"
            ],
            [
             0.7777777777777778,
             "#fb9f3a"
            ],
            [
             0.8888888888888888,
             "#fdca26"
            ],
            [
             1,
             "#f0f921"
            ]
           ]
          },
          "colorway": [
           "#636efa",
           "#EF553B",
           "#00cc96",
           "#ab63fa",
           "#FFA15A",
           "#19d3f3",
           "#FF6692",
           "#B6E880",
           "#FF97FF",
           "#FECB52"
          ],
          "font": {
           "color": "#2a3f5f"
          },
          "geo": {
           "bgcolor": "white",
           "lakecolor": "white",
           "landcolor": "#E5ECF6",
           "showlakes": true,
           "showland": true,
           "subunitcolor": "white"
          },
          "hoverlabel": {
           "align": "left"
          },
          "hovermode": "closest",
          "mapbox": {
           "style": "light"
          },
          "paper_bgcolor": "white",
          "plot_bgcolor": "#E5ECF6",
          "polar": {
           "angularaxis": {
            "gridcolor": "white",
            "linecolor": "white",
            "ticks": ""
           },
           "bgcolor": "#E5ECF6",
           "radialaxis": {
            "gridcolor": "white",
            "linecolor": "white",
            "ticks": ""
           }
          },
          "scene": {
           "xaxis": {
            "backgroundcolor": "#E5ECF6",
            "gridcolor": "white",
            "gridwidth": 2,
            "linecolor": "white",
            "showbackground": true,
            "ticks": "",
            "zerolinecolor": "white"
           },
           "yaxis": {
            "backgroundcolor": "#E5ECF6",
            "gridcolor": "white",
            "gridwidth": 2,
            "linecolor": "white",
            "showbackground": true,
            "ticks": "",
            "zerolinecolor": "white"
           },
           "zaxis": {
            "backgroundcolor": "#E5ECF6",
            "gridcolor": "white",
            "gridwidth": 2,
            "linecolor": "white",
            "showbackground": true,
            "ticks": "",
            "zerolinecolor": "white"
           }
          },
          "shapedefaults": {
           "line": {
            "color": "#2a3f5f"
           }
          },
          "ternary": {
           "aaxis": {
            "gridcolor": "white",
            "linecolor": "white",
            "ticks": ""
           },
           "baxis": {
            "gridcolor": "white",
            "linecolor": "white",
            "ticks": ""
           },
           "bgcolor": "#E5ECF6",
           "caxis": {
            "gridcolor": "white",
            "linecolor": "white",
            "ticks": ""
           }
          },
          "title": {
           "x": 0.05
          },
          "xaxis": {
           "automargin": true,
           "gridcolor": "white",
           "linecolor": "white",
           "ticks": "",
           "title": {
            "standoff": 15
           },
           "zerolinecolor": "white",
           "zerolinewidth": 2
          },
          "yaxis": {
           "automargin": true,
           "gridcolor": "white",
           "linecolor": "white",
           "ticks": "",
           "title": {
            "standoff": 15
           },
           "zerolinecolor": "white",
           "zerolinewidth": 2
          }
         }
        },
        "title": {
         "text": "Распределение пользователей по тарифам",
         "x": 0.5
        }
       }
      },
      "text/html": [
       "<div>                            <div id=\"3fb6a735-88ff-45ed-a189-6d7293b1e09b\" class=\"plotly-graph-div\" style=\"height:525px; width:100%;\"></div>            <script type=\"text/javascript\">                require([\"plotly\"], function(Plotly) {                    window.PLOTLYENV=window.PLOTLYENV || {};                                    if (document.getElementById(\"3fb6a735-88ff-45ed-a189-6d7293b1e09b\")) {                    Plotly.newPlot(                        \"3fb6a735-88ff-45ed-a189-6d7293b1e09b\",                        [{\"insidetextorientation\":\"radial\",\"labels\":[\"B\",\"C\",\"A\"],\"legendgroup\":\"group1\",\"marker\":{\"colors\":[\"#636EFA\",\"#EF553B\",\"#00CC96\"]},\"name\":\"\\u0422\\u0435\\u043a\\u0443\\u0449\\u0438\\u0435 \\u0442\\u0430\\u0440\\u0438\\u0444\\u044b\",\"showlegend\":false,\"textinfo\":\"label+percent\",\"values\":[82,60,17],\"type\":\"pie\",\"domain\":{\"x\":[0.0,0.45],\"y\":[0.0,1.0]}},{\"insidetextorientation\":\"radial\",\"labels\":[\"A\",\"C\",\"B\"],\"legendgroup\":\"group2\",\"marker\":{\"colors\":[\"#FF6692\",\"#FFA15A\",\"#19D3F3\"]},\"name\":\"\\u041d\\u043e\\u0432\\u044b\\u0435 \\u0442\\u0430\\u0440\\u0438\\u0444\\u044b\",\"showlegend\":false,\"textinfo\":\"label+percent\",\"values\":[81,56,22],\"type\":\"pie\",\"domain\":{\"x\":[0.55,1.0],\"y\":[0.0,1.0]}}],                        {\"template\":{\"data\":{\"bar\":[{\"error_x\":{\"color\":\"#2a3f5f\"},\"error_y\":{\"color\":\"#2a3f5f\"},\"marker\":{\"line\":{\"color\":\"#E5ECF6\",\"width\":0.5},\"pattern\":{\"fillmode\":\"overlay\",\"size\":10,\"solidity\":0.2}},\"type\":\"bar\"}],\"barpolar\":[{\"marker\":{\"line\":{\"color\":\"#E5ECF6\",\"width\":0.5},\"pattern\":{\"fillmode\":\"overlay\",\"size\":10,\"solidity\":0.2}},\"type\":\"barpolar\"}],\"carpet\":[{\"aaxis\":{\"endlinecolor\":\"#2a3f5f\",\"gridcolor\":\"white\",\"linecolor\":\"white\",\"minorgridcolor\":\"white\",\"startlinecolor\":\"#2a3f5f\"},\"baxis\":{\"endlinecolor\":\"#2a3f5f\",\"gridcolor\":\"white\",\"linecolor\":\"white\",\"minorgridcolor\":\"white\",\"startlinecolor\":\"#2a3f5f\"},\"type\":\"carpet\"}],\"choropleth\":[{\"colorbar\":{\"outlinewidth\":0,\"ticks\":\"\"},\"type\":\"choropleth\"}],\"contour\":[{\"colorbar\":{\"outlinewidth\":0,\"ticks\":\"\"},\"colorscale\":[[0.0,\"#0d0887\"],[0.1111111111111111,\"#46039f\"],[0.2222222222222222,\"#7201a8\"],[0.3333333333333333,\"#9c179e\"],[0.4444444444444444,\"#bd3786\"],[0.5555555555555556,\"#d8576b\"],[0.6666666666666666,\"#ed7953\"],[0.7777777777777778,\"#fb9f3a\"],[0.8888888888888888,\"#fdca26\"],[1.0,\"#f0f921\"]],\"type\":\"contour\"}],\"contourcarpet\":[{\"colorbar\":{\"outlinewidth\":0,\"ticks\":\"\"},\"type\":\"contourcarpet\"}],\"heatmap\":[{\"colorbar\":{\"outlinewidth\":0,\"ticks\":\"\"},\"colorscale\":[[0.0,\"#0d0887\"],[0.1111111111111111,\"#46039f\"],[0.2222222222222222,\"#7201a8\"],[0.3333333333333333,\"#9c179e\"],[0.4444444444444444,\"#bd3786\"],[0.5555555555555556,\"#d8576b\"],[0.6666666666666666,\"#ed7953\"],[0.7777777777777778,\"#fb9f3a\"],[0.8888888888888888,\"#fdca26\"],[1.0,\"#f0f921\"]],\"type\":\"heatmap\"}],\"heatmapgl\":[{\"colorbar\":{\"outlinewidth\":0,\"ticks\":\"\"},\"colorscale\":[[0.0,\"#0d0887\"],[0.1111111111111111,\"#46039f\"],[0.2222222222222222,\"#7201a8\"],[0.3333333333333333,\"#9c179e\"],[0.4444444444444444,\"#bd3786\"],[0.5555555555555556,\"#d8576b\"],[0.6666666666666666,\"#ed7953\"],[0.7777777777777778,\"#fb9f3a\"],[0.8888888888888888,\"#fdca26\"],[1.0,\"#f0f921\"]],\"type\":\"heatmapgl\"}],\"histogram\":[{\"marker\":{\"pattern\":{\"fillmode\":\"overlay\",\"size\":10,\"solidity\":0.2}},\"type\":\"histogram\"}],\"histogram2d\":[{\"colorbar\":{\"outlinewidth\":0,\"ticks\":\"\"},\"colorscale\":[[0.0,\"#0d0887\"],[0.1111111111111111,\"#46039f\"],[0.2222222222222222,\"#7201a8\"],[0.3333333333333333,\"#9c179e\"],[0.4444444444444444,\"#bd3786\"],[0.5555555555555556,\"#d8576b\"],[0.6666666666666666,\"#ed7953\"],[0.7777777777777778,\"#fb9f3a\"],[0.8888888888888888,\"#fdca26\"],[1.0,\"#f0f921\"]],\"type\":\"histogram2d\"}],\"histogram2dcontour\":[{\"colorbar\":{\"outlinewidth\":0,\"ticks\":\"\"},\"colorscale\":[[0.0,\"#0d0887\"],[0.1111111111111111,\"#46039f\"],[0.2222222222222222,\"#7201a8\"],[0.3333333333333333,\"#9c179e\"],[0.4444444444444444,\"#bd3786\"],[0.5555555555555556,\"#d8576b\"],[0.6666666666666666,\"#ed7953\"],[0.7777777777777778,\"#fb9f3a\"],[0.8888888888888888,\"#fdca26\"],[1.0,\"#f0f921\"]],\"type\":\"histogram2dcontour\"}],\"mesh3d\":[{\"colorbar\":{\"outlinewidth\":0,\"ticks\":\"\"},\"type\":\"mesh3d\"}],\"parcoords\":[{\"line\":{\"colorbar\":{\"outlinewidth\":0,\"ticks\":\"\"}},\"type\":\"parcoords\"}],\"pie\":[{\"automargin\":true,\"type\":\"pie\"}],\"scatter\":[{\"marker\":{\"colorbar\":{\"outlinewidth\":0,\"ticks\":\"\"}},\"type\":\"scatter\"}],\"scatter3d\":[{\"line\":{\"colorbar\":{\"outlinewidth\":0,\"ticks\":\"\"}},\"marker\":{\"colorbar\":{\"outlinewidth\":0,\"ticks\":\"\"}},\"type\":\"scatter3d\"}],\"scattercarpet\":[{\"marker\":{\"colorbar\":{\"outlinewidth\":0,\"ticks\":\"\"}},\"type\":\"scattercarpet\"}],\"scattergeo\":[{\"marker\":{\"colorbar\":{\"outlinewidth\":0,\"ticks\":\"\"}},\"type\":\"scattergeo\"}],\"scattergl\":[{\"marker\":{\"colorbar\":{\"outlinewidth\":0,\"ticks\":\"\"}},\"type\":\"scattergl\"}],\"scattermapbox\":[{\"marker\":{\"colorbar\":{\"outlinewidth\":0,\"ticks\":\"\"}},\"type\":\"scattermapbox\"}],\"scatterpolar\":[{\"marker\":{\"colorbar\":{\"outlinewidth\":0,\"ticks\":\"\"}},\"type\":\"scatterpolar\"}],\"scatterpolargl\":[{\"marker\":{\"colorbar\":{\"outlinewidth\":0,\"ticks\":\"\"}},\"type\":\"scatterpolargl\"}],\"scatterternary\":[{\"marker\":{\"colorbar\":{\"outlinewidth\":0,\"ticks\":\"\"}},\"type\":\"scatterternary\"}],\"surface\":[{\"colorbar\":{\"outlinewidth\":0,\"ticks\":\"\"},\"colorscale\":[[0.0,\"#0d0887\"],[0.1111111111111111,\"#46039f\"],[0.2222222222222222,\"#7201a8\"],[0.3333333333333333,\"#9c179e\"],[0.4444444444444444,\"#bd3786\"],[0.5555555555555556,\"#d8576b\"],[0.6666666666666666,\"#ed7953\"],[0.7777777777777778,\"#fb9f3a\"],[0.8888888888888888,\"#fdca26\"],[1.0,\"#f0f921\"]],\"type\":\"surface\"}],\"table\":[{\"cells\":{\"fill\":{\"color\":\"#EBF0F8\"},\"line\":{\"color\":\"white\"}},\"header\":{\"fill\":{\"color\":\"#C8D4E3\"},\"line\":{\"color\":\"white\"}},\"type\":\"table\"}]},\"layout\":{\"annotationdefaults\":{\"arrowcolor\":\"#2a3f5f\",\"arrowhead\":0,\"arrowwidth\":1},\"autotypenumbers\":\"strict\",\"coloraxis\":{\"colorbar\":{\"outlinewidth\":0,\"ticks\":\"\"}},\"colorscale\":{\"diverging\":[[0,\"#8e0152\"],[0.1,\"#c51b7d\"],[0.2,\"#de77ae\"],[0.3,\"#f1b6da\"],[0.4,\"#fde0ef\"],[0.5,\"#f7f7f7\"],[0.6,\"#e6f5d0\"],[0.7,\"#b8e186\"],[0.8,\"#7fbc41\"],[0.9,\"#4d9221\"],[1,\"#276419\"]],\"sequential\":[[0.0,\"#0d0887\"],[0.1111111111111111,\"#46039f\"],[0.2222222222222222,\"#7201a8\"],[0.3333333333333333,\"#9c179e\"],[0.4444444444444444,\"#bd3786\"],[0.5555555555555556,\"#d8576b\"],[0.6666666666666666,\"#ed7953\"],[0.7777777777777778,\"#fb9f3a\"],[0.8888888888888888,\"#fdca26\"],[1.0,\"#f0f921\"]],\"sequentialminus\":[[0.0,\"#0d0887\"],[0.1111111111111111,\"#46039f\"],[0.2222222222222222,\"#7201a8\"],[0.3333333333333333,\"#9c179e\"],[0.4444444444444444,\"#bd3786\"],[0.5555555555555556,\"#d8576b\"],[0.6666666666666666,\"#ed7953\"],[0.7777777777777778,\"#fb9f3a\"],[0.8888888888888888,\"#fdca26\"],[1.0,\"#f0f921\"]]},\"colorway\":[\"#636efa\",\"#EF553B\",\"#00cc96\",\"#ab63fa\",\"#FFA15A\",\"#19d3f3\",\"#FF6692\",\"#B6E880\",\"#FF97FF\",\"#FECB52\"],\"font\":{\"color\":\"#2a3f5f\"},\"geo\":{\"bgcolor\":\"white\",\"lakecolor\":\"white\",\"landcolor\":\"#E5ECF6\",\"showlakes\":true,\"showland\":true,\"subunitcolor\":\"white\"},\"hoverlabel\":{\"align\":\"left\"},\"hovermode\":\"closest\",\"mapbox\":{\"style\":\"light\"},\"paper_bgcolor\":\"white\",\"plot_bgcolor\":\"#E5ECF6\",\"polar\":{\"angularaxis\":{\"gridcolor\":\"white\",\"linecolor\":\"white\",\"ticks\":\"\"},\"bgcolor\":\"#E5ECF6\",\"radialaxis\":{\"gridcolor\":\"white\",\"linecolor\":\"white\",\"ticks\":\"\"}},\"scene\":{\"xaxis\":{\"backgroundcolor\":\"#E5ECF6\",\"gridcolor\":\"white\",\"gridwidth\":2,\"linecolor\":\"white\",\"showbackground\":true,\"ticks\":\"\",\"zerolinecolor\":\"white\"},\"yaxis\":{\"backgroundcolor\":\"#E5ECF6\",\"gridcolor\":\"white\",\"gridwidth\":2,\"linecolor\":\"white\",\"showbackground\":true,\"ticks\":\"\",\"zerolinecolor\":\"white\"},\"zaxis\":{\"backgroundcolor\":\"#E5ECF6\",\"gridcolor\":\"white\",\"gridwidth\":2,\"linecolor\":\"white\",\"showbackground\":true,\"ticks\":\"\",\"zerolinecolor\":\"white\"}},\"shapedefaults\":{\"line\":{\"color\":\"#2a3f5f\"}},\"ternary\":{\"aaxis\":{\"gridcolor\":\"white\",\"linecolor\":\"white\",\"ticks\":\"\"},\"baxis\":{\"gridcolor\":\"white\",\"linecolor\":\"white\",\"ticks\":\"\"},\"bgcolor\":\"#E5ECF6\",\"caxis\":{\"gridcolor\":\"white\",\"linecolor\":\"white\",\"ticks\":\"\"}},\"title\":{\"x\":0.05},\"xaxis\":{\"automargin\":true,\"gridcolor\":\"white\",\"linecolor\":\"white\",\"ticks\":\"\",\"title\":{\"standoff\":15},\"zerolinecolor\":\"white\",\"zerolinewidth\":2},\"yaxis\":{\"automargin\":true,\"gridcolor\":\"white\",\"linecolor\":\"white\",\"ticks\":\"\",\"title\":{\"standoff\":15},\"zerolinecolor\":\"white\",\"zerolinewidth\":2}}},\"annotations\":[{\"font\":{\"size\":16},\"showarrow\":false,\"text\":\"\\u0422\\u0435\\u043a\\u0443\\u0449\\u0438\\u0435 \\u0442\\u0430\\u0440\\u0438\\u0444\\u044b\",\"x\":0.225,\"xanchor\":\"center\",\"xref\":\"paper\",\"y\":1.0,\"yanchor\":\"bottom\",\"yref\":\"paper\"},{\"font\":{\"size\":16},\"showarrow\":false,\"text\":\"\\u041d\\u043e\\u0432\\u044b\\u0435 \\u0442\\u0430\\u0440\\u0438\\u0444\\u044b\",\"x\":0.775,\"xanchor\":\"center\",\"xref\":\"paper\",\"y\":1.0,\"yanchor\":\"bottom\",\"yref\":\"paper\"}],\"title\":{\"text\":\"\\u0420\\u0430\\u0441\\u043f\\u0440\\u0435\\u0434\\u0435\\u043b\\u0435\\u043d\\u0438\\u0435 \\u043f\\u043e\\u043b\\u044c\\u0437\\u043e\\u0432\\u0430\\u0442\\u0435\\u043b\\u0435\\u0439 \\u043f\\u043e \\u0442\\u0430\\u0440\\u0438\\u0444\\u0430\\u043c\",\"x\":0.5},\"legend\":{\"font\":{\"size\":10},\"x\":0.5,\"y\":0.5,\"traceorder\":\"grouped\"}},                        {\"responsive\": true}                    ).then(function(){\n",
       "                            \n",
       "var gd = document.getElementById('3fb6a735-88ff-45ed-a189-6d7293b1e09b');\n",
       "var x = new MutationObserver(function (mutations, observer) {{\n",
       "        var display = window.getComputedStyle(gd).display;\n",
       "        if (!display || display === 'none') {{\n",
       "            console.log([gd, 'removed!']);\n",
       "            Plotly.purge(gd);\n",
       "            observer.disconnect();\n",
       "        }}\n",
       "}});\n",
       "\n",
       "// Listen for the removal of the full notebook cells\n",
       "var notebookContainer = gd.closest('#notebook-container');\n",
       "if (notebookContainer) {{\n",
       "    x.observe(notebookContainer, {childList: true});\n",
       "}}\n",
       "\n",
       "// Listen for the clearing of the current output cell\n",
       "var outputEl = gd.closest('.output');\n",
       "if (outputEl) {{\n",
       "    x.observe(outputEl, {childList: true});\n",
       "}}\n",
       "\n",
       "                        })                };                });            </script>        </div>"
      ]
     },
     "metadata": {},
     "output_type": "display_data"
    }
   ],
   "source": [
    "# Подсчет количества пользователей для каждого текущего тарифа\n",
    "current_tariff_counts = final_table['current_tariff'].value_counts()\n",
    "\n",
    "# Подсчет количества пользователей для каждого нового тарифа\n",
    "new_tariff_counts = final_table['new_tariff'].value_counts()\n",
    "\n",
    "colors_current = ['#636EFA', '#EF553B', '#00CC96']\n",
    "colors_new = ['#FF6692', '#FFA15A', '#19D3F3']\n",
    "\n",
    "fig = make_subplots(rows=1, cols=2, specs=[[{'type':'domain'}, {'type':'domain'}]],\n",
    "                    subplot_titles=['Текущие тарифы', 'Новые тарифы'])\n",
    "\n",
    "# Добавление круговой диаграммы для текущих тарифов\n",
    "fig.add_trace(go.Pie(labels=current_tariff_counts.index, values=current_tariff_counts, \n",
    "                     name=\"Текущие тарифы\", marker=dict(colors=colors_current),\n",
    "                     textinfo='label+percent', insidetextorientation='radial',\n",
    "                     legendgroup='group1', showlegend=False), 1, 1)\n",
    "\n",
    "# Добавление круговой диаграммы для новых тарифов\n",
    "fig.add_trace(go.Pie(labels=new_tariff_counts.index, values=new_tariff_counts, \n",
    "                     name=\"Новые тарифы\", marker=dict(colors=colors_new),\n",
    "                     textinfo='label+percent', insidetextorientation='radial',\n",
    "                     legendgroup='group2', showlegend=False), 1, 2)\n",
    "fig.update_layout(title_text='Распределение пользователей по тарифам', title_x=0.5,\n",
    "                  legend=dict(x=0.5, y=0.5, traceorder='grouped', font=dict(size=10)))\n",
    "\n",
    "fig.show()"
   ]
  },
  {
   "cell_type": "markdown",
   "metadata": {},
   "source": [
    "### Подсчёт выручки при действующих и более выгодных тарифных планах"
   ]
  },
  {
   "cell_type": "code",
   "execution_count": 399,
   "metadata": {},
   "outputs": [
    {
     "name": "stdout",
     "output_type": "stream",
     "text": [
      "Выручка при действующих тарифных планах: 9714198 рублей.\n"
     ]
    }
   ],
   "source": [
    "print(f'Выручка при действующих тарифных планах: {round(suboptimal_tariff[\"current_price\"].sum())} рублей.')"
   ]
  },
  {
   "cell_type": "code",
   "execution_count": 400,
   "metadata": {},
   "outputs": [
    {
     "name": "stdout",
     "output_type": "stream",
     "text": [
      "Выручка, если заменить все тарифные планы на самые выгодные: 5518653 рублей.\n",
      "\n",
      "Это на 76.0% меньше выручки по действующим тарифам.\n"
     ]
    }
   ],
   "source": [
    "print('Выручка, если заменить все тарифные планы на самые выгодные: ',\n",
    "      f'{round(suboptimal_tariff[\"optimal_tariff\"].sum())} рублей.\\n\\n',\n",
    "      f'Это на {round((suboptimal_tariff[\"current_price\"].sum() / suboptimal_tariff[\"optimal_tariff\"].sum() - 1) * 100, 1)}',\n",
    "      '% меньше выручки по действующим тарифам.', sep='')"
   ]
  },
  {
   "cell_type": "code",
   "execution_count": 401,
   "metadata": {},
   "outputs": [
    {
     "data": {
      "application/vnd.plotly.v1+json": {
       "config": {
        "plotlyServerURL": "https://plot.ly"
       },
       "data": [
        {
         "marker": {
          "color": [
           "green",
           "red"
          ]
         },
         "type": "bar",
         "x": [
          "Текущий тариф",
          "Лучший тариф"
         ],
         "y": [
          9714198,
          5518652.649999999
         ]
        }
       ],
       "layout": {
        "template": {
         "data": {
          "bar": [
           {
            "error_x": {
             "color": "#2a3f5f"
            },
            "error_y": {
             "color": "#2a3f5f"
            },
            "marker": {
             "line": {
              "color": "#E5ECF6",
              "width": 0.5
             },
             "pattern": {
              "fillmode": "overlay",
              "size": 10,
              "solidity": 0.2
             }
            },
            "type": "bar"
           }
          ],
          "barpolar": [
           {
            "marker": {
             "line": {
              "color": "#E5ECF6",
              "width": 0.5
             },
             "pattern": {
              "fillmode": "overlay",
              "size": 10,
              "solidity": 0.2
             }
            },
            "type": "barpolar"
           }
          ],
          "carpet": [
           {
            "aaxis": {
             "endlinecolor": "#2a3f5f",
             "gridcolor": "white",
             "linecolor": "white",
             "minorgridcolor": "white",
             "startlinecolor": "#2a3f5f"
            },
            "baxis": {
             "endlinecolor": "#2a3f5f",
             "gridcolor": "white",
             "linecolor": "white",
             "minorgridcolor": "white",
             "startlinecolor": "#2a3f5f"
            },
            "type": "carpet"
           }
          ],
          "choropleth": [
           {
            "colorbar": {
             "outlinewidth": 0,
             "ticks": ""
            },
            "type": "choropleth"
           }
          ],
          "contour": [
           {
            "colorbar": {
             "outlinewidth": 0,
             "ticks": ""
            },
            "colorscale": [
             [
              0,
              "#0d0887"
             ],
             [
              0.1111111111111111,
              "#46039f"
             ],
             [
              0.2222222222222222,
              "#7201a8"
             ],
             [
              0.3333333333333333,
              "#9c179e"
             ],
             [
              0.4444444444444444,
              "#bd3786"
             ],
             [
              0.5555555555555556,
              "#d8576b"
             ],
             [
              0.6666666666666666,
              "#ed7953"
             ],
             [
              0.7777777777777778,
              "#fb9f3a"
             ],
             [
              0.8888888888888888,
              "#fdca26"
             ],
             [
              1,
              "#f0f921"
             ]
            ],
            "type": "contour"
           }
          ],
          "contourcarpet": [
           {
            "colorbar": {
             "outlinewidth": 0,
             "ticks": ""
            },
            "type": "contourcarpet"
           }
          ],
          "heatmap": [
           {
            "colorbar": {
             "outlinewidth": 0,
             "ticks": ""
            },
            "colorscale": [
             [
              0,
              "#0d0887"
             ],
             [
              0.1111111111111111,
              "#46039f"
             ],
             [
              0.2222222222222222,
              "#7201a8"
             ],
             [
              0.3333333333333333,
              "#9c179e"
             ],
             [
              0.4444444444444444,
              "#bd3786"
             ],
             [
              0.5555555555555556,
              "#d8576b"
             ],
             [
              0.6666666666666666,
              "#ed7953"
             ],
             [
              0.7777777777777778,
              "#fb9f3a"
             ],
             [
              0.8888888888888888,
              "#fdca26"
             ],
             [
              1,
              "#f0f921"
             ]
            ],
            "type": "heatmap"
           }
          ],
          "heatmapgl": [
           {
            "colorbar": {
             "outlinewidth": 0,
             "ticks": ""
            },
            "colorscale": [
             [
              0,
              "#0d0887"
             ],
             [
              0.1111111111111111,
              "#46039f"
             ],
             [
              0.2222222222222222,
              "#7201a8"
             ],
             [
              0.3333333333333333,
              "#9c179e"
             ],
             [
              0.4444444444444444,
              "#bd3786"
             ],
             [
              0.5555555555555556,
              "#d8576b"
             ],
             [
              0.6666666666666666,
              "#ed7953"
             ],
             [
              0.7777777777777778,
              "#fb9f3a"
             ],
             [
              0.8888888888888888,
              "#fdca26"
             ],
             [
              1,
              "#f0f921"
             ]
            ],
            "type": "heatmapgl"
           }
          ],
          "histogram": [
           {
            "marker": {
             "pattern": {
              "fillmode": "overlay",
              "size": 10,
              "solidity": 0.2
             }
            },
            "type": "histogram"
           }
          ],
          "histogram2d": [
           {
            "colorbar": {
             "outlinewidth": 0,
             "ticks": ""
            },
            "colorscale": [
             [
              0,
              "#0d0887"
             ],
             [
              0.1111111111111111,
              "#46039f"
             ],
             [
              0.2222222222222222,
              "#7201a8"
             ],
             [
              0.3333333333333333,
              "#9c179e"
             ],
             [
              0.4444444444444444,
              "#bd3786"
             ],
             [
              0.5555555555555556,
              "#d8576b"
             ],
             [
              0.6666666666666666,
              "#ed7953"
             ],
             [
              0.7777777777777778,
              "#fb9f3a"
             ],
             [
              0.8888888888888888,
              "#fdca26"
             ],
             [
              1,
              "#f0f921"
             ]
            ],
            "type": "histogram2d"
           }
          ],
          "histogram2dcontour": [
           {
            "colorbar": {
             "outlinewidth": 0,
             "ticks": ""
            },
            "colorscale": [
             [
              0,
              "#0d0887"
             ],
             [
              0.1111111111111111,
              "#46039f"
             ],
             [
              0.2222222222222222,
              "#7201a8"
             ],
             [
              0.3333333333333333,
              "#9c179e"
             ],
             [
              0.4444444444444444,
              "#bd3786"
             ],
             [
              0.5555555555555556,
              "#d8576b"
             ],
             [
              0.6666666666666666,
              "#ed7953"
             ],
             [
              0.7777777777777778,
              "#fb9f3a"
             ],
             [
              0.8888888888888888,
              "#fdca26"
             ],
             [
              1,
              "#f0f921"
             ]
            ],
            "type": "histogram2dcontour"
           }
          ],
          "mesh3d": [
           {
            "colorbar": {
             "outlinewidth": 0,
             "ticks": ""
            },
            "type": "mesh3d"
           }
          ],
          "parcoords": [
           {
            "line": {
             "colorbar": {
              "outlinewidth": 0,
              "ticks": ""
             }
            },
            "type": "parcoords"
           }
          ],
          "pie": [
           {
            "automargin": true,
            "type": "pie"
           }
          ],
          "scatter": [
           {
            "marker": {
             "colorbar": {
              "outlinewidth": 0,
              "ticks": ""
             }
            },
            "type": "scatter"
           }
          ],
          "scatter3d": [
           {
            "line": {
             "colorbar": {
              "outlinewidth": 0,
              "ticks": ""
             }
            },
            "marker": {
             "colorbar": {
              "outlinewidth": 0,
              "ticks": ""
             }
            },
            "type": "scatter3d"
           }
          ],
          "scattercarpet": [
           {
            "marker": {
             "colorbar": {
              "outlinewidth": 0,
              "ticks": ""
             }
            },
            "type": "scattercarpet"
           }
          ],
          "scattergeo": [
           {
            "marker": {
             "colorbar": {
              "outlinewidth": 0,
              "ticks": ""
             }
            },
            "type": "scattergeo"
           }
          ],
          "scattergl": [
           {
            "marker": {
             "colorbar": {
              "outlinewidth": 0,
              "ticks": ""
             }
            },
            "type": "scattergl"
           }
          ],
          "scattermapbox": [
           {
            "marker": {
             "colorbar": {
              "outlinewidth": 0,
              "ticks": ""
             }
            },
            "type": "scattermapbox"
           }
          ],
          "scatterpolar": [
           {
            "marker": {
             "colorbar": {
              "outlinewidth": 0,
              "ticks": ""
             }
            },
            "type": "scatterpolar"
           }
          ],
          "scatterpolargl": [
           {
            "marker": {
             "colorbar": {
              "outlinewidth": 0,
              "ticks": ""
             }
            },
            "type": "scatterpolargl"
           }
          ],
          "scatterternary": [
           {
            "marker": {
             "colorbar": {
              "outlinewidth": 0,
              "ticks": ""
             }
            },
            "type": "scatterternary"
           }
          ],
          "surface": [
           {
            "colorbar": {
             "outlinewidth": 0,
             "ticks": ""
            },
            "colorscale": [
             [
              0,
              "#0d0887"
             ],
             [
              0.1111111111111111,
              "#46039f"
             ],
             [
              0.2222222222222222,
              "#7201a8"
             ],
             [
              0.3333333333333333,
              "#9c179e"
             ],
             [
              0.4444444444444444,
              "#bd3786"
             ],
             [
              0.5555555555555556,
              "#d8576b"
             ],
             [
              0.6666666666666666,
              "#ed7953"
             ],
             [
              0.7777777777777778,
              "#fb9f3a"
             ],
             [
              0.8888888888888888,
              "#fdca26"
             ],
             [
              1,
              "#f0f921"
             ]
            ],
            "type": "surface"
           }
          ],
          "table": [
           {
            "cells": {
             "fill": {
              "color": "#EBF0F8"
             },
             "line": {
              "color": "white"
             }
            },
            "header": {
             "fill": {
              "color": "#C8D4E3"
             },
             "line": {
              "color": "white"
             }
            },
            "type": "table"
           }
          ]
         },
         "layout": {
          "annotationdefaults": {
           "arrowcolor": "#2a3f5f",
           "arrowhead": 0,
           "arrowwidth": 1
          },
          "autotypenumbers": "strict",
          "coloraxis": {
           "colorbar": {
            "outlinewidth": 0,
            "ticks": ""
           }
          },
          "colorscale": {
           "diverging": [
            [
             0,
             "#8e0152"
            ],
            [
             0.1,
             "#c51b7d"
            ],
            [
             0.2,
             "#de77ae"
            ],
            [
             0.3,
             "#f1b6da"
            ],
            [
             0.4,
             "#fde0ef"
            ],
            [
             0.5,
             "#f7f7f7"
            ],
            [
             0.6,
             "#e6f5d0"
            ],
            [
             0.7,
             "#b8e186"
            ],
            [
             0.8,
             "#7fbc41"
            ],
            [
             0.9,
             "#4d9221"
            ],
            [
             1,
             "#276419"
            ]
           ],
           "sequential": [
            [
             0,
             "#0d0887"
            ],
            [
             0.1111111111111111,
             "#46039f"
            ],
            [
             0.2222222222222222,
             "#7201a8"
            ],
            [
             0.3333333333333333,
             "#9c179e"
            ],
            [
             0.4444444444444444,
             "#bd3786"
            ],
            [
             0.5555555555555556,
             "#d8576b"
            ],
            [
             0.6666666666666666,
             "#ed7953"
            ],
            [
             0.7777777777777778,
             "#fb9f3a"
            ],
            [
             0.8888888888888888,
             "#fdca26"
            ],
            [
             1,
             "#f0f921"
            ]
           ],
           "sequentialminus": [
            [
             0,
             "#0d0887"
            ],
            [
             0.1111111111111111,
             "#46039f"
            ],
            [
             0.2222222222222222,
             "#7201a8"
            ],
            [
             0.3333333333333333,
             "#9c179e"
            ],
            [
             0.4444444444444444,
             "#bd3786"
            ],
            [
             0.5555555555555556,
             "#d8576b"
            ],
            [
             0.6666666666666666,
             "#ed7953"
            ],
            [
             0.7777777777777778,
             "#fb9f3a"
            ],
            [
             0.8888888888888888,
             "#fdca26"
            ],
            [
             1,
             "#f0f921"
            ]
           ]
          },
          "colorway": [
           "#636efa",
           "#EF553B",
           "#00cc96",
           "#ab63fa",
           "#FFA15A",
           "#19d3f3",
           "#FF6692",
           "#B6E880",
           "#FF97FF",
           "#FECB52"
          ],
          "font": {
           "color": "#2a3f5f"
          },
          "geo": {
           "bgcolor": "white",
           "lakecolor": "white",
           "landcolor": "#E5ECF6",
           "showlakes": true,
           "showland": true,
           "subunitcolor": "white"
          },
          "hoverlabel": {
           "align": "left"
          },
          "hovermode": "closest",
          "mapbox": {
           "style": "light"
          },
          "paper_bgcolor": "white",
          "plot_bgcolor": "#E5ECF6",
          "polar": {
           "angularaxis": {
            "gridcolor": "white",
            "linecolor": "white",
            "ticks": ""
           },
           "bgcolor": "#E5ECF6",
           "radialaxis": {
            "gridcolor": "white",
            "linecolor": "white",
            "ticks": ""
           }
          },
          "scene": {
           "xaxis": {
            "backgroundcolor": "#E5ECF6",
            "gridcolor": "white",
            "gridwidth": 2,
            "linecolor": "white",
            "showbackground": true,
            "ticks": "",
            "zerolinecolor": "white"
           },
           "yaxis": {
            "backgroundcolor": "#E5ECF6",
            "gridcolor": "white",
            "gridwidth": 2,
            "linecolor": "white",
            "showbackground": true,
            "ticks": "",
            "zerolinecolor": "white"
           },
           "zaxis": {
            "backgroundcolor": "#E5ECF6",
            "gridcolor": "white",
            "gridwidth": 2,
            "linecolor": "white",
            "showbackground": true,
            "ticks": "",
            "zerolinecolor": "white"
           }
          },
          "shapedefaults": {
           "line": {
            "color": "#2a3f5f"
           }
          },
          "ternary": {
           "aaxis": {
            "gridcolor": "white",
            "linecolor": "white",
            "ticks": ""
           },
           "baxis": {
            "gridcolor": "white",
            "linecolor": "white",
            "ticks": ""
           },
           "bgcolor": "#E5ECF6",
           "caxis": {
            "gridcolor": "white",
            "linecolor": "white",
            "ticks": ""
           }
          },
          "title": {
           "x": 0.05
          },
          "xaxis": {
           "automargin": true,
           "gridcolor": "white",
           "linecolor": "white",
           "ticks": "",
           "title": {
            "standoff": 15
           },
           "zerolinecolor": "white",
           "zerolinewidth": 2
          },
          "yaxis": {
           "automargin": true,
           "gridcolor": "white",
           "linecolor": "white",
           "ticks": "",
           "title": {
            "standoff": 15
           },
           "zerolinecolor": "white",
           "zerolinewidth": 2
          }
         }
        },
        "title": {
         "text": "Сравнение выручки по текущему и лучшему тарифу",
         "x": 0.5
        },
        "xaxis": {
         "title": {
          "text": "Тип тарифа"
         }
        },
        "yaxis": {
         "title": {
          "text": "Выручка (руб.)"
         }
        }
       }
      },
      "text/html": [
       "<div>                            <div id=\"2711bd88-9680-4c3f-b29c-826c85827ff5\" class=\"plotly-graph-div\" style=\"height:525px; width:100%;\"></div>            <script type=\"text/javascript\">                require([\"plotly\"], function(Plotly) {                    window.PLOTLYENV=window.PLOTLYENV || {};                                    if (document.getElementById(\"2711bd88-9680-4c3f-b29c-826c85827ff5\")) {                    Plotly.newPlot(                        \"2711bd88-9680-4c3f-b29c-826c85827ff5\",                        [{\"marker\":{\"color\":[\"green\",\"red\"]},\"x\":[\"\\u0422\\u0435\\u043a\\u0443\\u0449\\u0438\\u0439 \\u0442\\u0430\\u0440\\u0438\\u0444\",\"\\u041b\\u0443\\u0447\\u0448\\u0438\\u0439 \\u0442\\u0430\\u0440\\u0438\\u0444\"],\"y\":[9714198.0,5518652.649999999],\"type\":\"bar\"}],                        {\"template\":{\"data\":{\"bar\":[{\"error_x\":{\"color\":\"#2a3f5f\"},\"error_y\":{\"color\":\"#2a3f5f\"},\"marker\":{\"line\":{\"color\":\"#E5ECF6\",\"width\":0.5},\"pattern\":{\"fillmode\":\"overlay\",\"size\":10,\"solidity\":0.2}},\"type\":\"bar\"}],\"barpolar\":[{\"marker\":{\"line\":{\"color\":\"#E5ECF6\",\"width\":0.5},\"pattern\":{\"fillmode\":\"overlay\",\"size\":10,\"solidity\":0.2}},\"type\":\"barpolar\"}],\"carpet\":[{\"aaxis\":{\"endlinecolor\":\"#2a3f5f\",\"gridcolor\":\"white\",\"linecolor\":\"white\",\"minorgridcolor\":\"white\",\"startlinecolor\":\"#2a3f5f\"},\"baxis\":{\"endlinecolor\":\"#2a3f5f\",\"gridcolor\":\"white\",\"linecolor\":\"white\",\"minorgridcolor\":\"white\",\"startlinecolor\":\"#2a3f5f\"},\"type\":\"carpet\"}],\"choropleth\":[{\"colorbar\":{\"outlinewidth\":0,\"ticks\":\"\"},\"type\":\"choropleth\"}],\"contour\":[{\"colorbar\":{\"outlinewidth\":0,\"ticks\":\"\"},\"colorscale\":[[0.0,\"#0d0887\"],[0.1111111111111111,\"#46039f\"],[0.2222222222222222,\"#7201a8\"],[0.3333333333333333,\"#9c179e\"],[0.4444444444444444,\"#bd3786\"],[0.5555555555555556,\"#d8576b\"],[0.6666666666666666,\"#ed7953\"],[0.7777777777777778,\"#fb9f3a\"],[0.8888888888888888,\"#fdca26\"],[1.0,\"#f0f921\"]],\"type\":\"contour\"}],\"contourcarpet\":[{\"colorbar\":{\"outlinewidth\":0,\"ticks\":\"\"},\"type\":\"contourcarpet\"}],\"heatmap\":[{\"colorbar\":{\"outlinewidth\":0,\"ticks\":\"\"},\"colorscale\":[[0.0,\"#0d0887\"],[0.1111111111111111,\"#46039f\"],[0.2222222222222222,\"#7201a8\"],[0.3333333333333333,\"#9c179e\"],[0.4444444444444444,\"#bd3786\"],[0.5555555555555556,\"#d8576b\"],[0.6666666666666666,\"#ed7953\"],[0.7777777777777778,\"#fb9f3a\"],[0.8888888888888888,\"#fdca26\"],[1.0,\"#f0f921\"]],\"type\":\"heatmap\"}],\"heatmapgl\":[{\"colorbar\":{\"outlinewidth\":0,\"ticks\":\"\"},\"colorscale\":[[0.0,\"#0d0887\"],[0.1111111111111111,\"#46039f\"],[0.2222222222222222,\"#7201a8\"],[0.3333333333333333,\"#9c179e\"],[0.4444444444444444,\"#bd3786\"],[0.5555555555555556,\"#d8576b\"],[0.6666666666666666,\"#ed7953\"],[0.7777777777777778,\"#fb9f3a\"],[0.8888888888888888,\"#fdca26\"],[1.0,\"#f0f921\"]],\"type\":\"heatmapgl\"}],\"histogram\":[{\"marker\":{\"pattern\":{\"fillmode\":\"overlay\",\"size\":10,\"solidity\":0.2}},\"type\":\"histogram\"}],\"histogram2d\":[{\"colorbar\":{\"outlinewidth\":0,\"ticks\":\"\"},\"colorscale\":[[0.0,\"#0d0887\"],[0.1111111111111111,\"#46039f\"],[0.2222222222222222,\"#7201a8\"],[0.3333333333333333,\"#9c179e\"],[0.4444444444444444,\"#bd3786\"],[0.5555555555555556,\"#d8576b\"],[0.6666666666666666,\"#ed7953\"],[0.7777777777777778,\"#fb9f3a\"],[0.8888888888888888,\"#fdca26\"],[1.0,\"#f0f921\"]],\"type\":\"histogram2d\"}],\"histogram2dcontour\":[{\"colorbar\":{\"outlinewidth\":0,\"ticks\":\"\"},\"colorscale\":[[0.0,\"#0d0887\"],[0.1111111111111111,\"#46039f\"],[0.2222222222222222,\"#7201a8\"],[0.3333333333333333,\"#9c179e\"],[0.4444444444444444,\"#bd3786\"],[0.5555555555555556,\"#d8576b\"],[0.6666666666666666,\"#ed7953\"],[0.7777777777777778,\"#fb9f3a\"],[0.8888888888888888,\"#fdca26\"],[1.0,\"#f0f921\"]],\"type\":\"histogram2dcontour\"}],\"mesh3d\":[{\"colorbar\":{\"outlinewidth\":0,\"ticks\":\"\"},\"type\":\"mesh3d\"}],\"parcoords\":[{\"line\":{\"colorbar\":{\"outlinewidth\":0,\"ticks\":\"\"}},\"type\":\"parcoords\"}],\"pie\":[{\"automargin\":true,\"type\":\"pie\"}],\"scatter\":[{\"marker\":{\"colorbar\":{\"outlinewidth\":0,\"ticks\":\"\"}},\"type\":\"scatter\"}],\"scatter3d\":[{\"line\":{\"colorbar\":{\"outlinewidth\":0,\"ticks\":\"\"}},\"marker\":{\"colorbar\":{\"outlinewidth\":0,\"ticks\":\"\"}},\"type\":\"scatter3d\"}],\"scattercarpet\":[{\"marker\":{\"colorbar\":{\"outlinewidth\":0,\"ticks\":\"\"}},\"type\":\"scattercarpet\"}],\"scattergeo\":[{\"marker\":{\"colorbar\":{\"outlinewidth\":0,\"ticks\":\"\"}},\"type\":\"scattergeo\"}],\"scattergl\":[{\"marker\":{\"colorbar\":{\"outlinewidth\":0,\"ticks\":\"\"}},\"type\":\"scattergl\"}],\"scattermapbox\":[{\"marker\":{\"colorbar\":{\"outlinewidth\":0,\"ticks\":\"\"}},\"type\":\"scattermapbox\"}],\"scatterpolar\":[{\"marker\":{\"colorbar\":{\"outlinewidth\":0,\"ticks\":\"\"}},\"type\":\"scatterpolar\"}],\"scatterpolargl\":[{\"marker\":{\"colorbar\":{\"outlinewidth\":0,\"ticks\":\"\"}},\"type\":\"scatterpolargl\"}],\"scatterternary\":[{\"marker\":{\"colorbar\":{\"outlinewidth\":0,\"ticks\":\"\"}},\"type\":\"scatterternary\"}],\"surface\":[{\"colorbar\":{\"outlinewidth\":0,\"ticks\":\"\"},\"colorscale\":[[0.0,\"#0d0887\"],[0.1111111111111111,\"#46039f\"],[0.2222222222222222,\"#7201a8\"],[0.3333333333333333,\"#9c179e\"],[0.4444444444444444,\"#bd3786\"],[0.5555555555555556,\"#d8576b\"],[0.6666666666666666,\"#ed7953\"],[0.7777777777777778,\"#fb9f3a\"],[0.8888888888888888,\"#fdca26\"],[1.0,\"#f0f921\"]],\"type\":\"surface\"}],\"table\":[{\"cells\":{\"fill\":{\"color\":\"#EBF0F8\"},\"line\":{\"color\":\"white\"}},\"header\":{\"fill\":{\"color\":\"#C8D4E3\"},\"line\":{\"color\":\"white\"}},\"type\":\"table\"}]},\"layout\":{\"annotationdefaults\":{\"arrowcolor\":\"#2a3f5f\",\"arrowhead\":0,\"arrowwidth\":1},\"autotypenumbers\":\"strict\",\"coloraxis\":{\"colorbar\":{\"outlinewidth\":0,\"ticks\":\"\"}},\"colorscale\":{\"diverging\":[[0,\"#8e0152\"],[0.1,\"#c51b7d\"],[0.2,\"#de77ae\"],[0.3,\"#f1b6da\"],[0.4,\"#fde0ef\"],[0.5,\"#f7f7f7\"],[0.6,\"#e6f5d0\"],[0.7,\"#b8e186\"],[0.8,\"#7fbc41\"],[0.9,\"#4d9221\"],[1,\"#276419\"]],\"sequential\":[[0.0,\"#0d0887\"],[0.1111111111111111,\"#46039f\"],[0.2222222222222222,\"#7201a8\"],[0.3333333333333333,\"#9c179e\"],[0.4444444444444444,\"#bd3786\"],[0.5555555555555556,\"#d8576b\"],[0.6666666666666666,\"#ed7953\"],[0.7777777777777778,\"#fb9f3a\"],[0.8888888888888888,\"#fdca26\"],[1.0,\"#f0f921\"]],\"sequentialminus\":[[0.0,\"#0d0887\"],[0.1111111111111111,\"#46039f\"],[0.2222222222222222,\"#7201a8\"],[0.3333333333333333,\"#9c179e\"],[0.4444444444444444,\"#bd3786\"],[0.5555555555555556,\"#d8576b\"],[0.6666666666666666,\"#ed7953\"],[0.7777777777777778,\"#fb9f3a\"],[0.8888888888888888,\"#fdca26\"],[1.0,\"#f0f921\"]]},\"colorway\":[\"#636efa\",\"#EF553B\",\"#00cc96\",\"#ab63fa\",\"#FFA15A\",\"#19d3f3\",\"#FF6692\",\"#B6E880\",\"#FF97FF\",\"#FECB52\"],\"font\":{\"color\":\"#2a3f5f\"},\"geo\":{\"bgcolor\":\"white\",\"lakecolor\":\"white\",\"landcolor\":\"#E5ECF6\",\"showlakes\":true,\"showland\":true,\"subunitcolor\":\"white\"},\"hoverlabel\":{\"align\":\"left\"},\"hovermode\":\"closest\",\"mapbox\":{\"style\":\"light\"},\"paper_bgcolor\":\"white\",\"plot_bgcolor\":\"#E5ECF6\",\"polar\":{\"angularaxis\":{\"gridcolor\":\"white\",\"linecolor\":\"white\",\"ticks\":\"\"},\"bgcolor\":\"#E5ECF6\",\"radialaxis\":{\"gridcolor\":\"white\",\"linecolor\":\"white\",\"ticks\":\"\"}},\"scene\":{\"xaxis\":{\"backgroundcolor\":\"#E5ECF6\",\"gridcolor\":\"white\",\"gridwidth\":2,\"linecolor\":\"white\",\"showbackground\":true,\"ticks\":\"\",\"zerolinecolor\":\"white\"},\"yaxis\":{\"backgroundcolor\":\"#E5ECF6\",\"gridcolor\":\"white\",\"gridwidth\":2,\"linecolor\":\"white\",\"showbackground\":true,\"ticks\":\"\",\"zerolinecolor\":\"white\"},\"zaxis\":{\"backgroundcolor\":\"#E5ECF6\",\"gridcolor\":\"white\",\"gridwidth\":2,\"linecolor\":\"white\",\"showbackground\":true,\"ticks\":\"\",\"zerolinecolor\":\"white\"}},\"shapedefaults\":{\"line\":{\"color\":\"#2a3f5f\"}},\"ternary\":{\"aaxis\":{\"gridcolor\":\"white\",\"linecolor\":\"white\",\"ticks\":\"\"},\"baxis\":{\"gridcolor\":\"white\",\"linecolor\":\"white\",\"ticks\":\"\"},\"bgcolor\":\"#E5ECF6\",\"caxis\":{\"gridcolor\":\"white\",\"linecolor\":\"white\",\"ticks\":\"\"}},\"title\":{\"x\":0.05},\"xaxis\":{\"automargin\":true,\"gridcolor\":\"white\",\"linecolor\":\"white\",\"ticks\":\"\",\"title\":{\"standoff\":15},\"zerolinecolor\":\"white\",\"zerolinewidth\":2},\"yaxis\":{\"automargin\":true,\"gridcolor\":\"white\",\"linecolor\":\"white\",\"ticks\":\"\",\"title\":{\"standoff\":15},\"zerolinecolor\":\"white\",\"zerolinewidth\":2}}},\"title\":{\"text\":\"\\u0421\\u0440\\u0430\\u0432\\u043d\\u0435\\u043d\\u0438\\u0435 \\u0432\\u044b\\u0440\\u0443\\u0447\\u043a\\u0438 \\u043f\\u043e \\u0442\\u0435\\u043a\\u0443\\u0449\\u0435\\u043c\\u0443 \\u0438 \\u043b\\u0443\\u0447\\u0448\\u0435\\u043c\\u0443 \\u0442\\u0430\\u0440\\u0438\\u0444\\u0443\",\"x\":0.5},\"xaxis\":{\"title\":{\"text\":\"\\u0422\\u0438\\u043f \\u0442\\u0430\\u0440\\u0438\\u0444\\u0430\"}},\"yaxis\":{\"title\":{\"text\":\"\\u0412\\u044b\\u0440\\u0443\\u0447\\u043a\\u0430 (\\u0440\\u0443\\u0431.)\"}}},                        {\"responsive\": true}                    ).then(function(){\n",
       "                            \n",
       "var gd = document.getElementById('2711bd88-9680-4c3f-b29c-826c85827ff5');\n",
       "var x = new MutationObserver(function (mutations, observer) {{\n",
       "        var display = window.getComputedStyle(gd).display;\n",
       "        if (!display || display === 'none') {{\n",
       "            console.log([gd, 'removed!']);\n",
       "            Plotly.purge(gd);\n",
       "            observer.disconnect();\n",
       "        }}\n",
       "}});\n",
       "\n",
       "// Listen for the removal of the full notebook cells\n",
       "var notebookContainer = gd.closest('#notebook-container');\n",
       "if (notebookContainer) {{\n",
       "    x.observe(notebookContainer, {childList: true});\n",
       "}}\n",
       "\n",
       "// Listen for the clearing of the current output cell\n",
       "var outputEl = gd.closest('.output');\n",
       "if (outputEl) {{\n",
       "    x.observe(outputEl, {childList: true});\n",
       "}}\n",
       "\n",
       "                        })                };                });            </script>        </div>"
      ]
     },
     "metadata": {},
     "output_type": "display_data"
    }
   ],
   "source": [
    "# Данные для графика\n",
    "current_revenue = suboptimal_tariff[\"current_price\"].sum()\n",
    "best_revenue = suboptimal_tariff[\"optimal_tariff\"].sum()\n",
    "\n",
    "# Создание графика\n",
    "fig = go.Figure()\n",
    "\n",
    "# Добавление столбцов для текущего и лучшего тарифа\n",
    "fig.add_trace(go.Bar(\n",
    "    x=['Текущий тариф', 'Лучший тариф'],\n",
    "    y=[current_revenue, best_revenue],\n",
    "    marker_color=['green', 'red']\n",
    "))\n",
    "\n",
    "# Настройка внешнего вида графика\n",
    "fig.update_layout(\n",
    "    title=\"Сравнение выручки по текущему и лучшему тарифу\",\n",
    "    xaxis_title=\"Тип тарифа\",\n",
    "    yaxis_title=\"Выручка (руб.)\",\n",
    "    title_x=0.5\n",
    ")\n",
    "\n",
    "# Отображение графика\n",
    "fig.show()\n"
   ]
  },
  {
   "cell_type": "markdown",
   "metadata": {},
   "source": [
    "Самый эффективный способ минимизировать количество уходов клиентов - предложить им перейти на самый выгодный тариф, однако в данном случае сильно страдает значение выручки: на 76% убытков компания вряд ли готова пойти"
   ]
  },
  {
   "cell_type": "code",
   "execution_count": 402,
   "metadata": {},
   "outputs": [],
   "source": [
    "suboptimal_tariff_november = suboptimal_tariff.query('month == 11')"
   ]
  },
  {
   "cell_type": "code",
   "execution_count": 403,
   "metadata": {},
   "outputs": [
    {
     "name": "stdout",
     "output_type": "stream",
     "text": [
      "Выручка при действующих тарифных планах: 4332591 рублей.\n"
     ]
    }
   ],
   "source": [
    "print(f'Выручка при действующих тарифных планах: {round(suboptimal_tariff_november[\"current_price\"].sum())} рублей.')"
   ]
  },
  {
   "cell_type": "code",
   "execution_count": 404,
   "metadata": {},
   "outputs": [
    {
     "name": "stdout",
     "output_type": "stream",
     "text": [
      "Выручка, если заменить все тарифные планы на самые выгодные: 2468113 рублей.\n",
      "\n",
      "Это на 75.5% меньше выручки по действующим тарифам.\n"
     ]
    }
   ],
   "source": [
    "print('Выручка, если заменить все тарифные планы на самые выгодные: ',\n",
    "      f'{round(suboptimal_tariff_november[\"optimal_tariff\"].sum())} рублей.\\n\\n',\n",
    "      f'Это на {round((suboptimal_tariff_november[\"current_price\"].sum() / suboptimal_tariff_november[\"optimal_tariff\"].sum() - 1) * 100, 1)}',\n",
    "      '% меньше выручки по действующим тарифам.', sep='')"
   ]
  },
  {
   "cell_type": "markdown",
   "metadata": {},
   "source": [
    "### Выручка в разрезе тарифов"
   ]
  },
  {
   "cell_type": "code",
   "execution_count": 405,
   "metadata": {},
   "outputs": [
    {
     "data": {
      "text/html": [
       "<div>\n",
       "<style scoped>\n",
       "    .dataframe tbody tr th:only-of-type {\n",
       "        vertical-align: middle;\n",
       "    }\n",
       "\n",
       "    .dataframe tbody tr th {\n",
       "        vertical-align: top;\n",
       "    }\n",
       "\n",
       "    .dataframe thead th {\n",
       "        text-align: right;\n",
       "    }\n",
       "</style>\n",
       "<table border=\"1\" class=\"dataframe\">\n",
       "  <thead>\n",
       "    <tr style=\"text-align: right;\">\n",
       "      <th></th>\n",
       "      <th>tariff_plan</th>\n",
       "      <th>current_price</th>\n",
       "    </tr>\n",
       "  </thead>\n",
       "  <tbody>\n",
       "    <tr>\n",
       "      <th>0</th>\n",
       "      <td>A</td>\n",
       "      <td>5994605.6</td>\n",
       "    </tr>\n",
       "    <tr>\n",
       "      <th>1</th>\n",
       "      <td>C</td>\n",
       "      <td>5753527.1</td>\n",
       "    </tr>\n",
       "    <tr>\n",
       "      <th>2</th>\n",
       "      <td>B</td>\n",
       "      <td>4159271.7</td>\n",
       "    </tr>\n",
       "  </tbody>\n",
       "</table>\n",
       "</div>"
      ],
      "text/plain": [
       "  tariff_plan  current_price\n",
       "0           A      5994605.6\n",
       "1           C      5753527.1\n",
       "2           B      4159271.7"
      ]
     },
     "execution_count": 405,
     "metadata": {},
     "output_type": "execute_result"
    }
   ],
   "source": [
    "revenue_by_tariffs = telecom_tariff.groupby('tariff_plan')['current_price'].sum().sort_values(ascending=False).reset_index()\n",
    "revenue_by_tariffs.head()"
   ]
  },
  {
   "cell_type": "code",
   "execution_count": 406,
   "metadata": {},
   "outputs": [
    {
     "data": {
      "image/png": "[encoded data removed]",
      "text/plain": [
       "<Figure size 720x504 with 1 Axes>"
      ]
     },
     "metadata": {
      "needs_background": "light"
     },
     "output_type": "display_data"
    }
   ],
   "source": [
    "plt.figure(figsize=(10, 7))\n",
    "\n",
    "# Построение графика\n",
    "plt.bar(x=revenue_by_tariffs['tariff_plan'], \n",
    "        height=revenue_by_tariffs['current_price'].sort_values(ascending=False))\n",
    "\n",
    "# Настройка заголовков и меток\n",
    "plt.title('Общая выручка в разрезе тарифов')\n",
    "plt.xlabel('Тариф')\n",
    "plt.ylabel('Выручка в рублях')\n",
    "\n",
    "# Форматирование меток на оси Y\n",
    "plt.gca().yaxis.set_major_formatter(plt.FuncFormatter(lambda x, _: f'{int(x):,}'.replace(',', ' ')))\n",
    "\n",
    "plt.show()"
   ]
  },
  {
   "cell_type": "markdown",
   "metadata": {},
   "source": [
    "Клиенты с тарифом А приносят больше прибыли, чем клиенты с тарифами С и В. Тариф В имеет самую низкую прибыль среди всех тарифов."
   ]
  },
  {
   "cell_type": "markdown",
   "metadata": {},
   "source": [
    "### Как уменьшить риск падения выручки, если все клиенты перейдут на более выгодные тарифы?"
   ]
  },
  {
   "cell_type": "markdown",
   "metadata": {},
   "source": [
    "Вместо самого выгодного тарифа можно предложить клиентам средний тариф с бонусами, который включает\n",
    "дополнительные услуги и бонусы.\n",
    "\n",
    "Бонусы и услуги:\n",
    "\n",
    "- Бесплатные консультации.\n",
    "- Дополнительные минуты/ГБ.\n",
    "- Скидки на новые услуги."
   ]
  },
  {
   "cell_type": "code",
   "execution_count": 407,
   "metadata": {},
   "outputs": [],
   "source": [
    "suboptimal_tariff_optim = suboptimal_tariff.copy()\n",
    "\n",
    "# Обновлённая таблица с тарифами. D - средний тариф\n",
    "tariff_data = pd.DataFrame({\n",
    "    'tariff_plan': ['D'],\n",
    "    'base_fee': [1000],\n",
    "    'operator_cost': [90],\n",
    "    'included_minutes': [600],\n",
    "    'overage_rate': [0.2],\n",
    "    'external_rate': [0.4]\n",
    "})"
   ]
  },
  {
   "cell_type": "code",
   "execution_count": 408,
   "metadata": {},
   "outputs": [
    {
     "data": {
      "text/html": [
       "<div>\n",
       "<style scoped>\n",
       "    .dataframe tbody tr th:only-of-type {\n",
       "        vertical-align: middle;\n",
       "    }\n",
       "\n",
       "    .dataframe tbody tr th {\n",
       "        vertical-align: top;\n",
       "    }\n",
       "\n",
       "    .dataframe thead th {\n",
       "        text-align: right;\n",
       "    }\n",
       "</style>\n",
       "<table border=\"1\" class=\"dataframe\">\n",
       "  <thead>\n",
       "    <tr style=\"text-align: right;\">\n",
       "      <th></th>\n",
       "      <th>user_id</th>\n",
       "      <th>month</th>\n",
       "      <th>tariff_plan</th>\n",
       "      <th>current_price</th>\n",
       "      <th>price_A</th>\n",
       "      <th>price_B</th>\n",
       "      <th>price_C</th>\n",
       "      <th>best_price</th>\n",
       "      <th>overpayment</th>\n",
       "      <th>overpayment_ratio</th>\n",
       "      <th>optimal_tariff</th>\n",
       "    </tr>\n",
       "  </thead>\n",
       "  <tbody>\n",
       "    <tr>\n",
       "      <th>0</th>\n",
       "      <td>166377</td>\n",
       "      <td>9</td>\n",
       "      <td>B</td>\n",
       "      <td>55517.5</td>\n",
       "      <td>35950.5</td>\n",
       "      <td>55517.5</td>\n",
       "      <td>76287.2</td>\n",
       "      <td>35950.5</td>\n",
       "      <td>19567.0</td>\n",
       "      <td>0.350178</td>\n",
       "      <td>35950.5</td>\n",
       "    </tr>\n",
       "    <tr>\n",
       "      <th>1</th>\n",
       "      <td>166377</td>\n",
       "      <td>10</td>\n",
       "      <td>B</td>\n",
       "      <td>52353.5</td>\n",
       "      <td>34012.1</td>\n",
       "      <td>52353.5</td>\n",
       "      <td>71946.4</td>\n",
       "      <td>34012.1</td>\n",
       "      <td>18341.4</td>\n",
       "      <td>0.350178</td>\n",
       "      <td>34012.1</td>\n",
       "    </tr>\n",
       "    <tr>\n",
       "      <th>2</th>\n",
       "      <td>166377</td>\n",
       "      <td>11</td>\n",
       "      <td>B</td>\n",
       "      <td>50292.0</td>\n",
       "      <td>32815.2</td>\n",
       "      <td>50292.0</td>\n",
       "      <td>69006.9</td>\n",
       "      <td>32815.2</td>\n",
       "      <td>17476.8</td>\n",
       "      <td>0.350178</td>\n",
       "      <td>32815.2</td>\n",
       "    </tr>\n",
       "    <tr>\n",
       "      <th>3</th>\n",
       "      <td>166405</td>\n",
       "      <td>9</td>\n",
       "      <td>B</td>\n",
       "      <td>62971.5</td>\n",
       "      <td>40422.9</td>\n",
       "      <td>62971.5</td>\n",
       "      <td>86720.1</td>\n",
       "      <td>40422.9</td>\n",
       "      <td>22548.6</td>\n",
       "      <td>0.383779</td>\n",
       "      <td>40422.9</td>\n",
       "    </tr>\n",
       "    <tr>\n",
       "      <th>4</th>\n",
       "      <td>166405</td>\n",
       "      <td>10</td>\n",
       "      <td>B</td>\n",
       "      <td>192459.7</td>\n",
       "      <td>117850.8</td>\n",
       "      <td>192459.7</td>\n",
       "      <td>268718.6</td>\n",
       "      <td>117850.8</td>\n",
       "      <td>74608.9</td>\n",
       "      <td>0.383779</td>\n",
       "      <td>117850.8</td>\n",
       "    </tr>\n",
       "    <tr>\n",
       "      <th>...</th>\n",
       "      <td>...</td>\n",
       "      <td>...</td>\n",
       "      <td>...</td>\n",
       "      <td>...</td>\n",
       "      <td>...</td>\n",
       "      <td>...</td>\n",
       "      <td>...</td>\n",
       "      <td>...</td>\n",
       "      <td>...</td>\n",
       "      <td>...</td>\n",
       "      <td>...</td>\n",
       "    </tr>\n",
       "    <tr>\n",
       "      <th>304</th>\n",
       "      <td>168481</td>\n",
       "      <td>11</td>\n",
       "      <td>B</td>\n",
       "      <td>2662.5</td>\n",
       "      <td>4277.5</td>\n",
       "      <td>2662.5</td>\n",
       "      <td>2197.5</td>\n",
       "      <td>2197.5</td>\n",
       "      <td>465.0</td>\n",
       "      <td>0.174648</td>\n",
       "      <td>2197.5</td>\n",
       "    </tr>\n",
       "    <tr>\n",
       "      <th>305</th>\n",
       "      <td>168579</td>\n",
       "      <td>11</td>\n",
       "      <td>B</td>\n",
       "      <td>2300.0</td>\n",
       "      <td>4100.0</td>\n",
       "      <td>2300.0</td>\n",
       "      <td>1600.0</td>\n",
       "      <td>1600.0</td>\n",
       "      <td>700.0</td>\n",
       "      <td>0.304348</td>\n",
       "      <td>1600.0</td>\n",
       "    </tr>\n",
       "    <tr>\n",
       "      <th>306</th>\n",
       "      <td>168583</td>\n",
       "      <td>10</td>\n",
       "      <td>B</td>\n",
       "      <td>2150.0</td>\n",
       "      <td>4050.0</td>\n",
       "      <td>2150.0</td>\n",
       "      <td>1300.0</td>\n",
       "      <td>1300.0</td>\n",
       "      <td>850.0</td>\n",
       "      <td>0.348315</td>\n",
       "      <td>1300.0</td>\n",
       "    </tr>\n",
       "    <tr>\n",
       "      <th>307</th>\n",
       "      <td>168583</td>\n",
       "      <td>11</td>\n",
       "      <td>B</td>\n",
       "      <td>2300.0</td>\n",
       "      <td>4100.0</td>\n",
       "      <td>2300.0</td>\n",
       "      <td>1600.0</td>\n",
       "      <td>1600.0</td>\n",
       "      <td>700.0</td>\n",
       "      <td>0.348315</td>\n",
       "      <td>1600.0</td>\n",
       "    </tr>\n",
       "    <tr>\n",
       "      <th>308</th>\n",
       "      <td>168601</td>\n",
       "      <td>11</td>\n",
       "      <td>C</td>\n",
       "      <td>24834.4</td>\n",
       "      <td>14057.6</td>\n",
       "      <td>18896.0</td>\n",
       "      <td>24834.4</td>\n",
       "      <td>14057.6</td>\n",
       "      <td>10776.8</td>\n",
       "      <td>0.433946</td>\n",
       "      <td>14057.6</td>\n",
       "    </tr>\n",
       "  </tbody>\n",
       "</table>\n",
       "<p>309 rows × 11 columns</p>\n",
       "</div>"
      ],
      "text/plain": [
       "     user_id  month tariff_plan  current_price   price_A   price_B   price_C  \\\n",
       "0     166377      9           B        55517.5   35950.5   55517.5   76287.2   \n",
       "1     166377     10           B        52353.5   34012.1   52353.5   71946.4   \n",
       "2     166377     11           B        50292.0   32815.2   50292.0   69006.9   \n",
       "3     166405      9           B        62971.5   40422.9   62971.5   86720.1   \n",
       "4     166405     10           B       192459.7  117850.8  192459.7  268718.6   \n",
       "..       ...    ...         ...            ...       ...       ...       ...   \n",
       "304   168481     11           B         2662.5    4277.5    2662.5    2197.5   \n",
       "305   168579     11           B         2300.0    4100.0    2300.0    1600.0   \n",
       "306   168583     10           B         2150.0    4050.0    2150.0    1300.0   \n",
       "307   168583     11           B         2300.0    4100.0    2300.0    1600.0   \n",
       "308   168601     11           C        24834.4   14057.6   18896.0   24834.4   \n",
       "\n",
       "     best_price  overpayment  overpayment_ratio  optimal_tariff  \n",
       "0       35950.5      19567.0           0.350178         35950.5  \n",
       "1       34012.1      18341.4           0.350178         34012.1  \n",
       "2       32815.2      17476.8           0.350178         32815.2  \n",
       "3       40422.9      22548.6           0.383779         40422.9  \n",
       "4      117850.8      74608.9           0.383779        117850.8  \n",
       "..          ...          ...                ...             ...  \n",
       "304      2197.5        465.0           0.174648          2197.5  \n",
       "305      1600.0        700.0           0.304348          1600.0  \n",
       "306      1300.0        850.0           0.348315          1300.0  \n",
       "307      1600.0        700.0           0.348315          1600.0  \n",
       "308     14057.6      10776.8           0.433946         14057.6  \n",
       "\n",
       "[309 rows x 11 columns]"
      ]
     },
     "execution_count": 408,
     "metadata": {},
     "output_type": "execute_result"
    }
   ],
   "source": [
    "suboptimal_tariff_optim"
   ]
  },
  {
   "cell_type": "code",
   "execution_count": 409,
   "metadata": {},
   "outputs": [],
   "source": [
    "def calculate_plan_D(data_row):\n",
    "    plan = 'D'  # Выбираем тарифный план D\n",
    "    tariff = tariff_data[tariff_data['tariff_plan'] == plan].iloc[0]\n",
    "    \n",
    "    available_minutes = tariff['included_minutes'] - data_row['internal_duration']\n",
    "    \n",
    "    if available_minutes < 0:\n",
    "        internal_cost = abs(available_minutes) * tariff['overage_rate']\n",
    "    else:\n",
    "        internal_cost = 0\n",
    "\n",
    "    external_cost = data_row['external_duration'] * tariff['external_rate']\n",
    "    total_cost = internal_cost + external_cost + tariff['base_fee'] + data_row['amount_of_operators'] * tariff['operator_cost']\n",
    "    \n",
    "    # Добавляем стоимость бонусов\n",
    "    total_cost += 5000\n",
    "    \n",
    "    return total_cost"
   ]
  },
  {
   "cell_type": "code",
   "execution_count": 410,
   "metadata": {},
   "outputs": [],
   "source": [
    "suboptimal_tariff_optim['price_D'] = round(telecom_tariff_data.apply(calculate_plan_D, axis=1), 2)"
   ]
  },
  {
   "cell_type": "markdown",
   "metadata": {},
   "source": [
    "Также применим это к тем клиентам, переплата которых за 3 месяца больше 15%"
   ]
  },
  {
   "cell_type": "code",
   "execution_count": 411,
   "metadata": {},
   "outputs": [],
   "source": [
    "suboptimal_tariff_optim['new_optimal_tariff'] = suboptimal_tariff_optim.apply(\n",
    "    lambda row: row['price_D'] if row['overpayment_ratio'] > 0.15 else row['current_price'],\n",
    "    axis=1\n",
    ")"
   ]
  },
  {
   "cell_type": "code",
   "execution_count": 412,
   "metadata": {},
   "outputs": [
    {
     "name": "stdout",
     "output_type": "stream",
     "text": [
      "Выручка, если заменить все тарифные планы на средние: 7626220 рублей.\n",
      "\n",
      "Это на 27.4% меньше выручки по действующим тарифам.\n"
     ]
    }
   ],
   "source": [
    "print('Выручка, если заменить все тарифные планы на средние: ',\n",
    "      f'{round(suboptimal_tariff_optim[\"new_optimal_tariff\"].sum())} рублей.\\n\\n',\n",
    "      f'Это на {round((suboptimal_tariff_optim[\"current_price\"].sum() / suboptimal_tariff_optim[\"new_optimal_tariff\"].sum() - 1) * 100, 1)}',\n",
    "      '% меньше выручки по действующим тарифам.', sep='')"
   ]
  },
  {
   "cell_type": "code",
   "execution_count": 413,
   "metadata": {},
   "outputs": [
    {
     "data": {
      "application/vnd.plotly.v1+json": {
       "config": {
        "plotlyServerURL": "https://plot.ly"
       },
       "data": [
        {
         "hole": 0.3,
         "labels": [
          "Текущий тариф",
          "Средний тариф"
         ],
         "marker": {
          "colors": [
           "#aab8c2",
           "#f4a261"
          ]
         },
         "showlegend": true,
         "textinfo": "label+value",
         "type": "pie",
         "values": [
          9714198,
          7626219.550000001
         ]
        }
       ],
       "layout": {
        "template": {
         "data": {
          "bar": [
           {
            "error_x": {
             "color": "#2a3f5f"
            },
            "error_y": {
             "color": "#2a3f5f"
            },
            "marker": {
             "line": {
              "color": "#E5ECF6",
              "width": 0.5
             },
             "pattern": {
              "fillmode": "overlay",
              "size": 10,
              "solidity": 0.2
             }
            },
            "type": "bar"
           }
          ],
          "barpolar": [
           {
            "marker": {
             "line": {
              "color": "#E5ECF6",
              "width": 0.5
             },
             "pattern": {
              "fillmode": "overlay",
              "size": 10,
              "solidity": 0.2
             }
            },
            "type": "barpolar"
           }
          ],
          "carpet": [
           {
            "aaxis": {
             "endlinecolor": "#2a3f5f",
             "gridcolor": "white",
             "linecolor": "white",
             "minorgridcolor": "white",
             "startlinecolor": "#2a3f5f"
            },
            "baxis": {
             "endlinecolor": "#2a3f5f",
             "gridcolor": "white",
             "linecolor": "white",
             "minorgridcolor": "white",
             "startlinecolor": "#2a3f5f"
            },
            "type": "carpet"
           }
          ],
          "choropleth": [
           {
            "colorbar": {
             "outlinewidth": 0,
             "ticks": ""
            },
            "type": "choropleth"
           }
          ],
          "contour": [
           {
            "colorbar": {
             "outlinewidth": 0,
             "ticks": ""
            },
            "colorscale": [
             [
              0,
              "#0d0887"
             ],
             [
              0.1111111111111111,
              "#46039f"
             ],
             [
              0.2222222222222222,
              "#7201a8"
             ],
             [
              0.3333333333333333,
              "#9c179e"
             ],
             [
              0.4444444444444444,
              "#bd3786"
             ],
             [
              0.5555555555555556,
              "#d8576b"
             ],
             [
              0.6666666666666666,
              "#ed7953"
             ],
             [
              0.7777777777777778,
              "#fb9f3a"
             ],
             [
              0.8888888888888888,
              "#fdca26"
             ],
             [
              1,
              "#f0f921"
             ]
            ],
            "type": "contour"
           }
          ],
          "contourcarpet": [
           {
            "colorbar": {
             "outlinewidth": 0,
             "ticks": ""
            },
            "type": "contourcarpet"
           }
          ],
          "heatmap": [
           {
            "colorbar": {
             "outlinewidth": 0,
             "ticks": ""
            },
            "colorscale": [
             [
              0,
              "#0d0887"
             ],
             [
              0.1111111111111111,
              "#46039f"
             ],
             [
              0.2222222222222222,
              "#7201a8"
             ],
             [
              0.3333333333333333,
              "#9c179e"
             ],
             [
              0.4444444444444444,
              "#bd3786"
             ],
             [
              0.5555555555555556,
              "#d8576b"
             ],
             [
              0.6666666666666666,
              "#ed7953"
             ],
             [
              0.7777777777777778,
              "#fb9f3a"
             ],
             [
              0.8888888888888888,
              "#fdca26"
             ],
             [
              1,
              "#f0f921"
             ]
            ],
            "type": "heatmap"
           }
          ],
          "heatmapgl": [
           {
            "colorbar": {
             "outlinewidth": 0,
             "ticks": ""
            },
            "colorscale": [
             [
              0,
              "#0d0887"
             ],
             [
              0.1111111111111111,
              "#46039f"
             ],
             [
              0.2222222222222222,
              "#7201a8"
             ],
             [
              0.3333333333333333,
              "#9c179e"
             ],
             [
              0.4444444444444444,
              "#bd3786"
             ],
             [
              0.5555555555555556,
              "#d8576b"
             ],
             [
              0.6666666666666666,
              "#ed7953"
             ],
             [
              0.7777777777777778,
              "#fb9f3a"
             ],
             [
              0.8888888888888888,
              "#fdca26"
             ],
             [
              1,
              "#f0f921"
             ]
            ],
            "type": "heatmapgl"
           }
          ],
          "histogram": [
           {
            "marker": {
             "pattern": {
              "fillmode": "overlay",
              "size": 10,
              "solidity": 0.2
             }
            },
            "type": "histogram"
           }
          ],
          "histogram2d": [
           {
            "colorbar": {
             "outlinewidth": 0,
             "ticks": ""
            },
            "colorscale": [
             [
              0,
              "#0d0887"
             ],
             [
              0.1111111111111111,
              "#46039f"
             ],
             [
              0.2222222222222222,
              "#7201a8"
             ],
             [
              0.3333333333333333,
              "#9c179e"
             ],
             [
              0.4444444444444444,
              "#bd3786"
             ],
             [
              0.5555555555555556,
              "#d8576b"
             ],
             [
              0.6666666666666666,
              "#ed7953"
             ],
             [
              0.7777777777777778,
              "#fb9f3a"
             ],
             [
              0.8888888888888888,
              "#fdca26"
             ],
             [
              1,
              "#f0f921"
             ]
            ],
            "type": "histogram2d"
           }
          ],
          "histogram2dcontour": [
           {
            "colorbar": {
             "outlinewidth": 0,
             "ticks": ""
            },
            "colorscale": [
             [
              0,
              "#0d0887"
             ],
             [
              0.1111111111111111,
              "#46039f"
             ],
             [
              0.2222222222222222,
              "#7201a8"
             ],
             [
              0.3333333333333333,
              "#9c179e"
             ],
             [
              0.4444444444444444,
              "#bd3786"
             ],
             [
              0.5555555555555556,
              "#d8576b"
             ],
             [
              0.6666666666666666,
              "#ed7953"
             ],
             [
              0.7777777777777778,
              "#fb9f3a"
             ],
             [
              0.8888888888888888,
              "#fdca26"
             ],
             [
              1,
              "#f0f921"
             ]
            ],
            "type": "histogram2dcontour"
           }
          ],
          "mesh3d": [
           {
            "colorbar": {
             "outlinewidth": 0,
             "ticks": ""
            },
            "type": "mesh3d"
           }
          ],
          "parcoords": [
           {
            "line": {
             "colorbar": {
              "outlinewidth": 0,
              "ticks": ""
             }
            },
            "type": "parcoords"
           }
          ],
          "pie": [
           {
            "automargin": true,
            "type": "pie"
           }
          ],
          "scatter": [
           {
            "marker": {
             "colorbar": {
              "outlinewidth": 0,
              "ticks": ""
             }
            },
            "type": "scatter"
           }
          ],
          "scatter3d": [
           {
            "line": {
             "colorbar": {
              "outlinewidth": 0,
              "ticks": ""
             }
            },
            "marker": {
             "colorbar": {
              "outlinewidth": 0,
              "ticks": ""
             }
            },
            "type": "scatter3d"
           }
          ],
          "scattercarpet": [
           {
            "marker": {
             "colorbar": {
              "outlinewidth": 0,
              "ticks": ""
             }
            },
            "type": "scattercarpet"
           }
          ],
          "scattergeo": [
           {
            "marker": {
             "colorbar": {
              "outlinewidth": 0,
              "ticks": ""
             }
            },
            "type": "scattergeo"
           }
          ],
          "scattergl": [
           {
            "marker": {
             "colorbar": {
              "outlinewidth": 0,
              "ticks": ""
             }
            },
            "type": "scattergl"
           }
          ],
          "scattermapbox": [
           {
            "marker": {
             "colorbar": {
              "outlinewidth": 0,
              "ticks": ""
             }
            },
            "type": "scattermapbox"
           }
          ],
          "scatterpolar": [
           {
            "marker": {
             "colorbar": {
              "outlinewidth": 0,
              "ticks": ""
             }
            },
            "type": "scatterpolar"
           }
          ],
          "scatterpolargl": [
           {
            "marker": {
             "colorbar": {
              "outlinewidth": 0,
              "ticks": ""
             }
            },
            "type": "scatterpolargl"
           }
          ],
          "scatterternary": [
           {
            "marker": {
             "colorbar": {
              "outlinewidth": 0,
              "ticks": ""
             }
            },
            "type": "scatterternary"
           }
          ],
          "surface": [
           {
            "colorbar": {
             "outlinewidth": 0,
             "ticks": ""
            },
            "colorscale": [
             [
              0,
              "#0d0887"
             ],
             [
              0.1111111111111111,
              "#46039f"
             ],
             [
              0.2222222222222222,
              "#7201a8"
             ],
             [
              0.3333333333333333,
              "#9c179e"
             ],
             [
              0.4444444444444444,
              "#bd3786"
             ],
             [
              0.5555555555555556,
              "#d8576b"
             ],
             [
              0.6666666666666666,
              "#ed7953"
             ],
             [
              0.7777777777777778,
              "#fb9f3a"
             ],
             [
              0.8888888888888888,
              "#fdca26"
             ],
             [
              1,
              "#f0f921"
             ]
            ],
            "type": "surface"
           }
          ],
          "table": [
           {
            "cells": {
             "fill": {
              "color": "#EBF0F8"
             },
             "line": {
              "color": "white"
             }
            },
            "header": {
             "fill": {
              "color": "#C8D4E3"
             },
             "line": {
              "color": "white"
             }
            },
            "type": "table"
           }
          ]
         },
         "layout": {
          "annotationdefaults": {
           "arrowcolor": "#2a3f5f",
           "arrowhead": 0,
           "arrowwidth": 1
          },
          "autotypenumbers": "strict",
          "coloraxis": {
           "colorbar": {
            "outlinewidth": 0,
            "ticks": ""
           }
          },
          "colorscale": {
           "diverging": [
            [
             0,
             "#8e0152"
            ],
            [
             0.1,
             "#c51b7d"
            ],
            [
             0.2,
             "#de77ae"
            ],
            [
             0.3,
             "#f1b6da"
            ],
            [
             0.4,
             "#fde0ef"
            ],
            [
             0.5,
             "#f7f7f7"
            ],
            [
             0.6,
             "#e6f5d0"
            ],
            [
             0.7,
             "#b8e186"
            ],
            [
             0.8,
             "#7fbc41"
            ],
            [
             0.9,
             "#4d9221"
            ],
            [
             1,
             "#276419"
            ]
           ],
           "sequential": [
            [
             0,
             "#0d0887"
            ],
            [
             0.1111111111111111,
             "#46039f"
            ],
            [
             0.2222222222222222,
             "#7201a8"
            ],
            [
             0.3333333333333333,
             "#9c179e"
            ],
            [
             0.4444444444444444,
             "#bd3786"
            ],
            [
             0.5555555555555556,
             "#d8576b"
            ],
            [
             0.6666666666666666,
             "#ed7953"
            ],
            [
             0.7777777777777778,
             "#fb9f3a"
            ],
            [
             0.8888888888888888,
             "#fdca26"
            ],
            [
             1,
             "#f0f921"
            ]
           ],
           "sequentialminus": [
            [
             0,
             "#0d0887"
            ],
            [
             0.1111111111111111,
             "#46039f"
            ],
            [
             0.2222222222222222,
             "#7201a8"
            ],
            [
             0.3333333333333333,
             "#9c179e"
            ],
            [
             0.4444444444444444,
             "#bd3786"
            ],
            [
             0.5555555555555556,
             "#d8576b"
            ],
            [
             0.6666666666666666,
             "#ed7953"
            ],
            [
             0.7777777777777778,
             "#fb9f3a"
            ],
            [
             0.8888888888888888,
             "#fdca26"
            ],
            [
             1,
             "#f0f921"
            ]
           ]
          },
          "colorway": [
           "#636efa",
           "#EF553B",
           "#00cc96",
           "#ab63fa",
           "#FFA15A",
           "#19d3f3",
           "#FF6692",
           "#B6E880",
           "#FF97FF",
           "#FECB52"
          ],
          "font": {
           "color": "#2a3f5f"
          },
          "geo": {
           "bgcolor": "white",
           "lakecolor": "white",
           "landcolor": "#E5ECF6",
           "showlakes": true,
           "showland": true,
           "subunitcolor": "white"
          },
          "hoverlabel": {
           "align": "left"
          },
          "hovermode": "closest",
          "mapbox": {
           "style": "light"
          },
          "paper_bgcolor": "white",
          "plot_bgcolor": "#E5ECF6",
          "polar": {
           "angularaxis": {
            "gridcolor": "white",
            "linecolor": "white",
            "ticks": ""
           },
           "bgcolor": "#E5ECF6",
           "radialaxis": {
            "gridcolor": "white",
            "linecolor": "white",
            "ticks": ""
           }
          },
          "scene": {
           "xaxis": {
            "backgroundcolor": "#E5ECF6",
            "gridcolor": "white",
            "gridwidth": 2,
            "linecolor": "white",
            "showbackground": true,
            "ticks": "",
            "zerolinecolor": "white"
           },
           "yaxis": {
            "backgroundcolor": "#E5ECF6",
            "gridcolor": "white",
            "gridwidth": 2,
            "linecolor": "white",
            "showbackground": true,
            "ticks": "",
            "zerolinecolor": "white"
           },
           "zaxis": {
            "backgroundcolor": "#E5ECF6",
            "gridcolor": "white",
            "gridwidth": 2,
            "linecolor": "white",
            "showbackground": true,
            "ticks": "",
            "zerolinecolor": "white"
           }
          },
          "shapedefaults": {
           "line": {
            "color": "#2a3f5f"
           }
          },
          "ternary": {
           "aaxis": {
            "gridcolor": "white",
            "linecolor": "white",
            "ticks": ""
           },
           "baxis": {
            "gridcolor": "white",
            "linecolor": "white",
            "ticks": ""
           },
           "bgcolor": "#E5ECF6",
           "caxis": {
            "gridcolor": "white",
            "linecolor": "white",
            "ticks": ""
           }
          },
          "title": {
           "x": 0.05
          },
          "xaxis": {
           "automargin": true,
           "gridcolor": "white",
           "linecolor": "white",
           "ticks": "",
           "title": {
            "standoff": 15
           },
           "zerolinecolor": "white",
           "zerolinewidth": 2
          },
          "yaxis": {
           "automargin": true,
           "gridcolor": "white",
           "linecolor": "white",
           "ticks": "",
           "title": {
            "standoff": 15
           },
           "zerolinecolor": "white",
           "zerolinewidth": 2
          }
         }
        },
        "title": {
         "text": "Выручка по текущему и среднему тарифу",
         "x": 0.5
        }
       }
      },
      "text/html": [
       "<div>                            <div id=\"078970ae-627b-46fd-a18a-5c5ccbcda2a5\" class=\"plotly-graph-div\" style=\"height:525px; width:100%;\"></div>            <script type=\"text/javascript\">                require([\"plotly\"], function(Plotly) {                    window.PLOTLYENV=window.PLOTLYENV || {};                                    if (document.getElementById(\"078970ae-627b-46fd-a18a-5c5ccbcda2a5\")) {                    Plotly.newPlot(                        \"078970ae-627b-46fd-a18a-5c5ccbcda2a5\",                        [{\"hole\":0.3,\"labels\":[\"\\u0422\\u0435\\u043a\\u0443\\u0449\\u0438\\u0439 \\u0442\\u0430\\u0440\\u0438\\u0444\",\"\\u0421\\u0440\\u0435\\u0434\\u043d\\u0438\\u0439 \\u0442\\u0430\\u0440\\u0438\\u0444\"],\"marker\":{\"colors\":[\"#aab8c2\",\"#f4a261\"]},\"showlegend\":true,\"textinfo\":\"label+value\",\"values\":[9714198.0,7626219.550000001],\"type\":\"pie\"}],                        {\"template\":{\"data\":{\"bar\":[{\"error_x\":{\"color\":\"#2a3f5f\"},\"error_y\":{\"color\":\"#2a3f5f\"},\"marker\":{\"line\":{\"color\":\"#E5ECF6\",\"width\":0.5},\"pattern\":{\"fillmode\":\"overlay\",\"size\":10,\"solidity\":0.2}},\"type\":\"bar\"}],\"barpolar\":[{\"marker\":{\"line\":{\"color\":\"#E5ECF6\",\"width\":0.5},\"pattern\":{\"fillmode\":\"overlay\",\"size\":10,\"solidity\":0.2}},\"type\":\"barpolar\"}],\"carpet\":[{\"aaxis\":{\"endlinecolor\":\"#2a3f5f\",\"gridcolor\":\"white\",\"linecolor\":\"white\",\"minorgridcolor\":\"white\",\"startlinecolor\":\"#2a3f5f\"},\"baxis\":{\"endlinecolor\":\"#2a3f5f\",\"gridcolor\":\"white\",\"linecolor\":\"white\",\"minorgridcolor\":\"white\",\"startlinecolor\":\"#2a3f5f\"},\"type\":\"carpet\"}],\"choropleth\":[{\"colorbar\":{\"outlinewidth\":0,\"ticks\":\"\"},\"type\":\"choropleth\"}],\"contour\":[{\"colorbar\":{\"outlinewidth\":0,\"ticks\":\"\"},\"colorscale\":[[0.0,\"#0d0887\"],[0.1111111111111111,\"#46039f\"],[0.2222222222222222,\"#7201a8\"],[0.3333333333333333,\"#9c179e\"],[0.4444444444444444,\"#bd3786\"],[0.5555555555555556,\"#d8576b\"],[0.6666666666666666,\"#ed7953\"],[0.7777777777777778,\"#fb9f3a\"],[0.8888888888888888,\"#fdca26\"],[1.0,\"#f0f921\"]],\"type\":\"contour\"}],\"contourcarpet\":[{\"colorbar\":{\"outlinewidth\":0,\"ticks\":\"\"},\"type\":\"contourcarpet\"}],\"heatmap\":[{\"colorbar\":{\"outlinewidth\":0,\"ticks\":\"\"},\"colorscale\":[[0.0,\"#0d0887\"],[0.1111111111111111,\"#46039f\"],[0.2222222222222222,\"#7201a8\"],[0.3333333333333333,\"#9c179e\"],[0.4444444444444444,\"#bd3786\"],[0.5555555555555556,\"#d8576b\"],[0.6666666666666666,\"#ed7953\"],[0.7777777777777778,\"#fb9f3a\"],[0.8888888888888888,\"#fdca26\"],[1.0,\"#f0f921\"]],\"type\":\"heatmap\"}],\"heatmapgl\":[{\"colorbar\":{\"outlinewidth\":0,\"ticks\":\"\"},\"colorscale\":[[0.0,\"#0d0887\"],[0.1111111111111111,\"#46039f\"],[0.2222222222222222,\"#7201a8\"],[0.3333333333333333,\"#9c179e\"],[0.4444444444444444,\"#bd3786\"],[0.5555555555555556,\"#d8576b\"],[0.6666666666666666,\"#ed7953\"],[0.7777777777777778,\"#fb9f3a\"],[0.8888888888888888,\"#fdca26\"],[1.0,\"#f0f921\"]],\"type\":\"heatmapgl\"}],\"histogram\":[{\"marker\":{\"pattern\":{\"fillmode\":\"overlay\",\"size\":10,\"solidity\":0.2}},\"type\":\"histogram\"}],\"histogram2d\":[{\"colorbar\":{\"outlinewidth\":0,\"ticks\":\"\"},\"colorscale\":[[0.0,\"#0d0887\"],[0.1111111111111111,\"#46039f\"],[0.2222222222222222,\"#7201a8\"],[0.3333333333333333,\"#9c179e\"],[0.4444444444444444,\"#bd3786\"],[0.5555555555555556,\"#d8576b\"],[0.6666666666666666,\"#ed7953\"],[0.7777777777777778,\"#fb9f3a\"],[0.8888888888888888,\"#fdca26\"],[1.0,\"#f0f921\"]],\"type\":\"histogram2d\"}],\"histogram2dcontour\":[{\"colorbar\":{\"outlinewidth\":0,\"ticks\":\"\"},\"colorscale\":[[0.0,\"#0d0887\"],[0.1111111111111111,\"#46039f\"],[0.2222222222222222,\"#7201a8\"],[0.3333333333333333,\"#9c179e\"],[0.4444444444444444,\"#bd3786\"],[0.5555555555555556,\"#d8576b\"],[0.6666666666666666,\"#ed7953\"],[0.7777777777777778,\"#fb9f3a\"],[0.8888888888888888,\"#fdca26\"],[1.0,\"#f0f921\"]],\"type\":\"histogram2dcontour\"}],\"mesh3d\":[{\"colorbar\":{\"outlinewidth\":0,\"ticks\":\"\"},\"type\":\"mesh3d\"}],\"parcoords\":[{\"line\":{\"colorbar\":{\"outlinewidth\":0,\"ticks\":\"\"}},\"type\":\"parcoords\"}],\"pie\":[{\"automargin\":true,\"type\":\"pie\"}],\"scatter\":[{\"marker\":{\"colorbar\":{\"outlinewidth\":0,\"ticks\":\"\"}},\"type\":\"scatter\"}],\"scatter3d\":[{\"line\":{\"colorbar\":{\"outlinewidth\":0,\"ticks\":\"\"}},\"marker\":{\"colorbar\":{\"outlinewidth\":0,\"ticks\":\"\"}},\"type\":\"scatter3d\"}],\"scattercarpet\":[{\"marker\":{\"colorbar\":{\"outlinewidth\":0,\"ticks\":\"\"}},\"type\":\"scattercarpet\"}],\"scattergeo\":[{\"marker\":{\"colorbar\":{\"outlinewidth\":0,\"ticks\":\"\"}},\"type\":\"scattergeo\"}],\"scattergl\":[{\"marker\":{\"colorbar\":{\"outlinewidth\":0,\"ticks\":\"\"}},\"type\":\"scattergl\"}],\"scattermapbox\":[{\"marker\":{\"colorbar\":{\"outlinewidth\":0,\"ticks\":\"\"}},\"type\":\"scattermapbox\"}],\"scatterpolar\":[{\"marker\":{\"colorbar\":{\"outlinewidth\":0,\"ticks\":\"\"}},\"type\":\"scatterpolar\"}],\"scatterpolargl\":[{\"marker\":{\"colorbar\":{\"outlinewidth\":0,\"ticks\":\"\"}},\"type\":\"scatterpolargl\"}],\"scatterternary\":[{\"marker\":{\"colorbar\":{\"outlinewidth\":0,\"ticks\":\"\"}},\"type\":\"scatterternary\"}],\"surface\":[{\"colorbar\":{\"outlinewidth\":0,\"ticks\":\"\"},\"colorscale\":[[0.0,\"#0d0887\"],[0.1111111111111111,\"#46039f\"],[0.2222222222222222,\"#7201a8\"],[0.3333333333333333,\"#9c179e\"],[0.4444444444444444,\"#bd3786\"],[0.5555555555555556,\"#d8576b\"],[0.6666666666666666,\"#ed7953\"],[0.7777777777777778,\"#fb9f3a\"],[0.8888888888888888,\"#fdca26\"],[1.0,\"#f0f921\"]],\"type\":\"surface\"}],\"table\":[{\"cells\":{\"fill\":{\"color\":\"#EBF0F8\"},\"line\":{\"color\":\"white\"}},\"header\":{\"fill\":{\"color\":\"#C8D4E3\"},\"line\":{\"color\":\"white\"}},\"type\":\"table\"}]},\"layout\":{\"annotationdefaults\":{\"arrowcolor\":\"#2a3f5f\",\"arrowhead\":0,\"arrowwidth\":1},\"autotypenumbers\":\"strict\",\"coloraxis\":{\"colorbar\":{\"outlinewidth\":0,\"ticks\":\"\"}},\"colorscale\":{\"diverging\":[[0,\"#8e0152\"],[0.1,\"#c51b7d\"],[0.2,\"#de77ae\"],[0.3,\"#f1b6da\"],[0.4,\"#fde0ef\"],[0.5,\"#f7f7f7\"],[0.6,\"#e6f5d0\"],[0.7,\"#b8e186\"],[0.8,\"#7fbc41\"],[0.9,\"#4d9221\"],[1,\"#276419\"]],\"sequential\":[[0.0,\"#0d0887\"],[0.1111111111111111,\"#46039f\"],[0.2222222222222222,\"#7201a8\"],[0.3333333333333333,\"#9c179e\"],[0.4444444444444444,\"#bd3786\"],[0.5555555555555556,\"#d8576b\"],[0.6666666666666666,\"#ed7953\"],[0.7777777777777778,\"#fb9f3a\"],[0.8888888888888888,\"#fdca26\"],[1.0,\"#f0f921\"]],\"sequentialminus\":[[0.0,\"#0d0887\"],[0.1111111111111111,\"#46039f\"],[0.2222222222222222,\"#7201a8\"],[0.3333333333333333,\"#9c179e\"],[0.4444444444444444,\"#bd3786\"],[0.5555555555555556,\"#d8576b\"],[0.6666666666666666,\"#ed7953\"],[0.7777777777777778,\"#fb9f3a\"],[0.8888888888888888,\"#fdca26\"],[1.0,\"#f0f921\"]]},\"colorway\":[\"#636efa\",\"#EF553B\",\"#00cc96\",\"#ab63fa\",\"#FFA15A\",\"#19d3f3\",\"#FF6692\",\"#B6E880\",\"#FF97FF\",\"#FECB52\"],\"font\":{\"color\":\"#2a3f5f\"},\"geo\":{\"bgcolor\":\"white\",\"lakecolor\":\"white\",\"landcolor\":\"#E5ECF6\",\"showlakes\":true,\"showland\":true,\"subunitcolor\":\"white\"},\"hoverlabel\":{\"align\":\"left\"},\"hovermode\":\"closest\",\"mapbox\":{\"style\":\"light\"},\"paper_bgcolor\":\"white\",\"plot_bgcolor\":\"#E5ECF6\",\"polar\":{\"angularaxis\":{\"gridcolor\":\"white\",\"linecolor\":\"white\",\"ticks\":\"\"},\"bgcolor\":\"#E5ECF6\",\"radialaxis\":{\"gridcolor\":\"white\",\"linecolor\":\"white\",\"ticks\":\"\"}},\"scene\":{\"xaxis\":{\"backgroundcolor\":\"#E5ECF6\",\"gridcolor\":\"white\",\"gridwidth\":2,\"linecolor\":\"white\",\"showbackground\":true,\"ticks\":\"\",\"zerolinecolor\":\"white\"},\"yaxis\":{\"backgroundcolor\":\"#E5ECF6\",\"gridcolor\":\"white\",\"gridwidth\":2,\"linecolor\":\"white\",\"showbackground\":true,\"ticks\":\"\",\"zerolinecolor\":\"white\"},\"zaxis\":{\"backgroundcolor\":\"#E5ECF6\",\"gridcolor\":\"white\",\"gridwidth\":2,\"linecolor\":\"white\",\"showbackground\":true,\"ticks\":\"\",\"zerolinecolor\":\"white\"}},\"shapedefaults\":{\"line\":{\"color\":\"#2a3f5f\"}},\"ternary\":{\"aaxis\":{\"gridcolor\":\"white\",\"linecolor\":\"white\",\"ticks\":\"\"},\"baxis\":{\"gridcolor\":\"white\",\"linecolor\":\"white\",\"ticks\":\"\"},\"bgcolor\":\"#E5ECF6\",\"caxis\":{\"gridcolor\":\"white\",\"linecolor\":\"white\",\"ticks\":\"\"}},\"title\":{\"x\":0.05},\"xaxis\":{\"automargin\":true,\"gridcolor\":\"white\",\"linecolor\":\"white\",\"ticks\":\"\",\"title\":{\"standoff\":15},\"zerolinecolor\":\"white\",\"zerolinewidth\":2},\"yaxis\":{\"automargin\":true,\"gridcolor\":\"white\",\"linecolor\":\"white\",\"ticks\":\"\",\"title\":{\"standoff\":15},\"zerolinecolor\":\"white\",\"zerolinewidth\":2}}},\"title\":{\"text\":\"\\u0412\\u044b\\u0440\\u0443\\u0447\\u043a\\u0430 \\u043f\\u043e \\u0442\\u0435\\u043a\\u0443\\u0449\\u0435\\u043c\\u0443 \\u0438 \\u0441\\u0440\\u0435\\u0434\\u043d\\u0435\\u043c\\u0443 \\u0442\\u0430\\u0440\\u0438\\u0444\\u0443\",\"x\":0.5}},                        {\"responsive\": true}                    ).then(function(){\n",
       "                            \n",
       "var gd = document.getElementById('078970ae-627b-46fd-a18a-5c5ccbcda2a5');\n",
       "var x = new MutationObserver(function (mutations, observer) {{\n",
       "        var display = window.getComputedStyle(gd).display;\n",
       "        if (!display || display === 'none') {{\n",
       "            console.log([gd, 'removed!']);\n",
       "            Plotly.purge(gd);\n",
       "            observer.disconnect();\n",
       "        }}\n",
       "}});\n",
       "\n",
       "// Listen for the removal of the full notebook cells\n",
       "var notebookContainer = gd.closest('#notebook-container');\n",
       "if (notebookContainer) {{\n",
       "    x.observe(notebookContainer, {childList: true});\n",
       "}}\n",
       "\n",
       "// Listen for the clearing of the current output cell\n",
       "var outputEl = gd.closest('.output');\n",
       "if (outputEl) {{\n",
       "    x.observe(outputEl, {childList: true});\n",
       "}}\n",
       "\n",
       "                        })                };                });            </script>        </div>"
      ]
     },
     "metadata": {},
     "output_type": "display_data"
    }
   ],
   "source": [
    "# Данные для графика\n",
    "current_revenue = suboptimal_tariff_optim[\"current_price\"].sum()\n",
    "new_tariff_revenue = suboptimal_tariff_optim[\"new_optimal_tariff\"].sum()\n",
    "\n",
    "# Создание графика\n",
    "fig = go.Figure()\n",
    "\n",
    "# Добавление данных для круговой диаграммы\n",
    "fig.add_trace(go.Pie(\n",
    "    labels=['Текущий тариф', 'Средний тариф'],\n",
    "    values=[current_revenue, new_tariff_revenue],\n",
    "    hole=0.3,\n",
    "    marker=dict(colors=['#aab8c2', '#f4a261']),  # Цвета секторов\n",
    "    textinfo='label+value',\n",
    "    showlegend=True\n",
    "))\n",
    "\n",
    "# Настройка внешнего вида графика\n",
    "fig.update_layout(\n",
    "    title=\"Выручка по текущему и среднему тарифу\",\n",
    "    title_x=0.5\n",
    ")\n",
    "\n",
    "# Отображение графика\n",
    "fig.show()\n"
   ]
  },
  {
   "cell_type": "markdown",
   "metadata": {},
   "source": [
    "Как видим, данный тариф поможет сократить разницу в потере выручки с 76% до 27%, что сохранит выручку на оптимальном уровне, а также поможет удержать старых и привлечь новых клентов, благодаря выгодным условиям"
   ]
  },
  {
   "cell_type": "markdown",
   "metadata": {},
   "source": [
    "<b>Вывод по разделу:</b>\n",
    "\n",
    "- 62.8% клиентов пользуются не самым выгодным тарифом и переплачивают. Медианная переплата составляет 2250 рублей. Максимальное значение переплаты достигает 286 тысяч рублей\n",
    "- Выручка упадёт на 76%, если заменить все тарифные планы на самые выгодные\n",
    "- Клиенты с тарифом А приносят больше прибыли, чем клиенты с тарифами С и Б. Тариф В имеет самую низкую прибыль среди всех тарифов.\n",
    "- Вместо самого выгодного тарифа можно предложить клиентам средний тариф с бонусами, который сократит падение выручки с 76 до 20 процентов"
   ]
  },
  {
   "cell_type": "markdown",
   "metadata": {},
   "source": [
    "## Проверка статистических гипотез"
   ]
  },
  {
   "cell_type": "markdown",
   "metadata": {},
   "source": [
    "### Выручка после оптимизации"
   ]
  },
  {
   "cell_type": "markdown",
   "metadata": {},
   "source": [
    "H0: \"Нет доказательств того, что выручка компании уменьшится после оптимизации.\"\n",
    "\n",
    "H1: \"Выручка компании снизится после оптимизации.\"\n",
    "\n",
    "Для проверки гипотез используем общую выручку по каждому активному клиенту, так как они участвуют в оптимизации. Нормальность распределения проверим с помощью теста Шапиро-Уилка."
   ]
  },
  {
   "cell_type": "code",
   "execution_count": 414,
   "metadata": {},
   "outputs": [
    {
     "name": "stdout",
     "output_type": "stream",
     "text": [
      "p-значение:  3.921311570722749e-28\n",
      "Распределение в исходном датасете не нормально\n",
      "p-значение:  2.5116675295537024e-35\n",
      "Распределение в оптимизированном датасете не нормально\n"
     ]
    }
   ],
   "source": [
    "alpha = 0.05\n",
    "\n",
    "results = st.shapiro(suboptimal_tariff_optim['current_price'])\n",
    "p_value = results[1]\n",
    "\n",
    "print('p-значение: ', p_value)\n",
    "if p_value < alpha:\n",
    "    print('Распределение в исходном датасете не нормально')\n",
    "else:\n",
    "    print('Распределение в исходном датасете нормально')\n",
    "    \n",
    "results = st.shapiro(suboptimal_tariff_optim['price_D'])\n",
    "p_value = results[1]\n",
    "\n",
    "print('p-значение: ', p_value)\n",
    "if p_value < alpha:\n",
    "    print('Распределение в оптимизированном датасете не нормально')\n",
    "else:\n",
    "    print('Распределение в оптимизированном датасете нормально')   "
   ]
  },
  {
   "cell_type": "markdown",
   "metadata": {},
   "source": [
    "Так как наши выборки зависимы (т.е. каждая пара значений относится к одному и тому же клиенту), то нам следует использовать тест Уилкоксона)."
   ]
  },
  {
   "cell_type": "code",
   "execution_count": 415,
   "metadata": {},
   "outputs": [
    {
     "name": "stdout",
     "output_type": "stream",
     "text": [
      "p-значение: 0.9058060982472074\n",
      "Не удалось отвергнуть нулевую гипотезу: нет статистически значимых изменений в выручке\n"
     ]
    }
   ],
   "source": [
    "# Применяем тест Уилкоксона\n",
    "results = st.wilcoxon(suboptimal_tariff_optim['current_price'], suboptimal_tariff_optim['price_D'], alternative='less')\n",
    "\n",
    "print('p-значение:', results.pvalue)\n",
    "\n",
    "if results.pvalue < alpha:\n",
    "    print('Отвергаем нулевую гипотезу: выручка статистически значимо снизилась после оптимизации')\n",
    "else:\n",
    "    print('Не удалось отвергнуть нулевую гипотезу: нет статистически значимых изменений в выручке')"
   ]
  },
  {
   "cell_type": "markdown",
   "metadata": {},
   "source": [
    "###  Цена услуг на тарифных планах A и B в ноябре"
   ]
  },
  {
   "cell_type": "markdown",
   "metadata": {},
   "source": [
    "Нулевая гипотеза (H0):\n",
    "\n",
    "- \"Цены услуг на тарифных планах A и B в ноябре различаются.\"\n",
    "\n",
    "Альтернативная гипотеза (H1):\n",
    "\n",
    "- \"Цены услуг на тарифных планах A и B в ноябре равны\""
   ]
  },
  {
   "cell_type": "code",
   "execution_count": 416,
   "metadata": {},
   "outputs": [
    {
     "name": "stdout",
     "output_type": "stream",
     "text": [
      "p-значение:  2.530879061879432e-09\n",
      "Распределение в исходном датасете не нормально\n",
      "p-значение:  3.238904573688549e-14\n",
      "Распределение в оптимизированном датасете не нормально\n"
     ]
    }
   ],
   "source": [
    "telecom_tariff_nov = telecom_tariff.query('month == 11')\n",
    "plan_A_prices = telecom_tariff_nov[telecom_tariff_nov['tariff_plan'] == 'A']['current_price']\n",
    "plan_B_prices = telecom_tariff_nov[telecom_tariff_nov['tariff_plan'] == 'B']['current_price']\n",
    "\n",
    "results = st.shapiro(plan_A_prices)\n",
    "p_value = results[1]\n",
    "\n",
    "print('p-значение: ', p_value)\n",
    "if p_value < alpha:\n",
    "    print('Распределение в исходном датасете не нормально')\n",
    "else:\n",
    "    print('Распределение в исходном датасете нормально')\n",
    "    \n",
    "results = st.shapiro(plan_B_prices)\n",
    "p_value = results[1]\n",
    "\n",
    "print('p-значение: ', p_value)\n",
    "if p_value < alpha:\n",
    "    print('Распределение в оптимизированном датасете не нормально')\n",
    "else:\n",
    "    print('Распределение в оптимизированном датасете нормально') "
   ]
  },
  {
   "cell_type": "markdown",
   "metadata": {},
   "source": [
    "Т.к распределение не нормально и выборки независимы, будем использовать тест Манна-Уитни для сравнения двух независимых выборок."
   ]
  },
  {
   "cell_type": "code",
   "execution_count": 417,
   "metadata": {},
   "outputs": [
    {
     "name": "stdout",
     "output_type": "stream",
     "text": [
      "p-значение: 0.00654662680988348\n",
      "Отвергаем нулевую гипотезу: средние цены на тарифные планы A и B различаются\n"
     ]
    }
   ],
   "source": [
    "# Применяем тест Манна-Уитни\n",
    "results = st.mannwhitneyu(plan_A_prices, plan_B_prices)\n",
    "\n",
    "print('p-значение:', results.pvalue)\n",
    "\n",
    "if results.pvalue < alpha:\n",
    "    print('Отвергаем нулевую гипотезу: средние цены на тарифные планы A и B различаются')\n",
    "else:\n",
    "    print('Не удалось отвергнуть нулевую гипотезу: нет статистически значимых различий в средних ценах между тарифными планами A и B')"
   ]
  },
  {
   "cell_type": "markdown",
   "metadata": {},
   "source": [
    "Тест подтверждает гипотезу о том, что цены услуг на тарифных планах A и B различаются."
   ]
  },
  {
   "cell_type": "markdown",
   "metadata": {},
   "source": [
    "<b>Вывод по разделу:</b> В результате проведения тестов статистической значимости можно сказать, что обе гипотезы подтвердились: 1) Нет доказательств того, что выручка компании уменьшится после оптимизации 2) Цены услуг на тарифных планах A и B различаются"
   ]
  },
  {
   "cell_type": "markdown",
   "metadata": {},
   "source": [
    "## Общий вывод"
   ]
  },
  {
   "cell_type": "markdown",
   "metadata": {},
   "source": [
    "- Активный период определен с сентября по ноябрь; данные за август исключены, так как они составляют менее 4% от общего объема.\n",
    "- Наибольшее количество пользователей выбрали тариф C (54%), второе место занимает тариф B (35.7%), а тариф A является наименее популярным (10.4%).\n",
    "- Длительность исходящих звонков в день обычно колеблется от 306 до 3778 мпнут, при этом 1% клиентов имеют длительность вызовов, превышающую 166193 минуты в день.\n",
    "- Среднее количество исходящих звонков в месяц составляет 16. Графики показывают снижение этой цифры, особенно заметное в ноябре.\n",
    "- Активными считаются клиенты, совершившие более 16 звонков в ноябре. Общее число таких активных пользователей: 197.\n",
    "- 62.79% клиентов используют тарифы, которые не являются самыми выгодными, что приводит к переплатам. Медианная переплата составляет 2250 рублей, а максимальная — 286к рублей.\n",
    "- Если перейти на самые выгодные тарифные планы, выручка упадет на 76%.\n",
    "- Клиенты, использующие тариф B, генерируют больше прибыли, чем пользователи тарифов C и A. Тариф A, несмотря на свою высокую стоимость, приносит наименьшую прибыль.\n",
    "- Вместо наиболее выгодного тарифа можно предложить клиентам тариф среднего уровня с бонусами, что позволит уменьшить падение выручки с 76% до 20%."
   ]
  },
  {
   "cell_type": "markdown",
   "metadata": {},
   "source": [
    "Рекомендации:\n",
    "\n",
    "1. **Оптимизация тарифных планов:**\n",
    "   - **Введение промежуточного(среднего) тарифа:** Рекомендуется ввести тариф среднего уровня с бонусами вместо самого выгодного тарифа. Это позволит сохранить старых клиентов и привлечь новых, а также уменьшит падение выручки с 76% до 20%. \n",
    "\n",
    "2. **Повышение прозрачности и выгодности тарифов:**\n",
    "   - **Информирование клиентов:** Необходимо активно информировать клиентов о выгодных тарифах и возможных переплатах. Это поможет клиентам сделать более осознанный выбор и, возможно, перейдут на более экономичные планы.\n",
    "\n",
    "3. **Улучшение предложения для активных клиентов:**\n",
    "   - **Поощрение активных клиентов:** Учитывая, что активные пользователи, совершающие более 16 звонков в месяц, составляют 197 человек, стоит рассмотреть специальные предложения или бонусы для этой группы клиентов, чтобы повысить их лояльность и сократить отток.\n",
    "\n",
    "4. **Анализ и контроль расходов:**\n",
    "   - **Регулярный мониторинг:** Важно регулярно анализировать расходы клиентов по каждому тарифному плану и корректировать тарифы на основе текущих данных, чтобы минимизировать переплаты и поддерживать баланс между стоимостью и выручкой."
   ]
  },
  {
   "cell_type": "markdown",
   "metadata": {},
   "source": [
    "## Презентация"
   ]
  },
  {
   "cell_type": "markdown",
   "metadata": {},
   "source": [
    "Ссылка: https://docs.google.com/presentation/d/1FxjD7kd6UdBnF7xLRm_rlH2el4xTx54EXZQ_0YlAcYU/edit?usp=drive_link"
   ]
  }
 ],
 "metadata": {
  "ExecuteTimeLog": [
   {
    "duration": 48,
    "start_time": "2024-07-15T20:06:14.176Z"
   },
   {
    "duration": 1249,
    "start_time": "2024-07-15T20:06:23.625Z"
   },
   {
    "duration": 303,
    "start_time": "2024-07-15T20:06:27.191Z"
   },
   {
    "duration": 149,
    "start_time": "2024-07-15T20:07:42.612Z"
   },
   {
    "duration": 17,
    "start_time": "2024-07-15T20:07:51.941Z"
   },
   {
    "duration": 20,
    "start_time": "2024-07-15T20:08:51.418Z"
   },
   {
    "duration": 25,
    "start_time": "2024-07-15T20:08:56.403Z"
   },
   {
    "duration": 18,
    "start_time": "2024-07-15T20:09:01.302Z"
   },
   {
    "duration": 8,
    "start_time": "2024-07-15T20:10:08.312Z"
   },
   {
    "duration": 10,
    "start_time": "2024-07-15T20:10:08.903Z"
   },
   {
    "duration": 32,
    "start_time": "2024-07-15T20:13:23.342Z"
   },
   {
    "duration": 22,
    "start_time": "2024-07-15T20:27:23.508Z"
   },
   {
    "duration": 16,
    "start_time": "2024-07-15T20:27:37.511Z"
   },
   {
    "duration": 62,
    "start_time": "2024-07-15T20:28:13.064Z"
   },
   {
    "duration": 6,
    "start_time": "2024-07-15T20:28:19.231Z"
   },
   {
    "duration": 11,
    "start_time": "2024-07-15T20:28:20.631Z"
   },
   {
    "duration": 8,
    "start_time": "2024-07-15T20:28:31.060Z"
   },
   {
    "duration": 23,
    "start_time": "2024-07-15T20:45:36.744Z"
   },
   {
    "duration": 22,
    "start_time": "2024-07-15T20:46:24.436Z"
   },
   {
    "duration": 22,
    "start_time": "2024-07-15T20:46:28.185Z"
   },
   {
    "duration": 8,
    "start_time": "2024-07-15T20:48:53.524Z"
   },
   {
    "duration": 7,
    "start_time": "2024-07-15T20:49:03.325Z"
   },
   {
    "duration": 1165,
    "start_time": "2024-07-15T20:49:24.782Z"
   },
   {
    "duration": 106,
    "start_time": "2024-07-15T20:49:25.949Z"
   },
   {
    "duration": 17,
    "start_time": "2024-07-15T20:49:26.057Z"
   },
   {
    "duration": 19,
    "start_time": "2024-07-15T20:49:26.076Z"
   },
   {
    "duration": 7,
    "start_time": "2024-07-15T20:49:26.096Z"
   },
   {
    "duration": 10,
    "start_time": "2024-07-15T20:49:26.104Z"
   },
   {
    "duration": 23,
    "start_time": "2024-07-15T20:49:26.115Z"
   },
   {
    "duration": 46,
    "start_time": "2024-07-15T20:49:26.140Z"
   },
   {
    "duration": 7,
    "start_time": "2024-07-15T20:49:26.187Z"
   },
   {
    "duration": 14,
    "start_time": "2024-07-15T20:49:26.196Z"
   },
   {
    "duration": 6,
    "start_time": "2024-07-15T20:49:26.212Z"
   },
   {
    "duration": 10,
    "start_time": "2024-07-15T20:49:26.220Z"
   },
   {
    "duration": 43,
    "start_time": "2024-07-15T20:49:26.231Z"
   },
   {
    "duration": 16,
    "start_time": "2024-07-15T20:49:26.277Z"
   },
   {
    "duration": 3,
    "start_time": "2024-07-15T20:49:37.715Z"
   },
   {
    "duration": 110,
    "start_time": "2024-07-15T20:49:38.097Z"
   },
   {
    "duration": 12,
    "start_time": "2024-07-15T20:49:38.795Z"
   },
   {
    "duration": 19,
    "start_time": "2024-07-15T20:49:39.728Z"
   },
   {
    "duration": 9,
    "start_time": "2024-07-15T20:49:40.712Z"
   },
   {
    "duration": 11,
    "start_time": "2024-07-15T20:49:41.696Z"
   },
   {
    "duration": 25,
    "start_time": "2024-07-15T20:49:46.922Z"
   },
   {
    "duration": 23,
    "start_time": "2024-07-15T20:49:47.915Z"
   },
   {
    "duration": 7,
    "start_time": "2024-07-15T20:49:49.098Z"
   },
   {
    "duration": 10,
    "start_time": "2024-07-15T20:50:08.226Z"
   },
   {
    "duration": 7,
    "start_time": "2024-07-15T20:51:25.432Z"
   },
   {
    "duration": 13,
    "start_time": "2024-07-15T20:53:15.822Z"
   },
   {
    "duration": 11,
    "start_time": "2024-07-15T20:53:20.925Z"
   },
   {
    "duration": 37,
    "start_time": "2024-07-15T20:56:07.731Z"
   },
   {
    "duration": 16,
    "start_time": "2024-07-15T20:56:18.801Z"
   },
   {
    "duration": 27,
    "start_time": "2024-07-15T20:56:31.880Z"
   },
   {
    "duration": 16,
    "start_time": "2024-07-15T20:56:32.814Z"
   },
   {
    "duration": 34,
    "start_time": "2024-07-15T20:56:53.804Z"
   },
   {
    "duration": 15,
    "start_time": "2024-07-15T20:56:54.154Z"
   },
   {
    "duration": 28,
    "start_time": "2024-07-15T20:57:18.084Z"
   },
   {
    "duration": 35,
    "start_time": "2024-07-15T20:58:00.709Z"
   },
   {
    "duration": 27,
    "start_time": "2024-07-15T20:58:11.182Z"
   },
   {
    "duration": 121,
    "start_time": "2024-07-15T20:59:35.401Z"
   },
   {
    "duration": 35,
    "start_time": "2024-07-15T20:59:52.120Z"
   },
   {
    "duration": 15,
    "start_time": "2024-07-15T20:59:54.167Z"
   },
   {
    "duration": 16,
    "start_time": "2024-07-15T21:00:00.570Z"
   },
   {
    "duration": 1147,
    "start_time": "2024-07-15T21:00:24.997Z"
   },
   {
    "duration": 103,
    "start_time": "2024-07-15T21:00:26.146Z"
   },
   {
    "duration": 16,
    "start_time": "2024-07-15T21:00:26.250Z"
   },
   {
    "duration": 19,
    "start_time": "2024-07-15T21:00:26.268Z"
   },
   {
    "duration": 8,
    "start_time": "2024-07-15T21:00:26.288Z"
   },
   {
    "duration": 10,
    "start_time": "2024-07-15T21:00:26.297Z"
   },
   {
    "duration": 23,
    "start_time": "2024-07-15T21:00:26.308Z"
   },
   {
    "duration": 51,
    "start_time": "2024-07-15T21:00:26.333Z"
   },
   {
    "duration": 6,
    "start_time": "2024-07-15T21:00:26.386Z"
   },
   {
    "duration": 13,
    "start_time": "2024-07-15T21:00:26.395Z"
   },
   {
    "duration": 10,
    "start_time": "2024-07-15T21:00:26.409Z"
   },
   {
    "duration": 23,
    "start_time": "2024-07-15T21:00:26.420Z"
   },
   {
    "duration": 22,
    "start_time": "2024-07-15T21:00:26.444Z"
   },
   {
    "duration": 48,
    "start_time": "2024-07-15T21:00:26.468Z"
   },
   {
    "duration": 15,
    "start_time": "2024-07-15T21:00:26.518Z"
   },
   {
    "duration": 37,
    "start_time": "2024-07-15T21:00:26.535Z"
   },
   {
    "duration": 3,
    "start_time": "2024-07-15T21:00:31.268Z"
   },
   {
    "duration": 102,
    "start_time": "2024-07-15T21:00:31.990Z"
   },
   {
    "duration": 11,
    "start_time": "2024-07-15T21:00:32.812Z"
   },
   {
    "duration": 18,
    "start_time": "2024-07-15T21:00:34.001Z"
   },
   {
    "duration": 7,
    "start_time": "2024-07-15T21:00:37.691Z"
   },
   {
    "duration": 10,
    "start_time": "2024-07-15T21:00:38.532Z"
   },
   {
    "duration": 21,
    "start_time": "2024-07-15T21:00:41.517Z"
   },
   {
    "duration": 34,
    "start_time": "2024-07-15T21:00:42.393Z"
   },
   {
    "duration": 7,
    "start_time": "2024-07-15T21:00:43.170Z"
   },
   {
    "duration": 21,
    "start_time": "2024-07-15T21:00:46.855Z"
   },
   {
    "duration": 9,
    "start_time": "2024-07-15T21:00:48.426Z"
   },
   {
    "duration": 6,
    "start_time": "2024-07-15T21:00:49.741Z"
   },
   {
    "duration": 6,
    "start_time": "2024-07-15T21:00:51.859Z"
   },
   {
    "duration": 44,
    "start_time": "2024-07-15T21:00:54.178Z"
   },
   {
    "duration": 52,
    "start_time": "2024-07-15T21:12:23.444Z"
   },
   {
    "duration": 13,
    "start_time": "2024-07-15T21:12:41.573Z"
   },
   {
    "duration": 49,
    "start_time": "2024-07-16T12:52:58.594Z"
   },
   {
    "duration": 1257,
    "start_time": "2024-07-16T12:53:06.278Z"
   },
   {
    "duration": 350,
    "start_time": "2024-07-16T12:53:07.537Z"
   },
   {
    "duration": 15,
    "start_time": "2024-07-16T12:53:07.888Z"
   },
   {
    "duration": 19,
    "start_time": "2024-07-16T12:53:07.905Z"
   },
   {
    "duration": 29,
    "start_time": "2024-07-16T12:53:07.925Z"
   },
   {
    "duration": 7,
    "start_time": "2024-07-16T12:53:07.956Z"
   },
   {
    "duration": 17,
    "start_time": "2024-07-16T12:53:07.964Z"
   },
   {
    "duration": 13,
    "start_time": "2024-07-16T12:53:07.983Z"
   },
   {
    "duration": 64,
    "start_time": "2024-07-16T12:53:07.997Z"
   },
   {
    "duration": 22,
    "start_time": "2024-07-16T12:53:08.063Z"
   },
   {
    "duration": 6,
    "start_time": "2024-07-16T12:53:08.086Z"
   },
   {
    "duration": 19,
    "start_time": "2024-07-16T12:53:08.094Z"
   },
   {
    "duration": 8,
    "start_time": "2024-07-16T12:53:08.115Z"
   },
   {
    "duration": 5,
    "start_time": "2024-07-16T12:53:08.125Z"
   },
   {
    "duration": 6,
    "start_time": "2024-07-16T12:53:08.155Z"
   },
   {
    "duration": 34,
    "start_time": "2024-07-16T12:53:08.162Z"
   },
   {
    "duration": 14,
    "start_time": "2024-07-16T12:53:08.198Z"
   },
   {
    "duration": 46,
    "start_time": "2024-07-16T12:53:08.214Z"
   },
   {
    "duration": 7,
    "start_time": "2024-07-16T12:53:08.261Z"
   },
   {
    "duration": 60,
    "start_time": "2024-07-16T12:54:38.173Z"
   },
   {
    "duration": 57,
    "start_time": "2024-07-16T12:54:45.614Z"
   },
   {
    "duration": 6,
    "start_time": "2024-07-16T12:55:02.844Z"
   },
   {
    "duration": 10,
    "start_time": "2024-07-16T12:55:18.451Z"
   },
   {
    "duration": 101,
    "start_time": "2024-07-16T13:09:49.055Z"
   },
   {
    "duration": 19,
    "start_time": "2024-07-16T13:10:18.765Z"
   },
   {
    "duration": 61,
    "start_time": "2024-07-16T13:11:11.151Z"
   },
   {
    "duration": 12,
    "start_time": "2024-07-16T13:14:20.802Z"
   },
   {
    "duration": 12,
    "start_time": "2024-07-16T13:14:44.890Z"
   },
   {
    "duration": 11,
    "start_time": "2024-07-16T13:15:18.334Z"
   },
   {
    "duration": 8,
    "start_time": "2024-07-16T13:15:34.606Z"
   },
   {
    "duration": 2,
    "start_time": "2024-07-16T13:15:44.424Z"
   },
   {
    "duration": 104,
    "start_time": "2024-07-16T13:15:45.025Z"
   },
   {
    "duration": 12,
    "start_time": "2024-07-16T13:15:45.555Z"
   },
   {
    "duration": 18,
    "start_time": "2024-07-16T13:15:46.090Z"
   },
   {
    "duration": 31,
    "start_time": "2024-07-16T13:15:46.975Z"
   },
   {
    "duration": 7,
    "start_time": "2024-07-16T13:15:48.157Z"
   },
   {
    "duration": 11,
    "start_time": "2024-07-16T13:15:48.824Z"
   },
   {
    "duration": 11,
    "start_time": "2024-07-16T13:15:49.157Z"
   },
   {
    "duration": 22,
    "start_time": "2024-07-16T13:15:50.212Z"
   },
   {
    "duration": 20,
    "start_time": "2024-07-16T13:15:50.386Z"
   },
   {
    "duration": 6,
    "start_time": "2024-07-16T13:15:50.567Z"
   },
   {
    "duration": 13,
    "start_time": "2024-07-16T13:15:50.784Z"
   },
   {
    "duration": 9,
    "start_time": "2024-07-16T13:15:51.025Z"
   },
   {
    "duration": 6,
    "start_time": "2024-07-16T13:15:51.212Z"
   },
   {
    "duration": 5,
    "start_time": "2024-07-16T13:15:51.386Z"
   },
   {
    "duration": 33,
    "start_time": "2024-07-16T13:15:51.737Z"
   },
   {
    "duration": 16,
    "start_time": "2024-07-16T13:15:51.965Z"
   },
   {
    "duration": 16,
    "start_time": "2024-07-16T13:15:52.332Z"
   },
   {
    "duration": 9,
    "start_time": "2024-07-16T13:15:54.550Z"
   },
   {
    "duration": 11,
    "start_time": "2024-07-16T13:15:58.172Z"
   },
   {
    "duration": 16,
    "start_time": "2024-07-16T13:16:27.486Z"
   },
   {
    "duration": 16,
    "start_time": "2024-07-16T13:16:30.556Z"
   },
   {
    "duration": 5,
    "start_time": "2024-07-16T13:16:39.915Z"
   },
   {
    "duration": 8,
    "start_time": "2024-07-16T13:16:41.619Z"
   },
   {
    "duration": 37,
    "start_time": "2024-07-16T13:17:00.788Z"
   },
   {
    "duration": 16,
    "start_time": "2024-07-16T13:17:01.607Z"
   },
   {
    "duration": 16,
    "start_time": "2024-07-16T13:17:02.597Z"
   },
   {
    "duration": 10,
    "start_time": "2024-07-16T13:17:05.505Z"
   },
   {
    "duration": 10,
    "start_time": "2024-07-16T13:17:06.859Z"
   },
   {
    "duration": 18,
    "start_time": "2024-07-16T13:18:12.177Z"
   },
   {
    "duration": 14,
    "start_time": "2024-07-16T13:18:12.905Z"
   },
   {
    "duration": 17,
    "start_time": "2024-07-16T13:18:13.394Z"
   },
   {
    "duration": 4,
    "start_time": "2024-07-16T13:18:15.645Z"
   },
   {
    "duration": 7,
    "start_time": "2024-07-16T13:18:17.967Z"
   },
   {
    "duration": 174,
    "start_time": "2024-07-16T13:18:43.156Z"
   },
   {
    "duration": 19,
    "start_time": "2024-07-16T13:22:19.448Z"
   },
   {
    "duration": 102,
    "start_time": "2024-07-16T13:22:47.476Z"
   },
   {
    "duration": 39,
    "start_time": "2024-07-16T13:22:55.957Z"
   },
   {
    "duration": 24,
    "start_time": "2024-07-16T13:23:16.621Z"
   },
   {
    "duration": 145,
    "start_time": "2024-07-16T13:23:33.405Z"
   },
   {
    "duration": 5,
    "start_time": "2024-07-16T13:23:47.785Z"
   },
   {
    "duration": 12,
    "start_time": "2024-07-16T13:24:02.090Z"
   },
   {
    "duration": 131,
    "start_time": "2024-07-16T13:24:12.996Z"
   },
   {
    "duration": 140,
    "start_time": "2024-07-16T13:24:25.387Z"
   },
   {
    "duration": 130,
    "start_time": "2024-07-16T13:25:03.734Z"
   },
   {
    "duration": 133,
    "start_time": "2024-07-16T13:25:22.307Z"
   },
   {
    "duration": 203,
    "start_time": "2024-07-16T13:25:31.929Z"
   },
   {
    "duration": 1019,
    "start_time": "2024-07-16T13:28:50.503Z"
   },
   {
    "duration": 391,
    "start_time": "2024-07-16T13:29:47.134Z"
   },
   {
    "duration": 68,
    "start_time": "2024-07-16T13:30:42.350Z"
   },
   {
    "duration": 58,
    "start_time": "2024-07-16T13:31:01.504Z"
   },
   {
    "duration": 58,
    "start_time": "2024-07-16T13:31:27.309Z"
   },
   {
    "duration": 11,
    "start_time": "2024-07-16T13:34:04.790Z"
   },
   {
    "duration": 23,
    "start_time": "2024-07-16T13:34:17.146Z"
   },
   {
    "duration": 16,
    "start_time": "2024-07-16T13:34:34.620Z"
   },
   {
    "duration": 23,
    "start_time": "2024-07-16T13:34:44.022Z"
   },
   {
    "duration": 10,
    "start_time": "2024-07-16T13:36:10.735Z"
   },
   {
    "duration": 10,
    "start_time": "2024-07-16T13:36:20.389Z"
   },
   {
    "duration": 26,
    "start_time": "2024-07-16T13:36:26.948Z"
   },
   {
    "duration": 10,
    "start_time": "2024-07-16T13:36:43.978Z"
   },
   {
    "duration": 79,
    "start_time": "2024-07-16T13:48:43.371Z"
   },
   {
    "duration": 15,
    "start_time": "2024-07-16T13:55:35.760Z"
   },
   {
    "duration": 14,
    "start_time": "2024-07-16T13:57:14.892Z"
   },
   {
    "duration": 554,
    "start_time": "2024-07-16T13:58:29.344Z"
   },
   {
    "duration": 573,
    "start_time": "2024-07-16T13:58:39.055Z"
   },
   {
    "duration": 560,
    "start_time": "2024-07-16T13:58:51.825Z"
   },
   {
    "duration": 17,
    "start_time": "2024-07-16T14:03:26.956Z"
   },
   {
    "duration": 19,
    "start_time": "2024-07-16T14:03:40.973Z"
   },
   {
    "duration": 16,
    "start_time": "2024-07-16T14:04:17.887Z"
   },
   {
    "duration": 18,
    "start_time": "2024-07-16T14:04:36.201Z"
   },
   {
    "duration": 13,
    "start_time": "2024-07-16T14:05:08.857Z"
   },
   {
    "duration": 12,
    "start_time": "2024-07-16T14:05:17.813Z"
   },
   {
    "duration": 13,
    "start_time": "2024-07-16T14:05:22.605Z"
   },
   {
    "duration": 13,
    "start_time": "2024-07-16T14:05:26.488Z"
   },
   {
    "duration": 14,
    "start_time": "2024-07-16T14:05:29.904Z"
   },
   {
    "duration": 12,
    "start_time": "2024-07-16T14:05:49.493Z"
   },
   {
    "duration": 12,
    "start_time": "2024-07-16T14:07:11.934Z"
   },
   {
    "duration": 9,
    "start_time": "2024-07-16T14:08:59.352Z"
   },
   {
    "duration": 12,
    "start_time": "2024-07-16T14:11:05.418Z"
   },
   {
    "duration": 12,
    "start_time": "2024-07-16T14:11:13.999Z"
   },
   {
    "duration": 16,
    "start_time": "2024-07-16T14:11:32.902Z"
   },
   {
    "duration": 15,
    "start_time": "2024-07-16T14:11:36.744Z"
   },
   {
    "duration": 16,
    "start_time": "2024-07-16T14:11:46.105Z"
   },
   {
    "duration": 11,
    "start_time": "2024-07-16T14:11:55.193Z"
   },
   {
    "duration": 9,
    "start_time": "2024-07-16T14:12:00.856Z"
   },
   {
    "duration": 98,
    "start_time": "2024-07-16T14:15:53.965Z"
   },
   {
    "duration": 1309,
    "start_time": "2024-07-16T16:08:47.699Z"
   },
   {
    "duration": 318,
    "start_time": "2024-07-16T16:08:49.010Z"
   },
   {
    "duration": 14,
    "start_time": "2024-07-16T16:08:49.329Z"
   },
   {
    "duration": 15,
    "start_time": "2024-07-16T16:08:49.344Z"
   },
   {
    "duration": 25,
    "start_time": "2024-07-16T16:08:49.360Z"
   },
   {
    "duration": 5,
    "start_time": "2024-07-16T16:08:49.387Z"
   },
   {
    "duration": 19,
    "start_time": "2024-07-16T16:08:49.393Z"
   },
   {
    "duration": 8,
    "start_time": "2024-07-16T16:08:49.413Z"
   },
   {
    "duration": 25,
    "start_time": "2024-07-16T16:08:49.422Z"
   },
   {
    "duration": 20,
    "start_time": "2024-07-16T16:08:49.449Z"
   },
   {
    "duration": 6,
    "start_time": "2024-07-16T16:08:49.470Z"
   },
   {
    "duration": 14,
    "start_time": "2024-07-16T16:08:49.477Z"
   },
   {
    "duration": 11,
    "start_time": "2024-07-16T16:08:49.513Z"
   },
   {
    "duration": 6,
    "start_time": "2024-07-16T16:08:49.525Z"
   },
   {
    "duration": 5,
    "start_time": "2024-07-16T16:08:49.533Z"
   },
   {
    "duration": 30,
    "start_time": "2024-07-16T16:08:49.540Z"
   },
   {
    "duration": 15,
    "start_time": "2024-07-16T16:08:49.572Z"
   },
   {
    "duration": 41,
    "start_time": "2024-07-16T16:08:49.589Z"
   },
   {
    "duration": 64,
    "start_time": "2024-07-16T16:08:49.632Z"
   },
   {
    "duration": 348,
    "start_time": "2024-07-16T16:08:49.697Z"
   },
   {
    "duration": 8,
    "start_time": "2024-07-16T16:08:50.046Z"
   },
   {
    "duration": 12,
    "start_time": "2024-07-16T16:08:50.055Z"
   },
   {
    "duration": 10,
    "start_time": "2024-07-16T16:08:50.068Z"
   },
   {
    "duration": 176,
    "start_time": "2024-07-16T16:08:50.079Z"
   },
   {
    "duration": 49,
    "start_time": "2024-07-16T16:54:50.884Z"
   },
   {
    "duration": 50,
    "start_time": "2024-07-16T16:54:55.471Z"
   },
   {
    "duration": 2,
    "start_time": "2024-07-16T16:55:40.183Z"
   },
   {
    "duration": 96,
    "start_time": "2024-07-16T16:55:40.341Z"
   },
   {
    "duration": 10,
    "start_time": "2024-07-16T16:55:40.515Z"
   },
   {
    "duration": 15,
    "start_time": "2024-07-16T16:55:40.783Z"
   },
   {
    "duration": 27,
    "start_time": "2024-07-16T16:55:41.002Z"
   },
   {
    "duration": 6,
    "start_time": "2024-07-16T16:55:41.295Z"
   },
   {
    "duration": 9,
    "start_time": "2024-07-16T16:55:41.474Z"
   },
   {
    "duration": 10,
    "start_time": "2024-07-16T16:55:41.715Z"
   },
   {
    "duration": 18,
    "start_time": "2024-07-16T16:55:42.542Z"
   },
   {
    "duration": 18,
    "start_time": "2024-07-16T16:55:42.782Z"
   },
   {
    "duration": 7,
    "start_time": "2024-07-16T16:55:43.014Z"
   },
   {
    "duration": 10,
    "start_time": "2024-07-16T16:55:43.245Z"
   },
   {
    "duration": 8,
    "start_time": "2024-07-16T16:55:43.423Z"
   },
   {
    "duration": 4,
    "start_time": "2024-07-16T16:55:43.642Z"
   },
   {
    "duration": 5,
    "start_time": "2024-07-16T16:55:43.883Z"
   },
   {
    "duration": 16,
    "start_time": "2024-07-16T16:55:44.222Z"
   },
   {
    "duration": 11,
    "start_time": "2024-07-16T16:55:44.414Z"
   },
   {
    "duration": 13,
    "start_time": "2024-07-16T16:55:44.582Z"
   },
   {
    "duration": 4,
    "start_time": "2024-07-16T16:55:45.603Z"
   },
   {
    "duration": 96,
    "start_time": "2024-07-16T16:55:46.302Z"
   },
   {
    "duration": 7,
    "start_time": "2024-07-16T16:55:55.014Z"
   },
   {
    "duration": 11,
    "start_time": "2024-07-16T16:55:56.624Z"
   },
   {
    "duration": 10,
    "start_time": "2024-07-16T16:55:57.022Z"
   },
   {
    "duration": 87,
    "start_time": "2024-07-16T16:55:58.104Z"
   },
   {
    "duration": 5,
    "start_time": "2024-07-16T17:01:23.716Z"
   },
   {
    "duration": 50,
    "start_time": "2024-07-16T17:01:25.128Z"
   },
   {
    "duration": 2,
    "start_time": "2024-07-16T17:01:31.293Z"
   },
   {
    "duration": 90,
    "start_time": "2024-07-16T17:01:31.445Z"
   },
   {
    "duration": 8,
    "start_time": "2024-07-16T17:01:31.616Z"
   },
   {
    "duration": 14,
    "start_time": "2024-07-16T17:01:31.794Z"
   },
   {
    "duration": 24,
    "start_time": "2024-07-16T17:01:31.963Z"
   },
   {
    "duration": 6,
    "start_time": "2024-07-16T17:01:32.125Z"
   },
   {
    "duration": 9,
    "start_time": "2024-07-16T17:01:32.365Z"
   },
   {
    "duration": 10,
    "start_time": "2024-07-16T17:01:32.622Z"
   },
   {
    "duration": 18,
    "start_time": "2024-07-16T17:01:33.527Z"
   },
   {
    "duration": 18,
    "start_time": "2024-07-16T17:01:33.766Z"
   },
   {
    "duration": 6,
    "start_time": "2024-07-16T17:01:33.996Z"
   },
   {
    "duration": 10,
    "start_time": "2024-07-16T17:01:34.325Z"
   },
   {
    "duration": 8,
    "start_time": "2024-07-16T17:01:34.554Z"
   },
   {
    "duration": 4,
    "start_time": "2024-07-16T17:01:34.954Z"
   },
   {
    "duration": 5,
    "start_time": "2024-07-16T17:01:35.485Z"
   },
   {
    "duration": 15,
    "start_time": "2024-07-16T17:01:36.593Z"
   },
   {
    "duration": 13,
    "start_time": "2024-07-16T17:01:37.061Z"
   },
   {
    "duration": 15,
    "start_time": "2024-07-16T17:01:37.727Z"
   },
   {
    "duration": 5,
    "start_time": "2024-07-16T17:01:39.713Z"
   },
   {
    "duration": 49,
    "start_time": "2024-07-16T17:01:40.166Z"
   },
   {
    "duration": 7,
    "start_time": "2024-07-16T17:01:41.813Z"
   },
   {
    "duration": 142,
    "start_time": "2024-07-16T17:07:05.166Z"
   },
   {
    "duration": 51,
    "start_time": "2024-07-16T17:07:32.080Z"
   },
   {
    "duration": 102,
    "start_time": "2024-07-16T17:07:49.482Z"
   },
   {
    "duration": 117,
    "start_time": "2024-07-16T17:09:56.240Z"
   },
   {
    "duration": 4,
    "start_time": "2024-07-16T17:12:26.760Z"
   },
   {
    "duration": 103,
    "start_time": "2024-07-16T17:12:54.526Z"
   },
   {
    "duration": 105,
    "start_time": "2024-07-16T17:13:50.581Z"
   },
   {
    "duration": 14,
    "start_time": "2024-07-16T17:18:48.594Z"
   },
   {
    "duration": 48,
    "start_time": "2024-07-16T17:18:55.453Z"
   },
   {
    "duration": 23,
    "start_time": "2024-07-16T17:24:08.114Z"
   },
   {
    "duration": 3,
    "start_time": "2024-07-16T17:25:10.564Z"
   },
   {
    "duration": 29,
    "start_time": "2024-07-16T17:25:18.817Z"
   },
   {
    "duration": 8,
    "start_time": "2024-07-16T17:27:44.993Z"
   },
   {
    "duration": 28,
    "start_time": "2024-07-16T17:31:52.218Z"
   },
   {
    "duration": 15,
    "start_time": "2024-07-16T17:33:30.243Z"
   },
   {
    "duration": 14,
    "start_time": "2024-07-16T17:33:42.015Z"
   },
   {
    "duration": 22,
    "start_time": "2024-07-16T17:34:08.130Z"
   },
   {
    "duration": 16,
    "start_time": "2024-07-16T17:34:19.448Z"
   },
   {
    "duration": 14,
    "start_time": "2024-07-16T17:34:39.365Z"
   },
   {
    "duration": 15,
    "start_time": "2024-07-16T17:35:00.685Z"
   },
   {
    "duration": 15,
    "start_time": "2024-07-16T17:35:21.522Z"
   },
   {
    "duration": 14,
    "start_time": "2024-07-16T17:35:51.493Z"
   },
   {
    "duration": 14,
    "start_time": "2024-07-16T17:36:08.197Z"
   },
   {
    "duration": 21,
    "start_time": "2024-07-16T17:36:44.605Z"
   },
   {
    "duration": 29,
    "start_time": "2024-07-16T17:36:50.012Z"
   },
   {
    "duration": 29,
    "start_time": "2024-07-16T17:41:24.302Z"
   },
   {
    "duration": 34,
    "start_time": "2024-07-16T17:42:13.652Z"
   },
   {
    "duration": 20,
    "start_time": "2024-07-16T17:42:29.587Z"
   },
   {
    "duration": 19,
    "start_time": "2024-07-16T17:42:47.417Z"
   },
   {
    "duration": 18,
    "start_time": "2024-07-16T17:45:26.762Z"
   },
   {
    "duration": 18,
    "start_time": "2024-07-16T17:45:50.158Z"
   },
   {
    "duration": 19,
    "start_time": "2024-07-16T17:46:09.484Z"
   },
   {
    "duration": 8,
    "start_time": "2024-07-16T17:47:13.615Z"
   },
   {
    "duration": 17,
    "start_time": "2024-07-16T17:47:51.139Z"
   },
   {
    "duration": 21,
    "start_time": "2024-07-16T17:50:46.324Z"
   },
   {
    "duration": 26,
    "start_time": "2024-07-16T17:50:51.444Z"
   },
   {
    "duration": 16,
    "start_time": "2024-07-16T17:51:09.171Z"
   },
   {
    "duration": 19,
    "start_time": "2024-07-16T17:51:20.397Z"
   },
   {
    "duration": 20,
    "start_time": "2024-07-16T17:51:57.196Z"
   },
   {
    "duration": 60,
    "start_time": "2024-07-16T17:56:04.322Z"
   },
   {
    "duration": 18,
    "start_time": "2024-07-16T17:56:25.942Z"
   },
   {
    "duration": 77,
    "start_time": "2024-07-16T17:56:51.526Z"
   },
   {
    "duration": 64,
    "start_time": "2024-07-16T17:57:07.021Z"
   },
   {
    "duration": 11,
    "start_time": "2024-07-16T17:58:31.135Z"
   },
   {
    "duration": 9,
    "start_time": "2024-07-16T17:58:34.289Z"
   },
   {
    "duration": 62,
    "start_time": "2024-07-16T18:00:23.987Z"
   },
   {
    "duration": 60,
    "start_time": "2024-07-16T18:00:37.003Z"
   },
   {
    "duration": 48,
    "start_time": "2024-07-16T18:07:04.685Z"
   },
   {
    "duration": 10,
    "start_time": "2024-07-16T18:07:38.746Z"
   },
   {
    "duration": 10,
    "start_time": "2024-07-16T18:07:46.048Z"
   },
   {
    "duration": 10,
    "start_time": "2024-07-16T18:07:49.850Z"
   },
   {
    "duration": 11,
    "start_time": "2024-07-16T18:07:55.032Z"
   },
   {
    "duration": 50,
    "start_time": "2024-07-16T18:08:05.297Z"
   },
   {
    "duration": 10,
    "start_time": "2024-07-16T18:10:06.361Z"
   },
   {
    "duration": 9,
    "start_time": "2024-07-16T18:10:13.450Z"
   },
   {
    "duration": 10,
    "start_time": "2024-07-16T18:10:17.620Z"
   },
   {
    "duration": 10,
    "start_time": "2024-07-16T18:10:21.588Z"
   },
   {
    "duration": 8,
    "start_time": "2024-07-16T18:12:10.784Z"
   },
   {
    "duration": 15,
    "start_time": "2024-07-16T18:17:41.001Z"
   },
   {
    "duration": 13,
    "start_time": "2024-07-16T18:22:26.482Z"
   },
   {
    "duration": 28,
    "start_time": "2024-07-16T18:22:34.607Z"
   },
   {
    "duration": 3,
    "start_time": "2024-07-16T18:23:15.098Z"
   },
   {
    "duration": 94,
    "start_time": "2024-07-16T18:23:15.209Z"
   },
   {
    "duration": 10,
    "start_time": "2024-07-16T18:23:15.389Z"
   },
   {
    "duration": 15,
    "start_time": "2024-07-16T18:23:15.536Z"
   },
   {
    "duration": 25,
    "start_time": "2024-07-16T18:23:15.723Z"
   },
   {
    "duration": 7,
    "start_time": "2024-07-16T18:23:15.852Z"
   },
   {
    "duration": 9,
    "start_time": "2024-07-16T18:23:16.042Z"
   },
   {
    "duration": 10,
    "start_time": "2024-07-16T18:23:16.322Z"
   },
   {
    "duration": 19,
    "start_time": "2024-07-16T18:23:16.868Z"
   },
   {
    "duration": 26,
    "start_time": "2024-07-16T18:23:17.043Z"
   },
   {
    "duration": 6,
    "start_time": "2024-07-16T18:23:17.210Z"
   },
   {
    "duration": 11,
    "start_time": "2024-07-16T18:23:17.377Z"
   },
   {
    "duration": 8,
    "start_time": "2024-07-16T18:23:17.537Z"
   },
   {
    "duration": 5,
    "start_time": "2024-07-16T18:23:17.715Z"
   },
   {
    "duration": 6,
    "start_time": "2024-07-16T18:23:17.882Z"
   },
   {
    "duration": 15,
    "start_time": "2024-07-16T18:23:18.220Z"
   },
   {
    "duration": 12,
    "start_time": "2024-07-16T18:23:18.404Z"
   },
   {
    "duration": 15,
    "start_time": "2024-07-16T18:23:18.592Z"
   },
   {
    "duration": 4,
    "start_time": "2024-07-16T18:23:19.341Z"
   },
   {
    "duration": 50,
    "start_time": "2024-07-16T18:23:19.806Z"
   },
   {
    "duration": 7,
    "start_time": "2024-07-16T18:23:21.160Z"
   },
   {
    "duration": 94,
    "start_time": "2024-07-16T18:23:21.882Z"
   },
   {
    "duration": 29,
    "start_time": "2024-07-16T18:23:22.780Z"
   },
   {
    "duration": 8,
    "start_time": "2024-07-16T18:23:23.138Z"
   },
   {
    "duration": 51,
    "start_time": "2024-07-16T18:23:24.859Z"
   },
   {
    "duration": 8,
    "start_time": "2024-07-16T18:23:25.322Z"
   },
   {
    "duration": 9,
    "start_time": "2024-07-16T18:23:26.574Z"
   },
   {
    "duration": 9,
    "start_time": "2024-07-16T18:23:26.958Z"
   },
   {
    "duration": 25,
    "start_time": "2024-07-16T18:23:29.284Z"
   },
   {
    "duration": 21,
    "start_time": "2024-07-16T18:23:49.878Z"
   },
   {
    "duration": 744,
    "start_time": "2024-07-16T18:24:41.463Z"
   },
   {
    "duration": 23,
    "start_time": "2024-07-16T18:25:00.730Z"
   },
   {
    "duration": 7,
    "start_time": "2024-07-16T18:25:02.804Z"
   },
   {
    "duration": 799,
    "start_time": "2024-07-16T18:25:03.036Z"
   },
   {
    "duration": 790,
    "start_time": "2024-07-16T18:25:30.172Z"
   },
   {
    "duration": 8,
    "start_time": "2024-07-16T18:26:17.037Z"
   },
   {
    "duration": 868,
    "start_time": "2024-07-16T18:26:17.810Z"
   },
   {
    "duration": 22,
    "start_time": "2024-07-16T18:28:15.162Z"
   },
   {
    "duration": 18,
    "start_time": "2024-07-16T18:28:29.838Z"
   },
   {
    "duration": 18,
    "start_time": "2024-07-16T18:28:40.451Z"
   },
   {
    "duration": 8,
    "start_time": "2024-07-16T18:28:41.108Z"
   },
   {
    "duration": 9,
    "start_time": "2024-07-16T18:40:58.232Z"
   },
   {
    "duration": 6,
    "start_time": "2024-07-16T18:41:04.073Z"
   },
   {
    "duration": 1407,
    "start_time": "2024-07-16T18:41:04.872Z"
   },
   {
    "duration": 1810,
    "start_time": "2024-07-16T18:42:21.762Z"
   },
   {
    "duration": 4,
    "start_time": "2024-07-16T18:45:14.980Z"
   },
   {
    "duration": 12,
    "start_time": "2024-07-16T18:45:16.063Z"
   },
   {
    "duration": 39,
    "start_time": "2024-07-16T18:45:32.281Z"
   },
   {
    "duration": 1225,
    "start_time": "2024-07-16T18:45:57.563Z"
   },
   {
    "duration": 21,
    "start_time": "2024-07-16T18:48:05.280Z"
   },
   {
    "duration": 11,
    "start_time": "2024-07-16T18:49:24.603Z"
   },
   {
    "duration": 16,
    "start_time": "2024-07-16T18:50:13.032Z"
   },
   {
    "duration": 11,
    "start_time": "2024-07-16T18:50:38.565Z"
   },
   {
    "duration": 5,
    "start_time": "2024-07-16T18:50:41.405Z"
   },
   {
    "duration": 11,
    "start_time": "2024-07-16T18:50:49.363Z"
   },
   {
    "duration": 4,
    "start_time": "2024-07-16T18:50:50.523Z"
   },
   {
    "duration": 22,
    "start_time": "2024-07-16T18:50:52.925Z"
   },
   {
    "duration": 1257,
    "start_time": "2024-07-16T18:53:03.253Z"
   },
   {
    "duration": 3,
    "start_time": "2024-07-16T18:54:49.573Z"
   },
   {
    "duration": 97,
    "start_time": "2024-07-16T18:54:49.746Z"
   },
   {
    "duration": 9,
    "start_time": "2024-07-16T18:54:49.924Z"
   },
   {
    "duration": 15,
    "start_time": "2024-07-16T18:54:50.134Z"
   },
   {
    "duration": 26,
    "start_time": "2024-07-16T18:54:50.289Z"
   },
   {
    "duration": 7,
    "start_time": "2024-07-16T18:54:50.524Z"
   },
   {
    "duration": 9,
    "start_time": "2024-07-16T18:54:51.426Z"
   },
   {
    "duration": 10,
    "start_time": "2024-07-16T18:54:51.504Z"
   },
   {
    "duration": 20,
    "start_time": "2024-07-16T18:54:52.101Z"
   },
   {
    "duration": 26,
    "start_time": "2024-07-16T18:54:52.294Z"
   },
   {
    "duration": 6,
    "start_time": "2024-07-16T18:54:52.494Z"
   },
   {
    "duration": 10,
    "start_time": "2024-07-16T18:54:52.651Z"
   },
   {
    "duration": 8,
    "start_time": "2024-07-16T18:54:52.845Z"
   },
   {
    "duration": 5,
    "start_time": "2024-07-16T18:54:53.065Z"
   },
   {
    "duration": 5,
    "start_time": "2024-07-16T18:54:53.177Z"
   },
   {
    "duration": 20,
    "start_time": "2024-07-16T18:54:53.470Z"
   },
   {
    "duration": 10,
    "start_time": "2024-07-16T18:54:53.649Z"
   },
   {
    "duration": 14,
    "start_time": "2024-07-16T18:54:53.807Z"
   },
   {
    "duration": 4,
    "start_time": "2024-07-16T18:54:54.887Z"
   },
   {
    "duration": 50,
    "start_time": "2024-07-16T18:54:56.409Z"
   },
   {
    "duration": 10,
    "start_time": "2024-07-16T18:54:58.602Z"
   },
   {
    "duration": 96,
    "start_time": "2024-07-16T18:55:00.346Z"
   },
   {
    "duration": 30,
    "start_time": "2024-07-16T18:55:02.501Z"
   },
   {
    "duration": 7,
    "start_time": "2024-07-16T18:55:03.166Z"
   },
   {
    "duration": 52,
    "start_time": "2024-07-16T18:55:05.818Z"
   },
   {
    "duration": 9,
    "start_time": "2024-07-16T18:55:07.066Z"
   },
   {
    "duration": 9,
    "start_time": "2024-07-16T18:55:10.155Z"
   },
   {
    "duration": 8,
    "start_time": "2024-07-16T18:55:10.906Z"
   },
   {
    "duration": 11,
    "start_time": "2024-07-16T18:55:13.791Z"
   },
   {
    "duration": 1237,
    "start_time": "2024-07-16T18:55:57.749Z"
   },
   {
    "duration": 15,
    "start_time": "2024-07-16T18:56:19.066Z"
   },
   {
    "duration": 13,
    "start_time": "2024-07-16T18:56:24.704Z"
   },
   {
    "duration": 12,
    "start_time": "2024-07-16T18:58:00.597Z"
   },
   {
    "duration": 17,
    "start_time": "2024-07-16T18:58:32.246Z"
   },
   {
    "duration": 23,
    "start_time": "2024-07-16T18:59:36.150Z"
   },
   {
    "duration": 8,
    "start_time": "2024-07-16T18:59:44.426Z"
   },
   {
    "duration": 6,
    "start_time": "2024-07-16T18:59:50.497Z"
   },
   {
    "duration": 1112,
    "start_time": "2024-07-16T19:00:36.167Z"
   },
   {
    "duration": 95,
    "start_time": "2024-07-16T19:00:37.281Z"
   },
   {
    "duration": 12,
    "start_time": "2024-07-16T19:00:37.377Z"
   },
   {
    "duration": 15,
    "start_time": "2024-07-16T19:00:37.391Z"
   },
   {
    "duration": 26,
    "start_time": "2024-07-16T19:00:37.407Z"
   },
   {
    "duration": 6,
    "start_time": "2024-07-16T19:00:37.434Z"
   },
   {
    "duration": 9,
    "start_time": "2024-07-16T19:00:37.441Z"
   },
   {
    "duration": 32,
    "start_time": "2024-07-16T19:00:37.451Z"
   },
   {
    "duration": 24,
    "start_time": "2024-07-16T19:00:37.484Z"
   },
   {
    "duration": 21,
    "start_time": "2024-07-16T19:00:37.510Z"
   },
   {
    "duration": 7,
    "start_time": "2024-07-16T19:00:37.533Z"
   },
   {
    "duration": 15,
    "start_time": "2024-07-16T19:00:37.541Z"
   },
   {
    "duration": 9,
    "start_time": "2024-07-16T19:00:37.557Z"
   },
   {
    "duration": 16,
    "start_time": "2024-07-16T19:00:37.567Z"
   },
   {
    "duration": 5,
    "start_time": "2024-07-16T19:00:37.585Z"
   },
   {
    "duration": 33,
    "start_time": "2024-07-16T19:00:37.591Z"
   },
   {
    "duration": 11,
    "start_time": "2024-07-16T19:00:37.626Z"
   },
   {
    "duration": 13,
    "start_time": "2024-07-16T19:00:37.639Z"
   },
   {
    "duration": 4,
    "start_time": "2024-07-16T19:00:37.653Z"
   },
   {
    "duration": 393,
    "start_time": "2024-07-16T19:00:37.658Z"
   },
   {
    "duration": 8,
    "start_time": "2024-07-16T19:00:38.053Z"
   },
   {
    "duration": 156,
    "start_time": "2024-07-16T19:00:38.062Z"
   },
   {
    "duration": 82,
    "start_time": "2024-07-16T19:00:38.220Z"
   },
   {
    "duration": 43,
    "start_time": "2024-07-16T19:00:38.311Z"
   },
   {
    "duration": 58,
    "start_time": "2024-07-16T19:00:38.355Z"
   },
   {
    "duration": 8,
    "start_time": "2024-07-16T19:00:38.414Z"
   },
   {
    "duration": 12,
    "start_time": "2024-07-16T19:00:38.423Z"
   },
   {
    "duration": 21,
    "start_time": "2024-07-16T19:00:38.437Z"
   },
   {
    "duration": 10,
    "start_time": "2024-07-16T19:00:38.460Z"
   },
   {
    "duration": 13,
    "start_time": "2024-07-16T19:00:38.471Z"
   },
   {
    "duration": 27,
    "start_time": "2024-07-16T19:00:38.485Z"
   },
   {
    "duration": 1141,
    "start_time": "2024-07-16T19:00:38.513Z"
   },
   {
    "duration": 0,
    "start_time": "2024-07-16T19:00:39.655Z"
   },
   {
    "duration": 2,
    "start_time": "2024-07-16T19:00:49.647Z"
   },
   {
    "duration": 95,
    "start_time": "2024-07-16T19:00:49.885Z"
   },
   {
    "duration": 10,
    "start_time": "2024-07-16T19:00:50.086Z"
   },
   {
    "duration": 15,
    "start_time": "2024-07-16T19:00:50.341Z"
   },
   {
    "duration": 27,
    "start_time": "2024-07-16T19:00:50.553Z"
   },
   {
    "duration": 6,
    "start_time": "2024-07-16T19:00:50.786Z"
   },
   {
    "duration": 9,
    "start_time": "2024-07-16T19:00:51.195Z"
   },
   {
    "duration": 9,
    "start_time": "2024-07-16T19:00:51.505Z"
   },
   {
    "duration": 22,
    "start_time": "2024-07-16T19:00:52.305Z"
   },
   {
    "duration": 22,
    "start_time": "2024-07-16T19:00:52.618Z"
   },
   {
    "duration": 9,
    "start_time": "2024-07-16T19:00:52.750Z"
   },
   {
    "duration": 13,
    "start_time": "2024-07-16T19:00:52.968Z"
   },
   {
    "duration": 8,
    "start_time": "2024-07-16T19:00:53.188Z"
   },
   {
    "duration": 5,
    "start_time": "2024-07-16T19:00:53.425Z"
   },
   {
    "duration": 5,
    "start_time": "2024-07-16T19:00:53.585Z"
   },
   {
    "duration": 17,
    "start_time": "2024-07-16T19:00:54.040Z"
   },
   {
    "duration": 11,
    "start_time": "2024-07-16T19:00:54.200Z"
   },
   {
    "duration": 15,
    "start_time": "2024-07-16T19:00:54.444Z"
   },
   {
    "duration": 4,
    "start_time": "2024-07-16T19:00:55.242Z"
   },
   {
    "duration": 51,
    "start_time": "2024-07-16T19:00:55.630Z"
   },
   {
    "duration": 8,
    "start_time": "2024-07-16T19:00:56.096Z"
   },
   {
    "duration": 92,
    "start_time": "2024-07-16T19:00:58.358Z"
   },
   {
    "duration": 29,
    "start_time": "2024-07-16T19:01:00.056Z"
   },
   {
    "duration": 8,
    "start_time": "2024-07-16T19:01:00.539Z"
   },
   {
    "duration": 67,
    "start_time": "2024-07-16T19:01:02.180Z"
   },
   {
    "duration": 7,
    "start_time": "2024-07-16T19:01:02.975Z"
   },
   {
    "duration": 10,
    "start_time": "2024-07-16T19:01:05.909Z"
   },
   {
    "duration": 15,
    "start_time": "2024-07-16T19:01:06.485Z"
   },
   {
    "duration": 12,
    "start_time": "2024-07-16T19:01:07.821Z"
   },
   {
    "duration": 13,
    "start_time": "2024-07-16T19:01:09.711Z"
   },
   {
    "duration": 4,
    "start_time": "2024-07-16T19:01:10.798Z"
   },
   {
    "duration": 1022,
    "start_time": "2024-07-16T19:01:11.902Z"
   },
   {
    "duration": 12,
    "start_time": "2024-07-16T19:01:13.354Z"
   },
   {
    "duration": 10,
    "start_time": "2024-07-16T19:04:27.197Z"
   },
   {
    "duration": 17,
    "start_time": "2024-07-16T19:04:53.914Z"
   },
   {
    "duration": 7,
    "start_time": "2024-07-16T19:05:01.864Z"
   },
   {
    "duration": 25,
    "start_time": "2024-07-16T19:05:34.942Z"
   },
   {
    "duration": 2,
    "start_time": "2024-07-16T19:05:51.317Z"
   },
   {
    "duration": 95,
    "start_time": "2024-07-16T19:05:51.400Z"
   },
   {
    "duration": 9,
    "start_time": "2024-07-16T19:05:51.533Z"
   },
   {
    "duration": 14,
    "start_time": "2024-07-16T19:05:51.685Z"
   },
   {
    "duration": 28,
    "start_time": "2024-07-16T19:05:51.897Z"
   },
   {
    "duration": 6,
    "start_time": "2024-07-16T19:05:53.361Z"
   },
   {
    "duration": 10,
    "start_time": "2024-07-16T19:05:54.471Z"
   },
   {
    "duration": 12,
    "start_time": "2024-07-16T19:05:55.866Z"
   },
   {
    "duration": 18,
    "start_time": "2024-07-16T19:06:00.536Z"
   },
   {
    "duration": 19,
    "start_time": "2024-07-16T19:06:01.366Z"
   },
   {
    "duration": 6,
    "start_time": "2024-07-16T19:06:02.145Z"
   },
   {
    "duration": 9,
    "start_time": "2024-07-16T19:06:03.061Z"
   },
   {
    "duration": 8,
    "start_time": "2024-07-16T19:06:03.855Z"
   },
   {
    "duration": 5,
    "start_time": "2024-07-16T19:06:04.760Z"
   },
   {
    "duration": 6,
    "start_time": "2024-07-16T19:06:05.395Z"
   },
   {
    "duration": 14,
    "start_time": "2024-07-16T19:06:07.715Z"
   },
   {
    "duration": 14,
    "start_time": "2024-07-16T19:06:17.760Z"
   },
   {
    "duration": 12,
    "start_time": "2024-07-16T19:06:18.239Z"
   },
   {
    "duration": 15,
    "start_time": "2024-07-16T19:06:18.874Z"
   },
   {
    "duration": 4,
    "start_time": "2024-07-16T19:06:20.923Z"
   },
   {
    "duration": 50,
    "start_time": "2024-07-16T19:06:22.583Z"
   },
   {
    "duration": 9,
    "start_time": "2024-07-16T19:06:24.006Z"
   },
   {
    "duration": 91,
    "start_time": "2024-07-16T19:06:25.675Z"
   },
   {
    "duration": 29,
    "start_time": "2024-07-16T19:06:27.759Z"
   },
   {
    "duration": 7,
    "start_time": "2024-07-16T19:06:28.839Z"
   },
   {
    "duration": 52,
    "start_time": "2024-07-16T19:06:30.415Z"
   },
   {
    "duration": 21,
    "start_time": "2024-07-16T19:06:30.581Z"
   },
   {
    "duration": 11,
    "start_time": "2024-07-16T19:06:32.868Z"
   },
   {
    "duration": 14,
    "start_time": "2024-07-16T19:06:34.800Z"
   },
   {
    "duration": 10,
    "start_time": "2024-07-16T19:06:40.157Z"
   },
   {
    "duration": 12,
    "start_time": "2024-07-16T19:06:41.319Z"
   },
   {
    "duration": 4,
    "start_time": "2024-07-16T19:06:43.460Z"
   },
   {
    "duration": 57,
    "start_time": "2024-07-16T19:06:45.008Z"
   },
   {
    "duration": 9,
    "start_time": "2024-07-16T19:08:33.602Z"
   },
   {
    "duration": 38,
    "start_time": "2024-07-16T19:08:47.523Z"
   },
   {
    "duration": 12,
    "start_time": "2024-07-16T19:08:48.479Z"
   },
   {
    "duration": 1126,
    "start_time": "2024-07-16T19:08:55.828Z"
   },
   {
    "duration": 105,
    "start_time": "2024-07-16T19:08:56.956Z"
   },
   {
    "duration": 14,
    "start_time": "2024-07-16T19:08:57.062Z"
   },
   {
    "duration": 15,
    "start_time": "2024-07-16T19:08:57.078Z"
   },
   {
    "duration": 28,
    "start_time": "2024-07-16T19:08:57.094Z"
   },
   {
    "duration": 6,
    "start_time": "2024-07-16T19:08:57.123Z"
   },
   {
    "duration": 10,
    "start_time": "2024-07-16T19:08:57.131Z"
   },
   {
    "duration": 12,
    "start_time": "2024-07-16T19:08:57.142Z"
   },
   {
    "duration": 21,
    "start_time": "2024-07-16T19:08:57.155Z"
   },
   {
    "duration": 48,
    "start_time": "2024-07-16T19:08:57.179Z"
   },
   {
    "duration": 6,
    "start_time": "2024-07-16T19:08:57.229Z"
   },
   {
    "duration": 19,
    "start_time": "2024-07-16T19:08:57.236Z"
   },
   {
    "duration": 8,
    "start_time": "2024-07-16T19:08:57.256Z"
   },
   {
    "duration": 6,
    "start_time": "2024-07-16T19:08:57.265Z"
   },
   {
    "duration": 11,
    "start_time": "2024-07-16T19:08:57.272Z"
   },
   {
    "duration": 32,
    "start_time": "2024-07-16T19:08:57.285Z"
   },
   {
    "duration": 11,
    "start_time": "2024-07-16T19:08:57.318Z"
   },
   {
    "duration": 14,
    "start_time": "2024-07-16T19:08:57.330Z"
   },
   {
    "duration": 7,
    "start_time": "2024-07-16T19:08:57.345Z"
   },
   {
    "duration": 351,
    "start_time": "2024-07-16T19:08:57.353Z"
   },
   {
    "duration": 8,
    "start_time": "2024-07-16T19:08:57.705Z"
   },
   {
    "duration": 148,
    "start_time": "2024-07-16T19:08:57.715Z"
   },
   {
    "duration": 107,
    "start_time": "2024-07-16T19:08:57.864Z"
   },
   {
    "duration": 8,
    "start_time": "2024-07-16T19:08:57.972Z"
   },
   {
    "duration": 76,
    "start_time": "2024-07-16T19:08:57.981Z"
   },
   {
    "duration": 7,
    "start_time": "2024-07-16T19:08:58.059Z"
   },
   {
    "duration": 10,
    "start_time": "2024-07-16T19:08:58.068Z"
   },
   {
    "duration": 32,
    "start_time": "2024-07-16T19:08:58.081Z"
   },
   {
    "duration": 11,
    "start_time": "2024-07-16T19:08:58.450Z"
   },
   {
    "duration": 13,
    "start_time": "2024-07-16T19:08:58.462Z"
   },
   {
    "duration": 36,
    "start_time": "2024-07-16T19:08:58.608Z"
   },
   {
    "duration": 8,
    "start_time": "2024-07-16T19:08:58.646Z"
   },
   {
    "duration": 3,
    "start_time": "2024-07-16T19:09:02.036Z"
   },
   {
    "duration": 95,
    "start_time": "2024-07-16T19:09:02.151Z"
   },
   {
    "duration": 9,
    "start_time": "2024-07-16T19:09:02.307Z"
   },
   {
    "duration": 17,
    "start_time": "2024-07-16T19:09:02.443Z"
   },
   {
    "duration": 25,
    "start_time": "2024-07-16T19:09:02.585Z"
   },
   {
    "duration": 7,
    "start_time": "2024-07-16T19:09:02.808Z"
   },
   {
    "duration": 8,
    "start_time": "2024-07-16T19:09:02.880Z"
   },
   {
    "duration": 9,
    "start_time": "2024-07-16T19:09:03.059Z"
   },
   {
    "duration": 19,
    "start_time": "2024-07-16T19:09:03.601Z"
   },
   {
    "duration": 19,
    "start_time": "2024-07-16T19:09:03.780Z"
   },
   {
    "duration": 7,
    "start_time": "2024-07-16T19:09:03.931Z"
   },
   {
    "duration": 10,
    "start_time": "2024-07-16T19:09:04.112Z"
   },
   {
    "duration": 8,
    "start_time": "2024-07-16T19:09:04.280Z"
   },
   {
    "duration": 5,
    "start_time": "2024-07-16T19:09:04.440Z"
   },
   {
    "duration": 5,
    "start_time": "2024-07-16T19:09:04.550Z"
   },
   {
    "duration": 16,
    "start_time": "2024-07-16T19:09:04.974Z"
   },
   {
    "duration": 13,
    "start_time": "2024-07-16T19:09:05.098Z"
   },
   {
    "duration": 14,
    "start_time": "2024-07-16T19:09:05.232Z"
   },
   {
    "duration": 4,
    "start_time": "2024-07-16T19:09:06.702Z"
   },
   {
    "duration": 52,
    "start_time": "2024-07-16T19:09:07.994Z"
   },
   {
    "duration": 7,
    "start_time": "2024-07-16T19:09:09.878Z"
   },
   {
    "duration": 92,
    "start_time": "2024-07-16T19:09:10.452Z"
   },
   {
    "duration": 30,
    "start_time": "2024-07-16T19:09:11.093Z"
   },
   {
    "duration": 9,
    "start_time": "2024-07-16T19:09:11.259Z"
   },
   {
    "duration": 49,
    "start_time": "2024-07-16T19:09:12.009Z"
   },
   {
    "duration": 8,
    "start_time": "2024-07-16T19:09:12.263Z"
   },
   {
    "duration": 9,
    "start_time": "2024-07-16T19:09:13.643Z"
   },
   {
    "duration": 14,
    "start_time": "2024-07-16T19:09:14.011Z"
   },
   {
    "duration": 14,
    "start_time": "2024-07-16T19:09:14.143Z"
   },
   {
    "duration": 14,
    "start_time": "2024-07-16T19:09:15.133Z"
   },
   {
    "duration": 37,
    "start_time": "2024-07-16T19:09:15.539Z"
   },
   {
    "duration": 8,
    "start_time": "2024-07-16T19:09:15.716Z"
   },
   {
    "duration": 141,
    "start_time": "2024-07-16T19:10:17.420Z"
   },
   {
    "duration": 5,
    "start_time": "2024-07-16T19:10:20.791Z"
   },
   {
    "duration": 21,
    "start_time": "2024-07-16T19:10:21.379Z"
   },
   {
    "duration": 5,
    "start_time": "2024-07-16T19:10:51.923Z"
   },
   {
    "duration": 21,
    "start_time": "2024-07-16T19:10:52.574Z"
   },
   {
    "duration": 21,
    "start_time": "2024-07-16T19:11:41.306Z"
   },
   {
    "duration": 21,
    "start_time": "2024-07-16T19:12:08.993Z"
   },
   {
    "duration": 16,
    "start_time": "2024-07-16T19:12:33.428Z"
   },
   {
    "duration": 14,
    "start_time": "2024-07-16T19:12:49.840Z"
   },
   {
    "duration": 20,
    "start_time": "2024-07-16T19:13:39.122Z"
   },
   {
    "duration": 21,
    "start_time": "2024-07-16T19:14:03.711Z"
   },
   {
    "duration": 21,
    "start_time": "2024-07-16T19:14:16.608Z"
   },
   {
    "duration": 20,
    "start_time": "2024-07-16T19:14:22.949Z"
   },
   {
    "duration": 3,
    "start_time": "2024-07-16T19:14:36.985Z"
   },
   {
    "duration": 96,
    "start_time": "2024-07-16T19:14:37.143Z"
   },
   {
    "duration": 10,
    "start_time": "2024-07-16T19:14:37.316Z"
   },
   {
    "duration": 15,
    "start_time": "2024-07-16T19:14:37.463Z"
   },
   {
    "duration": 26,
    "start_time": "2024-07-16T19:14:37.613Z"
   },
   {
    "duration": 7,
    "start_time": "2024-07-16T19:14:37.756Z"
   },
   {
    "duration": 12,
    "start_time": "2024-07-16T19:14:37.891Z"
   },
   {
    "duration": 9,
    "start_time": "2024-07-16T19:14:38.065Z"
   },
   {
    "duration": 17,
    "start_time": "2024-07-16T19:14:38.809Z"
   },
   {
    "duration": 19,
    "start_time": "2024-07-16T19:14:38.970Z"
   },
   {
    "duration": 6,
    "start_time": "2024-07-16T19:14:39.164Z"
   },
   {
    "duration": 10,
    "start_time": "2024-07-16T19:14:39.354Z"
   },
   {
    "duration": 7,
    "start_time": "2024-07-16T19:14:39.506Z"
   },
   {
    "duration": 5,
    "start_time": "2024-07-16T19:14:39.688Z"
   },
   {
    "duration": 5,
    "start_time": "2024-07-16T19:14:39.830Z"
   },
   {
    "duration": 14,
    "start_time": "2024-07-16T19:14:40.267Z"
   },
   {
    "duration": 11,
    "start_time": "2024-07-16T19:14:40.303Z"
   },
   {
    "duration": 14,
    "start_time": "2024-07-16T19:14:40.466Z"
   },
   {
    "duration": 4,
    "start_time": "2024-07-16T19:14:41.345Z"
   },
   {
    "duration": 51,
    "start_time": "2024-07-16T19:14:41.667Z"
   },
   {
    "duration": 7,
    "start_time": "2024-07-16T19:14:42.117Z"
   },
   {
    "duration": 96,
    "start_time": "2024-07-16T19:14:43.665Z"
   },
   {
    "duration": 29,
    "start_time": "2024-07-16T19:14:44.664Z"
   },
   {
    "duration": 8,
    "start_time": "2024-07-16T19:14:45.119Z"
   },
   {
    "duration": 53,
    "start_time": "2024-07-16T19:14:46.956Z"
   },
   {
    "duration": 8,
    "start_time": "2024-07-16T19:14:47.551Z"
   },
   {
    "duration": 10,
    "start_time": "2024-07-16T19:14:50.645Z"
   },
   {
    "duration": 13,
    "start_time": "2024-07-16T19:14:51.627Z"
   },
   {
    "duration": 10,
    "start_time": "2024-07-16T19:14:52.425Z"
   },
   {
    "duration": 12,
    "start_time": "2024-07-16T19:14:54.494Z"
   },
   {
    "duration": 44,
    "start_time": "2024-07-16T19:14:54.950Z"
   },
   {
    "duration": 21,
    "start_time": "2024-07-16T19:14:55.796Z"
   },
   {
    "duration": 5,
    "start_time": "2024-07-16T19:14:56.706Z"
   },
   {
    "duration": 19,
    "start_time": "2024-07-16T19:14:57.464Z"
   },
   {
    "duration": 1128,
    "start_time": "2024-07-16T19:15:51.417Z"
   },
   {
    "duration": 95,
    "start_time": "2024-07-16T19:15:52.547Z"
   },
   {
    "duration": 13,
    "start_time": "2024-07-16T19:15:52.643Z"
   },
   {
    "duration": 16,
    "start_time": "2024-07-16T19:15:52.657Z"
   },
   {
    "duration": 24,
    "start_time": "2024-07-16T19:15:52.674Z"
   },
   {
    "duration": 5,
    "start_time": "2024-07-16T19:15:52.700Z"
   },
   {
    "duration": 11,
    "start_time": "2024-07-16T19:15:52.706Z"
   },
   {
    "duration": 8,
    "start_time": "2024-07-16T19:15:52.718Z"
   },
   {
    "duration": 18,
    "start_time": "2024-07-16T19:15:52.727Z"
   },
   {
    "duration": 20,
    "start_time": "2024-07-16T19:15:52.747Z"
   },
   {
    "duration": 6,
    "start_time": "2024-07-16T19:15:52.768Z"
   },
   {
    "duration": 16,
    "start_time": "2024-07-16T19:15:52.775Z"
   },
   {
    "duration": 26,
    "start_time": "2024-07-16T19:15:52.792Z"
   },
   {
    "duration": 13,
    "start_time": "2024-07-16T19:15:52.819Z"
   },
   {
    "duration": 4,
    "start_time": "2024-07-16T19:15:52.834Z"
   },
   {
    "duration": 33,
    "start_time": "2024-07-16T19:15:52.840Z"
   },
   {
    "duration": 10,
    "start_time": "2024-07-16T19:15:52.874Z"
   },
   {
    "duration": 21,
    "start_time": "2024-07-16T19:15:52.886Z"
   },
   {
    "duration": 8,
    "start_time": "2024-07-16T19:15:52.909Z"
   },
   {
    "duration": 347,
    "start_time": "2024-07-16T19:15:52.918Z"
   },
   {
    "duration": 8,
    "start_time": "2024-07-16T19:15:53.267Z"
   },
   {
    "duration": 160,
    "start_time": "2024-07-16T19:15:53.276Z"
   },
   {
    "duration": 84,
    "start_time": "2024-07-16T19:15:53.437Z"
   },
   {
    "duration": 7,
    "start_time": "2024-07-16T19:15:53.522Z"
   },
   {
    "duration": 50,
    "start_time": "2024-07-16T19:15:53.530Z"
   },
   {
    "duration": 7,
    "start_time": "2024-07-16T19:15:53.581Z"
   },
   {
    "duration": 33,
    "start_time": "2024-07-16T19:15:53.589Z"
   },
   {
    "duration": 14,
    "start_time": "2024-07-16T19:15:53.624Z"
   },
   {
    "duration": 15,
    "start_time": "2024-07-16T19:15:53.639Z"
   },
   {
    "duration": 12,
    "start_time": "2024-07-16T19:15:53.656Z"
   },
   {
    "duration": 60,
    "start_time": "2024-07-16T19:15:53.669Z"
   },
   {
    "duration": 9,
    "start_time": "2024-07-16T19:15:53.730Z"
   },
   {
    "duration": 5,
    "start_time": "2024-07-16T19:15:53.741Z"
   },
   {
    "duration": 39,
    "start_time": "2024-07-16T19:15:53.748Z"
   },
   {
    "duration": 2,
    "start_time": "2024-07-16T19:15:59.445Z"
   },
   {
    "duration": 94,
    "start_time": "2024-07-16T19:15:59.585Z"
   },
   {
    "duration": 13,
    "start_time": "2024-07-16T19:15:59.768Z"
   },
   {
    "duration": 14,
    "start_time": "2024-07-16T19:15:59.936Z"
   },
   {
    "duration": 26,
    "start_time": "2024-07-16T19:16:00.093Z"
   },
   {
    "duration": 7,
    "start_time": "2024-07-16T19:16:00.310Z"
   },
   {
    "duration": 10,
    "start_time": "2024-07-16T19:16:00.540Z"
   },
   {
    "duration": 9,
    "start_time": "2024-07-16T19:16:02.382Z"
   },
   {
    "duration": 21,
    "start_time": "2024-07-16T19:16:03.217Z"
   },
   {
    "duration": 19,
    "start_time": "2024-07-16T19:16:03.389Z"
   },
   {
    "duration": 6,
    "start_time": "2024-07-16T19:16:03.550Z"
   },
   {
    "duration": 10,
    "start_time": "2024-07-16T19:16:03.752Z"
   },
   {
    "duration": 8,
    "start_time": "2024-07-16T19:16:04.116Z"
   },
   {
    "duration": 5,
    "start_time": "2024-07-16T19:16:04.290Z"
   },
   {
    "duration": 5,
    "start_time": "2024-07-16T19:16:04.331Z"
   },
   {
    "duration": 15,
    "start_time": "2024-07-16T19:16:04.736Z"
   },
   {
    "duration": 12,
    "start_time": "2024-07-16T19:16:05.550Z"
   },
   {
    "duration": 19,
    "start_time": "2024-07-16T19:16:06.007Z"
   },
   {
    "duration": 4,
    "start_time": "2024-07-16T19:16:08.738Z"
   },
   {
    "duration": 48,
    "start_time": "2024-07-16T19:16:09.832Z"
   },
   {
    "duration": 8,
    "start_time": "2024-07-16T19:16:11.975Z"
   },
   {
    "duration": 91,
    "start_time": "2024-07-16T19:16:13.561Z"
   },
   {
    "duration": 33,
    "start_time": "2024-07-16T19:16:15.332Z"
   },
   {
    "duration": 10,
    "start_time": "2024-07-16T19:16:15.788Z"
   },
   {
    "duration": 50,
    "start_time": "2024-07-16T19:16:17.493Z"
   },
   {
    "duration": 7,
    "start_time": "2024-07-16T19:16:18.249Z"
   },
   {
    "duration": 9,
    "start_time": "2024-07-16T19:16:22.061Z"
   },
   {
    "duration": 13,
    "start_time": "2024-07-16T19:16:23.515Z"
   },
   {
    "duration": 17,
    "start_time": "2024-07-16T19:16:24.963Z"
   },
   {
    "duration": 12,
    "start_time": "2024-07-16T19:16:31.110Z"
   },
   {
    "duration": 13,
    "start_time": "2024-07-16T19:18:58.550Z"
   },
   {
    "duration": 12,
    "start_time": "2024-07-16T19:19:03.410Z"
   },
   {
    "duration": 12,
    "start_time": "2024-07-16T19:19:05.050Z"
   },
   {
    "duration": 2,
    "start_time": "2024-07-16T19:19:29.874Z"
   },
   {
    "duration": 96,
    "start_time": "2024-07-16T19:19:30.012Z"
   },
   {
    "duration": 9,
    "start_time": "2024-07-16T19:19:30.165Z"
   },
   {
    "duration": 123,
    "start_time": "2024-07-16T19:19:30.331Z"
   },
   {
    "duration": 38,
    "start_time": "2024-07-16T19:19:30.483Z"
   },
   {
    "duration": 7,
    "start_time": "2024-07-16T19:19:30.639Z"
   },
   {
    "duration": 9,
    "start_time": "2024-07-16T19:19:30.800Z"
   },
   {
    "duration": 11,
    "start_time": "2024-07-16T19:19:30.934Z"
   },
   {
    "duration": 24,
    "start_time": "2024-07-16T19:19:31.530Z"
   },
   {
    "duration": 25,
    "start_time": "2024-07-16T19:19:31.705Z"
   },
   {
    "duration": 7,
    "start_time": "2024-07-16T19:19:31.881Z"
   },
   {
    "duration": 10,
    "start_time": "2024-07-16T19:19:32.127Z"
   },
   {
    "duration": 8,
    "start_time": "2024-07-16T19:19:32.613Z"
   },
   {
    "duration": 4,
    "start_time": "2024-07-16T19:19:32.890Z"
   },
   {
    "duration": 5,
    "start_time": "2024-07-16T19:19:33.069Z"
   },
   {
    "duration": 15,
    "start_time": "2024-07-16T19:19:33.490Z"
   },
   {
    "duration": 10,
    "start_time": "2024-07-16T19:19:33.691Z"
   },
   {
    "duration": 16,
    "start_time": "2024-07-16T19:19:33.939Z"
   },
   {
    "duration": 3,
    "start_time": "2024-07-16T19:19:34.740Z"
   },
   {
    "duration": 149,
    "start_time": "2024-07-16T19:19:35.193Z"
   },
   {
    "duration": 11,
    "start_time": "2024-07-16T19:19:35.590Z"
   },
   {
    "duration": 108,
    "start_time": "2024-07-16T19:19:37.001Z"
   },
   {
    "duration": 19,
    "start_time": "2024-07-16T19:19:38.719Z"
   },
   {
    "duration": 7,
    "start_time": "2024-07-16T19:19:39.533Z"
   },
   {
    "duration": 18,
    "start_time": "2024-07-16T19:19:40.859Z"
   },
   {
    "duration": 7,
    "start_time": "2024-07-16T19:19:41.227Z"
   },
   {
    "duration": 12,
    "start_time": "2024-07-16T19:19:44.023Z"
   },
   {
    "duration": 6,
    "start_time": "2024-07-16T19:19:45.282Z"
   },
   {
    "duration": 12,
    "start_time": "2024-07-16T19:19:46.046Z"
   },
   {
    "duration": 11,
    "start_time": "2024-07-16T19:19:47.505Z"
   },
   {
    "duration": 2,
    "start_time": "2024-07-16T19:20:14.697Z"
   },
   {
    "duration": 91,
    "start_time": "2024-07-16T19:20:14.852Z"
   },
   {
    "duration": 9,
    "start_time": "2024-07-16T19:20:15.007Z"
   },
   {
    "duration": 14,
    "start_time": "2024-07-16T19:20:15.174Z"
   },
   {
    "duration": 24,
    "start_time": "2024-07-16T19:20:15.322Z"
   },
   {
    "duration": 7,
    "start_time": "2024-07-16T19:20:15.479Z"
   },
   {
    "duration": 10,
    "start_time": "2024-07-16T19:20:15.606Z"
   },
   {
    "duration": 9,
    "start_time": "2024-07-16T19:20:15.771Z"
   },
   {
    "duration": 19,
    "start_time": "2024-07-16T19:20:16.399Z"
   },
   {
    "duration": 19,
    "start_time": "2024-07-16T19:20:16.567Z"
   },
   {
    "duration": 5,
    "start_time": "2024-07-16T19:20:16.731Z"
   },
   {
    "duration": 11,
    "start_time": "2024-07-16T19:20:16.928Z"
   },
   {
    "duration": 7,
    "start_time": "2024-07-16T19:20:17.130Z"
   },
   {
    "duration": 5,
    "start_time": "2024-07-16T19:20:17.268Z"
   },
   {
    "duration": 5,
    "start_time": "2024-07-16T19:20:17.468Z"
   },
   {
    "duration": 14,
    "start_time": "2024-07-16T19:20:17.851Z"
   },
   {
    "duration": 12,
    "start_time": "2024-07-16T19:20:18.012Z"
   },
   {
    "duration": 15,
    "start_time": "2024-07-16T19:20:18.210Z"
   },
   {
    "duration": 4,
    "start_time": "2024-07-16T19:20:19.081Z"
   },
   {
    "duration": 49,
    "start_time": "2024-07-16T19:20:19.467Z"
   },
   {
    "duration": 9,
    "start_time": "2024-07-16T19:20:19.853Z"
   },
   {
    "duration": 92,
    "start_time": "2024-07-16T19:20:20.446Z"
   },
   {
    "duration": 29,
    "start_time": "2024-07-16T19:20:21.027Z"
   },
   {
    "duration": 8,
    "start_time": "2024-07-16T19:20:21.215Z"
   },
   {
    "duration": 49,
    "start_time": "2024-07-16T19:20:21.817Z"
   },
   {
    "duration": 8,
    "start_time": "2024-07-16T19:20:22.573Z"
   },
   {
    "duration": 11,
    "start_time": "2024-07-16T19:20:24.361Z"
   },
   {
    "duration": 15,
    "start_time": "2024-07-16T19:20:25.320Z"
   },
   {
    "duration": 10,
    "start_time": "2024-07-16T19:21:01.840Z"
   },
   {
    "duration": 10,
    "start_time": "2024-07-16T19:21:11.519Z"
   },
   {
    "duration": 7,
    "start_time": "2024-07-16T19:21:32.825Z"
   },
   {
    "duration": 3,
    "start_time": "2024-07-16T19:23:21.370Z"
   },
   {
    "duration": 1127,
    "start_time": "2024-07-16T19:24:25.640Z"
   },
   {
    "duration": 95,
    "start_time": "2024-07-16T19:24:26.768Z"
   },
   {
    "duration": 14,
    "start_time": "2024-07-16T19:24:26.864Z"
   },
   {
    "duration": 16,
    "start_time": "2024-07-16T19:24:26.880Z"
   },
   {
    "duration": 25,
    "start_time": "2024-07-16T19:24:26.898Z"
   },
   {
    "duration": 6,
    "start_time": "2024-07-16T19:24:26.925Z"
   },
   {
    "duration": 10,
    "start_time": "2024-07-16T19:24:26.932Z"
   },
   {
    "duration": 10,
    "start_time": "2024-07-16T19:24:26.943Z"
   },
   {
    "duration": 27,
    "start_time": "2024-07-16T19:24:26.954Z"
   },
   {
    "duration": 49,
    "start_time": "2024-07-16T19:24:26.982Z"
   },
   {
    "duration": 19,
    "start_time": "2024-07-16T19:24:27.033Z"
   },
   {
    "duration": 11,
    "start_time": "2024-07-16T19:24:27.054Z"
   },
   {
    "duration": 8,
    "start_time": "2024-07-16T19:24:27.066Z"
   },
   {
    "duration": 5,
    "start_time": "2024-07-16T19:24:27.077Z"
   },
   {
    "duration": 5,
    "start_time": "2024-07-16T19:24:27.084Z"
   },
   {
    "duration": 38,
    "start_time": "2024-07-16T19:24:27.090Z"
   },
   {
    "duration": 11,
    "start_time": "2024-07-16T19:24:27.129Z"
   },
   {
    "duration": 15,
    "start_time": "2024-07-16T19:24:27.141Z"
   },
   {
    "duration": 4,
    "start_time": "2024-07-16T19:24:27.157Z"
   },
   {
    "duration": 354,
    "start_time": "2024-07-16T19:24:27.162Z"
   },
   {
    "duration": 8,
    "start_time": "2024-07-16T19:24:27.518Z"
   },
   {
    "duration": 186,
    "start_time": "2024-07-16T19:24:27.527Z"
   },
   {
    "duration": 80,
    "start_time": "2024-07-16T19:24:27.715Z"
   },
   {
    "duration": 16,
    "start_time": "2024-07-16T19:24:27.797Z"
   },
   {
    "duration": 53,
    "start_time": "2024-07-16T19:24:27.814Z"
   },
   {
    "duration": 7,
    "start_time": "2024-07-16T19:24:27.869Z"
   },
   {
    "duration": 34,
    "start_time": "2024-07-16T19:24:27.878Z"
   },
   {
    "duration": 4,
    "start_time": "2024-07-16T19:24:27.914Z"
   },
   {
    "duration": 22,
    "start_time": "2024-07-16T19:24:27.919Z"
   },
   {
    "duration": 24,
    "start_time": "2024-07-16T19:24:27.943Z"
   },
   {
    "duration": 49,
    "start_time": "2024-07-16T19:24:27.969Z"
   },
   {
    "duration": 9,
    "start_time": "2024-07-16T19:24:28.019Z"
   },
   {
    "duration": 6,
    "start_time": "2024-07-16T19:24:28.029Z"
   },
   {
    "duration": 23,
    "start_time": "2024-07-16T19:24:28.036Z"
   },
   {
    "duration": 3,
    "start_time": "2024-07-16T19:24:32.159Z"
   },
   {
    "duration": 93,
    "start_time": "2024-07-16T19:24:32.316Z"
   },
   {
    "duration": 8,
    "start_time": "2024-07-16T19:24:32.480Z"
   },
   {
    "duration": 15,
    "start_time": "2024-07-16T19:24:32.692Z"
   },
   {
    "duration": 26,
    "start_time": "2024-07-16T19:24:32.830Z"
   },
   {
    "duration": 6,
    "start_time": "2024-07-16T19:24:33.029Z"
   },
   {
    "duration": 8,
    "start_time": "2024-07-16T19:24:33.278Z"
   },
   {
    "duration": 9,
    "start_time": "2024-07-16T19:24:33.459Z"
   },
   {
    "duration": 20,
    "start_time": "2024-07-16T19:24:34.617Z"
   },
   {
    "duration": 20,
    "start_time": "2024-07-16T19:24:34.768Z"
   },
   {
    "duration": 6,
    "start_time": "2024-07-16T19:24:35.066Z"
   },
   {
    "duration": 11,
    "start_time": "2024-07-16T19:24:35.121Z"
   },
   {
    "duration": 8,
    "start_time": "2024-07-16T19:24:35.235Z"
   },
   {
    "duration": 5,
    "start_time": "2024-07-16T19:24:35.369Z"
   },
   {
    "duration": 5,
    "start_time": "2024-07-16T19:24:35.536Z"
   },
   {
    "duration": 16,
    "start_time": "2024-07-16T19:24:35.862Z"
   },
   {
    "duration": 10,
    "start_time": "2024-07-16T19:24:36.046Z"
   },
   {
    "duration": 16,
    "start_time": "2024-07-16T19:24:36.231Z"
   },
   {
    "duration": 4,
    "start_time": "2024-07-16T19:24:36.817Z"
   },
   {
    "duration": 47,
    "start_time": "2024-07-16T19:24:37.264Z"
   },
   {
    "duration": 8,
    "start_time": "2024-07-16T19:24:49.722Z"
   },
   {
    "duration": 143,
    "start_time": "2024-07-16T19:25:59.355Z"
   },
   {
    "duration": 3,
    "start_time": "2024-07-16T19:26:14.302Z"
   },
   {
    "duration": 94,
    "start_time": "2024-07-16T19:26:14.435Z"
   },
   {
    "duration": 8,
    "start_time": "2024-07-16T19:26:14.584Z"
   },
   {
    "duration": 16,
    "start_time": "2024-07-16T19:26:14.727Z"
   },
   {
    "duration": 26,
    "start_time": "2024-07-16T19:26:14.877Z"
   },
   {
    "duration": 6,
    "start_time": "2024-07-16T19:26:15.020Z"
   },
   {
    "duration": 9,
    "start_time": "2024-07-16T19:26:15.178Z"
   },
   {
    "duration": 10,
    "start_time": "2024-07-16T19:26:15.326Z"
   },
   {
    "duration": 18,
    "start_time": "2024-07-16T19:26:15.919Z"
   },
   {
    "duration": 19,
    "start_time": "2024-07-16T19:26:16.075Z"
   },
   {
    "duration": 7,
    "start_time": "2024-07-16T19:26:16.214Z"
   },
   {
    "duration": 10,
    "start_time": "2024-07-16T19:26:16.398Z"
   },
   {
    "duration": 8,
    "start_time": "2024-07-16T19:26:16.607Z"
   },
   {
    "duration": 5,
    "start_time": "2024-07-16T19:26:16.721Z"
   },
   {
    "duration": 5,
    "start_time": "2024-07-16T19:26:16.896Z"
   },
   {
    "duration": 15,
    "start_time": "2024-07-16T19:26:17.178Z"
   },
   {
    "duration": 11,
    "start_time": "2024-07-16T19:26:17.337Z"
   },
   {
    "duration": 16,
    "start_time": "2024-07-16T19:26:17.507Z"
   },
   {
    "duration": 4,
    "start_time": "2024-07-16T19:26:18.254Z"
   },
   {
    "duration": 49,
    "start_time": "2024-07-16T19:26:18.667Z"
   },
   {
    "duration": 8,
    "start_time": "2024-07-16T19:26:18.965Z"
   },
   {
    "duration": 91,
    "start_time": "2024-07-16T19:26:19.470Z"
   },
   {
    "duration": 29,
    "start_time": "2024-07-16T19:26:20.158Z"
   },
   {
    "duration": 8,
    "start_time": "2024-07-16T19:26:20.321Z"
   },
   {
    "duration": 46,
    "start_time": "2024-07-16T19:26:20.988Z"
   },
   {
    "duration": 8,
    "start_time": "2024-07-16T19:26:21.211Z"
   },
   {
    "duration": 9,
    "start_time": "2024-07-16T19:26:22.800Z"
   },
   {
    "duration": 14,
    "start_time": "2024-07-16T19:26:23.025Z"
   },
   {
    "duration": 10,
    "start_time": "2024-07-16T19:26:44.151Z"
   },
   {
    "duration": 10,
    "start_time": "2024-07-16T19:27:00.478Z"
   },
   {
    "duration": 11,
    "start_time": "2024-07-16T19:27:08.579Z"
   },
   {
    "duration": 16,
    "start_time": "2024-07-16T19:28:01.192Z"
   },
   {
    "duration": 29,
    "start_time": "2024-07-16T19:29:24.644Z"
   },
   {
    "duration": 3,
    "start_time": "2024-07-16T19:29:35.217Z"
   },
   {
    "duration": 95,
    "start_time": "2024-07-16T19:29:35.377Z"
   },
   {
    "duration": 10,
    "start_time": "2024-07-16T19:29:35.536Z"
   },
   {
    "duration": 15,
    "start_time": "2024-07-16T19:29:35.681Z"
   },
   {
    "duration": 26,
    "start_time": "2024-07-16T19:29:35.840Z"
   },
   {
    "duration": 7,
    "start_time": "2024-07-16T19:29:36.023Z"
   },
   {
    "duration": 9,
    "start_time": "2024-07-16T19:29:36.211Z"
   },
   {
    "duration": 10,
    "start_time": "2024-07-16T19:29:36.396Z"
   },
   {
    "duration": 26,
    "start_time": "2024-07-16T19:29:37.063Z"
   },
   {
    "duration": 20,
    "start_time": "2024-07-16T19:29:37.197Z"
   },
   {
    "duration": 6,
    "start_time": "2024-07-16T19:29:37.353Z"
   },
   {
    "duration": 10,
    "start_time": "2024-07-16T19:29:37.491Z"
   },
   {
    "duration": 8,
    "start_time": "2024-07-16T19:29:37.664Z"
   },
   {
    "duration": 5,
    "start_time": "2024-07-16T19:29:37.824Z"
   },
   {
    "duration": 6,
    "start_time": "2024-07-16T19:29:37.970Z"
   },
   {
    "duration": 15,
    "start_time": "2024-07-16T19:29:38.306Z"
   },
   {
    "duration": 11,
    "start_time": "2024-07-16T19:29:38.485Z"
   },
   {
    "duration": 15,
    "start_time": "2024-07-16T19:29:38.594Z"
   },
   {
    "duration": 4,
    "start_time": "2024-07-16T19:29:39.240Z"
   },
   {
    "duration": 48,
    "start_time": "2024-07-16T19:29:39.594Z"
   },
   {
    "duration": 8,
    "start_time": "2024-07-16T19:29:39.945Z"
   },
   {
    "duration": 89,
    "start_time": "2024-07-16T19:29:40.957Z"
   },
   {
    "duration": 29,
    "start_time": "2024-07-16T19:29:41.762Z"
   },
   {
    "duration": 7,
    "start_time": "2024-07-16T19:29:41.985Z"
   },
   {
    "duration": 49,
    "start_time": "2024-07-16T19:29:42.808Z"
   },
   {
    "duration": 8,
    "start_time": "2024-07-16T19:29:43.071Z"
   },
   {
    "duration": 10,
    "start_time": "2024-07-16T19:29:44.372Z"
   },
   {
    "duration": 25,
    "start_time": "2024-07-16T19:29:44.613Z"
   },
   {
    "duration": 10,
    "start_time": "2024-07-16T19:29:45.847Z"
   },
   {
    "duration": 24,
    "start_time": "2024-07-16T19:29:48.086Z"
   },
   {
    "duration": 5,
    "start_time": "2024-07-16T19:30:13.798Z"
   },
   {
    "duration": 13,
    "start_time": "2024-07-16T19:30:59.284Z"
   },
   {
    "duration": 3,
    "start_time": "2024-07-16T19:31:27.780Z"
   },
   {
    "duration": 91,
    "start_time": "2024-07-16T19:31:27.940Z"
   },
   {
    "duration": 10,
    "start_time": "2024-07-16T19:31:28.078Z"
   },
   {
    "duration": 14,
    "start_time": "2024-07-16T19:31:28.229Z"
   },
   {
    "duration": 25,
    "start_time": "2024-07-16T19:31:28.338Z"
   },
   {
    "duration": 6,
    "start_time": "2024-07-16T19:31:28.523Z"
   },
   {
    "duration": 9,
    "start_time": "2024-07-16T19:31:28.667Z"
   },
   {
    "duration": 11,
    "start_time": "2024-07-16T19:31:28.837Z"
   },
   {
    "duration": 18,
    "start_time": "2024-07-16T19:31:29.437Z"
   },
   {
    "duration": 18,
    "start_time": "2024-07-16T19:31:29.605Z"
   },
   {
    "duration": 6,
    "start_time": "2024-07-16T19:31:29.813Z"
   },
   {
    "duration": 11,
    "start_time": "2024-07-16T19:31:30.029Z"
   },
   {
    "duration": 8,
    "start_time": "2024-07-16T19:31:30.222Z"
   },
   {
    "duration": 155,
    "start_time": "2024-07-16T19:31:30.364Z"
   },
   {
    "duration": 182,
    "start_time": "2024-07-16T19:31:30.535Z"
   },
   {
    "duration": 14,
    "start_time": "2024-07-16T19:31:30.863Z"
   },
   {
    "duration": 10,
    "start_time": "2024-07-16T19:31:31.012Z"
   },
   {
    "duration": 16,
    "start_time": "2024-07-16T19:31:31.188Z"
   },
   {
    "duration": 4,
    "start_time": "2024-07-16T19:31:31.977Z"
   },
   {
    "duration": 47,
    "start_time": "2024-07-16T19:31:32.402Z"
   },
   {
    "duration": 8,
    "start_time": "2024-07-16T19:31:32.866Z"
   },
   {
    "duration": 119,
    "start_time": "2024-07-16T19:31:33.662Z"
   },
   {
    "duration": 28,
    "start_time": "2024-07-16T19:31:34.399Z"
   },
   {
    "duration": 7,
    "start_time": "2024-07-16T19:31:34.592Z"
   },
   {
    "duration": 50,
    "start_time": "2024-07-16T19:31:35.549Z"
   },
   {
    "duration": 8,
    "start_time": "2024-07-16T19:31:35.934Z"
   },
   {
    "duration": 10,
    "start_time": "2024-07-16T19:31:38.698Z"
   },
   {
    "duration": 15,
    "start_time": "2024-07-16T19:31:39.883Z"
   },
   {
    "duration": 12,
    "start_time": "2024-07-16T19:31:52.097Z"
   },
   {
    "duration": 24,
    "start_time": "2024-07-16T19:31:53.238Z"
   },
   {
    "duration": 11,
    "start_time": "2024-07-16T19:33:07.838Z"
   },
   {
    "duration": 8,
    "start_time": "2024-07-16T19:33:27.255Z"
   },
   {
    "duration": 17,
    "start_time": "2024-07-16T19:33:48.599Z"
   },
   {
    "duration": 23,
    "start_time": "2024-07-16T19:34:02.560Z"
   },
   {
    "duration": 25,
    "start_time": "2024-07-16T19:36:10.942Z"
   },
   {
    "duration": 9,
    "start_time": "2024-07-16T19:37:35.964Z"
   },
   {
    "duration": 14,
    "start_time": "2024-07-16T19:37:51.259Z"
   },
   {
    "duration": 21,
    "start_time": "2024-07-16T19:37:58.821Z"
   },
   {
    "duration": 17,
    "start_time": "2024-07-16T19:38:21.020Z"
   },
   {
    "duration": 18,
    "start_time": "2024-07-16T19:39:02.962Z"
   },
   {
    "duration": 14,
    "start_time": "2024-07-16T19:39:25.240Z"
   },
   {
    "duration": 18,
    "start_time": "2024-07-16T19:39:35.061Z"
   },
   {
    "duration": 21,
    "start_time": "2024-07-16T19:41:05.566Z"
   },
   {
    "duration": 27,
    "start_time": "2024-07-16T19:41:29.499Z"
   },
   {
    "duration": 1021,
    "start_time": "2024-07-16T19:41:46.985Z"
   },
   {
    "duration": 17,
    "start_time": "2024-07-16T19:41:53.900Z"
   },
   {
    "duration": 3,
    "start_time": "2024-07-16T19:42:06.991Z"
   },
   {
    "duration": 92,
    "start_time": "2024-07-16T19:42:07.145Z"
   },
   {
    "duration": 9,
    "start_time": "2024-07-16T19:42:07.271Z"
   },
   {
    "duration": 14,
    "start_time": "2024-07-16T19:42:07.465Z"
   },
   {
    "duration": 26,
    "start_time": "2024-07-16T19:42:07.593Z"
   },
   {
    "duration": 6,
    "start_time": "2024-07-16T19:42:07.786Z"
   },
   {
    "duration": 9,
    "start_time": "2024-07-16T19:42:07.939Z"
   },
   {
    "duration": 14,
    "start_time": "2024-07-16T19:42:08.083Z"
   },
   {
    "duration": 18,
    "start_time": "2024-07-16T19:42:08.704Z"
   },
   {
    "duration": 19,
    "start_time": "2024-07-16T19:42:08.868Z"
   },
   {
    "duration": 6,
    "start_time": "2024-07-16T19:42:09.074Z"
   },
   {
    "duration": 10,
    "start_time": "2024-07-16T19:42:09.224Z"
   },
   {
    "duration": 8,
    "start_time": "2024-07-16T19:42:09.392Z"
   },
   {
    "duration": 5,
    "start_time": "2024-07-16T19:42:09.510Z"
   },
   {
    "duration": 4,
    "start_time": "2024-07-16T19:42:09.671Z"
   },
   {
    "duration": 15,
    "start_time": "2024-07-16T19:42:09.958Z"
   },
   {
    "duration": 10,
    "start_time": "2024-07-16T19:42:10.100Z"
   },
   {
    "duration": 14,
    "start_time": "2024-07-16T19:42:10.258Z"
   },
   {
    "duration": 4,
    "start_time": "2024-07-16T19:42:10.831Z"
   },
   {
    "duration": 48,
    "start_time": "2024-07-16T19:42:11.141Z"
   },
   {
    "duration": 8,
    "start_time": "2024-07-16T19:42:11.458Z"
   },
   {
    "duration": 91,
    "start_time": "2024-07-16T19:42:11.911Z"
   },
   {
    "duration": 29,
    "start_time": "2024-07-16T19:42:12.529Z"
   },
   {
    "duration": 8,
    "start_time": "2024-07-16T19:42:12.692Z"
   },
   {
    "duration": 48,
    "start_time": "2024-07-16T19:42:13.154Z"
   },
   {
    "duration": 7,
    "start_time": "2024-07-16T19:42:13.298Z"
   },
   {
    "duration": 9,
    "start_time": "2024-07-16T19:42:13.944Z"
   },
   {
    "duration": 16,
    "start_time": "2024-07-16T19:42:14.136Z"
   },
   {
    "duration": 8,
    "start_time": "2024-07-16T19:42:14.715Z"
   },
   {
    "duration": 23,
    "start_time": "2024-07-16T19:42:15.752Z"
   },
   {
    "duration": 6,
    "start_time": "2024-07-16T19:42:24.748Z"
   },
   {
    "duration": 4,
    "start_time": "2024-07-16T19:42:26.234Z"
   },
   {
    "duration": 1104,
    "start_time": "2024-07-16T19:42:27.210Z"
   },
   {
    "duration": 10,
    "start_time": "2024-07-16T19:48:33.106Z"
   },
   {
    "duration": 23,
    "start_time": "2024-07-16T19:48:40.551Z"
   },
   {
    "duration": 15,
    "start_time": "2024-07-16T19:48:54.158Z"
   },
   {
    "duration": 3,
    "start_time": "2024-07-16T19:49:35.757Z"
   },
   {
    "duration": 94,
    "start_time": "2024-07-16T19:49:35.935Z"
   },
   {
    "duration": 10,
    "start_time": "2024-07-16T19:49:36.113Z"
   },
   {
    "duration": 15,
    "start_time": "2024-07-16T19:49:36.269Z"
   },
   {
    "duration": 24,
    "start_time": "2024-07-16T19:49:36.477Z"
   },
   {
    "duration": 6,
    "start_time": "2024-07-16T19:49:36.675Z"
   },
   {
    "duration": 9,
    "start_time": "2024-07-16T19:49:36.894Z"
   },
   {
    "duration": 13,
    "start_time": "2024-07-16T19:49:37.108Z"
   },
   {
    "duration": 20,
    "start_time": "2024-07-16T19:49:38.094Z"
   },
   {
    "duration": 19,
    "start_time": "2024-07-16T19:49:38.246Z"
   },
   {
    "duration": 6,
    "start_time": "2024-07-16T19:49:38.413Z"
   },
   {
    "duration": 10,
    "start_time": "2024-07-16T19:49:38.609Z"
   },
   {
    "duration": 8,
    "start_time": "2024-07-16T19:49:38.834Z"
   },
   {
    "duration": 5,
    "start_time": "2024-07-16T19:49:39.072Z"
   },
   {
    "duration": 5,
    "start_time": "2024-07-16T19:49:39.294Z"
   },
   {
    "duration": 25,
    "start_time": "2024-07-16T19:49:39.853Z"
   },
   {
    "duration": 13,
    "start_time": "2024-07-16T19:49:40.089Z"
   },
   {
    "duration": 14,
    "start_time": "2024-07-16T19:49:40.345Z"
   },
   {
    "duration": 9,
    "start_time": "2024-07-16T19:49:41.395Z"
   },
   {
    "duration": 13,
    "start_time": "2024-07-16T19:49:41.993Z"
   },
   {
    "duration": 11,
    "start_time": "2024-07-16T19:49:43.108Z"
   },
   {
    "duration": 92,
    "start_time": "2024-07-16T19:49:44.213Z"
   },
   {
    "duration": 31,
    "start_time": "2024-07-16T19:49:45.342Z"
   },
   {
    "duration": 8,
    "start_time": "2024-07-16T19:49:45.615Z"
   },
   {
    "duration": 17,
    "start_time": "2024-07-16T19:49:46.469Z"
   },
   {
    "duration": 8,
    "start_time": "2024-07-16T19:49:47.114Z"
   },
   {
    "duration": 12,
    "start_time": "2024-07-16T19:49:54.595Z"
   },
   {
    "duration": 20,
    "start_time": "2024-07-16T19:49:55.615Z"
   },
   {
    "duration": 13,
    "start_time": "2024-07-16T20:01:13.839Z"
   },
   {
    "duration": 12,
    "start_time": "2024-07-16T20:01:30.419Z"
   },
   {
    "duration": 2,
    "start_time": "2024-07-16T20:01:44.978Z"
   },
   {
    "duration": 91,
    "start_time": "2024-07-16T20:01:45.836Z"
   },
   {
    "duration": 10,
    "start_time": "2024-07-16T20:01:46.375Z"
   },
   {
    "duration": 15,
    "start_time": "2024-07-16T20:01:46.834Z"
   },
   {
    "duration": 28,
    "start_time": "2024-07-16T20:01:47.547Z"
   },
   {
    "duration": 7,
    "start_time": "2024-07-16T20:01:48.775Z"
   },
   {
    "duration": 9,
    "start_time": "2024-07-16T20:01:50.051Z"
   },
   {
    "duration": 9,
    "start_time": "2024-07-16T20:01:51.928Z"
   },
   {
    "duration": 21,
    "start_time": "2024-07-16T20:01:57.095Z"
   },
   {
    "duration": 19,
    "start_time": "2024-07-16T20:01:57.857Z"
   },
   {
    "duration": 6,
    "start_time": "2024-07-16T20:01:58.118Z"
   },
   {
    "duration": 11,
    "start_time": "2024-07-16T20:01:58.349Z"
   },
   {
    "duration": 8,
    "start_time": "2024-07-16T20:01:58.518Z"
   },
   {
    "duration": 4,
    "start_time": "2024-07-16T20:01:58.718Z"
   },
   {
    "duration": 6,
    "start_time": "2024-07-16T20:01:58.877Z"
   },
   {
    "duration": 26,
    "start_time": "2024-07-16T20:01:59.276Z"
   },
   {
    "duration": 12,
    "start_time": "2024-07-16T20:01:59.516Z"
   },
   {
    "duration": 15,
    "start_time": "2024-07-16T20:02:00.068Z"
   },
   {
    "duration": 8,
    "start_time": "2024-07-16T20:02:05.737Z"
   },
   {
    "duration": 11,
    "start_time": "2024-07-16T20:02:07.239Z"
   },
   {
    "duration": 12,
    "start_time": "2024-07-16T20:02:23.737Z"
   },
   {
    "duration": 11,
    "start_time": "2024-07-16T20:02:30.994Z"
   },
   {
    "duration": 12,
    "start_time": "2024-07-16T20:02:51.424Z"
   },
   {
    "duration": 5,
    "start_time": "2024-07-16T20:03:07.997Z"
   },
   {
    "duration": 15,
    "start_time": "2024-07-16T20:06:05.999Z"
   },
   {
    "duration": 10,
    "start_time": "2024-07-16T20:06:06.192Z"
   },
   {
    "duration": 14,
    "start_time": "2024-07-16T20:06:06.357Z"
   },
   {
    "duration": 3,
    "start_time": "2024-07-16T20:06:10.587Z"
   },
   {
    "duration": 94,
    "start_time": "2024-07-16T20:06:10.750Z"
   },
   {
    "duration": 9,
    "start_time": "2024-07-16T20:06:10.936Z"
   },
   {
    "duration": 16,
    "start_time": "2024-07-16T20:06:11.175Z"
   },
   {
    "duration": 26,
    "start_time": "2024-07-16T20:06:11.375Z"
   },
   {
    "duration": 7,
    "start_time": "2024-07-16T20:06:11.595Z"
   },
   {
    "duration": 9,
    "start_time": "2024-07-16T20:06:11.818Z"
   },
   {
    "duration": 10,
    "start_time": "2024-07-16T20:06:12.195Z"
   },
   {
    "duration": 18,
    "start_time": "2024-07-16T20:06:14.157Z"
   },
   {
    "duration": 19,
    "start_time": "2024-07-16T20:06:14.577Z"
   },
   {
    "duration": 6,
    "start_time": "2024-07-16T20:06:14.758Z"
   },
   {
    "duration": 10,
    "start_time": "2024-07-16T20:06:14.987Z"
   },
   {
    "duration": 9,
    "start_time": "2024-07-16T20:06:15.177Z"
   },
   {
    "duration": 6,
    "start_time": "2024-07-16T20:06:15.391Z"
   },
   {
    "duration": 5,
    "start_time": "2024-07-16T20:06:15.635Z"
   },
   {
    "duration": 14,
    "start_time": "2024-07-16T20:06:17.260Z"
   },
   {
    "duration": 15,
    "start_time": "2024-07-16T20:06:17.637Z"
   },
   {
    "duration": 14,
    "start_time": "2024-07-16T20:06:17.838Z"
   },
   {
    "duration": 3,
    "start_time": "2024-07-16T20:06:19.838Z"
   },
   {
    "duration": 13,
    "start_time": "2024-07-16T20:06:22.117Z"
   },
   {
    "duration": 3,
    "start_time": "2024-07-16T20:08:54.287Z"
   },
   {
    "duration": 93,
    "start_time": "2024-07-16T20:08:54.387Z"
   },
   {
    "duration": 9,
    "start_time": "2024-07-16T20:08:54.528Z"
   },
   {
    "duration": 14,
    "start_time": "2024-07-16T20:08:54.707Z"
   },
   {
    "duration": 25,
    "start_time": "2024-07-16T20:08:54.928Z"
   },
   {
    "duration": 8,
    "start_time": "2024-07-16T20:08:55.108Z"
   },
   {
    "duration": 9,
    "start_time": "2024-07-16T20:08:55.267Z"
   },
   {
    "duration": 9,
    "start_time": "2024-07-16T20:08:55.406Z"
   },
   {
    "duration": 18,
    "start_time": "2024-07-16T20:08:56.108Z"
   },
   {
    "duration": 24,
    "start_time": "2024-07-16T20:08:56.389Z"
   },
   {
    "duration": 6,
    "start_time": "2024-07-16T20:08:56.585Z"
   },
   {
    "duration": 11,
    "start_time": "2024-07-16T20:08:56.825Z"
   },
   {
    "duration": 7,
    "start_time": "2024-07-16T20:08:56.989Z"
   },
   {
    "duration": 6,
    "start_time": "2024-07-16T20:08:57.120Z"
   },
   {
    "duration": 6,
    "start_time": "2024-07-16T20:08:57.286Z"
   },
   {
    "duration": 27,
    "start_time": "2024-07-16T20:08:57.747Z"
   },
   {
    "duration": 12,
    "start_time": "2024-07-16T20:08:58.383Z"
   },
   {
    "duration": 14,
    "start_time": "2024-07-16T20:08:59.047Z"
   },
   {
    "duration": 8,
    "start_time": "2024-07-16T20:09:03.196Z"
   },
   {
    "duration": 20,
    "start_time": "2024-07-16T20:09:04.764Z"
   },
   {
    "duration": 1012,
    "start_time": "2024-07-16T20:10:27.091Z"
   },
   {
    "duration": 321,
    "start_time": "2024-07-16T20:13:23.322Z"
   },
   {
    "duration": 2,
    "start_time": "2024-07-16T20:13:55.599Z"
   },
   {
    "duration": 94,
    "start_time": "2024-07-16T20:13:55.805Z"
   },
   {
    "duration": 9,
    "start_time": "2024-07-16T20:13:56.007Z"
   },
   {
    "duration": 14,
    "start_time": "2024-07-16T20:13:56.195Z"
   },
   {
    "duration": 25,
    "start_time": "2024-07-16T20:13:56.430Z"
   },
   {
    "duration": 6,
    "start_time": "2024-07-16T20:13:56.595Z"
   },
   {
    "duration": 9,
    "start_time": "2024-07-16T20:13:56.858Z"
   },
   {
    "duration": 11,
    "start_time": "2024-07-16T20:13:57.077Z"
   },
   {
    "duration": 18,
    "start_time": "2024-07-16T20:13:58.698Z"
   },
   {
    "duration": 24,
    "start_time": "2024-07-16T20:13:58.927Z"
   },
   {
    "duration": 6,
    "start_time": "2024-07-16T20:13:59.070Z"
   },
   {
    "duration": 11,
    "start_time": "2024-07-16T20:13:59.330Z"
   },
   {
    "duration": 8,
    "start_time": "2024-07-16T20:13:59.410Z"
   },
   {
    "duration": 5,
    "start_time": "2024-07-16T20:13:59.587Z"
   },
   {
    "duration": 5,
    "start_time": "2024-07-16T20:13:59.790Z"
   },
   {
    "duration": 26,
    "start_time": "2024-07-16T20:14:00.240Z"
   },
   {
    "duration": 13,
    "start_time": "2024-07-16T20:14:00.556Z"
   },
   {
    "duration": 15,
    "start_time": "2024-07-16T20:14:00.920Z"
   },
   {
    "duration": 8,
    "start_time": "2024-07-16T20:14:02.021Z"
   },
   {
    "duration": 265,
    "start_time": "2024-07-16T20:14:03.680Z"
   },
   {
    "duration": 11,
    "start_time": "2024-07-16T20:14:06.478Z"
   },
   {
    "duration": 7,
    "start_time": "2024-07-16T20:14:33.366Z"
   },
   {
    "duration": 8,
    "start_time": "2024-07-16T20:15:02.044Z"
   },
   {
    "duration": 6,
    "start_time": "2024-07-16T20:15:11.844Z"
   },
   {
    "duration": 6,
    "start_time": "2024-07-16T20:15:16.988Z"
   },
   {
    "duration": 93,
    "start_time": "2024-07-16T20:15:20.487Z"
   },
   {
    "duration": 30,
    "start_time": "2024-07-16T20:15:25.426Z"
   },
   {
    "duration": 30,
    "start_time": "2024-07-16T20:15:44.655Z"
   },
   {
    "duration": 8,
    "start_time": "2024-07-16T20:15:46.810Z"
   },
   {
    "duration": 1107,
    "start_time": "2024-07-16T20:15:56.846Z"
   },
   {
    "duration": 94,
    "start_time": "2024-07-16T20:15:57.955Z"
   },
   {
    "duration": 12,
    "start_time": "2024-07-16T20:15:58.050Z"
   },
   {
    "duration": 14,
    "start_time": "2024-07-16T20:15:58.064Z"
   },
   {
    "duration": 28,
    "start_time": "2024-07-16T20:15:58.079Z"
   },
   {
    "duration": 6,
    "start_time": "2024-07-16T20:15:58.108Z"
   },
   {
    "duration": 11,
    "start_time": "2024-07-16T20:15:58.115Z"
   },
   {
    "duration": 18,
    "start_time": "2024-07-16T20:15:58.127Z"
   },
   {
    "duration": 34,
    "start_time": "2024-07-16T20:15:58.146Z"
   },
   {
    "duration": 20,
    "start_time": "2024-07-16T20:15:58.182Z"
   },
   {
    "duration": 6,
    "start_time": "2024-07-16T20:15:58.204Z"
   },
   {
    "duration": 19,
    "start_time": "2024-07-16T20:15:58.211Z"
   },
   {
    "duration": 8,
    "start_time": "2024-07-16T20:15:58.231Z"
   },
   {
    "duration": 17,
    "start_time": "2024-07-16T20:15:58.240Z"
   },
   {
    "duration": 13,
    "start_time": "2024-07-16T20:15:58.258Z"
   },
   {
    "duration": 39,
    "start_time": "2024-07-16T20:15:58.272Z"
   },
   {
    "duration": 11,
    "start_time": "2024-07-16T20:15:58.313Z"
   },
   {
    "duration": 12,
    "start_time": "2024-07-16T20:15:58.325Z"
   },
   {
    "duration": 7,
    "start_time": "2024-07-16T20:15:58.338Z"
   },
   {
    "duration": 284,
    "start_time": "2024-07-16T20:15:58.347Z"
   },
   {
    "duration": 8,
    "start_time": "2024-07-16T20:15:58.632Z"
   },
   {
    "duration": 105,
    "start_time": "2024-07-16T20:15:58.641Z"
   },
   {
    "duration": 185,
    "start_time": "2024-07-16T20:15:58.747Z"
   },
   {
    "duration": 8,
    "start_time": "2024-07-16T20:15:58.934Z"
   },
   {
    "duration": 334,
    "start_time": "2024-07-16T20:15:58.943Z"
   },
   {
    "duration": 7,
    "start_time": "2024-07-16T20:15:59.279Z"
   },
   {
    "duration": 160,
    "start_time": "2024-07-16T20:15:59.287Z"
   },
   {
    "duration": 0,
    "start_time": "2024-07-16T20:15:59.449Z"
   },
   {
    "duration": 0,
    "start_time": "2024-07-16T20:15:59.450Z"
   },
   {
    "duration": 0,
    "start_time": "2024-07-16T20:15:59.450Z"
   },
   {
    "duration": 0,
    "start_time": "2024-07-16T20:15:59.451Z"
   },
   {
    "duration": 0,
    "start_time": "2024-07-16T20:15:59.452Z"
   },
   {
    "duration": 0,
    "start_time": "2024-07-16T20:15:59.453Z"
   },
   {
    "duration": 9,
    "start_time": "2024-07-16T20:16:53.711Z"
   },
   {
    "duration": 12,
    "start_time": "2024-07-16T20:17:03.729Z"
   },
   {
    "duration": 12,
    "start_time": "2024-07-16T20:17:12.614Z"
   },
   {
    "duration": 42,
    "start_time": "2024-07-16T20:17:15.122Z"
   },
   {
    "duration": 13,
    "start_time": "2024-07-16T20:17:17.222Z"
   },
   {
    "duration": 4,
    "start_time": "2024-07-16T20:17:21.793Z"
   },
   {
    "duration": 20,
    "start_time": "2024-07-16T20:17:23.461Z"
   },
   {
    "duration": 4,
    "start_time": "2024-07-16T20:19:07.247Z"
   },
   {
    "duration": 3,
    "start_time": "2024-07-16T20:19:07.753Z"
   },
   {
    "duration": 3,
    "start_time": "2024-07-16T20:19:08.186Z"
   },
   {
    "duration": 9,
    "start_time": "2024-07-16T20:19:42.129Z"
   },
   {
    "duration": 24,
    "start_time": "2024-07-16T20:19:53.884Z"
   },
   {
    "duration": 10,
    "start_time": "2024-07-16T20:20:04.781Z"
   },
   {
    "duration": 59,
    "start_time": "2024-07-16T20:20:38.590Z"
   },
   {
    "duration": 10,
    "start_time": "2024-07-16T20:20:44.521Z"
   },
   {
    "duration": 16,
    "start_time": "2024-07-16T20:20:54.961Z"
   },
   {
    "duration": 4,
    "start_time": "2024-07-16T20:21:23.789Z"
   },
   {
    "duration": 29,
    "start_time": "2024-07-16T20:21:24.559Z"
   },
   {
    "duration": 3,
    "start_time": "2024-07-16T20:21:26.123Z"
   },
   {
    "duration": 4,
    "start_time": "2024-07-16T20:21:26.505Z"
   },
   {
    "duration": 3,
    "start_time": "2024-07-16T20:21:27.084Z"
   },
   {
    "duration": 23,
    "start_time": "2024-07-16T20:21:27.448Z"
   },
   {
    "duration": 16,
    "start_time": "2024-07-16T20:22:16.643Z"
   },
   {
    "duration": 10,
    "start_time": "2024-07-16T20:22:36.773Z"
   },
   {
    "duration": 10,
    "start_time": "2024-07-16T20:22:42.002Z"
   },
   {
    "duration": 2,
    "start_time": "2024-07-16T20:25:47.953Z"
   },
   {
    "duration": 94,
    "start_time": "2024-07-16T20:25:48.113Z"
   },
   {
    "duration": 9,
    "start_time": "2024-07-16T20:25:48.253Z"
   },
   {
    "duration": 16,
    "start_time": "2024-07-16T20:25:48.400Z"
   },
   {
    "duration": 26,
    "start_time": "2024-07-16T20:25:48.538Z"
   },
   {
    "duration": 6,
    "start_time": "2024-07-16T20:25:48.693Z"
   },
   {
    "duration": 9,
    "start_time": "2024-07-16T20:25:48.832Z"
   },
   {
    "duration": 10,
    "start_time": "2024-07-16T20:25:48.984Z"
   },
   {
    "duration": 18,
    "start_time": "2024-07-16T20:25:49.623Z"
   },
   {
    "duration": 20,
    "start_time": "2024-07-16T20:25:49.794Z"
   },
   {
    "duration": 7,
    "start_time": "2024-07-16T20:25:49.934Z"
   },
   {
    "duration": 10,
    "start_time": "2024-07-16T20:25:50.086Z"
   },
   {
    "duration": 8,
    "start_time": "2024-07-16T20:25:50.242Z"
   },
   {
    "duration": 4,
    "start_time": "2024-07-16T20:25:50.415Z"
   },
   {
    "duration": 5,
    "start_time": "2024-07-16T20:25:50.553Z"
   },
   {
    "duration": 24,
    "start_time": "2024-07-16T20:25:50.874Z"
   },
   {
    "duration": 12,
    "start_time": "2024-07-16T20:25:51.055Z"
   },
   {
    "duration": 14,
    "start_time": "2024-07-16T20:25:51.171Z"
   },
   {
    "duration": 8,
    "start_time": "2024-07-16T20:25:51.851Z"
   },
   {
    "duration": 212,
    "start_time": "2024-07-16T20:25:52.235Z"
   },
   {
    "duration": 8,
    "start_time": "2024-07-16T20:25:52.657Z"
   },
   {
    "duration": 89,
    "start_time": "2024-07-16T20:25:53.367Z"
   },
   {
    "duration": 29,
    "start_time": "2024-07-16T20:25:54.367Z"
   },
   {
    "duration": 8,
    "start_time": "2024-07-16T20:25:54.553Z"
   },
   {
    "duration": 49,
    "start_time": "2024-07-16T20:25:56.828Z"
   },
   {
    "duration": 8,
    "start_time": "2024-07-16T20:25:57.393Z"
   },
   {
    "duration": 7,
    "start_time": "2024-07-16T20:26:00.892Z"
   },
   {
    "duration": 10,
    "start_time": "2024-07-16T20:26:01.672Z"
   },
   {
    "duration": 11,
    "start_time": "2024-07-16T20:26:07.134Z"
   },
   {
    "duration": 39,
    "start_time": "2024-07-16T20:26:08.667Z"
   },
   {
    "duration": 9,
    "start_time": "2024-07-16T20:26:09.656Z"
   },
   {
    "duration": 5,
    "start_time": "2024-07-16T20:26:15.935Z"
   },
   {
    "duration": 25,
    "start_time": "2024-07-16T20:26:17.057Z"
   },
   {
    "duration": 3,
    "start_time": "2024-07-16T20:26:18.845Z"
   },
   {
    "duration": 4,
    "start_time": "2024-07-16T20:26:19.825Z"
   },
   {
    "duration": 3,
    "start_time": "2024-07-16T20:26:20.319Z"
   },
   {
    "duration": 29,
    "start_time": "2024-07-16T20:26:20.892Z"
   },
   {
    "duration": 10,
    "start_time": "2024-07-16T20:26:21.731Z"
   },
   {
    "duration": 10,
    "start_time": "2024-07-16T20:26:26.134Z"
   },
   {
    "duration": 12,
    "start_time": "2024-07-16T20:27:04.773Z"
   },
   {
    "duration": 16,
    "start_time": "2024-07-16T20:30:10.891Z"
   },
   {
    "duration": 18,
    "start_time": "2024-07-16T20:30:11.616Z"
   },
   {
    "duration": 62,
    "start_time": "2024-07-16T20:34:14.243Z"
   },
   {
    "duration": 44,
    "start_time": "2024-07-17T14:25:13.701Z"
   },
   {
    "duration": 1288,
    "start_time": "2024-07-17T14:25:21.797Z"
   },
   {
    "duration": 449,
    "start_time": "2024-07-17T14:25:23.086Z"
   },
   {
    "duration": 15,
    "start_time": "2024-07-17T14:25:23.537Z"
   },
   {
    "duration": 20,
    "start_time": "2024-07-17T14:25:23.554Z"
   },
   {
    "duration": 26,
    "start_time": "2024-07-17T14:25:23.575Z"
   },
   {
    "duration": 6,
    "start_time": "2024-07-17T14:25:23.602Z"
   },
   {
    "duration": 10,
    "start_time": "2024-07-17T14:25:23.609Z"
   },
   {
    "duration": 10,
    "start_time": "2024-07-17T14:25:23.620Z"
   },
   {
    "duration": 26,
    "start_time": "2024-07-17T14:25:23.631Z"
   },
   {
    "duration": 37,
    "start_time": "2024-07-17T14:25:23.660Z"
   },
   {
    "duration": 7,
    "start_time": "2024-07-17T14:25:23.698Z"
   },
   {
    "duration": 12,
    "start_time": "2024-07-17T14:25:23.706Z"
   },
   {
    "duration": 9,
    "start_time": "2024-07-17T14:25:23.719Z"
   },
   {
    "duration": 5,
    "start_time": "2024-07-17T14:25:23.729Z"
   },
   {
    "duration": 5,
    "start_time": "2024-07-17T14:25:23.736Z"
   },
   {
    "duration": 65,
    "start_time": "2024-07-17T14:25:23.742Z"
   },
   {
    "duration": 14,
    "start_time": "2024-07-17T14:25:23.809Z"
   },
   {
    "duration": 13,
    "start_time": "2024-07-17T14:25:23.824Z"
   },
   {
    "duration": 8,
    "start_time": "2024-07-17T14:25:23.839Z"
   },
   {
    "duration": 313,
    "start_time": "2024-07-17T14:25:23.849Z"
   },
   {
    "duration": 7,
    "start_time": "2024-07-17T14:25:24.164Z"
   },
   {
    "duration": 91,
    "start_time": "2024-07-17T14:25:24.185Z"
   },
   {
    "duration": 4,
    "start_time": "2024-07-17T14:30:10.584Z"
   },
   {
    "duration": 104,
    "start_time": "2024-07-17T14:30:11.160Z"
   },
   {
    "duration": 9,
    "start_time": "2024-07-17T14:30:12.369Z"
   },
   {
    "duration": 16,
    "start_time": "2024-07-17T14:30:13.639Z"
   },
   {
    "duration": 26,
    "start_time": "2024-07-17T14:30:14.583Z"
   },
   {
    "duration": 7,
    "start_time": "2024-07-17T14:30:21.258Z"
   },
   {
    "duration": 11,
    "start_time": "2024-07-17T14:30:21.879Z"
   },
   {
    "duration": 10,
    "start_time": "2024-07-17T14:30:22.318Z"
   },
   {
    "duration": 17,
    "start_time": "2024-07-17T14:30:23.836Z"
   },
   {
    "duration": 19,
    "start_time": "2024-07-17T14:30:24.341Z"
   },
   {
    "duration": 6,
    "start_time": "2024-07-17T14:30:24.829Z"
   },
   {
    "duration": 11,
    "start_time": "2024-07-17T14:30:25.221Z"
   },
   {
    "duration": 8,
    "start_time": "2024-07-17T14:30:25.659Z"
   },
   {
    "duration": 5,
    "start_time": "2024-07-17T14:30:26.092Z"
   },
   {
    "duration": 5,
    "start_time": "2024-07-17T14:30:26.589Z"
   },
   {
    "duration": 30,
    "start_time": "2024-07-17T14:30:27.790Z"
   },
   {
    "duration": 14,
    "start_time": "2024-07-17T14:30:28.311Z"
   },
   {
    "duration": 14,
    "start_time": "2024-07-17T14:30:28.652Z"
   },
   {
    "duration": 9,
    "start_time": "2024-07-17T14:30:31.673Z"
   },
   {
    "duration": 198,
    "start_time": "2024-07-17T14:30:32.715Z"
   },
   {
    "duration": 7,
    "start_time": "2024-07-17T14:30:33.814Z"
   },
   {
    "duration": 88,
    "start_time": "2024-07-17T14:30:35.062Z"
   },
   {
    "duration": 30,
    "start_time": "2024-07-17T14:30:36.381Z"
   },
   {
    "duration": 8,
    "start_time": "2024-07-17T14:30:36.740Z"
   },
   {
    "duration": 49,
    "start_time": "2024-07-17T14:30:38.978Z"
   },
   {
    "duration": 8,
    "start_time": "2024-07-17T14:30:39.191Z"
   },
   {
    "duration": 9,
    "start_time": "2024-07-17T14:30:40.406Z"
   },
   {
    "duration": 10,
    "start_time": "2024-07-17T14:30:40.648Z"
   },
   {
    "duration": 10,
    "start_time": "2024-07-17T14:30:41.374Z"
   },
   {
    "duration": 35,
    "start_time": "2024-07-17T14:30:41.705Z"
   },
   {
    "duration": 8,
    "start_time": "2024-07-17T14:30:41.939Z"
   },
   {
    "duration": 4,
    "start_time": "2024-07-17T14:30:42.412Z"
   },
   {
    "duration": 21,
    "start_time": "2024-07-17T14:30:42.771Z"
   },
   {
    "duration": 4,
    "start_time": "2024-07-17T14:30:43.237Z"
   },
   {
    "duration": 4,
    "start_time": "2024-07-17T14:30:43.427Z"
   },
   {
    "duration": 3,
    "start_time": "2024-07-17T14:30:43.859Z"
   },
   {
    "duration": 32,
    "start_time": "2024-07-17T14:30:44.079Z"
   },
   {
    "duration": 12,
    "start_time": "2024-07-17T14:30:44.389Z"
   },
   {
    "duration": 10,
    "start_time": "2024-07-17T14:30:44.651Z"
   },
   {
    "duration": 17,
    "start_time": "2024-07-17T14:30:46.070Z"
   },
   {
    "duration": 12,
    "start_time": "2024-07-17T14:30:46.366Z"
   },
   {
    "duration": 7,
    "start_time": "2024-07-17T14:30:46.797Z"
   },
   {
    "duration": 4,
    "start_time": "2024-07-17T14:31:03.526Z"
   },
   {
    "duration": 4,
    "start_time": "2024-07-17T14:31:08.129Z"
   },
   {
    "duration": 11,
    "start_time": "2024-07-17T14:32:53.969Z"
   },
   {
    "duration": 3,
    "start_time": "2024-07-17T14:33:55.278Z"
   },
   {
    "duration": 106,
    "start_time": "2024-07-17T14:33:55.485Z"
   },
   {
    "duration": 11,
    "start_time": "2024-07-17T14:33:55.793Z"
   },
   {
    "duration": 16,
    "start_time": "2024-07-17T14:33:56.003Z"
   },
   {
    "duration": 25,
    "start_time": "2024-07-17T14:33:56.180Z"
   },
   {
    "duration": 6,
    "start_time": "2024-07-17T14:33:56.511Z"
   },
   {
    "duration": 8,
    "start_time": "2024-07-17T14:33:56.542Z"
   },
   {
    "duration": 10,
    "start_time": "2024-07-17T14:33:56.704Z"
   },
   {
    "duration": 18,
    "start_time": "2024-07-17T14:33:57.247Z"
   },
   {
    "duration": 19,
    "start_time": "2024-07-17T14:33:57.404Z"
   },
   {
    "duration": 5,
    "start_time": "2024-07-17T14:33:57.565Z"
   },
   {
    "duration": 12,
    "start_time": "2024-07-17T14:33:57.702Z"
   },
   {
    "duration": 9,
    "start_time": "2024-07-17T14:33:57.865Z"
   },
   {
    "duration": 5,
    "start_time": "2024-07-17T14:33:58.036Z"
   },
   {
    "duration": 5,
    "start_time": "2024-07-17T14:33:58.164Z"
   },
   {
    "duration": 27,
    "start_time": "2024-07-17T14:33:58.479Z"
   },
   {
    "duration": 13,
    "start_time": "2024-07-17T14:33:58.619Z"
   },
   {
    "duration": 14,
    "start_time": "2024-07-17T14:33:58.773Z"
   },
   {
    "duration": 9,
    "start_time": "2024-07-17T14:33:59.426Z"
   },
   {
    "duration": 228,
    "start_time": "2024-07-17T14:33:59.788Z"
   },
   {
    "duration": 7,
    "start_time": "2024-07-17T14:34:00.094Z"
   },
   {
    "duration": 90,
    "start_time": "2024-07-17T14:34:00.722Z"
   },
   {
    "duration": 30,
    "start_time": "2024-07-17T14:34:05.139Z"
   },
   {
    "duration": 8,
    "start_time": "2024-07-17T14:34:14.550Z"
   },
   {
    "duration": 58,
    "start_time": "2024-07-17T14:34:15.726Z"
   },
   {
    "duration": 8,
    "start_time": "2024-07-17T14:34:16.112Z"
   },
   {
    "duration": 8,
    "start_time": "2024-07-17T14:34:18.111Z"
   },
   {
    "duration": 9,
    "start_time": "2024-07-17T14:34:18.720Z"
   },
   {
    "duration": 11,
    "start_time": "2024-07-17T14:34:19.998Z"
   },
   {
    "duration": 37,
    "start_time": "2024-07-17T14:34:43.812Z"
   },
   {
    "duration": 8,
    "start_time": "2024-07-17T14:34:43.850Z"
   },
   {
    "duration": 16,
    "start_time": "2024-07-17T14:34:43.859Z"
   },
   {
    "duration": 22,
    "start_time": "2024-07-17T14:34:43.877Z"
   },
   {
    "duration": 4,
    "start_time": "2024-07-17T14:34:43.900Z"
   },
   {
    "duration": 3,
    "start_time": "2024-07-17T14:34:59.317Z"
   },
   {
    "duration": 17,
    "start_time": "2024-07-17T14:34:59.322Z"
   },
   {
    "duration": 25,
    "start_time": "2024-07-17T14:35:00.429Z"
   },
   {
    "duration": 48,
    "start_time": "2024-07-17T14:35:00.455Z"
   },
   {
    "duration": 11,
    "start_time": "2024-07-17T14:35:00.691Z"
   },
   {
    "duration": 32,
    "start_time": "2024-07-17T14:35:00.703Z"
   },
   {
    "duration": 30,
    "start_time": "2024-07-17T14:35:00.736Z"
   },
   {
    "duration": 11,
    "start_time": "2024-07-17T14:35:00.965Z"
   },
   {
    "duration": 93,
    "start_time": "2024-07-17T14:36:51.274Z"
   },
   {
    "duration": 5,
    "start_time": "2024-07-17T14:36:58.351Z"
   },
   {
    "duration": 5,
    "start_time": "2024-07-17T14:37:42.761Z"
   },
   {
    "duration": 12,
    "start_time": "2024-07-17T14:37:47.453Z"
   },
   {
    "duration": 12,
    "start_time": "2024-07-17T14:38:19.435Z"
   },
   {
    "duration": 4,
    "start_time": "2024-07-17T14:41:26.742Z"
   },
   {
    "duration": 4,
    "start_time": "2024-07-17T14:41:43.643Z"
   },
   {
    "duration": 4,
    "start_time": "2024-07-17T14:42:04.000Z"
   },
   {
    "duration": 3,
    "start_time": "2024-07-17T14:43:35.251Z"
   },
   {
    "duration": 4,
    "start_time": "2024-07-17T14:44:09.701Z"
   },
   {
    "duration": 5,
    "start_time": "2024-07-17T14:46:49.902Z"
   },
   {
    "duration": 5,
    "start_time": "2024-07-17T14:47:29.004Z"
   },
   {
    "duration": 3,
    "start_time": "2024-07-17T14:47:31.573Z"
   },
   {
    "duration": 18,
    "start_time": "2024-07-17T14:50:24.654Z"
   },
   {
    "duration": 12,
    "start_time": "2024-07-17T14:50:24.879Z"
   },
   {
    "duration": 4,
    "start_time": "2024-07-17T14:50:26.625Z"
   },
   {
    "duration": 12,
    "start_time": "2024-07-17T14:50:33.959Z"
   },
   {
    "duration": 17,
    "start_time": "2024-07-17T14:50:33.972Z"
   },
   {
    "duration": 8,
    "start_time": "2024-07-17T14:50:33.990Z"
   },
   {
    "duration": 4,
    "start_time": "2024-07-17T14:50:35.869Z"
   },
   {
    "duration": 7,
    "start_time": "2024-07-17T14:50:35.875Z"
   },
   {
    "duration": 3,
    "start_time": "2024-07-17T14:50:36.925Z"
   },
   {
    "duration": 12,
    "start_time": "2024-07-17T14:50:36.929Z"
   },
   {
    "duration": 441,
    "start_time": "2024-07-17T14:54:53.151Z"
   },
   {
    "duration": 367,
    "start_time": "2024-07-17T14:55:47.312Z"
   },
   {
    "duration": 724,
    "start_time": "2024-07-17T14:56:16.465Z"
   },
   {
    "duration": 1079,
    "start_time": "2024-07-17T14:57:08.663Z"
   },
   {
    "duration": 1016,
    "start_time": "2024-07-17T14:57:23.665Z"
   },
   {
    "duration": 601,
    "start_time": "2024-07-17T14:57:58.465Z"
   },
   {
    "duration": 14,
    "start_time": "2024-07-17T14:58:18.842Z"
   },
   {
    "duration": 3,
    "start_time": "2024-07-17T14:58:41.694Z"
   },
   {
    "duration": 13,
    "start_time": "2024-07-17T15:00:08.343Z"
   },
   {
    "duration": 9,
    "start_time": "2024-07-17T15:00:29.923Z"
   },
   {
    "duration": 104,
    "start_time": "2024-07-17T15:00:31.923Z"
   },
   {
    "duration": 13,
    "start_time": "2024-07-17T15:29:41.625Z"
   },
   {
    "duration": 8,
    "start_time": "2024-07-17T15:30:33.981Z"
   },
   {
    "duration": 21,
    "start_time": "2024-07-17T15:30:48.941Z"
   },
   {
    "duration": 21,
    "start_time": "2024-07-17T15:32:12.777Z"
   },
   {
    "duration": 19,
    "start_time": "2024-07-17T15:32:38.013Z"
   },
   {
    "duration": 1399,
    "start_time": "2024-07-17T20:34:47.787Z"
   },
   {
    "duration": 408,
    "start_time": "2024-07-17T20:34:49.188Z"
   },
   {
    "duration": 15,
    "start_time": "2024-07-17T20:34:51.708Z"
   },
   {
    "duration": 20,
    "start_time": "2024-07-17T20:34:53.168Z"
   },
   {
    "duration": 34,
    "start_time": "2024-07-17T20:34:54.292Z"
   },
   {
    "duration": 7,
    "start_time": "2024-07-17T20:34:55.105Z"
   },
   {
    "duration": 9,
    "start_time": "2024-07-17T20:34:55.741Z"
   },
   {
    "duration": 10,
    "start_time": "2024-07-17T20:34:56.546Z"
   },
   {
    "duration": 20,
    "start_time": "2024-07-17T20:34:58.544Z"
   },
   {
    "duration": 22,
    "start_time": "2024-07-17T20:34:58.870Z"
   },
   {
    "duration": 7,
    "start_time": "2024-07-17T20:34:59.159Z"
   },
   {
    "duration": 12,
    "start_time": "2024-07-17T20:34:59.364Z"
   },
   {
    "duration": 8,
    "start_time": "2024-07-17T20:34:59.621Z"
   },
   {
    "duration": 5,
    "start_time": "2024-07-17T20:34:59.843Z"
   },
   {
    "duration": 5,
    "start_time": "2024-07-17T20:35:00.069Z"
   },
   {
    "duration": 32,
    "start_time": "2024-07-17T20:35:00.418Z"
   },
   {
    "duration": 14,
    "start_time": "2024-07-17T20:35:00.708Z"
   },
   {
    "duration": 14,
    "start_time": "2024-07-17T20:35:00.891Z"
   },
   {
    "duration": 10,
    "start_time": "2024-07-17T20:35:01.699Z"
   },
   {
    "duration": 263,
    "start_time": "2024-07-17T20:35:02.083Z"
   },
   {
    "duration": 11,
    "start_time": "2024-07-17T20:35:02.805Z"
   },
   {
    "duration": 100,
    "start_time": "2024-07-17T20:35:03.322Z"
   },
   {
    "duration": 143,
    "start_time": "2024-07-17T20:36:22.702Z"
   },
   {
    "duration": 0,
    "start_time": "2024-07-17T20:36:22.846Z"
   },
   {
    "duration": 2,
    "start_time": "2024-07-17T20:36:33.032Z"
   },
   {
    "duration": 100,
    "start_time": "2024-07-17T20:36:34.166Z"
   },
   {
    "duration": 10,
    "start_time": "2024-07-17T20:36:35.316Z"
   },
   {
    "duration": 16,
    "start_time": "2024-07-17T20:36:36.606Z"
   },
   {
    "duration": 28,
    "start_time": "2024-07-17T20:36:37.590Z"
   },
   {
    "duration": 8,
    "start_time": "2024-07-17T20:36:38.094Z"
   },
   {
    "duration": 9,
    "start_time": "2024-07-17T20:36:38.497Z"
   },
   {
    "duration": 10,
    "start_time": "2024-07-17T20:36:38.648Z"
   },
   {
    "duration": 18,
    "start_time": "2024-07-17T20:36:39.306Z"
   },
   {
    "duration": 20,
    "start_time": "2024-07-17T20:36:39.536Z"
   },
   {
    "duration": 5,
    "start_time": "2024-07-17T20:36:39.711Z"
   },
   {
    "duration": 11,
    "start_time": "2024-07-17T20:36:39.882Z"
   },
   {
    "duration": 8,
    "start_time": "2024-07-17T20:36:40.043Z"
   },
   {
    "duration": 7,
    "start_time": "2024-07-17T20:36:40.208Z"
   },
   {
    "duration": 6,
    "start_time": "2024-07-17T20:36:40.377Z"
   },
   {
    "duration": 27,
    "start_time": "2024-07-17T20:36:40.777Z"
   },
   {
    "duration": 13,
    "start_time": "2024-07-17T20:36:40.904Z"
   },
   {
    "duration": 13,
    "start_time": "2024-07-17T20:36:41.096Z"
   },
   {
    "duration": 10,
    "start_time": "2024-07-17T20:36:41.896Z"
   },
   {
    "duration": 204,
    "start_time": "2024-07-17T20:36:42.803Z"
   },
   {
    "duration": 8,
    "start_time": "2024-07-17T20:36:44.053Z"
   },
   {
    "duration": 92,
    "start_time": "2024-07-17T20:36:44.984Z"
   },
   {
    "duration": 32,
    "start_time": "2024-07-17T20:36:45.542Z"
   },
   {
    "duration": 9,
    "start_time": "2024-07-17T20:36:46.785Z"
   },
   {
    "duration": 50,
    "start_time": "2024-07-17T20:36:49.375Z"
   },
   {
    "duration": 8,
    "start_time": "2024-07-17T20:36:50.280Z"
   },
   {
    "duration": 9,
    "start_time": "2024-07-17T20:36:54.180Z"
   },
   {
    "duration": 11,
    "start_time": "2024-07-17T20:36:54.860Z"
   },
   {
    "duration": 11,
    "start_time": "2024-07-17T20:36:56.539Z"
   },
   {
    "duration": 39,
    "start_time": "2024-07-17T20:36:58.500Z"
   },
   {
    "duration": 9,
    "start_time": "2024-07-17T20:36:59.365Z"
   },
   {
    "duration": 5,
    "start_time": "2024-07-17T20:37:00.153Z"
   },
   {
    "duration": 21,
    "start_time": "2024-07-17T20:37:00.957Z"
   },
   {
    "duration": 4,
    "start_time": "2024-07-17T20:37:02.397Z"
   },
   {
    "duration": 3,
    "start_time": "2024-07-17T20:37:03.314Z"
   },
   {
    "duration": 4,
    "start_time": "2024-07-17T20:37:04.133Z"
   },
   {
    "duration": 24,
    "start_time": "2024-07-17T20:37:04.866Z"
   },
   {
    "duration": 12,
    "start_time": "2024-07-17T20:37:06.314Z"
   },
   {
    "duration": 11,
    "start_time": "2024-07-17T20:37:08.858Z"
   },
   {
    "duration": 18,
    "start_time": "2024-07-17T20:37:25.121Z"
   },
   {
    "duration": 13,
    "start_time": "2024-07-17T20:37:27.662Z"
   },
   {
    "duration": 5,
    "start_time": "2024-07-17T20:37:30.495Z"
   },
   {
    "duration": 15,
    "start_time": "2024-07-17T20:37:31.197Z"
   },
   {
    "duration": 13,
    "start_time": "2024-07-17T20:37:31.800Z"
   },
   {
    "duration": 5,
    "start_time": "2024-07-17T20:37:46.534Z"
   },
   {
    "duration": 4,
    "start_time": "2024-07-17T20:37:47.797Z"
   },
   {
    "duration": 5,
    "start_time": "2024-07-17T20:37:52.547Z"
   },
   {
    "duration": 4,
    "start_time": "2024-07-17T20:37:53.825Z"
   },
   {
    "duration": 4,
    "start_time": "2024-07-17T20:37:54.758Z"
   },
   {
    "duration": 20,
    "start_time": "2024-07-17T20:37:59.071Z"
   },
   {
    "duration": 17,
    "start_time": "2024-07-17T20:39:58.213Z"
   },
   {
    "duration": 17,
    "start_time": "2024-07-17T20:45:56.791Z"
   },
   {
    "duration": 12,
    "start_time": "2024-07-17T20:46:29.412Z"
   },
   {
    "duration": 16,
    "start_time": "2024-07-17T20:47:01.724Z"
   },
   {
    "duration": 5,
    "start_time": "2024-07-17T20:48:07.220Z"
   },
   {
    "duration": 18,
    "start_time": "2024-07-17T20:49:44.883Z"
   },
   {
    "duration": 3,
    "start_time": "2024-07-17T21:08:29.926Z"
   },
   {
    "duration": 100,
    "start_time": "2024-07-17T21:08:30.866Z"
   },
   {
    "duration": 10,
    "start_time": "2024-07-17T21:08:31.446Z"
   },
   {
    "duration": 18,
    "start_time": "2024-07-17T21:08:32.034Z"
   },
   {
    "duration": 31,
    "start_time": "2024-07-17T21:08:32.417Z"
   },
   {
    "duration": 6,
    "start_time": "2024-07-17T21:08:32.604Z"
   },
   {
    "duration": 9,
    "start_time": "2024-07-17T21:08:32.785Z"
   },
   {
    "duration": 10,
    "start_time": "2024-07-17T21:08:32.991Z"
   },
   {
    "duration": 24,
    "start_time": "2024-07-17T21:08:33.605Z"
   },
   {
    "duration": 19,
    "start_time": "2024-07-17T21:08:33.715Z"
   },
   {
    "duration": 6,
    "start_time": "2024-07-17T21:08:33.905Z"
   },
   {
    "duration": 12,
    "start_time": "2024-07-17T21:08:34.055Z"
   },
   {
    "duration": 8,
    "start_time": "2024-07-17T21:08:34.185Z"
   },
   {
    "duration": 6,
    "start_time": "2024-07-17T21:08:34.336Z"
   },
   {
    "duration": 5,
    "start_time": "2024-07-17T21:08:34.473Z"
   },
   {
    "duration": 30,
    "start_time": "2024-07-17T21:08:34.785Z"
   },
   {
    "duration": 15,
    "start_time": "2024-07-17T21:08:34.945Z"
   },
   {
    "duration": 14,
    "start_time": "2024-07-17T21:08:35.114Z"
   },
   {
    "duration": 9,
    "start_time": "2024-07-17T21:08:35.755Z"
   },
   {
    "duration": 237,
    "start_time": "2024-07-17T21:08:36.085Z"
   },
   {
    "duration": 7,
    "start_time": "2024-07-17T21:08:36.375Z"
   },
   {
    "duration": 90,
    "start_time": "2024-07-17T21:08:36.865Z"
   },
   {
    "duration": 31,
    "start_time": "2024-07-17T21:08:37.452Z"
   },
   {
    "duration": 8,
    "start_time": "2024-07-17T21:08:37.982Z"
   },
   {
    "duration": 49,
    "start_time": "2024-07-17T21:08:39.386Z"
   },
   {
    "duration": 8,
    "start_time": "2024-07-17T21:08:40.515Z"
   },
   {
    "duration": 8,
    "start_time": "2024-07-17T21:08:42.634Z"
   },
   {
    "duration": 10,
    "start_time": "2024-07-17T21:08:43.255Z"
   },
   {
    "duration": 11,
    "start_time": "2024-07-17T21:08:44.402Z"
   },
   {
    "duration": 35,
    "start_time": "2024-07-17T21:08:45.025Z"
   },
   {
    "duration": 9,
    "start_time": "2024-07-17T21:08:45.945Z"
   },
   {
    "duration": 4,
    "start_time": "2024-07-17T21:08:46.466Z"
   },
   {
    "duration": 22,
    "start_time": "2024-07-17T21:08:47.126Z"
   },
   {
    "duration": 4,
    "start_time": "2024-07-17T21:08:47.773Z"
   },
   {
    "duration": 3,
    "start_time": "2024-07-17T21:08:48.386Z"
   },
   {
    "duration": 4,
    "start_time": "2024-07-17T21:08:49.051Z"
   },
   {
    "duration": 26,
    "start_time": "2024-07-17T21:08:49.755Z"
   },
   {
    "duration": 15,
    "start_time": "2024-07-17T21:08:50.255Z"
   },
   {
    "duration": 11,
    "start_time": "2024-07-17T21:08:51.037Z"
   },
   {
    "duration": 17,
    "start_time": "2024-07-17T21:08:53.415Z"
   },
   {
    "duration": 12,
    "start_time": "2024-07-17T21:08:53.796Z"
   },
   {
    "duration": 5,
    "start_time": "2024-07-17T21:08:54.804Z"
   },
   {
    "duration": 13,
    "start_time": "2024-07-17T21:08:55.446Z"
   },
   {
    "duration": 11,
    "start_time": "2024-07-17T21:08:55.906Z"
   },
   {
    "duration": 4,
    "start_time": "2024-07-17T21:08:57.444Z"
   },
   {
    "duration": 4,
    "start_time": "2024-07-17T21:08:57.956Z"
   },
   {
    "duration": 4,
    "start_time": "2024-07-17T21:08:58.725Z"
   },
   {
    "duration": 4,
    "start_time": "2024-07-17T21:08:59.334Z"
   },
   {
    "duration": 4,
    "start_time": "2024-07-17T21:08:59.712Z"
   },
   {
    "duration": 10,
    "start_time": "2024-07-17T21:09:01.045Z"
   },
   {
    "duration": 111,
    "start_time": "2024-07-17T21:09:01.675Z"
   },
   {
    "duration": 18,
    "start_time": "2024-07-17T21:09:04.526Z"
   },
   {
    "duration": 4,
    "start_time": "2024-07-17T21:09:06.025Z"
   },
   {
    "duration": 11,
    "start_time": "2024-07-17T21:09:21.534Z"
   },
   {
    "duration": 3,
    "start_time": "2024-07-17T21:09:52.608Z"
   },
   {
    "duration": 5,
    "start_time": "2024-07-17T21:10:00.428Z"
   },
   {
    "duration": 11,
    "start_time": "2024-07-17T21:10:35.494Z"
   },
   {
    "duration": 7,
    "start_time": "2024-07-17T21:10:49.175Z"
   },
   {
    "duration": 996,
    "start_time": "2024-07-17T21:12:28.635Z"
   },
   {
    "duration": 10,
    "start_time": "2024-07-17T21:12:47.843Z"
   },
   {
    "duration": 6,
    "start_time": "2024-07-17T21:13:08.134Z"
   },
   {
    "duration": 1391,
    "start_time": "2024-07-20T10:32:17.944Z"
   },
   {
    "duration": 435,
    "start_time": "2024-07-20T10:32:19.338Z"
   },
   {
    "duration": 14,
    "start_time": "2024-07-20T10:32:19.774Z"
   },
   {
    "duration": 18,
    "start_time": "2024-07-20T10:32:19.789Z"
   },
   {
    "duration": 29,
    "start_time": "2024-07-20T10:32:19.809Z"
   },
   {
    "duration": 8,
    "start_time": "2024-07-20T10:32:19.840Z"
   },
   {
    "duration": 10,
    "start_time": "2024-07-20T10:32:19.849Z"
   },
   {
    "duration": 9,
    "start_time": "2024-07-20T10:32:19.861Z"
   },
   {
    "duration": 21,
    "start_time": "2024-07-20T10:32:19.872Z"
   },
   {
    "duration": 47,
    "start_time": "2024-07-20T10:32:19.894Z"
   },
   {
    "duration": 7,
    "start_time": "2024-07-20T10:32:19.942Z"
   },
   {
    "duration": 13,
    "start_time": "2024-07-20T10:32:19.950Z"
   },
   {
    "duration": 10,
    "start_time": "2024-07-20T10:32:19.964Z"
   },
   {
    "duration": 5,
    "start_time": "2024-07-20T10:32:19.977Z"
   },
   {
    "duration": 7,
    "start_time": "2024-07-20T10:32:19.984Z"
   },
   {
    "duration": 33,
    "start_time": "2024-07-20T10:32:20.024Z"
   },
   {
    "duration": 14,
    "start_time": "2024-07-20T10:32:20.059Z"
   },
   {
    "duration": 15,
    "start_time": "2024-07-20T10:32:20.074Z"
   },
   {
    "duration": 10,
    "start_time": "2024-07-20T10:32:20.090Z"
   },
   {
    "duration": 296,
    "start_time": "2024-07-20T10:32:20.101Z"
   },
   {
    "duration": 10,
    "start_time": "2024-07-20T10:32:20.399Z"
   },
   {
    "duration": 102,
    "start_time": "2024-07-20T10:32:20.424Z"
   },
   {
    "duration": 177,
    "start_time": "2024-07-20T10:32:20.527Z"
   },
   {
    "duration": 9,
    "start_time": "2024-07-20T10:32:20.705Z"
   },
   {
    "duration": 360,
    "start_time": "2024-07-20T10:32:20.724Z"
   },
   {
    "duration": 9,
    "start_time": "2024-07-20T10:32:21.086Z"
   },
   {
    "duration": 30,
    "start_time": "2024-07-20T10:32:21.097Z"
   },
   {
    "duration": 13,
    "start_time": "2024-07-20T10:32:21.129Z"
   },
   {
    "duration": 13,
    "start_time": "2024-07-20T10:32:21.144Z"
   },
   {
    "duration": 40,
    "start_time": "2024-07-20T10:32:21.158Z"
   },
   {
    "duration": 30,
    "start_time": "2024-07-20T10:32:21.199Z"
   },
   {
    "duration": 6,
    "start_time": "2024-07-20T10:32:21.231Z"
   },
   {
    "duration": 23,
    "start_time": "2024-07-20T10:32:21.239Z"
   },
   {
    "duration": 3,
    "start_time": "2024-07-20T10:32:21.264Z"
   },
   {
    "duration": 4,
    "start_time": "2024-07-20T10:32:21.268Z"
   },
   {
    "duration": 60,
    "start_time": "2024-07-20T10:32:21.273Z"
   },
   {
    "duration": 64,
    "start_time": "2024-07-20T10:32:21.334Z"
   },
   {
    "duration": 37,
    "start_time": "2024-07-20T10:32:21.400Z"
   },
   {
    "duration": 71,
    "start_time": "2024-07-20T10:32:21.439Z"
   },
   {
    "duration": 19,
    "start_time": "2024-07-20T10:32:21.512Z"
   },
   {
    "duration": 13,
    "start_time": "2024-07-20T10:32:21.535Z"
   },
   {
    "duration": 15,
    "start_time": "2024-07-20T10:32:21.549Z"
   },
   {
    "duration": 15,
    "start_time": "2024-07-20T10:32:21.566Z"
   },
   {
    "duration": 16,
    "start_time": "2024-07-20T10:32:21.583Z"
   },
   {
    "duration": 61,
    "start_time": "2024-07-20T10:32:21.601Z"
   },
   {
    "duration": 9,
    "start_time": "2024-07-20T10:32:21.664Z"
   },
   {
    "duration": 8,
    "start_time": "2024-07-20T10:32:21.674Z"
   },
   {
    "duration": 16,
    "start_time": "2024-07-20T10:32:21.683Z"
   },
   {
    "duration": 18,
    "start_time": "2024-07-20T10:32:21.701Z"
   },
   {
    "duration": 30,
    "start_time": "2024-07-20T10:32:21.720Z"
   },
   {
    "duration": 145,
    "start_time": "2024-07-20T10:32:21.751Z"
   },
   {
    "duration": 19,
    "start_time": "2024-07-20T10:32:21.898Z"
   },
   {
    "duration": 22,
    "start_time": "2024-07-20T10:32:21.919Z"
   },
   {
    "duration": 7,
    "start_time": "2024-07-20T10:32:21.943Z"
   },
   {
    "duration": 12,
    "start_time": "2024-07-20T10:32:21.952Z"
   },
   {
    "duration": 10,
    "start_time": "2024-07-20T10:32:21.966Z"
   },
   {
    "duration": 17,
    "start_time": "2024-07-20T10:32:21.977Z"
   },
   {
    "duration": 36,
    "start_time": "2024-07-20T11:17:34.501Z"
   },
   {
    "duration": 3,
    "start_time": "2024-07-20T11:28:49.850Z"
   },
   {
    "duration": 107,
    "start_time": "2024-07-20T11:28:50.004Z"
   },
   {
    "duration": 14,
    "start_time": "2024-07-20T11:28:50.199Z"
   },
   {
    "duration": 19,
    "start_time": "2024-07-20T11:28:50.349Z"
   },
   {
    "duration": 28,
    "start_time": "2024-07-20T11:28:50.499Z"
   },
   {
    "duration": 7,
    "start_time": "2024-07-20T11:28:50.642Z"
   },
   {
    "duration": 9,
    "start_time": "2024-07-20T11:28:50.825Z"
   },
   {
    "duration": 11,
    "start_time": "2024-07-20T11:28:50.932Z"
   },
   {
    "duration": 19,
    "start_time": "2024-07-20T11:28:51.553Z"
   },
   {
    "duration": 20,
    "start_time": "2024-07-20T11:28:51.734Z"
   },
   {
    "duration": 6,
    "start_time": "2024-07-20T11:28:51.889Z"
   },
   {
    "duration": 13,
    "start_time": "2024-07-20T11:28:52.041Z"
   },
   {
    "duration": 10,
    "start_time": "2024-07-20T11:28:52.199Z"
   },
   {
    "duration": 5,
    "start_time": "2024-07-20T11:28:52.362Z"
   },
   {
    "duration": 6,
    "start_time": "2024-07-20T11:28:52.514Z"
   },
   {
    "duration": 32,
    "start_time": "2024-07-20T11:28:52.835Z"
   },
   {
    "duration": 15,
    "start_time": "2024-07-20T11:28:53.009Z"
   },
   {
    "duration": 14,
    "start_time": "2024-07-20T11:28:53.681Z"
   },
   {
    "duration": 11,
    "start_time": "2024-07-20T11:28:53.881Z"
   },
   {
    "duration": 242,
    "start_time": "2024-07-20T11:28:54.223Z"
   },
   {
    "duration": 8,
    "start_time": "2024-07-20T11:28:54.547Z"
   },
   {
    "duration": 102,
    "start_time": "2024-07-20T11:28:55.066Z"
   },
   {
    "duration": 34,
    "start_time": "2024-07-20T11:28:55.797Z"
   },
   {
    "duration": 10,
    "start_time": "2024-07-20T11:28:56.319Z"
   },
   {
    "duration": 56,
    "start_time": "2024-07-20T11:28:57.958Z"
   },
   {
    "duration": 10,
    "start_time": "2024-07-20T11:28:58.776Z"
   },
   {
    "duration": 10,
    "start_time": "2024-07-20T11:29:00.779Z"
   },
   {
    "duration": 12,
    "start_time": "2024-07-20T11:29:01.207Z"
   },
   {
    "duration": 13,
    "start_time": "2024-07-20T11:29:02.077Z"
   },
   {
    "duration": 41,
    "start_time": "2024-07-20T11:29:02.529Z"
   },
   {
    "duration": 9,
    "start_time": "2024-07-20T11:29:05.272Z"
   },
   {
    "duration": 46,
    "start_time": "2024-07-20T11:30:39.094Z"
   },
   {
    "duration": 13,
    "start_time": "2024-07-20T11:30:40.426Z"
   },
   {
    "duration": 55,
    "start_time": "2024-07-20T11:30:50.203Z"
   },
   {
    "duration": 18,
    "start_time": "2024-07-20T11:30:50.835Z"
   },
   {
    "duration": 3,
    "start_time": "2024-07-20T11:30:55.914Z"
   },
   {
    "duration": 104,
    "start_time": "2024-07-20T11:30:56.050Z"
   },
   {
    "duration": 10,
    "start_time": "2024-07-20T11:30:56.175Z"
   },
   {
    "duration": 18,
    "start_time": "2024-07-20T11:30:56.329Z"
   },
   {
    "duration": 27,
    "start_time": "2024-07-20T11:30:56.446Z"
   },
   {
    "duration": 7,
    "start_time": "2024-07-20T11:30:56.624Z"
   },
   {
    "duration": 10,
    "start_time": "2024-07-20T11:30:56.933Z"
   },
   {
    "duration": 11,
    "start_time": "2024-07-20T11:30:57.095Z"
   },
   {
    "duration": 19,
    "start_time": "2024-07-20T11:30:57.741Z"
   },
   {
    "duration": 20,
    "start_time": "2024-07-20T11:30:57.914Z"
   },
   {
    "duration": 6,
    "start_time": "2024-07-20T11:30:58.063Z"
   },
   {
    "duration": 12,
    "start_time": "2024-07-20T11:30:58.322Z"
   },
   {
    "duration": 9,
    "start_time": "2024-07-20T11:30:58.481Z"
   },
   {
    "duration": 5,
    "start_time": "2024-07-20T11:30:58.655Z"
   },
   {
    "duration": 6,
    "start_time": "2024-07-20T11:30:58.835Z"
   },
   {
    "duration": 33,
    "start_time": "2024-07-20T11:30:59.137Z"
   },
   {
    "duration": 15,
    "start_time": "2024-07-20T11:30:59.278Z"
   },
   {
    "duration": 15,
    "start_time": "2024-07-20T11:30:59.453Z"
   },
   {
    "duration": 11,
    "start_time": "2024-07-20T11:31:00.054Z"
   },
   {
    "duration": 263,
    "start_time": "2024-07-20T11:31:00.386Z"
   },
   {
    "duration": 9,
    "start_time": "2024-07-20T11:31:00.794Z"
   },
   {
    "duration": 97,
    "start_time": "2024-07-20T11:31:01.378Z"
   },
   {
    "duration": 32,
    "start_time": "2024-07-20T11:31:01.981Z"
   },
   {
    "duration": 10,
    "start_time": "2024-07-20T11:31:02.296Z"
   },
   {
    "duration": 52,
    "start_time": "2024-07-20T11:31:03.330Z"
   },
   {
    "duration": 9,
    "start_time": "2024-07-20T11:31:03.568Z"
   },
   {
    "duration": 9,
    "start_time": "2024-07-20T11:31:04.277Z"
   },
   {
    "duration": 11,
    "start_time": "2024-07-20T11:31:04.483Z"
   },
   {
    "duration": 12,
    "start_time": "2024-07-20T11:31:04.927Z"
   },
   {
    "duration": 39,
    "start_time": "2024-07-20T11:31:05.128Z"
   },
   {
    "duration": 9,
    "start_time": "2024-07-20T11:31:05.302Z"
   },
   {
    "duration": 5,
    "start_time": "2024-07-20T11:31:05.455Z"
   },
   {
    "duration": 3,
    "start_time": "2024-07-20T11:31:19.250Z"
   },
   {
    "duration": 104,
    "start_time": "2024-07-20T11:31:19.403Z"
   },
   {
    "duration": 10,
    "start_time": "2024-07-20T11:31:19.553Z"
   },
   {
    "duration": 17,
    "start_time": "2024-07-20T11:31:19.736Z"
   },
   {
    "duration": 28,
    "start_time": "2024-07-20T11:31:19.861Z"
   },
   {
    "duration": 7,
    "start_time": "2024-07-20T11:31:20.028Z"
   },
   {
    "duration": 11,
    "start_time": "2024-07-20T11:31:20.157Z"
   },
   {
    "duration": 12,
    "start_time": "2024-07-20T11:31:20.307Z"
   },
   {
    "duration": 21,
    "start_time": "2024-07-20T11:31:21.051Z"
   },
   {
    "duration": 20,
    "start_time": "2024-07-20T11:31:21.239Z"
   },
   {
    "duration": 6,
    "start_time": "2024-07-20T11:31:21.406Z"
   },
   {
    "duration": 13,
    "start_time": "2024-07-20T11:31:21.599Z"
   },
   {
    "duration": 10,
    "start_time": "2024-07-20T11:31:21.747Z"
   },
   {
    "duration": 5,
    "start_time": "2024-07-20T11:31:21.917Z"
   },
   {
    "duration": 6,
    "start_time": "2024-07-20T11:31:22.089Z"
   },
   {
    "duration": 28,
    "start_time": "2024-07-20T11:31:22.458Z"
   },
   {
    "duration": 14,
    "start_time": "2024-07-20T11:31:22.595Z"
   },
   {
    "duration": 14,
    "start_time": "2024-07-20T11:31:22.793Z"
   },
   {
    "duration": 11,
    "start_time": "2024-07-20T11:31:23.459Z"
   },
   {
    "duration": 216,
    "start_time": "2024-07-20T11:31:23.955Z"
   },
   {
    "duration": 8,
    "start_time": "2024-07-20T11:31:24.312Z"
   },
   {
    "duration": 98,
    "start_time": "2024-07-20T11:31:24.818Z"
   },
   {
    "duration": 33,
    "start_time": "2024-07-20T11:31:25.347Z"
   },
   {
    "duration": 9,
    "start_time": "2024-07-20T11:31:25.519Z"
   },
   {
    "duration": 52,
    "start_time": "2024-07-20T11:31:26.110Z"
   },
   {
    "duration": 9,
    "start_time": "2024-07-20T11:31:26.542Z"
   },
   {
    "duration": 10,
    "start_time": "2024-07-20T11:31:27.895Z"
   },
   {
    "duration": 12,
    "start_time": "2024-07-20T11:31:28.628Z"
   },
   {
    "duration": 13,
    "start_time": "2024-07-20T11:31:29.821Z"
   },
   {
    "duration": 42,
    "start_time": "2024-07-20T11:31:30.876Z"
   },
   {
    "duration": 11,
    "start_time": "2024-07-20T11:31:32.287Z"
   },
   {
    "duration": 4790,
    "start_time": "2024-07-20T11:36:07.567Z"
   },
   {
    "duration": 10,
    "start_time": "2024-07-20T11:36:12.358Z"
   },
   {
    "duration": 3,
    "start_time": "2024-07-20T11:36:18.787Z"
   },
   {
    "duration": 108,
    "start_time": "2024-07-20T11:36:18.907Z"
   },
   {
    "duration": 11,
    "start_time": "2024-07-20T11:36:19.043Z"
   },
   {
    "duration": 20,
    "start_time": "2024-07-20T11:36:19.216Z"
   },
   {
    "duration": 30,
    "start_time": "2024-07-20T11:36:19.403Z"
   },
   {
    "duration": 10,
    "start_time": "2024-07-20T11:36:19.579Z"
   },
   {
    "duration": 10,
    "start_time": "2024-07-20T11:36:19.696Z"
   },
   {
    "duration": 11,
    "start_time": "2024-07-20T11:36:19.875Z"
   },
   {
    "duration": 20,
    "start_time": "2024-07-20T11:36:20.482Z"
   },
   {
    "duration": 22,
    "start_time": "2024-07-20T11:36:20.661Z"
   },
   {
    "duration": 6,
    "start_time": "2024-07-20T11:36:20.828Z"
   },
   {
    "duration": 13,
    "start_time": "2024-07-20T11:36:20.992Z"
   },
   {
    "duration": 10,
    "start_time": "2024-07-20T11:36:21.142Z"
   },
   {
    "duration": 5,
    "start_time": "2024-07-20T11:36:21.287Z"
   },
   {
    "duration": 6,
    "start_time": "2024-07-20T11:36:21.444Z"
   },
   {
    "duration": 30,
    "start_time": "2024-07-20T11:36:21.745Z"
   },
   {
    "duration": 15,
    "start_time": "2024-07-20T11:36:21.906Z"
   },
   {
    "duration": 15,
    "start_time": "2024-07-20T11:36:22.050Z"
   },
   {
    "duration": 10,
    "start_time": "2024-07-20T11:36:22.660Z"
   },
   {
    "duration": 286,
    "start_time": "2024-07-20T11:36:22.990Z"
   },
   {
    "duration": 7,
    "start_time": "2024-07-20T11:36:23.409Z"
   },
   {
    "duration": 100,
    "start_time": "2024-07-20T11:36:23.948Z"
   },
   {
    "duration": 33,
    "start_time": "2024-07-20T11:36:24.460Z"
   },
   {
    "duration": 9,
    "start_time": "2024-07-20T11:36:24.825Z"
   },
   {
    "duration": 53,
    "start_time": "2024-07-20T11:36:25.365Z"
   },
   {
    "duration": 9,
    "start_time": "2024-07-20T11:36:25.794Z"
   },
   {
    "duration": 9,
    "start_time": "2024-07-20T11:36:27.210Z"
   },
   {
    "duration": 12,
    "start_time": "2024-07-20T11:36:27.583Z"
   },
   {
    "duration": 13,
    "start_time": "2024-07-20T11:36:29.219Z"
   },
   {
    "duration": 4696,
    "start_time": "2024-07-20T11:36:30.549Z"
   },
   {
    "duration": 8,
    "start_time": "2024-07-20T11:36:35.247Z"
   },
   {
    "duration": 5,
    "start_time": "2024-07-20T11:37:53.290Z"
   },
   {
    "duration": 1036,
    "start_time": "2024-07-20T11:37:54.362Z"
   },
   {
    "duration": 5,
    "start_time": "2024-07-20T11:38:37.029Z"
   },
   {
    "duration": 21,
    "start_time": "2024-07-20T11:38:37.832Z"
   },
   {
    "duration": 4,
    "start_time": "2024-07-20T11:38:59.671Z"
   },
   {
    "duration": 4,
    "start_time": "2024-07-20T11:39:00.115Z"
   },
   {
    "duration": 3,
    "start_time": "2024-07-20T11:39:00.521Z"
   },
   {
    "duration": 862,
    "start_time": "2024-07-20T11:39:01.792Z"
   },
   {
    "duration": 3,
    "start_time": "2024-07-20T11:39:27.270Z"
   },
   {
    "duration": 3,
    "start_time": "2024-07-20T11:39:27.680Z"
   },
   {
    "duration": 4,
    "start_time": "2024-07-20T11:39:28.045Z"
   },
   {
    "duration": 27,
    "start_time": "2024-07-20T11:39:28.731Z"
   },
   {
    "duration": 12,
    "start_time": "2024-07-20T11:39:47.957Z"
   },
   {
    "duration": 18,
    "start_time": "2024-07-20T11:40:04.025Z"
   },
   {
    "duration": 13,
    "start_time": "2024-07-20T11:40:05.959Z"
   },
   {
    "duration": 5,
    "start_time": "2024-07-20T11:40:09.272Z"
   },
   {
    "duration": 14,
    "start_time": "2024-07-20T11:40:12.896Z"
   },
   {
    "duration": 3,
    "start_time": "2024-07-20T11:45:23.277Z"
   },
   {
    "duration": 107,
    "start_time": "2024-07-20T11:45:23.421Z"
   },
   {
    "duration": 11,
    "start_time": "2024-07-20T11:45:23.552Z"
   },
   {
    "duration": 19,
    "start_time": "2024-07-20T11:45:23.954Z"
   },
   {
    "duration": 31,
    "start_time": "2024-07-20T11:45:24.112Z"
   },
   {
    "duration": 7,
    "start_time": "2024-07-20T11:45:24.276Z"
   },
   {
    "duration": 9,
    "start_time": "2024-07-20T11:45:24.429Z"
   },
   {
    "duration": 11,
    "start_time": "2024-07-20T11:45:24.561Z"
   },
   {
    "duration": 20,
    "start_time": "2024-07-20T11:45:25.250Z"
   },
   {
    "duration": 21,
    "start_time": "2024-07-20T11:45:25.509Z"
   },
   {
    "duration": 7,
    "start_time": "2024-07-20T11:45:25.691Z"
   },
   {
    "duration": 13,
    "start_time": "2024-07-20T11:45:25.984Z"
   },
   {
    "duration": 9,
    "start_time": "2024-07-20T11:45:26.204Z"
   },
   {
    "duration": 5,
    "start_time": "2024-07-20T11:45:26.375Z"
   },
   {
    "duration": 5,
    "start_time": "2024-07-20T11:45:26.524Z"
   },
   {
    "duration": 31,
    "start_time": "2024-07-20T11:45:27.171Z"
   },
   {
    "duration": 15,
    "start_time": "2024-07-20T11:45:27.374Z"
   },
   {
    "duration": 14,
    "start_time": "2024-07-20T11:45:27.557Z"
   },
   {
    "duration": 9,
    "start_time": "2024-07-20T11:45:28.924Z"
   },
   {
    "duration": 360,
    "start_time": "2024-07-20T11:45:29.372Z"
   },
   {
    "duration": 6,
    "start_time": "2024-07-20T11:45:29.737Z"
   },
   {
    "duration": 97,
    "start_time": "2024-07-20T11:45:30.317Z"
   },
   {
    "duration": 33,
    "start_time": "2024-07-20T11:45:31.095Z"
   },
   {
    "duration": 10,
    "start_time": "2024-07-20T11:45:31.483Z"
   },
   {
    "duration": 55,
    "start_time": "2024-07-20T11:45:32.309Z"
   },
   {
    "duration": 10,
    "start_time": "2024-07-20T11:45:32.448Z"
   },
   {
    "duration": 10,
    "start_time": "2024-07-20T11:45:33.328Z"
   },
   {
    "duration": 10,
    "start_time": "2024-07-20T11:45:33.728Z"
   },
   {
    "duration": 14,
    "start_time": "2024-07-20T11:45:34.713Z"
   },
   {
    "duration": 4578,
    "start_time": "2024-07-20T11:45:35.797Z"
   },
   {
    "duration": 7,
    "start_time": "2024-07-20T11:45:40.377Z"
   },
   {
    "duration": 4,
    "start_time": "2024-07-20T11:45:43.662Z"
   },
   {
    "duration": 20,
    "start_time": "2024-07-20T11:45:46.162Z"
   },
   {
    "duration": 6,
    "start_time": "2024-07-20T11:45:46.763Z"
   },
   {
    "duration": 26,
    "start_time": "2024-07-20T11:45:49.514Z"
   },
   {
    "duration": 11,
    "start_time": "2024-07-20T11:45:50.560Z"
   },
   {
    "duration": 14,
    "start_time": "2024-07-20T11:45:53.922Z"
   },
   {
    "duration": 19,
    "start_time": "2024-07-20T11:46:03.826Z"
   },
   {
    "duration": 13,
    "start_time": "2024-07-20T11:46:12.449Z"
   },
   {
    "duration": 14,
    "start_time": "2024-07-20T11:46:20.973Z"
   },
   {
    "duration": 4,
    "start_time": "2024-07-20T11:46:31.746Z"
   },
   {
    "duration": 14,
    "start_time": "2024-07-20T11:46:34.200Z"
   },
   {
    "duration": 13,
    "start_time": "2024-07-20T11:46:38.183Z"
   },
   {
    "duration": 4,
    "start_time": "2024-07-20T11:46:42.390Z"
   },
   {
    "duration": 4,
    "start_time": "2024-07-20T11:46:59.040Z"
   },
   {
    "duration": 5,
    "start_time": "2024-07-20T11:47:02.121Z"
   },
   {
    "duration": 3,
    "start_time": "2024-07-20T11:47:03.013Z"
   },
   {
    "duration": 877,
    "start_time": "2024-07-20T11:47:04.924Z"
   },
   {
    "duration": 4,
    "start_time": "2024-07-20T11:47:17.375Z"
   },
   {
    "duration": 9,
    "start_time": "2024-07-20T11:47:22.751Z"
   },
   {
    "duration": 118,
    "start_time": "2024-07-20T11:47:23.877Z"
   },
   {
    "duration": 912,
    "start_time": "2024-07-20T11:47:26.720Z"
   },
   {
    "duration": 874,
    "start_time": "2024-07-20T11:47:27.636Z"
   },
   {
    "duration": 21,
    "start_time": "2024-07-20T11:47:35.260Z"
   },
   {
    "duration": 5,
    "start_time": "2024-07-20T11:47:37.715Z"
   },
   {
    "duration": 6,
    "start_time": "2024-07-20T11:47:43.461Z"
   },
   {
    "duration": 6,
    "start_time": "2024-07-20T11:47:44.637Z"
   },
   {
    "duration": 10,
    "start_time": "2024-07-20T11:47:46.454Z"
   },
   {
    "duration": 7,
    "start_time": "2024-07-20T11:47:47.008Z"
   },
   {
    "duration": 14,
    "start_time": "2024-07-20T11:51:27.330Z"
   },
   {
    "duration": 13,
    "start_time": "2024-07-20T11:51:48.467Z"
   },
   {
    "duration": 14,
    "start_time": "2024-07-20T11:53:13.316Z"
   },
   {
    "duration": 12,
    "start_time": "2024-07-20T11:54:37.719Z"
   },
   {
    "duration": 12,
    "start_time": "2024-07-20T11:55:58.633Z"
   },
   {
    "duration": 12,
    "start_time": "2024-07-20T11:56:17.536Z"
   },
   {
    "duration": 3,
    "start_time": "2024-07-20T11:57:34.459Z"
   },
   {
    "duration": 104,
    "start_time": "2024-07-20T11:57:34.539Z"
   },
   {
    "duration": 11,
    "start_time": "2024-07-20T11:57:35.307Z"
   },
   {
    "duration": 45,
    "start_time": "2024-07-20T11:57:35.319Z"
   },
   {
    "duration": 28,
    "start_time": "2024-07-20T11:57:35.366Z"
   },
   {
    "duration": 7,
    "start_time": "2024-07-20T11:57:35.673Z"
   },
   {
    "duration": 9,
    "start_time": "2024-07-20T11:57:35.840Z"
   },
   {
    "duration": 10,
    "start_time": "2024-07-20T11:57:36.488Z"
   },
   {
    "duration": 21,
    "start_time": "2024-07-20T11:57:36.825Z"
   },
   {
    "duration": 21,
    "start_time": "2024-07-20T11:57:36.981Z"
   },
   {
    "duration": 7,
    "start_time": "2024-07-20T11:57:37.128Z"
   },
   {
    "duration": 13,
    "start_time": "2024-07-20T11:57:37.338Z"
   },
   {
    "duration": 9,
    "start_time": "2024-07-20T11:57:37.510Z"
   },
   {
    "duration": 5,
    "start_time": "2024-07-20T11:57:37.756Z"
   },
   {
    "duration": 5,
    "start_time": "2024-07-20T11:57:37.831Z"
   },
   {
    "duration": 30,
    "start_time": "2024-07-20T11:57:38.178Z"
   },
   {
    "duration": 14,
    "start_time": "2024-07-20T11:57:38.262Z"
   },
   {
    "duration": 14,
    "start_time": "2024-07-20T11:57:38.455Z"
   },
   {
    "duration": 11,
    "start_time": "2024-07-20T11:57:39.070Z"
   },
   {
    "duration": 256,
    "start_time": "2024-07-20T11:57:39.414Z"
   },
   {
    "duration": 8,
    "start_time": "2024-07-20T11:57:39.790Z"
   },
   {
    "duration": 105,
    "start_time": "2024-07-20T11:57:40.352Z"
   },
   {
    "duration": 36,
    "start_time": "2024-07-20T11:57:40.910Z"
   },
   {
    "duration": 10,
    "start_time": "2024-07-20T11:57:41.089Z"
   },
   {
    "duration": 56,
    "start_time": "2024-07-20T11:57:41.765Z"
   },
   {
    "duration": 9,
    "start_time": "2024-07-20T11:57:41.823Z"
   },
   {
    "duration": 8,
    "start_time": "2024-07-20T11:57:42.746Z"
   },
   {
    "duration": 11,
    "start_time": "2024-07-20T11:57:42.853Z"
   },
   {
    "duration": 12,
    "start_time": "2024-07-20T11:57:43.216Z"
   },
   {
    "duration": 4590,
    "start_time": "2024-07-20T11:57:43.577Z"
   },
   {
    "duration": 7,
    "start_time": "2024-07-20T11:57:48.169Z"
   },
   {
    "duration": 6,
    "start_time": "2024-07-20T11:57:48.177Z"
   },
   {
    "duration": 22,
    "start_time": "2024-07-20T11:57:48.185Z"
   },
   {
    "duration": 7,
    "start_time": "2024-07-20T11:57:48.224Z"
   },
   {
    "duration": 28,
    "start_time": "2024-07-20T11:57:48.232Z"
   },
   {
    "duration": 11,
    "start_time": "2024-07-20T11:57:48.261Z"
   },
   {
    "duration": 15,
    "start_time": "2024-07-20T11:57:48.274Z"
   },
   {
    "duration": 43,
    "start_time": "2024-07-20T11:57:48.290Z"
   },
   {
    "duration": 13,
    "start_time": "2024-07-20T11:57:48.335Z"
   },
   {
    "duration": 7,
    "start_time": "2024-07-20T11:57:48.350Z"
   },
   {
    "duration": 19,
    "start_time": "2024-07-20T11:57:48.358Z"
   },
   {
    "duration": 12,
    "start_time": "2024-07-20T11:57:48.379Z"
   },
   {
    "duration": 3,
    "start_time": "2024-07-20T11:57:48.392Z"
   },
   {
    "duration": 29,
    "start_time": "2024-07-20T11:57:48.396Z"
   },
   {
    "duration": 14,
    "start_time": "2024-07-20T11:57:48.426Z"
   },
   {
    "duration": 5,
    "start_time": "2024-07-20T11:57:48.441Z"
   },
   {
    "duration": 5,
    "start_time": "2024-07-20T11:57:48.447Z"
   },
   {
    "duration": 5,
    "start_time": "2024-07-20T11:57:48.453Z"
   },
   {
    "duration": 9,
    "start_time": "2024-07-20T11:57:48.459Z"
   },
   {
    "duration": 151,
    "start_time": "2024-07-20T11:57:48.469Z"
   },
   {
    "duration": 19,
    "start_time": "2024-07-20T11:57:48.901Z"
   },
   {
    "duration": 4,
    "start_time": "2024-07-20T11:57:49.052Z"
   },
   {
    "duration": 11,
    "start_time": "2024-07-20T11:57:49.210Z"
   },
   {
    "duration": 7,
    "start_time": "2024-07-20T11:57:50.229Z"
   },
   {
    "duration": 7,
    "start_time": "2024-07-20T11:57:50.388Z"
   },
   {
    "duration": 10,
    "start_time": "2024-07-20T11:57:51.192Z"
   },
   {
    "duration": 5,
    "start_time": "2024-07-20T11:57:51.212Z"
   },
   {
    "duration": 3,
    "start_time": "2024-07-20T12:23:34.150Z"
   },
   {
    "duration": 107,
    "start_time": "2024-07-20T12:23:34.337Z"
   },
   {
    "duration": 12,
    "start_time": "2024-07-20T12:23:34.568Z"
   },
   {
    "duration": 19,
    "start_time": "2024-07-20T12:23:34.750Z"
   },
   {
    "duration": 30,
    "start_time": "2024-07-20T12:23:34.989Z"
   },
   {
    "duration": 7,
    "start_time": "2024-07-20T12:23:35.169Z"
   },
   {
    "duration": 10,
    "start_time": "2024-07-20T12:23:35.353Z"
   },
   {
    "duration": 12,
    "start_time": "2024-07-20T12:23:35.561Z"
   },
   {
    "duration": 20,
    "start_time": "2024-07-20T12:23:36.261Z"
   },
   {
    "duration": 21,
    "start_time": "2024-07-20T12:23:36.444Z"
   },
   {
    "duration": 7,
    "start_time": "2024-07-20T12:23:36.681Z"
   },
   {
    "duration": 12,
    "start_time": "2024-07-20T12:23:36.783Z"
   },
   {
    "duration": 10,
    "start_time": "2024-07-20T12:23:36.952Z"
   },
   {
    "duration": 6,
    "start_time": "2024-07-20T12:23:37.107Z"
   },
   {
    "duration": 6,
    "start_time": "2024-07-20T12:23:37.274Z"
   },
   {
    "duration": 34,
    "start_time": "2024-07-20T12:23:37.601Z"
   },
   {
    "duration": 15,
    "start_time": "2024-07-20T12:23:37.792Z"
   },
   {
    "duration": 16,
    "start_time": "2024-07-20T12:23:37.967Z"
   },
   {
    "duration": 11,
    "start_time": "2024-07-20T12:23:38.605Z"
   },
   {
    "duration": 257,
    "start_time": "2024-07-20T12:23:38.919Z"
   },
   {
    "duration": 8,
    "start_time": "2024-07-20T12:23:39.366Z"
   },
   {
    "duration": 103,
    "start_time": "2024-07-20T12:23:39.857Z"
   },
   {
    "duration": 41,
    "start_time": "2024-07-20T12:23:40.350Z"
   },
   {
    "duration": 10,
    "start_time": "2024-07-20T12:23:40.515Z"
   },
   {
    "duration": 56,
    "start_time": "2024-07-20T12:23:40.984Z"
   },
   {
    "duration": 9,
    "start_time": "2024-07-20T12:23:41.154Z"
   },
   {
    "duration": 9,
    "start_time": "2024-07-20T12:23:41.844Z"
   },
   {
    "duration": 13,
    "start_time": "2024-07-20T12:23:42.032Z"
   },
   {
    "duration": 13,
    "start_time": "2024-07-20T12:23:42.515Z"
   },
   {
    "duration": 4576,
    "start_time": "2024-07-20T12:23:42.894Z"
   },
   {
    "duration": 8,
    "start_time": "2024-07-20T12:23:47.471Z"
   },
   {
    "duration": 10,
    "start_time": "2024-07-20T12:23:47.480Z"
   },
   {
    "duration": 34,
    "start_time": "2024-07-20T12:23:47.491Z"
   },
   {
    "duration": 6,
    "start_time": "2024-07-20T12:23:47.527Z"
   },
   {
    "duration": 36,
    "start_time": "2024-07-20T12:23:47.534Z"
   },
   {
    "duration": 117,
    "start_time": "2024-07-20T12:23:47.571Z"
   },
   {
    "duration": 76,
    "start_time": "2024-07-20T12:23:47.689Z"
   },
   {
    "duration": 26,
    "start_time": "2024-07-20T12:23:47.766Z"
   },
   {
    "duration": 14,
    "start_time": "2024-07-20T12:23:47.794Z"
   },
   {
    "duration": 8,
    "start_time": "2024-07-20T12:23:47.809Z"
   },
   {
    "duration": 17,
    "start_time": "2024-07-20T12:23:47.818Z"
   },
   {
    "duration": 16,
    "start_time": "2024-07-20T12:23:47.837Z"
   },
   {
    "duration": 15,
    "start_time": "2024-07-20T12:23:47.855Z"
   },
   {
    "duration": 6,
    "start_time": "2024-07-20T12:23:47.871Z"
   },
   {
    "duration": 59,
    "start_time": "2024-07-20T12:23:47.879Z"
   },
   {
    "duration": 8,
    "start_time": "2024-07-20T12:23:47.940Z"
   },
   {
    "duration": 8,
    "start_time": "2024-07-20T12:23:47.949Z"
   },
   {
    "duration": 9,
    "start_time": "2024-07-20T12:23:47.959Z"
   },
   {
    "duration": 23,
    "start_time": "2024-07-20T12:23:47.969Z"
   },
   {
    "duration": 126,
    "start_time": "2024-07-20T12:23:47.993Z"
   },
   {
    "duration": 19,
    "start_time": "2024-07-20T12:23:48.455Z"
   },
   {
    "duration": 5,
    "start_time": "2024-07-20T12:23:48.616Z"
   },
   {
    "duration": 10,
    "start_time": "2024-07-20T12:23:48.776Z"
   },
   {
    "duration": 6,
    "start_time": "2024-07-20T12:23:49.914Z"
   },
   {
    "duration": 6,
    "start_time": "2024-07-20T12:23:50.048Z"
   },
   {
    "duration": 11,
    "start_time": "2024-07-20T12:23:50.825Z"
   },
   {
    "duration": 6,
    "start_time": "2024-07-20T12:23:50.975Z"
   },
   {
    "duration": 3,
    "start_time": "2024-07-20T12:24:40.786Z"
   },
   {
    "duration": 104,
    "start_time": "2024-07-20T12:24:40.937Z"
   },
   {
    "duration": 10,
    "start_time": "2024-07-20T12:24:41.114Z"
   },
   {
    "duration": 18,
    "start_time": "2024-07-20T12:24:41.310Z"
   },
   {
    "duration": 27,
    "start_time": "2024-07-20T12:24:41.485Z"
   },
   {
    "duration": 7,
    "start_time": "2024-07-20T12:24:41.677Z"
   },
   {
    "duration": 10,
    "start_time": "2024-07-20T12:24:41.906Z"
   },
   {
    "duration": 11,
    "start_time": "2024-07-20T12:24:42.081Z"
   },
   {
    "duration": 3,
    "start_time": "2024-07-20T12:25:23.881Z"
   },
   {
    "duration": 100,
    "start_time": "2024-07-20T12:25:24.993Z"
   },
   {
    "duration": 11,
    "start_time": "2024-07-20T12:25:25.629Z"
   },
   {
    "duration": 18,
    "start_time": "2024-07-20T12:25:26.296Z"
   },
   {
    "duration": 31,
    "start_time": "2024-07-20T12:25:27.107Z"
   },
   {
    "duration": 8,
    "start_time": "2024-07-20T12:25:27.349Z"
   },
   {
    "duration": 10,
    "start_time": "2024-07-20T12:25:27.548Z"
   },
   {
    "duration": 1258,
    "start_time": "2024-07-20T12:25:32.806Z"
   },
   {
    "duration": 107,
    "start_time": "2024-07-20T12:25:34.065Z"
   },
   {
    "duration": 13,
    "start_time": "2024-07-20T12:25:34.174Z"
   },
   {
    "duration": 18,
    "start_time": "2024-07-20T12:25:34.189Z"
   },
   {
    "duration": 30,
    "start_time": "2024-07-20T12:25:34.209Z"
   },
   {
    "duration": 7,
    "start_time": "2024-07-20T12:25:34.241Z"
   },
   {
    "duration": 9,
    "start_time": "2024-07-20T12:25:34.249Z"
   },
   {
    "duration": 9,
    "start_time": "2024-07-20T12:25:34.260Z"
   },
   {
    "duration": 20,
    "start_time": "2024-07-20T12:25:34.271Z"
   },
   {
    "duration": 44,
    "start_time": "2024-07-20T12:25:34.292Z"
   },
   {
    "duration": 6,
    "start_time": "2024-07-20T12:25:34.337Z"
   },
   {
    "duration": 13,
    "start_time": "2024-07-20T12:25:34.344Z"
   },
   {
    "duration": 10,
    "start_time": "2024-07-20T12:25:34.359Z"
   },
   {
    "duration": 6,
    "start_time": "2024-07-20T12:25:34.371Z"
   },
   {
    "duration": 6,
    "start_time": "2024-07-20T12:25:34.378Z"
   },
   {
    "duration": 67,
    "start_time": "2024-07-20T12:25:34.385Z"
   },
   {
    "duration": 14,
    "start_time": "2024-07-20T12:25:34.453Z"
   },
   {
    "duration": 16,
    "start_time": "2024-07-20T12:25:34.469Z"
   },
   {
    "duration": 9,
    "start_time": "2024-07-20T12:25:34.487Z"
   },
   {
    "duration": 271,
    "start_time": "2024-07-20T12:25:34.498Z"
   },
   {
    "duration": 10,
    "start_time": "2024-07-20T12:25:34.771Z"
   },
   {
    "duration": 117,
    "start_time": "2024-07-20T12:25:34.783Z"
   },
   {
    "duration": 192,
    "start_time": "2024-07-20T12:25:34.902Z"
   },
   {
    "duration": 10,
    "start_time": "2024-07-20T12:25:35.095Z"
   },
   {
    "duration": 358,
    "start_time": "2024-07-20T12:25:35.106Z"
   },
   {
    "duration": 10,
    "start_time": "2024-07-20T12:25:35.465Z"
   },
   {
    "duration": 26,
    "start_time": "2024-07-20T12:25:35.476Z"
   },
   {
    "duration": 20,
    "start_time": "2024-07-20T12:25:35.504Z"
   },
   {
    "duration": 13,
    "start_time": "2024-07-20T12:25:35.526Z"
   },
   {
    "duration": 4671,
    "start_time": "2024-07-20T12:25:35.541Z"
   },
   {
    "duration": 14,
    "start_time": "2024-07-20T12:25:40.213Z"
   },
   {
    "duration": 11,
    "start_time": "2024-07-20T12:25:40.229Z"
   },
   {
    "duration": 164,
    "start_time": "2024-07-20T12:25:40.242Z"
   },
   {
    "duration": 0,
    "start_time": "2024-07-20T12:25:40.408Z"
   },
   {
    "duration": 0,
    "start_time": "2024-07-20T12:25:40.410Z"
   },
   {
    "duration": 0,
    "start_time": "2024-07-20T12:25:40.423Z"
   },
   {
    "duration": 0,
    "start_time": "2024-07-20T12:25:40.425Z"
   },
   {
    "duration": 0,
    "start_time": "2024-07-20T12:25:40.426Z"
   },
   {
    "duration": 0,
    "start_time": "2024-07-20T12:25:40.428Z"
   },
   {
    "duration": 0,
    "start_time": "2024-07-20T12:25:40.429Z"
   },
   {
    "duration": 0,
    "start_time": "2024-07-20T12:25:40.431Z"
   },
   {
    "duration": 0,
    "start_time": "2024-07-20T12:25:40.432Z"
   },
   {
    "duration": 0,
    "start_time": "2024-07-20T12:25:40.434Z"
   },
   {
    "duration": 0,
    "start_time": "2024-07-20T12:25:40.435Z"
   },
   {
    "duration": 0,
    "start_time": "2024-07-20T12:25:40.437Z"
   },
   {
    "duration": 0,
    "start_time": "2024-07-20T12:25:40.438Z"
   },
   {
    "duration": 0,
    "start_time": "2024-07-20T12:25:40.439Z"
   },
   {
    "duration": 0,
    "start_time": "2024-07-20T12:25:40.441Z"
   },
   {
    "duration": 0,
    "start_time": "2024-07-20T12:25:40.442Z"
   },
   {
    "duration": 0,
    "start_time": "2024-07-20T12:25:40.444Z"
   },
   {
    "duration": 0,
    "start_time": "2024-07-20T12:25:40.445Z"
   },
   {
    "duration": 0,
    "start_time": "2024-07-20T12:25:40.446Z"
   },
   {
    "duration": 0,
    "start_time": "2024-07-20T12:25:40.448Z"
   },
   {
    "duration": 0,
    "start_time": "2024-07-20T12:25:40.449Z"
   },
   {
    "duration": 0,
    "start_time": "2024-07-20T12:25:40.450Z"
   },
   {
    "duration": 0,
    "start_time": "2024-07-20T12:25:40.451Z"
   },
   {
    "duration": 0,
    "start_time": "2024-07-20T12:25:40.452Z"
   },
   {
    "duration": 3,
    "start_time": "2024-07-20T12:25:47.390Z"
   },
   {
    "duration": 107,
    "start_time": "2024-07-20T12:25:47.585Z"
   },
   {
    "duration": 10,
    "start_time": "2024-07-20T12:25:48.144Z"
   },
   {
    "duration": 18,
    "start_time": "2024-07-20T12:25:48.554Z"
   },
   {
    "duration": 31,
    "start_time": "2024-07-20T12:25:49.057Z"
   },
   {
    "duration": 7,
    "start_time": "2024-07-20T12:25:49.327Z"
   },
   {
    "duration": 10,
    "start_time": "2024-07-20T12:25:49.515Z"
   },
   {
    "duration": 11,
    "start_time": "2024-07-20T12:25:49.693Z"
   },
   {
    "duration": 19,
    "start_time": "2024-07-20T12:25:51.105Z"
   },
   {
    "duration": 21,
    "start_time": "2024-07-20T12:25:51.348Z"
   },
   {
    "duration": 7,
    "start_time": "2024-07-20T12:25:51.540Z"
   },
   {
    "duration": 14,
    "start_time": "2024-07-20T12:25:51.795Z"
   },
   {
    "duration": 9,
    "start_time": "2024-07-20T12:25:51.976Z"
   },
   {
    "duration": 6,
    "start_time": "2024-07-20T12:25:52.148Z"
   },
   {
    "duration": 6,
    "start_time": "2024-07-20T12:25:52.341Z"
   },
   {
    "duration": 30,
    "start_time": "2024-07-20T12:25:52.746Z"
   },
   {
    "duration": 15,
    "start_time": "2024-07-20T12:25:52.966Z"
   },
   {
    "duration": 17,
    "start_time": "2024-07-20T12:25:53.213Z"
   },
   {
    "duration": 9,
    "start_time": "2024-07-20T12:25:53.827Z"
   },
   {
    "duration": 263,
    "start_time": "2024-07-20T12:25:54.179Z"
   },
   {
    "duration": 7,
    "start_time": "2024-07-20T12:25:54.532Z"
   },
   {
    "duration": 105,
    "start_time": "2024-07-20T12:25:55.062Z"
   },
   {
    "duration": 33,
    "start_time": "2024-07-20T12:25:55.853Z"
   },
   {
    "duration": 9,
    "start_time": "2024-07-20T12:25:55.888Z"
   },
   {
    "duration": 53,
    "start_time": "2024-07-20T12:25:56.610Z"
   },
   {
    "duration": 9,
    "start_time": "2024-07-20T12:25:56.758Z"
   },
   {
    "duration": 8,
    "start_time": "2024-07-20T12:25:58.196Z"
   },
   {
    "duration": 12,
    "start_time": "2024-07-20T12:25:58.378Z"
   },
   {
    "duration": 12,
    "start_time": "2024-07-20T12:25:59.081Z"
   },
   {
    "duration": 4696,
    "start_time": "2024-07-20T12:25:59.372Z"
   },
   {
    "duration": 7,
    "start_time": "2024-07-20T12:26:04.070Z"
   },
   {
    "duration": 5,
    "start_time": "2024-07-20T12:26:04.079Z"
   },
   {
    "duration": 11,
    "start_time": "2024-07-20T12:26:04.086Z"
   },
   {
    "duration": 0,
    "start_time": "2024-07-20T12:26:04.098Z"
   },
   {
    "duration": 0,
    "start_time": "2024-07-20T12:26:04.099Z"
   },
   {
    "duration": 0,
    "start_time": "2024-07-20T12:26:04.101Z"
   },
   {
    "duration": 0,
    "start_time": "2024-07-20T12:26:04.102Z"
   },
   {
    "duration": 0,
    "start_time": "2024-07-20T12:26:04.103Z"
   },
   {
    "duration": 0,
    "start_time": "2024-07-20T12:26:04.124Z"
   },
   {
    "duration": 0,
    "start_time": "2024-07-20T12:26:04.125Z"
   },
   {
    "duration": 0,
    "start_time": "2024-07-20T12:26:04.126Z"
   },
   {
    "duration": 0,
    "start_time": "2024-07-20T12:26:04.127Z"
   },
   {
    "duration": 0,
    "start_time": "2024-07-20T12:26:04.128Z"
   },
   {
    "duration": 0,
    "start_time": "2024-07-20T12:26:04.129Z"
   },
   {
    "duration": 0,
    "start_time": "2024-07-20T12:26:04.130Z"
   },
   {
    "duration": 0,
    "start_time": "2024-07-20T12:26:04.131Z"
   },
   {
    "duration": 0,
    "start_time": "2024-07-20T12:26:04.132Z"
   },
   {
    "duration": 0,
    "start_time": "2024-07-20T12:26:04.133Z"
   },
   {
    "duration": 13,
    "start_time": "2024-07-20T12:26:04.316Z"
   },
   {
    "duration": 13,
    "start_time": "2024-07-20T12:26:04.497Z"
   },
   {
    "duration": 11,
    "start_time": "2024-07-20T12:26:05.168Z"
   },
   {
    "duration": 9,
    "start_time": "2024-07-20T12:26:05.346Z"
   },
   {
    "duration": 11,
    "start_time": "2024-07-20T12:26:05.508Z"
   },
   {
    "duration": 11,
    "start_time": "2024-07-20T12:26:06.533Z"
   },
   {
    "duration": 10,
    "start_time": "2024-07-20T12:26:06.713Z"
   },
   {
    "duration": 12,
    "start_time": "2024-07-20T12:26:07.473Z"
   },
   {
    "duration": 10,
    "start_time": "2024-07-20T12:26:07.659Z"
   },
   {
    "duration": 893,
    "start_time": "2024-07-20T12:27:16.266Z"
   },
   {
    "duration": 7,
    "start_time": "2024-07-20T12:27:17.727Z"
   },
   {
    "duration": 26,
    "start_time": "2024-07-20T12:27:20.380Z"
   },
   {
    "duration": 10,
    "start_time": "2024-07-20T12:27:21.091Z"
   },
   {
    "duration": 11,
    "start_time": "2024-07-20T12:27:22.583Z"
   },
   {
    "duration": 18,
    "start_time": "2024-07-20T12:27:23.708Z"
   },
   {
    "duration": 920,
    "start_time": "2024-07-20T12:27:23.878Z"
   },
   {
    "duration": 0,
    "start_time": "2024-07-20T12:27:24.799Z"
   },
   {
    "duration": 0,
    "start_time": "2024-07-20T12:27:24.801Z"
   },
   {
    "duration": 12,
    "start_time": "2024-07-20T12:27:24.877Z"
   },
   {
    "duration": 9,
    "start_time": "2024-07-20T12:27:25.437Z"
   },
   {
    "duration": 10,
    "start_time": "2024-07-20T12:27:25.610Z"
   },
   {
    "duration": 10,
    "start_time": "2024-07-20T12:27:25.819Z"
   },
   {
    "duration": 3,
    "start_time": "2024-07-20T12:28:17.768Z"
   },
   {
    "duration": 110,
    "start_time": "2024-07-20T12:28:18.700Z"
   },
   {
    "duration": 11,
    "start_time": "2024-07-20T12:28:18.811Z"
   },
   {
    "duration": 19,
    "start_time": "2024-07-20T12:28:18.901Z"
   },
   {
    "duration": 31,
    "start_time": "2024-07-20T12:28:19.098Z"
   },
   {
    "duration": 7,
    "start_time": "2024-07-20T12:28:19.291Z"
   },
   {
    "duration": 10,
    "start_time": "2024-07-20T12:28:19.464Z"
   },
   {
    "duration": 15,
    "start_time": "2024-07-20T12:28:19.607Z"
   },
   {
    "duration": 20,
    "start_time": "2024-07-20T12:28:20.355Z"
   },
   {
    "duration": 22,
    "start_time": "2024-07-20T12:28:20.506Z"
   },
   {
    "duration": 6,
    "start_time": "2024-07-20T12:28:20.694Z"
   },
   {
    "duration": 13,
    "start_time": "2024-07-20T12:28:20.848Z"
   },
   {
    "duration": 10,
    "start_time": "2024-07-20T12:28:21.007Z"
   },
   {
    "duration": 5,
    "start_time": "2024-07-20T12:28:21.160Z"
   },
   {
    "duration": 5,
    "start_time": "2024-07-20T12:28:21.338Z"
   },
   {
    "duration": 30,
    "start_time": "2024-07-20T12:28:21.676Z"
   },
   {
    "duration": 15,
    "start_time": "2024-07-20T12:28:21.860Z"
   },
   {
    "duration": 15,
    "start_time": "2024-07-20T12:28:22.047Z"
   },
   {
    "duration": 10,
    "start_time": "2024-07-20T12:28:22.718Z"
   },
   {
    "duration": 265,
    "start_time": "2024-07-20T12:28:23.084Z"
   },
   {
    "duration": 7,
    "start_time": "2024-07-20T12:28:23.392Z"
   },
   {
    "duration": 99,
    "start_time": "2024-07-20T12:28:24.083Z"
   },
   {
    "duration": 33,
    "start_time": "2024-07-20T12:28:24.597Z"
   },
   {
    "duration": 8,
    "start_time": "2024-07-20T12:28:24.772Z"
   },
   {
    "duration": 54,
    "start_time": "2024-07-20T12:28:25.276Z"
   },
   {
    "duration": 9,
    "start_time": "2024-07-20T12:28:25.538Z"
   },
   {
    "duration": 9,
    "start_time": "2024-07-20T12:28:26.777Z"
   },
   {
    "duration": 12,
    "start_time": "2024-07-20T12:28:26.971Z"
   },
   {
    "duration": 12,
    "start_time": "2024-07-20T12:28:27.603Z"
   },
   {
    "duration": 4613,
    "start_time": "2024-07-20T12:28:27.964Z"
   },
   {
    "duration": 8,
    "start_time": "2024-07-20T12:28:32.579Z"
   },
   {
    "duration": 6,
    "start_time": "2024-07-20T12:28:32.589Z"
   },
   {
    "duration": 38,
    "start_time": "2024-07-20T12:28:32.597Z"
   },
   {
    "duration": 6,
    "start_time": "2024-07-20T12:28:32.637Z"
   },
   {
    "duration": 26,
    "start_time": "2024-07-20T12:28:41.722Z"
   },
   {
    "duration": 11,
    "start_time": "2024-07-20T12:28:42.345Z"
   },
   {
    "duration": 12,
    "start_time": "2024-07-20T12:28:43.360Z"
   },
   {
    "duration": 20,
    "start_time": "2024-07-20T12:28:48.418Z"
   },
   {
    "duration": 13,
    "start_time": "2024-07-20T12:28:51.867Z"
   },
   {
    "duration": 5,
    "start_time": "2024-07-20T12:28:52.780Z"
   },
   {
    "duration": 14,
    "start_time": "2024-07-20T12:28:53.296Z"
   },
   {
    "duration": 13,
    "start_time": "2024-07-20T12:28:53.561Z"
   },
   {
    "duration": 4,
    "start_time": "2024-07-20T12:28:54.328Z"
   },
   {
    "duration": 4,
    "start_time": "2024-07-20T12:28:54.459Z"
   },
   {
    "duration": 14,
    "start_time": "2024-07-20T12:28:54.609Z"
   },
   {
    "duration": 4,
    "start_time": "2024-07-20T12:28:54.963Z"
   },
   {
    "duration": 4,
    "start_time": "2024-07-20T12:28:55.135Z"
   },
   {
    "duration": 5,
    "start_time": "2024-07-20T12:28:55.303Z"
   },
   {
    "duration": 11,
    "start_time": "2024-07-20T12:28:55.627Z"
   },
   {
    "duration": 117,
    "start_time": "2024-07-20T12:28:55.772Z"
   },
   {
    "duration": 19,
    "start_time": "2024-07-20T12:28:56.463Z"
   },
   {
    "duration": 4,
    "start_time": "2024-07-20T12:28:56.617Z"
   },
   {
    "duration": 15,
    "start_time": "2024-07-20T12:28:56.787Z"
   },
   {
    "duration": 5,
    "start_time": "2024-07-20T12:28:57.787Z"
   },
   {
    "duration": 6,
    "start_time": "2024-07-20T12:28:57.968Z"
   },
   {
    "duration": 10,
    "start_time": "2024-07-20T12:28:58.613Z"
   },
   {
    "duration": 6,
    "start_time": "2024-07-20T12:28:58.787Z"
   },
   {
    "duration": 1312,
    "start_time": "2024-07-20T13:03:24.528Z"
   },
   {
    "duration": 111,
    "start_time": "2024-07-20T13:03:25.842Z"
   },
   {
    "duration": 16,
    "start_time": "2024-07-20T13:03:25.954Z"
   },
   {
    "duration": 65,
    "start_time": "2024-07-20T13:03:25.971Z"
   },
   {
    "duration": 31,
    "start_time": "2024-07-20T13:03:26.038Z"
   },
   {
    "duration": 7,
    "start_time": "2024-07-20T13:03:26.070Z"
   },
   {
    "duration": 10,
    "start_time": "2024-07-20T13:03:26.078Z"
   },
   {
    "duration": 11,
    "start_time": "2024-07-20T13:03:26.089Z"
   },
   {
    "duration": 44,
    "start_time": "2024-07-20T13:03:26.101Z"
   },
   {
    "duration": 24,
    "start_time": "2024-07-20T13:03:26.146Z"
   },
   {
    "duration": 6,
    "start_time": "2024-07-20T13:03:26.171Z"
   },
   {
    "duration": 12,
    "start_time": "2024-07-20T13:03:26.179Z"
   },
   {
    "duration": 37,
    "start_time": "2024-07-20T13:03:26.192Z"
   },
   {
    "duration": 4,
    "start_time": "2024-07-20T13:03:26.233Z"
   },
   {
    "duration": 5,
    "start_time": "2024-07-20T13:03:26.239Z"
   },
   {
    "duration": 34,
    "start_time": "2024-07-20T13:03:26.246Z"
   },
   {
    "duration": 46,
    "start_time": "2024-07-20T13:03:26.281Z"
   },
   {
    "duration": 16,
    "start_time": "2024-07-20T13:03:26.329Z"
   },
   {
    "duration": 11,
    "start_time": "2024-07-20T13:03:26.347Z"
   },
   {
    "duration": 305,
    "start_time": "2024-07-20T13:03:26.360Z"
   },
   {
    "duration": 12,
    "start_time": "2024-07-20T13:03:26.667Z"
   },
   {
    "duration": 124,
    "start_time": "2024-07-20T13:03:26.681Z"
   },
   {
    "duration": 200,
    "start_time": "2024-07-20T13:03:26.807Z"
   },
   {
    "duration": 9,
    "start_time": "2024-07-20T13:03:27.008Z"
   },
   {
    "duration": 361,
    "start_time": "2024-07-20T13:03:27.019Z"
   },
   {
    "duration": 9,
    "start_time": "2024-07-20T13:03:27.381Z"
   },
   {
    "duration": 9,
    "start_time": "2024-07-20T13:03:27.392Z"
   },
   {
    "duration": 33,
    "start_time": "2024-07-20T13:03:27.402Z"
   },
   {
    "duration": 13,
    "start_time": "2024-07-20T13:03:27.436Z"
   },
   {
    "duration": 4902,
    "start_time": "2024-07-20T13:03:27.450Z"
   },
   {
    "duration": 7,
    "start_time": "2024-07-20T13:03:32.354Z"
   },
   {
    "duration": 10,
    "start_time": "2024-07-20T13:03:32.362Z"
   },
   {
    "duration": 34,
    "start_time": "2024-07-20T13:03:32.373Z"
   },
   {
    "duration": 16,
    "start_time": "2024-07-20T13:03:32.408Z"
   },
   {
    "duration": 29,
    "start_time": "2024-07-20T13:03:32.426Z"
   },
   {
    "duration": 11,
    "start_time": "2024-07-20T13:03:32.457Z"
   },
   {
    "duration": 11,
    "start_time": "2024-07-20T13:03:32.470Z"
   },
   {
    "duration": 44,
    "start_time": "2024-07-20T13:03:32.482Z"
   },
   {
    "duration": 14,
    "start_time": "2024-07-20T13:03:32.527Z"
   },
   {
    "duration": 7,
    "start_time": "2024-07-20T13:03:32.542Z"
   },
   {
    "duration": 14,
    "start_time": "2024-07-20T13:03:32.553Z"
   },
   {
    "duration": 12,
    "start_time": "2024-07-20T13:03:32.569Z"
   },
   {
    "duration": 7,
    "start_time": "2024-07-20T13:03:32.583Z"
   },
   {
    "duration": 34,
    "start_time": "2024-07-20T13:03:32.592Z"
   },
   {
    "duration": 14,
    "start_time": "2024-07-20T13:03:32.627Z"
   },
   {
    "duration": 4,
    "start_time": "2024-07-20T13:03:32.643Z"
   },
   {
    "duration": 4,
    "start_time": "2024-07-20T13:03:32.649Z"
   },
   {
    "duration": 6,
    "start_time": "2024-07-20T13:03:32.654Z"
   },
   {
    "duration": 47,
    "start_time": "2024-07-20T13:03:32.661Z"
   },
   {
    "duration": 129,
    "start_time": "2024-07-20T13:03:32.710Z"
   },
   {
    "duration": 25,
    "start_time": "2024-07-20T13:03:32.840Z"
   },
   {
    "duration": 6,
    "start_time": "2024-07-20T13:03:32.867Z"
   },
   {
    "duration": 15,
    "start_time": "2024-07-20T13:03:32.875Z"
   },
   {
    "duration": 36,
    "start_time": "2024-07-20T13:03:32.892Z"
   },
   {
    "duration": 8,
    "start_time": "2024-07-20T13:03:32.929Z"
   },
   {
    "duration": 11,
    "start_time": "2024-07-20T13:03:32.938Z"
   },
   {
    "duration": 6,
    "start_time": "2024-07-20T13:03:32.951Z"
   },
   {
    "duration": 3,
    "start_time": "2024-07-20T13:03:48.269Z"
   },
   {
    "duration": 108,
    "start_time": "2024-07-20T13:03:48.407Z"
   },
   {
    "duration": 10,
    "start_time": "2024-07-20T13:03:48.714Z"
   },
   {
    "duration": 19,
    "start_time": "2024-07-20T13:03:48.842Z"
   },
   {
    "duration": 29,
    "start_time": "2024-07-20T13:03:49.045Z"
   },
   {
    "duration": 6,
    "start_time": "2024-07-20T13:03:49.188Z"
   },
   {
    "duration": 10,
    "start_time": "2024-07-20T13:03:49.363Z"
   },
   {
    "duration": 12,
    "start_time": "2024-07-20T13:03:49.514Z"
   },
   {
    "duration": 23,
    "start_time": "2024-07-20T13:03:50.138Z"
   },
   {
    "duration": 21,
    "start_time": "2024-07-20T13:03:50.323Z"
   },
   {
    "duration": 7,
    "start_time": "2024-07-20T13:03:50.461Z"
   },
   {
    "duration": 13,
    "start_time": "2024-07-20T13:03:50.651Z"
   },
   {
    "duration": 9,
    "start_time": "2024-07-20T13:03:50.827Z"
   },
   {
    "duration": 5,
    "start_time": "2024-07-20T13:03:51.326Z"
   },
   {
    "duration": 5,
    "start_time": "2024-07-20T13:03:51.332Z"
   },
   {
    "duration": 31,
    "start_time": "2024-07-20T13:03:51.497Z"
   },
   {
    "duration": 14,
    "start_time": "2024-07-20T13:03:51.639Z"
   },
   {
    "duration": 15,
    "start_time": "2024-07-20T13:03:51.827Z"
   },
   {
    "duration": 9,
    "start_time": "2024-07-20T13:03:52.462Z"
   },
   {
    "duration": 233,
    "start_time": "2024-07-20T13:03:52.832Z"
   },
   {
    "duration": 9,
    "start_time": "2024-07-20T13:03:53.167Z"
   },
   {
    "duration": 98,
    "start_time": "2024-07-20T13:03:53.685Z"
   },
   {
    "duration": 33,
    "start_time": "2024-07-20T13:03:54.193Z"
   },
   {
    "duration": 10,
    "start_time": "2024-07-20T13:03:54.346Z"
   },
   {
    "duration": 54,
    "start_time": "2024-07-20T13:03:54.871Z"
   },
   {
    "duration": 10,
    "start_time": "2024-07-20T13:03:55.030Z"
   },
   {
    "duration": 10,
    "start_time": "2024-07-20T13:03:55.617Z"
   },
   {
    "duration": 10,
    "start_time": "2024-07-20T13:03:55.797Z"
   },
   {
    "duration": 11,
    "start_time": "2024-07-20T13:03:56.279Z"
   },
   {
    "duration": 4798,
    "start_time": "2024-07-20T13:03:56.566Z"
   },
   {
    "duration": 8,
    "start_time": "2024-07-20T13:04:01.366Z"
   },
   {
    "duration": 7,
    "start_time": "2024-07-20T13:04:01.375Z"
   },
   {
    "duration": 23,
    "start_time": "2024-07-20T13:04:01.384Z"
   },
   {
    "duration": 19,
    "start_time": "2024-07-20T13:04:01.409Z"
   },
   {
    "duration": 33,
    "start_time": "2024-07-20T13:04:01.430Z"
   },
   {
    "duration": 12,
    "start_time": "2024-07-20T13:04:01.464Z"
   },
   {
    "duration": 13,
    "start_time": "2024-07-20T13:04:01.477Z"
   },
   {
    "duration": 41,
    "start_time": "2024-07-20T13:04:01.491Z"
   },
   {
    "duration": 13,
    "start_time": "2024-07-20T13:04:01.534Z"
   },
   {
    "duration": 14,
    "start_time": "2024-07-20T13:04:01.549Z"
   },
   {
    "duration": 16,
    "start_time": "2024-07-20T13:04:01.565Z"
   },
   {
    "duration": 14,
    "start_time": "2024-07-20T13:04:01.583Z"
   },
   {
    "duration": 27,
    "start_time": "2024-07-20T13:04:01.599Z"
   },
   {
    "duration": 6,
    "start_time": "2024-07-20T13:04:01.628Z"
   },
   {
    "duration": 14,
    "start_time": "2024-07-20T13:04:01.635Z"
   },
   {
    "duration": 199,
    "start_time": "2024-07-20T13:04:01.651Z"
   },
   {
    "duration": 4,
    "start_time": "2024-07-20T13:04:01.852Z"
   },
   {
    "duration": 5,
    "start_time": "2024-07-20T13:04:01.857Z"
   },
   {
    "duration": 11,
    "start_time": "2024-07-20T13:04:01.863Z"
   },
   {
    "duration": 128,
    "start_time": "2024-07-20T13:04:01.875Z"
   },
   {
    "duration": 20,
    "start_time": "2024-07-20T13:04:02.030Z"
   },
   {
    "duration": 5,
    "start_time": "2024-07-20T13:04:02.173Z"
   },
   {
    "duration": 12,
    "start_time": "2024-07-20T13:04:02.357Z"
   },
   {
    "duration": 6,
    "start_time": "2024-07-20T13:04:03.420Z"
   },
   {
    "duration": 7,
    "start_time": "2024-07-20T13:04:03.603Z"
   },
   {
    "duration": 11,
    "start_time": "2024-07-20T13:04:04.620Z"
   },
   {
    "duration": 6,
    "start_time": "2024-07-20T13:04:04.852Z"
   },
   {
    "duration": 1373,
    "start_time": "2024-07-20T13:27:15.287Z"
   },
   {
    "duration": 324,
    "start_time": "2024-07-20T13:27:16.662Z"
   },
   {
    "duration": 13,
    "start_time": "2024-07-20T13:27:16.987Z"
   },
   {
    "duration": 14,
    "start_time": "2024-07-20T13:27:17.002Z"
   },
   {
    "duration": 32,
    "start_time": "2024-07-20T13:27:17.017Z"
   },
   {
    "duration": 8,
    "start_time": "2024-07-20T13:27:17.050Z"
   },
   {
    "duration": 11,
    "start_time": "2024-07-20T13:27:17.060Z"
   },
   {
    "duration": 11,
    "start_time": "2024-07-20T13:27:17.073Z"
   },
   {
    "duration": 22,
    "start_time": "2024-07-20T13:27:17.111Z"
   },
   {
    "duration": 26,
    "start_time": "2024-07-20T13:27:17.136Z"
   },
   {
    "duration": 5,
    "start_time": "2024-07-20T13:27:17.164Z"
   },
   {
    "duration": 38,
    "start_time": "2024-07-20T13:27:17.171Z"
   },
   {
    "duration": 8,
    "start_time": "2024-07-20T13:27:17.210Z"
   },
   {
    "duration": 5,
    "start_time": "2024-07-20T13:27:17.219Z"
   },
   {
    "duration": 7,
    "start_time": "2024-07-20T13:27:17.225Z"
   },
   {
    "duration": 30,
    "start_time": "2024-07-20T13:27:17.234Z"
   },
   {
    "duration": 14,
    "start_time": "2024-07-20T13:27:17.265Z"
   },
   {
    "duration": 38,
    "start_time": "2024-07-20T13:27:17.280Z"
   },
   {
    "duration": 8,
    "start_time": "2024-07-20T13:27:17.319Z"
   },
   {
    "duration": 339,
    "start_time": "2024-07-20T13:27:17.329Z"
   },
   {
    "duration": 9,
    "start_time": "2024-07-20T13:27:17.669Z"
   },
   {
    "duration": 111,
    "start_time": "2024-07-20T13:27:17.679Z"
   },
   {
    "duration": 567,
    "start_time": "2024-07-20T13:27:17.792Z"
   },
   {
    "duration": 10,
    "start_time": "2024-07-20T13:27:18.360Z"
   },
   {
    "duration": 342,
    "start_time": "2024-07-20T13:27:18.372Z"
   },
   {
    "duration": 8,
    "start_time": "2024-07-20T13:27:18.715Z"
   },
   {
    "duration": 8,
    "start_time": "2024-07-20T13:27:18.724Z"
   },
   {
    "duration": 12,
    "start_time": "2024-07-20T13:27:18.735Z"
   },
   {
    "duration": 11,
    "start_time": "2024-07-20T13:27:18.749Z"
   },
   {
    "duration": 3926,
    "start_time": "2024-07-20T13:27:18.762Z"
   },
   {
    "duration": 9,
    "start_time": "2024-07-20T13:27:22.689Z"
   },
   {
    "duration": 13,
    "start_time": "2024-07-20T13:27:22.699Z"
   },
   {
    "duration": 21,
    "start_time": "2024-07-20T13:27:22.713Z"
   },
   {
    "duration": 7,
    "start_time": "2024-07-20T13:27:22.735Z"
   },
   {
    "duration": 46,
    "start_time": "2024-07-20T13:27:22.743Z"
   },
   {
    "duration": 10,
    "start_time": "2024-07-20T13:27:22.791Z"
   },
   {
    "duration": 20,
    "start_time": "2024-07-20T13:27:22.802Z"
   },
   {
    "duration": 26,
    "start_time": "2024-07-20T13:27:22.823Z"
   },
   {
    "duration": 19,
    "start_time": "2024-07-20T13:27:22.851Z"
   },
   {
    "duration": 13,
    "start_time": "2024-07-20T13:27:22.871Z"
   },
   {
    "duration": 19,
    "start_time": "2024-07-20T13:27:22.885Z"
   },
   {
    "duration": 22,
    "start_time": "2024-07-20T13:27:22.905Z"
   },
   {
    "duration": 3,
    "start_time": "2024-07-20T13:27:22.929Z"
   },
   {
    "duration": 5,
    "start_time": "2024-07-20T13:27:22.934Z"
   },
   {
    "duration": 15,
    "start_time": "2024-07-20T13:27:22.940Z"
   },
   {
    "duration": 9,
    "start_time": "2024-07-20T13:27:22.956Z"
   },
   {
    "duration": 7,
    "start_time": "2024-07-20T13:27:22.966Z"
   },
   {
    "duration": 5,
    "start_time": "2024-07-20T13:27:22.975Z"
   },
   {
    "duration": 8,
    "start_time": "2024-07-20T13:27:22.982Z"
   },
   {
    "duration": 139,
    "start_time": "2024-07-20T13:27:22.991Z"
   },
   {
    "duration": 19,
    "start_time": "2024-07-20T13:27:23.132Z"
   },
   {
    "duration": 10,
    "start_time": "2024-07-20T13:27:23.153Z"
   },
   {
    "duration": 65,
    "start_time": "2024-07-20T13:27:23.164Z"
   },
   {
    "duration": 11,
    "start_time": "2024-07-20T13:27:23.231Z"
   },
   {
    "duration": 12,
    "start_time": "2024-07-20T13:27:23.243Z"
   },
   {
    "duration": 10,
    "start_time": "2024-07-20T13:27:23.256Z"
   },
   {
    "duration": 13,
    "start_time": "2024-07-20T13:27:23.268Z"
   },
   {
    "duration": 83,
    "start_time": "2024-07-20T15:12:16.180Z"
   },
   {
    "duration": 1646,
    "start_time": "2024-07-20T15:20:37.103Z"
   },
   {
    "duration": 389,
    "start_time": "2024-07-20T15:20:38.752Z"
   },
   {
    "duration": 21,
    "start_time": "2024-07-20T15:20:39.143Z"
   },
   {
    "duration": 34,
    "start_time": "2024-07-20T15:20:39.167Z"
   },
   {
    "duration": 68,
    "start_time": "2024-07-20T15:20:39.203Z"
   },
   {
    "duration": 14,
    "start_time": "2024-07-20T15:20:39.274Z"
   },
   {
    "duration": 18,
    "start_time": "2024-07-20T15:20:39.292Z"
   },
   {
    "duration": 22,
    "start_time": "2024-07-20T15:20:39.312Z"
   },
   {
    "duration": 39,
    "start_time": "2024-07-20T15:20:39.365Z"
   },
   {
    "duration": 29,
    "start_time": "2024-07-20T15:20:39.530Z"
   },
   {
    "duration": 15,
    "start_time": "2024-07-20T15:20:39.884Z"
   },
   {
    "duration": 23,
    "start_time": "2024-07-20T15:20:40.047Z"
   },
   {
    "duration": 25,
    "start_time": "2024-07-20T15:20:40.256Z"
   },
   {
    "duration": 6,
    "start_time": "2024-07-20T15:20:40.614Z"
   },
   {
    "duration": 10,
    "start_time": "2024-07-20T15:20:40.811Z"
   },
   {
    "duration": 60,
    "start_time": "2024-07-20T15:20:41.152Z"
   },
   {
    "duration": 22,
    "start_time": "2024-07-20T15:20:41.353Z"
   },
   {
    "duration": 29,
    "start_time": "2024-07-20T15:20:41.717Z"
   },
   {
    "duration": 13,
    "start_time": "2024-07-20T15:20:42.634Z"
   },
   {
    "duration": 404,
    "start_time": "2024-07-20T15:20:43.008Z"
   },
   {
    "duration": 14,
    "start_time": "2024-07-20T15:20:43.415Z"
   },
   {
    "duration": 118,
    "start_time": "2024-07-20T15:20:44.556Z"
   },
   {
    "duration": 226,
    "start_time": "2024-07-20T15:20:46.483Z"
   },
   {
    "duration": 15,
    "start_time": "2024-07-20T15:20:49.663Z"
   },
   {
    "duration": 338,
    "start_time": "2024-07-20T15:20:56.954Z"
   },
   {
    "duration": 10,
    "start_time": "2024-07-20T15:20:57.949Z"
   },
   {
    "duration": 11,
    "start_time": "2024-07-20T15:21:10.199Z"
   },
   {
    "duration": 17,
    "start_time": "2024-07-20T15:21:10.809Z"
   },
   {
    "duration": 16,
    "start_time": "2024-07-20T15:21:14.854Z"
   },
   {
    "duration": 5833,
    "start_time": "2024-07-20T15:21:17.800Z"
   },
   {
    "duration": 1179,
    "start_time": "2024-07-20T15:22:28.494Z"
   },
   {
    "duration": 14,
    "start_time": "2024-07-20T15:23:08.794Z"
   },
   {
    "duration": 11,
    "start_time": "2024-07-20T15:23:50.011Z"
   },
   {
    "duration": 16,
    "start_time": "2024-07-20T15:24:10.993Z"
   },
   {
    "duration": 11,
    "start_time": "2024-07-20T15:24:28.398Z"
   },
   {
    "duration": 19,
    "start_time": "2024-07-20T15:27:42.272Z"
   },
   {
    "duration": 17,
    "start_time": "2024-07-20T15:28:33.489Z"
   },
   {
    "duration": 20,
    "start_time": "2024-07-20T15:28:39.985Z"
   },
   {
    "duration": 19,
    "start_time": "2024-07-20T15:28:48.300Z"
   },
   {
    "duration": 3,
    "start_time": "2024-07-20T15:29:45.121Z"
   },
   {
    "duration": 118,
    "start_time": "2024-07-20T15:29:45.293Z"
   },
   {
    "duration": 12,
    "start_time": "2024-07-20T15:29:45.611Z"
   },
   {
    "duration": 29,
    "start_time": "2024-07-20T15:29:45.779Z"
   },
   {
    "duration": 39,
    "start_time": "2024-07-20T15:29:45.942Z"
   },
   {
    "duration": 8,
    "start_time": "2024-07-20T15:29:46.149Z"
   },
   {
    "duration": 11,
    "start_time": "2024-07-20T15:29:46.348Z"
   },
   {
    "duration": 12,
    "start_time": "2024-07-20T15:29:46.520Z"
   },
   {
    "duration": 33,
    "start_time": "2024-07-20T15:29:47.512Z"
   },
   {
    "duration": 22,
    "start_time": "2024-07-20T15:29:48.000Z"
   },
   {
    "duration": 6,
    "start_time": "2024-07-20T15:29:48.420Z"
   },
   {
    "duration": 14,
    "start_time": "2024-07-20T15:29:48.544Z"
   },
   {
    "duration": 11,
    "start_time": "2024-07-20T15:29:48.742Z"
   },
   {
    "duration": 8,
    "start_time": "2024-07-20T15:29:49.088Z"
   },
   {
    "duration": 16,
    "start_time": "2024-07-20T15:29:49.260Z"
   },
   {
    "duration": 40,
    "start_time": "2024-07-20T15:29:49.639Z"
   },
   {
    "duration": 26,
    "start_time": "2024-07-20T15:29:49.867Z"
   },
   {
    "duration": 20,
    "start_time": "2024-07-20T15:29:51.070Z"
   },
   {
    "duration": 45,
    "start_time": "2024-07-20T15:29:51.092Z"
   },
   {
    "duration": 303,
    "start_time": "2024-07-20T15:29:51.713Z"
   },
   {
    "duration": 9,
    "start_time": "2024-07-20T15:29:53.705Z"
   },
   {
    "duration": 113,
    "start_time": "2024-07-20T15:29:55.575Z"
   },
   {
    "duration": 67,
    "start_time": "2024-07-20T15:30:02.138Z"
   },
   {
    "duration": 12,
    "start_time": "2024-07-20T15:30:02.687Z"
   },
   {
    "duration": 58,
    "start_time": "2024-07-20T15:30:07.605Z"
   },
   {
    "duration": 16,
    "start_time": "2024-07-20T15:30:08.071Z"
   },
   {
    "duration": 17,
    "start_time": "2024-07-20T15:30:10.781Z"
   },
   {
    "duration": 10,
    "start_time": "2024-07-20T15:30:21.418Z"
   },
   {
    "duration": 15,
    "start_time": "2024-07-20T15:30:25.424Z"
   },
   {
    "duration": 3866,
    "start_time": "2024-07-20T15:30:31.604Z"
   },
   {
    "duration": 26,
    "start_time": "2024-07-20T15:35:04.585Z"
   },
   {
    "duration": 12,
    "start_time": "2024-07-20T15:35:11.921Z"
   },
   {
    "duration": 77,
    "start_time": "2024-07-20T15:35:56.602Z"
   },
   {
    "duration": 9,
    "start_time": "2024-07-20T15:36:10.826Z"
   },
   {
    "duration": 9,
    "start_time": "2024-07-20T15:36:29.086Z"
   },
   {
    "duration": 21,
    "start_time": "2024-07-20T15:37:27.492Z"
   },
   {
    "duration": 16,
    "start_time": "2024-07-20T15:37:43.228Z"
   },
   {
    "duration": 9,
    "start_time": "2024-07-20T15:41:11.312Z"
   },
   {
    "duration": 10,
    "start_time": "2024-07-20T15:41:50.806Z"
   },
   {
    "duration": 8,
    "start_time": "2024-07-20T15:43:38.424Z"
   },
   {
    "duration": 12,
    "start_time": "2024-07-20T15:43:48.877Z"
   },
   {
    "duration": 3,
    "start_time": "2024-07-20T15:47:12.355Z"
   },
   {
    "duration": 122,
    "start_time": "2024-07-20T15:47:12.485Z"
   },
   {
    "duration": 11,
    "start_time": "2024-07-20T15:47:12.644Z"
   },
   {
    "duration": 19,
    "start_time": "2024-07-20T15:47:12.776Z"
   },
   {
    "duration": 32,
    "start_time": "2024-07-20T15:47:12.930Z"
   },
   {
    "duration": 8,
    "start_time": "2024-07-20T15:47:13.079Z"
   },
   {
    "duration": 10,
    "start_time": "2024-07-20T15:47:13.244Z"
   },
   {
    "duration": 11,
    "start_time": "2024-07-20T15:47:13.424Z"
   },
   {
    "duration": 25,
    "start_time": "2024-07-20T15:47:14.194Z"
   },
   {
    "duration": 30,
    "start_time": "2024-07-20T15:47:14.375Z"
   },
   {
    "duration": 7,
    "start_time": "2024-07-20T15:47:14.713Z"
   },
   {
    "duration": 15,
    "start_time": "2024-07-20T15:47:14.844Z"
   },
   {
    "duration": 10,
    "start_time": "2024-07-20T15:47:15.049Z"
   },
   {
    "duration": 7,
    "start_time": "2024-07-20T15:47:15.357Z"
   },
   {
    "duration": 7,
    "start_time": "2024-07-20T15:47:15.518Z"
   },
   {
    "duration": 41,
    "start_time": "2024-07-20T15:47:15.846Z"
   },
   {
    "duration": 16,
    "start_time": "2024-07-20T15:47:16.019Z"
   },
   {
    "duration": 19,
    "start_time": "2024-07-20T15:47:16.365Z"
   },
   {
    "duration": 11,
    "start_time": "2024-07-20T15:47:17.177Z"
   },
   {
    "duration": 292,
    "start_time": "2024-07-20T15:47:17.538Z"
   },
   {
    "duration": 10,
    "start_time": "2024-07-20T15:47:17.944Z"
   },
   {
    "duration": 110,
    "start_time": "2024-07-20T15:47:18.797Z"
   },
   {
    "duration": 42,
    "start_time": "2024-07-20T15:47:19.856Z"
   },
   {
    "duration": 10,
    "start_time": "2024-07-20T15:47:20.082Z"
   },
   {
    "duration": 65,
    "start_time": "2024-07-20T15:47:21.037Z"
   },
   {
    "duration": 11,
    "start_time": "2024-07-20T15:47:21.194Z"
   },
   {
    "duration": 16,
    "start_time": "2024-07-20T15:47:22.257Z"
   },
   {
    "duration": 11,
    "start_time": "2024-07-20T15:47:22.586Z"
   },
   {
    "duration": 17,
    "start_time": "2024-07-20T15:47:23.126Z"
   },
   {
    "duration": 3701,
    "start_time": "2024-07-20T15:47:23.803Z"
   },
   {
    "duration": 7,
    "start_time": "2024-07-20T15:47:27.506Z"
   },
   {
    "duration": 14,
    "start_time": "2024-07-20T15:47:27.515Z"
   },
   {
    "duration": 6,
    "start_time": "2024-07-20T15:47:27.531Z"
   },
   {
    "duration": 4,
    "start_time": "2024-07-20T15:47:27.856Z"
   },
   {
    "duration": 18,
    "start_time": "2024-07-20T15:47:29.533Z"
   },
   {
    "duration": 6,
    "start_time": "2024-07-20T15:49:34.269Z"
   },
   {
    "duration": 315,
    "start_time": "2024-07-20T15:49:37.386Z"
   },
   {
    "duration": 6,
    "start_time": "2024-07-20T15:51:48.347Z"
   },
   {
    "duration": 404,
    "start_time": "2024-07-20T15:51:49.515Z"
   },
   {
    "duration": 5,
    "start_time": "2024-07-20T15:52:15.405Z"
   },
   {
    "duration": 1029,
    "start_time": "2024-07-20T15:52:18.504Z"
   },
   {
    "duration": 375,
    "start_time": "2024-07-20T15:52:39.033Z"
   },
   {
    "duration": 12,
    "start_time": "2024-07-20T15:52:39.475Z"
   },
   {
    "duration": 9,
    "start_time": "2024-07-20T15:52:59.062Z"
   },
   {
    "duration": 117,
    "start_time": "2024-07-20T15:52:59.185Z"
   },
   {
    "duration": 12,
    "start_time": "2024-07-20T15:52:59.304Z"
   },
   {
    "duration": 23,
    "start_time": "2024-07-20T15:52:59.615Z"
   },
   {
    "duration": 54,
    "start_time": "2024-07-20T15:52:59.760Z"
   },
   {
    "duration": 15,
    "start_time": "2024-07-20T15:52:59.969Z"
   },
   {
    "duration": 11,
    "start_time": "2024-07-20T15:53:00.213Z"
   },
   {
    "duration": 20,
    "start_time": "2024-07-20T15:53:00.560Z"
   },
   {
    "duration": 42,
    "start_time": "2024-07-20T15:53:01.351Z"
   },
   {
    "duration": 21,
    "start_time": "2024-07-20T15:53:01.507Z"
   },
   {
    "duration": 10,
    "start_time": "2024-07-20T15:53:01.947Z"
   },
   {
    "duration": 14,
    "start_time": "2024-07-20T15:53:02.128Z"
   },
   {
    "duration": 19,
    "start_time": "2024-07-20T15:53:02.489Z"
   },
   {
    "duration": 6,
    "start_time": "2024-07-20T15:53:02.836Z"
   },
   {
    "duration": 6,
    "start_time": "2024-07-20T15:53:03.042Z"
   },
   {
    "duration": 44,
    "start_time": "2024-07-20T15:53:03.376Z"
   },
   {
    "duration": 30,
    "start_time": "2024-07-20T15:53:03.554Z"
   },
   {
    "duration": 17,
    "start_time": "2024-07-20T15:53:03.916Z"
   },
   {
    "duration": 11,
    "start_time": "2024-07-20T15:53:04.796Z"
   },
   {
    "duration": 287,
    "start_time": "2024-07-20T15:53:05.142Z"
   },
   {
    "duration": 8,
    "start_time": "2024-07-20T15:53:05.515Z"
   },
   {
    "duration": 117,
    "start_time": "2024-07-20T15:53:06.218Z"
   },
   {
    "duration": 38,
    "start_time": "2024-07-20T15:53:07.016Z"
   },
   {
    "duration": 10,
    "start_time": "2024-07-20T15:53:07.296Z"
   },
   {
    "duration": 63,
    "start_time": "2024-07-20T15:53:08.783Z"
   },
   {
    "duration": 11,
    "start_time": "2024-07-20T15:53:08.977Z"
   },
   {
    "duration": 23,
    "start_time": "2024-07-20T15:53:10.078Z"
   },
   {
    "duration": 13,
    "start_time": "2024-07-20T15:53:10.446Z"
   },
   {
    "duration": 14,
    "start_time": "2024-07-20T15:53:11.194Z"
   },
   {
    "duration": 4280,
    "start_time": "2024-07-20T15:53:12.581Z"
   },
   {
    "duration": 18,
    "start_time": "2024-07-20T15:53:16.863Z"
   },
   {
    "duration": 26,
    "start_time": "2024-07-20T15:53:16.883Z"
   },
   {
    "duration": 9,
    "start_time": "2024-07-20T15:53:16.911Z"
   },
   {
    "duration": 5,
    "start_time": "2024-07-20T15:53:16.921Z"
   },
   {
    "duration": 320,
    "start_time": "2024-07-20T15:53:20.765Z"
   },
   {
    "duration": 6,
    "start_time": "2024-07-20T15:53:22.473Z"
   },
   {
    "duration": 1002,
    "start_time": "2024-07-20T15:53:22.994Z"
   },
   {
    "duration": 17,
    "start_time": "2024-07-20T15:53:24.239Z"
   },
   {
    "duration": 13,
    "start_time": "2024-07-20T15:53:38.944Z"
   },
   {
    "duration": 44,
    "start_time": "2024-07-20T15:56:45.864Z"
   },
   {
    "duration": 15,
    "start_time": "2024-07-20T15:56:55.025Z"
   },
   {
    "duration": 5,
    "start_time": "2024-07-20T15:56:58.415Z"
   },
   {
    "duration": 16,
    "start_time": "2024-07-20T15:57:03.123Z"
   },
   {
    "duration": 17,
    "start_time": "2024-07-20T15:57:05.612Z"
   },
   {
    "duration": 17,
    "start_time": "2024-07-20T16:00:31.521Z"
   },
   {
    "duration": 5,
    "start_time": "2024-07-20T16:01:53.496Z"
   },
   {
    "duration": 8,
    "start_time": "2024-07-20T16:08:10.419Z"
   },
   {
    "duration": 8,
    "start_time": "2024-07-20T16:08:31.828Z"
   },
   {
    "duration": 11,
    "start_time": "2024-07-20T16:08:59.173Z"
   },
   {
    "duration": 4,
    "start_time": "2024-07-20T16:09:21.860Z"
   },
   {
    "duration": 4,
    "start_time": "2024-07-20T16:09:22.703Z"
   },
   {
    "duration": 14,
    "start_time": "2024-07-20T16:09:36.149Z"
   },
   {
    "duration": 6,
    "start_time": "2024-07-20T16:10:28.749Z"
   },
   {
    "duration": 4,
    "start_time": "2024-07-20T16:10:29.330Z"
   },
   {
    "duration": 4,
    "start_time": "2024-07-20T16:10:30.184Z"
   },
   {
    "duration": 11,
    "start_time": "2024-07-20T16:10:33.630Z"
   },
   {
    "duration": 153,
    "start_time": "2024-07-20T16:10:37.452Z"
   },
   {
    "duration": 157,
    "start_time": "2024-07-20T16:11:40.707Z"
   },
   {
    "duration": 35,
    "start_time": "2024-07-20T16:17:59.359Z"
   },
   {
    "duration": 5,
    "start_time": "2024-07-20T16:18:00.621Z"
   },
   {
    "duration": 13,
    "start_time": "2024-07-20T17:30:34.742Z"
   },
   {
    "duration": 8,
    "start_time": "2024-07-20T17:30:34.971Z"
   },
   {
    "duration": 1100,
    "start_time": "2024-07-20T17:32:21.286Z"
   },
   {
    "duration": 1088,
    "start_time": "2024-07-20T17:32:35.315Z"
   },
   {
    "duration": 5,
    "start_time": "2024-07-20T18:01:32.820Z"
   },
   {
    "duration": 128,
    "start_time": "2024-07-20T18:01:32.980Z"
   },
   {
    "duration": 23,
    "start_time": "2024-07-20T18:01:33.159Z"
   },
   {
    "duration": 24,
    "start_time": "2024-07-20T18:01:33.329Z"
   },
   {
    "duration": 35,
    "start_time": "2024-07-20T18:01:33.499Z"
   },
   {
    "duration": 11,
    "start_time": "2024-07-20T18:01:33.693Z"
   },
   {
    "duration": 14,
    "start_time": "2024-07-20T18:01:33.868Z"
   },
   {
    "duration": 12,
    "start_time": "2024-07-20T18:01:34.008Z"
   },
   {
    "duration": 39,
    "start_time": "2024-07-20T18:01:35.061Z"
   },
   {
    "duration": 34,
    "start_time": "2024-07-20T18:01:35.225Z"
   },
   {
    "duration": 20,
    "start_time": "2024-07-20T18:01:35.563Z"
   },
   {
    "duration": 21,
    "start_time": "2024-07-20T18:01:35.739Z"
   },
   {
    "duration": 17,
    "start_time": "2024-07-20T18:01:35.913Z"
   },
   {
    "duration": 7,
    "start_time": "2024-07-20T18:01:36.217Z"
   },
   {
    "duration": 7,
    "start_time": "2024-07-20T18:01:36.390Z"
   },
   {
    "duration": 33,
    "start_time": "2024-07-20T18:01:36.726Z"
   },
   {
    "duration": 27,
    "start_time": "2024-07-20T18:01:37.071Z"
   },
   {
    "duration": 18,
    "start_time": "2024-07-20T18:01:37.402Z"
   },
   {
    "duration": 12,
    "start_time": "2024-07-20T18:01:38.202Z"
   },
   {
    "duration": 311,
    "start_time": "2024-07-20T18:01:38.511Z"
   },
   {
    "duration": 7,
    "start_time": "2024-07-20T18:01:38.931Z"
   },
   {
    "duration": 158,
    "start_time": "2024-07-20T18:01:39.624Z"
   },
   {
    "duration": 194,
    "start_time": "2024-07-20T18:01:40.779Z"
   },
   {
    "duration": 13,
    "start_time": "2024-07-20T18:01:41.141Z"
   },
   {
    "duration": 59,
    "start_time": "2024-07-20T18:01:43.105Z"
   },
   {
    "duration": 14,
    "start_time": "2024-07-20T18:01:43.259Z"
   },
   {
    "duration": 10,
    "start_time": "2024-07-20T18:01:44.114Z"
   },
   {
    "duration": 15,
    "start_time": "2024-07-20T18:01:44.493Z"
   },
   {
    "duration": 20,
    "start_time": "2024-07-20T18:01:45.024Z"
   },
   {
    "duration": 4235,
    "start_time": "2024-07-20T18:01:45.939Z"
   },
   {
    "duration": 13,
    "start_time": "2024-07-20T18:01:50.179Z"
   },
   {
    "duration": 10,
    "start_time": "2024-07-20T18:01:50.196Z"
   },
   {
    "duration": 6,
    "start_time": "2024-07-20T18:01:50.209Z"
   },
   {
    "duration": 13,
    "start_time": "2024-07-20T18:01:50.216Z"
   },
   {
    "duration": 392,
    "start_time": "2024-07-20T18:01:50.231Z"
   },
   {
    "duration": 5,
    "start_time": "2024-07-20T18:01:50.626Z"
   },
   {
    "duration": 992,
    "start_time": "2024-07-20T18:01:50.633Z"
   },
   {
    "duration": 13,
    "start_time": "2024-07-20T18:01:51.627Z"
   },
   {
    "duration": 31,
    "start_time": "2024-07-20T18:01:51.642Z"
   },
   {
    "duration": 28,
    "start_time": "2024-07-20T18:01:51.675Z"
   },
   {
    "duration": 22,
    "start_time": "2024-07-20T18:01:51.705Z"
   },
   {
    "duration": 72,
    "start_time": "2024-07-20T18:01:51.729Z"
   },
   {
    "duration": 15,
    "start_time": "2024-07-20T18:01:51.999Z"
   },
   {
    "duration": 14,
    "start_time": "2024-07-20T18:01:52.212Z"
   },
   {
    "duration": 10,
    "start_time": "2024-07-20T18:01:52.990Z"
   },
   {
    "duration": 9,
    "start_time": "2024-07-20T18:01:54.787Z"
   },
   {
    "duration": 7,
    "start_time": "2024-07-20T18:01:55.152Z"
   },
   {
    "duration": 14,
    "start_time": "2024-07-20T18:01:55.709Z"
   },
   {
    "duration": 10,
    "start_time": "2024-07-20T18:01:56.579Z"
   },
   {
    "duration": 5,
    "start_time": "2024-07-20T18:01:57.330Z"
   },
   {
    "duration": 5,
    "start_time": "2024-07-20T18:01:57.600Z"
   },
   {
    "duration": 14,
    "start_time": "2024-07-20T18:01:58.919Z"
   },
   {
    "duration": 145,
    "start_time": "2024-07-20T18:01:59.301Z"
   },
   {
    "duration": 1114,
    "start_time": "2024-07-20T18:02:02.221Z"
   },
   {
    "duration": 334,
    "start_time": "2024-07-20T18:02:18.320Z"
   },
   {
    "duration": 14,
    "start_time": "2024-07-20T18:02:50.350Z"
   },
   {
    "duration": 300,
    "start_time": "2024-07-20T18:05:46.810Z"
   },
   {
    "duration": 326,
    "start_time": "2024-07-20T18:05:51.692Z"
   },
   {
    "duration": 349,
    "start_time": "2024-07-20T18:08:51.579Z"
   },
   {
    "duration": 5,
    "start_time": "2024-07-20T18:09:15.717Z"
   },
   {
    "duration": 385,
    "start_time": "2024-07-20T18:09:39.099Z"
   },
   {
    "duration": 5,
    "start_time": "2024-07-20T18:09:41.118Z"
   },
   {
    "duration": 317,
    "start_time": "2024-07-20T18:09:49.264Z"
   },
   {
    "duration": 6,
    "start_time": "2024-07-20T18:09:51.160Z"
   },
   {
    "duration": 339,
    "start_time": "2024-07-20T18:09:57.898Z"
   },
   {
    "duration": 9,
    "start_time": "2024-07-20T18:09:58.568Z"
   },
   {
    "duration": 297,
    "start_time": "2024-07-20T18:10:14.739Z"
   },
   {
    "duration": 5,
    "start_time": "2024-07-20T18:10:15.207Z"
   },
   {
    "duration": 345,
    "start_time": "2024-07-20T18:10:49.687Z"
   },
   {
    "duration": 5,
    "start_time": "2024-07-20T18:10:50.300Z"
   },
   {
    "duration": 4,
    "start_time": "2024-07-20T18:10:59.916Z"
   },
   {
    "duration": 120,
    "start_time": "2024-07-20T18:11:00.088Z"
   },
   {
    "duration": 12,
    "start_time": "2024-07-20T18:11:00.225Z"
   },
   {
    "duration": 22,
    "start_time": "2024-07-20T18:11:00.393Z"
   },
   {
    "duration": 33,
    "start_time": "2024-07-20T18:11:00.580Z"
   },
   {
    "duration": 15,
    "start_time": "2024-07-20T18:11:00.722Z"
   },
   {
    "duration": 15,
    "start_time": "2024-07-20T18:11:00.886Z"
   },
   {
    "duration": 14,
    "start_time": "2024-07-20T18:11:01.085Z"
   },
   {
    "duration": 21,
    "start_time": "2024-07-20T18:11:02.006Z"
   },
   {
    "duration": 27,
    "start_time": "2024-07-20T18:11:02.174Z"
   },
   {
    "duration": 8,
    "start_time": "2024-07-20T18:11:02.483Z"
   },
   {
    "duration": 29,
    "start_time": "2024-07-20T18:11:02.651Z"
   },
   {
    "duration": 10,
    "start_time": "2024-07-20T18:11:02.832Z"
   },
   {
    "duration": 6,
    "start_time": "2024-07-20T18:11:03.152Z"
   },
   {
    "duration": 6,
    "start_time": "2024-07-20T18:11:03.330Z"
   },
   {
    "duration": 37,
    "start_time": "2024-07-20T18:11:03.636Z"
   },
   {
    "duration": 23,
    "start_time": "2024-07-20T18:11:03.816Z"
   },
   {
    "duration": 25,
    "start_time": "2024-07-20T18:11:04.140Z"
   },
   {
    "duration": 17,
    "start_time": "2024-07-20T18:11:05.002Z"
   },
   {
    "duration": 248,
    "start_time": "2024-07-20T18:11:05.384Z"
   },
   {
    "duration": 8,
    "start_time": "2024-07-20T18:11:06.036Z"
   },
   {
    "duration": 105,
    "start_time": "2024-07-20T18:11:06.636Z"
   },
   {
    "duration": 44,
    "start_time": "2024-07-20T18:11:07.338Z"
   },
   {
    "duration": 15,
    "start_time": "2024-07-20T18:11:07.467Z"
   },
   {
    "duration": 60,
    "start_time": "2024-07-20T18:11:08.301Z"
   },
   {
    "duration": 9,
    "start_time": "2024-07-20T18:11:08.478Z"
   },
   {
    "duration": 10,
    "start_time": "2024-07-20T18:11:09.337Z"
   },
   {
    "duration": 13,
    "start_time": "2024-07-20T18:11:09.643Z"
   },
   {
    "duration": 13,
    "start_time": "2024-07-20T18:11:10.149Z"
   },
   {
    "duration": 3915,
    "start_time": "2024-07-20T18:11:11.496Z"
   },
   {
    "duration": 9,
    "start_time": "2024-07-20T18:11:15.414Z"
   },
   {
    "duration": 14,
    "start_time": "2024-07-20T18:11:15.425Z"
   },
   {
    "duration": 28,
    "start_time": "2024-07-20T18:11:15.441Z"
   },
   {
    "duration": 7,
    "start_time": "2024-07-20T18:11:15.472Z"
   },
   {
    "duration": 358,
    "start_time": "2024-07-20T18:11:15.481Z"
   },
   {
    "duration": 4,
    "start_time": "2024-07-20T18:11:15.841Z"
   },
   {
    "duration": 883,
    "start_time": "2024-07-20T18:11:15.847Z"
   },
   {
    "duration": 11,
    "start_time": "2024-07-20T18:11:16.731Z"
   },
   {
    "duration": 37,
    "start_time": "2024-07-20T18:11:16.745Z"
   },
   {
    "duration": 20,
    "start_time": "2024-07-20T18:11:16.784Z"
   },
   {
    "duration": 14,
    "start_time": "2024-07-20T18:11:16.806Z"
   },
   {
    "duration": 6,
    "start_time": "2024-07-20T18:11:16.822Z"
   },
   {
    "duration": 45,
    "start_time": "2024-07-20T18:11:16.830Z"
   },
   {
    "duration": 55,
    "start_time": "2024-07-20T18:11:16.876Z"
   },
   {
    "duration": 8,
    "start_time": "2024-07-20T18:11:16.933Z"
   },
   {
    "duration": 6,
    "start_time": "2024-07-20T18:11:16.945Z"
   },
   {
    "duration": 5,
    "start_time": "2024-07-20T18:11:17.121Z"
   },
   {
    "duration": 22,
    "start_time": "2024-07-20T18:11:17.282Z"
   },
   {
    "duration": 5,
    "start_time": "2024-07-20T18:11:17.623Z"
   },
   {
    "duration": 5,
    "start_time": "2024-07-20T18:11:17.902Z"
   },
   {
    "duration": 7,
    "start_time": "2024-07-20T18:11:18.069Z"
   },
   {
    "duration": 15,
    "start_time": "2024-07-20T18:11:18.888Z"
   },
   {
    "duration": 141,
    "start_time": "2024-07-20T18:11:19.099Z"
   },
   {
    "duration": 306,
    "start_time": "2024-07-20T18:11:23.802Z"
   },
   {
    "duration": 5,
    "start_time": "2024-07-20T18:11:24.908Z"
   },
   {
    "duration": 313,
    "start_time": "2024-07-20T18:12:06.305Z"
   },
   {
    "duration": 14,
    "start_time": "2024-07-20T18:12:06.768Z"
   },
   {
    "duration": 309,
    "start_time": "2024-07-20T18:12:45.052Z"
   },
   {
    "duration": 4,
    "start_time": "2024-07-20T18:12:45.492Z"
   },
   {
    "duration": 299,
    "start_time": "2024-07-20T18:12:53.914Z"
   },
   {
    "duration": 5,
    "start_time": "2024-07-20T18:12:55.054Z"
   },
   {
    "duration": 308,
    "start_time": "2024-07-20T18:13:01.323Z"
   },
   {
    "duration": 4,
    "start_time": "2024-07-20T18:13:01.834Z"
   },
   {
    "duration": 339,
    "start_time": "2024-07-20T18:13:09.314Z"
   },
   {
    "duration": 12,
    "start_time": "2024-07-20T18:13:09.674Z"
   },
   {
    "duration": 9,
    "start_time": "2024-07-20T18:13:21.161Z"
   },
   {
    "duration": 111,
    "start_time": "2024-07-20T18:13:21.325Z"
   },
   {
    "duration": 11,
    "start_time": "2024-07-20T18:13:21.498Z"
   },
   {
    "duration": 21,
    "start_time": "2024-07-20T18:13:21.675Z"
   },
   {
    "duration": 38,
    "start_time": "2024-07-20T18:13:21.837Z"
   },
   {
    "duration": 8,
    "start_time": "2024-07-20T18:13:22.002Z"
   },
   {
    "duration": 13,
    "start_time": "2024-07-20T18:13:22.157Z"
   },
   {
    "duration": 13,
    "start_time": "2024-07-20T18:13:22.315Z"
   },
   {
    "duration": 26,
    "start_time": "2024-07-20T18:13:23.150Z"
   },
   {
    "duration": 24,
    "start_time": "2024-07-20T18:13:23.353Z"
   },
   {
    "duration": 16,
    "start_time": "2024-07-20T18:13:23.671Z"
   },
   {
    "duration": 14,
    "start_time": "2024-07-20T18:13:23.847Z"
   },
   {
    "duration": 11,
    "start_time": "2024-07-20T18:13:24.005Z"
   },
   {
    "duration": 13,
    "start_time": "2024-07-20T18:13:24.360Z"
   },
   {
    "duration": 6,
    "start_time": "2024-07-20T18:13:24.512Z"
   },
   {
    "duration": 37,
    "start_time": "2024-07-20T18:13:24.842Z"
   },
   {
    "duration": 20,
    "start_time": "2024-07-20T18:13:25.044Z"
   },
   {
    "duration": 23,
    "start_time": "2024-07-20T18:13:25.458Z"
   },
   {
    "duration": 10,
    "start_time": "2024-07-20T18:13:26.443Z"
   },
   {
    "duration": 253,
    "start_time": "2024-07-20T18:13:26.772Z"
   },
   {
    "duration": 8,
    "start_time": "2024-07-20T18:13:27.116Z"
   },
   {
    "duration": 156,
    "start_time": "2024-07-20T18:13:27.793Z"
   },
   {
    "duration": 41,
    "start_time": "2024-07-20T18:13:28.461Z"
   },
   {
    "duration": 11,
    "start_time": "2024-07-20T18:13:28.610Z"
   },
   {
    "duration": 68,
    "start_time": "2024-07-20T18:13:29.615Z"
   },
   {
    "duration": 12,
    "start_time": "2024-07-20T18:13:29.788Z"
   },
   {
    "duration": 9,
    "start_time": "2024-07-20T18:13:30.612Z"
   },
   {
    "duration": 11,
    "start_time": "2024-07-20T18:13:30.944Z"
   },
   {
    "duration": 17,
    "start_time": "2024-07-20T18:13:31.440Z"
   },
   {
    "duration": 3805,
    "start_time": "2024-07-20T18:13:31.806Z"
   },
   {
    "duration": 8,
    "start_time": "2024-07-20T18:13:35.613Z"
   },
   {
    "duration": 32,
    "start_time": "2024-07-20T18:13:35.624Z"
   },
   {
    "duration": 23,
    "start_time": "2024-07-20T18:13:35.658Z"
   },
   {
    "duration": 5,
    "start_time": "2024-07-20T18:13:35.684Z"
   },
   {
    "duration": 334,
    "start_time": "2024-07-20T18:13:35.690Z"
   },
   {
    "duration": 5,
    "start_time": "2024-07-20T18:13:36.026Z"
   },
   {
    "duration": 923,
    "start_time": "2024-07-20T18:13:36.033Z"
   },
   {
    "duration": 25,
    "start_time": "2024-07-20T18:13:36.958Z"
   },
   {
    "duration": 18,
    "start_time": "2024-07-20T18:13:36.986Z"
   },
   {
    "duration": 24,
    "start_time": "2024-07-20T18:13:37.006Z"
   },
   {
    "duration": 23,
    "start_time": "2024-07-20T18:13:37.032Z"
   },
   {
    "duration": 23,
    "start_time": "2024-07-20T18:13:37.057Z"
   },
   {
    "duration": 15,
    "start_time": "2024-07-20T18:13:37.228Z"
   },
   {
    "duration": 15,
    "start_time": "2024-07-20T18:13:37.404Z"
   },
   {
    "duration": 7,
    "start_time": "2024-07-20T18:13:37.728Z"
   },
   {
    "duration": 4,
    "start_time": "2024-07-20T18:13:38.444Z"
   },
   {
    "duration": 4,
    "start_time": "2024-07-20T18:13:38.616Z"
   },
   {
    "duration": 26,
    "start_time": "2024-07-20T18:13:38.757Z"
   },
   {
    "duration": 5,
    "start_time": "2024-07-20T18:13:39.112Z"
   },
   {
    "duration": 4,
    "start_time": "2024-07-20T18:13:39.409Z"
   },
   {
    "duration": 5,
    "start_time": "2024-07-20T18:13:39.597Z"
   },
   {
    "duration": 18,
    "start_time": "2024-07-20T18:13:39.952Z"
   },
   {
    "duration": 140,
    "start_time": "2024-07-20T18:13:40.385Z"
   },
   {
    "duration": 338,
    "start_time": "2024-07-20T18:14:35.759Z"
   },
   {
    "duration": 6,
    "start_time": "2024-07-20T18:14:36.238Z"
   },
   {
    "duration": 344,
    "start_time": "2024-07-20T18:14:49.274Z"
   },
   {
    "duration": 6,
    "start_time": "2024-07-20T18:14:49.725Z"
   },
   {
    "duration": 1102,
    "start_time": "2024-07-20T18:15:11.241Z"
   },
   {
    "duration": 24,
    "start_time": "2024-07-20T18:16:10.792Z"
   },
   {
    "duration": 315,
    "start_time": "2024-07-20T18:17:19.009Z"
   },
   {
    "duration": 4,
    "start_time": "2024-07-20T18:17:19.528Z"
   },
   {
    "duration": 12,
    "start_time": "2024-07-20T18:17:19.995Z"
   },
   {
    "duration": 4,
    "start_time": "2024-07-20T18:28:04.951Z"
   },
   {
    "duration": 156,
    "start_time": "2024-07-20T18:28:06.238Z"
   },
   {
    "duration": 12,
    "start_time": "2024-07-20T18:28:07.529Z"
   },
   {
    "duration": 20,
    "start_time": "2024-07-20T18:28:10.916Z"
   },
   {
    "duration": 32,
    "start_time": "2024-07-20T18:28:11.391Z"
   },
   {
    "duration": 7,
    "start_time": "2024-07-20T18:28:12.145Z"
   },
   {
    "duration": 10,
    "start_time": "2024-07-20T18:28:12.644Z"
   },
   {
    "duration": 11,
    "start_time": "2024-07-20T18:28:12.897Z"
   },
   {
    "duration": 32,
    "start_time": "2024-07-20T18:28:13.715Z"
   },
   {
    "duration": 22,
    "start_time": "2024-07-20T18:28:14.020Z"
   },
   {
    "duration": 6,
    "start_time": "2024-07-20T18:28:14.339Z"
   },
   {
    "duration": 21,
    "start_time": "2024-07-20T18:28:14.472Z"
   },
   {
    "duration": 10,
    "start_time": "2024-07-20T18:28:14.724Z"
   },
   {
    "duration": 7,
    "start_time": "2024-07-20T18:28:15.004Z"
   },
   {
    "duration": 9,
    "start_time": "2024-07-20T18:28:15.200Z"
   },
   {
    "duration": 33,
    "start_time": "2024-07-20T18:28:15.515Z"
   },
   {
    "duration": 27,
    "start_time": "2024-07-20T18:28:15.671Z"
   },
   {
    "duration": 17,
    "start_time": "2024-07-20T18:28:15.983Z"
   },
   {
    "duration": 14,
    "start_time": "2024-07-20T18:28:16.758Z"
   },
   {
    "duration": 316,
    "start_time": "2024-07-20T18:28:17.105Z"
   },
   {
    "duration": 10,
    "start_time": "2024-07-20T18:28:17.443Z"
   },
   {
    "duration": 113,
    "start_time": "2024-07-20T18:28:18.107Z"
   },
   {
    "duration": 38,
    "start_time": "2024-07-20T18:28:18.787Z"
   },
   {
    "duration": 12,
    "start_time": "2024-07-20T18:28:18.955Z"
   },
   {
    "duration": 69,
    "start_time": "2024-07-20T18:28:19.849Z"
   },
   {
    "duration": 10,
    "start_time": "2024-07-20T18:28:20.048Z"
   },
   {
    "duration": 10,
    "start_time": "2024-07-20T18:28:20.927Z"
   },
   {
    "duration": 13,
    "start_time": "2024-07-20T18:28:21.290Z"
   },
   {
    "duration": 16,
    "start_time": "2024-07-20T18:28:21.983Z"
   },
   {
    "duration": 4031,
    "start_time": "2024-07-20T18:28:22.339Z"
   },
   {
    "duration": 20,
    "start_time": "2024-07-20T18:28:26.372Z"
   },
   {
    "duration": 36,
    "start_time": "2024-07-20T18:28:26.395Z"
   },
   {
    "duration": 8,
    "start_time": "2024-07-20T18:28:26.433Z"
   },
   {
    "duration": 6,
    "start_time": "2024-07-20T18:28:26.442Z"
   },
   {
    "duration": 341,
    "start_time": "2024-07-20T18:28:26.450Z"
   },
   {
    "duration": 4,
    "start_time": "2024-07-20T18:28:26.793Z"
   },
   {
    "duration": 853,
    "start_time": "2024-07-20T18:28:26.799Z"
   },
   {
    "duration": 19,
    "start_time": "2024-07-20T18:28:27.653Z"
   },
   {
    "duration": 18,
    "start_time": "2024-07-20T18:28:27.675Z"
   },
   {
    "duration": 23,
    "start_time": "2024-07-20T18:28:31.017Z"
   },
   {
    "duration": 14,
    "start_time": "2024-07-20T18:28:31.215Z"
   },
   {
    "duration": 6,
    "start_time": "2024-07-20T18:28:31.427Z"
   },
   {
    "duration": 15,
    "start_time": "2024-07-20T18:28:32.215Z"
   },
   {
    "duration": 14,
    "start_time": "2024-07-20T18:28:32.606Z"
   },
   {
    "duration": 7,
    "start_time": "2024-07-20T18:28:33.612Z"
   },
   {
    "duration": 4,
    "start_time": "2024-07-20T18:28:35.132Z"
   },
   {
    "duration": 5,
    "start_time": "2024-07-20T18:28:35.448Z"
   },
   {
    "duration": 25,
    "start_time": "2024-07-20T18:28:35.869Z"
   },
   {
    "duration": 12,
    "start_time": "2024-07-20T18:28:37.263Z"
   },
   {
    "duration": 4,
    "start_time": "2024-07-20T18:28:37.618Z"
   },
   {
    "duration": 5,
    "start_time": "2024-07-20T18:28:38.613Z"
   },
   {
    "duration": 12,
    "start_time": "2024-07-20T18:28:39.205Z"
   },
   {
    "duration": 162,
    "start_time": "2024-07-20T18:28:39.419Z"
   },
   {
    "duration": 1166,
    "start_time": "2024-07-20T18:28:41.741Z"
   },
   {
    "duration": 0,
    "start_time": "2024-07-20T18:28:42.910Z"
   },
   {
    "duration": 21,
    "start_time": "2024-07-20T18:29:15.357Z"
   },
   {
    "duration": 5,
    "start_time": "2024-07-20T18:29:33.789Z"
   },
   {
    "duration": 124,
    "start_time": "2024-07-20T18:29:33.929Z"
   },
   {
    "duration": 20,
    "start_time": "2024-07-20T18:29:34.082Z"
   },
   {
    "duration": 20,
    "start_time": "2024-07-20T18:29:34.237Z"
   },
   {
    "duration": 31,
    "start_time": "2024-07-20T18:29:34.404Z"
   },
   {
    "duration": 13,
    "start_time": "2024-07-20T18:29:34.578Z"
   },
   {
    "duration": 11,
    "start_time": "2024-07-20T18:29:34.730Z"
   },
   {
    "duration": 12,
    "start_time": "2024-07-20T18:29:34.905Z"
   },
   {
    "duration": 38,
    "start_time": "2024-07-20T18:29:35.693Z"
   },
   {
    "duration": 35,
    "start_time": "2024-07-20T18:29:35.865Z"
   },
   {
    "duration": 20,
    "start_time": "2024-07-20T18:29:36.221Z"
   },
   {
    "duration": 25,
    "start_time": "2024-07-20T18:29:36.396Z"
   },
   {
    "duration": 16,
    "start_time": "2024-07-20T18:29:36.558Z"
   },
   {
    "duration": 16,
    "start_time": "2024-07-20T18:29:36.888Z"
   },
   {
    "duration": 11,
    "start_time": "2024-07-20T18:29:37.062Z"
   },
   {
    "duration": 77,
    "start_time": "2024-07-20T18:29:37.364Z"
   },
   {
    "duration": 19,
    "start_time": "2024-07-20T18:29:37.533Z"
   },
   {
    "duration": 38,
    "start_time": "2024-07-20T18:29:37.864Z"
   },
   {
    "duration": 14,
    "start_time": "2024-07-20T18:29:38.758Z"
   },
   {
    "duration": 305,
    "start_time": "2024-07-20T18:29:39.109Z"
   },
   {
    "duration": 9,
    "start_time": "2024-07-20T18:29:39.420Z"
   },
   {
    "duration": 147,
    "start_time": "2024-07-20T18:29:40.098Z"
   },
   {
    "duration": 166,
    "start_time": "2024-07-20T18:29:40.867Z"
   },
   {
    "duration": 9,
    "start_time": "2024-07-20T18:29:41.052Z"
   },
   {
    "duration": 82,
    "start_time": "2024-07-20T18:29:41.964Z"
   },
   {
    "duration": 10,
    "start_time": "2024-07-20T18:29:42.140Z"
   },
   {
    "duration": 17,
    "start_time": "2024-07-20T18:29:42.999Z"
   },
   {
    "duration": 23,
    "start_time": "2024-07-20T18:29:43.887Z"
   },
   {
    "duration": 21,
    "start_time": "2024-07-20T18:29:49.457Z"
   },
   {
    "duration": 3874,
    "start_time": "2024-07-20T18:29:50.381Z"
   },
   {
    "duration": 12,
    "start_time": "2024-07-20T18:29:54.256Z"
   },
   {
    "duration": 15,
    "start_time": "2024-07-20T18:29:55.058Z"
   },
   {
    "duration": 5,
    "start_time": "2024-07-20T18:29:56.316Z"
   },
   {
    "duration": 4,
    "start_time": "2024-07-20T18:29:57.580Z"
   },
   {
    "duration": 329,
    "start_time": "2024-07-20T18:30:02.782Z"
   },
   {
    "duration": 3,
    "start_time": "2024-07-20T18:30:03.351Z"
   },
   {
    "duration": 935,
    "start_time": "2024-07-20T18:30:05.164Z"
   },
   {
    "duration": 12,
    "start_time": "2024-07-20T18:30:06.102Z"
   },
   {
    "duration": 14,
    "start_time": "2024-07-20T18:30:07.493Z"
   },
   {
    "duration": 20,
    "start_time": "2024-07-20T18:30:22.289Z"
   },
   {
    "duration": 14,
    "start_time": "2024-07-20T18:30:22.709Z"
   },
   {
    "duration": 10,
    "start_time": "2024-07-20T18:30:23.184Z"
   },
   {
    "duration": 13,
    "start_time": "2024-07-20T18:30:26.036Z"
   },
   {
    "duration": 4,
    "start_time": "2024-07-20T18:30:26.506Z"
   },
   {
    "duration": 20,
    "start_time": "2024-07-20T18:30:27.485Z"
   },
   {
    "duration": 20,
    "start_time": "2024-07-20T18:30:28.482Z"
   },
   {
    "duration": 16,
    "start_time": "2024-07-20T18:30:30.081Z"
   },
   {
    "duration": 5,
    "start_time": "2024-07-20T18:30:30.725Z"
   },
   {
    "duration": 5,
    "start_time": "2024-07-20T18:30:30.894Z"
   },
   {
    "duration": 22,
    "start_time": "2024-07-20T18:30:31.064Z"
   },
   {
    "duration": 5,
    "start_time": "2024-07-20T18:30:31.436Z"
   },
   {
    "duration": 76,
    "start_time": "2024-07-20T18:30:31.552Z"
   },
   {
    "duration": 5,
    "start_time": "2024-07-20T18:30:31.747Z"
   },
   {
    "duration": 13,
    "start_time": "2024-07-20T18:30:32.216Z"
   },
   {
    "duration": 160,
    "start_time": "2024-07-20T18:30:32.428Z"
   },
   {
    "duration": 20,
    "start_time": "2024-07-20T18:30:42.677Z"
   },
   {
    "duration": 12,
    "start_time": "2024-07-20T18:31:56.628Z"
   },
   {
    "duration": 20,
    "start_time": "2024-07-20T18:33:16.191Z"
   },
   {
    "duration": 366,
    "start_time": "2024-07-20T18:33:16.735Z"
   },
   {
    "duration": 17,
    "start_time": "2024-07-20T18:33:44.852Z"
   },
   {
    "duration": 13,
    "start_time": "2024-07-20T18:33:57.913Z"
   },
   {
    "duration": 197,
    "start_time": "2024-07-20T18:33:58.484Z"
   },
   {
    "duration": 5,
    "start_time": "2024-07-20T18:34:00.935Z"
   },
   {
    "duration": 4,
    "start_time": "2024-07-20T18:34:34.834Z"
   },
   {
    "duration": 125,
    "start_time": "2024-07-20T18:34:34.991Z"
   },
   {
    "duration": 16,
    "start_time": "2024-07-20T18:34:35.152Z"
   },
   {
    "duration": 19,
    "start_time": "2024-07-20T18:34:35.319Z"
   },
   {
    "duration": 35,
    "start_time": "2024-07-20T18:34:35.479Z"
   },
   {
    "duration": 7,
    "start_time": "2024-07-20T18:34:35.630Z"
   },
   {
    "duration": 18,
    "start_time": "2024-07-20T18:34:35.764Z"
   },
   {
    "duration": 41,
    "start_time": "2024-07-20T18:34:36.170Z"
   },
   {
    "duration": 22,
    "start_time": "2024-07-20T18:34:36.745Z"
   },
   {
    "duration": 26,
    "start_time": "2024-07-20T18:34:36.909Z"
   },
   {
    "duration": 12,
    "start_time": "2024-07-20T18:34:37.174Z"
   },
   {
    "duration": 12,
    "start_time": "2024-07-20T18:34:37.314Z"
   },
   {
    "duration": 10,
    "start_time": "2024-07-20T18:34:37.487Z"
   },
   {
    "duration": 6,
    "start_time": "2024-07-20T18:34:37.817Z"
   },
   {
    "duration": 10,
    "start_time": "2024-07-20T18:34:37.981Z"
   },
   {
    "duration": 47,
    "start_time": "2024-07-20T18:34:38.258Z"
   },
   {
    "duration": 16,
    "start_time": "2024-07-20T18:34:38.427Z"
   },
   {
    "duration": 16,
    "start_time": "2024-07-20T18:34:38.717Z"
   },
   {
    "duration": 11,
    "start_time": "2024-07-20T18:34:39.546Z"
   },
   {
    "duration": 257,
    "start_time": "2024-07-20T18:34:39.868Z"
   },
   {
    "duration": 12,
    "start_time": "2024-07-20T18:34:40.183Z"
   },
   {
    "duration": 107,
    "start_time": "2024-07-20T18:34:40.840Z"
   },
   {
    "duration": 34,
    "start_time": "2024-07-20T18:34:41.522Z"
   },
   {
    "duration": 10,
    "start_time": "2024-07-20T18:34:41.830Z"
   },
   {
    "duration": 65,
    "start_time": "2024-07-20T18:34:42.745Z"
   },
   {
    "duration": 9,
    "start_time": "2024-07-20T18:34:42.896Z"
   },
   {
    "duration": 23,
    "start_time": "2024-07-20T18:34:43.771Z"
   },
   {
    "duration": 19,
    "start_time": "2024-07-20T18:34:44.072Z"
   },
   {
    "duration": 12,
    "start_time": "2024-07-20T18:34:44.539Z"
   },
   {
    "duration": 3968,
    "start_time": "2024-07-20T18:34:44.845Z"
   },
   {
    "duration": 6,
    "start_time": "2024-07-20T18:34:48.815Z"
   },
   {
    "duration": 28,
    "start_time": "2024-07-20T18:34:48.823Z"
   },
   {
    "duration": 4,
    "start_time": "2024-07-20T18:34:48.853Z"
   },
   {
    "duration": 4,
    "start_time": "2024-07-20T18:34:48.859Z"
   },
   {
    "duration": 308,
    "start_time": "2024-07-20T18:34:48.864Z"
   },
   {
    "duration": 5,
    "start_time": "2024-07-20T18:34:49.179Z"
   },
   {
    "duration": 896,
    "start_time": "2024-07-20T18:34:49.188Z"
   },
   {
    "duration": 14,
    "start_time": "2024-07-20T18:34:50.086Z"
   },
   {
    "duration": 12,
    "start_time": "2024-07-20T18:34:50.102Z"
   },
   {
    "duration": 20,
    "start_time": "2024-07-20T18:34:50.116Z"
   },
   {
    "duration": 52,
    "start_time": "2024-07-20T18:34:50.138Z"
   },
   {
    "duration": 5,
    "start_time": "2024-07-20T18:34:50.192Z"
   },
   {
    "duration": 21,
    "start_time": "2024-07-20T18:34:50.199Z"
   },
   {
    "duration": 16,
    "start_time": "2024-07-20T18:34:50.222Z"
   },
   {
    "duration": 7,
    "start_time": "2024-07-20T18:34:50.240Z"
   },
   {
    "duration": 24,
    "start_time": "2024-07-20T18:34:50.249Z"
   },
   {
    "duration": 8,
    "start_time": "2024-07-20T18:34:50.373Z"
   },
   {
    "duration": 15,
    "start_time": "2024-07-20T18:34:50.585Z"
   },
   {
    "duration": 8,
    "start_time": "2024-07-20T18:34:50.966Z"
   },
   {
    "duration": 4,
    "start_time": "2024-07-20T18:34:51.129Z"
   },
   {
    "duration": 6,
    "start_time": "2024-07-20T18:34:51.314Z"
   },
   {
    "duration": 13,
    "start_time": "2024-07-20T18:34:51.684Z"
   },
   {
    "duration": 147,
    "start_time": "2024-07-20T18:34:51.863Z"
   },
   {
    "duration": 333,
    "start_time": "2024-07-20T18:34:53.441Z"
   },
   {
    "duration": 9,
    "start_time": "2024-07-20T18:34:53.776Z"
   },
   {
    "duration": 11,
    "start_time": "2024-07-20T18:34:54.681Z"
   },
   {
    "duration": 976,
    "start_time": "2024-07-20T18:37:41.204Z"
   },
   {
    "duration": 1250,
    "start_time": "2024-07-20T18:37:44.049Z"
   },
   {
    "duration": 14,
    "start_time": "2024-07-20T18:38:07.173Z"
   },
   {
    "duration": 9,
    "start_time": "2024-07-20T18:38:15.905Z"
   },
   {
    "duration": 1046,
    "start_time": "2024-07-20T18:45:55.861Z"
   },
   {
    "duration": 9,
    "start_time": "2024-07-20T18:46:01.687Z"
   },
   {
    "duration": 6,
    "start_time": "2024-07-20T18:49:40.737Z"
   },
   {
    "duration": 7,
    "start_time": "2024-07-20T18:51:14.302Z"
   },
   {
    "duration": 13,
    "start_time": "2024-07-20T18:53:09.557Z"
   },
   {
    "duration": 907,
    "start_time": "2024-07-20T19:07:00.779Z"
   },
   {
    "duration": 5,
    "start_time": "2024-07-20T19:07:18.270Z"
   },
   {
    "duration": 114,
    "start_time": "2024-07-20T19:07:18.425Z"
   },
   {
    "duration": 12,
    "start_time": "2024-07-20T19:07:18.578Z"
   },
   {
    "duration": 20,
    "start_time": "2024-07-20T19:07:18.771Z"
   },
   {
    "duration": 32,
    "start_time": "2024-07-20T19:07:18.905Z"
   },
   {
    "duration": 8,
    "start_time": "2024-07-20T19:07:19.080Z"
   },
   {
    "duration": 12,
    "start_time": "2024-07-20T19:07:19.244Z"
   },
   {
    "duration": 11,
    "start_time": "2024-07-20T19:07:19.397Z"
   },
   {
    "duration": 22,
    "start_time": "2024-07-20T19:07:20.164Z"
   },
   {
    "duration": 23,
    "start_time": "2024-07-20T19:07:20.287Z"
   },
   {
    "duration": 7,
    "start_time": "2024-07-20T19:07:20.634Z"
   },
   {
    "duration": 14,
    "start_time": "2024-07-20T19:07:20.792Z"
   },
   {
    "duration": 10,
    "start_time": "2024-07-20T19:07:20.992Z"
   },
   {
    "duration": 6,
    "start_time": "2024-07-20T19:07:21.463Z"
   },
   {
    "duration": 7,
    "start_time": "2024-07-20T19:07:21.699Z"
   },
   {
    "duration": 46,
    "start_time": "2024-07-20T19:07:23.486Z"
   },
   {
    "duration": 16,
    "start_time": "2024-07-20T19:07:23.630Z"
   },
   {
    "duration": 16,
    "start_time": "2024-07-20T19:07:23.933Z"
   },
   {
    "duration": 10,
    "start_time": "2024-07-20T19:07:24.718Z"
   },
   {
    "duration": 300,
    "start_time": "2024-07-20T19:07:25.028Z"
   },
   {
    "duration": 9,
    "start_time": "2024-07-20T19:07:25.358Z"
   },
   {
    "duration": 99,
    "start_time": "2024-07-20T19:07:25.999Z"
   },
   {
    "duration": 38,
    "start_time": "2024-07-20T19:07:26.642Z"
   },
   {
    "duration": 9,
    "start_time": "2024-07-20T19:07:26.803Z"
   },
   {
    "duration": 60,
    "start_time": "2024-07-20T19:07:27.777Z"
   },
   {
    "duration": 12,
    "start_time": "2024-07-20T19:07:27.863Z"
   },
   {
    "duration": 10,
    "start_time": "2024-07-20T19:07:28.686Z"
   },
   {
    "duration": 14,
    "start_time": "2024-07-20T19:07:29.024Z"
   },
   {
    "duration": 14,
    "start_time": "2024-07-20T19:07:29.528Z"
   },
   {
    "duration": 3593,
    "start_time": "2024-07-20T19:07:29.861Z"
   },
   {
    "duration": 11,
    "start_time": "2024-07-20T19:07:33.456Z"
   },
   {
    "duration": 23,
    "start_time": "2024-07-20T19:07:33.469Z"
   },
   {
    "duration": 7,
    "start_time": "2024-07-20T19:07:33.494Z"
   },
   {
    "duration": 6,
    "start_time": "2024-07-20T19:07:33.503Z"
   },
   {
    "duration": 316,
    "start_time": "2024-07-20T19:07:33.511Z"
   },
   {
    "duration": 4,
    "start_time": "2024-07-20T19:07:33.830Z"
   },
   {
    "duration": 883,
    "start_time": "2024-07-20T19:07:33.836Z"
   },
   {
    "duration": 12,
    "start_time": "2024-07-20T19:07:34.720Z"
   },
   {
    "duration": 15,
    "start_time": "2024-07-20T19:07:34.735Z"
   },
   {
    "duration": 31,
    "start_time": "2024-07-20T19:07:34.752Z"
   },
   {
    "duration": 25,
    "start_time": "2024-07-20T19:07:34.785Z"
   },
   {
    "duration": 7,
    "start_time": "2024-07-20T19:07:34.812Z"
   },
   {
    "duration": 19,
    "start_time": "2024-07-20T19:07:34.820Z"
   },
   {
    "duration": 25,
    "start_time": "2024-07-20T19:07:34.848Z"
   },
   {
    "duration": 7,
    "start_time": "2024-07-20T19:07:35.244Z"
   },
   {
    "duration": 4,
    "start_time": "2024-07-20T19:07:36.081Z"
   },
   {
    "duration": 4,
    "start_time": "2024-07-20T19:07:36.271Z"
   },
   {
    "duration": 15,
    "start_time": "2024-07-20T19:07:36.479Z"
   },
   {
    "duration": 6,
    "start_time": "2024-07-20T19:07:36.830Z"
   },
   {
    "duration": 4,
    "start_time": "2024-07-20T19:07:37.026Z"
   },
   {
    "duration": 5,
    "start_time": "2024-07-20T19:07:37.190Z"
   },
   {
    "duration": 14,
    "start_time": "2024-07-20T19:07:37.556Z"
   },
   {
    "duration": 158,
    "start_time": "2024-07-20T19:07:37.748Z"
   },
   {
    "duration": 295,
    "start_time": "2024-07-20T19:07:39.025Z"
   },
   {
    "duration": 5,
    "start_time": "2024-07-20T19:07:39.765Z"
   },
   {
    "duration": 12,
    "start_time": "2024-07-20T19:07:39.945Z"
   },
   {
    "duration": 6,
    "start_time": "2024-07-20T19:07:41.692Z"
   },
   {
    "duration": 6,
    "start_time": "2024-07-20T19:07:42.137Z"
   },
   {
    "duration": 738,
    "start_time": "2024-07-20T19:07:42.617Z"
   },
   {
    "duration": 0,
    "start_time": "2024-07-20T19:07:43.357Z"
   },
   {
    "duration": 19,
    "start_time": "2024-07-20T19:08:36.597Z"
   },
   {
    "duration": 716,
    "start_time": "2024-07-20T19:08:54.360Z"
   },
   {
    "duration": 812,
    "start_time": "2024-07-20T19:09:05.870Z"
   },
   {
    "duration": 9,
    "start_time": "2024-07-20T19:09:17.363Z"
   },
   {
    "duration": 9,
    "start_time": "2024-07-20T19:10:05.851Z"
   },
   {
    "duration": 18,
    "start_time": "2024-07-20T19:11:28.095Z"
   },
   {
    "duration": 24,
    "start_time": "2024-07-20T19:12:02.073Z"
   },
   {
    "duration": 6,
    "start_time": "2024-07-20T19:12:35.100Z"
   },
   {
    "duration": 28,
    "start_time": "2024-07-20T19:13:38.590Z"
   },
   {
    "duration": 35,
    "start_time": "2024-07-20T19:14:24.266Z"
   },
   {
    "duration": 3,
    "start_time": "2024-07-20T19:14:53.980Z"
   },
   {
    "duration": 105,
    "start_time": "2024-07-20T19:14:54.143Z"
   },
   {
    "duration": 10,
    "start_time": "2024-07-20T19:14:54.324Z"
   },
   {
    "duration": 19,
    "start_time": "2024-07-20T19:14:54.476Z"
   },
   {
    "duration": 29,
    "start_time": "2024-07-20T19:14:54.647Z"
   },
   {
    "duration": 7,
    "start_time": "2024-07-20T19:14:54.791Z"
   },
   {
    "duration": 11,
    "start_time": "2024-07-20T19:14:54.992Z"
   },
   {
    "duration": 12,
    "start_time": "2024-07-20T19:14:55.084Z"
   },
   {
    "duration": 22,
    "start_time": "2024-07-20T19:14:55.999Z"
   },
   {
    "duration": 22,
    "start_time": "2024-07-20T19:14:56.178Z"
   },
   {
    "duration": 7,
    "start_time": "2024-07-20T19:14:56.806Z"
   },
   {
    "duration": 13,
    "start_time": "2024-07-20T19:14:57.057Z"
   },
   {
    "duration": 9,
    "start_time": "2024-07-20T19:14:57.228Z"
   },
   {
    "duration": 6,
    "start_time": "2024-07-20T19:14:57.535Z"
   },
   {
    "duration": 5,
    "start_time": "2024-07-20T19:14:57.691Z"
   },
   {
    "duration": 32,
    "start_time": "2024-07-20T19:14:58.020Z"
   },
   {
    "duration": 17,
    "start_time": "2024-07-20T19:14:58.204Z"
   },
   {
    "duration": 15,
    "start_time": "2024-07-20T19:14:58.513Z"
   },
   {
    "duration": 11,
    "start_time": "2024-07-20T19:14:59.407Z"
   },
   {
    "duration": 243,
    "start_time": "2024-07-20T19:14:59.769Z"
   },
   {
    "duration": 10,
    "start_time": "2024-07-20T19:15:00.086Z"
   },
   {
    "duration": 120,
    "start_time": "2024-07-20T19:15:00.753Z"
   },
   {
    "duration": 33,
    "start_time": "2024-07-20T19:15:01.491Z"
   },
   {
    "duration": 9,
    "start_time": "2024-07-20T19:15:01.653Z"
   },
   {
    "duration": 56,
    "start_time": "2024-07-20T19:15:02.685Z"
   },
   {
    "duration": 8,
    "start_time": "2024-07-20T19:15:02.837Z"
   },
   {
    "duration": 9,
    "start_time": "2024-07-20T19:15:03.706Z"
   },
   {
    "duration": 13,
    "start_time": "2024-07-20T19:15:04.083Z"
   },
   {
    "duration": 13,
    "start_time": "2024-07-20T19:15:04.608Z"
   },
   {
    "duration": 3364,
    "start_time": "2024-07-20T19:15:04.957Z"
   },
   {
    "duration": 6,
    "start_time": "2024-07-20T19:15:08.323Z"
   },
   {
    "duration": 11,
    "start_time": "2024-07-20T19:15:08.331Z"
   },
   {
    "duration": 21,
    "start_time": "2024-07-20T19:15:08.344Z"
   },
   {
    "duration": 5,
    "start_time": "2024-07-20T19:15:08.367Z"
   },
   {
    "duration": 325,
    "start_time": "2024-07-20T19:15:08.374Z"
   },
   {
    "duration": 4,
    "start_time": "2024-07-20T19:15:08.701Z"
   },
   {
    "duration": 861,
    "start_time": "2024-07-20T19:15:08.706Z"
   },
   {
    "duration": 12,
    "start_time": "2024-07-20T19:15:09.569Z"
   },
   {
    "duration": 16,
    "start_time": "2024-07-20T19:15:09.586Z"
   },
   {
    "duration": 28,
    "start_time": "2024-07-20T19:15:09.604Z"
   },
   {
    "duration": 13,
    "start_time": "2024-07-20T19:15:09.899Z"
   },
   {
    "duration": 5,
    "start_time": "2024-07-20T19:15:10.256Z"
   },
   {
    "duration": 14,
    "start_time": "2024-07-20T19:15:11.648Z"
   },
   {
    "duration": 14,
    "start_time": "2024-07-20T19:15:12.168Z"
   },
   {
    "duration": 7,
    "start_time": "2024-07-20T19:15:13.361Z"
   },
   {
    "duration": 4,
    "start_time": "2024-07-20T19:15:14.730Z"
   },
   {
    "duration": 4,
    "start_time": "2024-07-20T19:15:14.962Z"
   },
   {
    "duration": 14,
    "start_time": "2024-07-20T19:15:15.148Z"
   },
   {
    "duration": 5,
    "start_time": "2024-07-20T19:15:15.566Z"
   },
   {
    "duration": 6,
    "start_time": "2024-07-20T19:15:15.866Z"
   },
   {
    "duration": 5,
    "start_time": "2024-07-20T19:15:16.202Z"
   },
   {
    "duration": 11,
    "start_time": "2024-07-20T19:15:16.652Z"
   },
   {
    "duration": 132,
    "start_time": "2024-07-20T19:15:16.952Z"
   },
   {
    "duration": 298,
    "start_time": "2024-07-20T19:15:47.679Z"
   },
   {
    "duration": 10,
    "start_time": "2024-07-20T19:15:47.978Z"
   },
   {
    "duration": 13,
    "start_time": "2024-07-20T19:15:49.482Z"
   },
   {
    "duration": 8,
    "start_time": "2024-07-20T19:15:56.005Z"
   },
   {
    "duration": 9,
    "start_time": "2024-07-20T19:15:58.015Z"
   },
   {
    "duration": 21,
    "start_time": "2024-07-20T19:16:01.202Z"
   },
   {
    "duration": 27,
    "start_time": "2024-07-20T19:16:02.928Z"
   },
   {
    "duration": 58,
    "start_time": "2024-07-20T19:16:53.324Z"
   },
   {
    "duration": 15,
    "start_time": "2024-07-20T19:17:05.090Z"
   },
   {
    "duration": 19,
    "start_time": "2024-07-20T19:18:38.052Z"
   },
   {
    "duration": 17,
    "start_time": "2024-07-20T19:18:58.053Z"
   },
   {
    "duration": 9,
    "start_time": "2024-07-20T19:20:11.075Z"
   },
   {
    "duration": 6,
    "start_time": "2024-07-20T19:20:26.093Z"
   },
   {
    "duration": 4,
    "start_time": "2024-07-20T19:20:35.939Z"
   },
   {
    "duration": 9,
    "start_time": "2024-07-20T19:22:40.004Z"
   },
   {
    "duration": 8,
    "start_time": "2024-07-20T19:22:42.461Z"
   },
   {
    "duration": 9,
    "start_time": "2024-07-20T19:25:35.241Z"
   },
   {
    "duration": 7,
    "start_time": "2024-07-20T19:25:37.127Z"
   },
   {
    "duration": 4,
    "start_time": "2024-07-20T19:29:41.746Z"
   },
   {
    "duration": 115,
    "start_time": "2024-07-20T19:29:41.911Z"
   },
   {
    "duration": 11,
    "start_time": "2024-07-20T19:29:42.310Z"
   },
   {
    "duration": 18,
    "start_time": "2024-07-20T19:29:42.473Z"
   },
   {
    "duration": 32,
    "start_time": "2024-07-20T19:29:42.641Z"
   },
   {
    "duration": 8,
    "start_time": "2024-07-20T19:29:42.790Z"
   },
   {
    "duration": 11,
    "start_time": "2024-07-20T19:29:42.955Z"
   },
   {
    "duration": 13,
    "start_time": "2024-07-20T19:29:43.096Z"
   },
   {
    "duration": 20,
    "start_time": "2024-07-20T19:29:43.888Z"
   },
   {
    "duration": 21,
    "start_time": "2024-07-20T19:29:44.092Z"
   },
   {
    "duration": 7,
    "start_time": "2024-07-20T19:29:44.372Z"
   },
   {
    "duration": 13,
    "start_time": "2024-07-20T19:29:44.686Z"
   },
   {
    "duration": 9,
    "start_time": "2024-07-20T19:29:44.888Z"
   },
   {
    "duration": 6,
    "start_time": "2024-07-20T19:29:45.196Z"
   },
   {
    "duration": 7,
    "start_time": "2024-07-20T19:29:45.303Z"
   },
   {
    "duration": 33,
    "start_time": "2024-07-20T19:29:45.596Z"
   },
   {
    "duration": 16,
    "start_time": "2024-07-20T19:29:45.750Z"
   },
   {
    "duration": 17,
    "start_time": "2024-07-20T19:29:47.327Z"
   },
   {
    "duration": 11,
    "start_time": "2024-07-20T19:29:47.491Z"
   },
   {
    "duration": 234,
    "start_time": "2024-07-20T19:29:47.871Z"
   },
   {
    "duration": 8,
    "start_time": "2024-07-20T19:29:48.157Z"
   },
   {
    "duration": 110,
    "start_time": "2024-07-20T19:29:48.816Z"
   },
   {
    "duration": 156,
    "start_time": "2024-07-20T19:29:49.583Z"
   },
   {
    "duration": 11,
    "start_time": "2024-07-20T19:29:49.741Z"
   },
   {
    "duration": 63,
    "start_time": "2024-07-20T19:29:50.556Z"
   },
   {
    "duration": 11,
    "start_time": "2024-07-20T19:29:50.723Z"
   },
   {
    "duration": 10,
    "start_time": "2024-07-20T19:29:51.786Z"
   },
   {
    "duration": 10,
    "start_time": "2024-07-20T19:29:52.080Z"
   },
   {
    "duration": 13,
    "start_time": "2024-07-20T19:29:52.598Z"
   },
   {
    "duration": 3358,
    "start_time": "2024-07-20T19:29:52.967Z"
   },
   {
    "duration": 6,
    "start_time": "2024-07-20T19:29:56.327Z"
   },
   {
    "duration": 32,
    "start_time": "2024-07-20T19:29:56.335Z"
   },
   {
    "duration": 7,
    "start_time": "2024-07-20T19:29:56.369Z"
   },
   {
    "duration": 7,
    "start_time": "2024-07-20T19:29:56.378Z"
   },
   {
    "duration": 292,
    "start_time": "2024-07-20T19:29:56.387Z"
   },
   {
    "duration": 6,
    "start_time": "2024-07-20T19:29:56.680Z"
   },
   {
    "duration": 824,
    "start_time": "2024-07-20T19:29:56.687Z"
   },
   {
    "duration": 12,
    "start_time": "2024-07-20T19:29:57.513Z"
   },
   {
    "duration": 14,
    "start_time": "2024-07-20T19:29:57.528Z"
   },
   {
    "duration": 35,
    "start_time": "2024-07-20T19:29:57.544Z"
   },
   {
    "duration": 29,
    "start_time": "2024-07-20T19:29:57.581Z"
   },
   {
    "duration": 6,
    "start_time": "2024-07-20T19:29:57.612Z"
   },
   {
    "duration": 17,
    "start_time": "2024-07-20T19:29:57.620Z"
   },
   {
    "duration": 32,
    "start_time": "2024-07-20T19:29:57.639Z"
   },
   {
    "duration": 7,
    "start_time": "2024-07-20T19:29:57.672Z"
   },
   {
    "duration": 4,
    "start_time": "2024-07-20T19:29:57.794Z"
   },
   {
    "duration": 4,
    "start_time": "2024-07-20T19:29:57.943Z"
   },
   {
    "duration": 13,
    "start_time": "2024-07-20T19:29:58.113Z"
   },
   {
    "duration": 5,
    "start_time": "2024-07-20T19:29:58.471Z"
   },
   {
    "duration": 4,
    "start_time": "2024-07-20T19:29:58.626Z"
   },
   {
    "duration": 5,
    "start_time": "2024-07-20T19:29:58.794Z"
   },
   {
    "duration": 14,
    "start_time": "2024-07-20T19:29:59.171Z"
   },
   {
    "duration": 125,
    "start_time": "2024-07-20T19:29:59.332Z"
   },
   {
    "duration": 334,
    "start_time": "2024-07-20T19:30:00.495Z"
   },
   {
    "duration": 308,
    "start_time": "2024-07-20T19:30:00.831Z"
   },
   {
    "duration": 169,
    "start_time": "2024-07-20T19:30:01.141Z"
   },
   {
    "duration": 8,
    "start_time": "2024-07-20T19:30:02.223Z"
   },
   {
    "duration": 5,
    "start_time": "2024-07-20T19:30:02.587Z"
   },
   {
    "duration": 8,
    "start_time": "2024-07-20T19:30:03.157Z"
   },
   {
    "duration": 6,
    "start_time": "2024-07-20T19:30:03.505Z"
   },
   {
    "duration": 1552,
    "start_time": "2024-07-21T05:27:59.463Z"
   },
   {
    "duration": 365,
    "start_time": "2024-07-21T05:28:01.017Z"
   },
   {
    "duration": 16,
    "start_time": "2024-07-21T05:28:01.383Z"
   },
   {
    "duration": 47,
    "start_time": "2024-07-21T05:28:01.400Z"
   },
   {
    "duration": 41,
    "start_time": "2024-07-21T05:28:01.450Z"
   },
   {
    "duration": 14,
    "start_time": "2024-07-21T05:28:01.492Z"
   },
   {
    "duration": 22,
    "start_time": "2024-07-21T05:28:01.507Z"
   },
   {
    "duration": 16,
    "start_time": "2024-07-21T05:28:01.531Z"
   },
   {
    "duration": 35,
    "start_time": "2024-07-21T05:28:01.549Z"
   },
   {
    "duration": 24,
    "start_time": "2024-07-21T05:28:01.585Z"
   },
   {
    "duration": 6,
    "start_time": "2024-07-21T05:28:01.611Z"
   },
   {
    "duration": 59,
    "start_time": "2024-07-21T05:28:01.619Z"
   },
   {
    "duration": 52,
    "start_time": "2024-07-21T05:28:01.680Z"
   },
   {
    "duration": 27,
    "start_time": "2024-07-21T05:28:01.735Z"
   },
   {
    "duration": 20,
    "start_time": "2024-07-21T05:28:01.764Z"
   },
   {
    "duration": 76,
    "start_time": "2024-07-21T05:28:01.786Z"
   },
   {
    "duration": 20,
    "start_time": "2024-07-21T05:28:01.864Z"
   },
   {
    "duration": 18,
    "start_time": "2024-07-21T05:28:01.886Z"
   },
   {
    "duration": 24,
    "start_time": "2024-07-21T05:28:01.906Z"
   },
   {
    "duration": 320,
    "start_time": "2024-07-21T05:28:01.932Z"
   },
   {
    "duration": 24,
    "start_time": "2024-07-21T05:28:02.254Z"
   },
   {
    "duration": 140,
    "start_time": "2024-07-21T05:28:02.280Z"
   },
   {
    "duration": 645,
    "start_time": "2024-07-21T05:28:02.422Z"
   },
   {
    "duration": 9,
    "start_time": "2024-07-21T05:28:03.069Z"
   },
   {
    "duration": 405,
    "start_time": "2024-07-21T05:28:03.079Z"
   },
   {
    "duration": 9,
    "start_time": "2024-07-21T05:28:03.485Z"
   },
   {
    "duration": 10,
    "start_time": "2024-07-21T05:28:03.495Z"
   },
   {
    "duration": 14,
    "start_time": "2024-07-21T05:28:03.506Z"
   },
   {
    "duration": 99,
    "start_time": "2024-07-21T05:28:03.521Z"
   },
   {
    "duration": 3290,
    "start_time": "2024-07-21T05:28:03.622Z"
   },
   {
    "duration": 8,
    "start_time": "2024-07-21T05:28:06.913Z"
   },
   {
    "duration": 18,
    "start_time": "2024-07-21T05:28:06.922Z"
   },
   {
    "duration": 10,
    "start_time": "2024-07-21T05:28:06.942Z"
   },
   {
    "duration": 4,
    "start_time": "2024-07-21T05:28:06.954Z"
   },
   {
    "duration": 152,
    "start_time": "2024-07-21T05:28:06.965Z"
   },
   {
    "duration": 0,
    "start_time": "2024-07-21T05:28:07.119Z"
   },
   {
    "duration": 0,
    "start_time": "2024-07-21T05:28:07.120Z"
   },
   {
    "duration": 0,
    "start_time": "2024-07-21T05:28:07.121Z"
   },
   {
    "duration": 0,
    "start_time": "2024-07-21T05:28:07.123Z"
   },
   {
    "duration": 0,
    "start_time": "2024-07-21T05:28:07.124Z"
   },
   {
    "duration": 0,
    "start_time": "2024-07-21T05:28:07.125Z"
   },
   {
    "duration": 0,
    "start_time": "2024-07-21T05:28:07.126Z"
   },
   {
    "duration": 0,
    "start_time": "2024-07-21T05:28:07.127Z"
   },
   {
    "duration": 0,
    "start_time": "2024-07-21T05:28:07.128Z"
   },
   {
    "duration": 0,
    "start_time": "2024-07-21T05:28:07.129Z"
   },
   {
    "duration": 0,
    "start_time": "2024-07-21T05:28:07.131Z"
   },
   {
    "duration": 0,
    "start_time": "2024-07-21T05:28:07.132Z"
   },
   {
    "duration": 0,
    "start_time": "2024-07-21T05:28:07.133Z"
   },
   {
    "duration": 0,
    "start_time": "2024-07-21T05:28:07.134Z"
   },
   {
    "duration": 0,
    "start_time": "2024-07-21T05:28:07.135Z"
   },
   {
    "duration": 0,
    "start_time": "2024-07-21T05:28:07.136Z"
   },
   {
    "duration": 0,
    "start_time": "2024-07-21T05:28:07.165Z"
   },
   {
    "duration": 0,
    "start_time": "2024-07-21T05:28:07.167Z"
   },
   {
    "duration": 0,
    "start_time": "2024-07-21T05:28:07.168Z"
   },
   {
    "duration": 0,
    "start_time": "2024-07-21T05:28:07.169Z"
   },
   {
    "duration": 0,
    "start_time": "2024-07-21T05:28:07.171Z"
   },
   {
    "duration": 0,
    "start_time": "2024-07-21T05:28:07.171Z"
   },
   {
    "duration": 0,
    "start_time": "2024-07-21T05:28:07.173Z"
   },
   {
    "duration": 0,
    "start_time": "2024-07-21T05:28:07.174Z"
   },
   {
    "duration": 0,
    "start_time": "2024-07-21T05:28:07.175Z"
   },
   {
    "duration": 12,
    "start_time": "2024-07-21T05:28:24.159Z"
   },
   {
    "duration": 0,
    "start_time": "2024-07-21T05:28:24.173Z"
   },
   {
    "duration": 0,
    "start_time": "2024-07-21T05:28:24.174Z"
   },
   {
    "duration": 0,
    "start_time": "2024-07-21T05:28:24.175Z"
   },
   {
    "duration": 12,
    "start_time": "2024-07-21T05:28:24.176Z"
   },
   {
    "duration": 1071,
    "start_time": "2024-07-21T05:28:24.190Z"
   },
   {
    "duration": 0,
    "start_time": "2024-07-21T05:28:25.264Z"
   },
   {
    "duration": 0,
    "start_time": "2024-07-21T05:28:25.265Z"
   },
   {
    "duration": 0,
    "start_time": "2024-07-21T05:28:25.266Z"
   },
   {
    "duration": 0,
    "start_time": "2024-07-21T05:28:25.267Z"
   },
   {
    "duration": 0,
    "start_time": "2024-07-21T05:28:25.268Z"
   },
   {
    "duration": 0,
    "start_time": "2024-07-21T05:28:25.269Z"
   },
   {
    "duration": 0,
    "start_time": "2024-07-21T05:28:25.270Z"
   },
   {
    "duration": 0,
    "start_time": "2024-07-21T05:28:25.271Z"
   },
   {
    "duration": 0,
    "start_time": "2024-07-21T05:28:25.272Z"
   },
   {
    "duration": 0,
    "start_time": "2024-07-21T05:28:25.273Z"
   },
   {
    "duration": 0,
    "start_time": "2024-07-21T05:28:25.274Z"
   },
   {
    "duration": 0,
    "start_time": "2024-07-21T05:28:25.275Z"
   },
   {
    "duration": 0,
    "start_time": "2024-07-21T05:28:25.276Z"
   },
   {
    "duration": 0,
    "start_time": "2024-07-21T05:28:25.278Z"
   },
   {
    "duration": 0,
    "start_time": "2024-07-21T05:28:25.278Z"
   },
   {
    "duration": 0,
    "start_time": "2024-07-21T05:28:25.280Z"
   },
   {
    "duration": 1,
    "start_time": "2024-07-21T05:28:25.281Z"
   },
   {
    "duration": 0,
    "start_time": "2024-07-21T05:28:25.283Z"
   },
   {
    "duration": 0,
    "start_time": "2024-07-21T05:28:25.284Z"
   },
   {
    "duration": 0,
    "start_time": "2024-07-21T05:28:25.285Z"
   },
   {
    "duration": 1071,
    "start_time": "2024-07-21T05:28:33.805Z"
   },
   {
    "duration": 0,
    "start_time": "2024-07-21T05:28:34.878Z"
   },
   {
    "duration": 0,
    "start_time": "2024-07-21T05:28:34.880Z"
   },
   {
    "duration": 0,
    "start_time": "2024-07-21T05:28:34.881Z"
   },
   {
    "duration": 0,
    "start_time": "2024-07-21T05:28:34.882Z"
   },
   {
    "duration": 0,
    "start_time": "2024-07-21T05:28:34.883Z"
   },
   {
    "duration": 0,
    "start_time": "2024-07-21T05:28:34.884Z"
   },
   {
    "duration": 0,
    "start_time": "2024-07-21T05:28:34.885Z"
   },
   {
    "duration": 0,
    "start_time": "2024-07-21T05:28:34.887Z"
   },
   {
    "duration": 0,
    "start_time": "2024-07-21T05:28:34.888Z"
   },
   {
    "duration": 0,
    "start_time": "2024-07-21T05:28:34.890Z"
   },
   {
    "duration": 0,
    "start_time": "2024-07-21T05:28:34.891Z"
   },
   {
    "duration": 0,
    "start_time": "2024-07-21T05:28:34.893Z"
   },
   {
    "duration": 0,
    "start_time": "2024-07-21T05:28:34.894Z"
   },
   {
    "duration": 0,
    "start_time": "2024-07-21T05:28:34.895Z"
   },
   {
    "duration": 0,
    "start_time": "2024-07-21T05:28:34.897Z"
   },
   {
    "duration": 0,
    "start_time": "2024-07-21T05:28:34.898Z"
   },
   {
    "duration": 0,
    "start_time": "2024-07-21T05:28:34.900Z"
   },
   {
    "duration": 0,
    "start_time": "2024-07-21T05:28:34.901Z"
   },
   {
    "duration": 0,
    "start_time": "2024-07-21T05:28:34.903Z"
   },
   {
    "duration": 0,
    "start_time": "2024-07-21T05:28:34.904Z"
   },
   {
    "duration": 1004,
    "start_time": "2024-07-21T05:28:43.199Z"
   },
   {
    "duration": 1061,
    "start_time": "2024-07-21T05:28:44.736Z"
   },
   {
    "duration": 0,
    "start_time": "2024-07-21T05:28:45.799Z"
   },
   {
    "duration": 0,
    "start_time": "2024-07-21T05:28:45.801Z"
   },
   {
    "duration": 0,
    "start_time": "2024-07-21T05:28:45.803Z"
   },
   {
    "duration": 11,
    "start_time": "2024-07-21T05:28:46.066Z"
   },
   {
    "duration": 11,
    "start_time": "2024-07-21T05:28:46.167Z"
   },
   {
    "duration": 13,
    "start_time": "2024-07-21T05:28:46.311Z"
   },
   {
    "duration": 10,
    "start_time": "2024-07-21T05:28:46.607Z"
   },
   {
    "duration": 11,
    "start_time": "2024-07-21T05:28:46.726Z"
   },
   {
    "duration": 12,
    "start_time": "2024-07-21T05:28:46.886Z"
   },
   {
    "duration": 14,
    "start_time": "2024-07-21T05:28:47.166Z"
   },
   {
    "duration": 16,
    "start_time": "2024-07-21T05:28:47.313Z"
   },
   {
    "duration": 12,
    "start_time": "2024-07-21T05:28:48.667Z"
   },
   {
    "duration": 12,
    "start_time": "2024-07-21T05:28:48.786Z"
   },
   {
    "duration": 12,
    "start_time": "2024-07-21T05:28:48.947Z"
   },
   {
    "duration": 16,
    "start_time": "2024-07-21T05:28:50.195Z"
   },
   {
    "duration": 15,
    "start_time": "2024-07-21T05:28:50.497Z"
   },
   {
    "duration": 1012,
    "start_time": "2024-07-21T05:28:50.973Z"
   },
   {
    "duration": 0,
    "start_time": "2024-07-21T05:28:51.987Z"
   },
   {
    "duration": 3,
    "start_time": "2024-07-21T05:29:06.088Z"
   },
   {
    "duration": 1020,
    "start_time": "2024-07-21T05:29:06.447Z"
   },
   {
    "duration": 0,
    "start_time": "2024-07-21T05:29:07.469Z"
   },
   {
    "duration": 19,
    "start_time": "2024-07-21T05:29:07.554Z"
   },
   {
    "duration": 4,
    "start_time": "2024-07-21T05:31:35.867Z"
   },
   {
    "duration": 114,
    "start_time": "2024-07-21T05:31:35.873Z"
   },
   {
    "duration": 10,
    "start_time": "2024-07-21T05:31:35.988Z"
   },
   {
    "duration": 43,
    "start_time": "2024-07-21T05:31:36.000Z"
   },
   {
    "duration": 33,
    "start_time": "2024-07-21T05:31:36.045Z"
   },
   {
    "duration": 7,
    "start_time": "2024-07-21T05:31:36.080Z"
   },
   {
    "duration": 13,
    "start_time": "2024-07-21T05:31:36.088Z"
   },
   {
    "duration": 14,
    "start_time": "2024-07-21T05:31:36.103Z"
   },
   {
    "duration": 45,
    "start_time": "2024-07-21T05:31:36.122Z"
   },
   {
    "duration": 20,
    "start_time": "2024-07-21T05:31:36.169Z"
   },
   {
    "duration": 6,
    "start_time": "2024-07-21T05:31:36.191Z"
   },
   {
    "duration": 13,
    "start_time": "2024-07-21T05:31:36.199Z"
   },
   {
    "duration": 9,
    "start_time": "2024-07-21T05:31:36.214Z"
   },
   {
    "duration": 10,
    "start_time": "2024-07-21T05:31:36.225Z"
   },
   {
    "duration": 39,
    "start_time": "2024-07-21T05:31:36.236Z"
   },
   {
    "duration": 43,
    "start_time": "2024-07-21T05:31:36.278Z"
   },
   {
    "duration": 16,
    "start_time": "2024-07-21T05:31:36.323Z"
   },
   {
    "duration": 34,
    "start_time": "2024-07-21T05:31:36.341Z"
   },
   {
    "duration": 11,
    "start_time": "2024-07-21T05:31:36.377Z"
   },
   {
    "duration": 305,
    "start_time": "2024-07-21T05:31:36.389Z"
   },
   {
    "duration": 10,
    "start_time": "2024-07-21T05:31:36.696Z"
   },
   {
    "duration": 116,
    "start_time": "2024-07-21T05:31:36.707Z"
   },
   {
    "duration": 40,
    "start_time": "2024-07-21T05:31:36.825Z"
   },
   {
    "duration": 9,
    "start_time": "2024-07-21T05:31:36.869Z"
   },
   {
    "duration": 59,
    "start_time": "2024-07-21T05:31:36.879Z"
   },
   {
    "duration": 32,
    "start_time": "2024-07-21T05:31:36.940Z"
   },
   {
    "duration": 9,
    "start_time": "2024-07-21T05:31:36.974Z"
   },
   {
    "duration": 13,
    "start_time": "2024-07-21T05:31:36.985Z"
   },
   {
    "duration": 13,
    "start_time": "2024-07-21T05:31:37.000Z"
   },
   {
    "duration": 3417,
    "start_time": "2024-07-21T05:31:37.015Z"
   },
   {
    "duration": 6,
    "start_time": "2024-07-21T05:31:40.434Z"
   },
   {
    "duration": 14,
    "start_time": "2024-07-21T05:31:40.442Z"
   },
   {
    "duration": 10,
    "start_time": "2024-07-21T05:31:40.458Z"
   },
   {
    "duration": 5,
    "start_time": "2024-07-21T05:31:40.469Z"
   },
   {
    "duration": 13,
    "start_time": "2024-07-21T05:31:40.475Z"
   },
   {
    "duration": 0,
    "start_time": "2024-07-21T05:31:40.489Z"
   },
   {
    "duration": 0,
    "start_time": "2024-07-21T05:31:40.491Z"
   },
   {
    "duration": 0,
    "start_time": "2024-07-21T05:31:40.492Z"
   },
   {
    "duration": 0,
    "start_time": "2024-07-21T05:31:40.493Z"
   },
   {
    "duration": 0,
    "start_time": "2024-07-21T05:31:40.495Z"
   },
   {
    "duration": 0,
    "start_time": "2024-07-21T05:31:40.496Z"
   },
   {
    "duration": 0,
    "start_time": "2024-07-21T05:31:40.497Z"
   },
   {
    "duration": 0,
    "start_time": "2024-07-21T05:31:40.499Z"
   },
   {
    "duration": 0,
    "start_time": "2024-07-21T05:31:40.500Z"
   },
   {
    "duration": 0,
    "start_time": "2024-07-21T05:31:40.501Z"
   },
   {
    "duration": 0,
    "start_time": "2024-07-21T05:31:40.502Z"
   },
   {
    "duration": 0,
    "start_time": "2024-07-21T05:31:40.503Z"
   },
   {
    "duration": 0,
    "start_time": "2024-07-21T05:31:40.504Z"
   },
   {
    "duration": 0,
    "start_time": "2024-07-21T05:31:40.505Z"
   },
   {
    "duration": 0,
    "start_time": "2024-07-21T05:31:40.506Z"
   },
   {
    "duration": 0,
    "start_time": "2024-07-21T05:31:40.507Z"
   },
   {
    "duration": 0,
    "start_time": "2024-07-21T05:31:40.508Z"
   },
   {
    "duration": 0,
    "start_time": "2024-07-21T05:31:40.509Z"
   },
   {
    "duration": 0,
    "start_time": "2024-07-21T05:31:40.510Z"
   },
   {
    "duration": 0,
    "start_time": "2024-07-21T05:31:40.511Z"
   },
   {
    "duration": 0,
    "start_time": "2024-07-21T05:31:40.512Z"
   },
   {
    "duration": 0,
    "start_time": "2024-07-21T05:31:40.565Z"
   },
   {
    "duration": 0,
    "start_time": "2024-07-21T05:31:40.567Z"
   },
   {
    "duration": 0,
    "start_time": "2024-07-21T05:31:40.567Z"
   },
   {
    "duration": 0,
    "start_time": "2024-07-21T05:31:40.569Z"
   },
   {
    "duration": 3,
    "start_time": "2024-07-21T05:31:46.407Z"
   },
   {
    "duration": 798,
    "start_time": "2024-07-21T05:31:46.687Z"
   },
   {
    "duration": 10,
    "start_time": "2024-07-21T05:31:47.487Z"
   },
   {
    "duration": 31,
    "start_time": "2024-07-21T05:31:47.499Z"
   },
   {
    "duration": 20,
    "start_time": "2024-07-21T05:31:47.795Z"
   },
   {
    "duration": 1045,
    "start_time": "2024-07-21T05:31:47.906Z"
   },
   {
    "duration": 0,
    "start_time": "2024-07-21T05:31:48.952Z"
   },
   {
    "duration": 0,
    "start_time": "2024-07-21T05:31:48.954Z"
   },
   {
    "duration": 0,
    "start_time": "2024-07-21T05:31:48.955Z"
   },
   {
    "duration": 0,
    "start_time": "2024-07-21T05:31:48.956Z"
   },
   {
    "duration": 11,
    "start_time": "2024-07-21T05:31:50.053Z"
   },
   {
    "duration": 10,
    "start_time": "2024-07-21T05:31:50.647Z"
   },
   {
    "duration": 11,
    "start_time": "2024-07-21T05:31:50.910Z"
   },
   {
    "duration": 10,
    "start_time": "2024-07-21T05:31:51.268Z"
   },
   {
    "duration": 12,
    "start_time": "2024-07-21T05:31:51.447Z"
   },
   {
    "duration": 14,
    "start_time": "2024-07-21T05:31:51.608Z"
   },
   {
    "duration": 13,
    "start_time": "2024-07-21T05:31:51.926Z"
   },
   {
    "duration": 14,
    "start_time": "2024-07-21T05:31:52.050Z"
   },
   {
    "duration": 12,
    "start_time": "2024-07-21T05:31:53.156Z"
   },
   {
    "duration": 11,
    "start_time": "2024-07-21T05:31:53.301Z"
   },
   {
    "duration": 12,
    "start_time": "2024-07-21T05:31:53.438Z"
   },
   {
    "duration": 11,
    "start_time": "2024-07-21T05:31:57.516Z"
   },
   {
    "duration": 11,
    "start_time": "2024-07-21T05:31:57.772Z"
   },
   {
    "duration": 1010,
    "start_time": "2024-07-21T05:31:58.211Z"
   },
   {
    "duration": 0,
    "start_time": "2024-07-21T05:31:59.223Z"
   },
   {
    "duration": 1594,
    "start_time": "2024-07-21T06:53:27.719Z"
   },
   {
    "duration": 347,
    "start_time": "2024-07-21T06:53:29.315Z"
   },
   {
    "duration": 15,
    "start_time": "2024-07-21T06:53:29.664Z"
   },
   {
    "duration": 19,
    "start_time": "2024-07-21T06:53:29.680Z"
   },
   {
    "duration": 32,
    "start_time": "2024-07-21T06:53:29.701Z"
   },
   {
    "duration": 12,
    "start_time": "2024-07-21T06:53:29.735Z"
   },
   {
    "duration": 17,
    "start_time": "2024-07-21T06:53:29.749Z"
   },
   {
    "duration": 12,
    "start_time": "2024-07-21T06:53:29.767Z"
   },
   {
    "duration": 33,
    "start_time": "2024-07-21T06:53:30.653Z"
   },
   {
    "duration": 34,
    "start_time": "2024-07-21T06:53:30.926Z"
   },
   {
    "duration": 7,
    "start_time": "2024-07-21T06:53:31.386Z"
   },
   {
    "duration": 13,
    "start_time": "2024-07-21T06:53:31.601Z"
   },
   {
    "duration": 11,
    "start_time": "2024-07-21T06:53:31.783Z"
   },
   {
    "duration": 6,
    "start_time": "2024-07-21T06:53:32.154Z"
   },
   {
    "duration": 5,
    "start_time": "2024-07-21T06:53:32.354Z"
   },
   {
    "duration": 34,
    "start_time": "2024-07-21T06:53:32.821Z"
   },
   {
    "duration": 15,
    "start_time": "2024-07-21T06:53:33.399Z"
   },
   {
    "duration": 16,
    "start_time": "2024-07-21T06:53:34.021Z"
   },
   {
    "duration": 10,
    "start_time": "2024-07-21T06:53:36.354Z"
   },
   {
    "duration": 304,
    "start_time": "2024-07-21T06:53:37.327Z"
   },
   {
    "duration": 9,
    "start_time": "2024-07-21T06:53:38.270Z"
   },
   {
    "duration": 105,
    "start_time": "2024-07-21T06:53:39.945Z"
   },
   {
    "duration": 199,
    "start_time": "2024-07-21T06:53:41.969Z"
   },
   {
    "duration": 10,
    "start_time": "2024-07-21T06:53:42.682Z"
   },
   {
    "duration": 345,
    "start_time": "2024-07-21T06:53:52.420Z"
   },
   {
    "duration": 10,
    "start_time": "2024-07-21T06:53:53.127Z"
   },
   {
    "duration": 10,
    "start_time": "2024-07-21T06:53:55.832Z"
   },
   {
    "duration": 14,
    "start_time": "2024-07-21T06:53:57.105Z"
   },
   {
    "duration": 14,
    "start_time": "2024-07-21T06:53:59.557Z"
   },
   {
    "duration": 3453,
    "start_time": "2024-07-21T06:54:00.662Z"
   },
   {
    "duration": 7,
    "start_time": "2024-07-21T06:54:04.817Z"
   },
   {
    "duration": 8,
    "start_time": "2024-07-21T06:54:07.867Z"
   },
   {
    "duration": 5,
    "start_time": "2024-07-21T06:54:08.897Z"
   },
   {
    "duration": 4,
    "start_time": "2024-07-21T06:54:09.827Z"
   },
   {
    "duration": 158,
    "start_time": "2024-07-21T06:54:24.617Z"
   },
   {
    "duration": 4,
    "start_time": "2024-07-21T07:01:00.082Z"
   },
   {
    "duration": 297,
    "start_time": "2024-07-21T07:01:01.998Z"
   },
   {
    "duration": 3,
    "start_time": "2024-07-21T07:01:07.767Z"
   },
   {
    "duration": 20,
    "start_time": "2024-07-21T07:01:08.283Z"
   },
   {
    "duration": 7,
    "start_time": "2024-07-21T07:06:30.316Z"
   },
   {
    "duration": 901,
    "start_time": "2024-07-21T07:06:30.681Z"
   },
   {
    "duration": 12,
    "start_time": "2024-07-21T07:06:32.846Z"
   },
   {
    "duration": 3,
    "start_time": "2024-07-21T07:07:11.721Z"
   },
   {
    "duration": 117,
    "start_time": "2024-07-21T07:07:11.726Z"
   },
   {
    "duration": 11,
    "start_time": "2024-07-21T07:07:11.844Z"
   },
   {
    "duration": 18,
    "start_time": "2024-07-21T07:07:11.857Z"
   },
   {
    "duration": 30,
    "start_time": "2024-07-21T07:07:11.877Z"
   },
   {
    "duration": 37,
    "start_time": "2024-07-21T07:07:11.909Z"
   },
   {
    "duration": 13,
    "start_time": "2024-07-21T07:07:11.948Z"
   },
   {
    "duration": 24,
    "start_time": "2024-07-21T07:07:11.962Z"
   },
   {
    "duration": 23,
    "start_time": "2024-07-21T07:07:11.988Z"
   },
   {
    "duration": 44,
    "start_time": "2024-07-21T07:07:12.012Z"
   },
   {
    "duration": 6,
    "start_time": "2024-07-21T07:07:12.058Z"
   },
   {
    "duration": 13,
    "start_time": "2024-07-21T07:07:12.066Z"
   },
   {
    "duration": 10,
    "start_time": "2024-07-21T07:07:12.081Z"
   },
   {
    "duration": 15,
    "start_time": "2024-07-21T07:07:12.092Z"
   },
   {
    "duration": 13,
    "start_time": "2024-07-21T07:07:12.109Z"
   },
   {
    "duration": 39,
    "start_time": "2024-07-21T07:07:12.146Z"
   },
   {
    "duration": 15,
    "start_time": "2024-07-21T07:07:12.187Z"
   },
   {
    "duration": 14,
    "start_time": "2024-07-21T07:07:12.204Z"
   },
   {
    "duration": 29,
    "start_time": "2024-07-21T07:07:12.220Z"
   },
   {
    "duration": 428,
    "start_time": "2024-07-21T07:07:12.251Z"
   },
   {
    "duration": 8,
    "start_time": "2024-07-21T07:07:12.681Z"
   },
   {
    "duration": 117,
    "start_time": "2024-07-21T07:07:12.691Z"
   },
   {
    "duration": 46,
    "start_time": "2024-07-21T07:07:12.810Z"
   },
   {
    "duration": 9,
    "start_time": "2024-07-21T07:07:12.860Z"
   },
   {
    "duration": 75,
    "start_time": "2024-07-21T07:07:12.871Z"
   },
   {
    "duration": 9,
    "start_time": "2024-07-21T07:07:12.948Z"
   },
   {
    "duration": 15,
    "start_time": "2024-07-21T07:07:12.958Z"
   },
   {
    "duration": 14,
    "start_time": "2024-07-21T07:07:12.975Z"
   },
   {
    "duration": 12,
    "start_time": "2024-07-21T07:07:12.991Z"
   },
   {
    "duration": 3641,
    "start_time": "2024-07-21T07:07:13.004Z"
   },
   {
    "duration": 7,
    "start_time": "2024-07-21T07:07:16.646Z"
   },
   {
    "duration": 15,
    "start_time": "2024-07-21T07:07:16.655Z"
   },
   {
    "duration": 7,
    "start_time": "2024-07-21T07:07:16.672Z"
   },
   {
    "duration": 13,
    "start_time": "2024-07-21T07:07:16.681Z"
   },
   {
    "duration": 309,
    "start_time": "2024-07-21T07:07:16.696Z"
   },
   {
    "duration": 14,
    "start_time": "2024-07-21T07:07:17.007Z"
   },
   {
    "duration": 981,
    "start_time": "2024-07-21T07:07:17.023Z"
   },
   {
    "duration": 31,
    "start_time": "2024-07-21T07:07:18.006Z"
   },
   {
    "duration": 22,
    "start_time": "2024-07-21T07:07:18.038Z"
   },
   {
    "duration": 28,
    "start_time": "2024-07-21T07:07:18.061Z"
   },
   {
    "duration": 26,
    "start_time": "2024-07-21T07:07:18.090Z"
   },
   {
    "duration": 39,
    "start_time": "2024-07-21T07:07:18.118Z"
   },
   {
    "duration": 49,
    "start_time": "2024-07-21T07:07:18.159Z"
   },
   {
    "duration": 29,
    "start_time": "2024-07-21T07:07:18.210Z"
   },
   {
    "duration": 32,
    "start_time": "2024-07-21T07:07:18.241Z"
   },
   {
    "duration": 41,
    "start_time": "2024-07-21T07:07:18.275Z"
   },
   {
    "duration": 46,
    "start_time": "2024-07-21T07:07:18.317Z"
   },
   {
    "duration": 43,
    "start_time": "2024-07-21T07:07:18.365Z"
   },
   {
    "duration": 31,
    "start_time": "2024-07-21T07:07:18.410Z"
   },
   {
    "duration": 16,
    "start_time": "2024-07-21T07:07:18.443Z"
   },
   {
    "duration": 31,
    "start_time": "2024-07-21T07:07:18.461Z"
   },
   {
    "duration": 30,
    "start_time": "2024-07-21T07:07:18.494Z"
   },
   {
    "duration": 170,
    "start_time": "2024-07-21T07:07:18.525Z"
   },
   {
    "duration": 25,
    "start_time": "2024-07-21T07:07:18.696Z"
   },
   {
    "duration": 0,
    "start_time": "2024-07-21T07:07:18.722Z"
   },
   {
    "duration": 0,
    "start_time": "2024-07-21T07:07:18.723Z"
   },
   {
    "duration": 0,
    "start_time": "2024-07-21T07:07:18.724Z"
   },
   {
    "duration": 0,
    "start_time": "2024-07-21T07:07:18.725Z"
   },
   {
    "duration": 0,
    "start_time": "2024-07-21T07:07:18.726Z"
   },
   {
    "duration": 0,
    "start_time": "2024-07-21T07:07:18.727Z"
   },
   {
    "duration": 6,
    "start_time": "2024-07-21T07:14:54.656Z"
   },
   {
    "duration": 5,
    "start_time": "2024-07-21T07:15:03.496Z"
   },
   {
    "duration": 296,
    "start_time": "2024-07-21T07:15:29.785Z"
   },
   {
    "duration": 5,
    "start_time": "2024-07-21T07:15:31.203Z"
   },
   {
    "duration": 3,
    "start_time": "2024-07-21T07:15:41.082Z"
   },
   {
    "duration": 124,
    "start_time": "2024-07-21T07:15:41.087Z"
   },
   {
    "duration": 11,
    "start_time": "2024-07-21T07:15:41.212Z"
   },
   {
    "duration": 17,
    "start_time": "2024-07-21T07:15:41.225Z"
   },
   {
    "duration": 30,
    "start_time": "2024-07-21T07:15:41.244Z"
   },
   {
    "duration": 10,
    "start_time": "2024-07-21T07:15:41.276Z"
   },
   {
    "duration": 15,
    "start_time": "2024-07-21T07:15:41.287Z"
   },
   {
    "duration": 18,
    "start_time": "2024-07-21T07:15:41.303Z"
   },
   {
    "duration": 41,
    "start_time": "2024-07-21T07:15:41.323Z"
   },
   {
    "duration": 4,
    "start_time": "2024-07-21T07:16:15.204Z"
   },
   {
    "duration": 120,
    "start_time": "2024-07-21T07:16:15.210Z"
   },
   {
    "duration": 11,
    "start_time": "2024-07-21T07:16:15.332Z"
   },
   {
    "duration": 44,
    "start_time": "2024-07-21T07:16:15.346Z"
   },
   {
    "duration": 45,
    "start_time": "2024-07-21T07:16:15.392Z"
   },
   {
    "duration": 7,
    "start_time": "2024-07-21T07:16:15.438Z"
   },
   {
    "duration": 10,
    "start_time": "2024-07-21T07:16:15.447Z"
   },
   {
    "duration": 11,
    "start_time": "2024-07-21T07:16:15.459Z"
   },
   {
    "duration": 24,
    "start_time": "2024-07-21T07:16:15.472Z"
   },
   {
    "duration": 21,
    "start_time": "2024-07-21T07:16:15.498Z"
   },
   {
    "duration": 7,
    "start_time": "2024-07-21T07:16:15.545Z"
   },
   {
    "duration": 13,
    "start_time": "2024-07-21T07:16:15.554Z"
   },
   {
    "duration": 10,
    "start_time": "2024-07-21T07:16:15.568Z"
   },
   {
    "duration": 23,
    "start_time": "2024-07-21T07:16:15.580Z"
   },
   {
    "duration": 16,
    "start_time": "2024-07-21T07:16:15.605Z"
   },
   {
    "duration": 50,
    "start_time": "2024-07-21T07:16:15.623Z"
   },
   {
    "duration": 16,
    "start_time": "2024-07-21T07:16:15.675Z"
   },
   {
    "duration": 18,
    "start_time": "2024-07-21T07:16:15.693Z"
   },
   {
    "duration": 36,
    "start_time": "2024-07-21T07:16:15.713Z"
   },
   {
    "duration": 239,
    "start_time": "2024-07-21T07:16:15.750Z"
   },
   {
    "duration": 6,
    "start_time": "2024-07-21T07:16:15.991Z"
   },
   {
    "duration": 109,
    "start_time": "2024-07-21T07:16:15.999Z"
   },
   {
    "duration": 46,
    "start_time": "2024-07-21T07:16:16.109Z"
   },
   {
    "duration": 12,
    "start_time": "2024-07-21T07:16:16.157Z"
   },
   {
    "duration": 83,
    "start_time": "2024-07-21T07:16:16.171Z"
   },
   {
    "duration": 12,
    "start_time": "2024-07-21T07:16:16.256Z"
   },
   {
    "duration": 23,
    "start_time": "2024-07-21T07:16:16.269Z"
   },
   {
    "duration": 52,
    "start_time": "2024-07-21T07:16:16.293Z"
   },
   {
    "duration": 27,
    "start_time": "2024-07-21T07:16:16.349Z"
   },
   {
    "duration": 3482,
    "start_time": "2024-07-21T07:16:16.377Z"
   },
   {
    "duration": 8,
    "start_time": "2024-07-21T07:16:19.861Z"
   },
   {
    "duration": 13,
    "start_time": "2024-07-21T07:16:19.871Z"
   },
   {
    "duration": 5,
    "start_time": "2024-07-21T07:16:19.886Z"
   },
   {
    "duration": 11,
    "start_time": "2024-07-21T07:16:19.892Z"
   },
   {
    "duration": 308,
    "start_time": "2024-07-21T07:16:19.905Z"
   },
   {
    "duration": 7,
    "start_time": "2024-07-21T07:16:20.215Z"
   },
   {
    "duration": 943,
    "start_time": "2024-07-21T07:16:20.223Z"
   },
   {
    "duration": 13,
    "start_time": "2024-07-21T07:16:21.167Z"
   },
   {
    "duration": 25,
    "start_time": "2024-07-21T07:16:21.181Z"
   },
   {
    "duration": 38,
    "start_time": "2024-07-21T07:16:21.208Z"
   },
   {
    "duration": 14,
    "start_time": "2024-07-21T07:16:21.247Z"
   },
   {
    "duration": 6,
    "start_time": "2024-07-21T07:16:21.262Z"
   },
   {
    "duration": 16,
    "start_time": "2024-07-21T07:16:21.269Z"
   },
   {
    "duration": 14,
    "start_time": "2024-07-21T07:16:21.287Z"
   },
   {
    "duration": 18,
    "start_time": "2024-07-21T07:16:21.303Z"
   },
   {
    "duration": 24,
    "start_time": "2024-07-21T07:16:21.323Z"
   },
   {
    "duration": 8,
    "start_time": "2024-07-21T07:16:21.349Z"
   },
   {
    "duration": 15,
    "start_time": "2024-07-21T07:16:21.358Z"
   },
   {
    "duration": 4,
    "start_time": "2024-07-21T07:16:21.375Z"
   },
   {
    "duration": 5,
    "start_time": "2024-07-21T07:16:21.381Z"
   },
   {
    "duration": 7,
    "start_time": "2024-07-21T07:16:21.388Z"
   },
   {
    "duration": 18,
    "start_time": "2024-07-21T07:16:21.397Z"
   },
   {
    "duration": 141,
    "start_time": "2024-07-21T07:16:21.445Z"
   },
   {
    "duration": 5,
    "start_time": "2024-07-21T07:16:21.588Z"
   },
   {
    "duration": 6,
    "start_time": "2024-07-21T07:16:21.595Z"
   },
   {
    "duration": 288,
    "start_time": "2024-07-21T07:16:21.603Z"
   },
   {
    "duration": 5,
    "start_time": "2024-07-21T07:16:21.892Z"
   },
   {
    "duration": 35,
    "start_time": "2024-07-21T07:16:21.899Z"
   },
   {
    "duration": 7,
    "start_time": "2024-07-21T07:16:21.936Z"
   },
   {
    "duration": 7,
    "start_time": "2024-07-21T07:16:21.946Z"
   },
   {
    "duration": 8,
    "start_time": "2024-07-21T07:16:21.955Z"
   },
   {
    "duration": 6,
    "start_time": "2024-07-21T07:16:21.965Z"
   },
   {
    "duration": 4,
    "start_time": "2024-07-21T07:20:34.644Z"
   },
   {
    "duration": 113,
    "start_time": "2024-07-21T07:20:35.046Z"
   },
   {
    "duration": 11,
    "start_time": "2024-07-21T07:20:35.969Z"
   },
   {
    "duration": 18,
    "start_time": "2024-07-21T07:20:39.250Z"
   },
   {
    "duration": 31,
    "start_time": "2024-07-21T07:20:41.692Z"
   },
   {
    "duration": 8,
    "start_time": "2024-07-21T07:20:41.725Z"
   },
   {
    "duration": 22,
    "start_time": "2024-07-21T07:20:41.734Z"
   },
   {
    "duration": 33,
    "start_time": "2024-07-21T07:20:41.757Z"
   },
   {
    "duration": 22,
    "start_time": "2024-07-21T07:20:42.136Z"
   },
   {
    "duration": 100,
    "start_time": "2024-07-21T07:20:42.160Z"
   },
   {
    "duration": 7,
    "start_time": "2024-07-21T07:20:42.261Z"
   },
   {
    "duration": 14,
    "start_time": "2024-07-21T07:20:42.270Z"
   },
   {
    "duration": 10,
    "start_time": "2024-07-21T07:20:42.286Z"
   },
   {
    "duration": 6,
    "start_time": "2024-07-21T07:20:43.868Z"
   },
   {
    "duration": 22,
    "start_time": "2024-07-21T07:20:43.876Z"
   },
   {
    "duration": 38,
    "start_time": "2024-07-21T07:20:43.900Z"
   },
   {
    "duration": 15,
    "start_time": "2024-07-21T07:20:43.940Z"
   },
   {
    "duration": 17,
    "start_time": "2024-07-21T07:20:44.213Z"
   },
   {
    "duration": 126,
    "start_time": "2024-07-21T07:20:44.305Z"
   },
   {
    "duration": 257,
    "start_time": "2024-07-21T07:20:46.052Z"
   },
   {
    "duration": 9,
    "start_time": "2024-07-21T07:20:46.311Z"
   },
   {
    "duration": 113,
    "start_time": "2024-07-21T07:20:46.886Z"
   },
   {
    "duration": 139,
    "start_time": "2024-07-21T07:20:47.002Z"
   },
   {
    "duration": 9,
    "start_time": "2024-07-21T07:20:47.146Z"
   },
   {
    "duration": 58,
    "start_time": "2024-07-21T07:20:47.691Z"
   },
   {
    "duration": 11,
    "start_time": "2024-07-21T07:20:47.751Z"
   },
   {
    "duration": 13,
    "start_time": "2024-07-21T07:20:48.214Z"
   },
   {
    "duration": 15,
    "start_time": "2024-07-21T07:20:48.582Z"
   },
   {
    "duration": 13,
    "start_time": "2024-07-21T07:20:49.116Z"
   },
   {
    "duration": 3678,
    "start_time": "2024-07-21T07:20:50.776Z"
   },
   {
    "duration": 6,
    "start_time": "2024-07-21T07:20:54.457Z"
   },
   {
    "duration": 25,
    "start_time": "2024-07-21T07:20:54.465Z"
   },
   {
    "duration": 7,
    "start_time": "2024-07-21T07:20:54.491Z"
   },
   {
    "duration": 5,
    "start_time": "2024-07-21T07:20:54.500Z"
   },
   {
    "duration": 315,
    "start_time": "2024-07-21T07:20:54.507Z"
   },
   {
    "duration": 9,
    "start_time": "2024-07-21T07:20:54.824Z"
   },
   {
    "duration": 899,
    "start_time": "2024-07-21T07:20:54.834Z"
   },
   {
    "duration": 13,
    "start_time": "2024-07-21T07:20:55.735Z"
   },
   {
    "duration": 29,
    "start_time": "2024-07-21T07:20:55.749Z"
   },
   {
    "duration": 21,
    "start_time": "2024-07-21T07:20:55.779Z"
   },
   {
    "duration": 13,
    "start_time": "2024-07-21T07:20:55.802Z"
   },
   {
    "duration": 6,
    "start_time": "2024-07-21T07:20:55.817Z"
   },
   {
    "duration": 31,
    "start_time": "2024-07-21T07:20:55.826Z"
   },
   {
    "duration": 16,
    "start_time": "2024-07-21T07:20:55.859Z"
   },
   {
    "duration": 8,
    "start_time": "2024-07-21T07:20:55.877Z"
   },
   {
    "duration": 12,
    "start_time": "2024-07-21T07:20:55.886Z"
   },
   {
    "duration": 6,
    "start_time": "2024-07-21T07:20:55.899Z"
   },
   {
    "duration": 13,
    "start_time": "2024-07-21T07:20:55.907Z"
   },
   {
    "duration": 28,
    "start_time": "2024-07-21T07:20:55.921Z"
   },
   {
    "duration": 16,
    "start_time": "2024-07-21T07:20:55.951Z"
   },
   {
    "duration": 8,
    "start_time": "2024-07-21T07:20:55.969Z"
   },
   {
    "duration": 9,
    "start_time": "2024-07-21T07:20:56.289Z"
   },
   {
    "duration": 144,
    "start_time": "2024-07-21T07:20:56.475Z"
   },
   {
    "duration": 5,
    "start_time": "2024-07-21T07:20:57.747Z"
   },
   {
    "duration": 4,
    "start_time": "2024-07-21T07:20:57.944Z"
   },
   {
    "duration": 282,
    "start_time": "2024-07-21T07:20:58.099Z"
   },
   {
    "duration": 5,
    "start_time": "2024-07-21T07:20:58.383Z"
   },
   {
    "duration": 12,
    "start_time": "2024-07-21T07:20:58.484Z"
   },
   {
    "duration": 7,
    "start_time": "2024-07-21T07:20:59.976Z"
   },
   {
    "duration": 7,
    "start_time": "2024-07-21T07:21:00.285Z"
   },
   {
    "duration": 8,
    "start_time": "2024-07-21T07:21:01.056Z"
   },
   {
    "duration": 7,
    "start_time": "2024-07-21T07:21:02.695Z"
   },
   {
    "duration": 11,
    "start_time": "2024-07-21T07:23:49.012Z"
   },
   {
    "duration": 15,
    "start_time": "2024-07-21T07:24:04.466Z"
   },
   {
    "duration": 9,
    "start_time": "2024-07-21T07:24:32.986Z"
   },
   {
    "duration": 9,
    "start_time": "2024-07-21T07:24:36.811Z"
   },
   {
    "duration": 13,
    "start_time": "2024-07-21T07:25:20.913Z"
   },
   {
    "duration": 10,
    "start_time": "2024-07-21T07:25:33.958Z"
   },
   {
    "duration": 6,
    "start_time": "2024-07-21T07:25:37.474Z"
   },
   {
    "duration": 3,
    "start_time": "2024-07-21T07:26:02.656Z"
   },
   {
    "duration": 537,
    "start_time": "2024-07-21T07:26:02.661Z"
   },
   {
    "duration": 11,
    "start_time": "2024-07-21T07:26:03.200Z"
   },
   {
    "duration": 32,
    "start_time": "2024-07-21T07:26:03.212Z"
   },
   {
    "duration": 65,
    "start_time": "2024-07-21T07:26:03.245Z"
   },
   {
    "duration": 7,
    "start_time": "2024-07-21T07:26:03.311Z"
   },
   {
    "duration": 30,
    "start_time": "2024-07-21T07:26:03.319Z"
   },
   {
    "duration": 13,
    "start_time": "2024-07-21T07:26:03.351Z"
   },
   {
    "duration": 30,
    "start_time": "2024-07-21T07:26:03.367Z"
   },
   {
    "duration": 23,
    "start_time": "2024-07-21T07:26:03.399Z"
   },
   {
    "duration": 8,
    "start_time": "2024-07-21T07:26:03.424Z"
   },
   {
    "duration": 26,
    "start_time": "2024-07-21T07:26:03.433Z"
   },
   {
    "duration": 15,
    "start_time": "2024-07-21T07:26:03.461Z"
   },
   {
    "duration": 18,
    "start_time": "2024-07-21T07:26:03.478Z"
   },
   {
    "duration": 13,
    "start_time": "2024-07-21T07:26:03.498Z"
   },
   {
    "duration": 37,
    "start_time": "2024-07-21T07:26:03.513Z"
   },
   {
    "duration": 15,
    "start_time": "2024-07-21T07:26:03.551Z"
   },
   {
    "duration": 15,
    "start_time": "2024-07-21T07:26:03.567Z"
   },
   {
    "duration": 11,
    "start_time": "2024-07-21T07:26:03.583Z"
   },
   {
    "duration": 286,
    "start_time": "2024-07-21T07:26:03.596Z"
   },
   {
    "duration": 8,
    "start_time": "2024-07-21T07:26:03.883Z"
   },
   {
    "duration": 116,
    "start_time": "2024-07-21T07:26:03.893Z"
   },
   {
    "duration": 36,
    "start_time": "2024-07-21T07:26:04.186Z"
   },
   {
    "duration": 9,
    "start_time": "2024-07-21T07:26:04.224Z"
   },
   {
    "duration": 57,
    "start_time": "2024-07-21T07:26:04.235Z"
   },
   {
    "duration": 9,
    "start_time": "2024-07-21T07:26:04.294Z"
   },
   {
    "duration": 42,
    "start_time": "2024-07-21T07:26:04.305Z"
   },
   {
    "duration": 33,
    "start_time": "2024-07-21T07:26:04.349Z"
   },
   {
    "duration": 17,
    "start_time": "2024-07-21T07:26:04.384Z"
   },
   {
    "duration": 3427,
    "start_time": "2024-07-21T07:26:04.403Z"
   },
   {
    "duration": 7,
    "start_time": "2024-07-21T07:26:07.831Z"
   },
   {
    "duration": 22,
    "start_time": "2024-07-21T07:26:07.840Z"
   },
   {
    "duration": 6,
    "start_time": "2024-07-21T07:26:07.864Z"
   },
   {
    "duration": 10,
    "start_time": "2024-07-21T07:26:07.871Z"
   },
   {
    "duration": 305,
    "start_time": "2024-07-21T07:26:07.882Z"
   },
   {
    "duration": 7,
    "start_time": "2024-07-21T07:26:08.190Z"
   },
   {
    "duration": 862,
    "start_time": "2024-07-21T07:26:08.198Z"
   },
   {
    "duration": 15,
    "start_time": "2024-07-21T07:26:09.062Z"
   },
   {
    "duration": 13,
    "start_time": "2024-07-21T07:26:09.079Z"
   },
   {
    "duration": 20,
    "start_time": "2024-07-21T07:26:09.093Z"
   },
   {
    "duration": 33,
    "start_time": "2024-07-21T07:26:09.114Z"
   },
   {
    "duration": 16,
    "start_time": "2024-07-21T07:26:09.149Z"
   },
   {
    "duration": 21,
    "start_time": "2024-07-21T07:26:09.167Z"
   },
   {
    "duration": 42,
    "start_time": "2024-07-21T07:26:09.190Z"
   },
   {
    "duration": 20,
    "start_time": "2024-07-21T07:26:09.234Z"
   },
   {
    "duration": 6,
    "start_time": "2024-07-21T07:26:09.256Z"
   },
   {
    "duration": 6,
    "start_time": "2024-07-21T07:26:09.265Z"
   },
   {
    "duration": 16,
    "start_time": "2024-07-21T07:26:09.273Z"
   },
   {
    "duration": 9,
    "start_time": "2024-07-21T07:26:09.291Z"
   },
   {
    "duration": 5,
    "start_time": "2024-07-21T07:26:09.301Z"
   },
   {
    "duration": 14,
    "start_time": "2024-07-21T07:26:09.307Z"
   },
   {
    "duration": 31,
    "start_time": "2024-07-21T07:26:09.323Z"
   },
   {
    "duration": 139,
    "start_time": "2024-07-21T07:26:09.355Z"
   },
   {
    "duration": 5,
    "start_time": "2024-07-21T07:26:09.496Z"
   },
   {
    "duration": 38,
    "start_time": "2024-07-21T07:26:09.502Z"
   },
   {
    "duration": 306,
    "start_time": "2024-07-21T07:26:09.542Z"
   },
   {
    "duration": 5,
    "start_time": "2024-07-21T07:26:09.850Z"
   },
   {
    "duration": 11,
    "start_time": "2024-07-21T07:26:09.857Z"
   },
   {
    "duration": 7,
    "start_time": "2024-07-21T07:26:09.870Z"
   },
   {
    "duration": 5,
    "start_time": "2024-07-21T07:26:09.879Z"
   },
   {
    "duration": 10,
    "start_time": "2024-07-21T07:26:09.886Z"
   },
   {
    "duration": 6,
    "start_time": "2024-07-21T07:26:09.898Z"
   },
   {
    "duration": 4,
    "start_time": "2024-07-21T07:26:32.102Z"
   },
   {
    "duration": 108,
    "start_time": "2024-07-21T07:26:33.241Z"
   },
   {
    "duration": 11,
    "start_time": "2024-07-21T07:26:33.610Z"
   },
   {
    "duration": 20,
    "start_time": "2024-07-21T07:26:33.803Z"
   },
   {
    "duration": 30,
    "start_time": "2024-07-21T07:26:33.991Z"
   },
   {
    "duration": 8,
    "start_time": "2024-07-21T07:26:34.290Z"
   },
   {
    "duration": 13,
    "start_time": "2024-07-21T07:26:34.452Z"
   },
   {
    "duration": 17,
    "start_time": "2024-07-21T07:26:34.565Z"
   },
   {
    "duration": 21,
    "start_time": "2024-07-21T07:26:35.477Z"
   },
   {
    "duration": 22,
    "start_time": "2024-07-21T07:26:35.633Z"
   },
   {
    "duration": 8,
    "start_time": "2024-07-21T07:26:35.873Z"
   },
   {
    "duration": 15,
    "start_time": "2024-07-21T07:26:36.017Z"
   },
   {
    "duration": 10,
    "start_time": "2024-07-21T07:26:36.131Z"
   },
   {
    "duration": 6,
    "start_time": "2024-07-21T07:26:36.431Z"
   },
   {
    "duration": 11,
    "start_time": "2024-07-21T07:26:36.570Z"
   },
   {
    "duration": 30,
    "start_time": "2024-07-21T07:26:36.856Z"
   },
   {
    "duration": 15,
    "start_time": "2024-07-21T07:26:36.991Z"
   },
   {
    "duration": 15,
    "start_time": "2024-07-21T07:26:37.291Z"
   },
   {
    "duration": 18,
    "start_time": "2024-07-21T07:26:38.095Z"
   },
   {
    "duration": 239,
    "start_time": "2024-07-21T07:26:40.357Z"
   },
   {
    "duration": 22,
    "start_time": "2024-07-21T07:26:40.598Z"
   },
   {
    "duration": 126,
    "start_time": "2024-07-21T07:26:40.622Z"
   },
   {
    "duration": 57,
    "start_time": "2024-07-21T07:26:40.750Z"
   },
   {
    "duration": 9,
    "start_time": "2024-07-21T07:26:40.809Z"
   },
   {
    "duration": 56,
    "start_time": "2024-07-21T07:26:41.250Z"
   },
   {
    "duration": 10,
    "start_time": "2024-07-21T07:26:41.400Z"
   },
   {
    "duration": 9,
    "start_time": "2024-07-21T07:26:42.287Z"
   },
   {
    "duration": 16,
    "start_time": "2024-07-21T07:26:42.649Z"
   },
   {
    "duration": 13,
    "start_time": "2024-07-21T07:26:43.199Z"
   },
   {
    "duration": 3388,
    "start_time": "2024-07-21T07:26:43.564Z"
   },
   {
    "duration": 9,
    "start_time": "2024-07-21T07:26:46.955Z"
   },
   {
    "duration": 10,
    "start_time": "2024-07-21T07:26:46.966Z"
   },
   {
    "duration": 7,
    "start_time": "2024-07-21T07:26:46.979Z"
   },
   {
    "duration": 8,
    "start_time": "2024-07-21T07:26:46.988Z"
   },
   {
    "duration": 316,
    "start_time": "2024-07-21T07:26:46.997Z"
   },
   {
    "duration": 7,
    "start_time": "2024-07-21T07:26:47.314Z"
   },
   {
    "duration": 884,
    "start_time": "2024-07-21T07:26:47.323Z"
   },
   {
    "duration": 13,
    "start_time": "2024-07-21T07:26:48.209Z"
   },
   {
    "duration": 26,
    "start_time": "2024-07-21T07:26:48.224Z"
   },
   {
    "duration": 31,
    "start_time": "2024-07-21T07:26:48.252Z"
   },
   {
    "duration": 26,
    "start_time": "2024-07-21T07:26:48.285Z"
   },
   {
    "duration": 8,
    "start_time": "2024-07-21T07:26:48.314Z"
   },
   {
    "duration": 40,
    "start_time": "2024-07-21T07:26:48.324Z"
   },
   {
    "duration": 14,
    "start_time": "2024-07-21T07:26:48.366Z"
   },
   {
    "duration": 7,
    "start_time": "2024-07-21T07:26:49.589Z"
   },
   {
    "duration": 4,
    "start_time": "2024-07-21T07:26:52.397Z"
   },
   {
    "duration": 6,
    "start_time": "2024-07-21T07:26:52.403Z"
   },
   {
    "duration": 13,
    "start_time": "2024-07-21T07:26:52.411Z"
   },
   {
    "duration": 5,
    "start_time": "2024-07-21T07:26:52.426Z"
   },
   {
    "duration": 4,
    "start_time": "2024-07-21T07:26:53.901Z"
   },
   {
    "duration": 26,
    "start_time": "2024-07-21T07:26:53.906Z"
   },
   {
    "duration": 16,
    "start_time": "2024-07-21T07:26:53.933Z"
   },
   {
    "duration": 130,
    "start_time": "2024-07-21T07:26:53.951Z"
   },
   {
    "duration": 5,
    "start_time": "2024-07-21T07:26:54.083Z"
   },
   {
    "duration": 6,
    "start_time": "2024-07-21T07:26:54.089Z"
   },
   {
    "duration": 278,
    "start_time": "2024-07-21T07:26:54.096Z"
   },
   {
    "duration": 5,
    "start_time": "2024-07-21T07:26:56.029Z"
   },
   {
    "duration": 35,
    "start_time": "2024-07-21T07:26:56.036Z"
   },
   {
    "duration": 6,
    "start_time": "2024-07-21T07:26:56.414Z"
   },
   {
    "duration": 35,
    "start_time": "2024-07-21T07:26:56.422Z"
   },
   {
    "duration": 11,
    "start_time": "2024-07-21T07:26:56.521Z"
   },
   {
    "duration": 7,
    "start_time": "2024-07-21T07:26:56.534Z"
   },
   {
    "duration": 1564,
    "start_time": "2024-07-21T08:00:52.928Z"
   },
   {
    "duration": 381,
    "start_time": "2024-07-21T08:00:54.494Z"
   },
   {
    "duration": 16,
    "start_time": "2024-07-21T08:00:54.877Z"
   },
   {
    "duration": 20,
    "start_time": "2024-07-21T08:00:54.895Z"
   },
   {
    "duration": 34,
    "start_time": "2024-07-21T08:00:54.916Z"
   },
   {
    "duration": 15,
    "start_time": "2024-07-21T08:00:54.951Z"
   },
   {
    "duration": 29,
    "start_time": "2024-07-21T08:00:54.968Z"
   },
   {
    "duration": 22,
    "start_time": "2024-07-21T08:00:54.998Z"
   },
   {
    "duration": 37,
    "start_time": "2024-07-21T08:00:55.021Z"
   },
   {
    "duration": 35,
    "start_time": "2024-07-21T08:00:55.062Z"
   },
   {
    "duration": 7,
    "start_time": "2024-07-21T08:00:55.099Z"
   },
   {
    "duration": 29,
    "start_time": "2024-07-21T08:00:55.107Z"
   },
   {
    "duration": 9,
    "start_time": "2024-07-21T08:00:55.138Z"
   },
   {
    "duration": 7,
    "start_time": "2024-07-21T08:00:55.149Z"
   },
   {
    "duration": 5,
    "start_time": "2024-07-21T08:00:55.165Z"
   },
   {
    "duration": 46,
    "start_time": "2024-07-21T08:00:55.172Z"
   },
   {
    "duration": 16,
    "start_time": "2024-07-21T08:00:55.221Z"
   },
   {
    "duration": 34,
    "start_time": "2024-07-21T08:00:55.238Z"
   },
   {
    "duration": 11,
    "start_time": "2024-07-21T08:00:55.275Z"
   },
   {
    "duration": 355,
    "start_time": "2024-07-21T08:00:55.288Z"
   },
   {
    "duration": 25,
    "start_time": "2024-07-21T08:00:55.645Z"
   },
   {
    "duration": 107,
    "start_time": "2024-07-21T08:00:55.672Z"
   },
   {
    "duration": 643,
    "start_time": "2024-07-21T08:00:55.780Z"
   },
   {
    "duration": 10,
    "start_time": "2024-07-21T08:00:56.425Z"
   },
   {
    "duration": 407,
    "start_time": "2024-07-21T08:00:56.436Z"
   },
   {
    "duration": 9,
    "start_time": "2024-07-21T08:00:56.844Z"
   },
   {
    "duration": 20,
    "start_time": "2024-07-21T08:00:56.854Z"
   },
   {
    "duration": 14,
    "start_time": "2024-07-21T08:00:56.878Z"
   },
   {
    "duration": 14,
    "start_time": "2024-07-21T08:00:56.894Z"
   },
   {
    "duration": 3502,
    "start_time": "2024-07-21T08:00:56.910Z"
   },
   {
    "duration": 8,
    "start_time": "2024-07-21T08:01:00.414Z"
   },
   {
    "duration": 61,
    "start_time": "2024-07-21T08:01:00.423Z"
   },
   {
    "duration": 48,
    "start_time": "2024-07-21T08:01:00.486Z"
   },
   {
    "duration": 29,
    "start_time": "2024-07-21T08:01:00.536Z"
   },
   {
    "duration": 375,
    "start_time": "2024-07-21T08:01:00.567Z"
   },
   {
    "duration": 320,
    "start_time": "2024-07-21T08:01:00.943Z"
   },
   {
    "duration": 983,
    "start_time": "2024-07-21T08:01:01.265Z"
   },
   {
    "duration": 20,
    "start_time": "2024-07-21T08:01:02.250Z"
   },
   {
    "duration": 16,
    "start_time": "2024-07-21T08:01:02.272Z"
   },
   {
    "duration": 21,
    "start_time": "2024-07-21T08:01:02.289Z"
   },
   {
    "duration": 14,
    "start_time": "2024-07-21T08:01:02.312Z"
   },
   {
    "duration": 14,
    "start_time": "2024-07-21T08:01:02.328Z"
   },
   {
    "duration": 15,
    "start_time": "2024-07-21T08:01:02.366Z"
   },
   {
    "duration": 20,
    "start_time": "2024-07-21T08:01:02.383Z"
   },
   {
    "duration": 12,
    "start_time": "2024-07-21T08:01:02.404Z"
   },
   {
    "duration": 15,
    "start_time": "2024-07-21T08:01:02.418Z"
   },
   {
    "duration": 13,
    "start_time": "2024-07-21T08:01:02.435Z"
   },
   {
    "duration": 23,
    "start_time": "2024-07-21T08:01:02.450Z"
   },
   {
    "duration": 66,
    "start_time": "2024-07-21T08:01:02.475Z"
   },
   {
    "duration": 31,
    "start_time": "2024-07-21T08:01:02.543Z"
   },
   {
    "duration": 17,
    "start_time": "2024-07-21T08:01:02.576Z"
   },
   {
    "duration": 22,
    "start_time": "2024-07-21T08:01:02.595Z"
   },
   {
    "duration": 125,
    "start_time": "2024-07-21T08:01:02.619Z"
   },
   {
    "duration": 5,
    "start_time": "2024-07-21T08:01:02.746Z"
   },
   {
    "duration": 13,
    "start_time": "2024-07-21T08:01:02.752Z"
   },
   {
    "duration": 285,
    "start_time": "2024-07-21T08:01:02.767Z"
   },
   {
    "duration": 19,
    "start_time": "2024-07-21T08:01:03.054Z"
   },
   {
    "duration": 28,
    "start_time": "2024-07-21T08:01:03.075Z"
   },
   {
    "duration": 6,
    "start_time": "2024-07-21T08:01:03.105Z"
   },
   {
    "duration": 9,
    "start_time": "2024-07-21T08:01:03.113Z"
   },
   {
    "duration": 10,
    "start_time": "2024-07-21T08:01:03.123Z"
   },
   {
    "duration": 8,
    "start_time": "2024-07-21T08:01:03.135Z"
   },
   {
    "duration": 50,
    "start_time": "2024-07-21T15:35:52.393Z"
   },
   {
    "duration": 1499,
    "start_time": "2024-07-21T15:37:43.023Z"
   },
   {
    "duration": 371,
    "start_time": "2024-07-21T15:37:44.525Z"
   },
   {
    "duration": 15,
    "start_time": "2024-07-21T15:37:44.897Z"
   },
   {
    "duration": 18,
    "start_time": "2024-07-21T15:37:44.914Z"
   },
   {
    "duration": 30,
    "start_time": "2024-07-21T15:37:44.934Z"
   },
   {
    "duration": 7,
    "start_time": "2024-07-21T15:37:44.965Z"
   },
   {
    "duration": 15,
    "start_time": "2024-07-21T15:37:44.974Z"
   },
   {
    "duration": 15,
    "start_time": "2024-07-21T15:37:44.991Z"
   },
   {
    "duration": 43,
    "start_time": "2024-07-21T15:37:45.007Z"
   },
   {
    "duration": 37,
    "start_time": "2024-07-21T15:37:45.053Z"
   },
   {
    "duration": 7,
    "start_time": "2024-07-21T15:37:45.091Z"
   },
   {
    "duration": 31,
    "start_time": "2024-07-21T15:37:45.100Z"
   },
   {
    "duration": 30,
    "start_time": "2024-07-21T15:37:45.133Z"
   },
   {
    "duration": 13,
    "start_time": "2024-07-21T15:37:45.166Z"
   },
   {
    "duration": 7,
    "start_time": "2024-07-21T15:37:45.181Z"
   },
   {
    "duration": 49,
    "start_time": "2024-07-21T15:37:45.190Z"
   },
   {
    "duration": 21,
    "start_time": "2024-07-21T15:37:45.240Z"
   },
   {
    "duration": 19,
    "start_time": "2024-07-21T15:37:45.262Z"
   },
   {
    "duration": 42,
    "start_time": "2024-07-21T15:37:45.283Z"
   },
   {
    "duration": 350,
    "start_time": "2024-07-21T15:37:45.327Z"
   },
   {
    "duration": 11,
    "start_time": "2024-07-21T15:37:45.678Z"
   },
   {
    "duration": 112,
    "start_time": "2024-07-21T15:37:45.691Z"
   },
   {
    "duration": 403,
    "start_time": "2024-07-21T15:37:45.805Z"
   },
   {
    "duration": 12,
    "start_time": "2024-07-21T15:37:46.210Z"
   },
   {
    "duration": 458,
    "start_time": "2024-07-21T15:37:46.224Z"
   },
   {
    "duration": 12,
    "start_time": "2024-07-21T15:37:46.684Z"
   },
   {
    "duration": 65,
    "start_time": "2024-07-21T15:37:46.698Z"
   },
   {
    "duration": 16,
    "start_time": "2024-07-21T15:37:46.765Z"
   },
   {
    "duration": 13,
    "start_time": "2024-07-21T15:37:46.783Z"
   },
   {
    "duration": 3390,
    "start_time": "2024-07-21T15:37:46.797Z"
   },
   {
    "duration": 8,
    "start_time": "2024-07-21T15:37:50.189Z"
   },
   {
    "duration": 13,
    "start_time": "2024-07-21T15:37:50.199Z"
   },
   {
    "duration": 6,
    "start_time": "2024-07-21T15:37:50.214Z"
   },
   {
    "duration": 5,
    "start_time": "2024-07-21T15:37:50.222Z"
   },
   {
    "duration": 307,
    "start_time": "2024-07-21T15:37:50.229Z"
   },
   {
    "duration": 8,
    "start_time": "2024-07-21T15:37:50.537Z"
   },
   {
    "duration": 861,
    "start_time": "2024-07-21T15:37:50.547Z"
   },
   {
    "duration": 22,
    "start_time": "2024-07-21T15:37:51.410Z"
   },
   {
    "duration": 20,
    "start_time": "2024-07-21T15:37:51.435Z"
   },
   {
    "duration": 38,
    "start_time": "2024-07-21T15:37:51.461Z"
   },
   {
    "duration": 18,
    "start_time": "2024-07-21T15:37:51.505Z"
   },
   {
    "duration": 5,
    "start_time": "2024-07-21T15:37:51.525Z"
   },
   {
    "duration": 36,
    "start_time": "2024-07-21T15:37:51.532Z"
   },
   {
    "duration": 20,
    "start_time": "2024-07-21T15:37:51.570Z"
   },
   {
    "duration": 7,
    "start_time": "2024-07-21T15:37:51.592Z"
   },
   {
    "duration": 1081,
    "start_time": "2024-07-21T15:37:51.602Z"
   },
   {
    "duration": 0,
    "start_time": "2024-07-21T15:37:52.685Z"
   },
   {
    "duration": 0,
    "start_time": "2024-07-21T15:37:52.686Z"
   },
   {
    "duration": 0,
    "start_time": "2024-07-21T15:37:52.687Z"
   },
   {
    "duration": 0,
    "start_time": "2024-07-21T15:37:52.689Z"
   },
   {
    "duration": 0,
    "start_time": "2024-07-21T15:37:52.690Z"
   },
   {
    "duration": 0,
    "start_time": "2024-07-21T15:37:52.691Z"
   },
   {
    "duration": 0,
    "start_time": "2024-07-21T15:37:52.692Z"
   },
   {
    "duration": 0,
    "start_time": "2024-07-21T15:37:52.694Z"
   },
   {
    "duration": 0,
    "start_time": "2024-07-21T15:37:52.695Z"
   },
   {
    "duration": 0,
    "start_time": "2024-07-21T15:37:52.696Z"
   },
   {
    "duration": 0,
    "start_time": "2024-07-21T15:37:52.697Z"
   },
   {
    "duration": 0,
    "start_time": "2024-07-21T15:37:52.698Z"
   },
   {
    "duration": 0,
    "start_time": "2024-07-21T15:37:52.700Z"
   },
   {
    "duration": 0,
    "start_time": "2024-07-21T15:37:52.701Z"
   },
   {
    "duration": 0,
    "start_time": "2024-07-21T15:37:52.702Z"
   },
   {
    "duration": 0,
    "start_time": "2024-07-21T15:37:52.703Z"
   },
   {
    "duration": 0,
    "start_time": "2024-07-21T15:37:52.704Z"
   },
   {
    "duration": 3,
    "start_time": "2024-07-21T15:37:54.753Z"
   },
   {
    "duration": 108,
    "start_time": "2024-07-21T15:37:55.115Z"
   },
   {
    "duration": 15,
    "start_time": "2024-07-21T15:37:55.346Z"
   },
   {
    "duration": 19,
    "start_time": "2024-07-21T15:37:55.549Z"
   },
   {
    "duration": 28,
    "start_time": "2024-07-21T15:37:55.722Z"
   },
   {
    "duration": 10,
    "start_time": "2024-07-21T15:37:55.909Z"
   },
   {
    "duration": 16,
    "start_time": "2024-07-21T15:37:56.052Z"
   },
   {
    "duration": 12,
    "start_time": "2024-07-21T15:37:56.224Z"
   },
   {
    "duration": 30,
    "start_time": "2024-07-21T15:37:56.961Z"
   },
   {
    "duration": 35,
    "start_time": "2024-07-21T15:37:57.108Z"
   },
   {
    "duration": 6,
    "start_time": "2024-07-21T15:37:57.416Z"
   },
   {
    "duration": 15,
    "start_time": "2024-07-21T15:37:57.586Z"
   },
   {
    "duration": 11,
    "start_time": "2024-07-21T15:37:57.710Z"
   },
   {
    "duration": 6,
    "start_time": "2024-07-21T15:37:58.020Z"
   },
   {
    "duration": 8,
    "start_time": "2024-07-21T15:37:58.189Z"
   },
   {
    "duration": 35,
    "start_time": "2024-07-21T15:37:58.482Z"
   },
   {
    "duration": 15,
    "start_time": "2024-07-21T15:37:58.639Z"
   },
   {
    "duration": 21,
    "start_time": "2024-07-21T15:37:58.969Z"
   },
   {
    "duration": 15,
    "start_time": "2024-07-21T15:37:59.788Z"
   },
   {
    "duration": 252,
    "start_time": "2024-07-21T15:38:00.158Z"
   },
   {
    "duration": 10,
    "start_time": "2024-07-21T15:38:00.481Z"
   },
   {
    "duration": 102,
    "start_time": "2024-07-21T15:38:01.159Z"
   },
   {
    "duration": 36,
    "start_time": "2024-07-21T15:38:01.870Z"
   },
   {
    "duration": 14,
    "start_time": "2024-07-21T15:38:02.047Z"
   },
   {
    "duration": 68,
    "start_time": "2024-07-21T15:38:03.005Z"
   },
   {
    "duration": 10,
    "start_time": "2024-07-21T15:38:03.158Z"
   },
   {
    "duration": 11,
    "start_time": "2024-07-21T15:38:03.965Z"
   },
   {
    "duration": 14,
    "start_time": "2024-07-21T15:38:04.295Z"
   },
   {
    "duration": 12,
    "start_time": "2024-07-21T15:38:04.797Z"
   },
   {
    "duration": 3493,
    "start_time": "2024-07-21T15:38:05.135Z"
   },
   {
    "duration": 7,
    "start_time": "2024-07-21T15:38:08.630Z"
   },
   {
    "duration": 33,
    "start_time": "2024-07-21T15:38:08.639Z"
   },
   {
    "duration": 9,
    "start_time": "2024-07-21T15:38:08.674Z"
   },
   {
    "duration": 20,
    "start_time": "2024-07-21T15:38:08.685Z"
   },
   {
    "duration": 301,
    "start_time": "2024-07-21T15:38:08.707Z"
   },
   {
    "duration": 9,
    "start_time": "2024-07-21T15:38:09.009Z"
   },
   {
    "duration": 898,
    "start_time": "2024-07-21T15:38:09.020Z"
   },
   {
    "duration": 35,
    "start_time": "2024-07-21T15:38:09.920Z"
   },
   {
    "duration": 17,
    "start_time": "2024-07-21T15:38:09.958Z"
   },
   {
    "duration": 32,
    "start_time": "2024-07-21T15:38:09.977Z"
   },
   {
    "duration": 25,
    "start_time": "2024-07-21T15:38:10.013Z"
   },
   {
    "duration": 17,
    "start_time": "2024-07-21T15:38:10.040Z"
   },
   {
    "duration": 48,
    "start_time": "2024-07-21T15:38:10.059Z"
   },
   {
    "duration": 26,
    "start_time": "2024-07-21T15:38:10.109Z"
   },
   {
    "duration": 9,
    "start_time": "2024-07-21T15:38:10.138Z"
   },
   {
    "duration": 1059,
    "start_time": "2024-07-21T15:38:15.063Z"
   },
   {
    "duration": 24,
    "start_time": "2024-07-21T15:38:46.096Z"
   },
   {
    "duration": 28,
    "start_time": "2024-07-21T15:39:02.176Z"
   },
   {
    "duration": 39,
    "start_time": "2024-07-21T15:39:31.004Z"
   },
   {
    "duration": 981,
    "start_time": "2024-07-21T15:39:38.486Z"
   },
   {
    "duration": 4,
    "start_time": "2024-07-21T15:39:57.857Z"
   },
   {
    "duration": 114,
    "start_time": "2024-07-21T15:39:58.025Z"
   },
   {
    "duration": 10,
    "start_time": "2024-07-21T15:39:58.210Z"
   },
   {
    "duration": 18,
    "start_time": "2024-07-21T15:39:58.360Z"
   },
   {
    "duration": 29,
    "start_time": "2024-07-21T15:39:58.518Z"
   },
   {
    "duration": 8,
    "start_time": "2024-07-21T15:39:58.675Z"
   },
   {
    "duration": 11,
    "start_time": "2024-07-21T15:39:58.849Z"
   },
   {
    "duration": 11,
    "start_time": "2024-07-21T15:39:59.009Z"
   },
   {
    "duration": 20,
    "start_time": "2024-07-21T15:39:59.882Z"
   },
   {
    "duration": 21,
    "start_time": "2024-07-21T15:40:00.072Z"
   },
   {
    "duration": 8,
    "start_time": "2024-07-21T15:40:00.392Z"
   },
   {
    "duration": 14,
    "start_time": "2024-07-21T15:40:00.542Z"
   },
   {
    "duration": 10,
    "start_time": "2024-07-21T15:40:00.715Z"
   },
   {
    "duration": 7,
    "start_time": "2024-07-21T15:40:01.179Z"
   },
   {
    "duration": 6,
    "start_time": "2024-07-21T15:40:01.352Z"
   },
   {
    "duration": 31,
    "start_time": "2024-07-21T15:40:01.669Z"
   },
   {
    "duration": 24,
    "start_time": "2024-07-21T15:40:01.818Z"
   },
   {
    "duration": 18,
    "start_time": "2024-07-21T15:40:02.127Z"
   },
   {
    "duration": 15,
    "start_time": "2024-07-21T15:40:02.905Z"
   },
   {
    "duration": 282,
    "start_time": "2024-07-21T15:40:03.198Z"
   },
   {
    "duration": 7,
    "start_time": "2024-07-21T15:40:03.529Z"
   },
   {
    "duration": 109,
    "start_time": "2024-07-21T15:40:04.176Z"
   },
   {
    "duration": 32,
    "start_time": "2024-07-21T15:40:04.789Z"
   },
   {
    "duration": 9,
    "start_time": "2024-07-21T15:40:05.006Z"
   },
   {
    "duration": 79,
    "start_time": "2024-07-21T15:40:05.937Z"
   },
   {
    "duration": 11,
    "start_time": "2024-07-21T15:40:06.122Z"
   },
   {
    "duration": 12,
    "start_time": "2024-07-21T15:40:08.482Z"
   },
   {
    "duration": 15,
    "start_time": "2024-07-21T15:40:08.496Z"
   },
   {
    "duration": 14,
    "start_time": "2024-07-21T15:40:08.513Z"
   },
   {
    "duration": 3252,
    "start_time": "2024-07-21T15:40:08.528Z"
   },
   {
    "duration": 9,
    "start_time": "2024-07-21T15:40:11.785Z"
   },
   {
    "duration": 14,
    "start_time": "2024-07-21T15:40:11.796Z"
   },
   {
    "duration": 6,
    "start_time": "2024-07-21T15:40:11.811Z"
   },
   {
    "duration": 5,
    "start_time": "2024-07-21T15:40:11.819Z"
   },
   {
    "duration": 301,
    "start_time": "2024-07-21T15:40:11.828Z"
   },
   {
    "duration": 7,
    "start_time": "2024-07-21T15:40:12.131Z"
   },
   {
    "duration": 825,
    "start_time": "2024-07-21T15:40:12.139Z"
   },
   {
    "duration": 11,
    "start_time": "2024-07-21T15:40:12.965Z"
   },
   {
    "duration": 11,
    "start_time": "2024-07-21T15:40:12.978Z"
   },
   {
    "duration": 18,
    "start_time": "2024-07-21T15:40:12.991Z"
   },
   {
    "duration": 16,
    "start_time": "2024-07-21T15:40:13.097Z"
   },
   {
    "duration": 6,
    "start_time": "2024-07-21T15:40:13.254Z"
   },
   {
    "duration": 14,
    "start_time": "2024-07-21T15:40:13.580Z"
   },
   {
    "duration": 14,
    "start_time": "2024-07-21T15:40:13.765Z"
   },
   {
    "duration": 8,
    "start_time": "2024-07-21T15:40:14.398Z"
   },
   {
    "duration": 32,
    "start_time": "2024-07-21T15:40:16.315Z"
   },
   {
    "duration": 997,
    "start_time": "2024-07-21T15:41:27.337Z"
   },
   {
    "duration": 5,
    "start_time": "2024-07-21T15:41:36.579Z"
   },
   {
    "duration": 107,
    "start_time": "2024-07-21T15:41:36.723Z"
   },
   {
    "duration": 11,
    "start_time": "2024-07-21T15:41:36.875Z"
   },
   {
    "duration": 18,
    "start_time": "2024-07-21T15:41:37.077Z"
   },
   {
    "duration": 29,
    "start_time": "2024-07-21T15:41:37.231Z"
   },
   {
    "duration": 7,
    "start_time": "2024-07-21T15:41:37.410Z"
   },
   {
    "duration": 10,
    "start_time": "2024-07-21T15:41:37.563Z"
   },
   {
    "duration": 11,
    "start_time": "2024-07-21T15:41:37.771Z"
   },
   {
    "duration": 20,
    "start_time": "2024-07-21T15:41:38.597Z"
   },
   {
    "duration": 21,
    "start_time": "2024-07-21T15:41:38.761Z"
   },
   {
    "duration": 7,
    "start_time": "2024-07-21T15:41:39.095Z"
   },
   {
    "duration": 13,
    "start_time": "2024-07-21T15:41:39.256Z"
   },
   {
    "duration": 10,
    "start_time": "2024-07-21T15:41:39.437Z"
   },
   {
    "duration": 6,
    "start_time": "2024-07-21T15:41:39.767Z"
   },
   {
    "duration": 8,
    "start_time": "2024-07-21T15:41:39.925Z"
   },
   {
    "duration": 55,
    "start_time": "2024-07-21T15:41:40.279Z"
   },
   {
    "duration": 24,
    "start_time": "2024-07-21T15:41:40.443Z"
   },
   {
    "duration": 21,
    "start_time": "2024-07-21T15:41:40.800Z"
   },
   {
    "duration": 14,
    "start_time": "2024-07-21T15:41:41.848Z"
   },
   {
    "duration": 290,
    "start_time": "2024-07-21T15:41:42.198Z"
   },
   {
    "duration": 8,
    "start_time": "2024-07-21T15:41:42.520Z"
   },
   {
    "duration": 124,
    "start_time": "2024-07-21T15:41:43.226Z"
   },
   {
    "duration": 50,
    "start_time": "2024-07-21T15:41:43.912Z"
   },
   {
    "duration": 9,
    "start_time": "2024-07-21T15:41:44.119Z"
   },
   {
    "duration": 77,
    "start_time": "2024-07-21T15:41:45.297Z"
   },
   {
    "duration": 12,
    "start_time": "2024-07-21T15:41:45.482Z"
   },
   {
    "duration": 11,
    "start_time": "2024-07-21T15:41:46.337Z"
   },
   {
    "duration": 13,
    "start_time": "2024-07-21T15:41:46.719Z"
   },
   {
    "duration": 17,
    "start_time": "2024-07-21T15:41:47.259Z"
   },
   {
    "duration": 3308,
    "start_time": "2024-07-21T15:41:47.629Z"
   },
   {
    "duration": 9,
    "start_time": "2024-07-21T15:41:50.939Z"
   },
   {
    "duration": 9,
    "start_time": "2024-07-21T15:41:50.963Z"
   },
   {
    "duration": 11,
    "start_time": "2024-07-21T15:41:50.975Z"
   },
   {
    "duration": 9,
    "start_time": "2024-07-21T15:41:50.988Z"
   },
   {
    "duration": 300,
    "start_time": "2024-07-21T15:41:50.998Z"
   },
   {
    "duration": 8,
    "start_time": "2024-07-21T15:41:51.299Z"
   },
   {
    "duration": 819,
    "start_time": "2024-07-21T15:41:51.310Z"
   },
   {
    "duration": 13,
    "start_time": "2024-07-21T15:41:52.130Z"
   },
   {
    "duration": 22,
    "start_time": "2024-07-21T15:41:52.146Z"
   },
   {
    "duration": 20,
    "start_time": "2024-07-21T15:41:52.170Z"
   },
   {
    "duration": 24,
    "start_time": "2024-07-21T15:41:52.192Z"
   },
   {
    "duration": 19,
    "start_time": "2024-07-21T15:41:52.218Z"
   },
   {
    "duration": 15,
    "start_time": "2024-07-21T15:41:53.359Z"
   },
   {
    "duration": 20,
    "start_time": "2024-07-21T15:41:53.929Z"
   },
   {
    "duration": 8,
    "start_time": "2024-07-21T15:41:55.225Z"
   },
   {
    "duration": 36,
    "start_time": "2024-07-21T15:41:58.135Z"
   },
   {
    "duration": 6,
    "start_time": "2024-07-21T15:42:47.752Z"
   },
   {
    "duration": 5,
    "start_time": "2024-07-21T15:42:57.826Z"
   },
   {
    "duration": 6,
    "start_time": "2024-07-21T15:43:02.148Z"
   },
   {
    "duration": 5,
    "start_time": "2024-07-21T15:44:03.917Z"
   },
   {
    "duration": 100,
    "start_time": "2024-07-21T15:44:04.068Z"
   },
   {
    "duration": 11,
    "start_time": "2024-07-21T15:44:04.216Z"
   },
   {
    "duration": 18,
    "start_time": "2024-07-21T15:44:04.402Z"
   },
   {
    "duration": 30,
    "start_time": "2024-07-21T15:44:04.550Z"
   },
   {
    "duration": 10,
    "start_time": "2024-07-21T15:44:04.705Z"
   },
   {
    "duration": 14,
    "start_time": "2024-07-21T15:44:04.880Z"
   },
   {
    "duration": 14,
    "start_time": "2024-07-21T15:44:05.034Z"
   },
   {
    "duration": 30,
    "start_time": "2024-07-21T15:44:05.958Z"
   },
   {
    "duration": 32,
    "start_time": "2024-07-21T15:44:06.108Z"
   },
   {
    "duration": 9,
    "start_time": "2024-07-21T15:44:06.415Z"
   },
   {
    "duration": 20,
    "start_time": "2024-07-21T15:44:06.587Z"
   },
   {
    "duration": 14,
    "start_time": "2024-07-21T15:44:06.730Z"
   },
   {
    "duration": 7,
    "start_time": "2024-07-21T15:44:07.069Z"
   },
   {
    "duration": 7,
    "start_time": "2024-07-21T15:44:07.217Z"
   },
   {
    "duration": 29,
    "start_time": "2024-07-21T15:44:07.645Z"
   },
   {
    "duration": 19,
    "start_time": "2024-07-21T15:44:07.819Z"
   },
   {
    "duration": 15,
    "start_time": "2024-07-21T15:44:08.147Z"
   },
   {
    "duration": 13,
    "start_time": "2024-07-21T15:44:08.927Z"
   },
   {
    "duration": 286,
    "start_time": "2024-07-21T15:44:09.276Z"
   },
   {
    "duration": 9,
    "start_time": "2024-07-21T15:44:09.580Z"
   },
   {
    "duration": 117,
    "start_time": "2024-07-21T15:44:10.181Z"
   },
   {
    "duration": 47,
    "start_time": "2024-07-21T15:44:10.819Z"
   },
   {
    "duration": 9,
    "start_time": "2024-07-21T15:44:11.014Z"
   },
   {
    "duration": 87,
    "start_time": "2024-07-21T15:44:11.942Z"
   },
   {
    "duration": 13,
    "start_time": "2024-07-21T15:44:12.116Z"
   },
   {
    "duration": 10,
    "start_time": "2024-07-21T15:44:12.902Z"
   },
   {
    "duration": 12,
    "start_time": "2024-07-21T15:44:13.224Z"
   },
   {
    "duration": 13,
    "start_time": "2024-07-21T15:44:13.772Z"
   },
   {
    "duration": 3275,
    "start_time": "2024-07-21T15:44:14.389Z"
   },
   {
    "duration": 8,
    "start_time": "2024-07-21T15:44:17.666Z"
   },
   {
    "duration": 16,
    "start_time": "2024-07-21T15:44:17.676Z"
   },
   {
    "duration": 6,
    "start_time": "2024-07-21T15:44:17.695Z"
   },
   {
    "duration": 17,
    "start_time": "2024-07-21T15:44:17.702Z"
   },
   {
    "duration": 312,
    "start_time": "2024-07-21T15:44:17.722Z"
   },
   {
    "duration": 8,
    "start_time": "2024-07-21T15:44:18.035Z"
   },
   {
    "duration": 827,
    "start_time": "2024-07-21T15:44:18.045Z"
   },
   {
    "duration": 16,
    "start_time": "2024-07-21T15:44:18.874Z"
   },
   {
    "duration": 15,
    "start_time": "2024-07-21T15:44:18.892Z"
   },
   {
    "duration": 21,
    "start_time": "2024-07-21T15:44:19.382Z"
   },
   {
    "duration": 20,
    "start_time": "2024-07-21T15:44:19.559Z"
   },
   {
    "duration": 7,
    "start_time": "2024-07-21T15:44:19.713Z"
   },
   {
    "duration": 20,
    "start_time": "2024-07-21T15:44:20.583Z"
   },
   {
    "duration": 19,
    "start_time": "2024-07-21T15:44:20.788Z"
   },
   {
    "duration": 9,
    "start_time": "2024-07-21T15:44:21.662Z"
   },
   {
    "duration": 44,
    "start_time": "2024-07-21T15:44:24.565Z"
   },
   {
    "duration": 4,
    "start_time": "2024-07-21T15:44:26.022Z"
   },
   {
    "duration": 3,
    "start_time": "2024-07-21T15:45:12.759Z"
   },
   {
    "duration": 110,
    "start_time": "2024-07-21T15:45:12.913Z"
   },
   {
    "duration": 11,
    "start_time": "2024-07-21T15:45:13.256Z"
   },
   {
    "duration": 19,
    "start_time": "2024-07-21T15:45:13.269Z"
   },
   {
    "duration": 37,
    "start_time": "2024-07-21T15:45:13.332Z"
   },
   {
    "duration": 8,
    "start_time": "2024-07-21T15:45:13.528Z"
   },
   {
    "duration": 12,
    "start_time": "2024-07-21T15:45:13.761Z"
   },
   {
    "duration": 15,
    "start_time": "2024-07-21T15:45:13.820Z"
   },
   {
    "duration": 29,
    "start_time": "2024-07-21T15:45:14.565Z"
   },
   {
    "duration": 33,
    "start_time": "2024-07-21T15:45:14.708Z"
   },
   {
    "duration": 9,
    "start_time": "2024-07-21T15:45:15.017Z"
   },
   {
    "duration": 13,
    "start_time": "2024-07-21T15:45:15.198Z"
   },
   {
    "duration": 10,
    "start_time": "2024-07-21T15:45:15.333Z"
   },
   {
    "duration": 5,
    "start_time": "2024-07-21T15:45:15.662Z"
   },
   {
    "duration": 7,
    "start_time": "2024-07-21T15:45:15.821Z"
   },
   {
    "duration": 31,
    "start_time": "2024-07-21T15:45:16.201Z"
   },
   {
    "duration": 15,
    "start_time": "2024-07-21T15:45:16.367Z"
   },
   {
    "duration": 17,
    "start_time": "2024-07-21T15:45:16.684Z"
   },
   {
    "duration": 10,
    "start_time": "2024-07-21T15:45:18.160Z"
   },
   {
    "duration": 294,
    "start_time": "2024-07-21T15:45:18.172Z"
   },
   {
    "duration": 9,
    "start_time": "2024-07-21T15:45:18.468Z"
   },
   {
    "duration": 110,
    "start_time": "2024-07-21T15:45:19.255Z"
   },
   {
    "duration": 136,
    "start_time": "2024-07-21T15:45:19.629Z"
   },
   {
    "duration": 12,
    "start_time": "2024-07-21T15:45:19.778Z"
   },
   {
    "duration": 69,
    "start_time": "2024-07-21T15:45:20.756Z"
   },
   {
    "duration": 10,
    "start_time": "2024-07-21T15:45:20.924Z"
   },
   {
    "duration": 10,
    "start_time": "2024-07-21T15:45:21.730Z"
   },
   {
    "duration": 13,
    "start_time": "2024-07-21T15:45:22.060Z"
   },
   {
    "duration": 12,
    "start_time": "2024-07-21T15:45:22.543Z"
   },
   {
    "duration": 3553,
    "start_time": "2024-07-21T15:45:22.878Z"
   },
   {
    "duration": 9,
    "start_time": "2024-07-21T15:45:26.433Z"
   },
   {
    "duration": 19,
    "start_time": "2024-07-21T15:45:26.444Z"
   },
   {
    "duration": 4,
    "start_time": "2024-07-21T15:45:26.465Z"
   },
   {
    "duration": 8,
    "start_time": "2024-07-21T15:45:26.471Z"
   },
   {
    "duration": 328,
    "start_time": "2024-07-21T15:45:26.481Z"
   },
   {
    "duration": 26,
    "start_time": "2024-07-21T15:45:26.811Z"
   },
   {
    "duration": 854,
    "start_time": "2024-07-21T15:45:26.838Z"
   },
   {
    "duration": 13,
    "start_time": "2024-07-21T15:45:27.694Z"
   },
   {
    "duration": 16,
    "start_time": "2024-07-21T15:45:27.711Z"
   },
   {
    "duration": 40,
    "start_time": "2024-07-21T15:45:27.729Z"
   },
   {
    "duration": 13,
    "start_time": "2024-07-21T15:45:27.770Z"
   },
   {
    "duration": 47,
    "start_time": "2024-07-21T15:45:27.784Z"
   },
   {
    "duration": 20,
    "start_time": "2024-07-21T15:45:27.833Z"
   },
   {
    "duration": 14,
    "start_time": "2024-07-21T15:45:28.615Z"
   },
   {
    "duration": 8,
    "start_time": "2024-07-21T15:45:29.979Z"
   },
   {
    "duration": 31,
    "start_time": "2024-07-21T15:45:32.709Z"
   },
   {
    "duration": 5,
    "start_time": "2024-07-21T15:45:36.241Z"
   },
   {
    "duration": 23,
    "start_time": "2024-07-21T15:51:19.954Z"
   },
   {
    "duration": 8,
    "start_time": "2024-07-21T15:51:30.736Z"
   },
   {
    "duration": 5,
    "start_time": "2024-07-21T15:53:09.070Z"
   },
   {
    "duration": 117,
    "start_time": "2024-07-21T15:53:09.077Z"
   },
   {
    "duration": 11,
    "start_time": "2024-07-21T15:53:09.195Z"
   },
   {
    "duration": 21,
    "start_time": "2024-07-21T15:53:09.208Z"
   },
   {
    "duration": 28,
    "start_time": "2024-07-21T15:53:09.230Z"
   },
   {
    "duration": 7,
    "start_time": "2024-07-21T15:53:09.259Z"
   },
   {
    "duration": 14,
    "start_time": "2024-07-21T15:53:09.268Z"
   },
   {
    "duration": 12,
    "start_time": "2024-07-21T15:53:09.284Z"
   },
   {
    "duration": 20,
    "start_time": "2024-07-21T15:53:09.299Z"
   },
   {
    "duration": 44,
    "start_time": "2024-07-21T15:53:09.320Z"
   },
   {
    "duration": 7,
    "start_time": "2024-07-21T15:53:09.365Z"
   },
   {
    "duration": 13,
    "start_time": "2024-07-21T15:53:09.373Z"
   },
   {
    "duration": 8,
    "start_time": "2024-07-21T15:53:09.387Z"
   },
   {
    "duration": 17,
    "start_time": "2024-07-21T15:53:09.397Z"
   },
   {
    "duration": 5,
    "start_time": "2024-07-21T15:53:09.416Z"
   },
   {
    "duration": 58,
    "start_time": "2024-07-21T15:53:09.423Z"
   },
   {
    "duration": 14,
    "start_time": "2024-07-21T15:53:09.483Z"
   },
   {
    "duration": 14,
    "start_time": "2024-07-21T15:53:09.498Z"
   },
   {
    "duration": 12,
    "start_time": "2024-07-21T15:53:09.514Z"
   },
   {
    "duration": 284,
    "start_time": "2024-07-21T15:53:09.528Z"
   },
   {
    "duration": 7,
    "start_time": "2024-07-21T15:53:09.814Z"
   },
   {
    "duration": 114,
    "start_time": "2024-07-21T15:53:09.823Z"
   },
   {
    "duration": 40,
    "start_time": "2024-07-21T15:53:09.939Z"
   },
   {
    "duration": 9,
    "start_time": "2024-07-21T15:53:09.982Z"
   },
   {
    "duration": 70,
    "start_time": "2024-07-21T15:53:09.993Z"
   },
   {
    "duration": 9,
    "start_time": "2024-07-21T15:53:10.065Z"
   },
   {
    "duration": 9,
    "start_time": "2024-07-21T15:53:10.076Z"
   },
   {
    "duration": 10,
    "start_time": "2024-07-21T15:53:10.087Z"
   },
   {
    "duration": 12,
    "start_time": "2024-07-21T15:53:10.099Z"
   },
   {
    "duration": 3347,
    "start_time": "2024-07-21T15:53:10.113Z"
   },
   {
    "duration": 7,
    "start_time": "2024-07-21T15:53:13.461Z"
   },
   {
    "duration": 32,
    "start_time": "2024-07-21T15:53:13.469Z"
   },
   {
    "duration": 11,
    "start_time": "2024-07-21T15:53:13.503Z"
   },
   {
    "duration": 10,
    "start_time": "2024-07-21T15:53:13.516Z"
   },
   {
    "duration": 273,
    "start_time": "2024-07-21T15:53:13.527Z"
   },
   {
    "duration": 7,
    "start_time": "2024-07-21T15:53:13.801Z"
   },
   {
    "duration": 816,
    "start_time": "2024-07-21T15:53:13.809Z"
   },
   {
    "duration": 20,
    "start_time": "2024-07-21T15:53:14.626Z"
   },
   {
    "duration": 23,
    "start_time": "2024-07-21T15:53:14.648Z"
   },
   {
    "duration": 40,
    "start_time": "2024-07-21T15:53:14.672Z"
   },
   {
    "duration": 29,
    "start_time": "2024-07-21T15:53:14.713Z"
   },
   {
    "duration": 5,
    "start_time": "2024-07-21T15:53:14.744Z"
   },
   {
    "duration": 21,
    "start_time": "2024-07-21T15:53:14.751Z"
   },
   {
    "duration": 20,
    "start_time": "2024-07-21T15:53:14.775Z"
   },
   {
    "duration": 7,
    "start_time": "2024-07-21T15:53:14.797Z"
   },
   {
    "duration": 28,
    "start_time": "2024-07-21T15:53:14.806Z"
   },
   {
    "duration": 27,
    "start_time": "2024-07-21T15:53:14.835Z"
   },
   {
    "duration": 27,
    "start_time": "2024-07-21T15:53:14.864Z"
   },
   {
    "duration": 7,
    "start_time": "2024-07-21T15:53:14.893Z"
   },
   {
    "duration": 12,
    "start_time": "2024-07-21T15:53:14.901Z"
   },
   {
    "duration": 11,
    "start_time": "2024-07-21T15:53:14.915Z"
   },
   {
    "duration": 17,
    "start_time": "2024-07-21T15:53:14.927Z"
   },
   {
    "duration": 16,
    "start_time": "2024-07-21T15:53:14.945Z"
   },
   {
    "duration": 4,
    "start_time": "2024-07-21T15:53:14.962Z"
   },
   {
    "duration": 4,
    "start_time": "2024-07-21T15:53:14.968Z"
   },
   {
    "duration": 12,
    "start_time": "2024-07-21T15:53:14.974Z"
   },
   {
    "duration": 141,
    "start_time": "2024-07-21T15:53:14.987Z"
   },
   {
    "duration": 4,
    "start_time": "2024-07-21T15:53:15.130Z"
   },
   {
    "duration": 27,
    "start_time": "2024-07-21T15:53:15.136Z"
   },
   {
    "duration": 266,
    "start_time": "2024-07-21T15:53:15.165Z"
   },
   {
    "duration": 4,
    "start_time": "2024-07-21T15:53:15.432Z"
   },
   {
    "duration": 31,
    "start_time": "2024-07-21T15:53:15.438Z"
   },
   {
    "duration": 7,
    "start_time": "2024-07-21T15:53:15.470Z"
   },
   {
    "duration": 7,
    "start_time": "2024-07-21T15:53:15.479Z"
   },
   {
    "duration": 9,
    "start_time": "2024-07-21T15:53:15.488Z"
   },
   {
    "duration": 5,
    "start_time": "2024-07-21T15:53:15.499Z"
   },
   {
    "duration": 3,
    "start_time": "2024-07-21T15:53:19.735Z"
   },
   {
    "duration": 107,
    "start_time": "2024-07-21T15:53:19.901Z"
   },
   {
    "duration": 11,
    "start_time": "2024-07-21T15:53:20.059Z"
   },
   {
    "duration": 19,
    "start_time": "2024-07-21T15:53:20.226Z"
   },
   {
    "duration": 29,
    "start_time": "2024-07-21T15:53:20.336Z"
   },
   {
    "duration": 7,
    "start_time": "2024-07-21T15:53:20.507Z"
   },
   {
    "duration": 9,
    "start_time": "2024-07-21T15:53:20.668Z"
   },
   {
    "duration": 10,
    "start_time": "2024-07-21T15:53:21.033Z"
   },
   {
    "duration": 18,
    "start_time": "2024-07-21T15:53:21.583Z"
   },
   {
    "duration": 20,
    "start_time": "2024-07-21T15:53:21.772Z"
   },
   {
    "duration": 6,
    "start_time": "2024-07-21T15:53:22.093Z"
   },
   {
    "duration": 13,
    "start_time": "2024-07-21T15:53:22.228Z"
   },
   {
    "duration": 9,
    "start_time": "2024-07-21T15:53:22.416Z"
   },
   {
    "duration": 5,
    "start_time": "2024-07-21T15:53:22.728Z"
   },
   {
    "duration": 6,
    "start_time": "2024-07-21T15:53:22.862Z"
   },
   {
    "duration": 29,
    "start_time": "2024-07-21T15:53:23.167Z"
   },
   {
    "duration": 13,
    "start_time": "2024-07-21T15:53:23.320Z"
   },
   {
    "duration": 15,
    "start_time": "2024-07-21T15:53:23.621Z"
   },
   {
    "duration": 9,
    "start_time": "2024-07-21T15:53:24.460Z"
   },
   {
    "duration": 268,
    "start_time": "2024-07-21T15:53:24.798Z"
   },
   {
    "duration": 8,
    "start_time": "2024-07-21T15:53:25.114Z"
   },
   {
    "duration": 131,
    "start_time": "2024-07-21T15:53:25.832Z"
   },
   {
    "duration": 34,
    "start_time": "2024-07-21T15:53:26.639Z"
   },
   {
    "duration": 12,
    "start_time": "2024-07-21T15:53:26.838Z"
   },
   {
    "duration": 51,
    "start_time": "2024-07-21T15:53:28.015Z"
   },
   {
    "duration": 9,
    "start_time": "2024-07-21T15:53:28.177Z"
   },
   {
    "duration": 9,
    "start_time": "2024-07-21T15:53:29.200Z"
   },
   {
    "duration": 13,
    "start_time": "2024-07-21T15:53:29.806Z"
   },
   {
    "duration": 12,
    "start_time": "2024-07-21T15:53:31.196Z"
   },
   {
    "duration": 3049,
    "start_time": "2024-07-21T15:53:32.432Z"
   },
   {
    "duration": 7,
    "start_time": "2024-07-21T15:53:35.483Z"
   },
   {
    "duration": 45,
    "start_time": "2024-07-21T15:53:35.492Z"
   },
   {
    "duration": 28,
    "start_time": "2024-07-21T15:53:35.539Z"
   },
   {
    "duration": 6,
    "start_time": "2024-07-21T15:53:35.568Z"
   },
   {
    "duration": 270,
    "start_time": "2024-07-21T15:53:36.332Z"
   },
   {
    "duration": 7,
    "start_time": "2024-07-21T15:53:36.603Z"
   },
   {
    "duration": 819,
    "start_time": "2024-07-21T15:53:36.611Z"
   },
   {
    "duration": 12,
    "start_time": "2024-07-21T15:53:37.432Z"
   },
   {
    "duration": 13,
    "start_time": "2024-07-21T15:53:37.522Z"
   },
   {
    "duration": 17,
    "start_time": "2024-07-21T15:53:37.661Z"
   },
   {
    "duration": 13,
    "start_time": "2024-07-21T15:53:38.032Z"
   },
   {
    "duration": 6,
    "start_time": "2024-07-21T15:53:38.046Z"
   },
   {
    "duration": 13,
    "start_time": "2024-07-21T15:53:38.366Z"
   },
   {
    "duration": 14,
    "start_time": "2024-07-21T15:53:38.526Z"
   },
   {
    "duration": 6,
    "start_time": "2024-07-21T15:53:38.886Z"
   },
   {
    "duration": 30,
    "start_time": "2024-07-21T15:53:40.582Z"
   },
   {
    "duration": 5,
    "start_time": "2024-07-21T15:53:41.547Z"
   },
   {
    "duration": 18,
    "start_time": "2024-07-21T15:53:43.067Z"
   },
   {
    "duration": 7,
    "start_time": "2024-07-21T15:53:48.506Z"
   },
   {
    "duration": 17,
    "start_time": "2024-07-21T15:53:58.672Z"
   },
   {
    "duration": 7,
    "start_time": "2024-07-21T15:54:01.109Z"
   },
   {
    "duration": 3,
    "start_time": "2024-07-21T15:54:10.608Z"
   },
   {
    "duration": 101,
    "start_time": "2024-07-21T15:54:10.804Z"
   },
   {
    "duration": 10,
    "start_time": "2024-07-21T15:54:11.341Z"
   },
   {
    "duration": 19,
    "start_time": "2024-07-21T15:54:11.352Z"
   },
   {
    "duration": 29,
    "start_time": "2024-07-21T15:54:11.442Z"
   },
   {
    "duration": 7,
    "start_time": "2024-07-21T15:54:11.670Z"
   },
   {
    "duration": 10,
    "start_time": "2024-07-21T15:54:11.826Z"
   },
   {
    "duration": 10,
    "start_time": "2024-07-21T15:54:11.983Z"
   },
   {
    "duration": 20,
    "start_time": "2024-07-21T15:54:12.814Z"
   },
   {
    "duration": 20,
    "start_time": "2024-07-21T15:54:13.006Z"
   },
   {
    "duration": 7,
    "start_time": "2024-07-21T15:54:13.345Z"
   },
   {
    "duration": 13,
    "start_time": "2024-07-21T15:54:13.553Z"
   },
   {
    "duration": 9,
    "start_time": "2024-07-21T15:54:13.727Z"
   },
   {
    "duration": 6,
    "start_time": "2024-07-21T15:54:14.180Z"
   },
   {
    "duration": 7,
    "start_time": "2024-07-21T15:54:14.357Z"
   },
   {
    "duration": 29,
    "start_time": "2024-07-21T15:54:14.720Z"
   },
   {
    "duration": 14,
    "start_time": "2024-07-21T15:54:14.886Z"
   },
   {
    "duration": 14,
    "start_time": "2024-07-21T15:54:15.220Z"
   },
   {
    "duration": 9,
    "start_time": "2024-07-21T15:54:16.122Z"
   },
   {
    "duration": 254,
    "start_time": "2024-07-21T15:54:16.438Z"
   },
   {
    "duration": 8,
    "start_time": "2024-07-21T15:54:16.774Z"
   },
   {
    "duration": 96,
    "start_time": "2024-07-21T15:54:17.427Z"
   },
   {
    "duration": 31,
    "start_time": "2024-07-21T15:54:18.134Z"
   },
   {
    "duration": 10,
    "start_time": "2024-07-21T15:54:18.301Z"
   },
   {
    "duration": 51,
    "start_time": "2024-07-21T15:54:19.390Z"
   },
   {
    "duration": 9,
    "start_time": "2024-07-21T15:54:19.612Z"
   },
   {
    "duration": 8,
    "start_time": "2024-07-21T15:54:20.384Z"
   },
   {
    "duration": 11,
    "start_time": "2024-07-21T15:54:20.710Z"
   },
   {
    "duration": 13,
    "start_time": "2024-07-21T15:54:21.239Z"
   },
   {
    "duration": 3084,
    "start_time": "2024-07-21T15:54:21.619Z"
   },
   {
    "duration": 7,
    "start_time": "2024-07-21T15:54:24.705Z"
   },
   {
    "duration": 12,
    "start_time": "2024-07-21T15:54:24.713Z"
   },
   {
    "duration": 4,
    "start_time": "2024-07-21T15:54:24.727Z"
   },
   {
    "duration": 5,
    "start_time": "2024-07-21T15:54:24.732Z"
   },
   {
    "duration": 265,
    "start_time": "2024-07-21T15:54:24.738Z"
   },
   {
    "duration": 6,
    "start_time": "2024-07-21T15:54:25.005Z"
   },
   {
    "duration": 859,
    "start_time": "2024-07-21T15:54:25.013Z"
   },
   {
    "duration": 11,
    "start_time": "2024-07-21T15:54:25.874Z"
   },
   {
    "duration": 12,
    "start_time": "2024-07-21T15:54:25.887Z"
   },
   {
    "duration": 30,
    "start_time": "2024-07-21T15:54:25.901Z"
   },
   {
    "duration": 13,
    "start_time": "2024-07-21T15:54:25.932Z"
   },
   {
    "duration": 27,
    "start_time": "2024-07-21T15:54:25.961Z"
   },
   {
    "duration": 20,
    "start_time": "2024-07-21T15:54:26.040Z"
   },
   {
    "duration": 15,
    "start_time": "2024-07-21T15:54:26.184Z"
   },
   {
    "duration": 7,
    "start_time": "2024-07-21T15:54:26.535Z"
   },
   {
    "duration": 26,
    "start_time": "2024-07-21T15:54:27.580Z"
   },
   {
    "duration": 4,
    "start_time": "2024-07-21T15:54:27.970Z"
   },
   {
    "duration": 18,
    "start_time": "2024-07-21T15:54:28.046Z"
   },
   {
    "duration": 7,
    "start_time": "2024-07-21T15:54:28.437Z"
   },
   {
    "duration": 4,
    "start_time": "2024-07-21T15:54:28.563Z"
   },
   {
    "duration": 4,
    "start_time": "2024-07-21T15:54:28.946Z"
   },
   {
    "duration": 16,
    "start_time": "2024-07-21T15:55:01.645Z"
   },
   {
    "duration": 9,
    "start_time": "2024-07-21T15:55:03.222Z"
   },
   {
    "duration": 3,
    "start_time": "2024-07-21T15:56:12.165Z"
   },
   {
    "duration": 102,
    "start_time": "2024-07-21T15:56:12.171Z"
   },
   {
    "duration": 10,
    "start_time": "2024-07-21T15:56:12.275Z"
   },
   {
    "duration": 23,
    "start_time": "2024-07-21T15:56:12.286Z"
   },
   {
    "duration": 53,
    "start_time": "2024-07-21T15:56:12.312Z"
   },
   {
    "duration": 7,
    "start_time": "2024-07-21T15:56:12.366Z"
   },
   {
    "duration": 19,
    "start_time": "2024-07-21T15:56:12.375Z"
   },
   {
    "duration": 12,
    "start_time": "2024-07-21T15:56:12.395Z"
   },
   {
    "duration": 20,
    "start_time": "2024-07-21T15:56:12.408Z"
   },
   {
    "duration": 44,
    "start_time": "2024-07-21T15:56:12.430Z"
   },
   {
    "duration": 9,
    "start_time": "2024-07-21T15:56:12.478Z"
   },
   {
    "duration": 17,
    "start_time": "2024-07-21T15:56:12.489Z"
   },
   {
    "duration": 22,
    "start_time": "2024-07-21T15:56:12.508Z"
   },
   {
    "duration": 32,
    "start_time": "2024-07-21T15:56:12.531Z"
   },
   {
    "duration": 7,
    "start_time": "2024-07-21T15:56:12.565Z"
   },
   {
    "duration": 76,
    "start_time": "2024-07-21T15:56:12.574Z"
   },
   {
    "duration": 34,
    "start_time": "2024-07-21T15:56:12.652Z"
   },
   {
    "duration": 41,
    "start_time": "2024-07-21T15:56:12.687Z"
   },
   {
    "duration": 38,
    "start_time": "2024-07-21T15:56:12.730Z"
   },
   {
    "duration": 296,
    "start_time": "2024-07-21T15:56:12.770Z"
   },
   {
    "duration": 7,
    "start_time": "2024-07-21T15:56:13.068Z"
   },
   {
    "duration": 107,
    "start_time": "2024-07-21T15:56:13.077Z"
   },
   {
    "duration": 31,
    "start_time": "2024-07-21T15:56:13.185Z"
   },
   {
    "duration": 11,
    "start_time": "2024-07-21T15:56:13.218Z"
   },
   {
    "duration": 79,
    "start_time": "2024-07-21T15:56:13.231Z"
   },
   {
    "duration": 10,
    "start_time": "2024-07-21T15:56:13.312Z"
   },
   {
    "duration": 11,
    "start_time": "2024-07-21T15:56:13.324Z"
   },
   {
    "duration": 15,
    "start_time": "2024-07-21T15:56:13.361Z"
   },
   {
    "duration": 15,
    "start_time": "2024-07-21T15:56:13.382Z"
   },
   {
    "duration": 3104,
    "start_time": "2024-07-21T15:56:13.399Z"
   },
   {
    "duration": 7,
    "start_time": "2024-07-21T15:56:16.504Z"
   },
   {
    "duration": 14,
    "start_time": "2024-07-21T15:56:16.513Z"
   },
   {
    "duration": 4,
    "start_time": "2024-07-21T15:56:16.529Z"
   },
   {
    "duration": 6,
    "start_time": "2024-07-21T15:56:16.534Z"
   },
   {
    "duration": 262,
    "start_time": "2024-07-21T15:56:16.541Z"
   },
   {
    "duration": 6,
    "start_time": "2024-07-21T15:56:16.804Z"
   },
   {
    "duration": 792,
    "start_time": "2024-07-21T15:56:16.811Z"
   },
   {
    "duration": 11,
    "start_time": "2024-07-21T15:56:17.605Z"
   },
   {
    "duration": 12,
    "start_time": "2024-07-21T15:56:17.617Z"
   },
   {
    "duration": 36,
    "start_time": "2024-07-21T15:56:17.630Z"
   },
   {
    "duration": 27,
    "start_time": "2024-07-21T15:56:17.668Z"
   },
   {
    "duration": 10,
    "start_time": "2024-07-21T15:56:17.697Z"
   },
   {
    "duration": 14,
    "start_time": "2024-07-21T15:56:17.709Z"
   },
   {
    "duration": 16,
    "start_time": "2024-07-21T15:56:17.725Z"
   },
   {
    "duration": 23,
    "start_time": "2024-07-21T15:56:17.743Z"
   },
   {
    "duration": 43,
    "start_time": "2024-07-21T15:56:17.768Z"
   },
   {
    "duration": 4,
    "start_time": "2024-07-21T15:56:17.813Z"
   },
   {
    "duration": 25,
    "start_time": "2024-07-21T15:56:17.818Z"
   },
   {
    "duration": 18,
    "start_time": "2024-07-21T15:56:17.845Z"
   },
   {
    "duration": 115,
    "start_time": "2024-07-21T15:56:17.865Z"
   },
   {
    "duration": 4,
    "start_time": "2024-07-21T15:56:17.982Z"
   },
   {
    "duration": 6,
    "start_time": "2024-07-21T15:56:17.987Z"
   },
   {
    "duration": 132,
    "start_time": "2024-07-21T15:56:17.995Z"
   },
   {
    "duration": 11,
    "start_time": "2024-07-21T15:56:18.128Z"
   },
   {
    "duration": 4,
    "start_time": "2024-07-21T15:56:18.140Z"
   },
   {
    "duration": 16,
    "start_time": "2024-07-21T15:56:18.146Z"
   },
   {
    "duration": 16,
    "start_time": "2024-07-21T15:56:18.164Z"
   },
   {
    "duration": 124,
    "start_time": "2024-07-21T15:56:18.182Z"
   },
   {
    "duration": 5,
    "start_time": "2024-07-21T15:56:18.308Z"
   },
   {
    "duration": 12,
    "start_time": "2024-07-21T15:56:18.314Z"
   },
   {
    "duration": 267,
    "start_time": "2024-07-21T15:56:18.328Z"
   },
   {
    "duration": 4,
    "start_time": "2024-07-21T15:56:18.597Z"
   },
   {
    "duration": 12,
    "start_time": "2024-07-21T15:56:18.602Z"
   },
   {
    "duration": 6,
    "start_time": "2024-07-21T15:56:18.615Z"
   },
   {
    "duration": 5,
    "start_time": "2024-07-21T15:56:18.622Z"
   },
   {
    "duration": 37,
    "start_time": "2024-07-21T15:56:18.628Z"
   },
   {
    "duration": 6,
    "start_time": "2024-07-21T15:56:18.667Z"
   },
   {
    "duration": 3,
    "start_time": "2024-07-21T15:56:21.805Z"
   },
   {
    "duration": 100,
    "start_time": "2024-07-21T15:56:21.938Z"
   },
   {
    "duration": 11,
    "start_time": "2024-07-21T15:56:22.066Z"
   },
   {
    "duration": 19,
    "start_time": "2024-07-21T15:56:22.213Z"
   },
   {
    "duration": 28,
    "start_time": "2024-07-21T15:56:22.399Z"
   },
   {
    "duration": 8,
    "start_time": "2024-07-21T15:56:22.498Z"
   },
   {
    "duration": 12,
    "start_time": "2024-07-21T15:56:22.643Z"
   },
   {
    "duration": 14,
    "start_time": "2024-07-21T15:56:22.756Z"
   },
   {
    "duration": 18,
    "start_time": "2024-07-21T15:56:23.552Z"
   },
   {
    "duration": 21,
    "start_time": "2024-07-21T15:56:23.987Z"
   },
   {
    "duration": 7,
    "start_time": "2024-07-21T15:56:24.290Z"
   },
   {
    "duration": 15,
    "start_time": "2024-07-21T15:56:24.460Z"
   },
   {
    "duration": 9,
    "start_time": "2024-07-21T15:56:24.603Z"
   },
   {
    "duration": 6,
    "start_time": "2024-07-21T15:56:24.899Z"
   },
   {
    "duration": 6,
    "start_time": "2024-07-21T15:56:25.056Z"
   },
   {
    "duration": 29,
    "start_time": "2024-07-21T15:56:25.350Z"
   },
   {
    "duration": 14,
    "start_time": "2024-07-21T15:56:25.555Z"
   },
   {
    "duration": 17,
    "start_time": "2024-07-21T15:56:25.822Z"
   },
   {
    "duration": 10,
    "start_time": "2024-07-21T15:56:26.607Z"
   },
   {
    "duration": 261,
    "start_time": "2024-07-21T15:56:26.916Z"
   },
   {
    "duration": 9,
    "start_time": "2024-07-21T15:56:27.227Z"
   },
   {
    "duration": 110,
    "start_time": "2024-07-21T15:56:27.836Z"
   },
   {
    "duration": 32,
    "start_time": "2024-07-21T15:56:28.504Z"
   },
   {
    "duration": 8,
    "start_time": "2024-07-21T15:56:28.664Z"
   },
   {
    "duration": 59,
    "start_time": "2024-07-21T15:56:29.668Z"
   },
   {
    "duration": 9,
    "start_time": "2024-07-21T15:56:29.840Z"
   },
   {
    "duration": 9,
    "start_time": "2024-07-21T15:56:30.722Z"
   },
   {
    "duration": 13,
    "start_time": "2024-07-21T15:56:31.071Z"
   },
   {
    "duration": 12,
    "start_time": "2024-07-21T15:56:31.645Z"
   },
   {
    "duration": 3060,
    "start_time": "2024-07-21T15:56:31.997Z"
   },
   {
    "duration": 7,
    "start_time": "2024-07-21T15:56:35.059Z"
   },
   {
    "duration": 14,
    "start_time": "2024-07-21T15:56:35.068Z"
   },
   {
    "duration": 4,
    "start_time": "2024-07-21T15:56:35.084Z"
   },
   {
    "duration": 4,
    "start_time": "2024-07-21T15:56:35.090Z"
   },
   {
    "duration": 286,
    "start_time": "2024-07-21T15:56:35.095Z"
   },
   {
    "duration": 6,
    "start_time": "2024-07-21T15:56:35.383Z"
   },
   {
    "duration": 851,
    "start_time": "2024-07-21T15:56:35.391Z"
   },
   {
    "duration": 11,
    "start_time": "2024-07-21T15:56:36.244Z"
   },
   {
    "duration": 13,
    "start_time": "2024-07-21T15:56:36.261Z"
   },
   {
    "duration": 19,
    "start_time": "2024-07-21T15:56:36.275Z"
   },
   {
    "duration": 15,
    "start_time": "2024-07-21T15:56:36.295Z"
   },
   {
    "duration": 5,
    "start_time": "2024-07-21T15:56:36.312Z"
   },
   {
    "duration": 13,
    "start_time": "2024-07-21T15:56:36.318Z"
   },
   {
    "duration": 14,
    "start_time": "2024-07-21T15:56:36.363Z"
   },
   {
    "duration": 6,
    "start_time": "2024-07-21T15:56:36.662Z"
   },
   {
    "duration": 29,
    "start_time": "2024-07-21T15:56:38.756Z"
   },
   {
    "duration": 5,
    "start_time": "2024-07-21T15:56:39.731Z"
   },
   {
    "duration": 21,
    "start_time": "2024-07-21T15:56:40.311Z"
   },
   {
    "duration": 6,
    "start_time": "2024-07-21T15:56:41.264Z"
   },
   {
    "duration": 1065,
    "start_time": "2024-07-21T15:59:00.083Z"
   },
   {
    "duration": 154,
    "start_time": "2024-07-21T15:59:19.153Z"
   },
   {
    "duration": 15,
    "start_time": "2024-07-21T16:01:01.504Z"
   },
   {
    "duration": 3,
    "start_time": "2024-07-21T16:01:22.812Z"
   },
   {
    "duration": 5,
    "start_time": "2024-07-21T16:02:27.006Z"
   },
   {
    "duration": 5,
    "start_time": "2024-07-21T16:02:38.534Z"
   },
   {
    "duration": 9,
    "start_time": "2024-07-21T16:02:54.373Z"
   },
   {
    "duration": 30,
    "start_time": "2024-07-21T16:03:11.172Z"
   },
   {
    "duration": 21,
    "start_time": "2024-07-21T16:04:40.172Z"
   },
   {
    "duration": 22,
    "start_time": "2024-07-21T16:07:43.046Z"
   },
   {
    "duration": 25,
    "start_time": "2024-07-21T16:09:02.415Z"
   },
   {
    "duration": 23,
    "start_time": "2024-07-21T16:10:30.998Z"
   },
   {
    "duration": 22,
    "start_time": "2024-07-21T16:10:58.481Z"
   },
   {
    "duration": 1205,
    "start_time": "2024-07-21T16:11:50.061Z"
   },
   {
    "duration": 100,
    "start_time": "2024-07-21T16:11:51.268Z"
   },
   {
    "duration": 15,
    "start_time": "2024-07-21T16:11:51.370Z"
   },
   {
    "duration": 17,
    "start_time": "2024-07-21T16:11:51.386Z"
   },
   {
    "duration": 29,
    "start_time": "2024-07-21T16:11:51.404Z"
   },
   {
    "duration": 6,
    "start_time": "2024-07-21T16:11:51.435Z"
   },
   {
    "duration": 31,
    "start_time": "2024-07-21T16:11:51.461Z"
   },
   {
    "duration": 14,
    "start_time": "2024-07-21T16:11:51.494Z"
   },
   {
    "duration": 25,
    "start_time": "2024-07-21T16:11:51.509Z"
   },
   {
    "duration": 32,
    "start_time": "2024-07-21T16:11:51.537Z"
   },
   {
    "duration": 8,
    "start_time": "2024-07-21T16:11:51.571Z"
   },
   {
    "duration": 27,
    "start_time": "2024-07-21T16:11:51.580Z"
   },
   {
    "duration": 15,
    "start_time": "2024-07-21T16:11:51.608Z"
   },
   {
    "duration": 6,
    "start_time": "2024-07-21T16:11:51.624Z"
   },
   {
    "duration": 9,
    "start_time": "2024-07-21T16:11:51.631Z"
   },
   {
    "duration": 53,
    "start_time": "2024-07-21T16:11:51.641Z"
   },
   {
    "duration": 14,
    "start_time": "2024-07-21T16:11:51.695Z"
   },
   {
    "duration": 30,
    "start_time": "2024-07-21T16:11:51.710Z"
   },
   {
    "duration": 21,
    "start_time": "2024-07-21T16:11:51.741Z"
   },
   {
    "duration": 254,
    "start_time": "2024-07-21T16:11:51.763Z"
   },
   {
    "duration": 11,
    "start_time": "2024-07-21T16:11:52.018Z"
   },
   {
    "duration": 114,
    "start_time": "2024-07-21T16:11:52.031Z"
   },
   {
    "duration": 192,
    "start_time": "2024-07-21T16:11:52.147Z"
   },
   {
    "duration": 24,
    "start_time": "2024-07-21T16:11:52.340Z"
   },
   {
    "duration": 378,
    "start_time": "2024-07-21T16:11:52.366Z"
   },
   {
    "duration": 16,
    "start_time": "2024-07-21T16:11:52.746Z"
   },
   {
    "duration": 9,
    "start_time": "2024-07-21T16:11:52.764Z"
   },
   {
    "duration": 12,
    "start_time": "2024-07-21T16:11:52.777Z"
   },
   {
    "duration": 13,
    "start_time": "2024-07-21T16:11:52.791Z"
   },
   {
    "duration": 3146,
    "start_time": "2024-07-21T16:11:52.805Z"
   },
   {
    "duration": 12,
    "start_time": "2024-07-21T16:11:55.953Z"
   },
   {
    "duration": 11,
    "start_time": "2024-07-21T16:11:55.966Z"
   },
   {
    "duration": 5,
    "start_time": "2024-07-21T16:11:55.978Z"
   },
   {
    "duration": 5,
    "start_time": "2024-07-21T16:11:55.984Z"
   },
   {
    "duration": 299,
    "start_time": "2024-07-21T16:11:55.991Z"
   },
   {
    "duration": 7,
    "start_time": "2024-07-21T16:11:56.291Z"
   },
   {
    "duration": 834,
    "start_time": "2024-07-21T16:11:56.299Z"
   },
   {
    "duration": 14,
    "start_time": "2024-07-21T16:11:57.135Z"
   },
   {
    "duration": 23,
    "start_time": "2024-07-21T16:11:57.150Z"
   },
   {
    "duration": 29,
    "start_time": "2024-07-21T16:11:57.174Z"
   },
   {
    "duration": 13,
    "start_time": "2024-07-21T16:11:57.205Z"
   },
   {
    "duration": 7,
    "start_time": "2024-07-21T16:11:57.219Z"
   },
   {
    "duration": 13,
    "start_time": "2024-07-21T16:11:57.227Z"
   },
   {
    "duration": 25,
    "start_time": "2024-07-21T16:11:57.242Z"
   },
   {
    "duration": 6,
    "start_time": "2024-07-21T16:11:57.269Z"
   },
   {
    "duration": 29,
    "start_time": "2024-07-21T16:11:57.277Z"
   },
   {
    "duration": 4,
    "start_time": "2024-07-21T16:11:57.307Z"
   },
   {
    "duration": 19,
    "start_time": "2024-07-21T16:11:57.312Z"
   },
   {
    "duration": 29,
    "start_time": "2024-07-21T16:11:57.333Z"
   },
   {
    "duration": 4,
    "start_time": "2024-07-21T16:11:57.364Z"
   },
   {
    "duration": 12,
    "start_time": "2024-07-21T16:11:57.369Z"
   },
   {
    "duration": 30,
    "start_time": "2024-07-21T16:11:57.383Z"
   },
   {
    "duration": 3,
    "start_time": "2024-07-21T16:11:57.415Z"
   },
   {
    "duration": 5,
    "start_time": "2024-07-21T16:11:57.420Z"
   },
   {
    "duration": 45,
    "start_time": "2024-07-21T16:11:57.427Z"
   },
   {
    "duration": 5,
    "start_time": "2024-07-21T16:11:57.474Z"
   },
   {
    "duration": 13,
    "start_time": "2024-07-21T16:11:57.481Z"
   },
   {
    "duration": 8,
    "start_time": "2024-07-21T16:11:57.495Z"
   },
   {
    "duration": 10,
    "start_time": "2024-07-21T16:11:57.505Z"
   },
   {
    "duration": 146,
    "start_time": "2024-07-21T16:11:57.516Z"
   },
   {
    "duration": 5,
    "start_time": "2024-07-21T16:11:57.664Z"
   },
   {
    "duration": 4,
    "start_time": "2024-07-21T16:11:57.670Z"
   },
   {
    "duration": 270,
    "start_time": "2024-07-21T16:11:57.676Z"
   },
   {
    "duration": 4,
    "start_time": "2024-07-21T16:11:57.948Z"
   },
   {
    "duration": 18,
    "start_time": "2024-07-21T16:11:57.961Z"
   },
   {
    "duration": 7,
    "start_time": "2024-07-21T16:11:57.981Z"
   },
   {
    "duration": 6,
    "start_time": "2024-07-21T16:11:57.990Z"
   },
   {
    "duration": 22,
    "start_time": "2024-07-21T16:11:57.998Z"
   },
   {
    "duration": 6,
    "start_time": "2024-07-21T16:11:58.022Z"
   },
   {
    "duration": 4,
    "start_time": "2024-07-21T16:13:23.477Z"
   },
   {
    "duration": 139,
    "start_time": "2024-07-21T16:13:23.484Z"
   },
   {
    "duration": 10,
    "start_time": "2024-07-21T16:13:24.233Z"
   },
   {
    "duration": 28,
    "start_time": "2024-07-21T16:13:28.447Z"
   },
   {
    "duration": 29,
    "start_time": "2024-07-21T16:13:28.477Z"
   },
   {
    "duration": 8,
    "start_time": "2024-07-21T16:13:28.507Z"
   },
   {
    "duration": 9,
    "start_time": "2024-07-21T16:13:28.543Z"
   },
   {
    "duration": 25,
    "start_time": "2024-07-21T16:13:28.561Z"
   },
   {
    "duration": 19,
    "start_time": "2024-07-21T16:13:28.587Z"
   },
   {
    "duration": 19,
    "start_time": "2024-07-21T16:13:28.608Z"
   },
   {
    "duration": 6,
    "start_time": "2024-07-21T16:13:28.628Z"
   },
   {
    "duration": 29,
    "start_time": "2024-07-21T16:13:28.636Z"
   },
   {
    "duration": 9,
    "start_time": "2024-07-21T16:13:28.666Z"
   },
   {
    "duration": 5,
    "start_time": "2024-07-21T16:13:28.676Z"
   },
   {
    "duration": 6,
    "start_time": "2024-07-21T16:13:28.682Z"
   },
   {
    "duration": 36,
    "start_time": "2024-07-21T16:13:28.689Z"
   },
   {
    "duration": 43,
    "start_time": "2024-07-21T16:13:28.727Z"
   },
   {
    "duration": 14,
    "start_time": "2024-07-21T16:13:28.772Z"
   },
   {
    "duration": 10,
    "start_time": "2024-07-21T16:13:28.788Z"
   },
   {
    "duration": 305,
    "start_time": "2024-07-21T16:13:28.800Z"
   },
   {
    "duration": 9,
    "start_time": "2024-07-21T16:13:29.107Z"
   },
   {
    "duration": 112,
    "start_time": "2024-07-21T16:13:29.117Z"
   },
   {
    "duration": 39,
    "start_time": "2024-07-21T16:13:29.231Z"
   },
   {
    "duration": 11,
    "start_time": "2024-07-21T16:13:29.271Z"
   },
   {
    "duration": 51,
    "start_time": "2024-07-21T16:13:29.284Z"
   },
   {
    "duration": 32,
    "start_time": "2024-07-21T16:13:29.336Z"
   },
   {
    "duration": 8,
    "start_time": "2024-07-21T16:13:29.369Z"
   },
   {
    "duration": 10,
    "start_time": "2024-07-21T16:13:29.379Z"
   },
   {
    "duration": 12,
    "start_time": "2024-07-21T16:13:29.390Z"
   },
   {
    "duration": 3210,
    "start_time": "2024-07-21T16:13:29.404Z"
   },
   {
    "duration": 7,
    "start_time": "2024-07-21T16:13:32.615Z"
   },
   {
    "duration": 16,
    "start_time": "2024-07-21T16:13:32.623Z"
   },
   {
    "duration": 8,
    "start_time": "2024-07-21T16:13:32.641Z"
   },
   {
    "duration": 11,
    "start_time": "2024-07-21T16:13:32.651Z"
   },
   {
    "duration": 339,
    "start_time": "2024-07-21T16:13:32.664Z"
   },
   {
    "duration": 23,
    "start_time": "2024-07-21T16:13:33.005Z"
   },
   {
    "duration": 894,
    "start_time": "2024-07-21T16:13:33.029Z"
   },
   {
    "duration": 11,
    "start_time": "2024-07-21T16:13:33.925Z"
   },
   {
    "duration": 28,
    "start_time": "2024-07-21T16:13:33.937Z"
   },
   {
    "duration": 26,
    "start_time": "2024-07-21T16:13:33.967Z"
   },
   {
    "duration": 14,
    "start_time": "2024-07-21T16:13:33.995Z"
   },
   {
    "duration": 5,
    "start_time": "2024-07-21T16:13:34.011Z"
   },
   {
    "duration": 44,
    "start_time": "2024-07-21T16:13:34.018Z"
   },
   {
    "duration": 17,
    "start_time": "2024-07-21T16:13:34.067Z"
   },
   {
    "duration": 7,
    "start_time": "2024-07-21T16:13:34.086Z"
   },
   {
    "duration": 29,
    "start_time": "2024-07-21T16:13:34.095Z"
   },
   {
    "duration": 37,
    "start_time": "2024-07-21T16:13:34.126Z"
   },
   {
    "duration": 18,
    "start_time": "2024-07-21T16:13:34.165Z"
   },
   {
    "duration": 5,
    "start_time": "2024-07-21T16:13:34.185Z"
   },
   {
    "duration": 5,
    "start_time": "2024-07-21T16:13:34.191Z"
   },
   {
    "duration": 8,
    "start_time": "2024-07-21T16:13:34.198Z"
   },
   {
    "duration": 59,
    "start_time": "2024-07-21T16:13:34.208Z"
   },
   {
    "duration": 6,
    "start_time": "2024-07-21T16:13:34.268Z"
   },
   {
    "duration": 5,
    "start_time": "2024-07-21T16:13:34.275Z"
   },
   {
    "duration": 13,
    "start_time": "2024-07-21T16:13:34.281Z"
   },
   {
    "duration": 4,
    "start_time": "2024-07-21T16:13:34.296Z"
   },
   {
    "duration": 5,
    "start_time": "2024-07-21T16:13:34.302Z"
   },
   {
    "duration": 5,
    "start_time": "2024-07-21T16:13:34.308Z"
   },
   {
    "duration": 14,
    "start_time": "2024-07-21T16:13:34.314Z"
   },
   {
    "duration": 166,
    "start_time": "2024-07-21T16:13:34.329Z"
   },
   {
    "duration": 6,
    "start_time": "2024-07-21T16:13:34.496Z"
   },
   {
    "duration": 5,
    "start_time": "2024-07-21T16:13:34.503Z"
   },
   {
    "duration": 255,
    "start_time": "2024-07-21T16:13:34.509Z"
   },
   {
    "duration": 4,
    "start_time": "2024-07-21T16:13:34.765Z"
   },
   {
    "duration": 12,
    "start_time": "2024-07-21T16:13:34.771Z"
   },
   {
    "duration": 5,
    "start_time": "2024-07-21T16:13:34.784Z"
   },
   {
    "duration": 9,
    "start_time": "2024-07-21T16:13:34.790Z"
   },
   {
    "duration": 9,
    "start_time": "2024-07-21T16:13:34.800Z"
   },
   {
    "duration": 6,
    "start_time": "2024-07-21T16:13:34.810Z"
   },
   {
    "duration": 4,
    "start_time": "2024-07-21T16:14:53.737Z"
   },
   {
    "duration": 4,
    "start_time": "2024-07-21T16:15:09.560Z"
   },
   {
    "duration": 5,
    "start_time": "2024-07-21T16:15:25.987Z"
   },
   {
    "duration": 12,
    "start_time": "2024-07-21T16:16:25.226Z"
   },
   {
    "duration": 1090,
    "start_time": "2024-07-21T16:17:00.963Z"
   },
   {
    "duration": 0,
    "start_time": "2024-07-21T16:17:02.054Z"
   },
   {
    "duration": 0,
    "start_time": "2024-07-21T16:17:02.055Z"
   },
   {
    "duration": 5,
    "start_time": "2024-07-21T16:17:02.396Z"
   },
   {
    "duration": 4,
    "start_time": "2024-07-21T16:17:02.756Z"
   },
   {
    "duration": 7,
    "start_time": "2024-07-21T16:17:02.900Z"
   },
   {
    "duration": 24,
    "start_time": "2024-07-21T16:17:03.097Z"
   },
   {
    "duration": 4,
    "start_time": "2024-07-21T16:17:03.657Z"
   },
   {
    "duration": 5,
    "start_time": "2024-07-21T16:17:04.996Z"
   },
   {
    "duration": 4,
    "start_time": "2024-07-21T16:17:28.756Z"
   },
   {
    "duration": 103,
    "start_time": "2024-07-21T16:17:28.909Z"
   },
   {
    "duration": 11,
    "start_time": "2024-07-21T16:17:29.056Z"
   },
   {
    "duration": 17,
    "start_time": "2024-07-21T16:17:29.243Z"
   },
   {
    "duration": 40,
    "start_time": "2024-07-21T16:17:29.422Z"
   },
   {
    "duration": 7,
    "start_time": "2024-07-21T16:17:29.548Z"
   },
   {
    "duration": 10,
    "start_time": "2024-07-21T16:17:29.751Z"
   },
   {
    "duration": 13,
    "start_time": "2024-07-21T16:17:29.867Z"
   },
   {
    "duration": 20,
    "start_time": "2024-07-21T16:17:30.708Z"
   },
   {
    "duration": 20,
    "start_time": "2024-07-21T16:17:30.888Z"
   },
   {
    "duration": 10,
    "start_time": "2024-07-21T16:17:31.188Z"
   },
   {
    "duration": 20,
    "start_time": "2024-07-21T16:17:31.352Z"
   },
   {
    "duration": 13,
    "start_time": "2024-07-21T16:17:31.528Z"
   },
   {
    "duration": 5,
    "start_time": "2024-07-21T16:17:31.860Z"
   },
   {
    "duration": 5,
    "start_time": "2024-07-21T16:17:32.018Z"
   },
   {
    "duration": 29,
    "start_time": "2024-07-21T16:17:32.340Z"
   },
   {
    "duration": 14,
    "start_time": "2024-07-21T16:17:32.507Z"
   },
   {
    "duration": 15,
    "start_time": "2024-07-21T16:17:32.807Z"
   },
   {
    "duration": 10,
    "start_time": "2024-07-21T16:17:33.616Z"
   },
   {
    "duration": 305,
    "start_time": "2024-07-21T16:17:33.902Z"
   },
   {
    "duration": 8,
    "start_time": "2024-07-21T16:17:34.210Z"
   },
   {
    "duration": 95,
    "start_time": "2024-07-21T16:17:34.890Z"
   },
   {
    "duration": 33,
    "start_time": "2024-07-21T16:17:35.484Z"
   },
   {
    "duration": 8,
    "start_time": "2024-07-21T16:17:35.641Z"
   },
   {
    "duration": 51,
    "start_time": "2024-07-21T16:17:36.572Z"
   },
   {
    "duration": 11,
    "start_time": "2024-07-21T16:17:36.712Z"
   },
   {
    "duration": 9,
    "start_time": "2024-07-21T16:17:37.510Z"
   },
   {
    "duration": 12,
    "start_time": "2024-07-21T16:17:38.038Z"
   },
   {
    "duration": 17,
    "start_time": "2024-07-21T16:17:38.374Z"
   },
   {
    "duration": 3096,
    "start_time": "2024-07-21T16:17:38.559Z"
   },
   {
    "duration": 7,
    "start_time": "2024-07-21T16:17:41.657Z"
   },
   {
    "duration": 10,
    "start_time": "2024-07-21T16:17:41.665Z"
   },
   {
    "duration": 4,
    "start_time": "2024-07-21T16:17:41.677Z"
   },
   {
    "duration": 7,
    "start_time": "2024-07-21T16:17:41.682Z"
   },
   {
    "duration": 304,
    "start_time": "2024-07-21T16:17:41.690Z"
   },
   {
    "duration": 8,
    "start_time": "2024-07-21T16:17:41.995Z"
   },
   {
    "duration": 831,
    "start_time": "2024-07-21T16:17:42.005Z"
   },
   {
    "duration": 23,
    "start_time": "2024-07-21T16:17:42.837Z"
   },
   {
    "duration": 15,
    "start_time": "2024-07-21T16:17:42.863Z"
   },
   {
    "duration": 19,
    "start_time": "2024-07-21T16:17:42.880Z"
   },
   {
    "duration": 13,
    "start_time": "2024-07-21T16:17:42.901Z"
   },
   {
    "duration": 4,
    "start_time": "2024-07-21T16:17:42.915Z"
   },
   {
    "duration": 15,
    "start_time": "2024-07-21T16:17:43.080Z"
   },
   {
    "duration": 13,
    "start_time": "2024-07-21T16:17:43.259Z"
   },
   {
    "duration": 7,
    "start_time": "2024-07-21T16:17:44.333Z"
   },
   {
    "duration": 28,
    "start_time": "2024-07-21T16:17:45.857Z"
   },
   {
    "duration": 4,
    "start_time": "2024-07-21T16:17:46.662Z"
   },
   {
    "duration": 22,
    "start_time": "2024-07-21T16:17:47.385Z"
   },
   {
    "duration": 5,
    "start_time": "2024-07-21T16:17:47.682Z"
   },
   {
    "duration": 4,
    "start_time": "2024-07-21T16:17:47.915Z"
   },
   {
    "duration": 8,
    "start_time": "2024-07-21T16:17:48.205Z"
   },
   {
    "duration": 29,
    "start_time": "2024-07-21T16:17:48.437Z"
   },
   {
    "duration": 4,
    "start_time": "2024-07-21T16:17:49.713Z"
   },
   {
    "duration": 4,
    "start_time": "2024-07-21T16:17:50.196Z"
   },
   {
    "duration": 3,
    "start_time": "2024-07-21T16:18:08.354Z"
   },
   {
    "duration": 101,
    "start_time": "2024-07-21T16:18:08.521Z"
   },
   {
    "duration": 10,
    "start_time": "2024-07-21T16:18:08.644Z"
   },
   {
    "duration": 17,
    "start_time": "2024-07-21T16:18:08.846Z"
   },
   {
    "duration": 28,
    "start_time": "2024-07-21T16:18:09.015Z"
   },
   {
    "duration": 7,
    "start_time": "2024-07-21T16:18:09.197Z"
   },
   {
    "duration": 10,
    "start_time": "2024-07-21T16:18:09.325Z"
   },
   {
    "duration": 11,
    "start_time": "2024-07-21T16:18:09.530Z"
   },
   {
    "duration": 19,
    "start_time": "2024-07-21T16:18:10.339Z"
   },
   {
    "duration": 20,
    "start_time": "2024-07-21T16:18:10.490Z"
   },
   {
    "duration": 7,
    "start_time": "2024-07-21T16:18:10.805Z"
   },
   {
    "duration": 12,
    "start_time": "2024-07-21T16:18:10.996Z"
   },
   {
    "duration": 10,
    "start_time": "2024-07-21T16:18:11.180Z"
   },
   {
    "duration": 5,
    "start_time": "2024-07-21T16:18:11.500Z"
   },
   {
    "duration": 6,
    "start_time": "2024-07-21T16:18:11.665Z"
   },
   {
    "duration": 29,
    "start_time": "2024-07-21T16:18:11.987Z"
   },
   {
    "duration": 15,
    "start_time": "2024-07-21T16:18:12.159Z"
   },
   {
    "duration": 13,
    "start_time": "2024-07-21T16:18:12.482Z"
   },
   {
    "duration": 10,
    "start_time": "2024-07-21T16:18:13.442Z"
   },
   {
    "duration": 289,
    "start_time": "2024-07-21T16:18:13.802Z"
   },
   {
    "duration": 7,
    "start_time": "2024-07-21T16:18:14.157Z"
   },
   {
    "duration": 199,
    "start_time": "2024-07-21T16:18:14.840Z"
   },
   {
    "duration": 34,
    "start_time": "2024-07-21T16:18:15.516Z"
   },
   {
    "duration": 9,
    "start_time": "2024-07-21T16:18:15.671Z"
   },
   {
    "duration": 50,
    "start_time": "2024-07-21T16:18:17.053Z"
   },
   {
    "duration": 8,
    "start_time": "2024-07-21T16:18:17.203Z"
   },
   {
    "duration": 10,
    "start_time": "2024-07-21T16:18:18.191Z"
   },
   {
    "duration": 10,
    "start_time": "2024-07-21T16:18:18.610Z"
   },
   {
    "duration": 12,
    "start_time": "2024-07-21T16:18:19.210Z"
   },
   {
    "duration": 3159,
    "start_time": "2024-07-21T16:18:19.579Z"
   },
   {
    "duration": 6,
    "start_time": "2024-07-21T16:18:22.740Z"
   },
   {
    "duration": 44,
    "start_time": "2024-07-21T16:18:22.747Z"
   },
   {
    "duration": 30,
    "start_time": "2024-07-21T16:18:22.793Z"
   },
   {
    "duration": 22,
    "start_time": "2024-07-21T16:18:22.824Z"
   },
   {
    "duration": 322,
    "start_time": "2024-07-21T16:18:22.847Z"
   },
   {
    "duration": 35,
    "start_time": "2024-07-21T16:18:23.170Z"
   },
   {
    "duration": 874,
    "start_time": "2024-07-21T16:18:23.207Z"
   },
   {
    "duration": 11,
    "start_time": "2024-07-21T16:18:24.083Z"
   },
   {
    "duration": 42,
    "start_time": "2024-07-21T16:18:24.096Z"
   },
   {
    "duration": 51,
    "start_time": "2024-07-21T16:18:24.140Z"
   },
   {
    "duration": 46,
    "start_time": "2024-07-21T16:18:24.193Z"
   },
   {
    "duration": 32,
    "start_time": "2024-07-21T16:18:24.241Z"
   },
   {
    "duration": 29,
    "start_time": "2024-07-21T16:18:24.275Z"
   },
   {
    "duration": 12,
    "start_time": "2024-07-21T16:18:24.558Z"
   },
   {
    "duration": 7,
    "start_time": "2024-07-21T16:18:25.381Z"
   },
   {
    "duration": 26,
    "start_time": "2024-07-21T16:18:26.705Z"
   },
   {
    "duration": 5,
    "start_time": "2024-07-21T16:18:26.920Z"
   },
   {
    "duration": 20,
    "start_time": "2024-07-21T16:18:27.299Z"
   },
   {
    "duration": 4,
    "start_time": "2024-07-21T16:18:27.455Z"
   },
   {
    "duration": 4,
    "start_time": "2024-07-21T16:18:27.672Z"
   },
   {
    "duration": 7,
    "start_time": "2024-07-21T16:18:27.910Z"
   },
   {
    "duration": 24,
    "start_time": "2024-07-21T16:18:28.097Z"
   },
   {
    "duration": 3,
    "start_time": "2024-07-21T16:18:28.432Z"
   },
   {
    "duration": 4,
    "start_time": "2024-07-21T16:18:28.605Z"
   },
   {
    "duration": 13,
    "start_time": "2024-07-21T16:18:29.136Z"
   },
   {
    "duration": 4,
    "start_time": "2024-07-21T16:19:03.271Z"
   },
   {
    "duration": 4,
    "start_time": "2024-07-21T16:19:52.473Z"
   },
   {
    "duration": 100,
    "start_time": "2024-07-21T16:19:52.632Z"
   },
   {
    "duration": 10,
    "start_time": "2024-07-21T16:19:52.779Z"
   },
   {
    "duration": 17,
    "start_time": "2024-07-21T16:19:52.955Z"
   },
   {
    "duration": 27,
    "start_time": "2024-07-21T16:19:53.129Z"
   },
   {
    "duration": 8,
    "start_time": "2024-07-21T16:19:53.309Z"
   },
   {
    "duration": 10,
    "start_time": "2024-07-21T16:19:53.485Z"
   },
   {
    "duration": 11,
    "start_time": "2024-07-21T16:19:53.660Z"
   },
   {
    "duration": 20,
    "start_time": "2024-07-21T16:19:54.501Z"
   },
   {
    "duration": 20,
    "start_time": "2024-07-21T16:19:54.685Z"
   },
   {
    "duration": 6,
    "start_time": "2024-07-21T16:19:54.997Z"
   },
   {
    "duration": 13,
    "start_time": "2024-07-21T16:19:55.189Z"
   },
   {
    "duration": 10,
    "start_time": "2024-07-21T16:19:55.289Z"
   },
   {
    "duration": 5,
    "start_time": "2024-07-21T16:19:55.730Z"
   },
   {
    "duration": 5,
    "start_time": "2024-07-21T16:19:55.760Z"
   },
   {
    "duration": 31,
    "start_time": "2024-07-21T16:19:56.067Z"
   },
   {
    "duration": 15,
    "start_time": "2024-07-21T16:19:56.225Z"
   },
   {
    "duration": 14,
    "start_time": "2024-07-21T16:19:56.534Z"
   },
   {
    "duration": 10,
    "start_time": "2024-07-21T16:19:57.330Z"
   },
   {
    "duration": 247,
    "start_time": "2024-07-21T16:19:57.640Z"
   },
   {
    "duration": 9,
    "start_time": "2024-07-21T16:19:57.971Z"
   },
   {
    "duration": 91,
    "start_time": "2024-07-21T16:19:58.611Z"
   },
   {
    "duration": 31,
    "start_time": "2024-07-21T16:19:59.226Z"
   },
   {
    "duration": 9,
    "start_time": "2024-07-21T16:19:59.379Z"
   },
   {
    "duration": 54,
    "start_time": "2024-07-21T16:20:00.343Z"
   },
   {
    "duration": 9,
    "start_time": "2024-07-21T16:20:00.510Z"
   },
   {
    "duration": 10,
    "start_time": "2024-07-21T16:20:01.679Z"
   },
   {
    "duration": 43,
    "start_time": "2024-07-21T16:20:01.713Z"
   },
   {
    "duration": 14,
    "start_time": "2024-07-21T16:20:02.194Z"
   },
   {
    "duration": 3417,
    "start_time": "2024-07-21T16:20:02.546Z"
   },
   {
    "duration": 8,
    "start_time": "2024-07-21T16:20:05.965Z"
   },
   {
    "duration": 30,
    "start_time": "2024-07-21T16:20:05.975Z"
   },
   {
    "duration": 26,
    "start_time": "2024-07-21T16:20:06.007Z"
   },
   {
    "duration": 16,
    "start_time": "2024-07-21T16:20:06.035Z"
   },
   {
    "duration": 317,
    "start_time": "2024-07-21T16:20:06.053Z"
   },
   {
    "duration": 6,
    "start_time": "2024-07-21T16:20:06.371Z"
   },
   {
    "duration": 813,
    "start_time": "2024-07-21T16:20:06.379Z"
   },
   {
    "duration": 14,
    "start_time": "2024-07-21T16:20:07.193Z"
   },
   {
    "duration": 14,
    "start_time": "2024-07-21T16:20:07.209Z"
   },
   {
    "duration": 39,
    "start_time": "2024-07-21T16:20:07.225Z"
   },
   {
    "duration": 16,
    "start_time": "2024-07-21T16:20:07.265Z"
   },
   {
    "duration": 6,
    "start_time": "2024-07-21T16:20:07.283Z"
   },
   {
    "duration": 15,
    "start_time": "2024-07-21T16:20:07.291Z"
   },
   {
    "duration": 33,
    "start_time": "2024-07-21T16:20:07.307Z"
   },
   {
    "duration": 6,
    "start_time": "2024-07-21T16:20:09.106Z"
   },
   {
    "duration": 42,
    "start_time": "2024-07-21T16:20:11.277Z"
   },
   {
    "duration": 7,
    "start_time": "2024-07-21T16:20:11.688Z"
   },
   {
    "duration": 4,
    "start_time": "2024-07-21T16:20:12.559Z"
   },
   {
    "duration": 20,
    "start_time": "2024-07-21T16:20:13.220Z"
   },
   {
    "duration": 5,
    "start_time": "2024-07-21T16:20:13.655Z"
   },
   {
    "duration": 5,
    "start_time": "2024-07-21T16:20:13.964Z"
   },
   {
    "duration": 8,
    "start_time": "2024-07-21T16:20:14.167Z"
   },
   {
    "duration": 25,
    "start_time": "2024-07-21T16:20:14.404Z"
   },
   {
    "duration": 3,
    "start_time": "2024-07-21T16:20:14.956Z"
   },
   {
    "duration": 18,
    "start_time": "2024-07-21T16:20:14.962Z"
   },
   {
    "duration": 14,
    "start_time": "2024-07-21T16:20:15.705Z"
   },
   {
    "duration": 6,
    "start_time": "2024-07-21T16:20:17.650Z"
   },
   {
    "duration": 5,
    "start_time": "2024-07-21T16:21:20.986Z"
   },
   {
    "duration": 4,
    "start_time": "2024-07-21T16:21:23.176Z"
   },
   {
    "duration": 5,
    "start_time": "2024-07-21T16:21:34.365Z"
   },
   {
    "duration": 10,
    "start_time": "2024-07-21T16:21:46.493Z"
   },
   {
    "duration": 140,
    "start_time": "2024-07-21T16:21:47.893Z"
   },
   {
    "duration": 5,
    "start_time": "2024-07-21T16:22:46.165Z"
   },
   {
    "duration": 11,
    "start_time": "2024-07-21T16:22:49.158Z"
   },
   {
    "duration": 314,
    "start_time": "2024-07-21T16:22:55.898Z"
   },
   {
    "duration": 5,
    "start_time": "2024-07-21T16:23:06.685Z"
   },
   {
    "duration": 27,
    "start_time": "2024-07-21T16:24:21.547Z"
   },
   {
    "duration": 4,
    "start_time": "2024-07-21T16:25:33.069Z"
   },
   {
    "duration": 20,
    "start_time": "2024-07-21T16:25:34.974Z"
   },
   {
    "duration": 4,
    "start_time": "2024-07-21T16:25:36.284Z"
   },
   {
    "duration": 299,
    "start_time": "2024-07-21T16:25:37.093Z"
   },
   {
    "duration": 4,
    "start_time": "2024-07-21T16:25:38.351Z"
   },
   {
    "duration": 4,
    "start_time": "2024-07-21T16:26:06.331Z"
   },
   {
    "duration": 273,
    "start_time": "2024-07-21T16:26:06.977Z"
   },
   {
    "duration": 5,
    "start_time": "2024-07-21T16:26:07.705Z"
   },
   {
    "duration": 11,
    "start_time": "2024-07-21T16:26:18.339Z"
   },
   {
    "duration": 305,
    "start_time": "2024-07-21T16:32:12.643Z"
   },
   {
    "duration": 941,
    "start_time": "2024-07-21T16:32:31.607Z"
   },
   {
    "duration": 8,
    "start_time": "2024-07-21T16:32:54.848Z"
   },
   {
    "duration": 4,
    "start_time": "2024-07-21T16:33:14.176Z"
   },
   {
    "duration": 5,
    "start_time": "2024-07-21T16:33:25.963Z"
   },
   {
    "duration": 278,
    "start_time": "2024-07-21T16:33:26.707Z"
   },
   {
    "duration": 7,
    "start_time": "2024-07-21T16:33:27.138Z"
   },
   {
    "duration": 4,
    "start_time": "2024-07-21T16:33:27.496Z"
   },
   {
    "duration": 13,
    "start_time": "2024-07-21T16:33:27.880Z"
   },
   {
    "duration": 12,
    "start_time": "2024-07-21T16:33:44.030Z"
   },
   {
    "duration": 3,
    "start_time": "2024-07-21T16:34:04.087Z"
   },
   {
    "duration": 102,
    "start_time": "2024-07-21T16:34:04.224Z"
   },
   {
    "duration": 11,
    "start_time": "2024-07-21T16:34:04.375Z"
   },
   {
    "duration": 18,
    "start_time": "2024-07-21T16:34:04.512Z"
   },
   {
    "duration": 27,
    "start_time": "2024-07-21T16:34:04.692Z"
   },
   {
    "duration": 7,
    "start_time": "2024-07-21T16:34:04.865Z"
   },
   {
    "duration": 11,
    "start_time": "2024-07-21T16:34:05.065Z"
   },
   {
    "duration": 11,
    "start_time": "2024-07-21T16:34:05.217Z"
   },
   {
    "duration": 20,
    "start_time": "2024-07-21T16:34:05.990Z"
   },
   {
    "duration": 20,
    "start_time": "2024-07-21T16:34:06.150Z"
   },
   {
    "duration": 6,
    "start_time": "2024-07-21T16:34:06.450Z"
   },
   {
    "duration": 12,
    "start_time": "2024-07-21T16:34:06.660Z"
   },
   {
    "duration": 14,
    "start_time": "2024-07-21T16:34:06.771Z"
   },
   {
    "duration": 5,
    "start_time": "2024-07-21T16:34:07.056Z"
   },
   {
    "duration": 6,
    "start_time": "2024-07-21T16:34:07.351Z"
   },
   {
    "duration": 30,
    "start_time": "2024-07-21T16:34:07.640Z"
   },
   {
    "duration": 14,
    "start_time": "2024-07-21T16:34:07.790Z"
   },
   {
    "duration": 15,
    "start_time": "2024-07-21T16:34:08.101Z"
   },
   {
    "duration": 10,
    "start_time": "2024-07-21T16:34:08.834Z"
   },
   {
    "duration": 234,
    "start_time": "2024-07-21T16:34:09.163Z"
   },
   {
    "duration": 9,
    "start_time": "2024-07-21T16:34:09.492Z"
   },
   {
    "duration": 100,
    "start_time": "2024-07-21T16:34:10.083Z"
   },
   {
    "duration": 36,
    "start_time": "2024-07-21T16:34:10.702Z"
   },
   {
    "duration": 9,
    "start_time": "2024-07-21T16:34:10.873Z"
   },
   {
    "duration": 54,
    "start_time": "2024-07-21T16:34:11.994Z"
   },
   {
    "duration": 9,
    "start_time": "2024-07-21T16:34:12.049Z"
   },
   {
    "duration": 8,
    "start_time": "2024-07-21T16:34:12.844Z"
   },
   {
    "duration": 11,
    "start_time": "2024-07-21T16:34:13.110Z"
   },
   {
    "duration": 13,
    "start_time": "2024-07-21T16:34:13.604Z"
   },
   {
    "duration": 3163,
    "start_time": "2024-07-21T16:34:13.933Z"
   },
   {
    "duration": 7,
    "start_time": "2024-07-21T16:34:17.098Z"
   },
   {
    "duration": 16,
    "start_time": "2024-07-21T16:34:17.107Z"
   },
   {
    "duration": 6,
    "start_time": "2024-07-21T16:34:17.126Z"
   },
   {
    "duration": 9,
    "start_time": "2024-07-21T16:34:17.134Z"
   },
   {
    "duration": 299,
    "start_time": "2024-07-21T16:34:17.144Z"
   },
   {
    "duration": 21,
    "start_time": "2024-07-21T16:34:17.445Z"
   },
   {
    "duration": 852,
    "start_time": "2024-07-21T16:34:17.467Z"
   },
   {
    "duration": 24,
    "start_time": "2024-07-21T16:34:18.321Z"
   },
   {
    "duration": 14,
    "start_time": "2024-07-21T16:34:18.347Z"
   },
   {
    "duration": 18,
    "start_time": "2024-07-21T16:34:18.363Z"
   },
   {
    "duration": 12,
    "start_time": "2024-07-21T16:34:18.383Z"
   },
   {
    "duration": 5,
    "start_time": "2024-07-21T16:34:18.397Z"
   },
   {
    "duration": 14,
    "start_time": "2024-07-21T16:34:18.403Z"
   },
   {
    "duration": 14,
    "start_time": "2024-07-21T16:34:19.366Z"
   },
   {
    "duration": 12,
    "start_time": "2024-07-21T16:34:19.382Z"
   },
   {
    "duration": 27,
    "start_time": "2024-07-21T16:34:19.419Z"
   },
   {
    "duration": 5,
    "start_time": "2024-07-21T16:34:19.498Z"
   },
   {
    "duration": 4,
    "start_time": "2024-07-21T16:34:19.663Z"
   },
   {
    "duration": 20,
    "start_time": "2024-07-21T16:34:19.848Z"
   },
   {
    "duration": 5,
    "start_time": "2024-07-21T16:34:20.002Z"
   },
   {
    "duration": 4,
    "start_time": "2024-07-21T16:34:20.225Z"
   },
   {
    "duration": 8,
    "start_time": "2024-07-21T16:34:20.598Z"
   },
   {
    "duration": 31,
    "start_time": "2024-07-21T16:34:20.608Z"
   },
   {
    "duration": 4,
    "start_time": "2024-07-21T16:34:20.908Z"
   },
   {
    "duration": 4,
    "start_time": "2024-07-21T16:34:21.081Z"
   },
   {
    "duration": 12,
    "start_time": "2024-07-21T16:34:21.290Z"
   },
   {
    "duration": 5,
    "start_time": "2024-07-21T16:34:21.603Z"
   },
   {
    "duration": 3,
    "start_time": "2024-07-21T16:34:21.809Z"
   },
   {
    "duration": 5,
    "start_time": "2024-07-21T16:34:21.980Z"
   },
   {
    "duration": 10,
    "start_time": "2024-07-21T16:34:22.318Z"
   },
   {
    "duration": 118,
    "start_time": "2024-07-21T16:34:22.498Z"
   },
   {
    "duration": 4,
    "start_time": "2024-07-21T16:34:23.667Z"
   },
   {
    "duration": 17,
    "start_time": "2024-07-21T16:34:23.841Z"
   },
   {
    "duration": 4,
    "start_time": "2024-07-21T16:34:24.044Z"
   },
   {
    "duration": 294,
    "start_time": "2024-07-21T16:34:24.185Z"
   },
   {
    "duration": 24,
    "start_time": "2024-07-21T16:34:24.481Z"
   },
   {
    "duration": 7,
    "start_time": "2024-07-21T16:34:24.506Z"
   },
   {
    "duration": 13,
    "start_time": "2024-07-21T16:34:24.683Z"
   },
   {
    "duration": 7,
    "start_time": "2024-07-21T16:34:26.128Z"
   },
   {
    "duration": 6,
    "start_time": "2024-07-21T16:34:26.604Z"
   },
   {
    "duration": 10,
    "start_time": "2024-07-21T16:34:27.028Z"
   },
   {
    "duration": 5,
    "start_time": "2024-07-21T16:34:27.378Z"
   }
  ],
  "kernelspec": {
   "display_name": "Python 3 (ipykernel)",
   "language": "python",
   "name": "python3"
  },
  "language_info": {
   "codemirror_mode": {
    "name": "ipython",
    "version": 3
   },
   "file_extension": ".py",
   "mimetype": "text/x-python",
   "name": "python",
   "nbconvert_exporter": "python",
   "pygments_lexer": "ipython3",
   "version": "3.9.5"
  },
  "toc": {
   "base_numbering": 1,
   "nav_menu": {},
   "number_sections": true,
   "sideBar": true,
   "skip_h1_title": true,
   "title_cell": "Table of Contents",
   "title_sidebar": "Contents",
   "toc_cell": false,
   "toc_position": {},
   "toc_section_display": true,
   "toc_window_display": true
  }
 },
 "nbformat": 4,
 "nbformat_minor": 2
}
